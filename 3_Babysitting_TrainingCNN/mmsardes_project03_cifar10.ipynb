{
 "cells": [
  {
   "cell_type": "markdown",
   "metadata": {},
   "source": [
    "# ECE 763 - Computer Vision - Project 03\n",
    "## Babysitting the training of a Network\n",
    "\n",
    "### mmsardes "
   ]
  },
  {
   "cell_type": "markdown",
   "metadata": {},
   "source": [
    "#### Import libraries\n",
    "<p>Keras Sequential API was used to build the network. The CIFAR datasets was downloaded from keras datasets. \n",
    "Babysitting the training of a DNN is important as the final network performance depends a lot on how you set the hyper-parameters, how you initialize the weights, for how long you train the network etc. You don't want to over-train, or over-fit the model as it would lead to loss of generalization. General steps followed while training a DNN are \n",
    "1. Pre-process the Data and select Data Augmentation schemes. \n",
    "2. Choose architecture of the network \n",
    "3. Double check if the loss is reasonable. \n",
    "4. Hyperparameter tuning \n",
    "    </p>\n"
   ]
  },
  {
   "cell_type": "code",
   "execution_count": 1,
   "metadata": {
    "colab": {},
    "colab_type": "code",
    "id": "BF8yKHprcr4W",
    "scrolled": true
   },
   "outputs": [],
   "source": [
    "import tensorflow as tf\n",
    "import matplotlib.pyplot as plt\n",
    "from tensorflow.keras import Sequential\n",
    "from tensorflow.keras.layers import Flatten, Dense, Conv2D, MaxPool2D, Dropout, Reshape, BatchNormalization, Activation\n",
    "from tensorflow.keras import optimizers, regularizers\n",
    "from sklearn.model_selection import train_test_split\n",
    "import numpy as np\n",
    "from tqdm import tqdm"
   ]
  },
  {
   "cell_type": "markdown",
   "metadata": {},
   "source": [
    "#### Import and preprocess the data. \n",
    "<p> Preprocessing scheme was standard scaling by subtracting mean and dividing by the standard deviation. A basic preprocessing operation is done by subtracting the mean and dividing by the standard deviation over the dataset. This is basically zero centering the data. This makes the model less sensitive to small changes in weights and makes it easier to optimize. It also reduces the effect of outliers to some extent as the range of the data is restricted. </p>"
   ]
  },
  {
   "cell_type": "code",
   "execution_count": 2,
   "metadata": {
    "scrolled": true
   },
   "outputs": [],
   "source": [
    "from tensorflow.keras.datasets import cifar10\n",
    "(X_train, y_train), (X_test, y_test) = cifar10.load_data()\n",
    "#conv to float\n",
    "(X_train, y_train), (X_test, y_test)=(X_train.astype('float32'), y_train), (X_test.astype('float32'), y_test)\n",
    "#class_names for cifar\n",
    "class_name = ['airplane','automobile','bird','cat','deer','dog','frog','horse','ship','truck']\n",
    "num_classes = len(class_name)\n",
    "preprocess_flag=True"
   ]
  },
  {
   "cell_type": "code",
   "execution_count": 3,
   "metadata": {
    "colab": {},
    "colab_type": "code",
    "id": "YWzLGmnfddGv",
    "scrolled": true
   },
   "outputs": [],
   "source": [
    "def preprocess_data(X_train, X_test):\n",
    "    X_train-=np.mean(X_train,axis=0)\n",
    "    X_test-=np.mean(X_test,axis=0)\n",
    "    X_train/=np.std(X_train,axis=0)\n",
    "    X_test/=np.std(X_test,axis=0)\n",
    "    return X_train, X_test\n",
    "if preprocess_flag==True:\n",
    "    X_train, X_test=preprocess_data(X_train, X_test)"
   ]
  },
  {
   "cell_type": "code",
   "execution_count": 4,
   "metadata": {
    "scrolled": true
   },
   "outputs": [],
   "source": [
    "#shape of the image data. \n",
    "iRows,iCols=X_train[0].shape[0],X_train[0].shape[1]"
   ]
  },
  {
   "cell_type": "code",
   "execution_count": 5,
   "metadata": {
    "scrolled": true
   },
   "outputs": [],
   "source": [
    "X_train, X_val, y_train, y_val = train_test_split(X_train, y_train)"
   ]
  },
  {
   "cell_type": "markdown",
   "metadata": {
    "colab_type": "text",
    "id": "W4JqLMAYdkDC"
   },
   "source": [
    "### Build the CNN \n",
    "<p> Here I have chosen a basic CNN with 3 layers. 32, 64, 128 filters in the three layers. All of them being 3x3 filters with a stride of 1. All the convolutional blocks are followed by 2x2 maxpool blocks. In the end the result is flattened and connected to a FCN with one hidden layer with 128 neurons and a softmax layer with 10 units as there are 10 classes in CIFAR. All the layers have 'relu' activations. The model is created using the Sequential API in Keras. Conditions are added to tweak the network if batchnormalization and dropout is desired.</p> "
   ]
  },
  {
   "cell_type": "code",
   "execution_count": 6,
   "metadata": {
    "scrolled": true
   },
   "outputs": [],
   "source": [
    "#model hyperparam - Intial\n",
    "LEARNING_RATE=1e-4\n",
    "EPOCHS=10\n",
    "L2_REG=0\n",
    "BATCH_SIZE=32\n",
    "DROPOUT=0.5"
   ]
  },
  {
   "cell_type": "code",
   "execution_count": 7,
   "metadata": {
    "colab": {},
    "colab_type": "code",
    "id": "IFCl2SqudvNa",
    "scrolled": true
   },
   "outputs": [],
   "source": [
    "#Function to create model according to given conditions. \n",
    "def create_model(num_clases,L2_REG, drop=False, bnorm=False):\n",
    "    model = Sequential()\n",
    "    if drop==True:\n",
    "        model.add(Conv2D(filters=32, kernel_size=(3,3), padding= 'same', activation='relu',input_shape = (iRows, iCols,3)))\n",
    "        model.add(MaxPool2D(pool_size=(2,2), strides = 2, padding='same'))\n",
    "        model.add(Dropout(DROPOUT))\n",
    "        model.add(Conv2D(filters=64, kernel_size=(3,3), padding= 'same', activation='relu',kernel_regularizer=regularizers.l2(L2_REG), bias_regularizer=regularizers.l2(L2_REG)))\n",
    "        model.add(MaxPool2D(pool_size=(2,2), strides = 2, padding='same'))\n",
    "\n",
    "        model.add(Conv2D(filters=128, kernel_size=(3,3), padding= 'same', activation='relu', kernel_regularizer=regularizers.l2(L2_REG), bias_regularizer=regularizers.l2(L2_REG)))\n",
    "        model.add(MaxPool2D(pool_size=(2,2), strides = 2, padding='same'))\n",
    "        model.add(Dropout(DROPOUT))\n",
    "\n",
    "        model.add(Flatten())\n",
    "        model.add(Dense(units = 128, activation='relu', kernel_regularizer=regularizers.l2(L2_REG), bias_regularizer=regularizers.l2(L2_REG)))\n",
    "        model.add(Dense(units=num_classes,activation='softmax'))\n",
    "    elif bnorm==True:\n",
    "        model.add(Conv2D(filters=32, kernel_size=(3,3), padding= 'same',input_shape = (iRows, iCols,3)))\n",
    "        model.add(BatchNormalization())\n",
    "        model.add(Activation('relu'))\n",
    "        model.add(MaxPool2D(pool_size=(2,2), strides = 2, padding='same'))\n",
    "        \n",
    "        model.add(Conv2D(filters=64, kernel_size=(3,3), padding= 'same', kernel_regularizer=regularizers.l2(L2_REG), use_bias=False))\n",
    "        model.add(BatchNormalization())\n",
    "        model.add(Activation('relu'))\n",
    "        model.add(MaxPool2D(pool_size=(2,2), strides = 2, padding='same'))\n",
    "\n",
    "        model.add(Conv2D(filters=128, kernel_size=(3,3), padding= 'same', kernel_regularizer=regularizers.l2(L2_REG), use_bias=False))\n",
    "        model.add(BatchNormalization())\n",
    "        model.add(Activation('relu'))\n",
    "        model.add(MaxPool2D(pool_size=(2,2), strides = 2, padding='same'))\n",
    "\n",
    "        model.add(Flatten())\n",
    "        model.add(Dense(units = 128, kernel_regularizer=regularizers.l2(L2_REG), use_bias=False))\n",
    "        model.add(BatchNormalization())\n",
    "        model.add(Activation('relu'))\n",
    "        model.add(Dense(units=num_classes,activation='softmax'))\n",
    "    else:\n",
    "        model.add(Conv2D(filters=32, kernel_size=(3,3), padding= 'same', activation='relu',input_shape = (iRows, iCols,3)))\n",
    "        model.add(MaxPool2D(pool_size=(2,2), strides = 2, padding='same'))\n",
    "    \n",
    "        model.add(Conv2D(filters=64, kernel_size=(3,3), padding= 'same', activation='relu',kernel_regularizer=regularizers.l2(L2_REG), bias_regularizer=regularizers.l2(L2_REG)))\n",
    "        model.add(MaxPool2D(pool_size=(2,2), strides = 2, padding='same'))\n",
    "\n",
    "        model.add(Conv2D(filters=128, kernel_size=(3,3), padding= 'same', activation='relu', kernel_regularizer=regularizers.l2(L2_REG), bias_regularizer=regularizers.l2(L2_REG)))\n",
    "        model.add(MaxPool2D(pool_size=(2,2), strides = 2, padding='same'))\n",
    "\n",
    "        model.add(Flatten())\n",
    "        model.add(Dense(units = 128, activation='relu', kernel_regularizer=regularizers.l2(L2_REG), bias_regularizer=regularizers.l2(L2_REG)))\n",
    "        model.add(Dense(units=num_classes,activation='softmax'))\n",
    "    return model "
   ]
  },
  {
   "cell_type": "code",
   "execution_count": 8,
   "metadata": {
    "colab": {
     "base_uri": "https://localhost:8080/",
     "height": 588
    },
    "colab_type": "code",
    "id": "hO9C8RVWoHUZ",
    "outputId": "ba5c068b-84a6-4bdc-c26c-f1d708c1ebf9",
    "scrolled": false
   },
   "outputs": [
    {
     "name": "stdout",
     "output_type": "stream",
     "text": [
      "WARNING:tensorflow:From C:\\Users\\sarde\\Anaconda3\\envs\\tensorflow\\lib\\site-packages\\tensorflow_core\\python\\ops\\resource_variable_ops.py:1630: calling BaseResourceVariable.__init__ (from tensorflow.python.ops.resource_variable_ops) with constraint is deprecated and will be removed in a future version.\n",
      "Instructions for updating:\n",
      "If using Keras pass *_constraint arguments to layers.\n",
      "Model: \"sequential\"\n",
      "_________________________________________________________________\n",
      "Layer (type)                 Output Shape              Param #   \n",
      "=================================================================\n",
      "conv2d (Conv2D)              (None, 32, 32, 32)        896       \n",
      "_________________________________________________________________\n",
      "max_pooling2d (MaxPooling2D) (None, 16, 16, 32)        0         \n",
      "_________________________________________________________________\n",
      "conv2d_1 (Conv2D)            (None, 16, 16, 64)        18496     \n",
      "_________________________________________________________________\n",
      "max_pooling2d_1 (MaxPooling2 (None, 8, 8, 64)          0         \n",
      "_________________________________________________________________\n",
      "conv2d_2 (Conv2D)            (None, 8, 8, 128)         73856     \n",
      "_________________________________________________________________\n",
      "max_pooling2d_2 (MaxPooling2 (None, 4, 4, 128)         0         \n",
      "_________________________________________________________________\n",
      "flatten (Flatten)            (None, 2048)              0         \n",
      "_________________________________________________________________\n",
      "dense (Dense)                (None, 128)               262272    \n",
      "_________________________________________________________________\n",
      "dense_1 (Dense)              (None, 10)                1290      \n",
      "=================================================================\n",
      "Total params: 356,810\n",
      "Trainable params: 356,810\n",
      "Non-trainable params: 0\n",
      "_________________________________________________________________\n"
     ]
    }
   ],
   "source": [
    "model=create_model(num_classes,L2_REG)\n",
    "model.summary()"
   ]
  },
  {
   "cell_type": "markdown",
   "metadata": {},
   "source": [
    "#### Compile and evaluate the Initial loss as a sanity check \n",
    "<p> The initial loss should come up to be around 2.3 for 10 classes with no regularization applied. </p>"
   ]
  },
  {
   "cell_type": "code",
   "execution_count": 9,
   "metadata": {
    "colab": {},
    "colab_type": "code",
    "id": "LzVy2YXrobx3",
    "scrolled": true
   },
   "outputs": [],
   "source": [
    "model.compile(optimizer=optimizers.SGD(learning_rate=LEARNING_RATE),loss='sparse_categorical_crossentropy',metrics=['sparse_categorical_accuracy'])"
   ]
  },
  {
   "cell_type": "code",
   "execution_count": 10,
   "metadata": {
    "scrolled": true
   },
   "outputs": [
    {
     "name": "stdout",
     "output_type": "stream",
     "text": [
      "37500/37500 [==============================] - 4s 103us/sample - loss: 2.3217 - sparse_categorical_accuracy: 0.1025s - loss: 2.3222 - spar\n"
     ]
    },
    {
     "data": {
      "text/plain": [
       "[2.3217368571217856, 0.10253333]"
      ]
     },
     "execution_count": 10,
     "metadata": {},
     "output_type": "execute_result"
    }
   ],
   "source": [
    "model.evaluate(X_train,y_train)"
   ]
  },
  {
   "cell_type": "markdown",
   "metadata": {},
   "source": [
    "#### Crank up regularization \n",
    "Sanity check: If we crank up the regularization we get a higher loss as expected. "
   ]
  },
  {
   "cell_type": "code",
   "execution_count": 11,
   "metadata": {
    "scrolled": true
   },
   "outputs": [
    {
     "name": "stdout",
     "output_type": "stream",
     "text": [
      "37500/37500 [==============================] - 3s 67us/sample - loss: 369954.6348 - sparse_categorical_accuracy: 0.0990\n"
     ]
    },
    {
     "data": {
      "text/plain": [
       "[369954.63481, 0.099013336]"
      ]
     },
     "execution_count": 11,
     "metadata": {},
     "output_type": "execute_result"
    }
   ],
   "source": [
    "#model hyperparam\n",
    "LEARNING_RATE=1e-4\n",
    "EPOCHS=10\n",
    "L2_REG=1e3\n",
    "\n",
    "model=create_model(num_classes,L2_REG)\n",
    "model.compile(optimizer=optimizers.SGD(learning_rate=LEARNING_RATE),loss='sparse_categorical_crossentropy',metrics=['sparse_categorical_accuracy'])\n",
    "model.evaluate(X_train, y_train)"
   ]
  },
  {
   "cell_type": "markdown",
   "metadata": {},
   "source": [
    "#### Try to overfit a small portion of data. \n",
    "We try to overfit the small portion of the data as a sanity check with no regularization and vanilla SGD optimizer. This ensures that our model is actually learning and the loss is going down. We verify this using the training accuracy (It should reach 100% theoretically). We can also see that the model reaches a very small loss as we reach the last epoch. That's a good sanity check. "
   ]
  },
  {
   "cell_type": "code",
   "execution_count": 14,
   "metadata": {
    "scrolled": true
   },
   "outputs": [],
   "source": [
    "#model hyperparam\n",
    "LEARNING_RATE=1e-3\n",
    "EPOCHS=100\n",
    "L2_REG=0\n",
    "\n",
    "X_tiny=X_train[:20]\n",
    "y_tiny=y_train[:20]\n"
   ]
  },
  {
   "cell_type": "code",
   "execution_count": 15,
   "metadata": {
    "scrolled": true
   },
   "outputs": [
    {
     "name": "stdout",
     "output_type": "stream",
     "text": [
      "Train on 20 samples\n",
      "Epoch 1/100\n",
      "20/20 [==============================] - 0s 4ms/sample - loss: 2.3171 - sparse_categorical_accuracy: 0.0500\n",
      "Epoch 2/100\n",
      "20/20 [==============================] - 0s 2ms/sample - loss: 2.2703 - sparse_categorical_accuracy: 0.1500\n",
      "Epoch 3/100\n",
      "20/20 [==============================] - 0s 2ms/sample - loss: 2.2323 - sparse_categorical_accuracy: 0.1000\n",
      "Epoch 4/100\n",
      "20/20 [==============================] - 0s 1ms/sample - loss: 2.1918 - sparse_categorical_accuracy: 0.2000\n",
      "Epoch 5/100\n",
      "20/20 [==============================] - 0s 1ms/sample - loss: 2.1551 - sparse_categorical_accuracy: 0.2500\n",
      "Epoch 6/100\n",
      "20/20 [==============================] - 0s 1ms/sample - loss: 2.1266 - sparse_categorical_accuracy: 0.2500\n",
      "Epoch 7/100\n",
      "20/20 [==============================] - 0s 1ms/sample - loss: 2.0933 - sparse_categorical_accuracy: 0.2500\n",
      "Epoch 8/100\n",
      "20/20 [==============================] - 0s 2ms/sample - loss: 2.0684 - sparse_categorical_accuracy: 0.3000\n",
      "Epoch 9/100\n",
      "20/20 [==============================] - 0s 1ms/sample - loss: 2.0394 - sparse_categorical_accuracy: 0.4000\n",
      "Epoch 10/100\n",
      "20/20 [==============================] - 0s 1ms/sample - loss: 2.0105 - sparse_categorical_accuracy: 0.4500\n",
      "Epoch 11/100\n",
      "20/20 [==============================] - 0s 1ms/sample - loss: 1.9841 - sparse_categorical_accuracy: 0.4500\n",
      "Epoch 12/100\n",
      "20/20 [==============================] - 0s 2ms/sample - loss: 1.9613 - sparse_categorical_accuracy: 0.5000\n",
      "Epoch 13/100\n",
      "20/20 [==============================] - 0s 1ms/sample - loss: 1.9371 - sparse_categorical_accuracy: 0.5500\n",
      "Epoch 14/100\n",
      "20/20 [==============================] - 0s 1ms/sample - loss: 1.9175 - sparse_categorical_accuracy: 0.5000\n",
      "Epoch 15/100\n",
      "20/20 [==============================] - 0s 1ms/sample - loss: 1.8909 - sparse_categorical_accuracy: 0.5500\n",
      "Epoch 16/100\n",
      "20/20 [==============================] - 0s 2ms/sample - loss: 1.8668 - sparse_categorical_accuracy: 0.5500\n",
      "Epoch 17/100\n",
      "20/20 [==============================] - 0s 1ms/sample - loss: 1.8433 - sparse_categorical_accuracy: 0.5500\n",
      "Epoch 18/100\n",
      "20/20 [==============================] - 0s 1ms/sample - loss: 1.8257 - sparse_categorical_accuracy: 0.6000\n",
      "Epoch 19/100\n",
      "20/20 [==============================] - 0s 1ms/sample - loss: 1.8046 - sparse_categorical_accuracy: 0.6000\n",
      "Epoch 20/100\n",
      "20/20 [==============================] - 0s 1ms/sample - loss: 1.7800 - sparse_categorical_accuracy: 0.6000\n",
      "Epoch 21/100\n",
      "20/20 [==============================] - 0s 2ms/sample - loss: 1.7604 - sparse_categorical_accuracy: 0.6000\n",
      "Epoch 22/100\n",
      "20/20 [==============================] - 0s 2ms/sample - loss: 1.7357 - sparse_categorical_accuracy: 0.6000\n",
      "Epoch 23/100\n",
      "20/20 [==============================] - 0s 2ms/sample - loss: 1.7148 - sparse_categorical_accuracy: 0.6000\n",
      "Epoch 24/100\n",
      "20/20 [==============================] - 0s 2ms/sample - loss: 1.6931 - sparse_categorical_accuracy: 0.5000\n",
      "Epoch 25/100\n",
      "20/20 [==============================] - 0s 1ms/sample - loss: 1.6677 - sparse_categorical_accuracy: 0.6000\n",
      "Epoch 26/100\n",
      "20/20 [==============================] - 0s 1ms/sample - loss: 1.6444 - sparse_categorical_accuracy: 0.6000\n",
      "Epoch 27/100\n",
      "20/20 [==============================] - 0s 2ms/sample - loss: 1.6173 - sparse_categorical_accuracy: 0.6000\n",
      "Epoch 28/100\n",
      "20/20 [==============================] - 0s 1ms/sample - loss: 1.5968 - sparse_categorical_accuracy: 0.5500\n",
      "Epoch 29/100\n",
      "20/20 [==============================] - 0s 1ms/sample - loss: 1.5686 - sparse_categorical_accuracy: 0.6500\n",
      "Epoch 30/100\n",
      "20/20 [==============================] - 0s 1ms/sample - loss: 1.5489 - sparse_categorical_accuracy: 0.6500\n",
      "Epoch 31/100\n",
      "20/20 [==============================] - 0s 1ms/sample - loss: 1.5204 - sparse_categorical_accuracy: 0.6500\n",
      "Epoch 32/100\n",
      "20/20 [==============================] - 0s 1ms/sample - loss: 1.4985 - sparse_categorical_accuracy: 0.6500\n",
      "Epoch 33/100\n",
      "20/20 [==============================] - 0s 2ms/sample - loss: 1.4655 - sparse_categorical_accuracy: 0.6500\n",
      "Epoch 34/100\n",
      "20/20 [==============================] - 0s 1ms/sample - loss: 1.4430 - sparse_categorical_accuracy: 0.6500\n",
      "Epoch 35/100\n",
      "20/20 [==============================] - 0s 2ms/sample - loss: 1.4229 - sparse_categorical_accuracy: 0.6500\n",
      "Epoch 36/100\n",
      "20/20 [==============================] - 0s 1ms/sample - loss: 1.3927 - sparse_categorical_accuracy: 0.6500\n",
      "Epoch 37/100\n",
      "20/20 [==============================] - 0s 1ms/sample - loss: 1.3642 - sparse_categorical_accuracy: 0.6500\n",
      "Epoch 38/100\n",
      "20/20 [==============================] - ETA: 0s - loss: 1.5175 - sparse_categorical_accuracy: 0.500 - 0s 1ms/sample - loss: 1.3299 - sparse_categorical_accuracy: 0.6500\n",
      "Epoch 39/100\n",
      "20/20 [==============================] - 0s 1ms/sample - loss: 1.3044 - sparse_categorical_accuracy: 0.6500\n",
      "Epoch 40/100\n",
      "20/20 [==============================] - 0s 1ms/sample - loss: 1.2750 - sparse_categorical_accuracy: 0.7000\n",
      "Epoch 41/100\n",
      "20/20 [==============================] - 0s 1ms/sample - loss: 1.2420 - sparse_categorical_accuracy: 0.7500\n",
      "Epoch 42/100\n",
      "20/20 [==============================] - 0s 1ms/sample - loss: 1.2103 - sparse_categorical_accuracy: 0.7000\n",
      "Epoch 43/100\n",
      "20/20 [==============================] - 0s 1ms/sample - loss: 1.1807 - sparse_categorical_accuracy: 0.7500\n",
      "Epoch 44/100\n",
      "20/20 [==============================] - 0s 1ms/sample - loss: 1.1542 - sparse_categorical_accuracy: 0.7500\n",
      "Epoch 45/100\n",
      "20/20 [==============================] - 0s 1ms/sample - loss: 1.1137 - sparse_categorical_accuracy: 0.7000\n",
      "Epoch 46/100\n",
      "20/20 [==============================] - 0s 1ms/sample - loss: 1.0822 - sparse_categorical_accuracy: 0.8000\n",
      "Epoch 47/100\n",
      "20/20 [==============================] - 0s 1ms/sample - loss: 1.0603 - sparse_categorical_accuracy: 0.8000\n",
      "Epoch 48/100\n",
      "20/20 [==============================] - 0s 1ms/sample - loss: 1.0204 - sparse_categorical_accuracy: 0.8500\n",
      "Epoch 49/100\n",
      "20/20 [==============================] - 0s 1ms/sample - loss: 0.9868 - sparse_categorical_accuracy: 0.8500\n",
      "Epoch 50/100\n",
      "20/20 [==============================] - 0s 1ms/sample - loss: 0.9632 - sparse_categorical_accuracy: 0.8500\n",
      "Epoch 51/100\n",
      "20/20 [==============================] - 0s 1ms/sample - loss: 0.9298 - sparse_categorical_accuracy: 0.9000\n",
      "Epoch 52/100\n",
      "20/20 [==============================] - 0s 1ms/sample - loss: 0.8934 - sparse_categorical_accuracy: 0.9500\n",
      "Epoch 53/100\n",
      "20/20 [==============================] - ETA: 0s - loss: 0.5233 - sparse_categorical_accuracy: 1.000 - 0s 1ms/sample - loss: 0.8656 - sparse_categorical_accuracy: 0.9000\n",
      "Epoch 54/100\n",
      "20/20 [==============================] - 0s 1ms/sample - loss: 0.8320 - sparse_categorical_accuracy: 0.9500\n",
      "Epoch 55/100\n",
      "20/20 [==============================] - 0s 1ms/sample - loss: 0.8058 - sparse_categorical_accuracy: 0.9500\n",
      "Epoch 56/100\n",
      "20/20 [==============================] - 0s 1ms/sample - loss: 0.7821 - sparse_categorical_accuracy: 0.9500\n",
      "Epoch 57/100\n",
      "20/20 [==============================] - 0s 1ms/sample - loss: 0.7543 - sparse_categorical_accuracy: 0.9500\n",
      "Epoch 58/100\n",
      "20/20 [==============================] - 0s 1ms/sample - loss: 0.7232 - sparse_categorical_accuracy: 0.9500\n",
      "Epoch 59/100\n",
      "20/20 [==============================] - 0s 1ms/sample - loss: 0.7024 - sparse_categorical_accuracy: 0.9500\n",
      "Epoch 60/100\n",
      "20/20 [==============================] - 0s 1ms/sample - loss: 0.6732 - sparse_categorical_accuracy: 0.9500\n",
      "Epoch 61/100\n",
      "20/20 [==============================] - 0s 1ms/sample - loss: 0.6447 - sparse_categorical_accuracy: 0.9500\n",
      "Epoch 62/100\n",
      "20/20 [==============================] - 0s 1ms/sample - loss: 0.6167 - sparse_categorical_accuracy: 0.9500\n",
      "Epoch 63/100\n",
      "20/20 [==============================] - 0s 1ms/sample - loss: 0.6021 - sparse_categorical_accuracy: 0.9500\n",
      "Epoch 64/100\n",
      "20/20 [==============================] - 0s 1ms/sample - loss: 0.5772 - sparse_categorical_accuracy: 0.9500\n",
      "Epoch 65/100\n",
      "20/20 [==============================] - 0s 1ms/sample - loss: 0.5535 - sparse_categorical_accuracy: 0.9500\n",
      "Epoch 66/100\n",
      "20/20 [==============================] - 0s 1ms/sample - loss: 0.5353 - sparse_categorical_accuracy: 0.9500\n",
      "Epoch 67/100\n"
     ]
    },
    {
     "name": "stdout",
     "output_type": "stream",
     "text": [
      "20/20 [==============================] - 0s 1ms/sample - loss: 0.5092 - sparse_categorical_accuracy: 0.9500\n",
      "Epoch 68/100\n",
      "20/20 [==============================] - 0s 1ms/sample - loss: 0.4946 - sparse_categorical_accuracy: 0.9500\n",
      "Epoch 69/100\n",
      "20/20 [==============================] - 0s 1ms/sample - loss: 0.4732 - sparse_categorical_accuracy: 0.9500\n",
      "Epoch 70/100\n",
      "20/20 [==============================] - 0s 1ms/sample - loss: 0.4597 - sparse_categorical_accuracy: 0.9500\n",
      "Epoch 71/100\n",
      "20/20 [==============================] - 0s 1ms/sample - loss: 0.4421 - sparse_categorical_accuracy: 0.9500\n",
      "Epoch 72/100\n",
      "20/20 [==============================] - 0s 1ms/sample - loss: 0.4197 - sparse_categorical_accuracy: 0.9500\n",
      "Epoch 73/100\n",
      "20/20 [==============================] - 0s 1ms/sample - loss: 0.4030 - sparse_categorical_accuracy: 0.9500\n",
      "Epoch 74/100\n",
      "20/20 [==============================] - 0s 1ms/sample - loss: 0.3923 - sparse_categorical_accuracy: 0.9500\n",
      "Epoch 75/100\n",
      "20/20 [==============================] - 0s 1ms/sample - loss: 0.3852 - sparse_categorical_accuracy: 0.9500\n",
      "Epoch 76/100\n",
      "20/20 [==============================] - 0s 1ms/sample - loss: 0.3612 - sparse_categorical_accuracy: 0.9500\n",
      "Epoch 77/100\n",
      "20/20 [==============================] - 0s 1ms/sample - loss: 0.3501 - sparse_categorical_accuracy: 0.9500\n",
      "Epoch 78/100\n",
      "20/20 [==============================] - 0s 2ms/sample - loss: 0.3331 - sparse_categorical_accuracy: 0.9500\n",
      "Epoch 79/100\n",
      "20/20 [==============================] - 0s 1ms/sample - loss: 0.3241 - sparse_categorical_accuracy: 0.9500\n",
      "Epoch 80/100\n",
      "20/20 [==============================] - 0s 2ms/sample - loss: 0.3090 - sparse_categorical_accuracy: 0.9500\n",
      "Epoch 81/100\n",
      "20/20 [==============================] - 0s 1ms/sample - loss: 0.2975 - sparse_categorical_accuracy: 1.0000\n",
      "Epoch 82/100\n",
      "20/20 [==============================] - 0s 1ms/sample - loss: 0.2870 - sparse_categorical_accuracy: 0.9500\n",
      "Epoch 83/100\n",
      "20/20 [==============================] - 0s 1ms/sample - loss: 0.2726 - sparse_categorical_accuracy: 1.0000\n",
      "Epoch 84/100\n",
      "20/20 [==============================] - 0s 1ms/sample - loss: 0.2645 - sparse_categorical_accuracy: 0.9500\n",
      "Epoch 85/100\n",
      "20/20 [==============================] - 0s 1ms/sample - loss: 0.2569 - sparse_categorical_accuracy: 1.0000\n",
      "Epoch 86/100\n",
      "20/20 [==============================] - 0s 1ms/sample - loss: 0.2465 - sparse_categorical_accuracy: 1.0000\n",
      "Epoch 87/100\n",
      "20/20 [==============================] - ETA: 0s - loss: 0.0969 - sparse_categorical_accuracy: 1.000 - 0s 1ms/sample - loss: 0.2349 - sparse_categorical_accuracy: 1.0000\n",
      "Epoch 88/100\n",
      "20/20 [==============================] - 0s 1ms/sample - loss: 0.2259 - sparse_categorical_accuracy: 1.0000\n",
      "Epoch 89/100\n",
      "20/20 [==============================] - 0s 1ms/sample - loss: 0.2197 - sparse_categorical_accuracy: 1.0000\n",
      "Epoch 90/100\n",
      "20/20 [==============================] - 0s 2ms/sample - loss: 0.2085 - sparse_categorical_accuracy: 1.0000\n",
      "Epoch 91/100\n",
      "20/20 [==============================] - 0s 1ms/sample - loss: 0.2027 - sparse_categorical_accuracy: 1.0000\n",
      "Epoch 92/100\n",
      "20/20 [==============================] - 0s 1ms/sample - loss: 0.1965 - sparse_categorical_accuracy: 1.0000\n",
      "Epoch 93/100\n",
      "20/20 [==============================] - 0s 1ms/sample - loss: 0.1868 - sparse_categorical_accuracy: 1.0000\n",
      "Epoch 94/100\n",
      "20/20 [==============================] - 0s 2ms/sample - loss: 0.1814 - sparse_categorical_accuracy: 1.0000\n",
      "Epoch 95/100\n",
      "20/20 [==============================] - 0s 1ms/sample - loss: 0.1733 - sparse_categorical_accuracy: 1.0000\n",
      "Epoch 96/100\n",
      "20/20 [==============================] - 0s 1ms/sample - loss: 0.1674 - sparse_categorical_accuracy: 1.0000\n",
      "Epoch 97/100\n",
      "20/20 [==============================] - 0s 2ms/sample - loss: 0.1617 - sparse_categorical_accuracy: 1.0000\n",
      "Epoch 98/100\n",
      "20/20 [==============================] - 0s 1ms/sample - loss: 0.1551 - sparse_categorical_accuracy: 1.0000\n",
      "Epoch 99/100\n",
      "20/20 [==============================] - 0s 1ms/sample - loss: 0.1501 - sparse_categorical_accuracy: 1.0000\n",
      "Epoch 100/100\n",
      "20/20 [==============================] - 0s 1ms/sample - loss: 0.1453 - sparse_categorical_accuracy: 1.0000\n"
     ]
    }
   ],
   "source": [
    "model=create_model(num_classes,L2_REG)\n",
    "model.compile(optimizer=optimizers.SGD(learning_rate=LEARNING_RATE),loss='sparse_categorical_crossentropy',metrics=['sparse_categorical_accuracy'])\n",
    "history = model.fit(X_tiny,y_tiny,batch_size=2,epochs=EPOCHS, verbose=1)"
   ]
  },
  {
   "cell_type": "code",
   "execution_count": 16,
   "metadata": {
    "scrolled": true
   },
   "outputs": [],
   "source": [
    "#Function for plotting loss and accuracy curves from the history variable. \n",
    "def plot_curves(history):\n",
    "    plt.plot(history.history['sparse_categorical_accuracy'])\n",
    "    plt.plot(history.history['val_sparse_categorical_accuracy'])\n",
    "    plt.title('Model accuracy')\n",
    "    plt.ylabel('Accuracy')\n",
    "    plt.xlabel('Epoch')\n",
    "    plt.legend(['Train', 'Val'], loc='upper left')\n",
    "    plt.show()\n",
    "\n",
    "    # Plot training & validation loss values\n",
    "    plt.plot(history.history['loss'])\n",
    "    plt.plot(history.history['val_loss'])\n",
    "    plt.title('Model loss')\n",
    "    plt.ylabel('Loss')\n",
    "    plt.xlabel('Epoch')\n",
    "    plt.legend(['Train', 'Val'], loc='upper left')\n",
    "    plt.show()"
   ]
  },
  {
   "cell_type": "markdown",
   "metadata": {},
   "source": [
    "#### Start with small regularization and find a Learning rate that makes the loss go down \n",
    "\n",
    "We start with a small regularization and try to find a learning rate that makes the loss go down. \n",
    "We can observe here that the loss is not going down. As we can see in curves below the learning rate is so small that the model is actually not learning! The validation accuracy is still around 10% owing to the random guess. Remember that the softmax function is used at the end of the network for the actual 'classification' purposes. "
   ]
  },
  {
   "cell_type": "code",
   "execution_count": 18,
   "metadata": {
    "scrolled": true
   },
   "outputs": [
    {
     "name": "stdout",
     "output_type": "stream",
     "text": [
      "Train on 37500 samples, validate on 12500 samples\n",
      "Epoch 1/10\n",
      "37500/37500 [==============================] - 5s 137us/sample - loss: 2.3257 - sparse_categorical_accuracy: 0.1091 - val_loss: 2.3245 - val_sparse_categorical_accuracy: 0.1097\n",
      "Epoch 2/10\n",
      "37500/37500 [==============================] - 5s 125us/sample - loss: 2.3251 - sparse_categorical_accuracy: 0.1093 - val_loss: 2.3239 - val_sparse_categorical_accuracy: 0.1098\n",
      "Epoch 3/10\n",
      "37500/37500 [==============================] - 5s 125us/sample - loss: 2.3245 - sparse_categorical_accuracy: 0.1095 - val_loss: 2.3234 - val_sparse_categorical_accuracy: 0.1098\n",
      "Epoch 4/10\n",
      "37500/37500 [==============================] - 5s 128us/sample - loss: 2.3240 - sparse_categorical_accuracy: 0.1100 - val_loss: 2.3228 - val_sparse_categorical_accuracy: 0.1101\n",
      "Epoch 5/10\n",
      "37500/37500 [==============================] - 5s 126us/sample - loss: 2.3234 - sparse_categorical_accuracy: 0.1103 - val_loss: 2.3223 - val_sparse_categorical_accuracy: 0.1103\n",
      "Epoch 6/10\n",
      "37500/37500 [==============================] - 5s 127us/sample - loss: 2.3228 - sparse_categorical_accuracy: 0.1107 - val_loss: 2.3218 - val_sparse_categorical_accuracy: 0.1110\n",
      "Epoch 7/10\n",
      "37500/37500 [==============================] - 5s 134us/sample - loss: 2.3223 - sparse_categorical_accuracy: 0.1111 - val_loss: 2.3212 - val_sparse_categorical_accuracy: 0.1111\n",
      "Epoch 8/10\n",
      "37500/37500 [==============================] - 5s 133us/sample - loss: 2.3217 - sparse_categorical_accuracy: 0.1115 - val_loss: 2.3207 - val_sparse_categorical_accuracy: 0.1115\n",
      "Epoch 9/10\n",
      "37500/37500 [==============================] - 5s 128us/sample - loss: 2.3212 - sparse_categorical_accuracy: 0.1117 - val_loss: 2.3202 - val_sparse_categorical_accuracy: 0.1127\n",
      "Epoch 10/10\n",
      "37500/37500 [==============================] - 5s 129us/sample - loss: 2.3206 - sparse_categorical_accuracy: 0.1117 - val_loss: 2.3196 - val_sparse_categorical_accuracy: 0.1128\n"
     ]
    },
    {
     "data": {
      "text/plain": [
       "<tensorflow.python.keras.callbacks.History at 0x1ad4b764b70>"
      ]
     },
     "execution_count": 18,
     "metadata": {},
     "output_type": "execute_result"
    }
   ],
   "source": [
    "LEARNING_RATE=1e-6\n",
    "EPOCHS=10\n",
    "L2_REG=1e-6\n",
    "\n",
    "model=create_model(num_classes,L2_REG)\n",
    "model.compile(optimizer=optimizers.SGD(learning_rate=LEARNING_RATE),loss='sparse_categorical_crossentropy',metrics=['sparse_categorical_accuracy'])\n",
    "model.fit(X_train, y_train, batch_size=BATCH_SIZE, epochs=EPOCHS, verbose=1,  validation_data=(X_val,y_val))"
   ]
  },
  {
   "cell_type": "markdown",
   "metadata": {},
   "source": [
    "#### Very high Learning Rate - Loss exploding\n",
    "\n",
    "We can now try a higher learning rate. We set the learning rate to 1e6. As we can see in the curves below the cost is so high that the loss is exploding. It is because the weights are updated by a huge number. Trying to find the optimum learning rate is very important. "
   ]
  },
  {
   "cell_type": "code",
   "execution_count": 19,
   "metadata": {
    "scrolled": true
   },
   "outputs": [
    {
     "name": "stdout",
     "output_type": "stream",
     "text": [
      "Train on 37500 samples, validate on 12500 samples\n",
      "Epoch 1/10\n",
      "37500/37500 [==============================] - 5s 137us/sample - loss: nan - sparse_categorical_accuracy: 0.0998 - val_loss: nan - val_sparse_categorical_accuracy: 0.1007\n",
      "Epoch 2/10\n",
      "37500/37500 [==============================] - 5s 132us/sample - loss: nan - sparse_categorical_accuracy: 0.0998 - val_loss: nan - val_sparse_categorical_accuracy: 0.1007\n",
      "Epoch 3/10\n",
      "37500/37500 [==============================] - 5s 129us/sample - loss: nan - sparse_categorical_accuracy: 0.0998 - val_loss: nan - val_sparse_categorical_accuracy: 0.1007\n",
      "Epoch 4/10\n",
      "37500/37500 [==============================] - 5s 123us/sample - loss: nan - sparse_categorical_accuracy: 0.0998 - val_loss: nan - val_sparse_categorical_accuracy: 0.1007\n",
      "Epoch 5/10\n",
      "37500/37500 [==============================] - 5s 125us/sample - loss: nan - sparse_categorical_accuracy: 0.0998 - val_loss: nan - val_sparse_categorical_accuracy: 0.1007\n",
      "Epoch 6/10\n",
      "37500/37500 [==============================] - 5s 124us/sample - loss: nan - sparse_categorical_accuracy: 0.0998 - val_loss: nan - val_sparse_categorical_accuracy: 0.1007\n",
      "Epoch 7/10\n",
      "37500/37500 [==============================] - 5s 126us/sample - loss: nan - sparse_categorical_accuracy: 0.0998 - val_loss: nan - val_sparse_categorical_accuracy: 0.1007\n",
      "Epoch 8/10\n",
      "37500/37500 [==============================] - 5s 123us/sample - loss: nan - sparse_categorical_accuracy: 0.0998 - val_loss: nan - val_sparse_categorical_accuracy: 0.1007\n",
      "Epoch 9/10\n",
      "37500/37500 [==============================] - 5s 125us/sample - loss: nan - sparse_categorical_accuracy: 0.0998 - val_loss: nan - val_sparse_categorical_accuracy: 0.1007\n",
      "Epoch 10/10\n",
      "37500/37500 [==============================] - 5s 126us/sample - loss: nan - sparse_categorical_accuracy: 0.0998 - val_loss: nan - val_sparse_categorical_accuracy: 0.1007\n"
     ]
    },
    {
     "data": {
      "text/plain": [
       "<tensorflow.python.keras.callbacks.History at 0x1ad4b805d68>"
      ]
     },
     "execution_count": 19,
     "metadata": {},
     "output_type": "execute_result"
    }
   ],
   "source": [
    "LEARNING_RATE=1e5\n",
    "EPOCHS=10\n",
    "L2_REG=1e-6\n",
    "\n",
    "model=create_model(num_classes,L2_REG)\n",
    "model.compile(optimizer=optimizers.SGD(learning_rate=LEARNING_RATE),loss='sparse_categorical_crossentropy',metrics=['sparse_categorical_accuracy'])\n",
    "model.fit(X_train, y_train, batch_size=BATCH_SIZE, epochs=EPOCHS, verbose=1,  validation_data=(X_val,y_val))"
   ]
  },
  {
   "cell_type": "markdown",
   "metadata": {},
   "source": [
    "#### Crank up the Learning rate to check if the loss still explodes. \n",
    "\n",
    "We can keep trying values for which the loss will go down, but that is a trial and error method. We can adopt a cross validation strategy where we try different learning rates and regularizations in a fixed range and choose the combination that gives the best performance on the model. We can see here that the loss is still exploding for an increased LR. \n",
    "The learning rate is generally selected between 1e-3, 1e-4"
   ]
  },
  {
   "cell_type": "code",
   "execution_count": 20,
   "metadata": {
    "scrolled": true
   },
   "outputs": [
    {
     "name": "stdout",
     "output_type": "stream",
     "text": [
      "Train on 37500 samples, validate on 12500 samples\n",
      "Epoch 1/10\n",
      "37500/37500 [==============================] - 5s 137us/sample - loss: nan - sparse_categorical_accuracy: 0.0991 - val_loss: nan - val_sparse_categorical_accuracy: 0.1007\n",
      "Epoch 2/10\n",
      "37500/37500 [==============================] - 5s 127us/sample - loss: nan - sparse_categorical_accuracy: 0.0972 - val_loss: nan - val_sparse_categorical_accuracy: 0.1007\n",
      "Epoch 3/10\n",
      "37500/37500 [==============================] - 5s 130us/sample - loss: nan - sparse_categorical_accuracy: 0.0982 - val_loss: nan - val_sparse_categorical_accuracy: 0.0994\n",
      "Epoch 4/10\n",
      "37500/37500 [==============================] - 5s 128us/sample - loss: nan - sparse_categorical_accuracy: 0.1005 - val_loss: nan - val_sparse_categorical_accuracy: 0.1019\n",
      "Epoch 5/10\n",
      "37500/37500 [==============================] - 5s 130us/sample - loss: nan - sparse_categorical_accuracy: 0.1017 - val_loss: nan - val_sparse_categorical_accuracy: 0.1007\n",
      "Epoch 6/10\n",
      "37500/37500 [==============================] - 5s 128us/sample - loss: nan - sparse_categorical_accuracy: 0.0993 - val_loss: nan - val_sparse_categorical_accuracy: 0.0958\n",
      "Epoch 7/10\n",
      "37500/37500 [==============================] - 5s 130us/sample - loss: nan - sparse_categorical_accuracy: 0.1026 - val_loss: nan - val_sparse_categorical_accuracy: 0.1001\n",
      "Epoch 8/10\n",
      "37500/37500 [==============================] - 5s 128us/sample - loss: nan - sparse_categorical_accuracy: 0.1021 - val_loss: nan - val_sparse_categorical_accuracy: 0.0958\n",
      "Epoch 9/10\n",
      "37500/37500 [==============================] - 5s 128us/sample - loss: nan - sparse_categorical_accuracy: 0.1006 - val_loss: nan - val_sparse_categorical_accuracy: 0.0987\n",
      "Epoch 10/10\n",
      "37500/37500 [==============================] - 5s 130us/sample - loss: nan - sparse_categorical_accuracy: 0.0986 - val_loss: nan - val_sparse_categorical_accuracy: 0.0958\n"
     ]
    },
    {
     "data": {
      "text/plain": [
       "<tensorflow.python.keras.callbacks.History at 0x1ad4baddd30>"
      ]
     },
     "execution_count": 20,
     "metadata": {},
     "output_type": "execute_result"
    }
   ],
   "source": [
    "LEARNING_RATE=0.4825\n",
    "EPOCHS=10\n",
    "L2_REG=1e-6\n",
    "\n",
    "model=create_model(num_classes,L2_REG)\n",
    "model.compile(optimizer=optimizers.SGD(learning_rate=LEARNING_RATE),loss='sparse_categorical_crossentropy',metrics=['sparse_categorical_accuracy'])\n",
    "model.fit(X_train, y_train, batch_size=BATCH_SIZE, epochs=EPOCHS, verbose=1,  validation_data=(X_val,y_val))"
   ]
  },
  {
   "cell_type": "markdown",
   "metadata": {},
   "source": [
    "### Hyper parameter Tuning\n",
    "To find the optimum learning rate and regularization to apply, we first go through a few epochs to get a rough idea of how the params work and then move on to the second stage, where we have a longer run time and a finer search. \n",
    "\n",
    "#### Coarse Search\n",
    "For coarse search we take a random value of the learning rate between 1e-3 and 1e-6 and a random value for regularization. As seen in we can see the top 10 performers from the coarse search strategy, we  can  see  that  the  learning  ratesare restricted within the range 1e-3 and 1e-4 and the regularization between 1e-5 and 1. Thus, we narrow down the range andperform a finer search for a longer time, i.e. increase the number of epochs"
   ]
  },
  {
   "cell_type": "code",
   "execution_count": 21,
   "metadata": {
    "scrolled": true
   },
   "outputs": [
    {
     "name": "stderr",
     "output_type": "stream",
     "text": [
      "\r",
      "  0%|          | 0/50 [00:00<?, ?it/s]"
     ]
    },
    {
     "name": "stdout",
     "output_type": "stream",
     "text": [
      "Train on 37500 samples, validate on 12500 samples\n",
      "Epoch 1/5\n",
      "37500/37500 [==============================] - 5s 135us/sample - loss: 1825.2564 - sparse_categorical_accuracy: 0.0778 - val_loss: 1682.2152 - val_sparse_categorical_accuracy: 0.0816\n",
      "Epoch 2/5\n",
      "37500/37500 [==============================] - 5s 126us/sample - loss: 1553.9962 - sparse_categorical_accuracy: 0.0794 - val_loss: 1432.2426 - val_sparse_categorical_accuracy: 0.0839\n",
      "Epoch 3/5\n",
      "37500/37500 [==============================] - 5s 127us/sample - loss: 1323.1043 - sparse_categorical_accuracy: 0.0809 - val_loss: 1219.4692 - val_sparse_categorical_accuracy: 0.0851\n",
      "Epoch 4/5\n",
      "37500/37500 [==============================] - 5s 126us/sample - loss: 1126.5713 - sparse_categorical_accuracy: 0.0829 - val_loss: 1038.3580 - val_sparse_categorical_accuracy: 0.0870\n",
      "Epoch 5/5\n",
      "37500/37500 [==============================] - 5s 125us/sample - loss: 959.2835 - sparse_categorical_accuracy: 0.0841 - val_loss: 884.1968 - val_sparse_categorical_accuracy: 0.0886\n"
     ]
    },
    {
     "name": "stderr",
     "output_type": "stream",
     "text": [
      "\r",
      "  2%|▏         | 1/50 [00:24<19:57, 24.44s/it]"
     ]
    },
    {
     "name": "stdout",
     "output_type": "stream",
     "text": [
      "0.08856 6.435382701915357e-06 5.339763664319979\n",
      "Train on 37500 samples, validate on 12500 samples\n",
      "Epoch 1/5\n",
      "37500/37500 [==============================] - 5s 135us/sample - loss: 5.9922 - sparse_categorical_accuracy: 0.1150 - val_loss: 5.9721 - val_sparse_categorical_accuracy: 0.1138arse_c\n",
      "Epoch 2/5\n",
      "37500/37500 [==============================] - 5s 129us/sample - loss: 5.9521 - sparse_categorical_accuracy: 0.1245 - val_loss: 5.9387 - val_sparse_categorical_accuracy: 0.1260\n",
      "Epoch 3/5\n",
      "37500/37500 [==============================] - 5s 128us/sample - loss: 5.9215 - sparse_categorical_accuracy: 0.1454 - val_loss: 5.9098 - val_sparse_categorical_accuracy: 0.1530\n",
      "Epoch 4/5\n",
      "37500/37500 [==============================] - 5s 126us/sample - loss: 5.8931 - sparse_categorical_accuracy: 0.1749 - val_loss: 5.8818 - val_sparse_categorical_accuracy: 0.1806\n",
      "Epoch 5/5\n",
      "37500/37500 [==============================] - 5s 129us/sample - loss: 5.8646 - sparse_categorical_accuracy: 0.2006 - val_loss: 5.8529 - val_sparse_categorical_accuracy: 0.2044\n"
     ]
    },
    {
     "name": "stderr",
     "output_type": "stream",
     "text": [
      "\r",
      "  4%|▍         | 2/50 [00:49<19:37, 24.53s/it]"
     ]
    },
    {
     "name": "stdout",
     "output_type": "stream",
     "text": [
      "0.2044 7.91449234808276e-05 0.00999829536057578\n",
      "Train on 37500 samples, validate on 12500 samples\n",
      "Epoch 1/5\n",
      "37500/37500 [==============================] - 5s 138us/sample - loss: 2.3259 - sparse_categorical_accuracy: 0.0967 - val_loss: 2.3259 - val_sparse_categorical_accuracy: 0.0966\n",
      "Epoch 2/5\n",
      "37500/37500 [==============================] - 5s 128us/sample - loss: 2.3223 - sparse_categorical_accuracy: 0.0996 - val_loss: 2.3225 - val_sparse_categorical_accuracy: 0.0987\n",
      "Epoch 3/5\n",
      "37500/37500 [==============================] - 5s 128us/sample - loss: 2.3191 - sparse_categorical_accuracy: 0.1027 - val_loss: 2.3193 - val_sparse_categorical_accuracy: 0.1028\n",
      "Epoch 4/5\n",
      "37500/37500 [==============================] - 5s 127us/sample - loss: 2.3161 - sparse_categorical_accuracy: 0.1056 - val_loss: 2.3164 - val_sparse_categorical_accuracy: 0.1057\n",
      "Epoch 5/5\n",
      "37500/37500 [==============================] - 5s 128us/sample - loss: 2.3132 - sparse_categorical_accuracy: 0.1083 - val_loss: 2.3137 - val_sparse_categorical_accuracy: 0.1086\n"
     ]
    },
    {
     "name": "stderr",
     "output_type": "stream",
     "text": [
      "\r",
      "  6%|▌         | 3/50 [01:13<19:16, 24.61s/it]"
     ]
    },
    {
     "name": "stdout",
     "output_type": "stream",
     "text": [
      "0.10856 5.8958390020316665e-06 2.351312285551205e-05\n",
      "Train on 37500 samples, validate on 12500 samples\n",
      "Epoch 1/5\n",
      "37500/37500 [==============================] - 5s 141us/sample - loss: 46.8110 - sparse_categorical_accuracy: 0.0974 - val_loss: 46.7664 - val_sparse_categorical_accuracy: 0.0953\n",
      "Epoch 2/5\n",
      "37500/37500 [==============================] - 5s 128us/sample - loss: 46.7165 - sparse_categorical_accuracy: 0.0996 - val_loss: 46.6720 - val_sparse_categorical_accuracy: 0.0962\n",
      "Epoch 3/5\n",
      "37500/37500 [==============================] - 5s 131us/sample - loss: 46.6223 - sparse_categorical_accuracy: 0.1027 - val_loss: 46.5780 - val_sparse_categorical_accuracy: 0.0990\n",
      "Epoch 4/5\n",
      "37500/37500 [==============================] - 5s 132us/sample - loss: 46.5283 - sparse_categorical_accuracy: 0.1048 - val_loss: 46.4842 - val_sparse_categorical_accuracy: 0.1006\n",
      "Epoch 5/5\n",
      "37500/37500 [==============================] - 5s 130us/sample - loss: 46.4347 - sparse_categorical_accuracy: 0.1070 - val_loss: 46.3907 - val_sparse_categorical_accuracy: 0.1024\n"
     ]
    },
    {
     "name": "stderr",
     "output_type": "stream",
     "text": [
      "\r",
      "  8%|▊         | 4/50 [01:39<19:01, 24.82s/it]"
     ]
    },
    {
     "name": "stdout",
     "output_type": "stream",
     "text": [
      "0.1024 3.670288238125956e-06 0.12084015023790033\n",
      "Train on 37500 samples, validate on 12500 samples\n",
      "Epoch 1/5\n",
      "37500/37500 [==============================] - 5s 138us/sample - loss: 4.5496 - sparse_categorical_accuracy: 0.1278 - val_loss: 4.5204 - val_sparse_categorical_accuracy: 0.1522\n",
      "Epoch 2/5\n",
      "37500/37500 [==============================] - 5s 133us/sample - loss: 4.4903 - sparse_categorical_accuracy: 0.1830 - val_loss: 4.4645 - val_sparse_categorical_accuracy: 0.1996\n",
      "Epoch 3/5\n",
      "37500/37500 [==============================] - 5s 128us/sample - loss: 4.4300 - sparse_categorical_accuracy: 0.2185 - val_loss: 4.4004 - val_sparse_categorical_accuracy: 0.2344\n",
      "Epoch 4/5\n",
      "37500/37500 [==============================] - 5s 126us/sample - loss: 4.3612 - sparse_categorical_accuracy: 0.2487 - val_loss: 4.3307 - val_sparse_categorical_accuracy: 0.2578\n",
      "Epoch 5/5\n",
      "37500/37500 [==============================] - 5s 128us/sample - loss: 4.2921 - sparse_categorical_accuracy: 0.2655 - val_loss: 4.2666 - val_sparse_categorical_accuracy: 0.2720\n"
     ]
    },
    {
     "name": "stderr",
     "output_type": "stream",
     "text": [
      "\r",
      " 10%|█         | 5/50 [02:04<18:40, 24.89s/it]"
     ]
    },
    {
     "name": "stdout",
     "output_type": "stream",
     "text": [
      "0.272 0.00020568402163375913 0.006138134017333497\n",
      "Train on 37500 samples, validate on 12500 samples\n",
      "Epoch 1/5\n",
      "37500/37500 [==============================] - 5s 146us/sample - loss: 13.2392 - sparse_categorical_accuracy: 0.1028 - val_loss: 13.2372 - val_sparse_categorical_accuracy: 0.1010\n",
      "Epoch 2/5\n",
      "37500/37500 [==============================] - 5s 135us/sample - loss: 13.2352 - sparse_categorical_accuracy: 0.1033 - val_loss: 13.2332 - val_sparse_categorical_accuracy: 0.1016\n",
      "Epoch 3/5\n",
      "37500/37500 [==============================] - 5s 131us/sample - loss: 13.2312 - sparse_categorical_accuracy: 0.1039 - val_loss: 13.2292 - val_sparse_categorical_accuracy: 0.1024\n",
      "Epoch 4/5\n",
      "37500/37500 [==============================] - 5s 133us/sample - loss: 13.2272 - sparse_categorical_accuracy: 0.1045 - val_loss: 13.2253 - val_sparse_categorical_accuracy: 0.1030\n",
      "Epoch 5/5\n",
      "37500/37500 [==============================] - 5s 131us/sample - loss: 13.2233 - sparse_categorical_accuracy: 0.1049 - val_loss: 13.2214 - val_sparse_categorical_accuracy: 0.1040\n"
     ]
    },
    {
     "name": "stderr",
     "output_type": "stream",
     "text": [
      "\r",
      " 12%|█▏        | 6/50 [02:30<18:28, 25.20s/it]"
     ]
    },
    {
     "name": "stdout",
     "output_type": "stream",
     "text": [
      "0.104 1.97489350850737e-06 0.02973626625859878\n",
      "Train on 37500 samples, validate on 12500 samples\n",
      "Epoch 1/5\n",
      "37500/37500 [==============================] - 5s 141us/sample - loss: 5.0556 - sparse_categorical_accuracy: 0.1090 - val_loss: 5.0526 - val_sparse_categorical_accuracy: 0.1089\n",
      "Epoch 2/5\n",
      "37500/37500 [==============================] - 5s 133us/sample - loss: 5.0511 - sparse_categorical_accuracy: 0.1119 - val_loss: 5.0483 - val_sparse_categorical_accuracy: 0.1119\n",
      "Epoch 3/5\n",
      "37500/37500 [==============================] - 5s 131us/sample - loss: 5.0467 - sparse_categorical_accuracy: 0.1165 - val_loss: 5.0441 - val_sparse_categorical_accuracy: 0.1147\n",
      "Epoch 4/5\n",
      "37500/37500 [==============================] - 5s 129us/sample - loss: 5.0426 - sparse_categorical_accuracy: 0.1213 - val_loss: 5.0402 - val_sparse_categorical_accuracy: 0.1198\n",
      "Epoch 5/5\n",
      "37500/37500 [==============================] - 5s 132us/sample - loss: 5.0386 - sparse_categorical_accuracy: 0.1265 - val_loss: 5.0364 - val_sparse_categorical_accuracy: 0.1248\n"
     ]
    },
    {
     "name": "stderr",
     "output_type": "stream",
     "text": [
      "\r",
      " 14%|█▍        | 7/50 [02:55<18:08, 25.31s/it]"
     ]
    },
    {
     "name": "stdout",
     "output_type": "stream",
     "text": [
      "0.1248 9.15255946306556e-06 0.007424651654616714\n",
      "Train on 37500 samples, validate on 12500 samples\n",
      "Epoch 1/5\n",
      "37500/37500 [==============================] - 5s 146us/sample - loss: 2.6106 - sparse_categorical_accuracy: 0.0983 - val_loss: 2.5946 - val_sparse_categorical_accuracy: 0.0997\n",
      "Epoch 2/5\n",
      "37500/37500 [==============================] - 5s 134us/sample - loss: 2.5846 - sparse_categorical_accuracy: 0.1023 - val_loss: 2.5765 - val_sparse_categorical_accuracy: 0.1078\n",
      "Epoch 3/5\n",
      "37500/37500 [==============================] - 5s 132us/sample - loss: 2.5702 - sparse_categorical_accuracy: 0.1119 - val_loss: 2.5652 - val_sparse_categorical_accuracy: 0.1172\n",
      "Epoch 4/5\n",
      "37500/37500 [==============================] - 5s 132us/sample - loss: 2.5602 - sparse_categorical_accuracy: 0.1233 - val_loss: 2.5565 - val_sparse_categorical_accuracy: 0.1330\n",
      "Epoch 5/5\n",
      "37500/37500 [==============================] - 5s 134us/sample - loss: 2.5521 - sparse_categorical_accuracy: 0.1361 - val_loss: 2.5490 - val_sparse_categorical_accuracy: 0.1438\n"
     ]
    },
    {
     "name": "stderr",
     "output_type": "stream",
     "text": [
      "\r",
      " 16%|█▌        | 8/50 [03:21<17:52, 25.54s/it]"
     ]
    },
    {
     "name": "stdout",
     "output_type": "stream",
     "text": [
      "0.14376 3.582529690675973e-05 0.0007498542118297973\n",
      "Train on 37500 samples, validate on 12500 samples\n",
      "Epoch 1/5\n",
      "37500/37500 [==============================] - 5s 145us/sample - loss: 2.3439 - sparse_categorical_accuracy: 0.0998 - val_loss: 2.3407 - val_sparse_categorical_accuracy: 0.1014\n",
      "Epoch 2/5\n",
      "37500/37500 [==============================] - 5s 129us/sample - loss: 2.3428 - sparse_categorical_accuracy: 0.1009 - val_loss: 2.3396 - val_sparse_categorical_accuracy: 0.1022\n",
      "Epoch 3/5\n",
      "37500/37500 [==============================] - 5s 129us/sample - loss: 2.3416 - sparse_categorical_accuracy: 0.1020 - val_loss: 2.3385 - val_sparse_categorical_accuracy: 0.1038\n",
      "Epoch 4/5\n",
      "37500/37500 [==============================] - 5s 132us/sample - loss: 2.3405 - sparse_categorical_accuracy: 0.1031 - val_loss: 2.3374 - val_sparse_categorical_accuracy: 0.1046\n",
      "Epoch 5/5\n",
      "37500/37500 [==============================] - 5s 131us/sample - loss: 2.3394 - sparse_categorical_accuracy: 0.1041 - val_loss: 2.3364 - val_sparse_categorical_accuracy: 0.1057\n"
     ]
    },
    {
     "name": "stderr",
     "output_type": "stream",
     "text": [
      "\r",
      " 18%|█▊        | 9/50 [03:47<17:29, 25.59s/it]"
     ]
    },
    {
     "name": "stdout",
     "output_type": "stream",
     "text": [
      "0.10568 2.1027465972889193e-06 6.0984619851102044e-05\n",
      "Train on 37500 samples, validate on 12500 samples\n",
      "Epoch 1/5\n",
      "37500/37500 [==============================] - 6s 151us/sample - loss: 27.6607 - sparse_categorical_accuracy: 0.2232 - val_loss: 23.4512 - val_sparse_categorical_accuracy: 0.2686\n",
      "Epoch 2/5\n",
      "37500/37500 [==============================] - 5s 139us/sample - loss: 20.1160 - sparse_categorical_accuracy: 0.2885 - val_loss: 17.1532 - val_sparse_categorical_accuracy: 0.3070\n",
      "Epoch 3/5\n",
      "37500/37500 [==============================] - 5s 138us/sample - loss: 14.7988 - sparse_categorical_accuracy: 0.3213 - val_loss: 12.7100 - val_sparse_categorical_accuracy: 0.3389\n",
      "Epoch 4/5\n",
      "37500/37500 [==============================] - 5s 137us/sample - loss: 11.0434 - sparse_categorical_accuracy: 0.3428 - val_loss: 9.5678 - val_sparse_categorical_accuracy: 0.3578\n",
      "Epoch 5/5\n",
      "37500/37500 [==============================] - 5s 139us/sample - loss: 8.3838 - sparse_categorical_accuracy: 0.3591 - val_loss: 7.3405 - val_sparse_categorical_accuracy: 0.3681\n"
     ]
    },
    {
     "name": "stderr",
     "output_type": "stream",
     "text": [
      "\r",
      " 20%|██        | 10/50 [04:14<17:21, 26.03s/it]"
     ]
    },
    {
     "name": "stdout",
     "output_type": "stream",
     "text": [
      "0.36808 0.0009009674371521452 0.08164785444172061\n",
      "Train on 37500 samples, validate on 12500 samples\n",
      "Epoch 1/5\n",
      "37500/37500 [==============================] - 6s 150us/sample - loss: 3.2367 - sparse_categorical_accuracy: 0.1324 - val_loss: 3.2082 - val_sparse_categorical_accuracy: 0.1784\n",
      "Epoch 2/5\n",
      "37500/37500 [==============================] - 5s 134us/sample - loss: 3.1745 - sparse_categorical_accuracy: 0.2112 - val_loss: 3.1397 - val_sparse_categorical_accuracy: 0.2474\n",
      "Epoch 3/5\n",
      "37500/37500 [==============================] - 5s 138us/sample - loss: 3.0888 - sparse_categorical_accuracy: 0.2615 - val_loss: 3.0436 - val_sparse_categorical_accuracy: 0.2742\n",
      "Epoch 4/5\n",
      "37500/37500 [==============================] - 5s 137us/sample - loss: 2.9912 - sparse_categorical_accuracy: 0.2822 - val_loss: 2.9519 - val_sparse_categorical_accuracy: 0.2966\n",
      "Epoch 5/5\n",
      "37500/37500 [==============================] - 5s 136us/sample - loss: 2.9055 - sparse_categorical_accuracy: 0.3061 - val_loss: 2.8754 - val_sparse_categorical_accuracy: 0.3210\n"
     ]
    },
    {
     "name": "stderr",
     "output_type": "stream",
     "text": [
      "\r",
      " 22%|██▏       | 11/50 [04:41<17:04, 26.27s/it]"
     ]
    },
    {
     "name": "stdout",
     "output_type": "stream",
     "text": [
      "0.32096 0.00038536822823022414 0.002592620684916657\n",
      "Train on 37500 samples, validate on 12500 samples\n",
      "Epoch 1/5\n",
      "37500/37500 [==============================] - 6s 151us/sample - loss: 3.2815 - sparse_categorical_accuracy: 0.0974 - val_loss: 3.2804 - val_sparse_categorical_accuracy: 0.0962\n",
      "Epoch 2/5\n",
      "37500/37500 [==============================] - 5s 136us/sample - loss: 3.2763 - sparse_categorical_accuracy: 0.0979 - val_loss: 3.2754 - val_sparse_categorical_accuracy: 0.0962\n",
      "Epoch 3/5\n",
      "37500/37500 [==============================] - 5s 136us/sample - loss: 3.2715 - sparse_categorical_accuracy: 0.0984 - val_loss: 3.2708 - val_sparse_categorical_accuracy: 0.0969\n",
      "Epoch 4/5\n",
      "37500/37500 [==============================] - 5s 137us/sample - loss: 3.2671 - sparse_categorical_accuracy: 0.0987 - val_loss: 3.2666 - val_sparse_categorical_accuracy: 0.0972\n",
      "Epoch 5/5\n",
      "37500/37500 [==============================] - 5s 137us/sample - loss: 3.2630 - sparse_categorical_accuracy: 0.0991 - val_loss: 3.2628 - val_sparse_categorical_accuracy: 0.0974\n"
     ]
    },
    {
     "name": "stderr",
     "output_type": "stream",
     "text": [
      "\r",
      " 24%|██▍       | 12/50 [05:08<16:45, 26.45s/it]"
     ]
    },
    {
     "name": "stdout",
     "output_type": "stream",
     "text": [
      "0.09744 3.6862455592840696e-06 0.002506608036429493\n",
      "Train on 37500 samples, validate on 12500 samples\n",
      "Epoch 1/5\n",
      "37500/37500 [==============================] - 6s 149us/sample - loss: 256.9378 - sparse_categorical_accuracy: 0.1070 - val_loss: 174.2051 - val_sparse_categorical_accuracy: 0.1136\n",
      "Epoch 2/5\n",
      "37500/37500 [==============================] - 5s 138us/sample - loss: 123.8331 - sparse_categorical_accuracy: 0.1313 - val_loss: 84.3541 - val_sparse_categorical_accuracy: 0.1397\n",
      "Epoch 3/5\n",
      "37500/37500 [==============================] - 5s 135us/sample - loss: 60.3120 - sparse_categorical_accuracy: 0.1587 - val_loss: 41.4683 - val_sparse_categorical_accuracy: 0.1743\n",
      "Epoch 4/5\n",
      "37500/37500 [==============================] - 5s 134us/sample - loss: 29.9923 - sparse_categorical_accuracy: 0.1936 - val_loss: 20.9976 - val_sparse_categorical_accuracy: 0.1936\n",
      "Epoch 5/5\n",
      "37500/37500 [==============================] - 5s 136us/sample - loss: 15.5197 - sparse_categorical_accuracy: 0.1834 - val_loss: 11.2262 - val_sparse_categorical_accuracy: 0.1762\n"
     ]
    },
    {
     "name": "stderr",
     "output_type": "stream",
     "text": [
      "\r",
      " 26%|██▌       | 13/50 [05:35<16:21, 26.54s/it]"
     ]
    },
    {
     "name": "stdout",
     "output_type": "stream",
     "text": [
      "0.17624 0.0001615252115732361 0.9766183202488109\n",
      "Train on 37500 samples, validate on 12500 samples\n",
      "Epoch 1/5\n",
      "37500/37500 [==============================] - 6s 153us/sample - loss: 2.3360 - sparse_categorical_accuracy: 0.1553 - val_loss: 2.3140 - val_sparse_categorical_accuracy: 0.1762\n",
      "Epoch 2/5\n",
      "37500/37500 [==============================] - 5s 138us/sample - loss: 2.2894 - sparse_categorical_accuracy: 0.2066 - val_loss: 2.2701 - val_sparse_categorical_accuracy: 0.2250\n",
      "Epoch 3/5\n",
      "37500/37500 [==============================] - 5s 138us/sample - loss: 2.2443 - sparse_categorical_accuracy: 0.2431 - val_loss: 2.2243 - val_sparse_categorical_accuracy: 0.2510\n",
      "Epoch 4/5\n",
      "37500/37500 [==============================] - 5s 138us/sample - loss: 2.1969 - sparse_categorical_accuracy: 0.2630 - val_loss: 2.1772 - val_sparse_categorical_accuracy: 0.2691\n",
      "Epoch 5/5\n",
      "37500/37500 [==============================] - 5s 137us/sample - loss: 2.1503 - sparse_categorical_accuracy: 0.2737 - val_loss: 2.1332 - val_sparse_categorical_accuracy: 0.2800\n"
     ]
    },
    {
     "name": "stderr",
     "output_type": "stream",
     "text": [
      "\r",
      " 28%|██▊       | 14/50 [06:02<16:02, 26.75s/it]"
     ]
    },
    {
     "name": "stdout",
     "output_type": "stream",
     "text": [
      "0.28 0.0001387597738832788 0.00016875894289935858\n",
      "Train on 37500 samples, validate on 12500 samples\n",
      "Epoch 1/5\n",
      "37500/37500 [==============================] - 6s 154us/sample - loss: 2.3357 - sparse_categorical_accuracy: 0.0775 - val_loss: 2.3332 - val_sparse_categorical_accuracy: 0.0842\n",
      "Epoch 2/5\n",
      "37500/37500 [==============================] - 5s 140us/sample - loss: 2.3288 - sparse_categorical_accuracy: 0.0794 - val_loss: 2.3269 - val_sparse_categorical_accuracy: 0.0828\n",
      "Epoch 3/5\n",
      "37500/37500 [==============================] - 5s 138us/sample - loss: 2.3229 - sparse_categorical_accuracy: 0.0817 - val_loss: 2.3214 - val_sparse_categorical_accuracy: 0.0861\n",
      "Epoch 4/5\n",
      "37500/37500 [==============================] - 5s 138us/sample - loss: 2.3175 - sparse_categorical_accuracy: 0.0844 - val_loss: 2.3164 - val_sparse_categorical_accuracy: 0.0894\n",
      "Epoch 5/5\n",
      "37500/37500 [==============================] - 5s 139us/sample - loss: 2.3127 - sparse_categorical_accuracy: 0.0895 - val_loss: 2.3118 - val_sparse_categorical_accuracy: 0.0954\n"
     ]
    },
    {
     "name": "stderr",
     "output_type": "stream",
     "text": [
      "\r",
      " 30%|███       | 15/50 [06:29<15:42, 26.94s/it]"
     ]
    },
    {
     "name": "stdout",
     "output_type": "stream",
     "text": [
      "0.09536 1.1267804574042641e-05 1.925811844353391e-05\n",
      "Train on 37500 samples, validate on 12500 samples\n",
      "Epoch 1/5\n",
      "37500/37500 [==============================] - 6s 154us/sample - loss: 64.6845 - sparse_categorical_accuracy: 0.0894 - val_loss: 64.2976 - val_sparse_categorical_accuracy: 0.0942\n",
      "Epoch 2/5\n",
      "37500/37500 [==============================] - 5s 140us/sample - loss: 63.9188 - sparse_categorical_accuracy: 0.0971 - val_loss: 63.5381 - val_sparse_categorical_accuracy: 0.0999\n",
      "Epoch 3/5\n",
      "37500/37500 [==============================] - 5s 138us/sample - loss: 63.1642 - sparse_categorical_accuracy: 0.1038 - val_loss: 62.7894 - val_sparse_categorical_accuracy: 0.1071\n",
      "Epoch 4/5\n",
      "37500/37500 [==============================] - 5s 139us/sample - loss: 62.4202 - sparse_categorical_accuracy: 0.1111 - val_loss: 62.0508 - val_sparse_categorical_accuracy: 0.1151\n",
      "Epoch 5/5\n",
      "37500/37500 [==============================] - 5s 140us/sample - loss: 61.6861 - sparse_categorical_accuracy: 0.1186 - val_loss: 61.3220 - val_sparse_categorical_accuracy: 0.1216\n"
     ]
    },
    {
     "name": "stderr",
     "output_type": "stream",
     "text": [
      "\r",
      " 32%|███▏      | 16/50 [06:57<15:21, 27.10s/it]"
     ]
    },
    {
     "name": "stdout",
     "output_type": "stream",
     "text": [
      "0.1216 1.5313420000911177e-05 0.1700881514997397\n",
      "Train on 37500 samples, validate on 12500 samples\n",
      "Epoch 1/5\n",
      "37500/37500 [==============================] - 6s 156us/sample - loss: 798.4100 - sparse_categorical_accuracy: 0.1090 - val_loss: 144.3674 - val_sparse_categorical_accuracy: 0.1213\n",
      "Epoch 2/5\n",
      "37500/37500 [==============================] - 5s 139us/sample - loss: 49.7318 - sparse_categorical_accuracy: 0.1304 - val_loss: 10.7664 - val_sparse_categorical_accuracy: 0.0987\n",
      "Epoch 3/5\n",
      "37500/37500 [==============================] - 5s 140us/sample - loss: 5.1283 - sparse_categorical_accuracy: 0.1002 - val_loss: 2.8068 - val_sparse_categorical_accuracy: 0.0987\n",
      "Epoch 4/5\n",
      "37500/37500 [==============================] - 5s 138us/sample - loss: 2.4709 - sparse_categorical_accuracy: 0.1001 - val_loss: 2.3326 - val_sparse_categorical_accuracy: 0.0987\n",
      "Epoch 5/5\n",
      "37500/37500 [==============================] - 5s 139us/sample - loss: 2.3126 - sparse_categorical_accuracy: 0.0998 - val_loss: 2.3044 - val_sparse_categorical_accuracy: 0.0987\n"
     ]
    },
    {
     "name": "stderr",
     "output_type": "stream",
     "text": [
      "\r",
      " 34%|███▍      | 17/50 [07:24<14:59, 27.25s/it]"
     ]
    },
    {
     "name": "stdout",
     "output_type": "stream",
     "text": [
      "0.09872 9.301304870624783e-05 6.4644635335089005\n",
      "Train on 37500 samples, validate on 12500 samples\n",
      "Epoch 1/5\n",
      "37500/37500 [==============================] - 6s 158us/sample - loss: 840.4965 - sparse_categorical_accuracy: 0.0995 - val_loss: 189.6845 - val_sparse_categorical_accuracy: 0.1045\n",
      "Epoch 2/5\n",
      "37500/37500 [==============================] - 5s 142us/sample - loss: 71.2164 - sparse_categorical_accuracy: 0.1322 - val_loss: 17.7087 - val_sparse_categorical_accuracy: 0.1160\n",
      "Epoch 3/5\n",
      "37500/37500 [==============================] - 5s 143us/sample - loss: 7.9685 - sparse_categorical_accuracy: 0.1065 - val_loss: 3.5692 - val_sparse_categorical_accuracy: 0.0987\n",
      "Epoch 4/5\n",
      "37500/37500 [==============================] - 5s 141us/sample - loss: 2.7684 - sparse_categorical_accuracy: 0.0998 - val_loss: 2.4067 - val_sparse_categorical_accuracy: 0.0987\n",
      "Epoch 5/5\n",
      "37500/37500 [==============================] - 5s 139us/sample - loss: 2.3409 - sparse_categorical_accuracy: 0.0981 - val_loss: 2.3112 - val_sparse_categorical_accuracy: 0.0958\n"
     ]
    },
    {
     "name": "stderr",
     "output_type": "stream",
     "text": [
      "\r",
      " 36%|███▌      | 18/50 [07:52<14:39, 27.48s/it]"
     ]
    },
    {
     "name": "stdout",
     "output_type": "stream",
     "text": [
      "0.09584 8.635511758682687e-05 6.168136642380234\n",
      "Train on 37500 samples, validate on 12500 samples\n",
      "Epoch 1/5\n",
      "37500/37500 [==============================] - 6s 169us/sample - loss: 19.1396 - sparse_categorical_accuracy: 0.1089 - val_loss: 18.7522 - val_sparse_categorical_accuracy: 0.1335\n",
      "Epoch 2/5\n",
      "37500/37500 [==============================] - 5s 145us/sample - loss: 18.3788 - sparse_categorical_accuracy: 0.1704 - val_loss: 18.0137 - val_sparse_categorical_accuracy: 0.1940\n",
      "Epoch 3/5\n",
      "37500/37500 [==============================] - 5s 142us/sample - loss: 17.6576 - sparse_categorical_accuracy: 0.2157 - val_loss: 17.3089 - val_sparse_categorical_accuracy: 0.2418\n",
      "Epoch 4/5\n",
      "37500/37500 [==============================] - 5s 142us/sample - loss: 16.9668 - sparse_categorical_accuracy: 0.2482 - val_loss: 16.6321 - val_sparse_categorical_accuracy: 0.2615\n",
      "Epoch 5/5\n",
      "37500/37500 [==============================] - 5s 141us/sample - loss: 16.3025 - sparse_categorical_accuracy: 0.2606 - val_loss: 15.9813 - val_sparse_categorical_accuracy: 0.2686\n"
     ]
    },
    {
     "name": "stderr",
     "output_type": "stream",
     "text": [
      "\r",
      " 38%|███▊      | 19/50 [08:21<14:22, 27.82s/it]"
     ]
    },
    {
     "name": "stdout",
     "output_type": "stream",
     "text": [
      "0.26864 0.00020161933592822908 0.046691547863560424\n",
      "Train on 37500 samples, validate on 12500 samples\n",
      "Epoch 1/5\n",
      "37500/37500 [==============================] - 6s 156us/sample - loss: 2.2619 - sparse_categorical_accuracy: 0.1722 - val_loss: 2.2091 - val_sparse_categorical_accuracy: 0.2219\n",
      "Epoch 2/5\n",
      "37500/37500 [==============================] - 5s 142us/sample - loss: 2.1417 - sparse_categorical_accuracy: 0.2542 - val_loss: 2.0841 - val_sparse_categorical_accuracy: 0.2713\n",
      "Epoch 3/5\n",
      "37500/37500 [==============================] - 5s 139us/sample - loss: 2.0257 - sparse_categorical_accuracy: 0.2881 - val_loss: 1.9868 - val_sparse_categorical_accuracy: 0.3026\n",
      "Epoch 4/5\n",
      "37500/37500 [==============================] - 5s 139us/sample - loss: 1.9381 - sparse_categorical_accuracy: 0.3146 - val_loss: 1.9094 - val_sparse_categorical_accuracy: 0.3360\n",
      "Epoch 5/5\n",
      "37500/37500 [==============================] - 5s 139us/sample - loss: 1.8662 - sparse_categorical_accuracy: 0.3394 - val_loss: 1.8427 - val_sparse_categorical_accuracy: 0.3540\n"
     ]
    },
    {
     "name": "stderr",
     "output_type": "stream",
     "text": [
      "\r",
      " 40%|████      | 20/50 [08:49<13:53, 27.80s/it]"
     ]
    },
    {
     "name": "stdout",
     "output_type": "stream",
     "text": [
      "0.354 0.0004591946270401474 1.3833500088723332e-05\n",
      "Train on 37500 samples, validate on 12500 samples\n",
      "Epoch 1/5\n",
      "37500/37500 [==============================] - 6s 158us/sample - loss: 138.5962 - sparse_categorical_accuracy: 0.0991 - val_loss: 2.3034 - val_sparse_categorical_accuracy: 0.0999\n",
      "Epoch 2/5\n",
      "37500/37500 [==============================] - 5s 145us/sample - loss: 2.3026 - sparse_categorical_accuracy: 0.0981 - val_loss: 2.3026 - val_sparse_categorical_accuracy: 0.0999\n",
      "Epoch 3/5\n",
      "37500/37500 [==============================] - 5s 144us/sample - loss: 2.3026 - sparse_categorical_accuracy: 0.0986 - val_loss: 2.3026 - val_sparse_categorical_accuracy: 0.0958\n",
      "Epoch 4/5\n",
      "37500/37500 [==============================] - 5s 142us/sample - loss: 2.3026 - sparse_categorical_accuracy: 0.1010 - val_loss: 2.3026 - val_sparse_categorical_accuracy: 0.0958\n",
      "Epoch 5/5\n",
      "37500/37500 [==============================] - 5s 144us/sample - loss: 2.3026 - sparse_categorical_accuracy: 0.1014 - val_loss: 2.3026 - val_sparse_categorical_accuracy: 0.0958\n"
     ]
    },
    {
     "name": "stderr",
     "output_type": "stream",
     "text": [
      "\r",
      " 42%|████▏     | 21/50 [09:17<13:31, 27.99s/it]"
     ]
    },
    {
     "name": "stdout",
     "output_type": "stream",
     "text": [
      "0.09584 0.0005788677354187425 5.416790153348096\n",
      "Train on 37500 samples, validate on 12500 samples\n",
      "Epoch 1/5\n",
      "37500/37500 [==============================] - 6s 159us/sample - loss: 81.5797 - sparse_categorical_accuracy: 0.0946 - val_loss: 80.1512 - val_sparse_categorical_accuracy: 0.0989\n",
      "Epoch 2/5\n",
      "37500/37500 [==============================] - 5s 143us/sample - loss: 78.7604 - sparse_categorical_accuracy: 0.0984 - val_loss: 77.3863 - val_sparse_categorical_accuracy: 0.1069\n",
      "Epoch 3/5\n",
      "37500/37500 [==============================] - 5s 145us/sample - loss: 76.0468 - sparse_categorical_accuracy: 0.1099 - val_loss: 74.7232 - val_sparse_categorical_accuracy: 0.1174\n",
      "Epoch 4/5\n",
      "37500/37500 [==============================] - 5s 143us/sample - loss: 73.4322 - sparse_categorical_accuracy: 0.1239 - val_loss: 72.1565 - val_sparse_categorical_accuracy: 0.1295\n",
      "Epoch 5/5\n",
      "37500/37500 [==============================] - 5s 144us/sample - loss: 70.9119 - sparse_categorical_accuracy: 0.1357 - val_loss: 69.6820 - val_sparse_categorical_accuracy: 0.1407\n"
     ]
    },
    {
     "name": "stderr",
     "output_type": "stream",
     "text": [
      "\r",
      " 44%|████▍     | 22/50 [09:46<13:08, 28.16s/it]"
     ]
    },
    {
     "name": "stdout",
     "output_type": "stream",
     "text": [
      "0.14072 3.498185627746237e-05 0.21928782194784988\n",
      "Train on 37500 samples, validate on 12500 samples\n",
      "Epoch 1/5\n",
      "37500/37500 [==============================] - 6s 163us/sample - loss: 2.5266 - sparse_categorical_accuracy: 0.1440 - val_loss: 2.4959 - val_sparse_categorical_accuracy: 0.1915\n",
      "Epoch 2/5\n",
      "37500/37500 [==============================] - 5s 141us/sample - loss: 2.4696 - sparse_categorical_accuracy: 0.2131 - val_loss: 2.4458 - val_sparse_categorical_accuracy: 0.2337\n",
      "Epoch 3/5\n",
      "37500/37500 [==============================] - 5s 144us/sample - loss: 2.4151 - sparse_categorical_accuracy: 0.2433 - val_loss: 2.3891 - val_sparse_categorical_accuracy: 0.2526\n",
      "Epoch 4/5\n",
      "37500/37500 [==============================] - 6s 147us/sample - loss: 2.3548 - sparse_categorical_accuracy: 0.2600 - val_loss: 2.3295 - val_sparse_categorical_accuracy: 0.2734\n",
      "Epoch 5/5\n",
      "37500/37500 [==============================] - 5s 144us/sample - loss: 2.2956 - sparse_categorical_accuracy: 0.2770 - val_loss: 2.2747 - val_sparse_categorical_accuracy: 0.2914\n"
     ]
    },
    {
     "name": "stderr",
     "output_type": "stream",
     "text": [
      "\r",
      " 46%|████▌     | 23/50 [10:14<12:45, 28.33s/it]"
     ]
    },
    {
     "name": "stdout",
     "output_type": "stream",
     "text": [
      "0.29136 0.00019914540644919173 0.0006559123047735166\n",
      "Train on 37500 samples, validate on 12500 samples\n",
      "Epoch 1/5\n",
      "37500/37500 [==============================] - 6s 166us/sample - loss: 236.8447 - sparse_categorical_accuracy: 0.0739 - val_loss: 236.4073 - val_sparse_categorical_accuracy: 0.0779\n",
      "Epoch 2/5\n",
      "37500/37500 [==============================] - 5s 147us/sample - loss: 235.9701 - sparse_categorical_accuracy: 0.0743 - val_loss: 235.5344 - val_sparse_categorical_accuracy: 0.0790\n",
      "Epoch 3/5\n",
      "37500/37500 [==============================] - 5s 143us/sample - loss: 235.0989 - sparse_categorical_accuracy: 0.0749 - val_loss: 234.6648 - val_sparse_categorical_accuracy: 0.0794\n",
      "Epoch 4/5\n",
      "37500/37500 [==============================] - 6s 148us/sample - loss: 234.2309 - sparse_categorical_accuracy: 0.0756 - val_loss: 233.7985 - val_sparse_categorical_accuracy: 0.0805\n",
      "Epoch 5/5\n",
      "37500/37500 [==============================] - 5s 146us/sample - loss: 233.3663 - sparse_categorical_accuracy: 0.0762 - val_loss: 232.9355 - val_sparse_categorical_accuracy: 0.0803\n"
     ]
    },
    {
     "name": "stderr",
     "output_type": "stream",
     "text": [
      "\r",
      " 48%|████▊     | 24/50 [10:44<12:23, 28.58s/it]"
     ]
    },
    {
     "name": "stdout",
     "output_type": "stream",
     "text": [
      "0.08032 1.245332445018444e-06 0.6381717438343347\n",
      "Train on 37500 samples, validate on 12500 samples\n",
      "Epoch 1/5\n",
      "37500/37500 [==============================] - 6s 165us/sample - loss: 75.0286 - sparse_categorical_accuracy: 0.1157 - val_loss: 64.9913 - val_sparse_categorical_accuracy: 0.1326\n",
      "Epoch 2/5\n",
      "37500/37500 [==============================] - 5s 145us/sample - loss: 56.7398 - sparse_categorical_accuracy: 0.1541 - val_loss: 49.2356 - val_sparse_categorical_accuracy: 0.1681\n",
      "Epoch 3/5\n",
      "37500/37500 [==============================] - 5s 145us/sample - loss: 43.0602 - sparse_categorical_accuracy: 0.1891 - val_loss: 37.4444 - val_sparse_categorical_accuracy: 0.1993\n",
      "Epoch 4/5\n",
      "37500/37500 [==============================] - 5s 145us/sample - loss: 32.8216 - sparse_categorical_accuracy: 0.2083 - val_loss: 28.6177 - val_sparse_categorical_accuracy: 0.2248\n",
      "Epoch 5/5\n",
      "37500/37500 [==============================] - 5s 146us/sample - loss: 25.1566 - sparse_categorical_accuracy: 0.2280 - val_loss: 22.0097 - val_sparse_categorical_accuracy: 0.2341\n"
     ]
    },
    {
     "name": "stderr",
     "output_type": "stream",
     "text": [
      "\r",
      " 50%|█████     | 25/50 [11:13<11:58, 28.72s/it]"
     ]
    },
    {
     "name": "stdout",
     "output_type": "stream",
     "text": [
      "0.23408 0.00027230955807228704 0.22663506850592735\n",
      "Train on 37500 samples, validate on 12500 samples\n",
      "Epoch 1/5\n",
      "37500/37500 [==============================] - 6s 164us/sample - loss: 2.8537 - sparse_categorical_accuracy: 0.0901 - val_loss: 2.8514 - val_sparse_categorical_accuracy: 0.0862\n",
      "Epoch 2/5\n",
      "37500/37500 [==============================] - 6s 151us/sample - loss: 2.8455 - sparse_categorical_accuracy: 0.0918 - val_loss: 2.8437 - val_sparse_categorical_accuracy: 0.0894\n",
      "Epoch 3/5\n",
      "37500/37500 [==============================] - 5s 146us/sample - loss: 2.8385 - sparse_categorical_accuracy: 0.0961 - val_loss: 2.8370 - val_sparse_categorical_accuracy: 0.0942\n",
      "Epoch 4/5\n",
      "37500/37500 [==============================] - 5s 146us/sample - loss: 2.8324 - sparse_categorical_accuracy: 0.1039 - val_loss: 2.8309 - val_sparse_categorical_accuracy: 0.1029\n",
      "Epoch 5/5\n",
      "37500/37500 [==============================] - 6s 147us/sample - loss: 2.8266 - sparse_categorical_accuracy: 0.1122 - val_loss: 2.8251 - val_sparse_categorical_accuracy: 0.1150\n"
     ]
    },
    {
     "name": "stderr",
     "output_type": "stream",
     "text": [
      "\r",
      " 52%|█████▏    | 26/50 [11:42<11:34, 28.95s/it]"
     ]
    },
    {
     "name": "stdout",
     "output_type": "stream",
     "text": [
      "0.11496 4.565743994890545e-05 0.001465523176414053\n",
      "Train on 37500 samples, validate on 12500 samples\n",
      "Epoch 1/5\n",
      "37500/37500 [==============================] - 6s 168us/sample - loss: 2.3487 - sparse_categorical_accuracy: 0.0706 - val_loss: 2.3478 - val_sparse_categorical_accuracy: 0.0699\n",
      "Epoch 2/5\n",
      "37500/37500 [==============================] - 5s 145us/sample - loss: 2.3409 - sparse_categorical_accuracy: 0.0734 - val_loss: 2.3404 - val_sparse_categorical_accuracy: 0.0730\n",
      "Epoch 3/5\n",
      "37500/37500 [==============================] - 5s 147us/sample - loss: 2.3343 - sparse_categorical_accuracy: 0.0780 - val_loss: 2.3340 - val_sparse_categorical_accuracy: 0.0774\n",
      "Epoch 4/5\n",
      "37500/37500 [==============================] - 5s 146us/sample - loss: 2.3286 - sparse_categorical_accuracy: 0.0822 - val_loss: 2.3285 - val_sparse_categorical_accuracy: 0.0820\n",
      "Epoch 5/5\n",
      "37500/37500 [==============================] - 6s 147us/sample - loss: 2.3235 - sparse_categorical_accuracy: 0.0864 - val_loss: 2.3235 - val_sparse_categorical_accuracy: 0.0864\n"
     ]
    },
    {
     "name": "stderr",
     "output_type": "stream",
     "text": [
      "\r",
      " 54%|█████▍    | 27/50 [12:12<11:08, 29.09s/it]"
     ]
    },
    {
     "name": "stdout",
     "output_type": "stream",
     "text": [
      "0.0864 1.2987603982087528e-05 3.9941818395770636e-05\n",
      "Train on 37500 samples, validate on 12500 samples\n",
      "Epoch 1/5\n",
      "37500/37500 [==============================] - 6s 170us/sample - loss: 2.4316 - sparse_categorical_accuracy: 0.1009 - val_loss: 2.4309 - val_sparse_categorical_accuracy: 0.1022\n",
      "Epoch 2/5\n",
      "37500/37500 [==============================] - 6s 149us/sample - loss: 2.4261 - sparse_categorical_accuracy: 0.1049 - val_loss: 2.4258 - val_sparse_categorical_accuracy: 0.1098\n",
      "Epoch 3/5\n",
      "37500/37500 [==============================] - 6s 152us/sample - loss: 2.4214 - sparse_categorical_accuracy: 0.1120 - val_loss: 2.4214 - val_sparse_categorical_accuracy: 0.1135\n",
      "Epoch 4/5\n",
      "37500/37500 [==============================] - 6s 149us/sample - loss: 2.4172 - sparse_categorical_accuracy: 0.1166 - val_loss: 2.4173 - val_sparse_categorical_accuracy: 0.1163\n",
      "Epoch 5/5\n",
      "37500/37500 [==============================] - 6s 150us/sample - loss: 2.4133 - sparse_categorical_accuracy: 0.1212 - val_loss: 2.4135 - val_sparse_categorical_accuracy: 0.1200\n"
     ]
    },
    {
     "name": "stderr",
     "output_type": "stream",
     "text": [
      "\r",
      " 56%|█████▌    | 28/50 [12:42<10:46, 29.39s/it]"
     ]
    },
    {
     "name": "stdout",
     "output_type": "stream",
     "text": [
      "0.12 2.291854696844903e-05 0.0003355646731915569\n",
      "Train on 37500 samples, validate on 12500 samples\n",
      "Epoch 1/5\n",
      "37500/37500 [==============================] - 6s 170us/sample - loss: 2.2844 - sparse_categorical_accuracy: 0.1933 - val_loss: 2.2007 - val_sparse_categorical_accuracy: 0.2404\n",
      "Epoch 2/5\n",
      "37500/37500 [==============================] - 6s 147us/sample - loss: 2.0998 - sparse_categorical_accuracy: 0.2765 - val_loss: 2.0122 - val_sparse_categorical_accuracy: 0.3106\n",
      "Epoch 3/5\n",
      "37500/37500 [==============================] - 6s 148us/sample - loss: 1.9419 - sparse_categorical_accuracy: 0.3360 - val_loss: 1.8910 - val_sparse_categorical_accuracy: 0.3561\n",
      "Epoch 4/5\n",
      "37500/37500 [==============================] - 6s 150us/sample - loss: 1.8453 - sparse_categorical_accuracy: 0.3709 - val_loss: 1.8112 - val_sparse_categorical_accuracy: 0.3795\n",
      "Epoch 5/5\n",
      "37500/37500 [==============================] - 6s 147us/sample - loss: 1.7707 - sparse_categorical_accuracy: 0.3952 - val_loss: 1.7507 - val_sparse_categorical_accuracy: 0.3956\n"
     ]
    },
    {
     "name": "stderr",
     "output_type": "stream",
     "text": [
      "\r",
      " 58%|█████▊    | 29/50 [13:11<10:19, 29.51s/it]"
     ]
    },
    {
     "name": "stdout",
     "output_type": "stream",
     "text": [
      "0.3956 0.0006602754830563 0.00016828649518335785\n",
      "Train on 37500 samples, validate on 12500 samples\n",
      "Epoch 1/5\n",
      "37500/37500 [==============================] - 6s 173us/sample - loss: 142.3142 - sparse_categorical_accuracy: 0.1421 - val_loss: 54.6371 - val_sparse_categorical_accuracy: 0.1755\n",
      "Epoch 2/5\n",
      "37500/37500 [==============================] - 6s 151us/sample - loss: 27.2610 - sparse_categorical_accuracy: 0.1927 - val_loss: 11.6325 - val_sparse_categorical_accuracy: 0.1445\n",
      "Epoch 3/5\n",
      "37500/37500 [==============================] - 6s 150us/sample - loss: 6.7520 - sparse_categorical_accuracy: 0.1036 - val_loss: 3.9658 - val_sparse_categorical_accuracy: 0.1001\n",
      "Epoch 4/5\n",
      "37500/37500 [==============================] - 6s 150us/sample - loss: 3.0957 - sparse_categorical_accuracy: 0.1017 - val_loss: 2.5991 - val_sparse_categorical_accuracy: 0.1001\n",
      "Epoch 5/5\n",
      "37500/37500 [==============================] - 6s 150us/sample - loss: 2.4440 - sparse_categorical_accuracy: 0.1001 - val_loss: 2.3555 - val_sparse_categorical_accuracy: 0.0958\n"
     ]
    },
    {
     "name": "stderr",
     "output_type": "stream",
     "text": [
      "\r",
      " 60%|██████    | 30/50 [13:42<09:54, 29.74s/it]"
     ]
    },
    {
     "name": "stdout",
     "output_type": "stream",
     "text": [
      "0.09584 0.0004616611846376879 0.7965989748949318\n",
      "Train on 37500 samples, validate on 12500 samples\n",
      "Epoch 1/5\n",
      "37500/37500 [==============================] - 6s 172us/sample - loss: 43.7769 - sparse_categorical_accuracy: 0.0945 - val_loss: 43.7136 - val_sparse_categorical_accuracy: 0.0896\n",
      "Epoch 2/5\n",
      "37500/37500 [==============================] - 6s 150us/sample - loss: 43.6549 - sparse_categorical_accuracy: 0.0945 - val_loss: 43.5924 - val_sparse_categorical_accuracy: 0.0900\n",
      "Epoch 3/5\n",
      "37500/37500 [==============================] - 6s 148us/sample - loss: 43.5340 - sparse_categorical_accuracy: 0.0947 - val_loss: 43.4721 - val_sparse_categorical_accuracy: 0.0900\n",
      "Epoch 4/5\n",
      "37500/37500 [==============================] - 6s 151us/sample - loss: 43.4140 - sparse_categorical_accuracy: 0.0950 - val_loss: 43.3527 - val_sparse_categorical_accuracy: 0.0910\n",
      "Epoch 5/5\n",
      "37500/37500 [==============================] - 6s 149us/sample - loss: 43.2948 - sparse_categorical_accuracy: 0.0957 - val_loss: 43.2341 - val_sparse_categorical_accuracy: 0.0922\n"
     ]
    },
    {
     "name": "stderr",
     "output_type": "stream",
     "text": [
      "\r",
      " 62%|██████▏   | 31/50 [14:12<09:27, 29.86s/it]"
     ]
    },
    {
     "name": "stdout",
     "output_type": "stream",
     "text": [
      "0.09216 5.297062818436455e-06 0.11255587710037956\n",
      "Train on 37500 samples, validate on 12500 samples\n",
      "Epoch 1/5\n",
      "37500/37500 [==============================] - 7s 175us/sample - loss: 2.3373 - sparse_categorical_accuracy: 0.0986 - val_loss: 2.3333 - val_sparse_categorical_accuracy: 0.1012\n",
      "Epoch 2/5\n",
      "37500/37500 [==============================] - 6s 154us/sample - loss: 2.3246 - sparse_categorical_accuracy: 0.1056 - val_loss: 2.3220 - val_sparse_categorical_accuracy: 0.1055\n",
      "Epoch 3/5\n",
      "37500/37500 [==============================] - 6s 151us/sample - loss: 2.3152 - sparse_categorical_accuracy: 0.1147 - val_loss: 2.3132 - val_sparse_categorical_accuracy: 0.1128\n",
      "Epoch 4/5\n",
      "37500/37500 [==============================] - 6s 153us/sample - loss: 2.3075 - sparse_categorical_accuracy: 0.1234 - val_loss: 2.3057 - val_sparse_categorical_accuracy: 0.1203\n",
      "Epoch 5/5\n",
      "37500/37500 [==============================] - 6s 157us/sample - loss: 2.3007 - sparse_categorical_accuracy: 0.1319 - val_loss: 2.2991 - val_sparse_categorical_accuracy: 0.1303\n"
     ]
    },
    {
     "name": "stderr",
     "output_type": "stream",
     "text": [
      "\r",
      " 64%|██████▍   | 32/50 [14:43<09:02, 30.17s/it]"
     ]
    },
    {
     "name": "stdout",
     "output_type": "stream",
     "text": [
      "0.13032 2.2503908891627204e-05 4.162739144190454e-05\n",
      "Train on 37500 samples, validate on 12500 samples\n",
      "Epoch 1/5\n",
      "37500/37500 [==============================] - 7s 176us/sample - loss: 2.5000 - sparse_categorical_accuracy: 0.1047 - val_loss: 2.4812 - val_sparse_categorical_accuracy: 0.1190\n",
      "Epoch 2/5\n",
      "37500/37500 [==============================] - 6s 154us/sample - loss: 2.4671 - sparse_categorical_accuracy: 0.1457 - val_loss: 2.4545 - val_sparse_categorical_accuracy: 0.1741\n",
      "Epoch 3/5\n",
      "37500/37500 [==============================] - 6s 152us/sample - loss: 2.4413 - sparse_categorical_accuracy: 0.1967 - val_loss: 2.4293 - val_sparse_categorical_accuracy: 0.2183\n",
      "Epoch 4/5\n",
      "37500/37500 [==============================] - 6s 151us/sample - loss: 2.4149 - sparse_categorical_accuracy: 0.2240 - val_loss: 2.4020 - val_sparse_categorical_accuracy: 0.2362\n",
      "Epoch 5/5\n",
      "37500/37500 [==============================] - 6s 153us/sample - loss: 2.3861 - sparse_categorical_accuracy: 0.2402 - val_loss: 2.3726 - val_sparse_categorical_accuracy: 0.2497\n"
     ]
    },
    {
     "name": "stderr",
     "output_type": "stream",
     "text": [
      "\r",
      " 66%|██████▌   | 33/50 [15:13<08:35, 30.35s/it]"
     ]
    },
    {
     "name": "stdout",
     "output_type": "stream",
     "text": [
      "0.24968 0.0001044427623539825 0.0005267339009957747\n",
      "Train on 37500 samples, validate on 12500 samples\n",
      "Epoch 1/5\n",
      "37500/37500 [==============================] - 7s 176us/sample - loss: 2.3904 - sparse_categorical_accuracy: 0.1855 - val_loss: 2.2886 - val_sparse_categorical_accuracy: 0.2619\n",
      "Epoch 2/5\n",
      "37500/37500 [==============================] - 6s 156us/sample - loss: 2.1753 - sparse_categorical_accuracy: 0.2874 - val_loss: 2.0784 - val_sparse_categorical_accuracy: 0.3255\n",
      "Epoch 3/5\n",
      "37500/37500 [==============================] - 6s 153us/sample - loss: 2.0053 - sparse_categorical_accuracy: 0.3446 - val_loss: 1.9529 - val_sparse_categorical_accuracy: 0.3726\n",
      "Epoch 4/5\n",
      "37500/37500 [==============================] - 6s 153us/sample - loss: 1.8938 - sparse_categorical_accuracy: 0.3844 - val_loss: 1.8548 - val_sparse_categorical_accuracy: 0.3985\n",
      "Epoch 5/5\n",
      "37500/37500 [==============================] - 6s 155us/sample - loss: 1.8005 - sparse_categorical_accuracy: 0.4185 - val_loss: 1.7815 - val_sparse_categorical_accuracy: 0.4238\n"
     ]
    },
    {
     "name": "stderr",
     "output_type": "stream",
     "text": [
      "\r",
      " 68%|██████▊   | 34/50 [15:45<08:08, 30.56s/it]"
     ]
    },
    {
     "name": "stdout",
     "output_type": "stream",
     "text": [
      "0.42376 0.000831752536619696 0.00043142491103277783\n",
      "Train on 37500 samples, validate on 12500 samples\n",
      "Epoch 1/5\n",
      "37500/37500 [==============================] - 7s 177us/sample - loss: 17.2927 - sparse_categorical_accuracy: 0.0947 - val_loss: 17.2825 - val_sparse_categorical_accuracy: 0.1000\n",
      "Epoch 2/5\n",
      "37500/37500 [==============================] - 6s 155us/sample - loss: 17.2800 - sparse_categorical_accuracy: 0.0943 - val_loss: 17.2701 - val_sparse_categorical_accuracy: 0.1002\n",
      "Epoch 3/5\n",
      "37500/37500 [==============================] - 6s 153us/sample - loss: 17.2676 - sparse_categorical_accuracy: 0.0937 - val_loss: 17.2581 - val_sparse_categorical_accuracy: 0.0997\n",
      "Epoch 4/5\n",
      "37500/37500 [==============================] - 6s 151us/sample - loss: 17.2557 - sparse_categorical_accuracy: 0.0932 - val_loss: 17.2464 - val_sparse_categorical_accuracy: 0.0994\n",
      "Epoch 5/5\n",
      "37500/37500 [==============================] - 6s 154us/sample - loss: 17.2441 - sparse_categorical_accuracy: 0.0931 - val_loss: 17.2351 - val_sparse_categorical_accuracy: 0.0991\n"
     ]
    },
    {
     "name": "stderr",
     "output_type": "stream",
     "text": [
      "\r",
      " 70%|███████   | 35/50 [16:16<07:40, 30.69s/it]"
     ]
    },
    {
     "name": "stdout",
     "output_type": "stream",
     "text": [
      "0.09912 2.736513414119238e-06 0.04055467928836416\n",
      "Train on 37500 samples, validate on 12500 samples\n",
      "Epoch 1/5\n",
      "37500/37500 [==============================] - 7s 176us/sample - loss: 804.1680 - sparse_categorical_accuracy: 0.1123 - val_loss: 575.3551 - val_sparse_categorical_accuracy: 0.1137\n",
      "Epoch 2/5\n",
      "37500/37500 [==============================] - 6s 159us/sample - loss: 426.1561 - sparse_categorical_accuracy: 0.1146 - val_loss: 305.2130 - val_sparse_categorical_accuracy: 0.1149\n",
      "Epoch 3/5\n",
      "37500/37500 [==============================] - 6s 155us/sample - loss: 226.3484 - sparse_categorical_accuracy: 0.1158 - val_loss: 162.4192 - val_sparse_categorical_accuracy: 0.1166\n",
      "Epoch 4/5\n",
      "37500/37500 [==============================] - 6s 153us/sample - loss: 120.7319 - sparse_categorical_accuracy: 0.1200 - val_loss: 86.9394 - val_sparse_categorical_accuracy: 0.1256\n",
      "Epoch 5/5\n",
      "37500/37500 [==============================] - 6s 156us/sample - loss: 64.9037 - sparse_categorical_accuracy: 0.1299 - val_loss: 47.0411 - val_sparse_categorical_accuracy: 0.1367\n"
     ]
    },
    {
     "name": "stderr",
     "output_type": "stream",
     "text": [
      "\r",
      " 72%|███████▏  | 36/50 [16:47<07:12, 30.87s/it]"
     ]
    },
    {
     "name": "stdout",
     "output_type": "stream",
     "text": [
      "0.13672 4.641941999669171e-05 2.929287215122453\n",
      "Train on 37500 samples, validate on 12500 samples\n",
      "Epoch 1/5\n",
      "37500/37500 [==============================] - 7s 179us/sample - loss: 84.4363 - sparse_categorical_accuracy: 0.1151 - val_loss: 2.3261 - val_sparse_categorical_accuracy: 0.0958\n",
      "Epoch 2/5\n",
      "37500/37500 [==============================] - 6s 158us/sample - loss: 2.3048 - sparse_categorical_accuracy: 0.1007 - val_loss: 2.3026 - val_sparse_categorical_accuracy: 0.0958\n",
      "Epoch 3/5\n",
      "37500/37500 [==============================] - 6s 157us/sample - loss: 2.3026 - sparse_categorical_accuracy: 0.1014 - val_loss: 2.3026 - val_sparse_categorical_accuracy: 0.0958\n",
      "Epoch 4/5\n",
      "37500/37500 [==============================] - 6s 156us/sample - loss: 2.3026 - sparse_categorical_accuracy: 0.1014 - val_loss: 2.3026 - val_sparse_categorical_accuracy: 0.0958\n",
      "Epoch 5/5\n",
      "37500/37500 [==============================] - 6s 159us/sample - loss: 2.3026 - sparse_categorical_accuracy: 0.1014 - val_loss: 2.3026 - val_sparse_categorical_accuracy: 0.0958\n"
     ]
    },
    {
     "name": "stderr",
     "output_type": "stream",
     "text": [
      "\r",
      " 74%|███████▍  | 37/50 [17:19<06:44, 31.13s/it]"
     ]
    },
    {
     "name": "stdout",
     "output_type": "stream",
     "text": [
      "0.09584 0.0009592532957372278 2.3310952214715615\n",
      "Train on 37500 samples, validate on 12500 samples\n",
      "Epoch 1/5\n",
      "37500/37500 [==============================] - 7s 179us/sample - loss: 138.7026 - sparse_categorical_accuracy: 0.1030 - val_loss: 2.3032 - val_sparse_categorical_accuracy: 0.0999\n",
      "Epoch 2/5\n",
      "37500/37500 [==============================] - 6s 156us/sample - loss: 2.3026 - sparse_categorical_accuracy: 0.1007 - val_loss: 2.3026 - val_sparse_categorical_accuracy: 0.0958\n",
      "Epoch 3/5\n",
      "37500/37500 [==============================] - 6s 157us/sample - loss: 2.3026 - sparse_categorical_accuracy: 0.0998 - val_loss: 2.3026 - val_sparse_categorical_accuracy: 0.0958\n",
      "Epoch 4/5\n",
      "37500/37500 [==============================] - 6s 157us/sample - loss: 2.3026 - sparse_categorical_accuracy: 0.1014 - val_loss: 2.3026 - val_sparse_categorical_accuracy: 0.0958\n",
      "Epoch 5/5\n",
      "37500/37500 [==============================] - 6s 158us/sample - loss: 2.3026 - sparse_categorical_accuracy: 0.1014 - val_loss: 2.3026 - val_sparse_categorical_accuracy: 0.0958\n"
     ]
    },
    {
     "name": "stderr",
     "output_type": "stream",
     "text": [
      "\r",
      " 76%|███████▌  | 38/50 [17:50<06:15, 31.29s/it]"
     ]
    },
    {
     "name": "stdout",
     "output_type": "stream",
     "text": [
      "0.09584 0.0005781277603676087 5.546747502952521\n",
      "Train on 37500 samples, validate on 12500 samples\n",
      "Epoch 1/5\n",
      "37500/37500 [==============================] - 7s 183us/sample - loss: 13.0391 - sparse_categorical_accuracy: 0.1291 - val_loss: 12.7840 - val_sparse_categorical_accuracy: 0.1723\n",
      "Epoch 2/5\n",
      "37500/37500 [==============================] - 6s 159us/sample - loss: 12.5396 - sparse_categorical_accuracy: 0.1924 - val_loss: 12.3009 - val_sparse_categorical_accuracy: 0.2125\n",
      "Epoch 3/5\n",
      "37500/37500 [==============================] - 6s 158us/sample - loss: 12.0599 - sparse_categorical_accuracy: 0.2346 - val_loss: 11.8241 - val_sparse_categorical_accuracy: 0.2542\n",
      "Epoch 4/5\n",
      "37500/37500 [==============================] - 6s 157us/sample - loss: 11.5857 - sparse_categorical_accuracy: 0.2637 - val_loss: 11.3574 - val_sparse_categorical_accuracy: 0.2702\n",
      "Epoch 5/5\n",
      "37500/37500 [==============================] - 6s 158us/sample - loss: 11.1290 - sparse_categorical_accuracy: 0.2764 - val_loss: 10.9155 - val_sparse_categorical_accuracy: 0.2860\n"
     ]
    },
    {
     "name": "stderr",
     "output_type": "stream",
     "text": [
      "\r",
      " 78%|███████▊  | 39/50 [18:22<05:46, 31.49s/it]"
     ]
    },
    {
     "name": "stdout",
     "output_type": "stream",
     "text": [
      "0.286 0.00030987532665037036 0.029761459918123602\n",
      "Train on 37500 samples, validate on 12500 samples\n",
      "Epoch 1/5\n",
      "37500/37500 [==============================] - 7s 185us/sample - loss: 115.0909 - sparse_categorical_accuracy: 0.1363 - val_loss: 46.6687 - val_sparse_categorical_accuracy: 0.1754\n",
      "Epoch 2/5\n",
      "37500/37500 [==============================] - 6s 165us/sample - loss: 24.0926 - sparse_categorical_accuracy: 0.1970 - val_loss: 10.8753 - val_sparse_categorical_accuracy: 0.1722\n",
      "Epoch 3/5\n",
      "37500/37500 [==============================] - 6s 169us/sample - loss: 6.5130 - sparse_categorical_accuracy: 0.1156 - val_loss: 3.9590 - val_sparse_categorical_accuracy: 0.1001\n",
      "Epoch 4/5\n",
      "37500/37500 [==============================] - 6s 159us/sample - loss: 3.1161 - sparse_categorical_accuracy: 0.1008 - val_loss: 2.6226 - val_sparse_categorical_accuracy: 0.1001\n",
      "Epoch 5/5\n",
      "37500/37500 [==============================] - 6s 160us/sample - loss: 2.4598 - sparse_categorical_accuracy: 0.1005 - val_loss: 2.3644 - val_sparse_categorical_accuracy: 0.0958\n"
     ]
    },
    {
     "name": "stderr",
     "output_type": "stream",
     "text": [
      "\r",
      " 80%|████████  | 40/50 [18:55<05:19, 31.92s/it]"
     ]
    },
    {
     "name": "stdout",
     "output_type": "stream",
     "text": [
      "0.09584 0.0005641782573664366 0.6214543228876042\n",
      "Train on 37500 samples, validate on 12500 samples\n",
      "Epoch 1/5\n",
      "37500/37500 [==============================] - 7s 184us/sample - loss: 23.1515 - sparse_categorical_accuracy: 0.1026 - val_loss: 23.0825 - val_sparse_categorical_accuracy: 0.1104\n",
      "Epoch 2/5\n",
      "37500/37500 [==============================] - 6s 160us/sample - loss: 23.0201 - sparse_categorical_accuracy: 0.1118 - val_loss: 22.9527 - val_sparse_categorical_accuracy: 0.1234\n",
      "Epoch 3/5\n",
      "37500/37500 [==============================] - 6s 160us/sample - loss: 22.8910 - sparse_categorical_accuracy: 0.1235 - val_loss: 22.8249 - val_sparse_categorical_accuracy: 0.1375\n",
      "Epoch 4/5\n",
      "37500/37500 [==============================] - 6s 159us/sample - loss: 22.7637 - sparse_categorical_accuracy: 0.1364 - val_loss: 22.6986 - val_sparse_categorical_accuracy: 0.1473\n",
      "Epoch 5/5\n",
      "37500/37500 [==============================] - 6s 160us/sample - loss: 22.6376 - sparse_categorical_accuracy: 0.1473 - val_loss: 22.5733 - val_sparse_categorical_accuracy: 0.1574\n"
     ]
    },
    {
     "name": "stderr",
     "output_type": "stream",
     "text": [
      "\r",
      " 82%|████████▏ | 41/50 [19:27<04:48, 32.05s/it]"
     ]
    },
    {
     "name": "stdout",
     "output_type": "stream",
     "text": [
      "0.15736 2.2276810627480724e-05 0.05663111138867308\n",
      "Train on 37500 samples, validate on 12500 samples\n",
      "Epoch 1/5\n",
      "37500/37500 [==============================] - 7s 182us/sample - loss: 842.6514 - sparse_categorical_accuracy: 0.1002 - val_loss: 738.9765 - val_sparse_categorical_accuracy: 0.1016\n",
      "Epoch 2/5\n",
      "37500/37500 [==============================] - 6s 159us/sample - loss: 651.8334 - sparse_categorical_accuracy: 0.1019 - val_loss: 571.7041 - val_sparse_categorical_accuracy: 0.1032\n",
      "Epoch 3/5\n",
      "37500/37500 [==============================] - 6s 159us/sample - loss: 504.3499 - sparse_categorical_accuracy: 0.1045 - val_loss: 442.4162 - val_sparse_categorical_accuracy: 0.1073\n",
      "Epoch 4/5\n",
      "37500/37500 [==============================] - 6s 160us/sample - loss: 390.3561 - sparse_categorical_accuracy: 0.1073 - val_loss: 342.4855 - val_sparse_categorical_accuracy: 0.1093\n",
      "Epoch 5/5\n",
      "37500/37500 [==============================] - 6s 160us/sample - loss: 302.2462 - sparse_categorical_accuracy: 0.1102 - val_loss: 265.2452 - val_sparse_categorical_accuracy: 0.1110\n"
     ]
    },
    {
     "name": "stderr",
     "output_type": "stream",
     "text": [
      "\r",
      " 84%|████████▍ | 42/50 [20:00<04:17, 32.13s/it]"
     ]
    },
    {
     "name": "stdout",
     "output_type": "stream",
     "text": [
      "0.11096 2.1233895546637113e-05 2.587161686940003\n",
      "Train on 37500 samples, validate on 12500 samples\n",
      "Epoch 1/5\n",
      "37500/37500 [==============================] - 7s 187us/sample - loss: 333.5241 - sparse_categorical_accuracy: 0.1057 - val_loss: 108.9939 - val_sparse_categorical_accuracy: 0.1118\n",
      "Epoch 2/5\n",
      "37500/37500 [==============================] - 6s 160us/sample - loss: 49.1942 - sparse_categorical_accuracy: 0.1167 - val_loss: 17.4075 - val_sparse_categorical_accuracy: 0.0990\n",
      "Epoch 3/5\n",
      "37500/37500 [==============================] - 6s 158us/sample - loss: 8.9413 - sparse_categorical_accuracy: 0.1021 - val_loss: 4.4411 - val_sparse_categorical_accuracy: 0.0958\n",
      "Epoch 4/5\n",
      "37500/37500 [==============================] - 6s 158us/sample - loss: 3.2425 - sparse_categorical_accuracy: 0.1014 - val_loss: 2.6054 - val_sparse_categorical_accuracy: 0.0958\n",
      "Epoch 5/5\n",
      "37500/37500 [==============================] - 6s 158us/sample - loss: 2.4356 - sparse_categorical_accuracy: 0.1014 - val_loss: 2.3455 - val_sparse_categorical_accuracy: 0.0958\n"
     ]
    },
    {
     "name": "stderr",
     "output_type": "stream",
     "text": [
      "\r",
      " 86%|████████▌ | 43/50 [20:32<03:45, 32.18s/it]"
     ]
    },
    {
     "name": "stdout",
     "output_type": "stream",
     "text": [
      "0.09584 0.00020412898598143743 2.042017046405931\n",
      "Train on 37500 samples, validate on 12500 samples\n",
      "Epoch 1/5\n",
      "37500/37500 [==============================] - 7s 187us/sample - loss: 2.3556 - sparse_categorical_accuracy: 0.1039 - val_loss: 2.3504 - val_sparse_categorical_accuracy: 0.1114\n",
      "Epoch 2/5\n",
      "37500/37500 [==============================] - 6s 165us/sample - loss: 2.3509 - sparse_categorical_accuracy: 0.1096 - val_loss: 2.3461 - val_sparse_categorical_accuracy: 0.1186\n",
      "Epoch 3/5\n",
      "37500/37500 [==============================] - 6s 162us/sample - loss: 2.3469 - sparse_categorical_accuracy: 0.1163 - val_loss: 2.3424 - val_sparse_categorical_accuracy: 0.1251\n",
      "Epoch 4/5\n",
      "37500/37500 [==============================] - 6s 161us/sample - loss: 2.3432 - sparse_categorical_accuracy: 0.1229 - val_loss: 2.3391 - val_sparse_categorical_accuracy: 0.1324\n",
      "Epoch 5/5\n",
      "37500/37500 [==============================] - 6s 163us/sample - loss: 2.3400 - sparse_categorical_accuracy: 0.1278 - val_loss: 2.3360 - val_sparse_categorical_accuracy: 0.1372\n"
     ]
    },
    {
     "name": "stderr",
     "output_type": "stream",
     "text": [
      "\r",
      " 88%|████████▊ | 44/50 [21:05<03:14, 32.43s/it]"
     ]
    },
    {
     "name": "stdout",
     "output_type": "stream",
     "text": [
      "0.1372 1.111510122146679e-05 0.00011031745317478331\n",
      "Train on 37500 samples, validate on 12500 samples\n",
      "Epoch 1/5\n",
      "37500/37500 [==============================] - 7s 190us/sample - loss: 106.3947 - sparse_categorical_accuracy: 0.1235 - val_loss: 20.4733 - val_sparse_categorical_accuracy: 0.1602\n",
      "Epoch 2/5\n",
      "37500/37500 [==============================] - 6s 167us/sample - loss: 8.3150 - sparse_categorical_accuracy: 0.1063 - val_loss: 3.3523 - val_sparse_categorical_accuracy: 0.0987\n",
      "Epoch 3/5\n",
      "37500/37500 [==============================] - 6s 165us/sample - loss: 2.6499 - sparse_categorical_accuracy: 0.1004 - val_loss: 2.3633 - val_sparse_categorical_accuracy: 0.0987\n",
      "Epoch 4/5\n",
      "37500/37500 [==============================] - 6s 165us/sample - loss: 2.3226 - sparse_categorical_accuracy: 0.0996 - val_loss: 2.3061 - val_sparse_categorical_accuracy: 0.0987\n",
      "Epoch 5/5\n",
      "37500/37500 [==============================] - 6s 165us/sample - loss: 2.3037 - sparse_categorical_accuracy: 0.0999 - val_loss: 2.3028 - val_sparse_categorical_accuracy: 0.0987\n"
     ]
    },
    {
     "name": "stderr",
     "output_type": "stream",
     "text": [
      "\r",
      " 90%|█████████ | 45/50 [21:39<02:43, 32.77s/it]"
     ]
    },
    {
     "name": "stdout",
     "output_type": "stream",
     "text": [
      "0.09872 0.0007125114868672462 0.8531714186026057\n",
      "Train on 37500 samples, validate on 12500 samples\n",
      "Epoch 1/5\n",
      "37500/37500 [==============================] - 7s 191us/sample - loss: 185.5594 - sparse_categorical_accuracy: 0.0942 - val_loss: 181.7338 - val_sparse_categorical_accuracy: 0.0925\n",
      "Epoch 2/5\n",
      "37500/37500 [==============================] - 6s 167us/sample - loss: 178.0213 - sparse_categorical_accuracy: 0.0970 - val_loss: 174.3537 - val_sparse_categorical_accuracy: 0.0942\n",
      "Epoch 3/5\n",
      "37500/37500 [==============================] - 6s 165us/sample - loss: 170.7942 - sparse_categorical_accuracy: 0.0999 - val_loss: 167.2780 - val_sparse_categorical_accuracy: 0.0970\n",
      "Epoch 4/5\n",
      "37500/37500 [==============================] - 6s 168us/sample - loss: 163.8651 - sparse_categorical_accuracy: 0.1025 - val_loss: 160.4938 - val_sparse_categorical_accuracy: 0.0988\n",
      "Epoch 5/5\n",
      "37500/37500 [==============================] - 6s 164us/sample - loss: 157.2215 - sparse_categorical_accuracy: 0.1053 - val_loss: 153.9891 - val_sparse_categorical_accuracy: 0.1016\n"
     ]
    },
    {
     "name": "stderr",
     "output_type": "stream",
     "text": [
      "\r",
      " 92%|█████████▏| 46/50 [22:12<02:12, 33.05s/it]"
     ]
    },
    {
     "name": "stdout",
     "output_type": "stream",
     "text": [
      "0.1016 1.7677559565389593e-05 0.5065200591699996\n",
      "Train on 37500 samples, validate on 12500 samples\n",
      "Epoch 1/5\n",
      "37500/37500 [==============================] - 7s 194us/sample - loss: 2.3383 - sparse_categorical_accuracy: 0.0974 - val_loss: 2.3375 - val_sparse_categorical_accuracy: 0.0990\n",
      "Epoch 2/5\n",
      "37500/37500 [==============================] - 6s 167us/sample - loss: 2.3357 - sparse_categorical_accuracy: 0.0982 - val_loss: 2.3351 - val_sparse_categorical_accuracy: 0.0988\n",
      "Epoch 3/5\n",
      "37500/37500 [==============================] - 6s 166us/sample - loss: 2.3332 - sparse_categorical_accuracy: 0.0985 - val_loss: 2.3328 - val_sparse_categorical_accuracy: 0.0995\n",
      "Epoch 4/5\n",
      "37500/37500 [==============================] - 6s 168us/sample - loss: 2.3310 - sparse_categorical_accuracy: 0.0994 - val_loss: 2.3306 - val_sparse_categorical_accuracy: 0.1001\n",
      "Epoch 5/5\n",
      "37500/37500 [==============================] - 6s 166us/sample - loss: 2.3289 - sparse_categorical_accuracy: 0.0999 - val_loss: 2.3286 - val_sparse_categorical_accuracy: 0.1006\n"
     ]
    },
    {
     "name": "stderr",
     "output_type": "stream",
     "text": [
      "\r",
      " 94%|█████████▍| 47/50 [22:46<01:39, 33.32s/it]"
     ]
    },
    {
     "name": "stdout",
     "output_type": "stream",
     "text": [
      "0.10064 4.78896684198705e-06 3.888299063313561e-05\n",
      "Train on 37500 samples, validate on 12500 samples\n",
      "Epoch 1/5\n",
      "37500/37500 [==============================] - 7s 198us/sample - loss: 1087.9182 - sparse_categorical_accuracy: 0.1320 - val_loss: 962.1972 - val_sparse_categorical_accuracy: 0.1362\n",
      "Epoch 2/5\n",
      "37500/37500 [==============================] - 6s 169us/sample - loss: 855.3547 - sparse_categorical_accuracy: 0.1366 - val_loss: 756.5712 - val_sparse_categorical_accuracy: 0.1410\n",
      "Epoch 3/5\n",
      "37500/37500 [==============================] - 6s 168us/sample - loss: 672.6190 - sparse_categorical_accuracy: 0.1413 - val_loss: 594.9985 - val_sparse_categorical_accuracy: 0.1444\n",
      "Epoch 4/5\n",
      "37500/37500 [==============================] - 6s 170us/sample - loss: 529.0310 - sparse_categorical_accuracy: 0.1449 - val_loss: 468.0385 - val_sparse_categorical_accuracy: 0.1470\n",
      "Epoch 5/5\n",
      "37500/37500 [==============================] - 6s 168us/sample - loss: 416.2023 - sparse_categorical_accuracy: 0.1487 - val_loss: 368.2752 - val_sparse_categorical_accuracy: 0.1506\n"
     ]
    },
    {
     "name": "stderr",
     "output_type": "stream",
     "text": [
      "\r",
      " 96%|█████████▌| 48/50 [23:21<01:07, 33.63s/it]"
     ]
    },
    {
     "name": "stdout",
     "output_type": "stream",
     "text": [
      "0.15056 1.5561827302547444e-05 3.304105937179329\n",
      "Train on 37500 samples, validate on 12500 samples\n",
      "Epoch 1/5\n",
      "37500/37500 [==============================] - 7s 199us/sample - loss: 662.9026 - sparse_categorical_accuracy: 0.0995 - val_loss: 485.9883 - val_sparse_categorical_accuracy: 0.1008\n",
      "Epoch 2/5\n",
      "37500/37500 [==============================] - 6s 169us/sample - loss: 367.1877 - sparse_categorical_accuracy: 0.1015 - val_loss: 269.4754 - val_sparse_categorical_accuracy: 0.1064\n",
      "Epoch 3/5\n",
      "37500/37500 [==============================] - 6s 169us/sample - loss: 203.8550 - sparse_categorical_accuracy: 0.1080 - val_loss: 149.8824 - val_sparse_categorical_accuracy: 0.1125\n",
      "Epoch 4/5\n",
      "37500/37500 [==============================] - 6s 169us/sample - loss: 113.6355 - sparse_categorical_accuracy: 0.1201 - val_loss: 83.8224 - val_sparse_categorical_accuracy: 0.1223\n",
      "Epoch 5/5\n",
      "37500/37500 [==============================] - 6s 169us/sample - loss: 63.8004 - sparse_categorical_accuracy: 0.1249 - val_loss: 47.3323 - val_sparse_categorical_accuracy: 0.1240\n"
     ]
    },
    {
     "name": "stderr",
     "output_type": "stream",
     "text": [
      "\r",
      " 98%|█████████▊| 49/50 [23:55<00:33, 33.90s/it]"
     ]
    },
    {
     "name": "stdout",
     "output_type": "stream",
     "text": [
      "0.124 5.326743720696531e-05 2.376517544936601\n",
      "Train on 37500 samples, validate on 12500 samples\n",
      "Epoch 1/5\n",
      "37500/37500 [==============================] - 8s 202us/sample - loss: 158.4190 - sparse_categorical_accuracy: 0.0924 - val_loss: 156.7535 - val_sparse_categorical_accuracy: 0.0966\n",
      "Epoch 2/5\n",
      "37500/37500 [==============================] - 6s 172us/sample - loss: 155.1073 - sparse_categorical_accuracy: 0.0941 - val_loss: 153.4778 - val_sparse_categorical_accuracy: 0.0978\n",
      "Epoch 3/5\n",
      "37500/37500 [==============================] - 6s 173us/sample - loss: 151.8676 - sparse_categorical_accuracy: 0.0963 - val_loss: 150.2732 - val_sparse_categorical_accuracy: 0.0996\n",
      "Epoch 4/5\n",
      "37500/37500 [==============================] - 6s 171us/sample - loss: 148.6977 - sparse_categorical_accuracy: 0.0981 - val_loss: 147.1375 - val_sparse_categorical_accuracy: 0.1028\n",
      "Epoch 5/5\n",
      "37500/37500 [==============================] - 6s 173us/sample - loss: 145.5960 - sparse_categorical_accuracy: 0.1006 - val_loss: 144.0690 - val_sparse_categorical_accuracy: 0.1050\n"
     ]
    },
    {
     "name": "stderr",
     "output_type": "stream",
     "text": [
      "100%|██████████| 50/50 [24:30<00:00, 29.42s/it]"
     ]
    },
    {
     "name": "stdout",
     "output_type": "stream",
     "text": [
      "0.10496 1.0620766218296954e-05 0.42950402019145745\n"
     ]
    },
    {
     "name": "stderr",
     "output_type": "stream",
     "text": [
      "\n"
     ]
    }
   ],
   "source": [
    "val_acc=[]\n",
    "lrs=[]\n",
    "l2_regs=[]\n",
    "for i in tqdm(range(50)):\n",
    "    lr = 10**np.random.uniform(-3,-6)\n",
    "    l2_reg = 10**np.random.uniform(-5, 1)\n",
    "    model = create_model(num_classes,l2_reg)\n",
    "    model.compile(optimizer=optimizers.SGD(learning_rate=lr),loss='sparse_categorical_crossentropy',metrics=['sparse_categorical_accuracy'])\n",
    "    history = model.fit(X_train,y_train,batch_size=BATCH_SIZE,epochs=5, verbose=1,validation_data=(X_val,y_val))\n",
    "    val_acc.append(history.history['val_sparse_categorical_accuracy'][-1])\n",
    "    lrs.append(lr)\n",
    "    l2_regs.append(l2_reg)\n",
    "    print(history.history['val_sparse_categorical_accuracy'][-1], lr, l2_reg)"
   ]
  },
  {
   "cell_type": "code",
   "execution_count": 22,
   "metadata": {
    "scrolled": true
   },
   "outputs": [],
   "source": [
    "logs=[val_acc,lrs, l2_regs]\n",
    "logs=np.array(logs)\n",
    "# logs=np.sort(logs,axis=0)"
   ]
  },
  {
   "cell_type": "code",
   "execution_count": 23,
   "metadata": {
    "scrolled": true
   },
   "outputs": [
    {
     "data": {
      "text/plain": [
       "array([33, 28,  9, 19, 10, 22, 38, 13,  4, 18], dtype=int64)"
      ]
     },
     "execution_count": 23,
     "metadata": {},
     "output_type": "execute_result"
    }
   ],
   "source": [
    "top10=np.argsort(logs[0,:])[::-1][:10]\n",
    "top10"
   ]
  },
  {
   "cell_type": "code",
   "execution_count": 24,
   "metadata": {
    "scrolled": true
   },
   "outputs": [
    {
     "data": {
      "text/plain": [
       "array([[4.23759997e-01, 3.95599991e-01, 3.68079990e-01, 3.54000002e-01,\n",
       "        3.20959985e-01, 2.91359991e-01, 2.86000013e-01, 2.80000001e-01,\n",
       "        2.72000015e-01, 2.68640012e-01],\n",
       "       [8.31752537e-04, 6.60275483e-04, 9.00967437e-04, 4.59194627e-04,\n",
       "        3.85368228e-04, 1.99145406e-04, 3.09875327e-04, 1.38759774e-04,\n",
       "        2.05684022e-04, 2.01619336e-04],\n",
       "       [4.31424911e-04, 1.68286495e-04, 8.16478544e-02, 1.38335001e-05,\n",
       "        2.59262068e-03, 6.55912305e-04, 2.97614599e-02, 1.68758943e-04,\n",
       "        6.13813402e-03, 4.66915479e-02]])"
      ]
     },
     "execution_count": 24,
     "metadata": {},
     "output_type": "execute_result"
    }
   ],
   "source": [
    "logs[:,top10]"
   ]
  },
  {
   "cell_type": "markdown",
   "metadata": {},
   "source": [
    "#### Fine Search \n",
    "\n",
    "We restrict the fine search to the smaller range and train for 15 epochs."
   ]
  },
  {
   "cell_type": "code",
   "execution_count": 25,
   "metadata": {
    "scrolled": true
   },
   "outputs": [
    {
     "name": "stderr",
     "output_type": "stream",
     "text": [
      "\r",
      "  0%|          | 0/30 [00:00<?, ?it/s]"
     ]
    },
    {
     "name": "stdout",
     "output_type": "stream",
     "text": [
      "Train on 37500 samples, validate on 12500 samples\n",
      "Epoch 1/15\n",
      "37500/37500 [==============================] - 8s 201us/sample - loss: 2.2884 - sparse_categorical_accuracy: 0.2066 - val_loss: 2.1869 - val_sparse_categorical_accuracy: 0.2579\n",
      "Epoch 2/15\n",
      "37500/37500 [==============================] - 7s 174us/sample - loss: 2.0923 - sparse_categorical_accuracy: 0.2918 - val_loss: 2.0196 - val_sparse_categorical_accuracy: 0.3151\n",
      "Epoch 3/15\n",
      "37500/37500 [==============================] - 6s 171us/sample - loss: 1.9393 - sparse_categorical_accuracy: 0.3471 - val_loss: 1.8835 - val_sparse_categorical_accuracy: 0.3687\n",
      "Epoch 4/15\n",
      "37500/37500 [==============================] - 6s 171us/sample - loss: 1.8189 - sparse_categorical_accuracy: 0.3853 - val_loss: 1.7834 - val_sparse_categorical_accuracy: 0.3987\n",
      "Epoch 5/15\n",
      "37500/37500 [==============================] - 6s 173us/sample - loss: 1.7265 - sparse_categorical_accuracy: 0.4185 - val_loss: 1.7033 - val_sparse_categorical_accuracy: 0.4274\n",
      "Epoch 6/15\n",
      "37500/37500 [==============================] - 6s 172us/sample - loss: 1.6542 - sparse_categorical_accuracy: 0.4433 - val_loss: 1.6423 - val_sparse_categorical_accuracy: 0.4449\n",
      "Epoch 7/15\n",
      "37500/37500 [==============================] - 7s 174us/sample - loss: 1.5998 - sparse_categorical_accuracy: 0.4629 - val_loss: 1.6113 - val_sparse_categorical_accuracy: 0.4589\n",
      "Epoch 8/15\n",
      "37500/37500 [==============================] - 6s 172us/sample - loss: 1.5564 - sparse_categorical_accuracy: 0.4793 - val_loss: 1.5623 - val_sparse_categorical_accuracy: 0.4705\n",
      "Epoch 9/15\n",
      "37500/37500 [==============================] - 6s 172us/sample - loss: 1.5177 - sparse_categorical_accuracy: 0.4927 - val_loss: 1.5276 - val_sparse_categorical_accuracy: 0.4891\n",
      "Epoch 10/15\n",
      "37500/37500 [==============================] - 7s 174us/sample - loss: 1.4838 - sparse_categorical_accuracy: 0.5053 - val_loss: 1.4934 - val_sparse_categorical_accuracy: 0.5022\n",
      "Epoch 11/15\n",
      "37500/37500 [==============================] - 6s 171us/sample - loss: 1.4530 - sparse_categorical_accuracy: 0.5178 - val_loss: 1.4748 - val_sparse_categorical_accuracy: 0.5026\n",
      "Epoch 12/15\n",
      "37500/37500 [==============================] - 7s 175us/sample - loss: 1.4252 - sparse_categorical_accuracy: 0.5275 - val_loss: 1.4423 - val_sparse_categorical_accuracy: 0.5175\n",
      "Epoch 13/15\n",
      "37500/37500 [==============================] - 6s 173us/sample - loss: 1.3994 - sparse_categorical_accuracy: 0.5372 - val_loss: 1.4245 - val_sparse_categorical_accuracy: 0.5241\n",
      "Epoch 14/15\n",
      "37500/37500 [==============================] - 6s 173us/sample - loss: 1.3751 - sparse_categorical_accuracy: 0.5458 - val_loss: 1.4112 - val_sparse_categorical_accuracy: 0.5288\n",
      "Epoch 15/15\n",
      "37500/37500 [==============================] - 7s 175us/sample - loss: 1.3539 - sparse_categorical_accuracy: 0.5560 - val_loss: 1.3813 - val_sparse_categorical_accuracy: 0.5404\n"
     ]
    },
    {
     "name": "stderr",
     "output_type": "stream",
     "text": [
      "\r",
      "  3%|▎         | 1/30 [01:40<48:22, 100.09s/it]"
     ]
    },
    {
     "name": "stdout",
     "output_type": "stream",
     "text": [
      "0.5404 0.0007841217979144213 0.00023287114878499984\n",
      "Train on 37500 samples, validate on 12500 samples\n",
      "Epoch 1/15\n",
      "37500/37500 [==============================] - 8s 202us/sample - loss: 2.5988 - sparse_categorical_accuracy: 0.2235 - val_loss: 2.4978 - val_sparse_categorical_accuracy: 0.2749\n",
      "Epoch 2/15\n",
      "37500/37500 [==============================] - 7s 176us/sample - loss: 2.4101 - sparse_categorical_accuracy: 0.2928 - val_loss: 2.3369 - val_sparse_categorical_accuracy: 0.3228\n",
      "Epoch 3/15\n",
      "37500/37500 [==============================] - 6s 173us/sample - loss: 2.2751 - sparse_categorical_accuracy: 0.3402 - val_loss: 2.2218 - val_sparse_categorical_accuracy: 0.3578\n",
      "Epoch 4/15\n",
      "37500/37500 [==============================] - 7s 174us/sample - loss: 2.1696 - sparse_categorical_accuracy: 0.3736 - val_loss: 2.1307 - val_sparse_categorical_accuracy: 0.3880\n",
      "Epoch 5/15\n",
      "37500/37500 [==============================] - 6s 172us/sample - loss: 2.0781 - sparse_categorical_accuracy: 0.4070 - val_loss: 2.0476 - val_sparse_categorical_accuracy: 0.4145\n",
      "Epoch 6/15\n",
      "37500/37500 [==============================] - 6s 173us/sample - loss: 1.9970 - sparse_categorical_accuracy: 0.4324 - val_loss: 1.9784 - val_sparse_categorical_accuracy: 0.4404\n",
      "Epoch 7/15\n",
      "37500/37500 [==============================] - 7s 177us/sample - loss: 1.9312 - sparse_categorical_accuracy: 0.4547 - val_loss: 1.9353 - val_sparse_categorical_accuracy: 0.4550\n",
      "Epoch 8/15\n",
      "37500/37500 [==============================] - 6s 172us/sample - loss: 1.8785 - sparse_categorical_accuracy: 0.4729 - val_loss: 1.8756 - val_sparse_categorical_accuracy: 0.4730\n",
      "Epoch 9/15\n",
      "37500/37500 [==============================] - 7s 174us/sample - loss: 1.8368 - sparse_categorical_accuracy: 0.4866 - val_loss: 1.8403 - val_sparse_categorical_accuracy: 0.4902\n",
      "Epoch 10/15\n",
      "37500/37500 [==============================] - 6s 173us/sample - loss: 1.8008 - sparse_categorical_accuracy: 0.5007 - val_loss: 1.8156 - val_sparse_categorical_accuracy: 0.4922\n",
      "Epoch 11/15\n",
      "37500/37500 [==============================] - 6s 173us/sample - loss: 1.7687 - sparse_categorical_accuracy: 0.5142 - val_loss: 1.7892 - val_sparse_categorical_accuracy: 0.5050\n",
      "Epoch 12/15\n",
      "37500/37500 [==============================] - 7s 176us/sample - loss: 1.7411 - sparse_categorical_accuracy: 0.5221 - val_loss: 1.7642 - val_sparse_categorical_accuracy: 0.5130\n",
      "Epoch 13/15\n",
      "37500/37500 [==============================] - 6s 172us/sample - loss: 1.7129 - sparse_categorical_accuracy: 0.5333 - val_loss: 1.7458 - val_sparse_categorical_accuracy: 0.5193\n",
      "Epoch 14/15\n",
      "37500/37500 [==============================] - 7s 174us/sample - loss: 1.6875 - sparse_categorical_accuracy: 0.5425 - val_loss: 1.7151 - val_sparse_categorical_accuracy: 0.5307\n",
      "Epoch 15/15\n",
      "37500/37500 [==============================] - 6s 173us/sample - loss: 1.6636 - sparse_categorical_accuracy: 0.5518 - val_loss: 1.6977 - val_sparse_categorical_accuracy: 0.5406\n"
     ]
    },
    {
     "name": "stderr",
     "output_type": "stream",
     "text": [
      "\r",
      "  7%|▋         | 2/30 [03:20<46:46, 100.25s/it]"
     ]
    },
    {
     "name": "stdout",
     "output_type": "stream",
     "text": [
      "0.54056 0.0007426967555331415 0.0010876433173139918\n",
      "Train on 37500 samples, validate on 12500 samples\n",
      "Epoch 1/15\n",
      "37500/37500 [==============================] - 8s 205us/sample - loss: 2.2480 - sparse_categorical_accuracy: 0.2227 - val_loss: 2.1218 - val_sparse_categorical_accuracy: 0.2921\n",
      "Epoch 2/15\n",
      "37500/37500 [==============================] - 7s 177us/sample - loss: 2.0104 - sparse_categorical_accuracy: 0.3186 - val_loss: 1.9263 - val_sparse_categorical_accuracy: 0.3432\n",
      "Epoch 3/15\n",
      "37500/37500 [==============================] - 7s 178us/sample - loss: 1.8539 - sparse_categorical_accuracy: 0.3662 - val_loss: 1.8027 - val_sparse_categorical_accuracy: 0.3842\n",
      "Epoch 4/15\n",
      "37500/37500 [==============================] - 7s 177us/sample - loss: 1.7441 - sparse_categorical_accuracy: 0.4058 - val_loss: 1.7176 - val_sparse_categorical_accuracy: 0.4129\n",
      "Epoch 5/15\n",
      "37500/37500 [==============================] - 7s 175us/sample - loss: 1.6574 - sparse_categorical_accuracy: 0.4339 - val_loss: 1.6334 - val_sparse_categorical_accuracy: 0.4432\n",
      "Epoch 6/15\n",
      "37500/37500 [==============================] - 7s 177us/sample - loss: 1.5862 - sparse_categorical_accuracy: 0.4575 - val_loss: 1.5642 - val_sparse_categorical_accuracy: 0.4687\n",
      "Epoch 7/15\n",
      "37500/37500 [==============================] - 7s 176us/sample - loss: 1.5257 - sparse_categorical_accuracy: 0.4798 - val_loss: 1.5206 - val_sparse_categorical_accuracy: 0.4866\n",
      "Epoch 8/15\n",
      "37500/37500 [==============================] - 7s 179us/sample - loss: 1.4728 - sparse_categorical_accuracy: 0.4995 - val_loss: 1.4903 - val_sparse_categorical_accuracy: 0.4919\n",
      "Epoch 9/15\n",
      "37500/37500 [==============================] - 7s 176us/sample - loss: 1.4284 - sparse_categorical_accuracy: 0.5149 - val_loss: 1.4553 - val_sparse_categorical_accuracy: 0.5028\n",
      "Epoch 10/15\n",
      "37500/37500 [==============================] - 7s 176us/sample - loss: 1.3903 - sparse_categorical_accuracy: 0.5295 - val_loss: 1.3995 - val_sparse_categorical_accuracy: 0.5214\n",
      "Epoch 11/15\n",
      "37500/37500 [==============================] - 7s 177us/sample - loss: 1.3528 - sparse_categorical_accuracy: 0.5421 - val_loss: 1.3964 - val_sparse_categorical_accuracy: 0.5262\n",
      "Epoch 12/15\n",
      "37500/37500 [==============================] - 7s 176us/sample - loss: 1.3215 - sparse_categorical_accuracy: 0.5537 - val_loss: 1.3515 - val_sparse_categorical_accuracy: 0.5453\n",
      "Epoch 13/15\n",
      "37500/37500 [==============================] - 7s 177us/sample - loss: 1.2919 - sparse_categorical_accuracy: 0.5658 - val_loss: 1.3226 - val_sparse_categorical_accuracy: 0.5549\n",
      "Epoch 14/15\n",
      "37500/37500 [==============================] - 7s 175us/sample - loss: 1.2653 - sparse_categorical_accuracy: 0.5759 - val_loss: 1.2956 - val_sparse_categorical_accuracy: 0.5637\n",
      "Epoch 15/15\n",
      "37500/37500 [==============================] - 7s 179us/sample - loss: 1.2394 - sparse_categorical_accuracy: 0.5847 - val_loss: 1.2773 - val_sparse_categorical_accuracy: 0.5750\n"
     ]
    },
    {
     "name": "stderr",
     "output_type": "stream",
     "text": [
      "\r",
      " 10%|█         | 3/30 [05:03<45:23, 100.87s/it]"
     ]
    },
    {
     "name": "stdout",
     "output_type": "stream",
     "text": [
      "0.57496 0.0009905592866632843 0.0001501678259525072\n",
      "Train on 37500 samples, validate on 12500 samples\n",
      "Epoch 1/15\n",
      "37500/37500 [==============================] - 8s 204us/sample - loss: 2.2909 - sparse_categorical_accuracy: 0.1365 - val_loss: 2.2697 - val_sparse_categorical_accuracy: 0.1601\n",
      "Epoch 2/15\n",
      "37500/37500 [==============================] - 7s 178us/sample - loss: 2.2475 - sparse_categorical_accuracy: 0.1775 - val_loss: 2.2322 - val_sparse_categorical_accuracy: 0.1888\n",
      "Epoch 3/15\n",
      "37500/37500 [==============================] - 7s 176us/sample - loss: 2.2095 - sparse_categorical_accuracy: 0.1974 - val_loss: 2.1944 - val_sparse_categorical_accuracy: 0.2098\n",
      "Epoch 4/15\n",
      "37500/37500 [==============================] - 7s 175us/sample - loss: 2.1704 - sparse_categorical_accuracy: 0.2194 - val_loss: 2.1548 - val_sparse_categorical_accuracy: 0.2322\n",
      "Epoch 5/15\n",
      "37500/37500 [==============================] - 7s 177us/sample - loss: 2.1295 - sparse_categorical_accuracy: 0.2430 - val_loss: 2.1135 - val_sparse_categorical_accuracy: 0.2550\n",
      "Epoch 6/15\n",
      "37500/37500 [==============================] - 7s 174us/sample - loss: 2.0874 - sparse_categorical_accuracy: 0.2637 - val_loss: 2.0716 - val_sparse_categorical_accuracy: 0.2742\n",
      "Epoch 7/15\n",
      "37500/37500 [==============================] - 7s 177us/sample - loss: 2.0472 - sparse_categorical_accuracy: 0.2774 - val_loss: 2.0331 - val_sparse_categorical_accuracy: 0.2867\n",
      "Epoch 8/15\n",
      "37500/37500 [==============================] - 7s 175us/sample - loss: 2.0103 - sparse_categorical_accuracy: 0.2893 - val_loss: 1.9977 - val_sparse_categorical_accuracy: 0.2990\n",
      "Epoch 9/15\n",
      "37500/37500 [==============================] - 7s 176us/sample - loss: 1.9766 - sparse_categorical_accuracy: 0.3005 - val_loss: 1.9657 - val_sparse_categorical_accuracy: 0.3079\n",
      "Epoch 10/15\n",
      "37500/37500 [==============================] - 7s 178us/sample - loss: 1.9455 - sparse_categorical_accuracy: 0.3120 - val_loss: 1.9361 - val_sparse_categorical_accuracy: 0.3170\n",
      "Epoch 11/15\n",
      "37500/37500 [==============================] - 7s 175us/sample - loss: 1.9168 - sparse_categorical_accuracy: 0.3201 - val_loss: 1.9099 - val_sparse_categorical_accuracy: 0.3264\n",
      "Epoch 12/15\n",
      "37500/37500 [==============================] - 7s 178us/sample - loss: 1.8898 - sparse_categorical_accuracy: 0.3314 - val_loss: 1.8838 - val_sparse_categorical_accuracy: 0.3347\n",
      "Epoch 13/15\n",
      "37500/37500 [==============================] - 7s 176us/sample - loss: 1.8645 - sparse_categorical_accuracy: 0.3398 - val_loss: 1.8601 - val_sparse_categorical_accuracy: 0.3438\n",
      "Epoch 14/15\n",
      "37500/37500 [==============================] - 7s 176us/sample - loss: 1.8405 - sparse_categorical_accuracy: 0.3473 - val_loss: 1.8371 - val_sparse_categorical_accuracy: 0.3534\n",
      "Epoch 15/15\n",
      "37500/37500 [==============================] - 7s 181us/sample - loss: 1.8179 - sparse_categorical_accuracy: 0.3545 - val_loss: 1.8169 - val_sparse_categorical_accuracy: 0.3589\n"
     ]
    },
    {
     "name": "stderr",
     "output_type": "stream",
     "text": [
      "\r",
      " 13%|█▎        | 4/30 [06:45<43:53, 101.29s/it]"
     ]
    },
    {
     "name": "stdout",
     "output_type": "stream",
     "text": [
      "0.35888 0.00015934835944658767 7.368166740990548e-06\n",
      "Train on 37500 samples, validate on 12500 samples\n",
      "Epoch 1/15\n",
      "37500/37500 [==============================] - 8s 208us/sample - loss: 2.2700 - sparse_categorical_accuracy: 0.1746 - val_loss: 2.2169 - val_sparse_categorical_accuracy: 0.2347\n",
      "Epoch 2/15\n",
      "37500/37500 [==============================] - 7s 177us/sample - loss: 2.1581 - sparse_categorical_accuracy: 0.2566 - val_loss: 2.0988 - val_sparse_categorical_accuracy: 0.2760\n",
      "Epoch 3/15\n",
      "37500/37500 [==============================] - 7s 176us/sample - loss: 2.0350 - sparse_categorical_accuracy: 0.2916 - val_loss: 1.9787 - val_sparse_categorical_accuracy: 0.3125\n",
      "Epoch 4/15\n",
      "37500/37500 [==============================] - 7s 178us/sample - loss: 1.9292 - sparse_categorical_accuracy: 0.3255 - val_loss: 1.8960 - val_sparse_categorical_accuracy: 0.3362\n",
      "Epoch 5/15\n",
      "37500/37500 [==============================] - 7s 176us/sample - loss: 1.8575 - sparse_categorical_accuracy: 0.3490 - val_loss: 1.8371 - val_sparse_categorical_accuracy: 0.3589\n",
      "Epoch 6/15\n",
      "37500/37500 [==============================] - 7s 178us/sample - loss: 1.8034 - sparse_categorical_accuracy: 0.3653 - val_loss: 1.7889 - val_sparse_categorical_accuracy: 0.3702\n",
      "Epoch 7/15\n",
      "37500/37500 [==============================] - 7s 176us/sample - loss: 1.7566 - sparse_categorical_accuracy: 0.3829 - val_loss: 1.7471 - val_sparse_categorical_accuracy: 0.3868\n",
      "Epoch 8/15\n",
      "37500/37500 [==============================] - 7s 175us/sample - loss: 1.7127 - sparse_categorical_accuracy: 0.3949 - val_loss: 1.7089 - val_sparse_categorical_accuracy: 0.3994\n",
      "Epoch 9/15\n",
      "37500/37500 [==============================] - 7s 177us/sample - loss: 1.6711 - sparse_categorical_accuracy: 0.4110 - val_loss: 1.6649 - val_sparse_categorical_accuracy: 0.4150\n",
      "Epoch 10/15\n",
      "37500/37500 [==============================] - 7s 176us/sample - loss: 1.6317 - sparse_categorical_accuracy: 0.4257 - val_loss: 1.6319 - val_sparse_categorical_accuracy: 0.4242\n",
      "Epoch 11/15\n",
      "37500/37500 [==============================] - 7s 177us/sample - loss: 1.5940 - sparse_categorical_accuracy: 0.4387 - val_loss: 1.5988 - val_sparse_categorical_accuracy: 0.4347\n",
      "Epoch 12/15\n",
      "37500/37500 [==============================] - 6s 173us/sample - loss: 1.5613 - sparse_categorical_accuracy: 0.4497 - val_loss: 1.5672 - val_sparse_categorical_accuracy: 0.4446\n",
      "Epoch 13/15\n",
      "37500/37500 [==============================] - 7s 175us/sample - loss: 1.5302 - sparse_categorical_accuracy: 0.4587 - val_loss: 1.5397 - val_sparse_categorical_accuracy: 0.4507\n",
      "Epoch 14/15\n",
      "37500/37500 [==============================] - 7s 177us/sample - loss: 1.5027 - sparse_categorical_accuracy: 0.4665 - val_loss: 1.5128 - val_sparse_categorical_accuracy: 0.4632\n",
      "Epoch 15/15\n",
      "37500/37500 [==============================] - 7s 175us/sample - loss: 1.4770 - sparse_categorical_accuracy: 0.4759 - val_loss: 1.4991 - val_sparse_categorical_accuracy: 0.4672\n"
     ]
    },
    {
     "name": "stderr",
     "output_type": "stream",
     "text": [
      "\r",
      " 17%|█▋        | 5/30 [08:27<42:19, 101.56s/it]"
     ]
    },
    {
     "name": "stdout",
     "output_type": "stream",
     "text": [
      "0.4672 0.0004546428156397908 1.3949373706382354e-05\n",
      "Train on 37500 samples, validate on 12500 samples\n",
      "Epoch 1/15\n",
      "37500/37500 [==============================] - 8s 210us/sample - loss: 2.3103 - sparse_categorical_accuracy: 0.1377 - val_loss: 2.2809 - val_sparse_categorical_accuracy: 0.1773\n",
      "Epoch 2/15\n",
      "37500/37500 [==============================] - 7s 177us/sample - loss: 2.2525 - sparse_categorical_accuracy: 0.1972 - val_loss: 2.2259 - val_sparse_categorical_accuracy: 0.2182\n",
      "Epoch 3/15\n",
      "37500/37500 [==============================] - 7s 180us/sample - loss: 2.1915 - sparse_categorical_accuracy: 0.2307 - val_loss: 2.1613 - val_sparse_categorical_accuracy: 0.2401\n",
      "Epoch 4/15\n",
      "37500/37500 [==============================] - 7s 177us/sample - loss: 2.1229 - sparse_categorical_accuracy: 0.2563 - val_loss: 2.0933 - val_sparse_categorical_accuracy: 0.2711\n",
      "Epoch 5/15\n",
      "37500/37500 [==============================] - 7s 180us/sample - loss: 2.0562 - sparse_categorical_accuracy: 0.2793 - val_loss: 2.0324 - val_sparse_categorical_accuracy: 0.2944\n",
      "Epoch 6/15\n",
      "37500/37500 [==============================] - 7s 178us/sample - loss: 1.9976 - sparse_categorical_accuracy: 0.3005 - val_loss: 1.9795 - val_sparse_categorical_accuracy: 0.3118\n",
      "Epoch 7/15\n",
      "37500/37500 [==============================] - 7s 178us/sample - loss: 1.9440 - sparse_categorical_accuracy: 0.3212 - val_loss: 1.9284 - val_sparse_categorical_accuracy: 0.3325\n",
      "Epoch 8/15\n",
      "37500/37500 [==============================] - 7s 180us/sample - loss: 1.8946 - sparse_categorical_accuracy: 0.3384 - val_loss: 1.8799 - val_sparse_categorical_accuracy: 0.3489\n",
      "Epoch 9/15\n",
      "37500/37500 [==============================] - 7s 177us/sample - loss: 1.8489 - sparse_categorical_accuracy: 0.3541 - val_loss: 1.8389 - val_sparse_categorical_accuracy: 0.3622\n",
      "Epoch 10/15\n",
      "37500/37500 [==============================] - 7s 179us/sample - loss: 1.8086 - sparse_categorical_accuracy: 0.3673 - val_loss: 1.8026 - val_sparse_categorical_accuracy: 0.3770\n",
      "Epoch 11/15\n",
      "37500/37500 [==============================] - 7s 178us/sample - loss: 1.7723 - sparse_categorical_accuracy: 0.3799 - val_loss: 1.7704 - val_sparse_categorical_accuracy: 0.3816\n",
      "Epoch 12/15\n",
      "37500/37500 [==============================] - 7s 179us/sample - loss: 1.7402 - sparse_categorical_accuracy: 0.3890 - val_loss: 1.7426 - val_sparse_categorical_accuracy: 0.3894\n",
      "Epoch 13/15\n",
      "37500/37500 [==============================] - 7s 178us/sample - loss: 1.7105 - sparse_categorical_accuracy: 0.3996 - val_loss: 1.7117 - val_sparse_categorical_accuracy: 0.4018\n",
      "Epoch 14/15\n",
      "37500/37500 [==============================] - 7s 178us/sample - loss: 1.6828 - sparse_categorical_accuracy: 0.4123 - val_loss: 1.6897 - val_sparse_categorical_accuracy: 0.4064\n",
      "Epoch 15/15\n",
      "37500/37500 [==============================] - 7s 179us/sample - loss: 1.6562 - sparse_categorical_accuracy: 0.4211 - val_loss: 1.6646 - val_sparse_categorical_accuracy: 0.4159\n"
     ]
    },
    {
     "name": "stderr",
     "output_type": "stream",
     "text": [
      "\r",
      " 20%|██        | 6/30 [10:11<40:52, 102.18s/it]"
     ]
    },
    {
     "name": "stdout",
     "output_type": "stream",
     "text": [
      "0.41592 0.0002697738575297499 7.576186775303728e-05\n",
      "Train on 37500 samples, validate on 12500 samples\n",
      "Epoch 1/15\n",
      "37500/37500 [==============================] - 8s 210us/sample - loss: 3.0143 - sparse_categorical_accuracy: 0.1891 - val_loss: 2.9468 - val_sparse_categorical_accuracy: 0.2418\n",
      "Epoch 2/15\n",
      "37500/37500 [==============================] - 7s 180us/sample - loss: 2.8721 - sparse_categorical_accuracy: 0.2629 - val_loss: 2.8111 - val_sparse_categorical_accuracy: 0.2797\n",
      "Epoch 3/15\n",
      "37500/37500 [==============================] - 7s 178us/sample - loss: 2.7543 - sparse_categorical_accuracy: 0.2967 - val_loss: 2.7133 - val_sparse_categorical_accuracy: 0.3100\n",
      "Epoch 4/15\n",
      "37500/37500 [==============================] - 7s 180us/sample - loss: 2.6668 - sparse_categorical_accuracy: 0.3277 - val_loss: 2.6386 - val_sparse_categorical_accuracy: 0.3354\n",
      "Epoch 5/15\n",
      "37500/37500 [==============================] - 7s 178us/sample - loss: 2.5925 - sparse_categorical_accuracy: 0.3558 - val_loss: 2.5653 - val_sparse_categorical_accuracy: 0.3674\n",
      "Epoch 6/15\n",
      "37500/37500 [==============================] - 7s 181us/sample - loss: 2.5241 - sparse_categorical_accuracy: 0.3811 - val_loss: 2.5018 - val_sparse_categorical_accuracy: 0.3898\n",
      "Epoch 7/15\n",
      "37500/37500 [==============================] - 7s 180us/sample - loss: 2.4613 - sparse_categorical_accuracy: 0.4042 - val_loss: 2.4467 - val_sparse_categorical_accuracy: 0.4018\n",
      "Epoch 8/15\n",
      "37500/37500 [==============================] - 7s 179us/sample - loss: 2.4021 - sparse_categorical_accuracy: 0.4232 - val_loss: 2.3871 - val_sparse_categorical_accuracy: 0.4294\n",
      "Epoch 9/15\n",
      "37500/37500 [==============================] - 7s 180us/sample - loss: 2.3481 - sparse_categorical_accuracy: 0.4406 - val_loss: 2.3466 - val_sparse_categorical_accuracy: 0.4384\n",
      "Epoch 10/15\n",
      "37500/37500 [==============================] - 7s 182us/sample - loss: 2.3009 - sparse_categorical_accuracy: 0.4558 - val_loss: 2.2976 - val_sparse_categorical_accuracy: 0.4522\n",
      "Epoch 11/15\n",
      "37500/37500 [==============================] - 7s 181us/sample - loss: 2.2587 - sparse_categorical_accuracy: 0.4663 - val_loss: 2.2678 - val_sparse_categorical_accuracy: 0.4619\n",
      "Epoch 12/15\n",
      "37500/37500 [==============================] - 7s 179us/sample - loss: 2.2222 - sparse_categorical_accuracy: 0.4781 - val_loss: 2.2300 - val_sparse_categorical_accuracy: 0.4778\n",
      "Epoch 13/15\n",
      "37500/37500 [==============================] - 7s 181us/sample - loss: 2.1891 - sparse_categorical_accuracy: 0.4906 - val_loss: 2.2040 - val_sparse_categorical_accuracy: 0.4821\n",
      "Epoch 14/15\n",
      "37500/37500 [==============================] - 7s 180us/sample - loss: 2.1584 - sparse_categorical_accuracy: 0.5001 - val_loss: 2.1702 - val_sparse_categorical_accuracy: 0.4939\n",
      "Epoch 15/15\n",
      "37500/37500 [==============================] - 7s 180us/sample - loss: 2.1297 - sparse_categorical_accuracy: 0.5079 - val_loss: 2.1460 - val_sparse_categorical_accuracy: 0.4992\n"
     ]
    },
    {
     "name": "stderr",
     "output_type": "stream",
     "text": [
      "\r",
      " 23%|██▎       | 7/30 [11:55<39:25, 102.83s/it]"
     ]
    },
    {
     "name": "stdout",
     "output_type": "stream",
     "text": [
      "0.4992 0.0005377390025946865 0.002132244697224657\n",
      "Train on 37500 samples, validate on 12500 samples\n",
      "Epoch 1/15\n",
      "37500/37500 [==============================] - 8s 214us/sample - loss: 2.3018 - sparse_categorical_accuracy: 0.1098 - val_loss: 2.2838 - val_sparse_categorical_accuracy: 0.1383\n",
      "Epoch 2/15\n",
      "37500/37500 [==============================] - 7s 179us/sample - loss: 2.2662 - sparse_categorical_accuracy: 0.1717 - val_loss: 2.2529 - val_sparse_categorical_accuracy: 0.1952\n",
      "Epoch 3/15\n",
      "37500/37500 [==============================] - 7s 180us/sample - loss: 2.2337 - sparse_categorical_accuracy: 0.2127 - val_loss: 2.2200 - val_sparse_categorical_accuracy: 0.2250\n",
      "Epoch 4/15\n",
      "37500/37500 [==============================] - 7s 179us/sample - loss: 2.1984 - sparse_categorical_accuracy: 0.2349 - val_loss: 2.1838 - val_sparse_categorical_accuracy: 0.2428\n",
      "Epoch 5/15\n",
      "37500/37500 [==============================] - 7s 181us/sample - loss: 2.1597 - sparse_categorical_accuracy: 0.2489 - val_loss: 2.1450 - val_sparse_categorical_accuracy: 0.2543\n",
      "Epoch 6/15\n",
      "37500/37500 [==============================] - 7s 179us/sample - loss: 2.1194 - sparse_categorical_accuracy: 0.2625 - val_loss: 2.1056 - val_sparse_categorical_accuracy: 0.2666\n",
      "Epoch 7/15\n",
      "37500/37500 [==============================] - 7s 181us/sample - loss: 2.0803 - sparse_categorical_accuracy: 0.2734 - val_loss: 2.0686 - val_sparse_categorical_accuracy: 0.2774\n",
      "Epoch 8/15\n",
      "37500/37500 [==============================] - 7s 181us/sample - loss: 2.0440 - sparse_categorical_accuracy: 0.2838 - val_loss: 2.0344 - val_sparse_categorical_accuracy: 0.2866\n",
      "Epoch 9/15\n",
      "37500/37500 [==============================] - 7s 179us/sample - loss: 2.0099 - sparse_categorical_accuracy: 0.2943 - val_loss: 2.0022 - val_sparse_categorical_accuracy: 0.2976\n",
      "Epoch 10/15\n",
      "37500/37500 [==============================] - 7s 181us/sample - loss: 1.9776 - sparse_categorical_accuracy: 0.3050 - val_loss: 1.9703 - val_sparse_categorical_accuracy: 0.3106\n",
      "Epoch 11/15\n",
      "37500/37500 [==============================] - 7s 180us/sample - loss: 1.9464 - sparse_categorical_accuracy: 0.3170 - val_loss: 1.9405 - val_sparse_categorical_accuracy: 0.3188\n",
      "Epoch 12/15\n",
      "37500/37500 [==============================] - 7s 182us/sample - loss: 1.9168 - sparse_categorical_accuracy: 0.3262 - val_loss: 1.9121 - val_sparse_categorical_accuracy: 0.3306\n",
      "Epoch 13/15\n",
      "37500/37500 [==============================] - 7s 179us/sample - loss: 1.8891 - sparse_categorical_accuracy: 0.3349 - val_loss: 1.8861 - val_sparse_categorical_accuracy: 0.3362\n",
      "Epoch 14/15\n",
      "37500/37500 [==============================] - 7s 179us/sample - loss: 1.8632 - sparse_categorical_accuracy: 0.3433 - val_loss: 1.8615 - val_sparse_categorical_accuracy: 0.3456\n",
      "Epoch 15/15\n",
      "37500/37500 [==============================] - 7s 182us/sample - loss: 1.8392 - sparse_categorical_accuracy: 0.3522 - val_loss: 1.8397 - val_sparse_categorical_accuracy: 0.3498\n"
     ]
    },
    {
     "name": "stderr",
     "output_type": "stream",
     "text": [
      "\r",
      " 27%|██▋       | 8/30 [13:39<37:53, 103.33s/it]"
     ]
    },
    {
     "name": "stdout",
     "output_type": "stream",
     "text": [
      "0.34984 0.00014513087828126216 8.401392695196019e-06\n",
      "Train on 37500 samples, validate on 12500 samples\n",
      "Epoch 1/15\n",
      "37500/37500 [==============================] - 8s 213us/sample - loss: 2.2948 - sparse_categorical_accuracy: 0.1040 - val_loss: 2.2823 - val_sparse_categorical_accuracy: 0.1219\n",
      "Epoch 2/15\n",
      "37500/37500 [==============================] - 7s 183us/sample - loss: 2.2684 - sparse_categorical_accuracy: 0.1487 - val_loss: 2.2575 - val_sparse_categorical_accuracy: 0.1750\n",
      "Epoch 3/15\n",
      "37500/37500 [==============================] - 7s 181us/sample - loss: 2.2424 - sparse_categorical_accuracy: 0.1924 - val_loss: 2.2296 - val_sparse_categorical_accuracy: 0.2095\n",
      "Epoch 4/15\n",
      "37500/37500 [==============================] - 7s 182us/sample - loss: 2.2123 - sparse_categorical_accuracy: 0.2209 - val_loss: 2.1983 - val_sparse_categorical_accuracy: 0.2284\n",
      "Epoch 5/15\n",
      "37500/37500 [==============================] - 7s 180us/sample - loss: 2.1786 - sparse_categorical_accuracy: 0.2397 - val_loss: 2.1632 - val_sparse_categorical_accuracy: 0.2426\n",
      "Epoch 6/15\n",
      "37500/37500 [==============================] - 7s 183us/sample - loss: 2.1411 - sparse_categorical_accuracy: 0.2537 - val_loss: 2.1248 - val_sparse_categorical_accuracy: 0.2596\n",
      "Epoch 7/15\n",
      "37500/37500 [==============================] - 7s 181us/sample - loss: 2.1014 - sparse_categorical_accuracy: 0.2680 - val_loss: 2.0862 - val_sparse_categorical_accuracy: 0.2743\n",
      "Epoch 8/15\n",
      "37500/37500 [==============================] - 7s 180us/sample - loss: 2.0627 - sparse_categorical_accuracy: 0.2787 - val_loss: 2.0495 - val_sparse_categorical_accuracy: 0.2841\n",
      "Epoch 9/15\n",
      "37500/37500 [==============================] - 7s 182us/sample - loss: 2.0270 - sparse_categorical_accuracy: 0.2905 - val_loss: 2.0160 - val_sparse_categorical_accuracy: 0.2947\n",
      "Epoch 10/15\n",
      "37500/37500 [==============================] - 7s 181us/sample - loss: 1.9940 - sparse_categorical_accuracy: 0.2989 - val_loss: 1.9845 - val_sparse_categorical_accuracy: 0.3066\n",
      "Epoch 11/15\n",
      "37500/37500 [==============================] - 7s 182us/sample - loss: 1.9628 - sparse_categorical_accuracy: 0.3091 - val_loss: 1.9543 - val_sparse_categorical_accuracy: 0.3169\n",
      "Epoch 12/15\n",
      "37500/37500 [==============================] - 7s 181us/sample - loss: 1.9327 - sparse_categorical_accuracy: 0.3192 - val_loss: 1.9253 - val_sparse_categorical_accuracy: 0.3233\n",
      "Epoch 13/15\n",
      "37500/37500 [==============================] - 7s 183us/sample - loss: 1.9039 - sparse_categorical_accuracy: 0.3276 - val_loss: 1.8977 - val_sparse_categorical_accuracy: 0.3322\n",
      "Epoch 14/15\n",
      "37500/37500 [==============================] - 7s 182us/sample - loss: 1.8767 - sparse_categorical_accuracy: 0.3369 - val_loss: 1.8722 - val_sparse_categorical_accuracy: 0.3402\n",
      "Epoch 15/15\n",
      "37500/37500 [==============================] - 7s 181us/sample - loss: 1.8512 - sparse_categorical_accuracy: 0.3451 - val_loss: 1.8477 - val_sparse_categorical_accuracy: 0.3513\n"
     ]
    },
    {
     "name": "stderr",
     "output_type": "stream",
     "text": [
      "\r",
      " 30%|███       | 9/30 [15:25<36:21, 103.90s/it]"
     ]
    },
    {
     "name": "stdout",
     "output_type": "stream",
     "text": [
      "0.35128 0.00014955646800879807 3.905071075082133e-06\n",
      "Train on 37500 samples, validate on 12500 samples\n",
      "Epoch 1/15\n",
      "37500/37500 [==============================] - 8s 214us/sample - loss: 2.2934 - sparse_categorical_accuracy: 0.1361 - val_loss: 2.2695 - val_sparse_categorical_accuracy: 0.1717\n",
      "Epoch 2/15\n",
      "37500/37500 [==============================] - 7s 182us/sample - loss: 2.2500 - sparse_categorical_accuracy: 0.2066 - val_loss: 2.2321 - val_sparse_categorical_accuracy: 0.2292\n",
      "Epoch 3/15\n",
      "37500/37500 [==============================] - 7s 185us/sample - loss: 2.2100 - sparse_categorical_accuracy: 0.2427 - val_loss: 2.1897 - val_sparse_categorical_accuracy: 0.2538\n",
      "Epoch 4/15\n",
      "37500/37500 [==============================] - 7s 183us/sample - loss: 2.1646 - sparse_categorical_accuracy: 0.2602 - val_loss: 2.1422 - val_sparse_categorical_accuracy: 0.2668\n",
      "Epoch 5/15\n",
      "37500/37500 [==============================] - 7s 184us/sample - loss: 2.1157 - sparse_categorical_accuracy: 0.2707 - val_loss: 2.0936 - val_sparse_categorical_accuracy: 0.2770\n",
      "Epoch 6/15\n",
      "37500/37500 [==============================] - 7s 181us/sample - loss: 2.0679 - sparse_categorical_accuracy: 0.2818 - val_loss: 2.0485 - val_sparse_categorical_accuracy: 0.2808\n",
      "Epoch 7/15\n",
      "37500/37500 [==============================] - 7s 185us/sample - loss: 2.0242 - sparse_categorical_accuracy: 0.2929 - val_loss: 2.0071 - val_sparse_categorical_accuracy: 0.2927\n",
      "Epoch 8/15\n",
      "37500/37500 [==============================] - 7s 185us/sample - loss: 1.9846 - sparse_categorical_accuracy: 0.2989 - val_loss: 1.9702 - val_sparse_categorical_accuracy: 0.3061\n",
      "Epoch 9/15\n",
      "37500/37500 [==============================] - 7s 182us/sample - loss: 1.9489 - sparse_categorical_accuracy: 0.3085 - val_loss: 1.9367 - val_sparse_categorical_accuracy: 0.3148\n",
      "Epoch 10/15\n",
      "37500/37500 [==============================] - 7s 184us/sample - loss: 1.9167 - sparse_categorical_accuracy: 0.3201 - val_loss: 1.9068 - val_sparse_categorical_accuracy: 0.3245\n",
      "Epoch 11/15\n",
      "37500/37500 [==============================] - 7s 183us/sample - loss: 1.8878 - sparse_categorical_accuracy: 0.3295 - val_loss: 1.8792 - val_sparse_categorical_accuracy: 0.3327\n",
      "Epoch 12/15\n",
      "37500/37500 [==============================] - 7s 185us/sample - loss: 1.8615 - sparse_categorical_accuracy: 0.3388 - val_loss: 1.8543 - val_sparse_categorical_accuracy: 0.3417\n",
      "Epoch 13/15\n",
      "37500/37500 [==============================] - 8s 205us/sample - loss: 1.8373 - sparse_categorical_accuracy: 0.3466 - val_loss: 1.8318 - val_sparse_categorical_accuracy: 0.3505\n",
      "Epoch 14/15\n",
      "37500/37500 [==============================] - 7s 194us/sample - loss: 1.8150 - sparse_categorical_accuracy: 0.3532 - val_loss: 1.8109 - val_sparse_categorical_accuracy: 0.3555\n",
      "Epoch 15/15\n",
      "37500/37500 [==============================] - 7s 184us/sample - loss: 1.7939 - sparse_categorical_accuracy: 0.3614 - val_loss: 1.7906 - val_sparse_categorical_accuracy: 0.3677\n"
     ]
    },
    {
     "name": "stderr",
     "output_type": "stream",
     "text": [
      "\r",
      " 33%|███▎      | 10/30 [17:12<35:00, 105.04s/it]"
     ]
    },
    {
     "name": "stdout",
     "output_type": "stream",
     "text": [
      "0.36768 0.00015632455890423602 2.7210487689950394e-06\n",
      "Train on 37500 samples, validate on 12500 samples\n",
      "Epoch 1/15\n",
      "37500/37500 [==============================] - 8s 223us/sample - loss: 2.3040 - sparse_categorical_accuracy: 0.0954 - val_loss: 2.2892 - val_sparse_categorical_accuracy: 0.1045\n",
      "Epoch 2/15\n",
      "37500/37500 [==============================] - 7s 184us/sample - loss: 2.2753 - sparse_categorical_accuracy: 0.1270 - val_loss: 2.2636 - val_sparse_categorical_accuracy: 0.1464\n",
      "Epoch 3/15\n",
      "37500/37500 [==============================] - 7s 186us/sample - loss: 2.2481 - sparse_categorical_accuracy: 0.1710 - val_loss: 2.2355 - val_sparse_categorical_accuracy: 0.1884\n",
      "Epoch 4/15\n",
      "37500/37500 [==============================] - 7s 185us/sample - loss: 2.2177 - sparse_categorical_accuracy: 0.2093 - val_loss: 2.2041 - val_sparse_categorical_accuracy: 0.2262\n",
      "Epoch 5/15\n",
      "37500/37500 [==============================] - 7s 185us/sample - loss: 2.1842 - sparse_categorical_accuracy: 0.2352 - val_loss: 2.1698 - val_sparse_categorical_accuracy: 0.2482\n",
      "Epoch 6/15\n",
      "37500/37500 [==============================] - 7s 185us/sample - loss: 2.1487 - sparse_categorical_accuracy: 0.2507 - val_loss: 2.1349 - val_sparse_categorical_accuracy: 0.2618\n",
      "Epoch 7/15\n",
      "37500/37500 [==============================] - 7s 183us/sample - loss: 2.1138 - sparse_categorical_accuracy: 0.2636 - val_loss: 2.1017 - val_sparse_categorical_accuracy: 0.2714\n",
      "Epoch 8/15\n",
      "37500/37500 [==============================] - 7s 186us/sample - loss: 2.0813 - sparse_categorical_accuracy: 0.2744 - val_loss: 2.0712 - val_sparse_categorical_accuracy: 0.2815\n",
      "Epoch 9/15\n",
      "37500/37500 [==============================] - 7s 184us/sample - loss: 2.0515 - sparse_categorical_accuracy: 0.2828 - val_loss: 2.0432 - val_sparse_categorical_accuracy: 0.2850\n",
      "Epoch 10/15\n",
      "37500/37500 [==============================] - 7s 194us/sample - loss: 2.0242 - sparse_categorical_accuracy: 0.2902 - val_loss: 2.0174 - val_sparse_categorical_accuracy: 0.2948\n",
      "Epoch 11/15\n",
      "37500/37500 [==============================] - 7s 190us/sample - loss: 1.9987 - sparse_categorical_accuracy: 0.2983 - val_loss: 1.9926 - val_sparse_categorical_accuracy: 0.3013\n",
      "Epoch 12/15\n",
      "37500/37500 [==============================] - 7s 194us/sample - loss: 1.9742 - sparse_categorical_accuracy: 0.3064 - val_loss: 1.9688 - val_sparse_categorical_accuracy: 0.3088\n",
      "Epoch 13/15\n",
      "37500/37500 [==============================] - 7s 194us/sample - loss: 1.9507 - sparse_categorical_accuracy: 0.3127 - val_loss: 1.9459 - val_sparse_categorical_accuracy: 0.3184\n",
      "Epoch 14/15\n",
      "37500/37500 [==============================] - 7s 198us/sample - loss: 1.9279 - sparse_categorical_accuracy: 0.3216 - val_loss: 1.9239 - val_sparse_categorical_accuracy: 0.3260\n",
      "Epoch 15/15\n",
      "37500/37500 [==============================] - 7s 185us/sample - loss: 1.9062 - sparse_categorical_accuracy: 0.3298 - val_loss: 1.9034 - val_sparse_categorical_accuracy: 0.3334\n"
     ]
    },
    {
     "name": "stderr",
     "output_type": "stream",
     "text": [
      "\r",
      " 37%|███▋      | 11/30 [19:02<33:40, 106.33s/it]"
     ]
    },
    {
     "name": "stdout",
     "output_type": "stream",
     "text": [
      "0.33336 0.00011061517258918635 9.664747377668961e-06\n",
      "Train on 37500 samples, validate on 12500 samples\n",
      "Epoch 1/15\n",
      "37500/37500 [==============================] - 8s 218us/sample - loss: 2.4942 - sparse_categorical_accuracy: 0.1775 - val_loss: 2.4604 - val_sparse_categorical_accuracy: 0.2182\n",
      "Epoch 2/15\n",
      "37500/37500 [==============================] - 7s 182us/sample - loss: 2.4148 - sparse_categorical_accuracy: 0.2382 - val_loss: 2.3693 - val_sparse_categorical_accuracy: 0.2469\n",
      "Epoch 3/15\n",
      "37500/37500 [==============================] - 7s 175us/sample - loss: 2.3072 - sparse_categorical_accuracy: 0.2742 - val_loss: 2.2585 - val_sparse_categorical_accuracy: 0.2894\n",
      "Epoch 4/15\n",
      "37500/37500 [==============================] - 7s 177us/sample - loss: 2.2016 - sparse_categorical_accuracy: 0.3120 - val_loss: 2.1615 - val_sparse_categorical_accuracy: 0.3215\n",
      "Epoch 5/15\n",
      "37500/37500 [==============================] - 7s 175us/sample - loss: 2.1153 - sparse_categorical_accuracy: 0.3406 - val_loss: 2.0869 - val_sparse_categorical_accuracy: 0.3507\n",
      "Epoch 6/15\n",
      "37500/37500 [==============================] - 7s 176us/sample - loss: 2.0489 - sparse_categorical_accuracy: 0.3631 - val_loss: 2.0299 - val_sparse_categorical_accuracy: 0.3719\n",
      "Epoch 7/15\n",
      "37500/37500 [==============================] - 7s 174us/sample - loss: 1.9945 - sparse_categorical_accuracy: 0.3827 - val_loss: 1.9789 - val_sparse_categorical_accuracy: 0.3905\n",
      "Epoch 8/15\n",
      "37500/37500 [==============================] - 7s 176us/sample - loss: 1.9455 - sparse_categorical_accuracy: 0.4005 - val_loss: 1.9346 - val_sparse_categorical_accuracy: 0.4061\n",
      "Epoch 9/15\n",
      "37500/37500 [==============================] - 7s 175us/sample - loss: 1.9008 - sparse_categorical_accuracy: 0.4163 - val_loss: 1.8979 - val_sparse_categorical_accuracy: 0.4112\n",
      "Epoch 10/15\n",
      "37500/37500 [==============================] - 7s 175us/sample - loss: 1.8605 - sparse_categorical_accuracy: 0.4253 - val_loss: 1.8596 - val_sparse_categorical_accuracy: 0.4234\n",
      "Epoch 11/15\n",
      "37500/37500 [==============================] - 7s 177us/sample - loss: 1.8224 - sparse_categorical_accuracy: 0.4401 - val_loss: 1.8204 - val_sparse_categorical_accuracy: 0.4388\n",
      "Epoch 12/15\n",
      "37500/37500 [==============================] - 7s 175us/sample - loss: 1.7885 - sparse_categorical_accuracy: 0.4504 - val_loss: 1.7924 - val_sparse_categorical_accuracy: 0.4480\n",
      "Epoch 13/15\n",
      "37500/37500 [==============================] - 7s 177us/sample - loss: 1.7575 - sparse_categorical_accuracy: 0.4604 - val_loss: 1.7601 - val_sparse_categorical_accuracy: 0.4604\n",
      "Epoch 14/15\n",
      "37500/37500 [==============================] - 7s 175us/sample - loss: 1.7288 - sparse_categorical_accuracy: 0.4710 - val_loss: 1.7423 - val_sparse_categorical_accuracy: 0.4630\n",
      "Epoch 15/15\n",
      "37500/37500 [==============================] - 7s 175us/sample - loss: 1.7030 - sparse_categorical_accuracy: 0.4779 - val_loss: 1.7238 - val_sparse_categorical_accuracy: 0.4671\n"
     ]
    },
    {
     "name": "stderr",
     "output_type": "stream",
     "text": [
      "\r",
      " 40%|████      | 12/30 [20:44<31:34, 105.25s/it]"
     ]
    },
    {
     "name": "stdout",
     "output_type": "stream",
     "text": [
      "0.46712 0.0004047542301262614 0.0006279623485428386\n",
      "Train on 37500 samples, validate on 12500 samples\n",
      "Epoch 1/15\n",
      "37500/37500 [==============================] - 8s 219us/sample - loss: 2.2379 - sparse_categorical_accuracy: 0.1893 - val_loss: 2.1622 - val_sparse_categorical_accuracy: 0.2495\n",
      "Epoch 2/15\n",
      "37500/37500 [==============================] - 7s 196us/sample - loss: 2.0822 - sparse_categorical_accuracy: 0.2667 - val_loss: 2.0192 - val_sparse_categorical_accuracy: 0.2868\n",
      "Epoch 3/15\n",
      "37500/37500 [==============================] - 7s 193us/sample - loss: 1.9635 - sparse_categorical_accuracy: 0.3026 - val_loss: 1.9168 - val_sparse_categorical_accuracy: 0.3217\n",
      "Epoch 4/15\n",
      "37500/37500 [==============================] - 7s 180us/sample - loss: 1.8719 - sparse_categorical_accuracy: 0.3361 - val_loss: 1.8355 - val_sparse_categorical_accuracy: 0.3450\n",
      "Epoch 5/15\n",
      "37500/37500 [==============================] - 7s 184us/sample - loss: 1.7952 - sparse_categorical_accuracy: 0.3632 - val_loss: 1.7675 - val_sparse_categorical_accuracy: 0.3717\n",
      "Epoch 6/15\n",
      "37500/37500 [==============================] - 7s 181us/sample - loss: 1.7269 - sparse_categorical_accuracy: 0.3897 - val_loss: 1.7034 - val_sparse_categorical_accuracy: 0.3935\n",
      "Epoch 7/15\n",
      "37500/37500 [==============================] - 7s 184us/sample - loss: 1.6638 - sparse_categorical_accuracy: 0.4106 - val_loss: 1.6436 - val_sparse_categorical_accuracy: 0.4189\n",
      "Epoch 8/15\n",
      "37500/37500 [==============================] - 8s 215us/sample - loss: 1.6067 - sparse_categorical_accuracy: 0.4307 - val_loss: 1.5996 - val_sparse_categorical_accuracy: 0.4355\n",
      "Epoch 9/15\n",
      "37500/37500 [==============================] - 8s 205us/sample - loss: 1.5545 - sparse_categorical_accuracy: 0.4501 - val_loss: 1.5481 - val_sparse_categorical_accuracy: 0.4498\n",
      "Epoch 10/15\n",
      "37500/37500 [==============================] - 8s 210us/sample - loss: 1.5088 - sparse_categorical_accuracy: 0.4651 - val_loss: 1.5206 - val_sparse_categorical_accuracy: 0.4535\n",
      "Epoch 11/15\n",
      "37500/37500 [==============================] - 7s 190us/sample - loss: 1.4715 - sparse_categorical_accuracy: 0.4795 - val_loss: 1.4857 - val_sparse_categorical_accuracy: 0.4698\n",
      "Epoch 12/15\n",
      "37500/37500 [==============================] - 7s 185us/sample - loss: 1.4385 - sparse_categorical_accuracy: 0.4903 - val_loss: 1.4502 - val_sparse_categorical_accuracy: 0.4837\n",
      "Epoch 13/15\n",
      "37500/37500 [==============================] - 7s 188us/sample - loss: 1.4101 - sparse_categorical_accuracy: 0.4995 - val_loss: 1.4268 - val_sparse_categorical_accuracy: 0.4898\n",
      "Epoch 14/15\n",
      "37500/37500 [==============================] - 7s 189us/sample - loss: 1.3847 - sparse_categorical_accuracy: 0.5092 - val_loss: 1.4092 - val_sparse_categorical_accuracy: 0.4970\n",
      "Epoch 15/15\n",
      "37500/37500 [==============================] - 7s 184us/sample - loss: 1.3614 - sparse_categorical_accuracy: 0.5174 - val_loss: 1.3860 - val_sparse_categorical_accuracy: 0.5076\n"
     ]
    },
    {
     "name": "stderr",
     "output_type": "stream",
     "text": [
      "\r",
      " 43%|████▎     | 13/30 [22:35<30:18, 106.96s/it]"
     ]
    },
    {
     "name": "stdout",
     "output_type": "stream",
     "text": [
      "0.5076 0.0005681202663293145 5.064971321465039e-06\n",
      "Train on 37500 samples, validate on 12500 samples\n",
      "Epoch 1/15\n",
      "37500/37500 [==============================] - 8s 225us/sample - loss: 3.2852 - sparse_categorical_accuracy: 0.1873 - val_loss: 3.1919 - val_sparse_categorical_accuracy: 0.2679\n",
      "Epoch 2/15\n",
      "37500/37500 [==============================] - 7s 192us/sample - loss: 3.0876 - sparse_categorical_accuracy: 0.2861 - val_loss: 3.0048 - val_sparse_categorical_accuracy: 0.3139\n",
      "Epoch 3/15\n",
      "37500/37500 [==============================] - 7s 187us/sample - loss: 2.9342 - sparse_categorical_accuracy: 0.3308 - val_loss: 2.8858 - val_sparse_categorical_accuracy: 0.3567\n",
      "Epoch 4/15\n",
      "37500/37500 [==============================] - 7s 191us/sample - loss: 2.8295 - sparse_categorical_accuracy: 0.3680 - val_loss: 2.7975 - val_sparse_categorical_accuracy: 0.3823\n",
      "Epoch 5/15\n",
      "37500/37500 [==============================] - 7s 190us/sample - loss: 2.7434 - sparse_categorical_accuracy: 0.3949 - val_loss: 2.7134 - val_sparse_categorical_accuracy: 0.4055\n",
      "Epoch 6/15\n",
      "37500/37500 [==============================] - 7s 187us/sample - loss: 2.6674 - sparse_categorical_accuracy: 0.4182 - val_loss: 2.6481 - val_sparse_categorical_accuracy: 0.4219\n",
      "Epoch 7/15\n",
      "37500/37500 [==============================] - 7s 198us/sample - loss: 2.5995 - sparse_categorical_accuracy: 0.4416 - val_loss: 2.5851 - val_sparse_categorical_accuracy: 0.4402\n",
      "Epoch 8/15\n",
      "37500/37500 [==============================] - 7s 197us/sample - loss: 2.5420 - sparse_categorical_accuracy: 0.4591 - val_loss: 2.5365 - val_sparse_categorical_accuracy: 0.4523\n",
      "Epoch 9/15\n",
      "37500/37500 [==============================] - 7s 200us/sample - loss: 2.4896 - sparse_categorical_accuracy: 0.4727 - val_loss: 2.5050 - val_sparse_categorical_accuracy: 0.4571\n",
      "Epoch 10/15\n",
      "37500/37500 [==============================] - 7s 193us/sample - loss: 2.4431 - sparse_categorical_accuracy: 0.4864 - val_loss: 2.4499 - val_sparse_categorical_accuracy: 0.4784\n",
      "Epoch 11/15\n",
      "37500/37500 [==============================] - 7s 194us/sample - loss: 2.4024 - sparse_categorical_accuracy: 0.4969 - val_loss: 2.4092 - val_sparse_categorical_accuracy: 0.4912\n",
      "Epoch 12/15\n",
      "37500/37500 [==============================] - 7s 187us/sample - loss: 2.3628 - sparse_categorical_accuracy: 0.5106 - val_loss: 2.3875 - val_sparse_categorical_accuracy: 0.4944\n",
      "Epoch 13/15\n",
      "37500/37500 [==============================] - 7s 197us/sample - loss: 2.3282 - sparse_categorical_accuracy: 0.5187 - val_loss: 2.3479 - val_sparse_categorical_accuracy: 0.5124\n",
      "Epoch 14/15\n",
      "37500/37500 [==============================] - 7s 195us/sample - loss: 2.2951 - sparse_categorical_accuracy: 0.5293 - val_loss: 2.3307 - val_sparse_categorical_accuracy: 0.5193\n",
      "Epoch 15/15\n",
      "37500/37500 [==============================] - 7s 195us/sample - loss: 2.2651 - sparse_categorical_accuracy: 0.5386 - val_loss: 2.2826 - val_sparse_categorical_accuracy: 0.5306\n"
     ]
    },
    {
     "name": "stderr",
     "output_type": "stream",
     "text": [
      "\r",
      " 47%|████▋     | 14/30 [24:27<28:55, 108.47s/it]"
     ]
    },
    {
     "name": "stdout",
     "output_type": "stream",
     "text": [
      "0.53064 0.0006662644515722249 0.002892506231475779\n",
      "Train on 37500 samples, validate on 12500 samples\n",
      "Epoch 1/15\n",
      "37500/37500 [==============================] - 9s 235us/sample - loss: 3.1276 - sparse_categorical_accuracy: 0.1339 - val_loss: 3.1107 - val_sparse_categorical_accuracy: 0.1654\n",
      "Epoch 2/15\n",
      "37500/37500 [==============================] - 7s 194us/sample - loss: 3.0920 - sparse_categorical_accuracy: 0.1925 - val_loss: 3.0759 - val_sparse_categorical_accuracy: 0.2200\n",
      "Epoch 3/15\n",
      "37500/37500 [==============================] - 8s 201us/sample - loss: 3.0540 - sparse_categorical_accuracy: 0.2317 - val_loss: 3.0347 - val_sparse_categorical_accuracy: 0.2497\n",
      "Epoch 4/15\n",
      "37500/37500 [==============================] - 7s 199us/sample - loss: 3.0091 - sparse_categorical_accuracy: 0.2525 - val_loss: 2.9867 - val_sparse_categorical_accuracy: 0.2658\n",
      "Epoch 5/15\n",
      "37500/37500 [==============================] - 7s 191us/sample - loss: 2.9582 - sparse_categorical_accuracy: 0.2682 - val_loss: 2.9350 - val_sparse_categorical_accuracy: 0.2738\n",
      "Epoch 6/15\n",
      "37500/37500 [==============================] - 8s 202us/sample - loss: 2.9050 - sparse_categorical_accuracy: 0.2786 - val_loss: 2.8822 - val_sparse_categorical_accuracy: 0.2909\n",
      "Epoch 7/15\n",
      "37500/37500 [==============================] - 7s 188us/sample - loss: 2.8534 - sparse_categorical_accuracy: 0.2932 - val_loss: 2.8330 - val_sparse_categorical_accuracy: 0.3047\n",
      "Epoch 8/15\n",
      "37500/37500 [==============================] - 7s 189us/sample - loss: 2.8055 - sparse_categorical_accuracy: 0.3091 - val_loss: 2.7875 - val_sparse_categorical_accuracy: 0.3213\n",
      "Epoch 9/15\n",
      "37500/37500 [==============================] - 7s 184us/sample - loss: 2.7617 - sparse_categorical_accuracy: 0.3204 - val_loss: 2.7462 - val_sparse_categorical_accuracy: 0.3340\n",
      "Epoch 10/15\n",
      "37500/37500 [==============================] - 7s 192us/sample - loss: 2.7210 - sparse_categorical_accuracy: 0.3341 - val_loss: 2.7084 - val_sparse_categorical_accuracy: 0.3470\n",
      "Epoch 11/15\n",
      "37500/37500 [==============================] - 7s 194us/sample - loss: 2.6840 - sparse_categorical_accuracy: 0.3447 - val_loss: 2.6747 - val_sparse_categorical_accuracy: 0.3580\n",
      "Epoch 12/15\n",
      "37500/37500 [==============================] - 7s 197us/sample - loss: 2.6504 - sparse_categorical_accuracy: 0.3564 - val_loss: 2.6438 - val_sparse_categorical_accuracy: 0.3672\n",
      "Epoch 13/15\n",
      "37500/37500 [==============================] - 8s 200us/sample - loss: 2.6202 - sparse_categorical_accuracy: 0.3660 - val_loss: 2.6170 - val_sparse_categorical_accuracy: 0.3727\n",
      "Epoch 14/15\n",
      "37500/37500 [==============================] - 7s 189us/sample - loss: 2.5926 - sparse_categorical_accuracy: 0.3767 - val_loss: 2.5923 - val_sparse_categorical_accuracy: 0.3802\n",
      "Epoch 15/15\n",
      "37500/37500 [==============================] - 7s 187us/sample - loss: 2.5663 - sparse_categorical_accuracy: 0.3847 - val_loss: 2.5669 - val_sparse_categorical_accuracy: 0.3880\n"
     ]
    },
    {
     "name": "stderr",
     "output_type": "stream",
     "text": [
      "\r",
      " 50%|█████     | 15/30 [26:20<27:25, 109.70s/it]"
     ]
    },
    {
     "name": "stdout",
     "output_type": "stream",
     "text": [
      "0.388 0.00018487469941975396 0.002291525599223849\n",
      "Train on 37500 samples, validate on 12500 samples\n",
      "Epoch 1/15\n",
      "37500/37500 [==============================] - 9s 232us/sample - loss: 2.5834 - sparse_categorical_accuracy: 0.1734 - val_loss: 2.5391 - val_sparse_categorical_accuracy: 0.2160\n",
      "Epoch 2/15\n",
      "37500/37500 [==============================] - 7s 192us/sample - loss: 2.4824 - sparse_categorical_accuracy: 0.2405 - val_loss: 2.4279 - val_sparse_categorical_accuracy: 0.2582\n",
      "Epoch 3/15\n",
      "37500/37500 [==============================] - 7s 189us/sample - loss: 2.3703 - sparse_categorical_accuracy: 0.2758 - val_loss: 2.3217 - val_sparse_categorical_accuracy: 0.2938\n",
      "Epoch 4/15\n",
      "37500/37500 [==============================] - 7s 186us/sample - loss: 2.2755 - sparse_categorical_accuracy: 0.3062 - val_loss: 2.2406 - val_sparse_categorical_accuracy: 0.3266\n",
      "Epoch 5/15\n",
      "37500/37500 [==============================] - 7s 191us/sample - loss: 2.2005 - sparse_categorical_accuracy: 0.3351 - val_loss: 2.1728 - val_sparse_categorical_accuracy: 0.3450\n",
      "Epoch 6/15\n",
      "37500/37500 [==============================] - 7s 194us/sample - loss: 2.1420 - sparse_categorical_accuracy: 0.3557 - val_loss: 2.1239 - val_sparse_categorical_accuracy: 0.3664\n",
      "Epoch 7/15\n",
      "37500/37500 [==============================] - 8s 200us/sample - loss: 2.0934 - sparse_categorical_accuracy: 0.3749 - val_loss: 2.0823 - val_sparse_categorical_accuracy: 0.3789\n",
      "Epoch 8/15\n",
      "37500/37500 [==============================] - 7s 196us/sample - loss: 2.0509 - sparse_categorical_accuracy: 0.3913 - val_loss: 2.0402 - val_sparse_categorical_accuracy: 0.3938\n",
      "Epoch 9/15\n",
      "37500/37500 [==============================] - 7s 195us/sample - loss: 2.0114 - sparse_categorical_accuracy: 0.4041 - val_loss: 2.0040 - val_sparse_categorical_accuracy: 0.4074\n",
      "Epoch 10/15\n",
      "37500/37500 [==============================] - 7s 191us/sample - loss: 1.9751 - sparse_categorical_accuracy: 0.4165 - val_loss: 1.9764 - val_sparse_categorical_accuracy: 0.4130\n",
      "Epoch 11/15\n",
      "37500/37500 [==============================] - 7s 186us/sample - loss: 1.9402 - sparse_categorical_accuracy: 0.4296 - val_loss: 1.9439 - val_sparse_categorical_accuracy: 0.4274\n",
      "Epoch 12/15\n",
      "37500/37500 [==============================] - 7s 185us/sample - loss: 1.9071 - sparse_categorical_accuracy: 0.4422 - val_loss: 1.9117 - val_sparse_categorical_accuracy: 0.4384\n",
      "Epoch 13/15\n",
      "37500/37500 [==============================] - 7s 185us/sample - loss: 1.8760 - sparse_categorical_accuracy: 0.4535 - val_loss: 1.8805 - val_sparse_categorical_accuracy: 0.4488\n",
      "Epoch 14/15\n",
      "37500/37500 [==============================] - 7s 185us/sample - loss: 1.8458 - sparse_categorical_accuracy: 0.4649 - val_loss: 1.8569 - val_sparse_categorical_accuracy: 0.4533\n",
      "Epoch 15/15\n",
      "37500/37500 [==============================] - 7s 186us/sample - loss: 1.8186 - sparse_categorical_accuracy: 0.4735 - val_loss: 1.8252 - val_sparse_categorical_accuracy: 0.4670\n"
     ]
    },
    {
     "name": "stderr",
     "output_type": "stream",
     "text": [
      "\r",
      " 53%|█████▎    | 16/30 [28:11<25:41, 110.08s/it]"
     ]
    },
    {
     "name": "stdout",
     "output_type": "stream",
     "text": [
      "0.46704 0.0003728985478317651 0.0009009473169803427\n",
      "Train on 37500 samples, validate on 12500 samples\n",
      "Epoch 1/15\n",
      "37500/37500 [==============================] - 8s 225us/sample - loss: 2.7493 - sparse_categorical_accuracy: 0.1180 - val_loss: 2.7254 - val_sparse_categorical_accuracy: 0.1538\n",
      "Epoch 2/15\n",
      "37500/37500 [==============================] - 7s 193us/sample - loss: 2.7051 - sparse_categorical_accuracy: 0.1856 - val_loss: 2.6870 - val_sparse_categorical_accuracy: 0.2069\n",
      "Epoch 3/15\n",
      "37500/37500 [==============================] - 8s 201us/sample - loss: 2.6644 - sparse_categorical_accuracy: 0.2235 - val_loss: 2.6437 - val_sparse_categorical_accuracy: 0.2390\n",
      "Epoch 4/15\n",
      "37500/37500 [==============================] - 7s 192us/sample - loss: 2.6160 - sparse_categorical_accuracy: 0.2491 - val_loss: 2.5918 - val_sparse_categorical_accuracy: 0.2581\n",
      "Epoch 5/15\n",
      "37500/37500 [==============================] - 7s 196us/sample - loss: 2.5605 - sparse_categorical_accuracy: 0.2681 - val_loss: 2.5358 - val_sparse_categorical_accuracy: 0.2747\n",
      "Epoch 6/15\n",
      "37500/37500 [==============================] - 7s 190us/sample - loss: 2.5039 - sparse_categorical_accuracy: 0.2843 - val_loss: 2.4823 - val_sparse_categorical_accuracy: 0.2952\n",
      "Epoch 7/15\n",
      "37500/37500 [==============================] - 7s 193us/sample - loss: 2.4516 - sparse_categorical_accuracy: 0.2997 - val_loss: 2.4336 - val_sparse_categorical_accuracy: 0.3072\n",
      "Epoch 8/15\n",
      "37500/37500 [==============================] - 7s 194us/sample - loss: 2.4054 - sparse_categorical_accuracy: 0.3121 - val_loss: 2.3918 - val_sparse_categorical_accuracy: 0.3215\n",
      "Epoch 9/15\n",
      "37500/37500 [==============================] - 7s 195us/sample - loss: 2.3653 - sparse_categorical_accuracy: 0.3241 - val_loss: 2.3550 - val_sparse_categorical_accuracy: 0.3355\n",
      "Epoch 10/15\n",
      "37500/37500 [==============================] - 8s 200us/sample - loss: 2.3307 - sparse_categorical_accuracy: 0.3364 - val_loss: 2.3244 - val_sparse_categorical_accuracy: 0.3450\n",
      "Epoch 11/15\n",
      "37500/37500 [==============================] - 7s 193us/sample - loss: 2.3005 - sparse_categorical_accuracy: 0.3474 - val_loss: 2.2965 - val_sparse_categorical_accuracy: 0.3522\n",
      "Epoch 12/15\n",
      "37500/37500 [==============================] - 7s 200us/sample - loss: 2.2732 - sparse_categorical_accuracy: 0.3574 - val_loss: 2.2714 - val_sparse_categorical_accuracy: 0.3603\n",
      "Epoch 13/15\n",
      "37500/37500 [==============================] - 7s 187us/sample - loss: 2.2481 - sparse_categorical_accuracy: 0.3666 - val_loss: 2.2467 - val_sparse_categorical_accuracy: 0.3717\n",
      "Epoch 14/15\n",
      "37500/37500 [==============================] - 7s 189us/sample - loss: 2.2244 - sparse_categorical_accuracy: 0.3738 - val_loss: 2.2239 - val_sparse_categorical_accuracy: 0.3766\n",
      "Epoch 15/15\n",
      "37500/37500 [==============================] - 7s 198us/sample - loss: 2.2014 - sparse_categorical_accuracy: 0.3831 - val_loss: 2.2024 - val_sparse_categorical_accuracy: 0.3857\n"
     ]
    },
    {
     "name": "stderr",
     "output_type": "stream",
     "text": [
      "\r",
      " 57%|█████▋    | 17/30 [30:04<24:01, 110.89s/it]"
     ]
    },
    {
     "name": "stdout",
     "output_type": "stream",
     "text": [
      "0.38568 0.0001812962413464772 0.001232419729269006\n",
      "Train on 37500 samples, validate on 12500 samples\n",
      "Epoch 1/15\n",
      "37500/37500 [==============================] - 9s 227us/sample - loss: 2.3140 - sparse_categorical_accuracy: 0.1458 - val_loss: 2.2915 - val_sparse_categorical_accuracy: 0.1666\n",
      "Epoch 2/15\n",
      "37500/37500 [==============================] - 8s 201us/sample - loss: 2.2713 - sparse_categorical_accuracy: 0.1794 - val_loss: 2.2523 - val_sparse_categorical_accuracy: 0.2038\n",
      "Epoch 3/15\n",
      "37500/37500 [==============================] - 8s 204us/sample - loss: 2.2300 - sparse_categorical_accuracy: 0.2200 - val_loss: 2.2084 - val_sparse_categorical_accuracy: 0.2381\n",
      "Epoch 4/15\n",
      "37500/37500 [==============================] - 8s 203us/sample - loss: 2.1819 - sparse_categorical_accuracy: 0.2475 - val_loss: 2.1579 - val_sparse_categorical_accuracy: 0.2581\n",
      "Epoch 5/15\n",
      "37500/37500 [==============================] - 7s 197us/sample - loss: 2.1286 - sparse_categorical_accuracy: 0.2609 - val_loss: 2.1054 - val_sparse_categorical_accuracy: 0.2715\n",
      "Epoch 6/15\n",
      "37500/37500 [==============================] - 8s 214us/sample - loss: 2.0772 - sparse_categorical_accuracy: 0.2774 - val_loss: 2.0583 - val_sparse_categorical_accuracy: 0.2875\n",
      "Epoch 7/15\n",
      "37500/37500 [==============================] - 8s 202us/sample - loss: 2.0322 - sparse_categorical_accuracy: 0.2922 - val_loss: 2.0181 - val_sparse_categorical_accuracy: 0.3005\n",
      "Epoch 8/15\n",
      "37500/37500 [==============================] - 8s 224us/sample - loss: 1.9934 - sparse_categorical_accuracy: 0.3051 - val_loss: 1.9827 - val_sparse_categorical_accuracy: 0.3107\n",
      "Epoch 9/15\n",
      "37500/37500 [==============================] - 9s 230us/sample - loss: 1.9588 - sparse_categorical_accuracy: 0.3176 - val_loss: 1.9507 - val_sparse_categorical_accuracy: 0.3233\n",
      "Epoch 10/15\n",
      "37500/37500 [==============================] - 9s 242us/sample - loss: 1.9268 - sparse_categorical_accuracy: 0.3291 - val_loss: 1.9201 - val_sparse_categorical_accuracy: 0.3392\n",
      "Epoch 11/15\n",
      "37500/37500 [==============================] - 9s 236us/sample - loss: 1.8970 - sparse_categorical_accuracy: 0.3413 - val_loss: 1.8914 - val_sparse_categorical_accuracy: 0.3485\n",
      "Epoch 12/15\n",
      "37500/37500 [==============================] - 8s 217us/sample - loss: 1.8687 - sparse_categorical_accuracy: 0.3498 - val_loss: 1.8645 - val_sparse_categorical_accuracy: 0.3618\n",
      "Epoch 13/15\n",
      "37500/37500 [==============================] - 8s 221us/sample - loss: 1.8419 - sparse_categorical_accuracy: 0.3596 - val_loss: 1.8397 - val_sparse_categorical_accuracy: 0.3639\n",
      "Epoch 14/15\n",
      "37500/37500 [==============================] - 8s 221us/sample - loss: 1.8170 - sparse_categorical_accuracy: 0.3675 - val_loss: 1.8174 - val_sparse_categorical_accuracy: 0.3728\n",
      "Epoch 15/15\n",
      "37500/37500 [==============================] - 8s 207us/sample - loss: 1.7936 - sparse_categorical_accuracy: 0.3746 - val_loss: 1.7937 - val_sparse_categorical_accuracy: 0.3817\n"
     ]
    },
    {
     "name": "stderr",
     "output_type": "stream",
     "text": [
      "\r",
      " 60%|██████    | 18/30 [32:08<22:58, 114.86s/it]"
     ]
    },
    {
     "name": "stdout",
     "output_type": "stream",
     "text": [
      "0.38168 0.00016101543782624333 5.764489667236756e-05\n",
      "Train on 37500 samples, validate on 12500 samples\n",
      "Epoch 1/15\n",
      "37500/37500 [==============================] - 10s 272us/sample - loss: 2.3623 - sparse_categorical_accuracy: 0.1157 - val_loss: 2.3322 - val_sparse_categorical_accuracy: 0.1497\n",
      "Epoch 2/15\n",
      "37500/37500 [==============================] - 8s 219us/sample - loss: 2.3117 - sparse_categorical_accuracy: 0.1793 - val_loss: 2.2961 - val_sparse_categorical_accuracy: 0.1990\n",
      "Epoch 3/15\n",
      "37500/37500 [==============================] - 8s 220us/sample - loss: 2.2748 - sparse_categorical_accuracy: 0.2162 - val_loss: 2.2589 - val_sparse_categorical_accuracy: 0.2268\n",
      "Epoch 4/15\n",
      "37500/37500 [==============================] - 8s 220us/sample - loss: 2.2357 - sparse_categorical_accuracy: 0.2390 - val_loss: 2.2189 - val_sparse_categorical_accuracy: 0.2462\n",
      "Epoch 5/15\n",
      "37500/37500 [==============================] - 8s 216us/sample - loss: 2.1942 - sparse_categorical_accuracy: 0.2545 - val_loss: 2.1773 - val_sparse_categorical_accuracy: 0.2610\n",
      "Epoch 6/15\n",
      "37500/37500 [==============================] - 8s 213us/sample - loss: 2.1513 - sparse_categorical_accuracy: 0.2698 - val_loss: 2.1353 - val_sparse_categorical_accuracy: 0.2703\n",
      "Epoch 7/15\n",
      "37500/37500 [==============================] - 8s 207us/sample - loss: 2.1092 - sparse_categorical_accuracy: 0.2811 - val_loss: 2.0955 - val_sparse_categorical_accuracy: 0.2823\n",
      "Epoch 8/15\n",
      "37500/37500 [==============================] - 9s 229us/sample - loss: 2.0699 - sparse_categorical_accuracy: 0.2926 - val_loss: 2.0583 - val_sparse_categorical_accuracy: 0.2953\n",
      "Epoch 9/15\n",
      "37500/37500 [==============================] - 8s 213us/sample - loss: 2.0331 - sparse_categorical_accuracy: 0.3024 - val_loss: 2.0236 - val_sparse_categorical_accuracy: 0.3083\n",
      "Epoch 10/15\n",
      "37500/37500 [==============================] - 8s 206us/sample - loss: 1.9989 - sparse_categorical_accuracy: 0.3146 - val_loss: 1.9911 - val_sparse_categorical_accuracy: 0.3213\n",
      "Epoch 11/15\n",
      "37500/37500 [==============================] - 8s 216us/sample - loss: 1.9672 - sparse_categorical_accuracy: 0.3272 - val_loss: 1.9617 - val_sparse_categorical_accuracy: 0.3303\n",
      "Epoch 12/15\n",
      "37500/37500 [==============================] - 8s 218us/sample - loss: 1.9382 - sparse_categorical_accuracy: 0.3379 - val_loss: 1.9336 - val_sparse_categorical_accuracy: 0.3362\n",
      "Epoch 13/15\n",
      "37500/37500 [==============================] - 8s 218us/sample - loss: 1.9117 - sparse_categorical_accuracy: 0.3458 - val_loss: 1.9102 - val_sparse_categorical_accuracy: 0.3473\n",
      "Epoch 14/15\n",
      "37500/37500 [==============================] - 8s 209us/sample - loss: 1.8875 - sparse_categorical_accuracy: 0.3536 - val_loss: 1.8859 - val_sparse_categorical_accuracy: 0.3551\n",
      "Epoch 15/15\n",
      "37500/37500 [==============================] - 8s 220us/sample - loss: 1.8651 - sparse_categorical_accuracy: 0.3617 - val_loss: 1.8672 - val_sparse_categorical_accuracy: 0.3629\n"
     ]
    },
    {
     "name": "stderr",
     "output_type": "stream",
     "text": [
      "\r",
      " 63%|██████▎   | 19/30 [34:14<21:41, 118.27s/it]"
     ]
    },
    {
     "name": "stdout",
     "output_type": "stream",
     "text": [
      "0.36288 0.00014763271556268004 0.00015654134314587074\n",
      "Train on 37500 samples, validate on 12500 samples\n",
      "Epoch 1/15\n",
      "37500/37500 [==============================] - 9s 244us/sample - loss: 2.2837 - sparse_categorical_accuracy: 0.1277 - val_loss: 2.2589 - val_sparse_categorical_accuracy: 0.1650\n",
      "Epoch 2/15\n",
      "37500/37500 [==============================] - 8s 203us/sample - loss: 2.2330 - sparse_categorical_accuracy: 0.1939 - val_loss: 2.2107 - val_sparse_categorical_accuracy: 0.2153\n",
      "Epoch 3/15\n",
      "37500/37500 [==============================] - 8s 202us/sample - loss: 2.1817 - sparse_categorical_accuracy: 0.2221 - val_loss: 2.1571 - val_sparse_categorical_accuracy: 0.2349\n",
      "Epoch 4/15\n",
      "37500/37500 [==============================] - 8s 203us/sample - loss: 2.1260 - sparse_categorical_accuracy: 0.2382 - val_loss: 2.1017 - val_sparse_categorical_accuracy: 0.2538\n",
      "Epoch 5/15\n",
      "37500/37500 [==============================] - 8s 204us/sample - loss: 2.0705 - sparse_categorical_accuracy: 0.2659 - val_loss: 2.0484 - val_sparse_categorical_accuracy: 0.2887\n",
      "Epoch 6/15\n",
      "37500/37500 [==============================] - 8s 202us/sample - loss: 2.0182 - sparse_categorical_accuracy: 0.2923 - val_loss: 2.0001 - val_sparse_categorical_accuracy: 0.3074\n",
      "Epoch 7/15\n",
      "37500/37500 [==============================] - 8s 206us/sample - loss: 1.9699 - sparse_categorical_accuracy: 0.3119 - val_loss: 1.9556 - val_sparse_categorical_accuracy: 0.3210\n",
      "Epoch 8/15\n",
      "37500/37500 [==============================] - 8s 203us/sample - loss: 1.9253 - sparse_categorical_accuracy: 0.3271 - val_loss: 1.9142 - val_sparse_categorical_accuracy: 0.3345\n",
      "Epoch 9/15\n",
      "37500/37500 [==============================] - 8s 213us/sample - loss: 1.8844 - sparse_categorical_accuracy: 0.3392 - val_loss: 1.8771 - val_sparse_categorical_accuracy: 0.3448\n",
      "Epoch 10/15\n",
      "37500/37500 [==============================] - 9s 230us/sample - loss: 1.8476 - sparse_categorical_accuracy: 0.3515 - val_loss: 1.8439 - val_sparse_categorical_accuracy: 0.3566\n",
      "Epoch 11/15\n",
      "37500/37500 [==============================] - 9s 228us/sample - loss: 1.8142 - sparse_categorical_accuracy: 0.3620 - val_loss: 1.8136 - val_sparse_categorical_accuracy: 0.3622\n",
      "Epoch 12/15\n",
      "37500/37500 [==============================] - 8s 205us/sample - loss: 1.7841 - sparse_categorical_accuracy: 0.3707 - val_loss: 1.7856 - val_sparse_categorical_accuracy: 0.3741\n",
      "Epoch 13/15\n",
      "37500/37500 [==============================] - 8s 218us/sample - loss: 1.7559 - sparse_categorical_accuracy: 0.3805 - val_loss: 1.7585 - val_sparse_categorical_accuracy: 0.3814\n",
      "Epoch 14/15\n",
      "37500/37500 [==============================] - 8s 204us/sample - loss: 1.7290 - sparse_categorical_accuracy: 0.3896 - val_loss: 1.7333 - val_sparse_categorical_accuracy: 0.3898\n",
      "Epoch 15/15\n",
      "37500/37500 [==============================] - 8s 207us/sample - loss: 1.7036 - sparse_categorical_accuracy: 0.3995 - val_loss: 1.7088 - val_sparse_categorical_accuracy: 0.3930\n"
     ]
    },
    {
     "name": "stderr",
     "output_type": "stream",
     "text": [
      "\r",
      " 67%|██████▋   | 20/30 [36:16<19:52, 119.24s/it]"
     ]
    },
    {
     "name": "stdout",
     "output_type": "stream",
     "text": [
      "0.39296 0.0002027142867071907 2.5213585100763462e-06\n",
      "Train on 37500 samples, validate on 12500 samples\n",
      "Epoch 1/15\n",
      "37500/37500 [==============================] - 9s 248us/sample - loss: 2.3079 - sparse_categorical_accuracy: 0.1183 - val_loss: 2.2879 - val_sparse_categorical_accuracy: 0.1551\n",
      "Epoch 2/15\n",
      "37500/37500 [==============================] - 8s 201us/sample - loss: 2.2729 - sparse_categorical_accuracy: 0.1799 - val_loss: 2.2593 - val_sparse_categorical_accuracy: 0.1982\n",
      "Epoch 3/15\n",
      "37500/37500 [==============================] - 8s 201us/sample - loss: 2.2425 - sparse_categorical_accuracy: 0.2169 - val_loss: 2.2272 - val_sparse_categorical_accuracy: 0.2302\n",
      "Epoch 4/15\n",
      "37500/37500 [==============================] - 8s 201us/sample - loss: 2.2065 - sparse_categorical_accuracy: 0.2463 - val_loss: 2.1879 - val_sparse_categorical_accuracy: 0.2512\n",
      "Epoch 5/15\n",
      "37500/37500 [==============================] - 8s 203us/sample - loss: 2.1630 - sparse_categorical_accuracy: 0.2615 - val_loss: 2.1415 - val_sparse_categorical_accuracy: 0.2713\n",
      "Epoch 6/15\n",
      "37500/37500 [==============================] - 8s 203us/sample - loss: 2.1143 - sparse_categorical_accuracy: 0.2789 - val_loss: 2.0930 - val_sparse_categorical_accuracy: 0.2844\n",
      "Epoch 7/15\n",
      "37500/37500 [==============================] - 7s 199us/sample - loss: 2.0657 - sparse_categorical_accuracy: 0.2888 - val_loss: 2.0472 - val_sparse_categorical_accuracy: 0.2953\n",
      "Epoch 8/15\n",
      "37500/37500 [==============================] - 8s 201us/sample - loss: 2.0213 - sparse_categorical_accuracy: 0.2994 - val_loss: 2.0066 - val_sparse_categorical_accuracy: 0.3049\n",
      "Epoch 9/15\n",
      "37500/37500 [==============================] - 7s 196us/sample - loss: 1.9818 - sparse_categorical_accuracy: 0.3093 - val_loss: 1.9693 - val_sparse_categorical_accuracy: 0.3170\n",
      "Epoch 10/15\n",
      "37500/37500 [==============================] - 8s 207us/sample - loss: 1.9458 - sparse_categorical_accuracy: 0.3207 - val_loss: 1.9358 - val_sparse_categorical_accuracy: 0.3281\n",
      "Epoch 11/15\n",
      "37500/37500 [==============================] - 8s 205us/sample - loss: 1.9134 - sparse_categorical_accuracy: 0.3300 - val_loss: 1.9054 - val_sparse_categorical_accuracy: 0.3340\n",
      "Epoch 12/15\n",
      "37500/37500 [==============================] - 8s 205us/sample - loss: 1.8838 - sparse_categorical_accuracy: 0.3400 - val_loss: 1.8783 - val_sparse_categorical_accuracy: 0.3433\n",
      "Epoch 13/15\n",
      "37500/37500 [==============================] - 8s 203us/sample - loss: 1.8571 - sparse_categorical_accuracy: 0.3477 - val_loss: 1.8538 - val_sparse_categorical_accuracy: 0.3518\n",
      "Epoch 14/15\n",
      "37500/37500 [==============================] - 7s 200us/sample - loss: 1.8332 - sparse_categorical_accuracy: 0.3555 - val_loss: 1.8307 - val_sparse_categorical_accuracy: 0.3610\n",
      "Epoch 15/15\n",
      "37500/37500 [==============================] - 8s 202us/sample - loss: 1.8107 - sparse_categorical_accuracy: 0.3631 - val_loss: 1.8097 - val_sparse_categorical_accuracy: 0.3680\n"
     ]
    },
    {
     "name": "stderr",
     "output_type": "stream",
     "text": [
      "\r",
      " 70%|███████   | 21/30 [38:13<17:49, 118.81s/it]"
     ]
    },
    {
     "name": "stdout",
     "output_type": "stream",
     "text": [
      "0.368 0.00014853317526523015 2.2086499058643194e-05\n",
      "Train on 37500 samples, validate on 12500 samples\n",
      "Epoch 1/15\n",
      "37500/37500 [==============================] - 9s 243us/sample - loss: 2.2947 - sparse_categorical_accuracy: 0.1358 - val_loss: 2.2662 - val_sparse_categorical_accuracy: 0.1704\n",
      "Epoch 2/15\n",
      "37500/37500 [==============================] - 8s 204us/sample - loss: 2.2402 - sparse_categorical_accuracy: 0.1992 - val_loss: 2.2153 - val_sparse_categorical_accuracy: 0.2135\n",
      "Epoch 3/15\n",
      "37500/37500 [==============================] - 8s 206us/sample - loss: 2.1832 - sparse_categorical_accuracy: 0.2301 - val_loss: 2.1543 - val_sparse_categorical_accuracy: 0.2389\n",
      "Epoch 4/15\n",
      "37500/37500 [==============================] - 7s 194us/sample - loss: 2.1187 - sparse_categorical_accuracy: 0.2566 - val_loss: 2.0898 - val_sparse_categorical_accuracy: 0.2698\n",
      "Epoch 5/15\n",
      "37500/37500 [==============================] - 7s 199us/sample - loss: 2.0545 - sparse_categorical_accuracy: 0.2834 - val_loss: 2.0289 - val_sparse_categorical_accuracy: 0.2981\n",
      "Epoch 6/15\n",
      "37500/37500 [==============================] - 7s 199us/sample - loss: 1.9964 - sparse_categorical_accuracy: 0.3068 - val_loss: 1.9759 - val_sparse_categorical_accuracy: 0.3135\n",
      "Epoch 7/15\n",
      "37500/37500 [==============================] - 8s 200us/sample - loss: 1.9465 - sparse_categorical_accuracy: 0.3229 - val_loss: 1.9307 - val_sparse_categorical_accuracy: 0.3347\n",
      "Epoch 8/15\n",
      "37500/37500 [==============================] - 8s 202us/sample - loss: 1.9039 - sparse_categorical_accuracy: 0.3371 - val_loss: 1.8918 - val_sparse_categorical_accuracy: 0.3466\n",
      "Epoch 9/15\n",
      "37500/37500 [==============================] - 7s 196us/sample - loss: 1.8672 - sparse_categorical_accuracy: 0.3497 - val_loss: 1.8593 - val_sparse_categorical_accuracy: 0.3528\n",
      "Epoch 10/15\n",
      "37500/37500 [==============================] - 8s 201us/sample - loss: 1.8360 - sparse_categorical_accuracy: 0.3602 - val_loss: 1.8323 - val_sparse_categorical_accuracy: 0.3636\n",
      "Epoch 11/15\n",
      "37500/37500 [==============================] - 7s 198us/sample - loss: 1.8078 - sparse_categorical_accuracy: 0.3698 - val_loss: 1.8050 - val_sparse_categorical_accuracy: 0.3738\n",
      "Epoch 12/15\n",
      "37500/37500 [==============================] - 7s 193us/sample - loss: 1.7818 - sparse_categorical_accuracy: 0.3779 - val_loss: 1.7800 - val_sparse_categorical_accuracy: 0.3826\n",
      "Epoch 13/15\n",
      "37500/37500 [==============================] - 7s 192us/sample - loss: 1.7565 - sparse_categorical_accuracy: 0.3862 - val_loss: 1.7559 - val_sparse_categorical_accuracy: 0.3882\n",
      "Epoch 14/15\n",
      "37500/37500 [==============================] - 7s 200us/sample - loss: 1.7324 - sparse_categorical_accuracy: 0.3943 - val_loss: 1.7320 - val_sparse_categorical_accuracy: 0.3984\n",
      "Epoch 15/15\n",
      "37500/37500 [==============================] - 7s 191us/sample - loss: 1.7085 - sparse_categorical_accuracy: 0.4026 - val_loss: 1.7096 - val_sparse_categorical_accuracy: 0.4033\n"
     ]
    },
    {
     "name": "stderr",
     "output_type": "stream",
     "text": [
      "\r",
      " 73%|███████▎  | 22/30 [40:09<15:43, 117.89s/it]"
     ]
    },
    {
     "name": "stdout",
     "output_type": "stream",
     "text": [
      "0.40328 0.000200236844103105 2.0215190296146457e-05\n",
      "Train on 37500 samples, validate on 12500 samples\n",
      "Epoch 1/15\n",
      "37500/37500 [==============================] - 9s 237us/sample - loss: 4.0617 - sparse_categorical_accuracy: 0.1939 - val_loss: 3.9461 - val_sparse_categorical_accuracy: 0.2733\n",
      "Epoch 2/15\n",
      "37500/37500 [==============================] - 7s 190us/sample - loss: 3.8054 - sparse_categorical_accuracy: 0.2947 - val_loss: 3.6824 - val_sparse_categorical_accuracy: 0.3305\n",
      "Epoch 3/15\n",
      "37500/37500 [==============================] - 7s 193us/sample - loss: 3.5889 - sparse_categorical_accuracy: 0.3515 - val_loss: 3.5162 - val_sparse_categorical_accuracy: 0.3761\n",
      "Epoch 4/15\n",
      "37500/37500 [==============================] - 7s 190us/sample - loss: 3.4432 - sparse_categorical_accuracy: 0.3901 - val_loss: 3.3892 - val_sparse_categorical_accuracy: 0.4071\n",
      "Epoch 5/15\n",
      "37500/37500 [==============================] - 7s 192us/sample - loss: 3.3280 - sparse_categorical_accuracy: 0.4215 - val_loss: 3.2824 - val_sparse_categorical_accuracy: 0.4306\n",
      "Epoch 6/15\n",
      "37500/37500 [==============================] - 7s 190us/sample - loss: 3.2288 - sparse_categorical_accuracy: 0.4409 - val_loss: 3.2046 - val_sparse_categorical_accuracy: 0.4420\n",
      "Epoch 7/15\n",
      "37500/37500 [==============================] - 7s 194us/sample - loss: 3.1396 - sparse_categorical_accuracy: 0.4619 - val_loss: 3.1294 - val_sparse_categorical_accuracy: 0.4541\n",
      "Epoch 8/15\n",
      "37500/37500 [==============================] - 7s 191us/sample - loss: 3.0592 - sparse_categorical_accuracy: 0.4778 - val_loss: 3.0461 - val_sparse_categorical_accuracy: 0.4763\n",
      "Epoch 9/15\n",
      "37500/37500 [==============================] - 7s 189us/sample - loss: 2.9886 - sparse_categorical_accuracy: 0.4929 - val_loss: 2.9856 - val_sparse_categorical_accuracy: 0.4833\n",
      "Epoch 10/15\n",
      "37500/37500 [==============================] - 7s 195us/sample - loss: 2.9223 - sparse_categorical_accuracy: 0.5062 - val_loss: 2.9134 - val_sparse_categorical_accuracy: 0.4997\n",
      "Epoch 11/15\n",
      "37500/37500 [==============================] - 7s 191us/sample - loss: 2.8618 - sparse_categorical_accuracy: 0.5195 - val_loss: 2.8621 - val_sparse_categorical_accuracy: 0.5094\n",
      "Epoch 12/15\n",
      "37500/37500 [==============================] - 7s 193us/sample - loss: 2.8021 - sparse_categorical_accuracy: 0.5293 - val_loss: 2.8008 - val_sparse_categorical_accuracy: 0.5220\n",
      "Epoch 13/15\n",
      "37500/37500 [==============================] - 7s 190us/sample - loss: 2.7459 - sparse_categorical_accuracy: 0.5395 - val_loss: 2.7809 - val_sparse_categorical_accuracy: 0.5167\n",
      "Epoch 14/15\n",
      "37500/37500 [==============================] - 7s 193us/sample - loss: 2.6932 - sparse_categorical_accuracy: 0.5484 - val_loss: 2.6997 - val_sparse_categorical_accuracy: 0.5423\n",
      "Epoch 15/15\n",
      "37500/37500 [==============================] - 7s 190us/sample - loss: 2.6414 - sparse_categorical_accuracy: 0.5585 - val_loss: 2.6563 - val_sparse_categorical_accuracy: 0.5475\n"
     ]
    },
    {
     "name": "stderr",
     "output_type": "stream",
     "text": [
      "\r",
      " 77%|███████▋  | 23/30 [42:01<13:32, 116.10s/it]"
     ]
    },
    {
     "name": "stdout",
     "output_type": "stream",
     "text": [
      "0.54752 0.0009592861537017728 0.005011564098950385\n",
      "Train on 37500 samples, validate on 12500 samples\n",
      "Epoch 1/15\n",
      "37500/37500 [==============================] - 9s 246us/sample - loss: 2.3342 - sparse_categorical_accuracy: 0.1326 - val_loss: 2.3085 - val_sparse_categorical_accuracy: 0.1744\n",
      "Epoch 2/15\n",
      "37500/37500 [==============================] - 7s 187us/sample - loss: 2.2806 - sparse_categorical_accuracy: 0.1948 - val_loss: 2.2579 - val_sparse_categorical_accuracy: 0.2136\n",
      "Epoch 3/15\n",
      "37500/37500 [==============================] - 7s 190us/sample - loss: 2.2247 - sparse_categorical_accuracy: 0.2329 - val_loss: 2.1985 - val_sparse_categorical_accuracy: 0.2542\n",
      "Epoch 4/15\n",
      "37500/37500 [==============================] - 7s 187us/sample - loss: 2.1642 - sparse_categorical_accuracy: 0.2613 - val_loss: 2.1398 - val_sparse_categorical_accuracy: 0.2746\n",
      "Epoch 5/15\n",
      "37500/37500 [==============================] - 7s 190us/sample - loss: 2.1073 - sparse_categorical_accuracy: 0.2774 - val_loss: 2.0871 - val_sparse_categorical_accuracy: 0.2852\n",
      "Epoch 6/15\n",
      "37500/37500 [==============================] - 7s 194us/sample - loss: 2.0585 - sparse_categorical_accuracy: 0.2897 - val_loss: 2.0433 - val_sparse_categorical_accuracy: 0.2990\n",
      "Epoch 7/15\n",
      "37500/37500 [==============================] - 8s 212us/sample - loss: 2.0171 - sparse_categorical_accuracy: 0.3025 - val_loss: 2.0048 - val_sparse_categorical_accuracy: 0.3161\n",
      "Epoch 8/15\n",
      "37500/37500 [==============================] - 9s 235us/sample - loss: 1.9799 - sparse_categorical_accuracy: 0.3202 - val_loss: 1.9710 - val_sparse_categorical_accuracy: 0.3273\n",
      "Epoch 9/15\n",
      "37500/37500 [==============================] - 8s 217us/sample - loss: 1.9457 - sparse_categorical_accuracy: 0.3336 - val_loss: 1.9376 - val_sparse_categorical_accuracy: 0.3390\n",
      "Epoch 10/15\n",
      "37500/37500 [==============================] - 8s 208us/sample - loss: 1.9132 - sparse_categorical_accuracy: 0.3477 - val_loss: 1.9086 - val_sparse_categorical_accuracy: 0.3519\n",
      "Epoch 11/15\n",
      "37500/37500 [==============================] - 8s 220us/sample - loss: 1.8815 - sparse_categorical_accuracy: 0.3605 - val_loss: 1.8783 - val_sparse_categorical_accuracy: 0.3601\n",
      "Epoch 12/15\n",
      "37500/37500 [==============================] - 9s 234us/sample - loss: 1.8509 - sparse_categorical_accuracy: 0.3727 - val_loss: 1.8478 - val_sparse_categorical_accuracy: 0.3758\n",
      "Epoch 13/15\n",
      "37500/37500 [==============================] - 8s 217us/sample - loss: 1.8207 - sparse_categorical_accuracy: 0.3841 - val_loss: 1.8204 - val_sparse_categorical_accuracy: 0.3851\n",
      "Epoch 14/15\n",
      "37500/37500 [==============================] - 8s 208us/sample - loss: 1.7920 - sparse_categorical_accuracy: 0.3937 - val_loss: 1.7913 - val_sparse_categorical_accuracy: 0.3927\n",
      "Epoch 15/15\n",
      "37500/37500 [==============================] - 8s 225us/sample - loss: 1.7639 - sparse_categorical_accuracy: 0.4005 - val_loss: 1.7664 - val_sparse_categorical_accuracy: 0.4002\n"
     ]
    },
    {
     "name": "stderr",
     "output_type": "stream",
     "text": [
      "\r",
      " 80%|████████  | 24/30 [44:02<11:46, 117.70s/it]"
     ]
    },
    {
     "name": "stdout",
     "output_type": "stream",
     "text": [
      "0.40016 0.00021687363652744015 0.00014428078259206786\n",
      "Train on 37500 samples, validate on 12500 samples\n",
      "Epoch 1/15\n",
      "37500/37500 [==============================] - 10s 271us/sample - loss: 2.4565 - sparse_categorical_accuracy: 0.1950 - val_loss: 2.3847 - val_sparse_categorical_accuracy: 0.2462\n",
      "Epoch 2/15\n",
      "37500/37500 [==============================] - 9s 227us/sample - loss: 2.2890 - sparse_categorical_accuracy: 0.2726 - val_loss: 2.2116 - val_sparse_categorical_accuracy: 0.3011\n",
      "Epoch 3/15\n",
      "37500/37500 [==============================] - 8s 212us/sample - loss: 2.1331 - sparse_categorical_accuracy: 0.3265 - val_loss: 2.0789 - val_sparse_categorical_accuracy: 0.3466\n",
      "Epoch 4/15\n",
      "37500/37500 [==============================] - 8s 225us/sample - loss: 2.0092 - sparse_categorical_accuracy: 0.3741 - val_loss: 1.9692 - val_sparse_categorical_accuracy: 0.3929\n",
      "Epoch 5/15\n",
      "37500/37500 [==============================] - 8s 204us/sample - loss: 1.9139 - sparse_categorical_accuracy: 0.4069 - val_loss: 1.8856 - val_sparse_categorical_accuracy: 0.4163\n",
      "Epoch 6/15\n",
      "37500/37500 [==============================] - 8s 201us/sample - loss: 1.8332 - sparse_categorical_accuracy: 0.4318 - val_loss: 1.8137 - val_sparse_categorical_accuracy: 0.4396\n",
      "Epoch 7/15\n",
      "37500/37500 [==============================] - 8s 219us/sample - loss: 1.7657 - sparse_categorical_accuracy: 0.4546 - val_loss: 1.7518 - val_sparse_categorical_accuracy: 0.4584\n",
      "Epoch 8/15\n",
      "37500/37500 [==============================] - 8s 213us/sample - loss: 1.7124 - sparse_categorical_accuracy: 0.4709 - val_loss: 1.7072 - val_sparse_categorical_accuracy: 0.4726\n",
      "Epoch 9/15\n",
      "37500/37500 [==============================] - 8s 206us/sample - loss: 1.6676 - sparse_categorical_accuracy: 0.4853 - val_loss: 1.6786 - val_sparse_categorical_accuracy: 0.4856\n",
      "Epoch 10/15\n",
      "37500/37500 [==============================] - 7s 191us/sample - loss: 1.6309 - sparse_categorical_accuracy: 0.4977 - val_loss: 1.6379 - val_sparse_categorical_accuracy: 0.5007\n",
      "Epoch 11/15\n",
      "37500/37500 [==============================] - 7s 192us/sample - loss: 1.5978 - sparse_categorical_accuracy: 0.5114 - val_loss: 1.6137 - val_sparse_categorical_accuracy: 0.5086\n",
      "Epoch 12/15\n",
      "37500/37500 [==============================] - 8s 212us/sample - loss: 1.5680 - sparse_categorical_accuracy: 0.5218 - val_loss: 1.5846 - val_sparse_categorical_accuracy: 0.5194\n",
      "Epoch 13/15\n",
      "37500/37500 [==============================] - 9s 230us/sample - loss: 1.5395 - sparse_categorical_accuracy: 0.5342 - val_loss: 1.5605 - val_sparse_categorical_accuracy: 0.5264\n",
      "Epoch 14/15\n",
      "37500/37500 [==============================] - 8s 203us/sample - loss: 1.5160 - sparse_categorical_accuracy: 0.5425 - val_loss: 1.5376 - val_sparse_categorical_accuracy: 0.5361\n",
      "Epoch 15/15\n",
      "37500/37500 [==============================] - 8s 201us/sample - loss: 1.4909 - sparse_categorical_accuracy: 0.5518 - val_loss: 1.5206 - val_sparse_categorical_accuracy: 0.5426\n"
     ]
    },
    {
     "name": "stderr",
     "output_type": "stream",
     "text": [
      "\r",
      " 83%|████████▎ | 25/30 [46:06<09:56, 119.38s/it]"
     ]
    },
    {
     "name": "stdout",
     "output_type": "stream",
     "text": [
      "0.54264 0.0007316829163605394 0.000596736025335764\n",
      "Train on 37500 samples, validate on 12500 samples\n",
      "Epoch 1/15\n",
      "37500/37500 [==============================] - 9s 252us/sample - loss: 2.2462 - sparse_categorical_accuracy: 0.1945 - val_loss: 2.1803 - val_sparse_categorical_accuracy: 0.2362\n",
      "Epoch 2/15\n",
      "37500/37500 [==============================] - 8s 215us/sample - loss: 2.1000 - sparse_categorical_accuracy: 0.2650 - val_loss: 2.0347 - val_sparse_categorical_accuracy: 0.2978\n",
      "Epoch 3/15\n",
      "37500/37500 [==============================] - 7s 192us/sample - loss: 1.9736 - sparse_categorical_accuracy: 0.3116 - val_loss: 1.9293 - val_sparse_categorical_accuracy: 0.3280\n",
      "Epoch 4/15\n",
      "37500/37500 [==============================] - 8s 202us/sample - loss: 1.8748 - sparse_categorical_accuracy: 0.3446 - val_loss: 1.8443 - val_sparse_categorical_accuracy: 0.3582\n",
      "Epoch 5/15\n",
      "37500/37500 [==============================] - 8s 208us/sample - loss: 1.7976 - sparse_categorical_accuracy: 0.3728 - val_loss: 1.7734 - val_sparse_categorical_accuracy: 0.3874\n",
      "Epoch 6/15\n",
      "37500/37500 [==============================] - 8s 224us/sample - loss: 1.7331 - sparse_categorical_accuracy: 0.3936 - val_loss: 1.7135 - val_sparse_categorical_accuracy: 0.4042\n",
      "Epoch 7/15\n",
      "37500/37500 [==============================] - 8s 211us/sample - loss: 1.6748 - sparse_categorical_accuracy: 0.4127 - val_loss: 1.6642 - val_sparse_categorical_accuracy: 0.4157\n",
      "Epoch 8/15\n",
      "37500/37500 [==============================] - 8s 210us/sample - loss: 1.6232 - sparse_categorical_accuracy: 0.4304 - val_loss: 1.6162 - val_sparse_categorical_accuracy: 0.4312\n",
      "Epoch 9/15\n",
      "37500/37500 [==============================] - 10s 254us/sample - loss: 1.5757 - sparse_categorical_accuracy: 0.4462 - val_loss: 1.5715 - val_sparse_categorical_accuracy: 0.4502\n",
      "Epoch 10/15\n",
      "37500/37500 [==============================] - 8s 226us/sample - loss: 1.5329 - sparse_categorical_accuracy: 0.4609 - val_loss: 1.5310 - val_sparse_categorical_accuracy: 0.4568\n",
      "Epoch 11/15\n",
      "37500/37500 [==============================] - 8s 219us/sample - loss: 1.4966 - sparse_categorical_accuracy: 0.4727 - val_loss: 1.5088 - val_sparse_categorical_accuracy: 0.4652\n",
      "Epoch 12/15\n",
      "37500/37500 [==============================] - 8s 204us/sample - loss: 1.4648 - sparse_categorical_accuracy: 0.4845 - val_loss: 1.4706 - val_sparse_categorical_accuracy: 0.4838\n",
      "Epoch 13/15\n",
      "37500/37500 [==============================] - 7s 200us/sample - loss: 1.4352 - sparse_categorical_accuracy: 0.4972 - val_loss: 1.4450 - val_sparse_categorical_accuracy: 0.4934\n",
      "Epoch 14/15\n",
      "37500/37500 [==============================] - 8s 201us/sample - loss: 1.4085 - sparse_categorical_accuracy: 0.5053 - val_loss: 1.4214 - val_sparse_categorical_accuracy: 0.4987\n",
      "Epoch 15/15\n",
      "37500/37500 [==============================] - 8s 205us/sample - loss: 1.3841 - sparse_categorical_accuracy: 0.5144 - val_loss: 1.4067 - val_sparse_categorical_accuracy: 0.5070\n"
     ]
    },
    {
     "name": "stderr",
     "output_type": "stream",
     "text": [
      "\r",
      " 87%|████████▋ | 26/30 [48:09<08:02, 120.61s/it]"
     ]
    },
    {
     "name": "stdout",
     "output_type": "stream",
     "text": [
      "0.50704 0.0005572868152845399 3.557846301314022e-05\n",
      "Train on 37500 samples, validate on 12500 samples\n",
      "Epoch 1/15\n",
      "37500/37500 [==============================] - 10s 260us/sample - loss: 2.3022 - sparse_categorical_accuracy: 0.1345 - val_loss: 2.2706 - val_sparse_categorical_accuracy: 0.1723\n",
      "Epoch 2/15\n",
      "37500/37500 [==============================] - 8s 203us/sample - loss: 2.2479 - sparse_categorical_accuracy: 0.1914 - val_loss: 2.2269 - val_sparse_categorical_accuracy: 0.2075\n",
      "Epoch 3/15\n",
      "37500/37500 [==============================] - 8s 203us/sample - loss: 2.2027 - sparse_categorical_accuracy: 0.2286 - val_loss: 2.1814 - val_sparse_categorical_accuracy: 0.2433\n",
      "Epoch 4/15\n",
      "37500/37500 [==============================] - 8s 211us/sample - loss: 2.1553 - sparse_categorical_accuracy: 0.2584 - val_loss: 2.1338 - val_sparse_categorical_accuracy: 0.2599\n",
      "Epoch 5/15\n",
      "37500/37500 [==============================] - 8s 203us/sample - loss: 2.1063 - sparse_categorical_accuracy: 0.2733 - val_loss: 2.0853 - val_sparse_categorical_accuracy: 0.2826\n",
      "Epoch 6/15\n",
      "37500/37500 [==============================] - 7s 197us/sample - loss: 2.0580 - sparse_categorical_accuracy: 0.2906 - val_loss: 2.0397 - val_sparse_categorical_accuracy: 0.2962\n",
      "Epoch 7/15\n",
      "37500/37500 [==============================] - 8s 211us/sample - loss: 2.0134 - sparse_categorical_accuracy: 0.3053 - val_loss: 1.9979 - val_sparse_categorical_accuracy: 0.3106\n",
      "Epoch 8/15\n",
      "37500/37500 [==============================] - 8s 216us/sample - loss: 1.9735 - sparse_categorical_accuracy: 0.3191 - val_loss: 1.9608 - val_sparse_categorical_accuracy: 0.3242\n",
      "Epoch 9/15\n",
      "37500/37500 [==============================] - 8s 222us/sample - loss: 1.9368 - sparse_categorical_accuracy: 0.3273 - val_loss: 1.9261 - val_sparse_categorical_accuracy: 0.3374\n",
      "Epoch 10/15\n",
      "37500/37500 [==============================] - 8s 209us/sample - loss: 1.9023 - sparse_categorical_accuracy: 0.3389 - val_loss: 1.8932 - val_sparse_categorical_accuracy: 0.3440\n",
      "Epoch 11/15\n",
      "37500/37500 [==============================] - 8s 215us/sample - loss: 1.8704 - sparse_categorical_accuracy: 0.3482 - val_loss: 1.8636 - val_sparse_categorical_accuracy: 0.3551\n",
      "Epoch 12/15\n",
      "37500/37500 [==============================] - 7s 195us/sample - loss: 1.8407 - sparse_categorical_accuracy: 0.3569 - val_loss: 1.8355 - val_sparse_categorical_accuracy: 0.3636\n",
      "Epoch 13/15\n",
      "37500/37500 [==============================] - 8s 201us/sample - loss: 1.8138 - sparse_categorical_accuracy: 0.3653 - val_loss: 1.8113 - val_sparse_categorical_accuracy: 0.3698\n",
      "Epoch 14/15\n",
      "37500/37500 [==============================] - 8s 208us/sample - loss: 1.7890 - sparse_categorical_accuracy: 0.3741 - val_loss: 1.7894 - val_sparse_categorical_accuracy: 0.3791\n",
      "Epoch 15/15\n",
      "37500/37500 [==============================] - 7s 197us/sample - loss: 1.7664 - sparse_categorical_accuracy: 0.3799 - val_loss: 1.7672 - val_sparse_categorical_accuracy: 0.3861\n"
     ]
    },
    {
     "name": "stderr",
     "output_type": "stream",
     "text": [
      "\r",
      " 90%|█████████ | 27/30 [50:10<06:02, 120.67s/it]"
     ]
    },
    {
     "name": "stdout",
     "output_type": "stream",
     "text": [
      "0.38608 0.00015482674766941374 2.127074862600129e-06\n",
      "Train on 37500 samples, validate on 12500 samples\n",
      "Epoch 1/15\n",
      "37500/37500 [==============================] - 10s 270us/sample - loss: 2.4151 - sparse_categorical_accuracy: 0.0985 - val_loss: 2.3903 - val_sparse_categorical_accuracy: 0.1150\n",
      "Epoch 2/15\n",
      "37500/37500 [==============================] - 8s 200us/sample - loss: 2.3706 - sparse_categorical_accuracy: 0.1342 - val_loss: 2.3597 - val_sparse_categorical_accuracy: 0.1481\n",
      "Epoch 3/15\n",
      "37500/37500 [==============================] - 7s 196us/sample - loss: 2.3418 - sparse_categorical_accuracy: 0.1661 - val_loss: 2.3325 - val_sparse_categorical_accuracy: 0.1816\n",
      "Epoch 4/15\n",
      "37500/37500 [==============================] - 7s 198us/sample - loss: 2.3138 - sparse_categorical_accuracy: 0.1981 - val_loss: 2.3042 - val_sparse_categorical_accuracy: 0.2104\n",
      "Epoch 5/15\n",
      "37500/37500 [==============================] - 7s 195us/sample - loss: 2.2836 - sparse_categorical_accuracy: 0.2227 - val_loss: 2.2730 - val_sparse_categorical_accuracy: 0.2290\n",
      "Epoch 6/15\n",
      "37500/37500 [==============================] - 8s 200us/sample - loss: 2.2505 - sparse_categorical_accuracy: 0.2432 - val_loss: 2.2392 - val_sparse_categorical_accuracy: 0.2501\n",
      "Epoch 7/15\n",
      "37500/37500 [==============================] - 7s 199us/sample - loss: 2.2154 - sparse_categorical_accuracy: 0.2608 - val_loss: 2.2046 - val_sparse_categorical_accuracy: 0.2648\n",
      "Epoch 8/15\n",
      "37500/37500 [==============================] - 8s 203us/sample - loss: 2.1803 - sparse_categorical_accuracy: 0.2733 - val_loss: 2.1710 - val_sparse_categorical_accuracy: 0.2799\n",
      "Epoch 9/15\n",
      "37500/37500 [==============================] - 8s 212us/sample - loss: 2.1469 - sparse_categorical_accuracy: 0.2870 - val_loss: 2.1396 - val_sparse_categorical_accuracy: 0.2919\n",
      "Epoch 10/15\n",
      "37500/37500 [==============================] - 8s 207us/sample - loss: 2.1162 - sparse_categorical_accuracy: 0.2956 - val_loss: 2.1107 - val_sparse_categorical_accuracy: 0.3007\n",
      "Epoch 11/15\n",
      "37500/37500 [==============================] - 7s 199us/sample - loss: 2.0879 - sparse_categorical_accuracy: 0.3037 - val_loss: 2.0843 - val_sparse_categorical_accuracy: 0.3106\n",
      "Epoch 12/15\n",
      "37500/37500 [==============================] - 8s 201us/sample - loss: 2.0616 - sparse_categorical_accuracy: 0.3121 - val_loss: 2.0591 - val_sparse_categorical_accuracy: 0.3206\n",
      "Epoch 13/15\n",
      "37500/37500 [==============================] - 8s 204us/sample - loss: 2.0370 - sparse_categorical_accuracy: 0.3197 - val_loss: 2.0357 - val_sparse_categorical_accuracy: 0.3266\n",
      "Epoch 14/15\n",
      "37500/37500 [==============================] - 8s 204us/sample - loss: 2.0139 - sparse_categorical_accuracy: 0.3273 - val_loss: 2.0134 - val_sparse_categorical_accuracy: 0.3352\n",
      "Epoch 15/15\n",
      "37500/37500 [==============================] - 8s 202us/sample - loss: 1.9922 - sparse_categorical_accuracy: 0.3345 - val_loss: 1.9930 - val_sparse_categorical_accuracy: 0.3417\n"
     ]
    },
    {
     "name": "stderr",
     "output_type": "stream",
     "text": [
      "\r",
      " 93%|█████████▎| 28/30 [52:09<04:00, 120.03s/it]"
     ]
    },
    {
     "name": "stdout",
     "output_type": "stream",
     "text": [
      "0.34168 0.00010161046478876636 0.00025831567706354657\n",
      "Train on 37500 samples, validate on 12500 samples\n",
      "Epoch 1/15\n",
      "37500/37500 [==============================] - 9s 245us/sample - loss: 2.2662 - sparse_categorical_accuracy: 0.1834 - val_loss: 2.2048 - val_sparse_categorical_accuracy: 0.2434\n",
      "Epoch 2/15\n",
      "37500/37500 [==============================] - 7s 197us/sample - loss: 2.1269 - sparse_categorical_accuracy: 0.2625 - val_loss: 2.0576 - val_sparse_categorical_accuracy: 0.2843\n",
      "Epoch 3/15\n",
      "37500/37500 [==============================] - 7s 196us/sample - loss: 1.9901 - sparse_categorical_accuracy: 0.3011 - val_loss: 1.9416 - val_sparse_categorical_accuracy: 0.3278\n",
      "Epoch 4/15\n",
      "37500/37500 [==============================] - 7s 193us/sample - loss: 1.8925 - sparse_categorical_accuracy: 0.3345 - val_loss: 1.8660 - val_sparse_categorical_accuracy: 0.3484\n",
      "Epoch 5/15\n",
      "37500/37500 [==============================] - 8s 201us/sample - loss: 1.8236 - sparse_categorical_accuracy: 0.3591 - val_loss: 1.8044 - val_sparse_categorical_accuracy: 0.3732\n",
      "Epoch 6/15\n",
      "37500/37500 [==============================] - 8s 208us/sample - loss: 1.7639 - sparse_categorical_accuracy: 0.3792 - val_loss: 1.7520 - val_sparse_categorical_accuracy: 0.3880\n",
      "Epoch 7/15\n",
      "37500/37500 [==============================] - 8s 207us/sample - loss: 1.7081 - sparse_categorical_accuracy: 0.3987 - val_loss: 1.6950 - val_sparse_categorical_accuracy: 0.4058\n",
      "Epoch 8/15\n",
      "37500/37500 [==============================] - 8s 210us/sample - loss: 1.6543 - sparse_categorical_accuracy: 0.4170 - val_loss: 1.6511 - val_sparse_categorical_accuracy: 0.4163\n",
      "Epoch 9/15\n",
      "37500/37500 [==============================] - 8s 212us/sample - loss: 1.6040 - sparse_categorical_accuracy: 0.4342 - val_loss: 1.6009 - val_sparse_categorical_accuracy: 0.4286\n",
      "Epoch 10/15\n",
      "37500/37500 [==============================] - 8s 209us/sample - loss: 1.5590 - sparse_categorical_accuracy: 0.4512 - val_loss: 1.5650 - val_sparse_categorical_accuracy: 0.4450\n",
      "Epoch 11/15\n",
      "37500/37500 [==============================] - 8s 210us/sample - loss: 1.5197 - sparse_categorical_accuracy: 0.4647 - val_loss: 1.5361 - val_sparse_categorical_accuracy: 0.4529\n",
      "Epoch 12/15\n",
      "37500/37500 [==============================] - 7s 191us/sample - loss: 1.4874 - sparse_categorical_accuracy: 0.4759 - val_loss: 1.4999 - val_sparse_categorical_accuracy: 0.4680\n",
      "Epoch 13/15\n",
      "37500/37500 [==============================] - 7s 195us/sample - loss: 1.4575 - sparse_categorical_accuracy: 0.4869 - val_loss: 1.4742 - val_sparse_categorical_accuracy: 0.4753\n",
      "Epoch 14/15\n",
      "37500/37500 [==============================] - 7s 191us/sample - loss: 1.4321 - sparse_categorical_accuracy: 0.4943 - val_loss: 1.4510 - val_sparse_categorical_accuracy: 0.4832\n",
      "Epoch 15/15\n",
      "37500/37500 [==============================] - 7s 191us/sample - loss: 1.4081 - sparse_categorical_accuracy: 0.5037 - val_loss: 1.4365 - val_sparse_categorical_accuracy: 0.4939\n"
     ]
    },
    {
     "name": "stderr",
     "output_type": "stream",
     "text": [
      "\r",
      " 97%|█████████▋| 29/30 [54:06<01:59, 119.24s/it]"
     ]
    },
    {
     "name": "stdout",
     "output_type": "stream",
     "text": [
      "0.49392 0.0005079343288002167 2.768743739871422e-05\n",
      "Train on 37500 samples, validate on 12500 samples\n",
      "Epoch 1/15\n",
      "37500/37500 [==============================] - 9s 235us/sample - loss: 2.4806 - sparse_categorical_accuracy: 0.1236 - val_loss: 2.4359 - val_sparse_categorical_accuracy: 0.1793\n",
      "Epoch 2/15\n",
      "37500/37500 [==============================] - 7s 196us/sample - loss: 2.3978 - sparse_categorical_accuracy: 0.2131 - val_loss: 2.3639 - val_sparse_categorical_accuracy: 0.2423\n",
      "Epoch 3/15\n",
      "37500/37500 [==============================] - 7s 193us/sample - loss: 2.3260 - sparse_categorical_accuracy: 0.2531 - val_loss: 2.2951 - val_sparse_categorical_accuracy: 0.2672\n",
      "Epoch 4/15\n",
      "37500/37500 [==============================] - 8s 219us/sample - loss: 2.2608 - sparse_categorical_accuracy: 0.2742 - val_loss: 2.2361 - val_sparse_categorical_accuracy: 0.2868\n",
      "Epoch 5/15\n",
      "37500/37500 [==============================] - 8s 216us/sample - loss: 2.2058 - sparse_categorical_accuracy: 0.2917 - val_loss: 2.1860 - val_sparse_categorical_accuracy: 0.3030\n",
      "Epoch 6/15\n",
      "37500/37500 [==============================] - 8s 211us/sample - loss: 2.1565 - sparse_categorical_accuracy: 0.3077 - val_loss: 2.1382 - val_sparse_categorical_accuracy: 0.3214\n",
      "Epoch 7/15\n",
      "37500/37500 [==============================] - 8s 204us/sample - loss: 2.1105 - sparse_categorical_accuracy: 0.3246 - val_loss: 2.0942 - val_sparse_categorical_accuracy: 0.3358\n",
      "Epoch 8/15\n",
      "37500/37500 [==============================] - 8s 209us/sample - loss: 2.0677 - sparse_categorical_accuracy: 0.3378 - val_loss: 2.0551 - val_sparse_categorical_accuracy: 0.3479\n",
      "Epoch 9/15\n",
      "37500/37500 [==============================] - 8s 207us/sample - loss: 2.0303 - sparse_categorical_accuracy: 0.3504 - val_loss: 2.0221 - val_sparse_categorical_accuracy: 0.3553\n",
      "Epoch 10/15\n",
      "37500/37500 [==============================] - 8s 207us/sample - loss: 1.9976 - sparse_categorical_accuracy: 0.3624 - val_loss: 1.9912 - val_sparse_categorical_accuracy: 0.3666\n",
      "Epoch 11/15\n",
      "37500/37500 [==============================] - 8s 217us/sample - loss: 1.9681 - sparse_categorical_accuracy: 0.3707 - val_loss: 1.9642 - val_sparse_categorical_accuracy: 0.3760\n",
      "Epoch 12/15\n",
      "37500/37500 [==============================] - 8s 224us/sample - loss: 1.9412 - sparse_categorical_accuracy: 0.3814 - val_loss: 1.9391 - val_sparse_categorical_accuracy: 0.3835\n",
      "Epoch 13/15\n",
      "37500/37500 [==============================] - 8s 213us/sample - loss: 1.9163 - sparse_categorical_accuracy: 0.3877 - val_loss: 1.9158 - val_sparse_categorical_accuracy: 0.3893\n",
      "Epoch 14/15\n",
      "37500/37500 [==============================] - 8s 208us/sample - loss: 1.8933 - sparse_categorical_accuracy: 0.3970 - val_loss: 1.8941 - val_sparse_categorical_accuracy: 0.3966\n",
      "Epoch 15/15\n",
      "37500/37500 [==============================] - 8s 207us/sample - loss: 1.8717 - sparse_categorical_accuracy: 0.4040 - val_loss: 1.8736 - val_sparse_categorical_accuracy: 0.4017\n"
     ]
    },
    {
     "name": "stderr",
     "output_type": "stream",
     "text": [
      "100%|██████████| 30/30 [56:07<00:00, 112.26s/it]"
     ]
    },
    {
     "name": "stdout",
     "output_type": "stream",
     "text": [
      "0.40168 0.00018117736516382697 0.0005318784683181312\n"
     ]
    },
    {
     "name": "stderr",
     "output_type": "stream",
     "text": [
      "\n"
     ]
    }
   ],
   "source": [
    "val_acc=[]\n",
    "lrs=[]\n",
    "l2_regs=[]\n",
    "for i in tqdm(range(30)):\n",
    "    lr = 10**np.random.uniform(-3,-4)\n",
    "    l2_reg = 10**np.random.uniform(-6, -2)\n",
    "    model = create_model(num_classes,l2_reg)\n",
    "    model.compile(optimizer=optimizers.SGD(learning_rate=lr),loss='sparse_categorical_crossentropy',metrics=['sparse_categorical_accuracy'])\n",
    "    history = model.fit(X_train,y_train,batch_size=BATCH_SIZE,epochs=15, verbose=1,validation_data=(X_val,y_val))\n",
    "    val_acc.append(history.history['val_sparse_categorical_accuracy'][-1])\n",
    "    lrs.append(lr)\n",
    "    l2_regs.append(l2_reg)\n",
    "    print(history.history['val_sparse_categorical_accuracy'][-1], lr, l2_reg)"
   ]
  },
  {
   "cell_type": "code",
   "execution_count": 26,
   "metadata": {
    "scrolled": true
   },
   "outputs": [],
   "source": [
    "logs=[val_acc,lrs, l2_regs]\n",
    "logs=np.array(logs)\n",
    "# logs=np.sort(logs,axis=0)"
   ]
  },
  {
   "cell_type": "code",
   "execution_count": 27,
   "metadata": {
    "scrolled": true
   },
   "outputs": [
    {
     "data": {
      "text/plain": [
       "array([ 2, 22, 24,  1], dtype=int64)"
      ]
     },
     "execution_count": 27,
     "metadata": {},
     "output_type": "execute_result"
    }
   ],
   "source": [
    "top4=np.argsort(logs[0,:])[::-1][:4]\n",
    "top4"
   ]
  },
  {
   "cell_type": "code",
   "execution_count": 28,
   "metadata": {
    "scrolled": true
   },
   "outputs": [
    {
     "data": {
      "text/plain": [
       "array([[5.74959993e-01, 5.47519982e-01, 5.42639971e-01, 5.40560007e-01],\n",
       "       [9.90559287e-04, 9.59286154e-04, 7.31682916e-04, 7.42696756e-04],\n",
       "       [1.50167826e-04, 5.01156410e-03, 5.96736025e-04, 1.08764332e-03]])"
      ]
     },
     "execution_count": 28,
     "metadata": {},
     "output_type": "execute_result"
    }
   ],
   "source": [
    "logs[:,top4]"
   ]
  },
  {
   "cell_type": "code",
   "execution_count": 29,
   "metadata": {
    "scrolled": true
   },
   "outputs": [
    {
     "data": {
      "text/plain": [
       "(0.0009905592866632843, 0.0001501678259525072)"
      ]
     },
     "execution_count": 29,
     "metadata": {},
     "output_type": "execute_result"
    }
   ],
   "source": [
    "lr, l2_reg = logs[1,top4[0]],logs[2,top4[0]]\n",
    "lr, l2_reg"
   ]
  },
  {
   "cell_type": "code",
   "execution_count": 30,
   "metadata": {
    "scrolled": false
   },
   "outputs": [
    {
     "data": {
      "text/plain": [
       "(0.0009905592866632843, 0.0001501678259525072)"
      ]
     },
     "execution_count": 30,
     "metadata": {},
     "output_type": "execute_result"
    }
   ],
   "source": [
    "lr_tuned, l2_reg_tuned = lr, l2_reg\n",
    "lr_tuned, l2_reg_tuned"
   ]
  },
  {
   "cell_type": "markdown",
   "metadata": {},
   "source": [
    "#### Final Training \n",
    "\n",
    "Now we will train the model using the top performer found using the top performer from the fine search. \n"
   ]
  },
  {
   "cell_type": "code",
   "execution_count": 31,
   "metadata": {
    "scrolled": true
   },
   "outputs": [
    {
     "name": "stdout",
     "output_type": "stream",
     "text": [
      "Train on 37500 samples, validate on 12500 samples\n",
      "Epoch 1/50\n",
      "37500/37500 [==============================] - 9s 250us/sample - loss: 2.2504 - sparse_categorical_accuracy: 0.2027 - val_loss: 2.1234 - val_sparse_categorical_accuracy: 0.2720\n",
      "Epoch 2/50\n",
      "37500/37500 [==============================] - 8s 201us/sample - loss: 2.0146 - sparse_categorical_accuracy: 0.3043 - val_loss: 1.9218 - val_sparse_categorical_accuracy: 0.3454\n",
      "Epoch 3/50\n",
      "37500/37500 [==============================] - 8s 204us/sample - loss: 1.8335 - sparse_categorical_accuracy: 0.3688 - val_loss: 1.7720 - val_sparse_categorical_accuracy: 0.3997\n",
      "Epoch 4/50\n",
      "37500/37500 [==============================] - 8s 204us/sample - loss: 1.7049 - sparse_categorical_accuracy: 0.4150 - val_loss: 1.6709 - val_sparse_categorical_accuracy: 0.4253\n",
      "Epoch 5/50\n",
      "37500/37500 [==============================] - 8s 211us/sample - loss: 1.6091 - sparse_categorical_accuracy: 0.4457 - val_loss: 1.6043 - val_sparse_categorical_accuracy: 0.4465\n",
      "Epoch 6/50\n",
      "37500/37500 [==============================] - 8s 203us/sample - loss: 1.5371 - sparse_categorical_accuracy: 0.4742 - val_loss: 1.5297 - val_sparse_categorical_accuracy: 0.4790\n",
      "Epoch 7/50\n",
      "37500/37500 [==============================] - 8s 209us/sample - loss: 1.4841 - sparse_categorical_accuracy: 0.4947 - val_loss: 1.5001 - val_sparse_categorical_accuracy: 0.4885\n",
      "Epoch 8/50\n",
      "37500/37500 [==============================] - 8s 209us/sample - loss: 1.4396 - sparse_categorical_accuracy: 0.5118 - val_loss: 1.4572 - val_sparse_categorical_accuracy: 0.5118\n",
      "Epoch 9/50\n",
      "37500/37500 [==============================] - 8s 207us/sample - loss: 1.4020 - sparse_categorical_accuracy: 0.5259 - val_loss: 1.4161 - val_sparse_categorical_accuracy: 0.5232\n",
      "Epoch 10/50\n",
      "37500/37500 [==============================] - 8s 207us/sample - loss: 1.3672 - sparse_categorical_accuracy: 0.5382 - val_loss: 1.3957 - val_sparse_categorical_accuracy: 0.5297\n",
      "Epoch 11/50\n",
      "37500/37500 [==============================] - 10s 258us/sample - loss: 1.3337 - sparse_categorical_accuracy: 0.5504 - val_loss: 1.3499 - val_sparse_categorical_accuracy: 0.5464\n",
      "Epoch 12/50\n",
      "37500/37500 [==============================] - 7s 198us/sample - loss: 1.3033 - sparse_categorical_accuracy: 0.5615 - val_loss: 1.3604 - val_sparse_categorical_accuracy: 0.5489\n",
      "Epoch 13/50\n",
      "37500/37500 [==============================] - 7s 198us/sample - loss: 1.2751 - sparse_categorical_accuracy: 0.5745 - val_loss: 1.3067 - val_sparse_categorical_accuracy: 0.5662\n",
      "Epoch 14/50\n",
      "37500/37500 [==============================] - 8s 210us/sample - loss: 1.2487 - sparse_categorical_accuracy: 0.5831 - val_loss: 1.2923 - val_sparse_categorical_accuracy: 0.5698\n",
      "Epoch 15/50\n",
      "37500/37500 [==============================] - 8s 210us/sample - loss: 1.2242 - sparse_categorical_accuracy: 0.5924 - val_loss: 1.2722 - val_sparse_categorical_accuracy: 0.5779\n",
      "Epoch 16/50\n",
      "37500/37500 [==============================] - 8s 204us/sample - loss: 1.2014 - sparse_categorical_accuracy: 0.6004 - val_loss: 1.2518 - val_sparse_categorical_accuracy: 0.5839\n",
      "Epoch 17/50\n",
      "37500/37500 [==============================] - 8s 207us/sample - loss: 1.1786 - sparse_categorical_accuracy: 0.6088 - val_loss: 1.2184 - val_sparse_categorical_accuracy: 0.6002\n",
      "Epoch 18/50\n",
      "37500/37500 [==============================] - 8s 204us/sample - loss: 1.1580 - sparse_categorical_accuracy: 0.6151 - val_loss: 1.2136 - val_sparse_categorical_accuracy: 0.5991\n",
      "Epoch 19/50\n",
      "37500/37500 [==============================] - 8s 206us/sample - loss: 1.1378 - sparse_categorical_accuracy: 0.6226 - val_loss: 1.2006 - val_sparse_categorical_accuracy: 0.6058\n",
      "Epoch 20/50\n",
      "37500/37500 [==============================] - 8s 205us/sample - loss: 1.1204 - sparse_categorical_accuracy: 0.6300 - val_loss: 1.1758 - val_sparse_categorical_accuracy: 0.6136\n",
      "Epoch 21/50\n",
      "37500/37500 [==============================] - 8s 206us/sample - loss: 1.1031 - sparse_categorical_accuracy: 0.6371 - val_loss: 1.1634 - val_sparse_categorical_accuracy: 0.6173\n",
      "Epoch 22/50\n",
      "37500/37500 [==============================] - 8s 203us/sample - loss: 1.0844 - sparse_categorical_accuracy: 0.6444 - val_loss: 1.1798 - val_sparse_categorical_accuracy: 0.6082\n",
      "Epoch 23/50\n",
      "37500/37500 [==============================] - 8s 207us/sample - loss: 1.0694 - sparse_categorical_accuracy: 0.6472 - val_loss: 1.1823 - val_sparse_categorical_accuracy: 0.6112\n",
      "Epoch 24/50\n",
      "37500/37500 [==============================] - 8s 203us/sample - loss: 1.0522 - sparse_categorical_accuracy: 0.6537 - val_loss: 1.1501 - val_sparse_categorical_accuracy: 0.6239\n",
      "Epoch 25/50\n",
      "37500/37500 [==============================] - 8s 202us/sample - loss: 1.0386 - sparse_categorical_accuracy: 0.6575 - val_loss: 1.1347 - val_sparse_categorical_accuracy: 0.6263\n",
      "Epoch 26/50\n",
      "37500/37500 [==============================] - 8s 206us/sample - loss: 1.0197 - sparse_categorical_accuracy: 0.6681 - val_loss: 1.1280 - val_sparse_categorical_accuracy: 0.6307\n",
      "Epoch 27/50\n",
      "37500/37500 [==============================] - 8s 204us/sample - loss: 1.0075 - sparse_categorical_accuracy: 0.6688 - val_loss: 1.1229 - val_sparse_categorical_accuracy: 0.6367\n",
      "Epoch 28/50\n",
      "37500/37500 [==============================] - 8s 205us/sample - loss: 0.9928 - sparse_categorical_accuracy: 0.6759 - val_loss: 1.1107 - val_sparse_categorical_accuracy: 0.6356\n",
      "Epoch 29/50\n",
      "37500/37500 [==============================] - 8s 203us/sample - loss: 0.9771 - sparse_categorical_accuracy: 0.6817 - val_loss: 1.1088 - val_sparse_categorical_accuracy: 0.6398\n",
      "Epoch 30/50\n",
      "37500/37500 [==============================] - 8s 206us/sample - loss: 0.9661 - sparse_categorical_accuracy: 0.6865 - val_loss: 1.1136 - val_sparse_categorical_accuracy: 0.6373\n",
      "Epoch 31/50\n",
      "37500/37500 [==============================] - 8s 202us/sample - loss: 0.9524 - sparse_categorical_accuracy: 0.6896 - val_loss: 1.0694 - val_sparse_categorical_accuracy: 0.6520\n",
      "Epoch 32/50\n",
      "37500/37500 [==============================] - 8s 204us/sample - loss: 0.9404 - sparse_categorical_accuracy: 0.6938 - val_loss: 1.0981 - val_sparse_categorical_accuracy: 0.6457\n",
      "Epoch 33/50\n",
      "37500/37500 [==============================] - 8s 202us/sample - loss: 0.9272 - sparse_categorical_accuracy: 0.7004 - val_loss: 1.0691 - val_sparse_categorical_accuracy: 0.6514\n",
      "Epoch 34/50\n",
      "37500/37500 [==============================] - 8s 205us/sample - loss: 0.9153 - sparse_categorical_accuracy: 0.7051 - val_loss: 1.0637 - val_sparse_categorical_accuracy: 0.6530\n",
      "Epoch 35/50\n",
      "37500/37500 [==============================] - 8s 202us/sample - loss: 0.9015 - sparse_categorical_accuracy: 0.7096 - val_loss: 1.0563 - val_sparse_categorical_accuracy: 0.6581\n",
      "Epoch 36/50\n",
      "37500/37500 [==============================] - 8s 205us/sample - loss: 0.8909 - sparse_categorical_accuracy: 0.7137 - val_loss: 1.0684 - val_sparse_categorical_accuracy: 0.6552\n",
      "Epoch 37/50\n",
      "37500/37500 [==============================] - 8s 201us/sample - loss: 0.8781 - sparse_categorical_accuracy: 0.7166 - val_loss: 1.0375 - val_sparse_categorical_accuracy: 0.6648\n",
      "Epoch 38/50\n",
      "37500/37500 [==============================] - 8s 204us/sample - loss: 0.8676 - sparse_categorical_accuracy: 0.7215 - val_loss: 1.0281 - val_sparse_categorical_accuracy: 0.6659\n",
      "Epoch 39/50\n",
      "37500/37500 [==============================] - 8s 207us/sample - loss: 0.8544 - sparse_categorical_accuracy: 0.7287 - val_loss: 1.0497 - val_sparse_categorical_accuracy: 0.6611\n",
      "Epoch 40/50\n",
      "37500/37500 [==============================] - 8s 220us/sample - loss: 0.8439 - sparse_categorical_accuracy: 0.7293 - val_loss: 1.0302 - val_sparse_categorical_accuracy: 0.6703\n",
      "Epoch 41/50\n",
      "37500/37500 [==============================] - 8s 214us/sample - loss: 0.8334 - sparse_categorical_accuracy: 0.7332 - val_loss: 1.0115 - val_sparse_categorical_accuracy: 0.6709\n",
      "Epoch 42/50\n",
      "37500/37500 [==============================] - 8s 212us/sample - loss: 0.8220 - sparse_categorical_accuracy: 0.7385 - val_loss: 1.0333 - val_sparse_categorical_accuracy: 0.6661\n",
      "Epoch 43/50\n",
      "37500/37500 [==============================] - 8s 213us/sample - loss: 0.8094 - sparse_categorical_accuracy: 0.7431 - val_loss: 1.0242 - val_sparse_categorical_accuracy: 0.6709\n",
      "Epoch 44/50\n"
     ]
    },
    {
     "name": "stdout",
     "output_type": "stream",
     "text": [
      "37500/37500 [==============================] - 8s 213us/sample - loss: 0.8002 - sparse_categorical_accuracy: 0.7478 - val_loss: 1.0338 - val_sparse_categorical_accuracy: 0.6694\n",
      "Epoch 45/50\n",
      "37500/37500 [==============================] - 8s 205us/sample - loss: 0.7905 - sparse_categorical_accuracy: 0.7480 - val_loss: 1.0171 - val_sparse_categorical_accuracy: 0.6740\n",
      "Epoch 46/50\n",
      "37500/37500 [==============================] - 8s 210us/sample - loss: 0.7784 - sparse_categorical_accuracy: 0.7537 - val_loss: 1.0052 - val_sparse_categorical_accuracy: 0.6814\n",
      "Epoch 47/50\n",
      "37500/37500 [==============================] - 8s 210us/sample - loss: 0.7689 - sparse_categorical_accuracy: 0.7569 - val_loss: 1.0422 - val_sparse_categorical_accuracy: 0.6721\n",
      "Epoch 48/50\n",
      "37500/37500 [==============================] - 8s 204us/sample - loss: 0.7598 - sparse_categorical_accuracy: 0.7603 - val_loss: 1.0340 - val_sparse_categorical_accuracy: 0.6741\n",
      "Epoch 49/50\n",
      "37500/37500 [==============================] - 8s 202us/sample - loss: 0.7498 - sparse_categorical_accuracy: 0.7631 - val_loss: 1.0522 - val_sparse_categorical_accuracy: 0.6712\n",
      "Epoch 50/50\n",
      "37500/37500 [==============================] - 8s 213us/sample - loss: 0.7393 - sparse_categorical_accuracy: 0.7671 - val_loss: 1.0387 - val_sparse_categorical_accuracy: 0.6690\n"
     ]
    }
   ],
   "source": [
    "from tensorflow.keras.callbacks import EarlyStopping\n",
    "es = EarlyStopping(monitor='val_loss', mode='min', verbose=1, patience=10)\n",
    "model = create_model(num_classes,l2_reg)\n",
    "model.compile(optimizer=optimizers.SGD(learning_rate=lr),loss='sparse_categorical_crossentropy',metrics=['sparse_categorical_accuracy'])\n",
    "history = model.fit(X_train,y_train,batch_size=BATCH_SIZE,epochs=50, verbose=1,validation_data=(X_val,y_val), callbacks=[es])"
   ]
  },
  {
   "cell_type": "code",
   "execution_count": 32,
   "metadata": {
    "scrolled": true
   },
   "outputs": [
    {
     "data": {
      "image/png": "[encoded data removed]",
      "text/plain": [
       "<Figure size 432x288 with 1 Axes>"
      ]
     },
     "metadata": {
      "needs_background": "light"
     },
     "output_type": "display_data"
    },
    {
     "data": {
      "image/png": "[encoded data removed]",
      "text/plain": [
       "<Figure size 432x288 with 1 Axes>"
      ]
     },
     "metadata": {
      "needs_background": "light"
     },
     "output_type": "display_data"
    }
   ],
   "source": [
    "plot_curves(history)"
   ]
  },
  {
   "cell_type": "markdown",
   "metadata": {},
   "source": [
    "#### Get predictions and find confusion matrix to get the metrics.  "
   ]
  },
  {
   "cell_type": "code",
   "execution_count": 33,
   "metadata": {
    "scrolled": true
   },
   "outputs": [
    {
     "data": {
      "text/plain": [
       "(<Figure size 648x648 with 1 Axes>,\n",
       " <matplotlib.axes._subplots.AxesSubplot at 0x1ad88df1048>)"
      ]
     },
     "execution_count": 33,
     "metadata": {},
     "output_type": "execute_result"
    },
    {
     "data": {
      "image/png": "[encoded data removed]",
      "text/plain": [
       "<Figure size 648x648 with 1 Axes>"
      ]
     },
     "metadata": {
      "needs_background": "light"
     },
     "output_type": "display_data"
    }
   ],
   "source": [
    "from mlxtend.plotting import plot_confusion_matrix\n",
    "from sklearn.metrics import confusion_matrix\n",
    "y_pred = model.predict_classes(X_test)\n",
    "mat = confusion_matrix(y_test,y_pred)\n",
    "plot_confusion_matrix(mat,figsize=(9,9), show_normed=True)"
   ]
  },
  {
   "cell_type": "code",
   "execution_count": 34,
   "metadata": {
    "scrolled": false
   },
   "outputs": [
    {
     "name": "stdout",
     "output_type": "stream",
     "text": [
      "              precision    recall  f1-score   support\n",
      "\n",
      "           0       0.65      0.79      0.71       824\n",
      "           1       0.85      0.72      0.78      1179\n",
      "           2       0.52      0.62      0.57       851\n",
      "           3       0.50      0.48      0.49      1044\n",
      "           4       0.48      0.70      0.57       686\n",
      "           5       0.62      0.55      0.59      1129\n",
      "           6       0.84      0.62      0.71      1348\n",
      "           7       0.64      0.82      0.72       773\n",
      "           8       0.78      0.81      0.80       969\n",
      "           9       0.80      0.67      0.73      1197\n",
      "\n",
      "    accuracy                           0.67     10000\n",
      "   macro avg       0.67      0.68      0.67     10000\n",
      "weighted avg       0.69      0.67      0.67     10000\n",
      "\n",
      "0.6681\n"
     ]
    }
   ],
   "source": [
    "from sklearn.metrics import accuracy_score, confusion_matrix, classification_report\n",
    "\n",
    "print(classification_report(y_pred, y_test))\n",
    "print(accuracy_score(y_pred, y_test))"
   ]
  },
  {
   "cell_type": "markdown",
   "metadata": {},
   "source": [
    "### Trying out Batch Norm."
   ]
  },
  {
   "cell_type": "code",
   "execution_count": 35,
   "metadata": {
    "scrolled": true
   },
   "outputs": [
    {
     "name": "stderr",
     "output_type": "stream",
     "text": [
      "\r",
      "  0%|          | 0/30 [00:00<?, ?it/s]"
     ]
    },
    {
     "name": "stdout",
     "output_type": "stream",
     "text": [
      "Train on 37500 samples, validate on 12500 samples\n",
      "Epoch 1/15\n",
      "37500/37500 [==============================] - 11s 299us/sample - loss: 2.0663 - sparse_categorical_accuracy: 0.2956 - val_loss: 1.8120 - val_sparse_categorical_accuracy: 0.3829\n",
      "Epoch 2/15\n",
      "37500/37500 [==============================] - 9s 250us/sample - loss: 1.7190 - sparse_categorical_accuracy: 0.4119 - val_loss: 1.6464 - val_sparse_categorical_accuracy: 0.4440\n",
      "Epoch 3/15\n",
      "37500/37500 [==============================] - 9s 247us/sample - loss: 1.5922 - sparse_categorical_accuracy: 0.4600 - val_loss: 1.5490 - val_sparse_categorical_accuracy: 0.4762\n",
      "Epoch 4/15\n",
      "37500/37500 [==============================] - 9s 250us/sample - loss: 1.5074 - sparse_categorical_accuracy: 0.4916 - val_loss: 1.4852 - val_sparse_categorical_accuracy: 0.4981\n",
      "Epoch 5/15\n",
      "37500/37500 [==============================] - 9s 251us/sample - loss: 1.4441 - sparse_categorical_accuracy: 0.5171 - val_loss: 1.4359 - val_sparse_categorical_accuracy: 0.5122\n",
      "Epoch 6/15\n",
      "37500/37500 [==============================] - 9s 248us/sample - loss: 1.3940 - sparse_categorical_accuracy: 0.5355 - val_loss: 1.3924 - val_sparse_categorical_accuracy: 0.5326\n",
      "Epoch 7/15\n",
      "37500/37500 [==============================] - 9s 250us/sample - loss: 1.3495 - sparse_categorical_accuracy: 0.5512 - val_loss: 1.3566 - val_sparse_categorical_accuracy: 0.5436\n",
      "Epoch 8/15\n",
      "37500/37500 [==============================] - 9s 248us/sample - loss: 1.3113 - sparse_categorical_accuracy: 0.5672 - val_loss: 1.3263 - val_sparse_categorical_accuracy: 0.5553\n",
      "Epoch 9/15\n",
      "37500/37500 [==============================] - 9s 250us/sample - loss: 1.2789 - sparse_categorical_accuracy: 0.5811 - val_loss: 1.2970 - val_sparse_categorical_accuracy: 0.5657\n",
      "Epoch 10/15\n",
      "37500/37500 [==============================] - 9s 250us/sample - loss: 1.2470 - sparse_categorical_accuracy: 0.5940 - val_loss: 1.2739 - val_sparse_categorical_accuracy: 0.5784\n",
      "Epoch 11/15\n",
      "37500/37500 [==============================] - 9s 250us/sample - loss: 1.2174 - sparse_categorical_accuracy: 0.6043 - val_loss: 1.2512 - val_sparse_categorical_accuracy: 0.5844\n",
      "Epoch 12/15\n",
      "37500/37500 [==============================] - 9s 250us/sample - loss: 1.1909 - sparse_categorical_accuracy: 0.6123 - val_loss: 1.2283 - val_sparse_categorical_accuracy: 0.5929\n",
      "Epoch 13/15\n",
      "37500/37500 [==============================] - 9s 247us/sample - loss: 1.1640 - sparse_categorical_accuracy: 0.6234 - val_loss: 1.2119 - val_sparse_categorical_accuracy: 0.5989\n",
      "Epoch 14/15\n",
      "37500/37500 [==============================] - 9s 250us/sample - loss: 1.1419 - sparse_categorical_accuracy: 0.6331 - val_loss: 1.1929 - val_sparse_categorical_accuracy: 0.6085\n",
      "Epoch 15/15\n",
      "37500/37500 [==============================] - 9s 248us/sample - loss: 1.1238 - sparse_categorical_accuracy: 0.6389 - val_loss: 1.1736 - val_sparse_categorical_accuracy: 0.6145\n"
     ]
    },
    {
     "name": "stderr",
     "output_type": "stream",
     "text": [
      "\r",
      "  3%|▎         | 1/30 [02:25<1:10:08, 145.12s/it]"
     ]
    },
    {
     "name": "stdout",
     "output_type": "stream",
     "text": [
      "0.61448 0.0004708527818579167 0.00018594083123142654\n",
      "Train on 37500 samples, validate on 12500 samples\n",
      "Epoch 1/15\n",
      "37500/37500 [==============================] - 11s 299us/sample - loss: 2.0828 - sparse_categorical_accuracy: 0.2644 - val_loss: 1.8074 - val_sparse_categorical_accuracy: 0.3682\n",
      "Epoch 2/15\n",
      "37500/37500 [==============================] - 10s 253us/sample - loss: 1.7160 - sparse_categorical_accuracy: 0.3961 - val_loss: 1.6327 - val_sparse_categorical_accuracy: 0.4292\n",
      "Epoch 3/15\n",
      "37500/37500 [==============================] - 10s 254us/sample - loss: 1.5826 - sparse_categorical_accuracy: 0.4448 - val_loss: 1.5356 - val_sparse_categorical_accuracy: 0.4637\n",
      "Epoch 4/15\n",
      "37500/37500 [==============================] - 10s 254us/sample - loss: 1.4962 - sparse_categorical_accuracy: 0.4779 - val_loss: 1.4662 - val_sparse_categorical_accuracy: 0.4858\n",
      "Epoch 5/15\n",
      "37500/37500 [==============================] - 10s 255us/sample - loss: 1.4293 - sparse_categorical_accuracy: 0.5027 - val_loss: 1.4142 - val_sparse_categorical_accuracy: 0.5046\n",
      "Epoch 6/15\n",
      "37500/37500 [==============================] - 9s 253us/sample - loss: 1.3761 - sparse_categorical_accuracy: 0.5226 - val_loss: 1.3658 - val_sparse_categorical_accuracy: 0.5218\n",
      "Epoch 7/15\n",
      "37500/37500 [==============================] - 10s 254us/sample - loss: 1.3258 - sparse_categorical_accuracy: 0.5418 - val_loss: 1.3293 - val_sparse_categorical_accuracy: 0.5379\n",
      "Epoch 8/15\n",
      "37500/37500 [==============================] - 9s 251us/sample - loss: 1.2858 - sparse_categorical_accuracy: 0.5601 - val_loss: 1.2928 - val_sparse_categorical_accuracy: 0.5496\n",
      "Epoch 9/15\n",
      "37500/37500 [==============================] - 10s 254us/sample - loss: 1.2497 - sparse_categorical_accuracy: 0.5717 - val_loss: 1.2649 - val_sparse_categorical_accuracy: 0.5599\n",
      "Epoch 10/15\n",
      "37500/37500 [==============================] - 10s 254us/sample - loss: 1.2182 - sparse_categorical_accuracy: 0.5847 - val_loss: 1.2361 - val_sparse_categorical_accuracy: 0.5689\n",
      "Epoch 11/15\n",
      "37500/37500 [==============================] - 9s 252us/sample - loss: 1.1909 - sparse_categorical_accuracy: 0.5944 - val_loss: 1.2196 - val_sparse_categorical_accuracy: 0.5782\n",
      "Epoch 12/15\n",
      "37500/37500 [==============================] - 11s 289us/sample - loss: 1.1628 - sparse_categorical_accuracy: 0.6022 - val_loss: 1.1923 - val_sparse_categorical_accuracy: 0.5880\n",
      "Epoch 13/15\n",
      "37500/37500 [==============================] - 10s 277us/sample - loss: 1.1342 - sparse_categorical_accuracy: 0.6120 - val_loss: 1.1722 - val_sparse_categorical_accuracy: 0.5925\n",
      "Epoch 14/15\n",
      "37500/37500 [==============================] - 10s 274us/sample - loss: 1.1126 - sparse_categorical_accuracy: 0.6231 - val_loss: 1.1498 - val_sparse_categorical_accuracy: 0.6002\n",
      "Epoch 15/15\n",
      "37500/37500 [==============================] - 10s 273us/sample - loss: 1.0920 - sparse_categorical_accuracy: 0.6293 - val_loss: 1.1343 - val_sparse_categorical_accuracy: 0.6082\n"
     ]
    },
    {
     "name": "stderr",
     "output_type": "stream",
     "text": [
      "\r",
      "  7%|▋         | 2/30 [04:56<1:08:33, 146.93s/it]"
     ]
    },
    {
     "name": "stdout",
     "output_type": "stream",
     "text": [
      "0.60824 0.00042854164522990195 7.579652309401308e-06\n",
      "Train on 37500 samples, validate on 12500 samples\n",
      "Epoch 1/15\n",
      "37500/37500 [==============================] - 12s 329us/sample - loss: 2.4840 - sparse_categorical_accuracy: 0.2174 - val_loss: 2.2408 - val_sparse_categorical_accuracy: 0.3036\n",
      "Epoch 2/15\n",
      "37500/37500 [==============================] - 10s 277us/sample - loss: 2.1441 - sparse_categorical_accuracy: 0.3363 - val_loss: 2.0604 - val_sparse_categorical_accuracy: 0.3726\n",
      "Epoch 3/15\n",
      "37500/37500 [==============================] - 10s 275us/sample - loss: 2.0123 - sparse_categorical_accuracy: 0.3884 - val_loss: 1.9619 - val_sparse_categorical_accuracy: 0.4120\n",
      "Epoch 4/15\n",
      "37500/37500 [==============================] - 10s 277us/sample - loss: 1.9337 - sparse_categorical_accuracy: 0.4177 - val_loss: 1.8947 - val_sparse_categorical_accuracy: 0.4373\n",
      "Epoch 5/15\n",
      "37500/37500 [==============================] - 10s 263us/sample - loss: 1.8707 - sparse_categorical_accuracy: 0.4398 - val_loss: 1.8432 - val_sparse_categorical_accuracy: 0.4526\n",
      "Epoch 6/15\n",
      "37500/37500 [==============================] - 10s 262us/sample - loss: 1.8245 - sparse_categorical_accuracy: 0.4551 - val_loss: 1.8004 - val_sparse_categorical_accuracy: 0.4678\n",
      "Epoch 7/15\n",
      "37500/37500 [==============================] - 10s 261us/sample - loss: 1.7867 - sparse_categorical_accuracy: 0.4686 - val_loss: 1.7656 - val_sparse_categorical_accuracy: 0.4820\n",
      "Epoch 8/15\n",
      "37500/37500 [==============================] - 10s 258us/sample - loss: 1.7513 - sparse_categorical_accuracy: 0.4827 - val_loss: 1.7349 - val_sparse_categorical_accuracy: 0.4924\n",
      "Epoch 9/15\n",
      "37500/37500 [==============================] - 10s 260us/sample - loss: 1.7193 - sparse_categorical_accuracy: 0.4949 - val_loss: 1.7070 - val_sparse_categorical_accuracy: 0.5020\n",
      "Epoch 10/15\n",
      "37500/37500 [==============================] - 10s 259us/sample - loss: 1.6939 - sparse_categorical_accuracy: 0.5051 - val_loss: 1.6844 - val_sparse_categorical_accuracy: 0.5100\n",
      "Epoch 11/15\n",
      "37500/37500 [==============================] - 10s 267us/sample - loss: 1.6603 - sparse_categorical_accuracy: 0.5190 - val_loss: 1.6598 - val_sparse_categorical_accuracy: 0.5195\n",
      "Epoch 12/15\n",
      "37500/37500 [==============================] - 10s 261us/sample - loss: 1.6395 - sparse_categorical_accuracy: 0.5257 - val_loss: 1.6395 - val_sparse_categorical_accuracy: 0.5286\n",
      "Epoch 13/15\n",
      "37500/37500 [==============================] - 10s 257us/sample - loss: 1.6214 - sparse_categorical_accuracy: 0.5317 - val_loss: 1.6211 - val_sparse_categorical_accuracy: 0.5345\n",
      "Epoch 14/15\n",
      "37500/37500 [==============================] - 10s 259us/sample - loss: 1.6005 - sparse_categorical_accuracy: 0.5395 - val_loss: 1.6022 - val_sparse_categorical_accuracy: 0.5406\n",
      "Epoch 15/15\n",
      "37500/37500 [==============================] - 10s 258us/sample - loss: 1.5813 - sparse_categorical_accuracy: 0.5477 - val_loss: 1.5891 - val_sparse_categorical_accuracy: 0.5457\n"
     ]
    },
    {
     "name": "stderr",
     "output_type": "stream",
     "text": [
      "\r",
      " 10%|█         | 3/30 [07:30<1:07:04, 149.07s/it]"
     ]
    },
    {
     "name": "stdout",
     "output_type": "stream",
     "text": [
      "0.54568 0.00016948954245829718 0.0007447985663327674\n",
      "Train on 37500 samples, validate on 12500 samples\n",
      "Epoch 1/15\n",
      "37500/37500 [==============================] - 11s 306us/sample - loss: 2.1794 - sparse_categorical_accuracy: 0.2809 - val_loss: 1.8794 - val_sparse_categorical_accuracy: 0.3822\n",
      "Epoch 2/15\n",
      "37500/37500 [==============================] - 10s 256us/sample - loss: 1.7854 - sparse_categorical_accuracy: 0.4204 - val_loss: 1.7069 - val_sparse_categorical_accuracy: 0.4457\n",
      "Epoch 3/15\n",
      "37500/37500 [==============================] - 10s 256us/sample - loss: 1.6587 - sparse_categorical_accuracy: 0.4630 - val_loss: 1.6129 - val_sparse_categorical_accuracy: 0.4802\n",
      "Epoch 4/15\n",
      "37500/37500 [==============================] - 9s 253us/sample - loss: 1.5726 - sparse_categorical_accuracy: 0.4957 - val_loss: 1.5441 - val_sparse_categorical_accuracy: 0.5049\n",
      "Epoch 5/15\n",
      "37500/37500 [==============================] - 10s 256us/sample - loss: 1.5063 - sparse_categorical_accuracy: 0.5233 - val_loss: 1.4927 - val_sparse_categorical_accuracy: 0.5290\n",
      "Epoch 6/15\n",
      "37500/37500 [==============================] - 10s 255us/sample - loss: 1.4552 - sparse_categorical_accuracy: 0.5397 - val_loss: 1.4494 - val_sparse_categorical_accuracy: 0.5430\n",
      "Epoch 7/15\n",
      "37500/37500 [==============================] - 10s 256us/sample - loss: 1.4085 - sparse_categorical_accuracy: 0.5586 - val_loss: 1.4063 - val_sparse_categorical_accuracy: 0.5560\n",
      "Epoch 8/15\n",
      "37500/37500 [==============================] - 10s 257us/sample - loss: 1.3678 - sparse_categorical_accuracy: 0.5745 - val_loss: 1.3724 - val_sparse_categorical_accuracy: 0.5696\n",
      "Epoch 9/15\n",
      "37500/37500 [==============================] - 9s 253us/sample - loss: 1.3283 - sparse_categorical_accuracy: 0.5897 - val_loss: 1.3423 - val_sparse_categorical_accuracy: 0.5797\n",
      "Epoch 10/15\n",
      "37500/37500 [==============================] - 10s 257us/sample - loss: 1.2994 - sparse_categorical_accuracy: 0.5989 - val_loss: 1.3172 - val_sparse_categorical_accuracy: 0.5916\n",
      "Epoch 11/15\n",
      "37500/37500 [==============================] - 10s 255us/sample - loss: 1.2671 - sparse_categorical_accuracy: 0.6096 - val_loss: 1.2944 - val_sparse_categorical_accuracy: 0.5965\n",
      "Epoch 12/15\n",
      "37500/37500 [==============================] - 10s 256us/sample - loss: 1.2389 - sparse_categorical_accuracy: 0.6217 - val_loss: 1.2763 - val_sparse_categorical_accuracy: 0.6027\n",
      "Epoch 13/15\n",
      "37500/37500 [==============================] - 10s 256us/sample - loss: 1.2161 - sparse_categorical_accuracy: 0.6292 - val_loss: 1.2507 - val_sparse_categorical_accuracy: 0.6146\n",
      "Epoch 14/15\n",
      "37500/37500 [==============================] - 10s 255us/sample - loss: 1.1906 - sparse_categorical_accuracy: 0.6388 - val_loss: 1.2354 - val_sparse_categorical_accuracy: 0.6200\n",
      "Epoch 15/15\n",
      "37500/37500 [==============================] - 10s 259us/sample - loss: 1.1710 - sparse_categorical_accuracy: 0.6434 - val_loss: 1.2183 - val_sparse_categorical_accuracy: 0.6279\n"
     ]
    },
    {
     "name": "stderr",
     "output_type": "stream",
     "text": [
      "\r",
      " 13%|█▎        | 4/30 [09:59<1:04:34, 149.01s/it]"
     ]
    },
    {
     "name": "stdout",
     "output_type": "stream",
     "text": [
      "0.62792 0.0004352177537614297 0.00035867839872449615\n",
      "Train on 37500 samples, validate on 12500 samples\n",
      "Epoch 1/15\n",
      "37500/37500 [==============================] - 12s 311us/sample - loss: 1.8828 - sparse_categorical_accuracy: 0.3339 - val_loss: 1.6183 - val_sparse_categorical_accuracy: 0.4314\n",
      "Epoch 2/15\n",
      "37500/37500 [==============================] - 10s 258us/sample - loss: 1.5230 - sparse_categorical_accuracy: 0.4653 - val_loss: 1.4365 - val_sparse_categorical_accuracy: 0.5002\n",
      "Epoch 3/15\n",
      "37500/37500 [==============================] - 10s 260us/sample - loss: 1.3784 - sparse_categorical_accuracy: 0.5214 - val_loss: 1.3391 - val_sparse_categorical_accuracy: 0.5346\n",
      "Epoch 4/15\n",
      "37500/37500 [==============================] - 10s 259us/sample - loss: 1.2881 - sparse_categorical_accuracy: 0.5556 - val_loss: 1.2640 - val_sparse_categorical_accuracy: 0.5576\n",
      "Epoch 5/15\n",
      "37500/37500 [==============================] - 10s 256us/sample - loss: 1.2203 - sparse_categorical_accuracy: 0.5799 - val_loss: 1.2142 - val_sparse_categorical_accuracy: 0.5814\n",
      "Epoch 6/15\n",
      "37500/37500 [==============================] - 10s 258us/sample - loss: 1.1636 - sparse_categorical_accuracy: 0.6027 - val_loss: 1.1667 - val_sparse_categorical_accuracy: 0.5978\n",
      "Epoch 7/15\n",
      "37500/37500 [==============================] - 10s 256us/sample - loss: 1.1117 - sparse_categorical_accuracy: 0.6221 - val_loss: 1.1376 - val_sparse_categorical_accuracy: 0.6122\n",
      "Epoch 8/15\n",
      "37500/37500 [==============================] - 10s 260us/sample - loss: 1.0646 - sparse_categorical_accuracy: 0.6384 - val_loss: 1.0984 - val_sparse_categorical_accuracy: 0.6220\n",
      "Epoch 9/15\n",
      "37500/37500 [==============================] - 10s 259us/sample - loss: 1.0242 - sparse_categorical_accuracy: 0.6549 - val_loss: 1.0785 - val_sparse_categorical_accuracy: 0.6316\n",
      "Epoch 10/15\n",
      "37500/37500 [==============================] - 10s 256us/sample - loss: 0.9927 - sparse_categorical_accuracy: 0.6651 - val_loss: 1.0459 - val_sparse_categorical_accuracy: 0.6478\n",
      "Epoch 11/15\n",
      "37500/37500 [==============================] - 10s 259us/sample - loss: 0.9617 - sparse_categorical_accuracy: 0.6752 - val_loss: 1.0341 - val_sparse_categorical_accuracy: 0.6438\n",
      "Epoch 12/15\n",
      "37500/37500 [==============================] - 10s 267us/sample - loss: 0.9331 - sparse_categorical_accuracy: 0.6883 - val_loss: 1.0033 - val_sparse_categorical_accuracy: 0.6586\n",
      "Epoch 13/15\n",
      "37500/37500 [==============================] - 10s 258us/sample - loss: 0.9080 - sparse_categorical_accuracy: 0.6964 - val_loss: 0.9859 - val_sparse_categorical_accuracy: 0.6645\n",
      "Epoch 14/15\n",
      "37500/37500 [==============================] - 10s 260us/sample - loss: 0.8848 - sparse_categorical_accuracy: 0.7046 - val_loss: 0.9728 - val_sparse_categorical_accuracy: 0.6723\n",
      "Epoch 15/15\n",
      "37500/37500 [==============================] - 10s 256us/sample - loss: 0.8595 - sparse_categorical_accuracy: 0.7126 - val_loss: 0.9691 - val_sparse_categorical_accuracy: 0.6707\n"
     ]
    },
    {
     "name": "stderr",
     "output_type": "stream",
     "text": [
      "\r",
      " 17%|█▋        | 5/30 [12:30<1:02:18, 149.55s/it]"
     ]
    },
    {
     "name": "stdout",
     "output_type": "stream",
     "text": [
      "0.67072 0.0008783277769385144 3.586428322610573e-05\n",
      "Train on 37500 samples, validate on 12500 samples\n",
      "Epoch 1/15\n",
      "37500/37500 [==============================] - 12s 315us/sample - loss: 2.4188 - sparse_categorical_accuracy: 0.3168 - val_loss: 2.1594 - val_sparse_categorical_accuracy: 0.4068\n",
      "Epoch 2/15\n",
      "37500/37500 [==============================] - 10s 265us/sample - loss: 2.0694 - sparse_categorical_accuracy: 0.4420 - val_loss: 1.9963 - val_sparse_categorical_accuracy: 0.4658\n",
      "Epoch 3/15\n",
      "37500/37500 [==============================] - 10s 261us/sample - loss: 1.9374 - sparse_categorical_accuracy: 0.4898 - val_loss: 1.8990 - val_sparse_categorical_accuracy: 0.4988\n",
      "Epoch 4/15\n",
      "37500/37500 [==============================] - 10s 264us/sample - loss: 1.8503 - sparse_categorical_accuracy: 0.5230 - val_loss: 1.8316 - val_sparse_categorical_accuracy: 0.5233\n",
      "Epoch 5/15\n",
      "37500/37500 [==============================] - 10s 262us/sample - loss: 1.7854 - sparse_categorical_accuracy: 0.5478 - val_loss: 1.7753 - val_sparse_categorical_accuracy: 0.5472\n",
      "Epoch 6/15\n",
      "37500/37500 [==============================] - 10s 262us/sample - loss: 1.7289 - sparse_categorical_accuracy: 0.5694 - val_loss: 1.7301 - val_sparse_categorical_accuracy: 0.5643\n",
      "Epoch 7/15\n",
      "37500/37500 [==============================] - 10s 264us/sample - loss: 1.6813 - sparse_categorical_accuracy: 0.5845 - val_loss: 1.6927 - val_sparse_categorical_accuracy: 0.5777\n",
      "Epoch 8/15\n",
      "37500/37500 [==============================] - 10s 260us/sample - loss: 1.6380 - sparse_categorical_accuracy: 0.6020 - val_loss: 1.6598 - val_sparse_categorical_accuracy: 0.5919\n",
      "Epoch 9/15\n",
      "37500/37500 [==============================] - 10s 264us/sample - loss: 1.6008 - sparse_categorical_accuracy: 0.6119 - val_loss: 1.6301 - val_sparse_categorical_accuracy: 0.6020\n",
      "Epoch 10/15\n",
      "37500/37500 [==============================] - 10s 264us/sample - loss: 1.5633 - sparse_categorical_accuracy: 0.6280 - val_loss: 1.6058 - val_sparse_categorical_accuracy: 0.6094\n",
      "Epoch 11/15\n",
      "37500/37500 [==============================] - 10s 264us/sample - loss: 1.5351 - sparse_categorical_accuracy: 0.6349 - val_loss: 1.5715 - val_sparse_categorical_accuracy: 0.6220\n",
      "Epoch 12/15\n",
      "37500/37500 [==============================] - 10s 263us/sample - loss: 1.5021 - sparse_categorical_accuracy: 0.6500 - val_loss: 1.5512 - val_sparse_categorical_accuracy: 0.6273\n",
      "Epoch 13/15\n",
      "37500/37500 [==============================] - 10s 263us/sample - loss: 1.4744 - sparse_categorical_accuracy: 0.6561 - val_loss: 1.5290 - val_sparse_categorical_accuracy: 0.6354\n",
      "Epoch 14/15\n",
      "37500/37500 [==============================] - 10s 261us/sample - loss: 1.4451 - sparse_categorical_accuracy: 0.6691 - val_loss: 1.5098 - val_sparse_categorical_accuracy: 0.6440\n",
      "Epoch 15/15\n",
      "37500/37500 [==============================] - 10s 264us/sample - loss: 1.4232 - sparse_categorical_accuracy: 0.6753 - val_loss: 1.4898 - val_sparse_categorical_accuracy: 0.6496\n"
     ]
    },
    {
     "name": "stderr",
     "output_type": "stream",
     "text": [
      "\r",
      " 20%|██        | 6/30 [15:03<1:00:14, 150.62s/it]"
     ]
    },
    {
     "name": "stdout",
     "output_type": "stream",
     "text": [
      "0.6496 0.0006030434315819572 0.0013271389863886874\n",
      "Train on 37500 samples, validate on 12500 samples\n",
      "Epoch 1/15\n",
      "37500/37500 [==============================] - 12s 320us/sample - loss: 2.3493 - sparse_categorical_accuracy: 0.2285 - val_loss: 2.1185 - val_sparse_categorical_accuracy: 0.3215\n",
      "Epoch 2/15\n",
      "37500/37500 [==============================] - 10s 264us/sample - loss: 2.0231 - sparse_categorical_accuracy: 0.3512 - val_loss: 1.9488 - val_sparse_categorical_accuracy: 0.3850\n",
      "Epoch 3/15\n",
      "37500/37500 [==============================] - 10s 266us/sample - loss: 1.8969 - sparse_categorical_accuracy: 0.4010 - val_loss: 1.8534 - val_sparse_categorical_accuracy: 0.4219\n",
      "Epoch 4/15\n",
      "37500/37500 [==============================] - 10s 266us/sample - loss: 1.8175 - sparse_categorical_accuracy: 0.4307 - val_loss: 1.7869 - val_sparse_categorical_accuracy: 0.4457\n",
      "Epoch 5/15\n",
      "37500/37500 [==============================] - 10s 271us/sample - loss: 1.7532 - sparse_categorical_accuracy: 0.4566 - val_loss: 1.7356 - val_sparse_categorical_accuracy: 0.4628\n",
      "Epoch 6/15\n",
      "37500/37500 [==============================] - 10s 267us/sample - loss: 1.7082 - sparse_categorical_accuracy: 0.4725 - val_loss: 1.6935 - val_sparse_categorical_accuracy: 0.4785\n",
      "Epoch 7/15\n",
      "37500/37500 [==============================] - 10s 266us/sample - loss: 1.6694 - sparse_categorical_accuracy: 0.4859 - val_loss: 1.6573 - val_sparse_categorical_accuracy: 0.4914\n",
      "Epoch 8/15\n",
      "37500/37500 [==============================] - 10s 266us/sample - loss: 1.6331 - sparse_categorical_accuracy: 0.5002 - val_loss: 1.6281 - val_sparse_categorical_accuracy: 0.5025\n",
      "Epoch 9/15\n",
      "37500/37500 [==============================] - 10s 267us/sample - loss: 1.6007 - sparse_categorical_accuracy: 0.5133 - val_loss: 1.5991 - val_sparse_categorical_accuracy: 0.5099\n",
      "Epoch 10/15\n",
      "37500/37500 [==============================] - 10s 265us/sample - loss: 1.5723 - sparse_categorical_accuracy: 0.5232 - val_loss: 1.5750 - val_sparse_categorical_accuracy: 0.5217\n",
      "Epoch 11/15\n",
      "37500/37500 [==============================] - 10s 266us/sample - loss: 1.5468 - sparse_categorical_accuracy: 0.5332 - val_loss: 1.5521 - val_sparse_categorical_accuracy: 0.5316\n",
      "Epoch 12/15\n",
      "37500/37500 [==============================] - 10s 267us/sample - loss: 1.5251 - sparse_categorical_accuracy: 0.5419 - val_loss: 1.5310 - val_sparse_categorical_accuracy: 0.5402\n",
      "Epoch 13/15\n",
      "37500/37500 [==============================] - 10s 265us/sample - loss: 1.5014 - sparse_categorical_accuracy: 0.5497 - val_loss: 1.5128 - val_sparse_categorical_accuracy: 0.5440\n",
      "Epoch 14/15\n",
      "37500/37500 [==============================] - 10s 266us/sample - loss: 1.4829 - sparse_categorical_accuracy: 0.5562 - val_loss: 1.4965 - val_sparse_categorical_accuracy: 0.5519\n",
      "Epoch 15/15\n",
      "37500/37500 [==============================] - 10s 265us/sample - loss: 1.4655 - sparse_categorical_accuracy: 0.5634 - val_loss: 1.4790 - val_sparse_categorical_accuracy: 0.5581\n"
     ]
    },
    {
     "name": "stderr",
     "output_type": "stream",
     "text": [
      "\r",
      " 23%|██▎       | 7/30 [17:38<58:15, 151.97s/it]  "
     ]
    },
    {
     "name": "stdout",
     "output_type": "stream",
     "text": [
      "0.55808 0.00020471950365374172 0.0005629054373240239\n",
      "Train on 37500 samples, validate on 12500 samples\n",
      "Epoch 1/15\n",
      "37500/37500 [==============================] - 12s 321us/sample - loss: 4.7502 - sparse_categorical_accuracy: 0.2849 - val_loss: 4.4749 - val_sparse_categorical_accuracy: 0.3776\n",
      "Epoch 2/15\n",
      "37500/37500 [==============================] - 10s 271us/sample - loss: 4.3686 - sparse_categorical_accuracy: 0.4033 - val_loss: 4.2749 - val_sparse_categorical_accuracy: 0.4342\n",
      "Epoch 3/15\n",
      "37500/37500 [==============================] - 10s 271us/sample - loss: 4.2054 - sparse_categorical_accuracy: 0.4541 - val_loss: 4.1412 - val_sparse_categorical_accuracy: 0.4685\n",
      "Epoch 4/15\n",
      "37500/37500 [==============================] - 10s 267us/sample - loss: 4.0818 - sparse_categorical_accuracy: 0.4863 - val_loss: 4.0311 - val_sparse_categorical_accuracy: 0.4933\n",
      "Epoch 5/15\n",
      "37500/37500 [==============================] - 10s 271us/sample - loss: 3.9747 - sparse_categorical_accuracy: 0.5119 - val_loss: 3.9387 - val_sparse_categorical_accuracy: 0.5114\n",
      "Epoch 6/15\n",
      "37500/37500 [==============================] - 10s 270us/sample - loss: 3.8865 - sparse_categorical_accuracy: 0.5301 - val_loss: 3.8534 - val_sparse_categorical_accuracy: 0.5306\n",
      "Epoch 7/15\n",
      "37500/37500 [==============================] - 10s 267us/sample - loss: 3.7988 - sparse_categorical_accuracy: 0.5500 - val_loss: 3.7763 - val_sparse_categorical_accuracy: 0.5446\n",
      "Epoch 8/15\n",
      "37500/37500 [==============================] - 10s 269us/sample - loss: 3.7160 - sparse_categorical_accuracy: 0.5675 - val_loss: 3.7041 - val_sparse_categorical_accuracy: 0.5580\n",
      "Epoch 9/15\n",
      "37500/37500 [==============================] - 10s 273us/sample - loss: 3.6434 - sparse_categorical_accuracy: 0.5762 - val_loss: 3.6374 - val_sparse_categorical_accuracy: 0.5685\n",
      "Epoch 10/15\n",
      "37500/37500 [==============================] - 10s 270us/sample - loss: 3.5716 - sparse_categorical_accuracy: 0.5927 - val_loss: 3.5727 - val_sparse_categorical_accuracy: 0.5793\n",
      "Epoch 11/15\n",
      "37500/37500 [==============================] - 10s 269us/sample - loss: 3.5049 - sparse_categorical_accuracy: 0.6035 - val_loss: 3.5104 - val_sparse_categorical_accuracy: 0.5894\n",
      "Epoch 12/15\n",
      "37500/37500 [==============================] - 10s 268us/sample - loss: 3.4377 - sparse_categorical_accuracy: 0.6145 - val_loss: 3.4584 - val_sparse_categorical_accuracy: 0.5965\n",
      "Epoch 13/15\n",
      "37500/37500 [==============================] - 10s 270us/sample - loss: 3.3743 - sparse_categorical_accuracy: 0.6260 - val_loss: 3.3947 - val_sparse_categorical_accuracy: 0.6052\n",
      "Epoch 14/15\n",
      "37500/37500 [==============================] - 10s 274us/sample - loss: 3.3149 - sparse_categorical_accuracy: 0.6340 - val_loss: 3.3381 - val_sparse_categorical_accuracy: 0.6130\n",
      "Epoch 15/15\n",
      "37500/37500 [==============================] - 10s 275us/sample - loss: 3.2562 - sparse_categorical_accuracy: 0.6423 - val_loss: 3.2899 - val_sparse_categorical_accuracy: 0.6159\n"
     ]
    },
    {
     "name": "stderr",
     "output_type": "stream",
     "text": [
      "\r",
      " 27%|██▋       | 8/30 [20:15<56:18, 153.58s/it]"
     ]
    },
    {
     "name": "stdout",
     "output_type": "stream",
     "text": [
      "0.61592 0.0004427409586053365 0.007501603763259063\n",
      "Train on 37500 samples, validate on 12500 samples\n",
      "Epoch 1/15\n",
      "37500/37500 [==============================] - 12s 319us/sample - loss: 2.3230 - sparse_categorical_accuracy: 0.2071 - val_loss: 2.1043 - val_sparse_categorical_accuracy: 0.2863\n",
      "Epoch 2/15\n",
      "37500/37500 [==============================] - 10s 262us/sample - loss: 2.0155 - sparse_categorical_accuracy: 0.3145 - val_loss: 1.9292 - val_sparse_categorical_accuracy: 0.3510\n",
      "Epoch 3/15\n",
      "37500/37500 [==============================] - 10s 263us/sample - loss: 1.8849 - sparse_categorical_accuracy: 0.3624 - val_loss: 1.8335 - val_sparse_categorical_accuracy: 0.3857\n",
      "Epoch 4/15\n",
      "37500/37500 [==============================] - 10s 261us/sample - loss: 1.8046 - sparse_categorical_accuracy: 0.3912 - val_loss: 1.7648 - val_sparse_categorical_accuracy: 0.4074\n",
      "Epoch 5/15\n",
      "37500/37500 [==============================] - 10s 262us/sample - loss: 1.7448 - sparse_categorical_accuracy: 0.4159 - val_loss: 1.7143 - val_sparse_categorical_accuracy: 0.4296\n",
      "Epoch 6/15\n",
      "37500/37500 [==============================] - 10s 261us/sample - loss: 1.6987 - sparse_categorical_accuracy: 0.4308 - val_loss: 1.6716 - val_sparse_categorical_accuracy: 0.4445\n",
      "Epoch 7/15\n",
      "37500/37500 [==============================] - 10s 265us/sample - loss: 1.6607 - sparse_categorical_accuracy: 0.4458 - val_loss: 1.6377 - val_sparse_categorical_accuracy: 0.4559\n",
      "Epoch 8/15\n",
      "37500/37500 [==============================] - 10s 263us/sample - loss: 1.6254 - sparse_categorical_accuracy: 0.4575 - val_loss: 1.6081 - val_sparse_categorical_accuracy: 0.4670\n",
      "Epoch 9/15\n",
      "37500/37500 [==============================] - 10s 261us/sample - loss: 1.5948 - sparse_categorical_accuracy: 0.4706 - val_loss: 1.5807 - val_sparse_categorical_accuracy: 0.4762\n",
      "Epoch 10/15\n",
      "37500/37500 [==============================] - 10s 263us/sample - loss: 1.5653 - sparse_categorical_accuracy: 0.4823 - val_loss: 1.5565 - val_sparse_categorical_accuracy: 0.4856\n",
      "Epoch 11/15\n",
      "37500/37500 [==============================] - 10s 259us/sample - loss: 1.5420 - sparse_categorical_accuracy: 0.4906 - val_loss: 1.5338 - val_sparse_categorical_accuracy: 0.4946\n",
      "Epoch 12/15\n",
      "37500/37500 [==============================] - 10s 264us/sample - loss: 1.5195 - sparse_categorical_accuracy: 0.4974 - val_loss: 1.5130 - val_sparse_categorical_accuracy: 0.4997\n",
      "Epoch 13/15\n",
      "37500/37500 [==============================] - 10s 264us/sample - loss: 1.4991 - sparse_categorical_accuracy: 0.5055 - val_loss: 1.4950 - val_sparse_categorical_accuracy: 0.5074\n",
      "Epoch 14/15\n",
      "37500/37500 [==============================] - 10s 261us/sample - loss: 1.4801 - sparse_categorical_accuracy: 0.5144 - val_loss: 1.4770 - val_sparse_categorical_accuracy: 0.5135\n",
      "Epoch 15/15\n",
      "37500/37500 [==============================] - 10s 264us/sample - loss: 1.4633 - sparse_categorical_accuracy: 0.5188 - val_loss: 1.4603 - val_sparse_categorical_accuracy: 0.5203\n"
     ]
    },
    {
     "name": "stderr",
     "output_type": "stream",
     "text": [
      "\r",
      " 30%|███       | 9/30 [22:48<53:43, 153.51s/it]"
     ]
    },
    {
     "name": "stdout",
     "output_type": "stream",
     "text": [
      "0.52032 0.0001354012612162208 0.00022543658542647442\n",
      "Train on 37500 samples, validate on 12500 samples\n",
      "Epoch 1/15\n",
      "37500/37500 [==============================] - 12s 321us/sample - loss: 2.2690 - sparse_categorical_accuracy: 0.1997 - val_loss: 1.9732 - val_sparse_categorical_accuracy: 0.3018\n",
      "Epoch 2/15\n",
      "37500/37500 [==============================] - 10s 266us/sample - loss: 1.8834 - sparse_categorical_accuracy: 0.3261 - val_loss: 1.7858 - val_sparse_categorical_accuracy: 0.3682\n",
      "Epoch 3/15\n",
      "37500/37500 [==============================] - 10s 265us/sample - loss: 1.7410 - sparse_categorical_accuracy: 0.3796 - val_loss: 1.6860 - val_sparse_categorical_accuracy: 0.4042\n",
      "Epoch 4/15\n",
      "37500/37500 [==============================] - 10s 266us/sample - loss: 1.6581 - sparse_categorical_accuracy: 0.4119 - val_loss: 1.6197 - val_sparse_categorical_accuracy: 0.4242\n",
      "Epoch 5/15\n",
      "37500/37500 [==============================] - 10s 262us/sample - loss: 1.6001 - sparse_categorical_accuracy: 0.4352 - val_loss: 1.5719 - val_sparse_categorical_accuracy: 0.4425\n",
      "Epoch 6/15\n",
      "37500/37500 [==============================] - 10s 265us/sample - loss: 1.5545 - sparse_categorical_accuracy: 0.4521 - val_loss: 1.5303 - val_sparse_categorical_accuracy: 0.4566\n",
      "Epoch 7/15\n",
      "37500/37500 [==============================] - 10s 265us/sample - loss: 1.5148 - sparse_categorical_accuracy: 0.4688 - val_loss: 1.4959 - val_sparse_categorical_accuracy: 0.4709\n",
      "Epoch 8/15\n",
      "37500/37500 [==============================] - 10s 263us/sample - loss: 1.4770 - sparse_categorical_accuracy: 0.4825 - val_loss: 1.4644 - val_sparse_categorical_accuracy: 0.4825\n",
      "Epoch 9/15\n",
      "37500/37500 [==============================] - 10s 264us/sample - loss: 1.4447 - sparse_categorical_accuracy: 0.4960 - val_loss: 1.4367 - val_sparse_categorical_accuracy: 0.4935\n",
      "Epoch 10/15\n",
      "37500/37500 [==============================] - 10s 264us/sample - loss: 1.4184 - sparse_categorical_accuracy: 0.5041 - val_loss: 1.4122 - val_sparse_categorical_accuracy: 0.5031\n",
      "Epoch 11/15\n",
      "37500/37500 [==============================] - 10s 265us/sample - loss: 1.3922 - sparse_categorical_accuracy: 0.5124 - val_loss: 1.3890 - val_sparse_categorical_accuracy: 0.5138\n",
      "Epoch 12/15\n",
      "37500/37500 [==============================] - 10s 265us/sample - loss: 1.3668 - sparse_categorical_accuracy: 0.5231 - val_loss: 1.3678 - val_sparse_categorical_accuracy: 0.5210\n",
      "Epoch 13/15\n",
      "37500/37500 [==============================] - 10s 263us/sample - loss: 1.3435 - sparse_categorical_accuracy: 0.5326 - val_loss: 1.3505 - val_sparse_categorical_accuracy: 0.5284\n",
      "Epoch 14/15\n",
      "37500/37500 [==============================] - 10s 270us/sample - loss: 1.3262 - sparse_categorical_accuracy: 0.5395 - val_loss: 1.3303 - val_sparse_categorical_accuracy: 0.5376\n",
      "Epoch 15/15\n",
      "37500/37500 [==============================] - 10s 267us/sample - loss: 1.3046 - sparse_categorical_accuracy: 0.5488 - val_loss: 1.3152 - val_sparse_categorical_accuracy: 0.5402\n"
     ]
    },
    {
     "name": "stderr",
     "output_type": "stream",
     "text": [
      "\r",
      " 33%|███▎      | 10/30 [25:23<51:16, 153.85s/it]"
     ]
    },
    {
     "name": "stdout",
     "output_type": "stream",
     "text": [
      "0.54016 0.00018780249274804735 4.372529276776616e-06\n",
      "Train on 37500 samples, validate on 12500 samples\n",
      "Epoch 1/15\n",
      "37500/37500 [==============================] - 12s 327us/sample - loss: 4.1129 - sparse_categorical_accuracy: 0.2734 - val_loss: 3.8551 - val_sparse_categorical_accuracy: 0.3581\n",
      "Epoch 2/15\n",
      "37500/37500 [==============================] - 10s 268us/sample - loss: 3.7604 - sparse_categorical_accuracy: 0.3900 - val_loss: 3.6737 - val_sparse_categorical_accuracy: 0.4188\n",
      "Epoch 3/15\n",
      "37500/37500 [==============================] - 10s 270us/sample - loss: 3.6238 - sparse_categorical_accuracy: 0.4341 - val_loss: 3.5706 - val_sparse_categorical_accuracy: 0.4524\n",
      "Epoch 4/15\n",
      "37500/37500 [==============================] - 10s 268us/sample - loss: 3.5326 - sparse_categorical_accuracy: 0.4620 - val_loss: 3.4939 - val_sparse_categorical_accuracy: 0.4750\n",
      "Epoch 5/15\n",
      "37500/37500 [==============================] - 10s 270us/sample - loss: 3.4586 - sparse_categorical_accuracy: 0.4857 - val_loss: 3.4264 - val_sparse_categorical_accuracy: 0.4944\n",
      "Epoch 6/15\n",
      "37500/37500 [==============================] - 10s 270us/sample - loss: 3.3954 - sparse_categorical_accuracy: 0.5009 - val_loss: 3.3735 - val_sparse_categorical_accuracy: 0.5083\n",
      "Epoch 7/15\n",
      "37500/37500 [==============================] - 10s 268us/sample - loss: 3.3382 - sparse_categorical_accuracy: 0.5190 - val_loss: 3.3192 - val_sparse_categorical_accuracy: 0.5269\n",
      "Epoch 8/15\n",
      "37500/37500 [==============================] - 10s 269us/sample - loss: 3.2841 - sparse_categorical_accuracy: 0.5352 - val_loss: 3.2749 - val_sparse_categorical_accuracy: 0.5339\n",
      "Epoch 9/15\n",
      "37500/37500 [==============================] - 10s 269us/sample - loss: 3.2362 - sparse_categorical_accuracy: 0.5469 - val_loss: 3.2325 - val_sparse_categorical_accuracy: 0.5456\n",
      "Epoch 10/15\n",
      "37500/37500 [==============================] - 10s 267us/sample - loss: 3.1936 - sparse_categorical_accuracy: 0.5571 - val_loss: 3.1882 - val_sparse_categorical_accuracy: 0.5585\n",
      "Epoch 11/15\n",
      "37500/37500 [==============================] - 10s 273us/sample - loss: 3.1520 - sparse_categorical_accuracy: 0.5682 - val_loss: 3.1503 - val_sparse_categorical_accuracy: 0.5622\n",
      "Epoch 12/15\n",
      "37500/37500 [==============================] - 10s 268us/sample - loss: 3.1070 - sparse_categorical_accuracy: 0.5797 - val_loss: 3.1127 - val_sparse_categorical_accuracy: 0.5694\n",
      "Epoch 13/15\n",
      "37500/37500 [==============================] - 10s 267us/sample - loss: 3.0711 - sparse_categorical_accuracy: 0.5865 - val_loss: 3.0767 - val_sparse_categorical_accuracy: 0.5799\n",
      "Epoch 14/15\n",
      "37500/37500 [==============================] - 10s 269us/sample - loss: 3.0348 - sparse_categorical_accuracy: 0.5969 - val_loss: 3.0437 - val_sparse_categorical_accuracy: 0.5870\n",
      "Epoch 15/15\n",
      "37500/37500 [==============================] - 10s 267us/sample - loss: 2.9993 - sparse_categorical_accuracy: 0.6058 - val_loss: 3.0101 - val_sparse_categorical_accuracy: 0.5926\n"
     ]
    },
    {
     "name": "stderr",
     "output_type": "stream",
     "text": [
      "\r",
      " 37%|███▋      | 11/30 [28:00<49:00, 154.78s/it]"
     ]
    },
    {
     "name": "stdout",
     "output_type": "stream",
     "text": [
      "0.59264 0.00029304318426369886 0.0056262350087971005\n",
      "Train on 37500 samples, validate on 12500 samples\n",
      "Epoch 1/15\n",
      "37500/37500 [==============================] - 12s 324us/sample - loss: 2.9209 - sparse_categorical_accuracy: 0.2115 - val_loss: 2.6301 - val_sparse_categorical_accuracy: 0.2960\n",
      "Epoch 2/15\n",
      "37500/37500 [==============================] - 10s 270us/sample - loss: 2.5505 - sparse_categorical_accuracy: 0.3245 - val_loss: 2.4571 - val_sparse_categorical_accuracy: 0.3624\n",
      "Epoch 3/15\n",
      "37500/37500 [==============================] - 10s 270us/sample - loss: 2.4127 - sparse_categorical_accuracy: 0.3778 - val_loss: 2.3589 - val_sparse_categorical_accuracy: 0.3986\n",
      "Epoch 4/15\n",
      "37500/37500 [==============================] - 10s 275us/sample - loss: 2.3260 - sparse_categorical_accuracy: 0.4110 - val_loss: 2.2884 - val_sparse_categorical_accuracy: 0.4255\n",
      "Epoch 5/15\n",
      "37500/37500 [==============================] - 10s 271us/sample - loss: 2.2631 - sparse_categorical_accuracy: 0.4372 - val_loss: 2.2345 - val_sparse_categorical_accuracy: 0.4425\n",
      "Epoch 6/15\n",
      "37500/37500 [==============================] - 10s 271us/sample - loss: 2.2155 - sparse_categorical_accuracy: 0.4557 - val_loss: 2.1938 - val_sparse_categorical_accuracy: 0.4596\n",
      "Epoch 7/15\n",
      "37500/37500 [==============================] - 10s 269us/sample - loss: 2.1736 - sparse_categorical_accuracy: 0.4690 - val_loss: 2.1537 - val_sparse_categorical_accuracy: 0.4750\n",
      "Epoch 8/15\n",
      "37500/37500 [==============================] - 10s 271us/sample - loss: 2.1375 - sparse_categorical_accuracy: 0.4818 - val_loss: 2.1238 - val_sparse_categorical_accuracy: 0.4855\n",
      "Epoch 9/15\n",
      "37500/37500 [==============================] - 10s 267us/sample - loss: 2.1056 - sparse_categorical_accuracy: 0.4933 - val_loss: 2.0963 - val_sparse_categorical_accuracy: 0.4960\n",
      "Epoch 10/15\n",
      "37500/37500 [==============================] - 10s 270us/sample - loss: 2.0794 - sparse_categorical_accuracy: 0.5030 - val_loss: 2.0726 - val_sparse_categorical_accuracy: 0.5048\n",
      "Epoch 11/15\n",
      "37500/37500 [==============================] - 10s 271us/sample - loss: 2.0544 - sparse_categorical_accuracy: 0.5143 - val_loss: 2.0517 - val_sparse_categorical_accuracy: 0.5118\n",
      "Epoch 12/15\n",
      "37500/37500 [==============================] - 10s 269us/sample - loss: 2.0313 - sparse_categorical_accuracy: 0.5213 - val_loss: 2.0300 - val_sparse_categorical_accuracy: 0.5200\n",
      "Epoch 13/15\n",
      "37500/37500 [==============================] - 10s 270us/sample - loss: 2.0109 - sparse_categorical_accuracy: 0.5287 - val_loss: 2.0110 - val_sparse_categorical_accuracy: 0.5266\n",
      "Epoch 14/15\n",
      "37500/37500 [==============================] - 10s 269us/sample - loss: 1.9913 - sparse_categorical_accuracy: 0.5380 - val_loss: 1.9941 - val_sparse_categorical_accuracy: 0.5338\n",
      "Epoch 15/15\n",
      "37500/37500 [==============================] - 10s 267us/sample - loss: 1.9707 - sparse_categorical_accuracy: 0.5445 - val_loss: 1.9784 - val_sparse_categorical_accuracy: 0.5389\n"
     ]
    },
    {
     "name": "stderr",
     "output_type": "stream",
     "text": [
      "\r",
      " 40%|████      | 12/30 [30:38<46:41, 155.65s/it]"
     ]
    },
    {
     "name": "stdout",
     "output_type": "stream",
     "text": [
      "0.53888 0.00016722199284395427 0.0018374823356978583\n",
      "Train on 37500 samples, validate on 12500 samples\n",
      "Epoch 1/15\n",
      "37500/37500 [==============================] - 12s 331us/sample - loss: 1.9858 - sparse_categorical_accuracy: 0.3177 - val_loss: 1.7245 - val_sparse_categorical_accuracy: 0.4102\n",
      "Epoch 2/15\n",
      "37500/37500 [==============================] - 10s 274us/sample - loss: 1.6494 - sparse_categorical_accuracy: 0.4367 - val_loss: 1.5730 - val_sparse_categorical_accuracy: 0.4626\n",
      "Epoch 3/15\n",
      "37500/37500 [==============================] - 10s 274us/sample - loss: 1.5276 - sparse_categorical_accuracy: 0.4795 - val_loss: 1.4856 - val_sparse_categorical_accuracy: 0.4986\n",
      "Epoch 4/15\n",
      "37500/37500 [==============================] - 10s 270us/sample - loss: 1.4410 - sparse_categorical_accuracy: 0.5146 - val_loss: 1.4172 - val_sparse_categorical_accuracy: 0.5266\n",
      "Epoch 5/15\n",
      "37500/37500 [==============================] - 10s 274us/sample - loss: 1.3777 - sparse_categorical_accuracy: 0.5387 - val_loss: 1.3727 - val_sparse_categorical_accuracy: 0.5444\n",
      "Epoch 6/15\n",
      "37500/37500 [==============================] - 10s 272us/sample - loss: 1.3200 - sparse_categorical_accuracy: 0.5625 - val_loss: 1.3198 - val_sparse_categorical_accuracy: 0.5636\n",
      "Epoch 7/15\n",
      "37500/37500 [==============================] - 10s 272us/sample - loss: 1.2765 - sparse_categorical_accuracy: 0.5788 - val_loss: 1.2852 - val_sparse_categorical_accuracy: 0.5740\n",
      "Epoch 8/15\n",
      "37500/37500 [==============================] - 10s 272us/sample - loss: 1.2301 - sparse_categorical_accuracy: 0.5954 - val_loss: 1.2482 - val_sparse_categorical_accuracy: 0.5860\n",
      "Epoch 9/15\n",
      "37500/37500 [==============================] - 10s 270us/sample - loss: 1.1926 - sparse_categorical_accuracy: 0.6120 - val_loss: 1.2182 - val_sparse_categorical_accuracy: 0.5970\n",
      "Epoch 10/15\n",
      "37500/37500 [==============================] - 10s 273us/sample - loss: 1.1605 - sparse_categorical_accuracy: 0.6221 - val_loss: 1.1906 - val_sparse_categorical_accuracy: 0.6067\n",
      "Epoch 11/15\n",
      "37500/37500 [==============================] - 10s 272us/sample - loss: 1.1297 - sparse_categorical_accuracy: 0.6335 - val_loss: 1.1672 - val_sparse_categorical_accuracy: 0.6128\n",
      "Epoch 12/15\n",
      "37500/37500 [==============================] - 10s 272us/sample - loss: 1.0993 - sparse_categorical_accuracy: 0.6432 - val_loss: 1.1439 - val_sparse_categorical_accuracy: 0.6220\n",
      "Epoch 13/15\n",
      "37500/37500 [==============================] - 10s 273us/sample - loss: 1.0750 - sparse_categorical_accuracy: 0.6552 - val_loss: 1.1324 - val_sparse_categorical_accuracy: 0.6292\n",
      "Epoch 14/15\n",
      "37500/37500 [==============================] - 10s 273us/sample - loss: 1.0495 - sparse_categorical_accuracy: 0.6620 - val_loss: 1.1124 - val_sparse_categorical_accuracy: 0.6326\n",
      "Epoch 15/15\n",
      "37500/37500 [==============================] - 10s 271us/sample - loss: 1.0280 - sparse_categorical_accuracy: 0.6695 - val_loss: 1.0986 - val_sparse_categorical_accuracy: 0.6395\n"
     ]
    },
    {
     "name": "stderr",
     "output_type": "stream",
     "text": [
      "\r",
      " 43%|████▎     | 13/30 [33:17<44:23, 156.67s/it]"
     ]
    },
    {
     "name": "stdout",
     "output_type": "stream",
     "text": [
      "0.63952 0.0005605661166497311 0.00013669280885937767\n",
      "Train on 37500 samples, validate on 12500 samples\n",
      "Epoch 1/15\n",
      "37500/37500 [==============================] - 13s 337us/sample - loss: 2.1908 - sparse_categorical_accuracy: 0.2290 - val_loss: 1.9776 - val_sparse_categorical_accuracy: 0.3058\n",
      "Epoch 2/15\n",
      "37500/37500 [==============================] - 10s 276us/sample - loss: 1.8834 - sparse_categorical_accuracy: 0.3325 - val_loss: 1.7945 - val_sparse_categorical_accuracy: 0.3711\n",
      "Epoch 3/15\n",
      "37500/37500 [==============================] - 10s 275us/sample - loss: 1.7439 - sparse_categorical_accuracy: 0.3861 - val_loss: 1.6912 - val_sparse_categorical_accuracy: 0.4094\n",
      "Epoch 4/15\n",
      "37500/37500 [==============================] - 10s 275us/sample - loss: 1.6583 - sparse_categorical_accuracy: 0.4167 - val_loss: 1.6192 - val_sparse_categorical_accuracy: 0.4315\n",
      "Epoch 5/15\n",
      "37500/37500 [==============================] - 10s 275us/sample - loss: 1.5900 - sparse_categorical_accuracy: 0.4416 - val_loss: 1.5653 - val_sparse_categorical_accuracy: 0.4526\n",
      "Epoch 6/15\n",
      "37500/37500 [==============================] - 10s 276us/sample - loss: 1.5424 - sparse_categorical_accuracy: 0.4578 - val_loss: 1.5227 - val_sparse_categorical_accuracy: 0.4658\n",
      "Epoch 7/15\n",
      "37500/37500 [==============================] - 10s 276us/sample - loss: 1.5019 - sparse_categorical_accuracy: 0.4743 - val_loss: 1.4863 - val_sparse_categorical_accuracy: 0.4807\n",
      "Epoch 8/15\n",
      "37500/37500 [==============================] - 10s 275us/sample - loss: 1.4688 - sparse_categorical_accuracy: 0.4873 - val_loss: 1.4556 - val_sparse_categorical_accuracy: 0.4909\n",
      "Epoch 9/15\n",
      "37500/37500 [==============================] - 10s 273us/sample - loss: 1.4362 - sparse_categorical_accuracy: 0.4985 - val_loss: 1.4274 - val_sparse_categorical_accuracy: 0.5009\n",
      "Epoch 10/15\n",
      "37500/37500 [==============================] - 10s 279us/sample - loss: 1.4093 - sparse_categorical_accuracy: 0.5085 - val_loss: 1.4021 - val_sparse_categorical_accuracy: 0.5104\n",
      "Epoch 11/15\n",
      "37500/37500 [==============================] - 10s 277us/sample - loss: 1.3815 - sparse_categorical_accuracy: 0.5177 - val_loss: 1.3819 - val_sparse_categorical_accuracy: 0.5153\n",
      "Epoch 12/15\n",
      "37500/37500 [==============================] - 10s 274us/sample - loss: 1.3626 - sparse_categorical_accuracy: 0.5235 - val_loss: 1.3603 - val_sparse_categorical_accuracy: 0.5233\n",
      "Epoch 13/15\n",
      "37500/37500 [==============================] - 10s 275us/sample - loss: 1.3408 - sparse_categorical_accuracy: 0.5327 - val_loss: 1.3426 - val_sparse_categorical_accuracy: 0.5290\n",
      "Epoch 14/15\n",
      "37500/37500 [==============================] - 10s 275us/sample - loss: 1.3156 - sparse_categorical_accuracy: 0.5425 - val_loss: 1.3277 - val_sparse_categorical_accuracy: 0.5358\n",
      "Epoch 15/15\n",
      "37500/37500 [==============================] - 10s 273us/sample - loss: 1.3021 - sparse_categorical_accuracy: 0.5485 - val_loss: 1.3103 - val_sparse_categorical_accuracy: 0.5420\n"
     ]
    },
    {
     "name": "stderr",
     "output_type": "stream",
     "text": [
      "\r",
      " 47%|████▋     | 14/30 [35:58<42:07, 157.95s/it]"
     ]
    },
    {
     "name": "stdout",
     "output_type": "stream",
     "text": [
      "0.542 0.0001702619560723168 1.6831344670617657e-06\n",
      "Train on 37500 samples, validate on 12500 samples\n",
      "Epoch 1/15\n",
      "37500/37500 [==============================] - 13s 341us/sample - loss: 4.4705 - sparse_categorical_accuracy: 0.2818 - val_loss: 4.2137 - val_sparse_categorical_accuracy: 0.3695\n",
      "Epoch 2/15\n",
      "37500/37500 [==============================] - 11s 281us/sample - loss: 4.1135 - sparse_categorical_accuracy: 0.4049 - val_loss: 4.0232 - val_sparse_categorical_accuracy: 0.4276\n",
      "Epoch 3/15\n",
      "37500/37500 [==============================] - 11s 280us/sample - loss: 3.9553 - sparse_categorical_accuracy: 0.4475 - val_loss: 3.8976 - val_sparse_categorical_accuracy: 0.4609\n",
      "Epoch 4/15\n",
      "37500/37500 [==============================] - 10s 279us/sample - loss: 3.8447 - sparse_categorical_accuracy: 0.4795 - val_loss: 3.8021 - val_sparse_categorical_accuracy: 0.4876\n",
      "Epoch 5/15\n",
      "37500/37500 [==============================] - 10s 278us/sample - loss: 3.7505 - sparse_categorical_accuracy: 0.5065 - val_loss: 3.7208 - val_sparse_categorical_accuracy: 0.5065\n",
      "Epoch 6/15\n",
      "37500/37500 [==============================] - 11s 289us/sample - loss: 3.6683 - sparse_categorical_accuracy: 0.5276 - val_loss: 3.6472 - val_sparse_categorical_accuracy: 0.5266\n",
      "Epoch 7/15\n",
      "37500/37500 [==============================] - 11s 281us/sample - loss: 3.5978 - sparse_categorical_accuracy: 0.5431 - val_loss: 3.5838 - val_sparse_categorical_accuracy: 0.5386\n",
      "Epoch 8/15\n",
      "37500/37500 [==============================] - 11s 281us/sample - loss: 3.5295 - sparse_categorical_accuracy: 0.5577 - val_loss: 3.5255 - val_sparse_categorical_accuracy: 0.5490\n",
      "Epoch 9/15\n",
      "37500/37500 [==============================] - 11s 281us/sample - loss: 3.4708 - sparse_categorical_accuracy: 0.5702 - val_loss: 3.4692 - val_sparse_categorical_accuracy: 0.5603\n",
      "Epoch 10/15\n",
      "37500/37500 [==============================] - 10s 277us/sample - loss: 3.4149 - sparse_categorical_accuracy: 0.5802 - val_loss: 3.4203 - val_sparse_categorical_accuracy: 0.5667\n",
      "Epoch 11/15\n",
      "37500/37500 [==============================] - 11s 281us/sample - loss: 3.3557 - sparse_categorical_accuracy: 0.5947 - val_loss: 3.3698 - val_sparse_categorical_accuracy: 0.5762\n",
      "Epoch 12/15\n",
      "37500/37500 [==============================] - 11s 280us/sample - loss: 3.3024 - sparse_categorical_accuracy: 0.6030 - val_loss: 3.3208 - val_sparse_categorical_accuracy: 0.5827\n",
      "Epoch 13/15\n",
      "37500/37500 [==============================] - 10s 278us/sample - loss: 3.2534 - sparse_categorical_accuracy: 0.6125 - val_loss: 3.2786 - val_sparse_categorical_accuracy: 0.5918\n",
      "Epoch 14/15\n",
      "37500/37500 [==============================] - 11s 280us/sample - loss: 3.2044 - sparse_categorical_accuracy: 0.6236 - val_loss: 3.2319 - val_sparse_categorical_accuracy: 0.5977\n",
      "Epoch 15/15\n",
      "37500/37500 [==============================] - 10s 278us/sample - loss: 3.1566 - sparse_categorical_accuracy: 0.6300 - val_loss: 3.1938 - val_sparse_categorical_accuracy: 0.6022\n"
     ]
    },
    {
     "name": "stderr",
     "output_type": "stream",
     "text": [
      "\r",
      " 50%|█████     | 15/30 [38:42<39:56, 159.77s/it]"
     ]
    },
    {
     "name": "stdout",
     "output_type": "stream",
     "text": [
      "0.60216 0.0003813647519814314 0.006681110075810525\n",
      "Train on 37500 samples, validate on 12500 samples\n",
      "Epoch 1/15\n",
      "37500/37500 [==============================] - 13s 347us/sample - loss: 2.6822 - sparse_categorical_accuracy: 0.2292 - val_loss: 2.4132 - val_sparse_categorical_accuracy: 0.3207\n",
      "Epoch 2/15\n",
      "37500/37500 [==============================] - 11s 282us/sample - loss: 2.3263 - sparse_categorical_accuracy: 0.3459 - val_loss: 2.2310 - val_sparse_categorical_accuracy: 0.3829\n",
      "Epoch 3/15\n",
      "37500/37500 [==============================] - 11s 285us/sample - loss: 2.1875 - sparse_categorical_accuracy: 0.3947 - val_loss: 2.1313 - val_sparse_categorical_accuracy: 0.4185\n",
      "Epoch 4/15\n",
      "37500/37500 [==============================] - 11s 284us/sample - loss: 2.0987 - sparse_categorical_accuracy: 0.4255 - val_loss: 2.0613 - val_sparse_categorical_accuracy: 0.4437\n",
      "Epoch 5/15\n",
      "37500/37500 [==============================] - 11s 281us/sample - loss: 2.0349 - sparse_categorical_accuracy: 0.4505 - val_loss: 2.0068 - val_sparse_categorical_accuracy: 0.4622\n",
      "Epoch 6/15\n",
      "37500/37500 [==============================] - 11s 283us/sample - loss: 1.9833 - sparse_categorical_accuracy: 0.4697 - val_loss: 1.9623 - val_sparse_categorical_accuracy: 0.4778\n",
      "Epoch 7/15\n",
      "37500/37500 [==============================] - 11s 289us/sample - loss: 1.9398 - sparse_categorical_accuracy: 0.4873 - val_loss: 1.9228 - val_sparse_categorical_accuracy: 0.4907\n",
      "Epoch 8/15\n",
      "37500/37500 [==============================] - 11s 282us/sample - loss: 1.9008 - sparse_categorical_accuracy: 0.5004 - val_loss: 1.8884 - val_sparse_categorical_accuracy: 0.5028\n",
      "Epoch 9/15\n",
      "37500/37500 [==============================] - 11s 283us/sample - loss: 1.8636 - sparse_categorical_accuracy: 0.5153 - val_loss: 1.8555 - val_sparse_categorical_accuracy: 0.5161\n",
      "Epoch 10/15\n",
      "37500/37500 [==============================] - 11s 294us/sample - loss: 1.8335 - sparse_categorical_accuracy: 0.5288 - val_loss: 1.8273 - val_sparse_categorical_accuracy: 0.5285\n",
      "Epoch 11/15\n",
      "37500/37500 [==============================] - 11s 291us/sample - loss: 1.8065 - sparse_categorical_accuracy: 0.5395 - val_loss: 1.8025 - val_sparse_categorical_accuracy: 0.5383\n",
      "Epoch 12/15\n",
      "37500/37500 [==============================] - 11s 284us/sample - loss: 1.7746 - sparse_categorical_accuracy: 0.5491 - val_loss: 1.7778 - val_sparse_categorical_accuracy: 0.5456\n",
      "Epoch 13/15\n",
      "37500/37500 [==============================] - 11s 285us/sample - loss: 1.7516 - sparse_categorical_accuracy: 0.5609 - val_loss: 1.7586 - val_sparse_categorical_accuracy: 0.5526\n",
      "Epoch 14/15\n",
      "37500/37500 [==============================] - 11s 283us/sample - loss: 1.7305 - sparse_categorical_accuracy: 0.5675 - val_loss: 1.7357 - val_sparse_categorical_accuracy: 0.5623\n",
      "Epoch 15/15\n",
      "37500/37500 [==============================] - 11s 283us/sample - loss: 1.7075 - sparse_categorical_accuracy: 0.5748 - val_loss: 1.7173 - val_sparse_categorical_accuracy: 0.5666\n"
     ]
    },
    {
     "name": "stderr",
     "output_type": "stream",
     "text": [
      "\r",
      " 53%|█████▎    | 16/30 [41:28<37:45, 161.79s/it]"
     ]
    },
    {
     "name": "stdout",
     "output_type": "stream",
     "text": [
      "0.56664 0.00024604119789527955 0.0013023705874179799\n",
      "Train on 37500 samples, validate on 12500 samples\n",
      "Epoch 1/15\n",
      "37500/37500 [==============================] - 13s 352us/sample - loss: 2.1139 - sparse_categorical_accuracy: 0.2555 - val_loss: 1.9044 - val_sparse_categorical_accuracy: 0.3291\n",
      "Epoch 2/15\n",
      "37500/37500 [==============================] - 11s 290us/sample - loss: 1.8183 - sparse_categorical_accuracy: 0.3615 - val_loss: 1.7545 - val_sparse_categorical_accuracy: 0.3837\n",
      "Epoch 3/15\n",
      "37500/37500 [==============================] - 11s 288us/sample - loss: 1.7061 - sparse_categorical_accuracy: 0.4015 - val_loss: 1.6712 - val_sparse_categorical_accuracy: 0.4148\n",
      "Epoch 4/15\n",
      "37500/37500 [==============================] - 11s 290us/sample - loss: 1.6329 - sparse_categorical_accuracy: 0.4273 - val_loss: 1.6074 - val_sparse_categorical_accuracy: 0.4350\n",
      "Epoch 5/15\n",
      "37500/37500 [==============================] - 11s 289us/sample - loss: 1.5762 - sparse_categorical_accuracy: 0.4493 - val_loss: 1.5623 - val_sparse_categorical_accuracy: 0.4515\n",
      "Epoch 6/15\n",
      "37500/37500 [==============================] - 11s 287us/sample - loss: 1.5307 - sparse_categorical_accuracy: 0.4637 - val_loss: 1.5202 - val_sparse_categorical_accuracy: 0.4664\n",
      "Epoch 7/15\n",
      "37500/37500 [==============================] - 11s 289us/sample - loss: 1.4903 - sparse_categorical_accuracy: 0.4805 - val_loss: 1.4869 - val_sparse_categorical_accuracy: 0.4802\n",
      "Epoch 8/15\n",
      "37500/37500 [==============================] - 11s 289us/sample - loss: 1.4560 - sparse_categorical_accuracy: 0.4909 - val_loss: 1.4562 - val_sparse_categorical_accuracy: 0.4930\n",
      "Epoch 9/15\n",
      "37500/37500 [==============================] - 11s 287us/sample - loss: 1.4257 - sparse_categorical_accuracy: 0.5067 - val_loss: 1.4302 - val_sparse_categorical_accuracy: 0.5025\n",
      "Epoch 10/15\n",
      "37500/37500 [==============================] - 11s 290us/sample - loss: 1.4002 - sparse_categorical_accuracy: 0.5151 - val_loss: 1.4076 - val_sparse_categorical_accuracy: 0.5101\n",
      "Epoch 11/15\n",
      "37500/37500 [==============================] - 11s 288us/sample - loss: 1.3763 - sparse_categorical_accuracy: 0.5239 - val_loss: 1.3862 - val_sparse_categorical_accuracy: 0.5214\n",
      "Epoch 12/15\n",
      "37500/37500 [==============================] - 11s 287us/sample - loss: 1.3540 - sparse_categorical_accuracy: 0.5334 - val_loss: 1.3671 - val_sparse_categorical_accuracy: 0.5282\n",
      "Epoch 13/15\n",
      "37500/37500 [==============================] - 11s 288us/sample - loss: 1.3341 - sparse_categorical_accuracy: 0.5410 - val_loss: 1.3467 - val_sparse_categorical_accuracy: 0.5351\n",
      "Epoch 14/15\n",
      "37500/37500 [==============================] - 11s 288us/sample - loss: 1.3119 - sparse_categorical_accuracy: 0.5481 - val_loss: 1.3305 - val_sparse_categorical_accuracy: 0.5402\n",
      "Epoch 15/15\n",
      "37500/37500 [==============================] - 11s 287us/sample - loss: 1.2967 - sparse_categorical_accuracy: 0.5549 - val_loss: 1.3152 - val_sparse_categorical_accuracy: 0.5463\n"
     ]
    },
    {
     "name": "stderr",
     "output_type": "stream",
     "text": [
      "\r",
      " 57%|█████▋    | 17/30 [44:17<35:29, 163.81s/it]"
     ]
    },
    {
     "name": "stdout",
     "output_type": "stream",
     "text": [
      "0.54632 0.00019637693592063784 5.309433504704131e-05\n",
      "Train on 37500 samples, validate on 12500 samples\n",
      "Epoch 1/15\n",
      "37500/37500 [==============================] - 13s 353us/sample - loss: 1.8708 - sparse_categorical_accuracy: 0.3350 - val_loss: 1.6188 - val_sparse_categorical_accuracy: 0.4327\n",
      "Epoch 2/15\n",
      "37500/37500 [==============================] - 11s 284us/sample - loss: 1.5288 - sparse_categorical_accuracy: 0.4642 - val_loss: 1.4523 - val_sparse_categorical_accuracy: 0.4925\n",
      "Epoch 3/15\n",
      "37500/37500 [==============================] - 11s 287us/sample - loss: 1.4029 - sparse_categorical_accuracy: 0.5067 - val_loss: 1.3598 - val_sparse_categorical_accuracy: 0.5274\n",
      "Epoch 4/15\n",
      "37500/37500 [==============================] - 11s 288us/sample - loss: 1.3156 - sparse_categorical_accuracy: 0.5392 - val_loss: 1.2907 - val_sparse_categorical_accuracy: 0.5521\n",
      "Epoch 5/15\n",
      "37500/37500 [==============================] - 11s 284us/sample - loss: 1.2422 - sparse_categorical_accuracy: 0.5679 - val_loss: 1.2446 - val_sparse_categorical_accuracy: 0.5707\n",
      "Epoch 6/15\n",
      "37500/37500 [==============================] - 11s 285us/sample - loss: 1.1881 - sparse_categorical_accuracy: 0.5880 - val_loss: 1.1862 - val_sparse_categorical_accuracy: 0.5871\n",
      "Epoch 7/15\n",
      "37500/37500 [==============================] - 11s 287us/sample - loss: 1.1349 - sparse_categorical_accuracy: 0.6074 - val_loss: 1.1495 - val_sparse_categorical_accuracy: 0.6015\n",
      "Epoch 8/15\n",
      "37500/37500 [==============================] - 11s 284us/sample - loss: 1.0916 - sparse_categorical_accuracy: 0.6263 - val_loss: 1.1320 - val_sparse_categorical_accuracy: 0.6060\n",
      "Epoch 9/15\n",
      "37500/37500 [==============================] - 11s 287us/sample - loss: 1.0506 - sparse_categorical_accuracy: 0.6390 - val_loss: 1.0798 - val_sparse_categorical_accuracy: 0.6260\n",
      "Epoch 10/15\n",
      "37500/37500 [==============================] - 11s 286us/sample - loss: 1.0180 - sparse_categorical_accuracy: 0.6512 - val_loss: 1.0608 - val_sparse_categorical_accuracy: 0.6277\n",
      "Epoch 11/15\n",
      "37500/37500 [==============================] - 11s 283us/sample - loss: 0.9891 - sparse_categorical_accuracy: 0.6617 - val_loss: 1.0563 - val_sparse_categorical_accuracy: 0.6330\n",
      "Epoch 12/15\n",
      "37500/37500 [==============================] - 11s 285us/sample - loss: 0.9567 - sparse_categorical_accuracy: 0.6750 - val_loss: 1.0166 - val_sparse_categorical_accuracy: 0.6492\n",
      "Epoch 13/15\n",
      "37500/37500 [==============================] - 11s 286us/sample - loss: 0.9303 - sparse_categorical_accuracy: 0.6850 - val_loss: 1.0024 - val_sparse_categorical_accuracy: 0.6546\n",
      "Epoch 14/15\n",
      "37500/37500 [==============================] - 11s 284us/sample - loss: 0.9072 - sparse_categorical_accuracy: 0.6901 - val_loss: 0.9955 - val_sparse_categorical_accuracy: 0.6559\n",
      "Epoch 15/15\n",
      "37500/37500 [==============================] - 11s 284us/sample - loss: 0.8855 - sparse_categorical_accuracy: 0.6968 - val_loss: 0.9812 - val_sparse_categorical_accuracy: 0.6617\n"
     ]
    },
    {
     "name": "stderr",
     "output_type": "stream",
     "text": [
      "\r",
      " 60%|██████    | 18/30 [47:04<32:58, 164.84s/it]"
     ]
    },
    {
     "name": "stdout",
     "output_type": "stream",
     "text": [
      "0.66168 0.0008638232281967184 1.4025446472144804e-06\n",
      "Train on 37500 samples, validate on 12500 samples\n",
      "Epoch 1/15\n",
      "37500/37500 [==============================] - 14s 361us/sample - loss: 1.8561 - sparse_categorical_accuracy: 0.3604 - val_loss: 1.6198 - val_sparse_categorical_accuracy: 0.4503\n",
      "Epoch 2/15\n",
      "37500/37500 [==============================] - 11s 293us/sample - loss: 1.5294 - sparse_categorical_accuracy: 0.4816 - val_loss: 1.4612 - val_sparse_categorical_accuracy: 0.5076\n",
      "Epoch 3/15\n",
      "37500/37500 [==============================] - 11s 291us/sample - loss: 1.3995 - sparse_categorical_accuracy: 0.5282 - val_loss: 1.3605 - val_sparse_categorical_accuracy: 0.5423\n",
      "Epoch 4/15\n",
      "37500/37500 [==============================] - 11s 294us/sample - loss: 1.3070 - sparse_categorical_accuracy: 0.5629 - val_loss: 1.2963 - val_sparse_categorical_accuracy: 0.5696\n",
      "Epoch 5/15\n",
      "37500/37500 [==============================] - 11s 293us/sample - loss: 1.2400 - sparse_categorical_accuracy: 0.5885 - val_loss: 1.2452 - val_sparse_categorical_accuracy: 0.5836\n",
      "Epoch 6/15\n",
      "37500/37500 [==============================] - 11s 290us/sample - loss: 1.1820 - sparse_categorical_accuracy: 0.6116 - val_loss: 1.1988 - val_sparse_categorical_accuracy: 0.6024\n",
      "Epoch 7/15\n",
      "37500/37500 [==============================] - 11s 292us/sample - loss: 1.1351 - sparse_categorical_accuracy: 0.6268 - val_loss: 1.1588 - val_sparse_categorical_accuracy: 0.6162\n",
      "Epoch 8/15\n",
      "37500/37500 [==============================] - 11s 292us/sample - loss: 1.0926 - sparse_categorical_accuracy: 0.6418 - val_loss: 1.1398 - val_sparse_categorical_accuracy: 0.6205\n",
      "Epoch 9/15\n",
      "37500/37500 [==============================] - 11s 291us/sample - loss: 1.0550 - sparse_categorical_accuracy: 0.6585 - val_loss: 1.1110 - val_sparse_categorical_accuracy: 0.6338\n",
      "Epoch 10/15\n",
      "37500/37500 [==============================] - 11s 293us/sample - loss: 1.0178 - sparse_categorical_accuracy: 0.6719 - val_loss: 1.0756 - val_sparse_categorical_accuracy: 0.6452\n",
      "Epoch 11/15\n",
      "37500/37500 [==============================] - 11s 292us/sample - loss: 0.9943 - sparse_categorical_accuracy: 0.6786 - val_loss: 1.0629 - val_sparse_categorical_accuracy: 0.6504\n",
      "Epoch 12/15\n",
      "37500/37500 [==============================] - 12s 307us/sample - loss: 0.9602 - sparse_categorical_accuracy: 0.6926 - val_loss: 1.0468 - val_sparse_categorical_accuracy: 0.6531\n",
      "Epoch 13/15\n",
      "37500/37500 [==============================] - 13s 341us/sample - loss: 0.9360 - sparse_categorical_accuracy: 0.6975 - val_loss: 1.0347 - val_sparse_categorical_accuracy: 0.6539\n",
      "Epoch 14/15\n",
      "37500/37500 [==============================] - 12s 324us/sample - loss: 0.9106 - sparse_categorical_accuracy: 0.7102 - val_loss: 1.0200 - val_sparse_categorical_accuracy: 0.6638\n",
      "Epoch 15/15\n",
      "37500/37500 [==============================] - 13s 344us/sample - loss: 0.8890 - sparse_categorical_accuracy: 0.7165 - val_loss: 1.0087 - val_sparse_categorical_accuracy: 0.6664\n"
     ]
    },
    {
     "name": "stderr",
     "output_type": "stream",
     "text": [
      "\r",
      " 63%|██████▎   | 19/30 [50:01<30:51, 168.36s/it]"
     ]
    },
    {
     "name": "stdout",
     "output_type": "stream",
     "text": [
      "0.6664 0.0009329258870050591 0.00013487653646131951\n",
      "Train on 37500 samples, validate on 12500 samples\n",
      "Epoch 1/15\n",
      "37500/37500 [==============================] - 14s 363us/sample - loss: 2.3553 - sparse_categorical_accuracy: 0.1902 - val_loss: 2.0728 - val_sparse_categorical_accuracy: 0.2815\n",
      "Epoch 2/15\n",
      "37500/37500 [==============================] - 11s 302us/sample - loss: 1.9697 - sparse_categorical_accuracy: 0.3141 - val_loss: 1.8832 - val_sparse_categorical_accuracy: 0.3526\n",
      "Epoch 3/15\n",
      "37500/37500 [==============================] - 13s 359us/sample - loss: 1.8322 - sparse_categorical_accuracy: 0.3674 - val_loss: 1.7832 - val_sparse_categorical_accuracy: 0.3895\n",
      "Epoch 4/15\n",
      "37500/37500 [==============================] - 12s 333us/sample - loss: 1.7475 - sparse_categorical_accuracy: 0.3959 - val_loss: 1.7151 - val_sparse_categorical_accuracy: 0.4130\n",
      "Epoch 5/15\n",
      "37500/37500 [==============================] - 12s 327us/sample - loss: 1.6876 - sparse_categorical_accuracy: 0.4201 - val_loss: 1.6638 - val_sparse_categorical_accuracy: 0.4320\n",
      "Epoch 6/15\n",
      "37500/37500 [==============================] - 13s 344us/sample - loss: 1.6374 - sparse_categorical_accuracy: 0.4403 - val_loss: 1.6204 - val_sparse_categorical_accuracy: 0.4485\n",
      "Epoch 7/15\n",
      "37500/37500 [==============================] - 13s 360us/sample - loss: 1.5948 - sparse_categorical_accuracy: 0.4562 - val_loss: 1.5826 - val_sparse_categorical_accuracy: 0.4608\n",
      "Epoch 8/15\n",
      "37500/37500 [==============================] - 13s 350us/sample - loss: 1.5582 - sparse_categorical_accuracy: 0.4681 - val_loss: 1.5509 - val_sparse_categorical_accuracy: 0.4727\n",
      "Epoch 9/15\n",
      "37500/37500 [==============================] - 13s 341us/sample - loss: 1.5296 - sparse_categorical_accuracy: 0.4779 - val_loss: 1.5229 - val_sparse_categorical_accuracy: 0.4825\n",
      "Epoch 10/15\n",
      "37500/37500 [==============================] - 13s 347us/sample - loss: 1.5005 - sparse_categorical_accuracy: 0.4918 - val_loss: 1.4966 - val_sparse_categorical_accuracy: 0.4928\n",
      "Epoch 11/15\n",
      "37500/37500 [==============================] - 13s 346us/sample - loss: 1.4717 - sparse_categorical_accuracy: 0.4997 - val_loss: 1.4733 - val_sparse_categorical_accuracy: 0.5002\n",
      "Epoch 12/15\n",
      "37500/37500 [==============================] - 13s 345us/sample - loss: 1.4494 - sparse_categorical_accuracy: 0.5080 - val_loss: 1.4526 - val_sparse_categorical_accuracy: 0.5088\n",
      "Epoch 13/15\n",
      "37500/37500 [==============================] - 13s 341us/sample - loss: 1.4293 - sparse_categorical_accuracy: 0.5162 - val_loss: 1.4326 - val_sparse_categorical_accuracy: 0.5160\n",
      "Epoch 14/15\n",
      "37500/37500 [==============================] - 13s 344us/sample - loss: 1.4075 - sparse_categorical_accuracy: 0.5268 - val_loss: 1.4150 - val_sparse_categorical_accuracy: 0.5218\n",
      "Epoch 15/15\n",
      "37500/37500 [==============================] - 12s 309us/sample - loss: 1.3893 - sparse_categorical_accuracy: 0.5339 - val_loss: 1.3982 - val_sparse_categorical_accuracy: 0.5290\n"
     ]
    },
    {
     "name": "stderr",
     "output_type": "stream",
     "text": [
      "\r",
      " 67%|██████▋   | 20/30 [53:17<29:27, 176.72s/it]"
     ]
    },
    {
     "name": "stdout",
     "output_type": "stream",
     "text": [
      "0.52896 0.00015083071935577307 0.0001121371460365904\n",
      "Train on 37500 samples, validate on 12500 samples\n",
      "Epoch 1/15\n",
      "37500/37500 [==============================] - 16s 427us/sample - loss: 1.9049 - sparse_categorical_accuracy: 0.3210 - val_loss: 1.6751 - val_sparse_categorical_accuracy: 0.4102\n",
      "Epoch 2/15\n",
      "37500/37500 [==============================] - 12s 320us/sample - loss: 1.5979 - sparse_categorical_accuracy: 0.4339 - val_loss: 1.5283 - val_sparse_categorical_accuracy: 0.4616\n",
      "Epoch 3/15\n",
      "37500/37500 [==============================] - 13s 341us/sample - loss: 1.4813 - sparse_categorical_accuracy: 0.4803 - val_loss: 1.4446 - val_sparse_categorical_accuracy: 0.4915\n",
      "Epoch 4/15\n",
      "37500/37500 [==============================] - 12s 324us/sample - loss: 1.4057 - sparse_categorical_accuracy: 0.5078 - val_loss: 1.3860 - val_sparse_categorical_accuracy: 0.5106\n",
      "Epoch 5/15\n",
      "37500/37500 [==============================] - 12s 326us/sample - loss: 1.3446 - sparse_categorical_accuracy: 0.5309 - val_loss: 1.3373 - val_sparse_categorical_accuracy: 0.5291\n",
      "Epoch 6/15\n",
      "37500/37500 [==============================] - 12s 322us/sample - loss: 1.2947 - sparse_categorical_accuracy: 0.5552 - val_loss: 1.2927 - val_sparse_categorical_accuracy: 0.5446\n",
      "Epoch 7/15\n",
      "37500/37500 [==============================] - 12s 318us/sample - loss: 1.2508 - sparse_categorical_accuracy: 0.5672 - val_loss: 1.2607 - val_sparse_categorical_accuracy: 0.5555\n",
      "Epoch 8/15\n",
      "37500/37500 [==============================] - 11s 293us/sample - loss: 1.2116 - sparse_categorical_accuracy: 0.5828 - val_loss: 1.2356 - val_sparse_categorical_accuracy: 0.5656\n",
      "Epoch 9/15\n",
      "37500/37500 [==============================] - 11s 281us/sample - loss: 1.1770 - sparse_categorical_accuracy: 0.5961 - val_loss: 1.1984 - val_sparse_categorical_accuracy: 0.5798\n",
      "Epoch 10/15\n",
      "37500/37500 [==============================] - 11s 281us/sample - loss: 1.1452 - sparse_categorical_accuracy: 0.6090 - val_loss: 1.1751 - val_sparse_categorical_accuracy: 0.5878\n",
      "Epoch 11/15\n",
      "37500/37500 [==============================] - 11s 301us/sample - loss: 1.1155 - sparse_categorical_accuracy: 0.6214 - val_loss: 1.1538 - val_sparse_categorical_accuracy: 0.5978\n",
      "Epoch 12/15\n",
      "37500/37500 [==============================] - 11s 280us/sample - loss: 1.0875 - sparse_categorical_accuracy: 0.6337 - val_loss: 1.1333 - val_sparse_categorical_accuracy: 0.6042\n",
      "Epoch 13/15\n",
      "37500/37500 [==============================] - 11s 299us/sample - loss: 1.0609 - sparse_categorical_accuracy: 0.6426 - val_loss: 1.1087 - val_sparse_categorical_accuracy: 0.6124\n",
      "Epoch 14/15\n",
      "37500/37500 [==============================] - 11s 283us/sample - loss: 1.0368 - sparse_categorical_accuracy: 0.6514 - val_loss: 1.0938 - val_sparse_categorical_accuracy: 0.6198\n",
      "Epoch 15/15\n",
      "37500/37500 [==============================] - 10s 278us/sample - loss: 1.0184 - sparse_categorical_accuracy: 0.6558 - val_loss: 1.0773 - val_sparse_categorical_accuracy: 0.6275\n"
     ]
    },
    {
     "name": "stderr",
     "output_type": "stream",
     "text": [
      "\r",
      " 70%|███████   | 21/30 [56:17<26:38, 177.66s/it]"
     ]
    },
    {
     "name": "stdout",
     "output_type": "stream",
     "text": [
      "0.62752 0.0005526456967656437 1.732416175276173e-05\n",
      "Train on 37500 samples, validate on 12500 samples\n",
      "Epoch 1/15\n",
      "37500/37500 [==============================] - 13s 350us/sample - loss: 2.1376 - sparse_categorical_accuracy: 0.2483 - val_loss: 1.9082 - val_sparse_categorical_accuracy: 0.3402\n",
      "Epoch 2/15\n",
      "37500/37500 [==============================] - 10s 279us/sample - loss: 1.8208 - sparse_categorical_accuracy: 0.3628 - val_loss: 1.7415 - val_sparse_categorical_accuracy: 0.4002\n",
      "Epoch 3/15\n",
      "37500/37500 [==============================] - 10s 279us/sample - loss: 1.6989 - sparse_categorical_accuracy: 0.4071 - val_loss: 1.6500 - val_sparse_categorical_accuracy: 0.4321\n",
      "Epoch 4/15\n",
      "37500/37500 [==============================] - 10s 279us/sample - loss: 1.6206 - sparse_categorical_accuracy: 0.4388 - val_loss: 1.5861 - val_sparse_categorical_accuracy: 0.4563\n",
      "Epoch 5/15\n",
      "37500/37500 [==============================] - 10s 279us/sample - loss: 1.5638 - sparse_categorical_accuracy: 0.4579 - val_loss: 1.5326 - val_sparse_categorical_accuracy: 0.4774\n",
      "Epoch 6/15\n",
      "37500/37500 [==============================] - 10s 279us/sample - loss: 1.5098 - sparse_categorical_accuracy: 0.4794 - val_loss: 1.4903 - val_sparse_categorical_accuracy: 0.4930\n",
      "Epoch 7/15\n",
      "37500/37500 [==============================] - 10s 278us/sample - loss: 1.4687 - sparse_categorical_accuracy: 0.4925 - val_loss: 1.4532 - val_sparse_categorical_accuracy: 0.5061\n",
      "Epoch 8/15\n",
      "37500/37500 [==============================] - 10s 279us/sample - loss: 1.4306 - sparse_categorical_accuracy: 0.5091 - val_loss: 1.4189 - val_sparse_categorical_accuracy: 0.5182\n",
      "Epoch 9/15\n",
      "37500/37500 [==============================] - 11s 302us/sample - loss: 1.3985 - sparse_categorical_accuracy: 0.5225 - val_loss: 1.3912 - val_sparse_categorical_accuracy: 0.5290\n",
      "Epoch 10/15\n",
      "37500/37500 [==============================] - 12s 332us/sample - loss: 1.3681 - sparse_categorical_accuracy: 0.5333 - val_loss: 1.3649 - val_sparse_categorical_accuracy: 0.5399\n",
      "Epoch 11/15\n",
      "37500/37500 [==============================] - 12s 316us/sample - loss: 1.3430 - sparse_categorical_accuracy: 0.5412 - val_loss: 1.3424 - val_sparse_categorical_accuracy: 0.5478\n",
      "Epoch 12/15\n",
      "37500/37500 [==============================] - 12s 315us/sample - loss: 1.3197 - sparse_categorical_accuracy: 0.5498 - val_loss: 1.3202 - val_sparse_categorical_accuracy: 0.5540\n",
      "Epoch 13/15\n",
      "37500/37500 [==============================] - 12s 320us/sample - loss: 1.2974 - sparse_categorical_accuracy: 0.5585 - val_loss: 1.3035 - val_sparse_categorical_accuracy: 0.5602\n",
      "Epoch 14/15\n",
      "37500/37500 [==============================] - 12s 327us/sample - loss: 1.2756 - sparse_categorical_accuracy: 0.5673 - val_loss: 1.2878 - val_sparse_categorical_accuracy: 0.5662\n",
      "Epoch 15/15\n",
      "37500/37500 [==============================] - 12s 323us/sample - loss: 1.2571 - sparse_categorical_accuracy: 0.5736 - val_loss: 1.2682 - val_sparse_categorical_accuracy: 0.5741\n"
     ]
    },
    {
     "name": "stderr",
     "output_type": "stream",
     "text": [
      "\r",
      " 73%|███████▎  | 22/30 [59:11<23:34, 176.76s/it]"
     ]
    },
    {
     "name": "stdout",
     "output_type": "stream",
     "text": [
      "0.57408 0.00022661734952302213 7.637524511955387e-05\n",
      "Train on 37500 samples, validate on 12500 samples\n",
      "Epoch 1/15\n",
      "37500/37500 [==============================] - 16s 418us/sample - loss: 2.2383 - sparse_categorical_accuracy: 0.2335 - val_loss: 1.9712 - val_sparse_categorical_accuracy: 0.3162\n",
      "Epoch 2/15\n",
      "37500/37500 [==============================] - 13s 347us/sample - loss: 1.8652 - sparse_categorical_accuracy: 0.3513 - val_loss: 1.7745 - val_sparse_categorical_accuracy: 0.3856\n",
      "Epoch 3/15\n",
      "37500/37500 [==============================] - 12s 316us/sample - loss: 1.7198 - sparse_categorical_accuracy: 0.4006 - val_loss: 1.6671 - val_sparse_categorical_accuracy: 0.4197\n",
      "Epoch 4/15\n",
      "37500/37500 [==============================] - 11s 286us/sample - loss: 1.6271 - sparse_categorical_accuracy: 0.4334 - val_loss: 1.5935 - val_sparse_categorical_accuracy: 0.4434\n",
      "Epoch 5/15\n",
      "37500/37500 [==============================] - 11s 290us/sample - loss: 1.5594 - sparse_categorical_accuracy: 0.4586 - val_loss: 1.5356 - val_sparse_categorical_accuracy: 0.4662\n",
      "Epoch 6/15\n",
      "37500/37500 [==============================] - 11s 296us/sample - loss: 1.5070 - sparse_categorical_accuracy: 0.4772 - val_loss: 1.4890 - val_sparse_categorical_accuracy: 0.4826\n",
      "Epoch 7/15\n",
      "37500/37500 [==============================] - 11s 296us/sample - loss: 1.4585 - sparse_categorical_accuracy: 0.4937 - val_loss: 1.4480 - val_sparse_categorical_accuracy: 0.4974\n",
      "Epoch 8/15\n",
      "37500/37500 [==============================] - 11s 305us/sample - loss: 1.4219 - sparse_categorical_accuracy: 0.5098 - val_loss: 1.4128 - val_sparse_categorical_accuracy: 0.5104\n",
      "Epoch 9/15\n",
      "37500/37500 [==============================] - 12s 321us/sample - loss: 1.3882 - sparse_categorical_accuracy: 0.5214 - val_loss: 1.3787 - val_sparse_categorical_accuracy: 0.5206\n",
      "Epoch 10/15\n",
      "37500/37500 [==============================] - 12s 315us/sample - loss: 1.3524 - sparse_categorical_accuracy: 0.5371 - val_loss: 1.3574 - val_sparse_categorical_accuracy: 0.5280\n",
      "Epoch 11/15\n",
      "37500/37500 [==============================] - 12s 310us/sample - loss: 1.3266 - sparse_categorical_accuracy: 0.5426 - val_loss: 1.3298 - val_sparse_categorical_accuracy: 0.5382\n",
      "Epoch 12/15\n",
      "37500/37500 [==============================] - 12s 313us/sample - loss: 1.3038 - sparse_categorical_accuracy: 0.5489 - val_loss: 1.3082 - val_sparse_categorical_accuracy: 0.5442\n",
      "Epoch 13/15\n",
      "37500/37500 [==============================] - 11s 298us/sample - loss: 1.2776 - sparse_categorical_accuracy: 0.5606 - val_loss: 1.2861 - val_sparse_categorical_accuracy: 0.5524\n",
      "Epoch 14/15\n",
      "37500/37500 [==============================] - 11s 296us/sample - loss: 1.2611 - sparse_categorical_accuracy: 0.5678 - val_loss: 1.2702 - val_sparse_categorical_accuracy: 0.5582\n",
      "Epoch 15/15\n",
      "37500/37500 [==============================] - 11s 286us/sample - loss: 1.2394 - sparse_categorical_accuracy: 0.5754 - val_loss: 1.2558 - val_sparse_categorical_accuracy: 0.5658\n"
     ]
    },
    {
     "name": "stderr",
     "output_type": "stream",
     "text": [
      "\r",
      " 77%|███████▋  | 23/30 [1:02:12<20:45, 177.95s/it]"
     ]
    },
    {
     "name": "stdout",
     "output_type": "stream",
     "text": [
      "0.56584 0.00022729461337353172 2.478078526339335e-05\n",
      "Train on 37500 samples, validate on 12500 samples\n",
      "Epoch 1/15\n",
      "37500/37500 [==============================] - 13s 354us/sample - loss: 2.7098 - sparse_categorical_accuracy: 0.1749 - val_loss: 2.5057 - val_sparse_categorical_accuracy: 0.2386\n",
      "Epoch 2/15\n",
      "37500/37500 [==============================] - 11s 281us/sample - loss: 2.3936 - sparse_categorical_accuracy: 0.2813 - val_loss: 2.3150 - val_sparse_categorical_accuracy: 0.3129\n",
      "Epoch 3/15\n",
      "37500/37500 [==============================] - 11s 283us/sample - loss: 2.2553 - sparse_categorical_accuracy: 0.3345 - val_loss: 2.2060 - val_sparse_categorical_accuracy: 0.3560\n",
      "Epoch 4/15\n",
      "37500/37500 [==============================] - 11s 299us/sample - loss: 2.1700 - sparse_categorical_accuracy: 0.3677 - val_loss: 2.1369 - val_sparse_categorical_accuracy: 0.3788\n",
      "Epoch 5/15\n",
      "37500/37500 [==============================] - 13s 345us/sample - loss: 2.1070 - sparse_categorical_accuracy: 0.3933 - val_loss: 2.0840 - val_sparse_categorical_accuracy: 0.3986\n",
      "Epoch 6/15\n",
      "37500/37500 [==============================] - 13s 334us/sample - loss: 2.0614 - sparse_categorical_accuracy: 0.4057 - val_loss: 2.0442 - val_sparse_categorical_accuracy: 0.4111\n",
      "Epoch 7/15\n",
      "37500/37500 [==============================] - 14s 363us/sample - loss: 2.0245 - sparse_categorical_accuracy: 0.4199 - val_loss: 2.0080 - val_sparse_categorical_accuracy: 0.4248\n",
      "Epoch 8/15\n",
      "37500/37500 [==============================] - 13s 356us/sample - loss: 1.9899 - sparse_categorical_accuracy: 0.4345 - val_loss: 1.9766 - val_sparse_categorical_accuracy: 0.4359\n",
      "Epoch 9/15\n",
      "37500/37500 [==============================] - 13s 356us/sample - loss: 1.9633 - sparse_categorical_accuracy: 0.4436 - val_loss: 1.9508 - val_sparse_categorical_accuracy: 0.4477\n",
      "Epoch 10/15\n",
      "37500/37500 [==============================] - 13s 338us/sample - loss: 1.9339 - sparse_categorical_accuracy: 0.4555 - val_loss: 1.9254 - val_sparse_categorical_accuracy: 0.4565\n",
      "Epoch 11/15\n",
      "37500/37500 [==============================] - 12s 324us/sample - loss: 1.9092 - sparse_categorical_accuracy: 0.4655 - val_loss: 1.9034 - val_sparse_categorical_accuracy: 0.4653\n",
      "Epoch 12/15\n",
      "37500/37500 [==============================] - 12s 309us/sample - loss: 1.8887 - sparse_categorical_accuracy: 0.4753 - val_loss: 1.8827 - val_sparse_categorical_accuracy: 0.4754\n",
      "Epoch 13/15\n",
      "37500/37500 [==============================] - 12s 319us/sample - loss: 1.8650 - sparse_categorical_accuracy: 0.4779 - val_loss: 1.8632 - val_sparse_categorical_accuracy: 0.4848\n",
      "Epoch 14/15\n",
      "37500/37500 [==============================] - 12s 318us/sample - loss: 1.8463 - sparse_categorical_accuracy: 0.4900 - val_loss: 1.8459 - val_sparse_categorical_accuracy: 0.4877\n",
      "Epoch 15/15\n",
      "37500/37500 [==============================] - 11s 299us/sample - loss: 1.8298 - sparse_categorical_accuracy: 0.4921 - val_loss: 1.8293 - val_sparse_categorical_accuracy: 0.4943\n"
     ]
    },
    {
     "name": "stderr",
     "output_type": "stream",
     "text": [
      "\r",
      " 80%|████████  | 24/30 [1:05:19<18:04, 180.80s/it]"
     ]
    },
    {
     "name": "stdout",
     "output_type": "stream",
     "text": [
      "0.49432 0.00010026684346832914 0.0010612353344672525\n",
      "Train on 37500 samples, validate on 12500 samples\n",
      "Epoch 1/15\n",
      "37500/37500 [==============================] - 13s 354us/sample - loss: 3.1935 - sparse_categorical_accuracy: 0.3395 - val_loss: 2.9156 - val_sparse_categorical_accuracy: 0.4327\n",
      "Epoch 2/15\n",
      "37500/37500 [==============================] - 11s 294us/sample - loss: 2.8224 - sparse_categorical_accuracy: 0.4659 - val_loss: 2.7406 - val_sparse_categorical_accuracy: 0.4886\n",
      "Epoch 3/15\n",
      "37500/37500 [==============================] - 11s 286us/sample - loss: 2.6791 - sparse_categorical_accuracy: 0.5071 - val_loss: 2.6283 - val_sparse_categorical_accuracy: 0.5246\n",
      "Epoch 4/15\n",
      "37500/37500 [==============================] - 11s 284us/sample - loss: 2.5727 - sparse_categorical_accuracy: 0.5433 - val_loss: 2.5366 - val_sparse_categorical_accuracy: 0.5500\n",
      "Epoch 5/15\n",
      "37500/37500 [==============================] - 11s 284us/sample - loss: 2.4843 - sparse_categorical_accuracy: 0.5738 - val_loss: 2.4653 - val_sparse_categorical_accuracy: 0.5762\n",
      "Epoch 6/15\n",
      "37500/37500 [==============================] - 12s 312us/sample - loss: 2.4080 - sparse_categorical_accuracy: 0.5930 - val_loss: 2.4084 - val_sparse_categorical_accuracy: 0.5878\n",
      "Epoch 7/15\n",
      "37500/37500 [==============================] - 11s 302us/sample - loss: 2.3361 - sparse_categorical_accuracy: 0.6158 - val_loss: 2.3381 - val_sparse_categorical_accuracy: 0.6123\n",
      "Epoch 8/15\n",
      "37500/37500 [==============================] - 13s 339us/sample - loss: 2.2736 - sparse_categorical_accuracy: 0.6304 - val_loss: 2.2956 - val_sparse_categorical_accuracy: 0.6142\n",
      "Epoch 9/15\n",
      "37500/37500 [==============================] - 13s 334us/sample - loss: 2.2158 - sparse_categorical_accuracy: 0.6480 - val_loss: 2.2393 - val_sparse_categorical_accuracy: 0.6341\n",
      "Epoch 10/15\n",
      "37500/37500 [==============================] - 12s 321us/sample - loss: 2.1640 - sparse_categorical_accuracy: 0.6589 - val_loss: 2.1989 - val_sparse_categorical_accuracy: 0.6422\n",
      "Epoch 11/15\n",
      "37500/37500 [==============================] - 12s 319us/sample - loss: 2.1133 - sparse_categorical_accuracy: 0.6711 - val_loss: 2.1539 - val_sparse_categorical_accuracy: 0.6519\n",
      "Epoch 12/15\n",
      "37500/37500 [==============================] - 12s 318us/sample - loss: 2.0675 - sparse_categorical_accuracy: 0.6823 - val_loss: 2.1219 - val_sparse_categorical_accuracy: 0.6581\n",
      "Epoch 13/15\n",
      "37500/37500 [==============================] - 13s 341us/sample - loss: 2.0258 - sparse_categorical_accuracy: 0.6968 - val_loss: 2.1079 - val_sparse_categorical_accuracy: 0.6582\n",
      "Epoch 14/15\n",
      "37500/37500 [==============================] - 12s 331us/sample - loss: 1.9802 - sparse_categorical_accuracy: 0.7070 - val_loss: 2.0864 - val_sparse_categorical_accuracy: 0.6563\n",
      "Epoch 15/15\n",
      "37500/37500 [==============================] - 12s 328us/sample - loss: 1.9433 - sparse_categorical_accuracy: 0.7124 - val_loss: 2.0342 - val_sparse_categorical_accuracy: 0.6720\n"
     ]
    },
    {
     "name": "stderr",
     "output_type": "stream",
     "text": [
      "\r",
      " 83%|████████▎ | 25/30 [1:08:22<15:06, 181.36s/it]"
     ]
    },
    {
     "name": "stdout",
     "output_type": "stream",
     "text": [
      "0.672 0.0008067791162288073 0.0036000165031205254\n",
      "Train on 37500 samples, validate on 12500 samples\n",
      "Epoch 1/15\n",
      "37500/37500 [==============================] - 15s 411us/sample - loss: 3.2710 - sparse_categorical_accuracy: 0.2087 - val_loss: 3.0631 - val_sparse_categorical_accuracy: 0.2734\n",
      "Epoch 2/15\n",
      "37500/37500 [==============================] - 13s 351us/sample - loss: 2.9713 - sparse_categorical_accuracy: 0.3007 - val_loss: 2.8905 - val_sparse_categorical_accuracy: 0.3273\n",
      "Epoch 3/15\n",
      "37500/37500 [==============================] - 13s 359us/sample - loss: 2.8432 - sparse_categorical_accuracy: 0.3433 - val_loss: 2.7936 - val_sparse_categorical_accuracy: 0.3628\n",
      "Epoch 4/15\n",
      "37500/37500 [==============================] - 12s 329us/sample - loss: 2.7589 - sparse_categorical_accuracy: 0.3708 - val_loss: 2.7248 - val_sparse_categorical_accuracy: 0.3889\n",
      "Epoch 5/15\n",
      "37500/37500 [==============================] - 13s 336us/sample - loss: 2.6988 - sparse_categorical_accuracy: 0.3916 - val_loss: 2.6711 - val_sparse_categorical_accuracy: 0.4075\n",
      "Epoch 6/15\n",
      "37500/37500 [==============================] - 13s 353us/sample - loss: 2.6490 - sparse_categorical_accuracy: 0.4123 - val_loss: 2.6286 - val_sparse_categorical_accuracy: 0.4194\n",
      "Epoch 7/15\n",
      "37500/37500 [==============================] - 13s 337us/sample - loss: 2.6065 - sparse_categorical_accuracy: 0.4260 - val_loss: 2.5918 - val_sparse_categorical_accuracy: 0.4346\n",
      "Epoch 8/15\n",
      "37500/37500 [==============================] - 13s 352us/sample - loss: 2.5696 - sparse_categorical_accuracy: 0.4393 - val_loss: 2.5592 - val_sparse_categorical_accuracy: 0.4457\n",
      "Epoch 9/15\n",
      "37500/37500 [==============================] - 13s 343us/sample - loss: 2.5406 - sparse_categorical_accuracy: 0.4488 - val_loss: 2.5294 - val_sparse_categorical_accuracy: 0.4598\n",
      "Epoch 10/15\n",
      "37500/37500 [==============================] - 12s 326us/sample - loss: 2.5086 - sparse_categorical_accuracy: 0.4621 - val_loss: 2.5033 - val_sparse_categorical_accuracy: 0.4694\n",
      "Epoch 11/15\n",
      "37500/37500 [==============================] - 12s 314us/sample - loss: 2.4849 - sparse_categorical_accuracy: 0.4684 - val_loss: 2.4784 - val_sparse_categorical_accuracy: 0.4765\n",
      "Epoch 12/15\n",
      "37500/37500 [==============================] - 12s 307us/sample - loss: 2.4583 - sparse_categorical_accuracy: 0.4778 - val_loss: 2.4573 - val_sparse_categorical_accuracy: 0.4839\n",
      "Epoch 13/15\n",
      "37500/37500 [==============================] - 12s 318us/sample - loss: 2.4372 - sparse_categorical_accuracy: 0.4875 - val_loss: 2.4372 - val_sparse_categorical_accuracy: 0.4907\n",
      "Epoch 14/15\n",
      "37500/37500 [==============================] - 12s 323us/sample - loss: 2.4165 - sparse_categorical_accuracy: 0.4924 - val_loss: 2.4162 - val_sparse_categorical_accuracy: 0.4963\n",
      "Epoch 15/15\n",
      "37500/37500 [==============================] - 12s 326us/sample - loss: 2.3993 - sparse_categorical_accuracy: 0.4994 - val_loss: 2.3970 - val_sparse_categorical_accuracy: 0.5029\n"
     ]
    },
    {
     "name": "stderr",
     "output_type": "stream",
     "text": [
      "\r",
      " 87%|████████▋ | 26/30 [1:11:38<12:22, 185.61s/it]"
     ]
    },
    {
     "name": "stdout",
     "output_type": "stream",
     "text": [
      "0.50288 0.0001179241714958759 0.0026908740158248026\n",
      "Train on 37500 samples, validate on 12500 samples\n",
      "Epoch 1/15\n",
      "37500/37500 [==============================] - 16s 417us/sample - loss: 4.1155 - sparse_categorical_accuracy: 0.2844 - val_loss: 3.8421 - val_sparse_categorical_accuracy: 0.3806\n",
      "Epoch 2/15\n",
      "37500/37500 [==============================] - 13s 357us/sample - loss: 3.7396 - sparse_categorical_accuracy: 0.4093 - val_loss: 3.6457 - val_sparse_categorical_accuracy: 0.4428\n",
      "Epoch 3/15\n",
      "37500/37500 [==============================] - 12s 321us/sample - loss: 3.5847 - sparse_categorical_accuracy: 0.4587 - val_loss: 3.5230 - val_sparse_categorical_accuracy: 0.4779\n",
      "Epoch 4/15\n",
      "37500/37500 [==============================] - 13s 334us/sample - loss: 3.4750 - sparse_categorical_accuracy: 0.4908 - val_loss: 3.4313 - val_sparse_categorical_accuracy: 0.5006\n",
      "Epoch 5/15\n",
      "37500/37500 [==============================] - 12s 308us/sample - loss: 3.3876 - sparse_categorical_accuracy: 0.5131 - val_loss: 3.3600 - val_sparse_categorical_accuracy: 0.5212\n",
      "Epoch 6/15\n",
      "37500/37500 [==============================] - 12s 324us/sample - loss: 3.3114 - sparse_categorical_accuracy: 0.5379 - val_loss: 3.2948 - val_sparse_categorical_accuracy: 0.5336\n",
      "Epoch 7/15\n",
      "37500/37500 [==============================] - 11s 295us/sample - loss: 3.2480 - sparse_categorical_accuracy: 0.5501 - val_loss: 3.2310 - val_sparse_categorical_accuracy: 0.5532\n",
      "Epoch 8/15\n",
      "37500/37500 [==============================] - 12s 326us/sample - loss: 3.1865 - sparse_categorical_accuracy: 0.5642 - val_loss: 3.1805 - val_sparse_categorical_accuracy: 0.5629\n",
      "Epoch 9/15\n",
      "37500/37500 [==============================] - 15s 403us/sample - loss: 3.1298 - sparse_categorical_accuracy: 0.5801 - val_loss: 3.1322 - val_sparse_categorical_accuracy: 0.5726\n",
      "Epoch 10/15\n",
      "37500/37500 [==============================] - 13s 342us/sample - loss: 3.0740 - sparse_categorical_accuracy: 0.5926 - val_loss: 3.0806 - val_sparse_categorical_accuracy: 0.5845\n",
      "Epoch 11/15\n",
      "37500/37500 [==============================] - 11s 296us/sample - loss: 3.0240 - sparse_categorical_accuracy: 0.6053 - val_loss: 3.0385 - val_sparse_categorical_accuracy: 0.5914\n",
      "Epoch 12/15\n",
      "37500/37500 [==============================] - 11s 293us/sample - loss: 2.9724 - sparse_categorical_accuracy: 0.6155 - val_loss: 2.9879 - val_sparse_categorical_accuracy: 0.6025\n",
      "Epoch 13/15\n",
      "37500/37500 [==============================] - 11s 289us/sample - loss: 2.9274 - sparse_categorical_accuracy: 0.6227 - val_loss: 2.9582 - val_sparse_categorical_accuracy: 0.6037\n",
      "Epoch 14/15\n",
      "37500/37500 [==============================] - 11s 305us/sample - loss: 2.8771 - sparse_categorical_accuracy: 0.6355 - val_loss: 2.9090 - val_sparse_categorical_accuracy: 0.6152\n",
      "Epoch 15/15\n",
      "37500/37500 [==============================] - 11s 291us/sample - loss: 2.8364 - sparse_categorical_accuracy: 0.6428 - val_loss: 2.8710 - val_sparse_categorical_accuracy: 0.6210\n"
     ]
    },
    {
     "name": "stderr",
     "output_type": "stream",
     "text": [
      "\r",
      " 90%|█████████ | 27/30 [1:14:47<09:19, 186.58s/it]"
     ]
    },
    {
     "name": "stdout",
     "output_type": "stream",
     "text": [
      "0.62096 0.0004224214138356713 0.005723547072843218\n",
      "Train on 37500 samples, validate on 12500 samples\n",
      "Epoch 1/15\n",
      "37500/37500 [==============================] - 14s 370us/sample - loss: 2.2982 - sparse_categorical_accuracy: 0.2296 - val_loss: 2.0628 - val_sparse_categorical_accuracy: 0.3093\n",
      "Epoch 2/15\n",
      "37500/37500 [==============================] - 11s 292us/sample - loss: 1.9487 - sparse_categorical_accuracy: 0.3498 - val_loss: 1.8690 - val_sparse_categorical_accuracy: 0.3844\n",
      "Epoch 3/15\n",
      "37500/37500 [==============================] - 11s 288us/sample - loss: 1.8072 - sparse_categorical_accuracy: 0.4053 - val_loss: 1.7662 - val_sparse_categorical_accuracy: 0.4220\n",
      "Epoch 4/15\n",
      "37500/37500 [==============================] - 11s 292us/sample - loss: 1.7201 - sparse_categorical_accuracy: 0.4377 - val_loss: 1.6966 - val_sparse_categorical_accuracy: 0.4494\n",
      "Epoch 5/15\n",
      "37500/37500 [==============================] - 11s 291us/sample - loss: 1.6567 - sparse_categorical_accuracy: 0.4637 - val_loss: 1.6424 - val_sparse_categorical_accuracy: 0.4698\n",
      "Epoch 6/15\n",
      "37500/37500 [==============================] - 11s 288us/sample - loss: 1.6068 - sparse_categorical_accuracy: 0.4816 - val_loss: 1.5999 - val_sparse_categorical_accuracy: 0.4858\n",
      "Epoch 7/15\n",
      "37500/37500 [==============================] - 11s 291us/sample - loss: 1.5624 - sparse_categorical_accuracy: 0.4990 - val_loss: 1.5656 - val_sparse_categorical_accuracy: 0.4974\n",
      "Epoch 8/15\n",
      "37500/37500 [==============================] - 12s 313us/sample - loss: 1.5276 - sparse_categorical_accuracy: 0.5139 - val_loss: 1.5326 - val_sparse_categorical_accuracy: 0.5108\n",
      "Epoch 9/15\n",
      "37500/37500 [==============================] - 13s 336us/sample - loss: 1.4944 - sparse_categorical_accuracy: 0.5258 - val_loss: 1.5078 - val_sparse_categorical_accuracy: 0.5184\n",
      "Epoch 10/15\n",
      "37500/37500 [==============================] - 12s 326us/sample - loss: 1.4684 - sparse_categorical_accuracy: 0.5358 - val_loss: 1.4822 - val_sparse_categorical_accuracy: 0.5287\n",
      "Epoch 11/15\n",
      "37500/37500 [==============================] - 12s 322us/sample - loss: 1.4413 - sparse_categorical_accuracy: 0.5446 - val_loss: 1.4594 - val_sparse_categorical_accuracy: 0.5359\n",
      "Epoch 12/15\n",
      "37500/37500 [==============================] - 12s 330us/sample - loss: 1.4170 - sparse_categorical_accuracy: 0.5522 - val_loss: 1.4401 - val_sparse_categorical_accuracy: 0.5448\n",
      "Epoch 13/15\n",
      "37500/37500 [==============================] - 12s 313us/sample - loss: 1.3996 - sparse_categorical_accuracy: 0.5619 - val_loss: 1.4214 - val_sparse_categorical_accuracy: 0.5522\n",
      "Epoch 14/15\n",
      "37500/37500 [==============================] - 12s 317us/sample - loss: 1.3780 - sparse_categorical_accuracy: 0.5673 - val_loss: 1.4076 - val_sparse_categorical_accuracy: 0.5580\n",
      "Epoch 15/15\n",
      "37500/37500 [==============================] - 13s 337us/sample - loss: 1.3578 - sparse_categorical_accuracy: 0.5783 - val_loss: 1.3893 - val_sparse_categorical_accuracy: 0.5646\n"
     ]
    },
    {
     "name": "stderr",
     "output_type": "stream",
     "text": [
      "\r",
      " 93%|█████████▎| 28/30 [1:17:48<06:09, 184.99s/it]"
     ]
    },
    {
     "name": "stdout",
     "output_type": "stream",
     "text": [
      "0.56456 0.0002461444544420848 0.00037491969000601324\n",
      "Train on 37500 samples, validate on 12500 samples\n",
      "Epoch 1/15\n",
      "37500/37500 [==============================] - 15s 397us/sample - loss: 2.2106 - sparse_categorical_accuracy: 0.3494 - val_loss: 1.9274 - val_sparse_categorical_accuracy: 0.4442\n",
      "Epoch 2/15\n",
      "37500/37500 [==============================] - 11s 299us/sample - loss: 1.8382 - sparse_categorical_accuracy: 0.4785 - val_loss: 1.7604 - val_sparse_categorical_accuracy: 0.5045\n",
      "Epoch 3/15\n",
      "37500/37500 [==============================] - 11s 297us/sample - loss: 1.7062 - sparse_categorical_accuracy: 0.5314 - val_loss: 1.6657 - val_sparse_categorical_accuracy: 0.5406\n",
      "Epoch 4/15\n",
      "37500/37500 [==============================] - 11s 304us/sample - loss: 1.6161 - sparse_categorical_accuracy: 0.5605 - val_loss: 1.6013 - val_sparse_categorical_accuracy: 0.5628\n",
      "Epoch 5/15\n",
      "37500/37500 [==============================] - 11s 290us/sample - loss: 1.5418 - sparse_categorical_accuracy: 0.5898 - val_loss: 1.5399 - val_sparse_categorical_accuracy: 0.5894\n",
      "Epoch 6/15\n",
      "37500/37500 [==============================] - 11s 289us/sample - loss: 1.4812 - sparse_categorical_accuracy: 0.6106 - val_loss: 1.4998 - val_sparse_categorical_accuracy: 0.5949\n",
      "Epoch 7/15\n",
      "37500/37500 [==============================] - 11s 294us/sample - loss: 1.4290 - sparse_categorical_accuracy: 0.6331 - val_loss: 1.4500 - val_sparse_categorical_accuracy: 0.6138\n",
      "Epoch 8/15\n",
      "37500/37500 [==============================] - 11s 298us/sample - loss: 1.3801 - sparse_categorical_accuracy: 0.6489 - val_loss: 1.4177 - val_sparse_categorical_accuracy: 0.6268\n",
      "Epoch 9/15\n",
      "37500/37500 [==============================] - 12s 331us/sample - loss: 1.3390 - sparse_categorical_accuracy: 0.6619 - val_loss: 1.3913 - val_sparse_categorical_accuracy: 0.6374\n",
      "Epoch 10/15\n",
      "37500/37500 [==============================] - 12s 314us/sample - loss: 1.3021 - sparse_categorical_accuracy: 0.6759 - val_loss: 1.3636 - val_sparse_categorical_accuracy: 0.6442\n",
      "Epoch 11/15\n",
      "37500/37500 [==============================] - 11s 306us/sample - loss: 1.2707 - sparse_categorical_accuracy: 0.6857 - val_loss: 1.3441 - val_sparse_categorical_accuracy: 0.6483\n",
      "Epoch 12/15\n",
      "37500/37500 [==============================] - 12s 322us/sample - loss: 1.2368 - sparse_categorical_accuracy: 0.6983 - val_loss: 1.3329 - val_sparse_categorical_accuracy: 0.6547\n",
      "Epoch 13/15\n",
      "37500/37500 [==============================] - 12s 326us/sample - loss: 1.2116 - sparse_categorical_accuracy: 0.7071 - val_loss: 1.3124 - val_sparse_categorical_accuracy: 0.6611\n",
      "Epoch 14/15\n",
      "37500/37500 [==============================] - 11s 294us/sample - loss: 1.1820 - sparse_categorical_accuracy: 0.7143 - val_loss: 1.3042 - val_sparse_categorical_accuracy: 0.6617\n",
      "Epoch 15/15\n",
      "37500/37500 [==============================] - 11s 290us/sample - loss: 1.1595 - sparse_categorical_accuracy: 0.7232 - val_loss: 1.2891 - val_sparse_categorical_accuracy: 0.6686\n"
     ]
    },
    {
     "name": "stderr",
     "output_type": "stream",
     "text": [
      "\r",
      " 97%|█████████▋| 29/30 [1:20:47<03:03, 183.39s/it]"
     ]
    },
    {
     "name": "stdout",
     "output_type": "stream",
     "text": [
      "0.66864 0.000979163128601274 0.0009731854103741257\n",
      "Train on 37500 samples, validate on 12500 samples\n",
      "Epoch 1/15\n",
      "37500/37500 [==============================] - 14s 374us/sample - loss: 3.0662 - sparse_categorical_accuracy: 0.2191 - val_loss: 2.8198 - val_sparse_categorical_accuracy: 0.3090\n",
      "Epoch 2/15\n",
      "37500/37500 [==============================] - 11s 294us/sample - loss: 2.7268 - sparse_categorical_accuracy: 0.3416 - val_loss: 2.6484 - val_sparse_categorical_accuracy: 0.3729\n",
      "Epoch 3/15\n",
      "37500/37500 [==============================] - 11s 292us/sample - loss: 2.6011 - sparse_categorical_accuracy: 0.3907 - val_loss: 2.5536 - val_sparse_categorical_accuracy: 0.4054\n",
      "Epoch 4/15\n",
      "37500/37500 [==============================] - 11s 294us/sample - loss: 2.5188 - sparse_categorical_accuracy: 0.4209 - val_loss: 2.4893 - val_sparse_categorical_accuracy: 0.4318\n",
      "Epoch 5/15\n",
      "37500/37500 [==============================] - 11s 290us/sample - loss: 2.4609 - sparse_categorical_accuracy: 0.4413 - val_loss: 2.4358 - val_sparse_categorical_accuracy: 0.4496\n",
      "Epoch 6/15\n",
      "37500/37500 [==============================] - 11s 293us/sample - loss: 2.4118 - sparse_categorical_accuracy: 0.4622 - val_loss: 2.3922 - val_sparse_categorical_accuracy: 0.4640\n",
      "Epoch 7/15\n",
      "37500/37500 [==============================] - 11s 294us/sample - loss: 2.3665 - sparse_categorical_accuracy: 0.4792 - val_loss: 2.3511 - val_sparse_categorical_accuracy: 0.4826\n",
      "Epoch 8/15\n",
      "37500/37500 [==============================] - 11s 291us/sample - loss: 2.3252 - sparse_categorical_accuracy: 0.4923 - val_loss: 2.3171 - val_sparse_categorical_accuracy: 0.4949\n",
      "Epoch 9/15\n",
      "37500/37500 [==============================] - 11s 294us/sample - loss: 2.2909 - sparse_categorical_accuracy: 0.5058 - val_loss: 2.2863 - val_sparse_categorical_accuracy: 0.5067\n",
      "Epoch 10/15\n",
      "37500/37500 [==============================] - 13s 340us/sample - loss: 2.2604 - sparse_categorical_accuracy: 0.5147 - val_loss: 2.2534 - val_sparse_categorical_accuracy: 0.5153\n",
      "Epoch 11/15\n",
      "37500/37500 [==============================] - 12s 323us/sample - loss: 2.2250 - sparse_categorical_accuracy: 0.5303 - val_loss: 2.2229 - val_sparse_categorical_accuracy: 0.5279\n",
      "Epoch 12/15\n",
      "37500/37500 [==============================] - 12s 313us/sample - loss: 2.1986 - sparse_categorical_accuracy: 0.5405 - val_loss: 2.1988 - val_sparse_categorical_accuracy: 0.5386\n",
      "Epoch 13/15\n",
      "37500/37500 [==============================] - 12s 317us/sample - loss: 2.1753 - sparse_categorical_accuracy: 0.5459 - val_loss: 2.1745 - val_sparse_categorical_accuracy: 0.5411\n",
      "Epoch 14/15\n",
      "37500/37500 [==============================] - 12s 315us/sample - loss: 2.1459 - sparse_categorical_accuracy: 0.5611 - val_loss: 2.1534 - val_sparse_categorical_accuracy: 0.5515\n",
      "Epoch 15/15\n",
      "37500/37500 [==============================] - 12s 319us/sample - loss: 2.1240 - sparse_categorical_accuracy: 0.5655 - val_loss: 2.1318 - val_sparse_categorical_accuracy: 0.5583\n"
     ]
    },
    {
     "name": "stderr",
     "output_type": "stream",
     "text": [
      "100%|██████████| 30/30 [1:23:46<00:00, 167.57s/it]"
     ]
    },
    {
     "name": "stdout",
     "output_type": "stream",
     "text": [
      "0.55832 0.00019858628539628267 0.002412880216047106\n"
     ]
    },
    {
     "name": "stderr",
     "output_type": "stream",
     "text": [
      "\n"
     ]
    }
   ],
   "source": [
    "val_acc=[]\n",
    "lrs=[]\n",
    "l2_regs=[]\n",
    "for i in tqdm(range(30)):\n",
    "    lr = 10**np.random.uniform(-3,-4)\n",
    "    l2_reg = 10**np.random.uniform(-6, -2)\n",
    "    model = create_model(num_classes,l2_reg, False, True)\n",
    "    model.compile(optimizer=optimizers.SGD(learning_rate=lr),loss='sparse_categorical_crossentropy',metrics=['sparse_categorical_accuracy'])\n",
    "    history = model.fit(X_train,y_train,batch_size=BATCH_SIZE,epochs=15, verbose=1,validation_data=(X_val,y_val))\n",
    "    val_acc.append(history.history['val_sparse_categorical_accuracy'][-1])\n",
    "    lrs.append(lr)\n",
    "    l2_regs.append(l2_reg)\n",
    "    print(history.history['val_sparse_categorical_accuracy'][-1], lr, l2_reg)"
   ]
  },
  {
   "cell_type": "code",
   "execution_count": 36,
   "metadata": {
    "scrolled": true
   },
   "outputs": [],
   "source": [
    "logs=[val_acc,lrs, l2_regs]\n",
    "logs=np.array(logs)\n",
    "# logs=np.sort(logs,axis=0)"
   ]
  },
  {
   "cell_type": "code",
   "execution_count": 37,
   "metadata": {
    "scrolled": true
   },
   "outputs": [
    {
     "data": {
      "text/plain": [
       "array([24,  4, 28, 18], dtype=int64)"
      ]
     },
     "execution_count": 37,
     "metadata": {},
     "output_type": "execute_result"
    }
   ],
   "source": [
    "top4=np.argsort(logs[0,:])[::-1][:4]\n",
    "top4"
   ]
  },
  {
   "cell_type": "code",
   "execution_count": 38,
   "metadata": {
    "scrolled": true
   },
   "outputs": [
    {
     "data": {
      "text/plain": [
       "array([[6.71999991e-01, 6.70719981e-01, 6.68640018e-01, 6.66400015e-01],\n",
       "       [8.06779116e-04, 8.78327777e-04, 9.79163129e-04, 9.32925887e-04],\n",
       "       [3.60001650e-03, 3.58642832e-05, 9.73185410e-04, 1.34876536e-04]])"
      ]
     },
     "execution_count": 38,
     "metadata": {},
     "output_type": "execute_result"
    }
   ],
   "source": [
    "logs[:,top4]"
   ]
  },
  {
   "cell_type": "code",
   "execution_count": 39,
   "metadata": {
    "scrolled": true
   },
   "outputs": [
    {
     "data": {
      "text/plain": [
       "(0.0008067791162288073, 0.0036000165031205254)"
      ]
     },
     "execution_count": 39,
     "metadata": {},
     "output_type": "execute_result"
    }
   ],
   "source": [
    "lr, l2_reg = logs[1,top4[0]],logs[2,top4[0]]\n",
    "lr, l2_reg"
   ]
  },
  {
   "cell_type": "code",
   "execution_count": 40,
   "metadata": {
    "scrolled": false
   },
   "outputs": [
    {
     "data": {
      "text/plain": [
       "(0.0008067791162288073, 0.0036000165031205254)"
      ]
     },
     "execution_count": 40,
     "metadata": {},
     "output_type": "execute_result"
    }
   ],
   "source": [
    "lr_tuned, l2_reg_tuned = lr, l2_reg\n",
    "lr_tuned, l2_reg_tuned"
   ]
  },
  {
   "cell_type": "code",
   "execution_count": 41,
   "metadata": {
    "scrolled": true
   },
   "outputs": [
    {
     "name": "stdout",
     "output_type": "stream",
     "text": [
      "Train on 37500 samples, validate on 12500 samples\n",
      "Epoch 1/50\n",
      "37500/37500 [==============================] - 15s 395us/sample - loss: 3.1727 - sparse_categorical_accuracy: 0.3412 - val_loss: 2.9096 - val_sparse_categorical_accuracy: 0.4375\n",
      "Epoch 2/50\n",
      "37500/37500 [==============================] - 12s 319us/sample - loss: 2.8167 - sparse_categorical_accuracy: 0.4676 - val_loss: 2.7359 - val_sparse_categorical_accuracy: 0.4950\n",
      "Epoch 3/50\n",
      "37500/37500 [==============================] - 12s 316us/sample - loss: 2.6748 - sparse_categorical_accuracy: 0.5108 - val_loss: 2.6290 - val_sparse_categorical_accuracy: 0.5270\n",
      "Epoch 4/50\n",
      "37500/37500 [==============================] - 12s 317us/sample - loss: 2.5663 - sparse_categorical_accuracy: 0.5490 - val_loss: 2.5405 - val_sparse_categorical_accuracy: 0.5525\n",
      "Epoch 5/50\n",
      "37500/37500 [==============================] - 12s 317us/sample - loss: 2.4827 - sparse_categorical_accuracy: 0.5739 - val_loss: 2.4711 - val_sparse_categorical_accuracy: 0.5712\n",
      "Epoch 6/50\n",
      "37500/37500 [==============================] - 12s 316us/sample - loss: 2.4096 - sparse_categorical_accuracy: 0.5933 - val_loss: 2.4088 - val_sparse_categorical_accuracy: 0.5883\n",
      "Epoch 7/50\n",
      "37500/37500 [==============================] - 12s 317us/sample - loss: 2.3402 - sparse_categorical_accuracy: 0.6129 - val_loss: 2.3509 - val_sparse_categorical_accuracy: 0.6018\n",
      "Epoch 8/50\n",
      "37500/37500 [==============================] - 12s 316us/sample - loss: 2.2772 - sparse_categorical_accuracy: 0.6281 - val_loss: 2.3051 - val_sparse_categorical_accuracy: 0.6152\n",
      "Epoch 9/50\n",
      "37500/37500 [==============================] - 12s 315us/sample - loss: 2.2206 - sparse_categorical_accuracy: 0.6445 - val_loss: 2.2593 - val_sparse_categorical_accuracy: 0.6265\n",
      "Epoch 10/50\n",
      "37500/37500 [==============================] - 12s 313us/sample - loss: 2.1697 - sparse_categorical_accuracy: 0.6574 - val_loss: 2.2217 - val_sparse_categorical_accuracy: 0.6337\n",
      "Epoch 11/50\n",
      "37500/37500 [==============================] - 12s 315us/sample - loss: 2.1231 - sparse_categorical_accuracy: 0.6677 - val_loss: 2.1920 - val_sparse_categorical_accuracy: 0.6374\n",
      "Epoch 12/50\n",
      "37500/37500 [==============================] - 12s 316us/sample - loss: 2.0769 - sparse_categorical_accuracy: 0.6825 - val_loss: 2.1472 - val_sparse_categorical_accuracy: 0.6497\n",
      "Epoch 13/50\n",
      "37500/37500 [==============================] - 12s 316us/sample - loss: 2.0361 - sparse_categorical_accuracy: 0.6897 - val_loss: 2.1098 - val_sparse_categorical_accuracy: 0.6579\n",
      "Epoch 14/50\n",
      "37500/37500 [==============================] - 12s 313us/sample - loss: 1.9936 - sparse_categorical_accuracy: 0.7008 - val_loss: 2.0829 - val_sparse_categorical_accuracy: 0.6615\n",
      "Epoch 15/50\n",
      "37500/37500 [==============================] - 12s 314us/sample - loss: 1.9559 - sparse_categorical_accuracy: 0.7114 - val_loss: 2.0746 - val_sparse_categorical_accuracy: 0.6567\n",
      "Epoch 16/50\n",
      "37500/37500 [==============================] - 12s 317us/sample - loss: 1.9179 - sparse_categorical_accuracy: 0.7169 - val_loss: 2.0369 - val_sparse_categorical_accuracy: 0.6674\n",
      "Epoch 17/50\n",
      "37500/37500 [==============================] - 12s 317us/sample - loss: 1.8797 - sparse_categorical_accuracy: 0.7264 - val_loss: 1.9958 - val_sparse_categorical_accuracy: 0.6770\n",
      "Epoch 18/50\n",
      "37500/37500 [==============================] - 12s 312us/sample - loss: 1.8437 - sparse_categorical_accuracy: 0.7354 - val_loss: 1.9720 - val_sparse_categorical_accuracy: 0.6818\n",
      "Epoch 19/50\n",
      "37500/37500 [==============================] - 12s 318us/sample - loss: 1.8137 - sparse_categorical_accuracy: 0.7395 - val_loss: 1.9461 - val_sparse_categorical_accuracy: 0.6842\n",
      "Epoch 20/50\n",
      "37500/37500 [==============================] - 12s 314us/sample - loss: 1.7727 - sparse_categorical_accuracy: 0.7526 - val_loss: 1.9296 - val_sparse_categorical_accuracy: 0.6850\n",
      "Epoch 21/50\n",
      "37500/37500 [==============================] - 12s 314us/sample - loss: 1.7433 - sparse_categorical_accuracy: 0.7585 - val_loss: 1.9182 - val_sparse_categorical_accuracy: 0.6851\n",
      "Epoch 22/50\n",
      "37500/37500 [==============================] - 12s 311us/sample - loss: 1.7110 - sparse_categorical_accuracy: 0.7643 - val_loss: 1.8806 - val_sparse_categorical_accuracy: 0.6947\n",
      "Epoch 23/50\n",
      "37500/37500 [==============================] - 12s 313us/sample - loss: 1.6804 - sparse_categorical_accuracy: 0.7737 - val_loss: 1.8756 - val_sparse_categorical_accuracy: 0.6910\n",
      "Epoch 24/50\n",
      "37500/37500 [==============================] - 12s 312us/sample - loss: 1.6515 - sparse_categorical_accuracy: 0.7747 - val_loss: 1.8503 - val_sparse_categorical_accuracy: 0.6948\n",
      "Epoch 25/50\n",
      "37500/37500 [==============================] - 12s 314us/sample - loss: 1.6181 - sparse_categorical_accuracy: 0.7853 - val_loss: 1.8477 - val_sparse_categorical_accuracy: 0.6892\n",
      "Epoch 26/50\n",
      "37500/37500 [==============================] - 12s 312us/sample - loss: 1.5883 - sparse_categorical_accuracy: 0.7892 - val_loss: 1.8081 - val_sparse_categorical_accuracy: 0.7033\n",
      "Epoch 27/50\n",
      "37500/37500 [==============================] - 12s 315us/sample - loss: 1.5634 - sparse_categorical_accuracy: 0.7946 - val_loss: 1.8007 - val_sparse_categorical_accuracy: 0.6976\n",
      "Epoch 28/50\n",
      "37500/37500 [==============================] - 12s 312us/sample - loss: 1.5261 - sparse_categorical_accuracy: 0.8045 - val_loss: 1.7840 - val_sparse_categorical_accuracy: 0.7018\n",
      "Epoch 29/50\n",
      "37500/37500 [==============================] - 12s 310us/sample - loss: 1.5022 - sparse_categorical_accuracy: 0.8104 - val_loss: 1.7647 - val_sparse_categorical_accuracy: 0.7018\n",
      "Epoch 30/50\n",
      "37500/37500 [==============================] - 12s 313us/sample - loss: 1.4736 - sparse_categorical_accuracy: 0.8151 - val_loss: 1.7499 - val_sparse_categorical_accuracy: 0.7037\n",
      "Epoch 31/50\n",
      "37500/37500 [==============================] - 12s 313us/sample - loss: 1.4498 - sparse_categorical_accuracy: 0.8196 - val_loss: 1.7407 - val_sparse_categorical_accuracy: 0.7013\n",
      "Epoch 32/50\n",
      "37500/37500 [==============================] - 12s 310us/sample - loss: 1.4205 - sparse_categorical_accuracy: 0.8276 - val_loss: 1.7321 - val_sparse_categorical_accuracy: 0.7039\n",
      "Epoch 33/50\n",
      "37500/37500 [==============================] - 12s 311us/sample - loss: 1.3948 - sparse_categorical_accuracy: 0.8315 - val_loss: 1.7244 - val_sparse_categorical_accuracy: 0.7019\n",
      "Epoch 34/50\n",
      "37500/37500 [==============================] - 12s 311us/sample - loss: 1.3649 - sparse_categorical_accuracy: 0.8375 - val_loss: 1.6973 - val_sparse_categorical_accuracy: 0.7076\n",
      "Epoch 35/50\n",
      "37500/37500 [==============================] - 12s 312us/sample - loss: 1.3394 - sparse_categorical_accuracy: 0.8454 - val_loss: 1.6888 - val_sparse_categorical_accuracy: 0.7074\n",
      "Epoch 36/50\n",
      "37500/37500 [==============================] - 12s 313us/sample - loss: 1.3159 - sparse_categorical_accuracy: 0.8488 - val_loss: 1.6849 - val_sparse_categorical_accuracy: 0.7034\n",
      "Epoch 37/50\n",
      "37500/37500 [==============================] - 12s 309us/sample - loss: 1.2909 - sparse_categorical_accuracy: 0.8544 - val_loss: 1.6677 - val_sparse_categorical_accuracy: 0.7075\n",
      "Epoch 38/50\n",
      "37500/37500 [==============================] - 12s 313us/sample - loss: 1.2639 - sparse_categorical_accuracy: 0.8628 - val_loss: 1.6515 - val_sparse_categorical_accuracy: 0.7112\n",
      "Epoch 39/50\n",
      "37500/37500 [==============================] - 12s 314us/sample - loss: 1.2422 - sparse_categorical_accuracy: 0.8647 - val_loss: 1.6407 - val_sparse_categorical_accuracy: 0.7083\n",
      "Epoch 40/50\n",
      "37500/37500 [==============================] - 12s 311us/sample - loss: 1.2152 - sparse_categorical_accuracy: 0.8731 - val_loss: 1.6354 - val_sparse_categorical_accuracy: 0.7062\n",
      "Epoch 41/50\n",
      "37500/37500 [==============================] - 12s 312us/sample - loss: 1.1872 - sparse_categorical_accuracy: 0.8794 - val_loss: 1.6437 - val_sparse_categorical_accuracy: 0.7058\n",
      "Epoch 42/50\n",
      "37500/37500 [==============================] - 12s 312us/sample - loss: 1.1682 - sparse_categorical_accuracy: 0.8825 - val_loss: 1.6406 - val_sparse_categorical_accuracy: 0.7053\n",
      "Epoch 43/50\n",
      "37500/37500 [==============================] - 14s 373us/sample - loss: 1.1473 - sparse_categorical_accuracy: 0.8877 - val_loss: 1.6054 - val_sparse_categorical_accuracy: 0.7125\n"
     ]
    },
    {
     "name": "stdout",
     "output_type": "stream",
     "text": [
      "Epoch 44/50\n",
      "37500/37500 [==============================] - 13s 352us/sample - loss: 1.1231 - sparse_categorical_accuracy: 0.8924 - val_loss: 1.5942 - val_sparse_categorical_accuracy: 0.7135\n",
      "Epoch 45/50\n",
      "37500/37500 [==============================] - 12s 311us/sample - loss: 1.0997 - sparse_categorical_accuracy: 0.8970 - val_loss: 1.6009 - val_sparse_categorical_accuracy: 0.7093\n",
      "Epoch 46/50\n",
      "37500/37500 [==============================] - 12s 315us/sample - loss: 1.0814 - sparse_categorical_accuracy: 0.9023 - val_loss: 1.5911 - val_sparse_categorical_accuracy: 0.7083\n",
      "Epoch 47/50\n",
      "37500/37500 [==============================] - 12s 314us/sample - loss: 1.0591 - sparse_categorical_accuracy: 0.9056 - val_loss: 1.5666 - val_sparse_categorical_accuracy: 0.7164\n",
      "Epoch 48/50\n",
      "37500/37500 [==============================] - 12s 318us/sample - loss: 1.0381 - sparse_categorical_accuracy: 0.9114 - val_loss: 1.5778 - val_sparse_categorical_accuracy: 0.7085\n",
      "Epoch 49/50\n",
      "37500/37500 [==============================] - 12s 313us/sample - loss: 1.0186 - sparse_categorical_accuracy: 0.9150 - val_loss: 1.5787 - val_sparse_categorical_accuracy: 0.7062\n",
      "Epoch 50/50\n",
      "37500/37500 [==============================] - 12s 314us/sample - loss: 0.9952 - sparse_categorical_accuracy: 0.9193 - val_loss: 1.5696 - val_sparse_categorical_accuracy: 0.7082\n"
     ]
    }
   ],
   "source": [
    "from tensorflow.keras.callbacks import EarlyStopping\n",
    "es = EarlyStopping(monitor='val_loss', mode='min', verbose=1, patience=10)\n",
    "model = create_model(num_classes,l2_reg_tuned, False, True)\n",
    "model.compile(optimizer=optimizers.SGD(learning_rate=lr_tuned),loss='sparse_categorical_crossentropy',metrics=['sparse_categorical_accuracy'])\n",
    "history = model.fit(X_train,y_train,batch_size=BATCH_SIZE,epochs=50, verbose=1,validation_data=(X_val,y_val), callbacks=[es])"
   ]
  },
  {
   "cell_type": "code",
   "execution_count": 42,
   "metadata": {},
   "outputs": [
    {
     "data": {
      "image/png": "[encoded data removed]",
      "text/plain": [
       "<Figure size 432x288 with 1 Axes>"
      ]
     },
     "metadata": {
      "needs_background": "light"
     },
     "output_type": "display_data"
    },
    {
     "data": {
      "image/png": "[encoded data removed]",
      "text/plain": [
       "<Figure size 432x288 with 1 Axes>"
      ]
     },
     "metadata": {
      "needs_background": "light"
     },
     "output_type": "display_data"
    }
   ],
   "source": [
    "plot_curves(history)"
   ]
  },
  {
   "cell_type": "code",
   "execution_count": 43,
   "metadata": {
    "scrolled": false
   },
   "outputs": [
    {
     "name": "stdout",
     "output_type": "stream",
     "text": [
      "              precision    recall  f1-score   support\n",
      "\n",
      "           0       0.73      0.71      0.72      1024\n",
      "           1       0.84      0.76      0.80      1095\n",
      "           2       0.59      0.62      0.61       955\n",
      "           3       0.57      0.48      0.52      1190\n",
      "           4       0.61      0.70      0.65       870\n",
      "           5       0.65      0.56      0.60      1161\n",
      "           6       0.75      0.75      0.75      1003\n",
      "           7       0.74      0.76      0.75       965\n",
      "           8       0.74      0.88      0.81       848\n",
      "           9       0.74      0.84      0.79       889\n",
      "\n",
      "    accuracy                           0.70     10000\n",
      "   macro avg       0.70      0.71      0.70     10000\n",
      "weighted avg       0.70      0.70      0.69     10000\n",
      "\n",
      "0.6969\n"
     ]
    },
    {
     "data": {
      "image/png": "[encoded data removed]",
      "text/plain": [
       "<Figure size 648x648 with 1 Axes>"
      ]
     },
     "metadata": {
      "needs_background": "light"
     },
     "output_type": "display_data"
    }
   ],
   "source": [
    "y_pred = model.predict_classes(X_test)\n",
    "mat = confusion_matrix(y_test,y_pred)\n",
    "plot_confusion_matrix(mat,figsize=(9,9), show_normed=True)\n",
    "print(classification_report(y_pred, y_test))\n",
    "print(accuracy_score(y_pred, y_test))"
   ]
  },
  {
   "cell_type": "markdown",
   "metadata": {},
   "source": [
    "### Check the effect of Data Preprocessing on the training. \n",
    "Repeated the procedure with the preprocess flag changed to false.  "
   ]
  },
  {
   "cell_type": "code",
   "execution_count": 44,
   "metadata": {
    "scrolled": true
   },
   "outputs": [],
   "source": [
    "from tensorflow.keras.datasets import cifar10\n",
    "(X_train, y_train), (X_test, y_test) = cifar10.load_data()\n",
    "#conv to float\n",
    "(X_train, y_train), (X_test, y_test)=(X_train.astype('float64'), y_train), (X_test.astype('float64'), y_test)\n",
    "#class_names for cifar\n",
    "class_name = ['airplane','automobile','bird','cat','deer','dog','frog','horse','ship','truck']\n",
    "preprocess_flag=False"
   ]
  },
  {
   "cell_type": "code",
   "execution_count": 45,
   "metadata": {
    "scrolled": true
   },
   "outputs": [],
   "source": [
    "if preprocess_flag==True:\n",
    "    X_train, X_test=preprocess_data(X_train, X_test)"
   ]
  },
  {
   "cell_type": "code",
   "execution_count": 46,
   "metadata": {
    "scrolled": true
   },
   "outputs": [],
   "source": [
    "#model hyperparam\n",
    "LEARNING_RATE=1e-4\n",
    "EPOCHS=10\n",
    "L2_REG=0"
   ]
  },
  {
   "cell_type": "code",
   "execution_count": 51,
   "metadata": {
    "scrolled": true
   },
   "outputs": [
    {
     "name": "stdout",
     "output_type": "stream",
     "text": [
      "Model: \"sequential_121\"\n",
      "_________________________________________________________________\n",
      "Layer (type)                 Output Shape              Param #   \n",
      "=================================================================\n",
      "conv2d_363 (Conv2D)          (None, 32, 32, 32)        896       \n",
      "_________________________________________________________________\n",
      "max_pooling2d_363 (MaxPoolin (None, 16, 16, 32)        0         \n",
      "_________________________________________________________________\n",
      "conv2d_364 (Conv2D)          (None, 16, 16, 64)        18496     \n",
      "_________________________________________________________________\n",
      "max_pooling2d_364 (MaxPoolin (None, 8, 8, 64)          0         \n",
      "_________________________________________________________________\n",
      "conv2d_365 (Conv2D)          (None, 8, 8, 128)         73856     \n",
      "_________________________________________________________________\n",
      "max_pooling2d_365 (MaxPoolin (None, 4, 4, 128)         0         \n",
      "_________________________________________________________________\n",
      "flatten_121 (Flatten)        (None, 2048)              0         \n",
      "_________________________________________________________________\n",
      "dense_242 (Dense)            (None, 128)               262272    \n",
      "_________________________________________________________________\n",
      "dense_243 (Dense)            (None, 10)                1290      \n",
      "=================================================================\n",
      "Total params: 356,810\n",
      "Trainable params: 356,810\n",
      "Non-trainable params: 0\n",
      "_________________________________________________________________\n"
     ]
    }
   ],
   "source": [
    "model=create_model(num_classes,l2_reg_tuned)\n",
    "model.summary()"
   ]
  }
 ],
 "metadata": {
  "colab": {
   "collapsed_sections": [],
   "name": "NN_competition.ipynb",
   "provenance": []
  },
  "kernelspec": {
   "display_name": "Python 3",
   "language": "python",
   "name": "python3"
  },
  "language_info": {
   "codemirror_mode": {
    "name": "ipython",
    "version": 3
   },
   "file_extension": ".py",
   "mimetype": "text/x-python",
   "name": "python",
   "nbconvert_exporter": "python",
   "pygments_lexer": "ipython3",
   "version": "3.6.10"
  }
 },
 "nbformat": 4,
 "nbformat_minor": 1
}
