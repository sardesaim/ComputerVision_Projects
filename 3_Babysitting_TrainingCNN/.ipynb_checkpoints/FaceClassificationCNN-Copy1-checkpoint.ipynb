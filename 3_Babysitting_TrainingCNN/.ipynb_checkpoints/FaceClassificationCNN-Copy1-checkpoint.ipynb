{
 "cells": [
  {
   "cell_type": "markdown",
   "metadata": {},
   "source": [
    "# ECE 763 - Computer Vision - Project 03\n",
    "## Babysitting the training of a Network - On Face Data.\n",
    "\n",
    "### mmsardes "
   ]
  },
  {
   "cell_type": "markdown",
   "metadata": {},
   "source": [
    "#### Import libraries\n",
    "<p>Keras Sequential API was used to build the network. The CIFAR datasets was downloaded from keras datasets. \n",
    "Babysitting the training of a DNN is important as the final network performance depends a lot on how you set the hyper-parameters, how you initialize the weights, for how long you train the network etc. You don't want to over-train, or over-fit the model as it would lead to loss of generalization. General steps followed while training a DNN are \n",
    "1. Pre-process the Data and select Data Augmentation schemes. \n",
    "2. Choose architecture of the network \n",
    "3. Double check if the loss is reasonable. \n",
    "4. Hyperparameter tuning \n",
    "    </p>\n"
   ]
  },
  {
   "cell_type": "code",
   "execution_count": 72,
   "metadata": {
    "colab": {},
    "colab_type": "code",
    "id": "BF8yKHprcr4W"
   },
   "outputs": [],
   "source": [
    "import tensorflow as tf\n",
    "import matplotlib.pyplot as plt\n",
    "from tensorflow.keras import Sequential\n",
    "from tensorflow.keras.layers import Flatten, Dense, Conv2D, MaxPool2D, Dropout, Reshape, BatchNormalization, Activation\n",
    "from tensorflow.keras import optimizers, regularizers, initializers\n",
    "from tensorflow.keras.callbacks import ModelCheckpoint, EarlyStopping, LearningRateScheduler\n",
    "\n",
    "import numpy as np\n",
    "import matplotlib.pyplot as plt\n",
    "import cv2"
   ]
  },
  {
   "cell_type": "code",
   "execution_count": 2,
   "metadata": {
    "colab": {
     "base_uri": "https://localhost:8080/",
     "height": 34
    },
    "colab_type": "code",
    "id": "3AS7DA-qczKs",
    "outputId": "3c4270d1-3c35-4b69-8bf6-61e627fac5da"
   },
   "outputs": [],
   "source": [
    "from DataHandling import readDumpImages\n",
    "from tqdm import tqdm "
   ]
  },
  {
   "cell_type": "markdown",
   "metadata": {},
   "source": [
    "#### Import and preprocess the data. \n",
    "<p> Preprocessing scheme was standard scaling by subtracting mean and dividing by the standard deviation. A basic preprocessing operation is done by subtracting the mean and dividing by the standard deviation over the dataset. This is basically zero centering the data. This makes the model less sensitive to small changes in weights and makes it easier to optimize. It also reduces the effect of outliers to some extent as the range of the data is restricted. </p>"
   ]
  },
  {
   "cell_type": "code",
   "execution_count": 3,
   "metadata": {
    "colab": {},
    "colab_type": "code",
    "id": "kBkg8jjMc7UB"
   },
   "outputs": [],
   "source": [
    "trainFace, trainNonFace, testFace, testNonFace = readDumpImages()"
   ]
  },
  {
   "cell_type": "code",
   "execution_count": 4,
   "metadata": {},
   "outputs": [
    {
     "data": {
      "text/plain": [
       "<matplotlib.image.AxesImage at 0x2aee0de7940>"
      ]
     },
     "execution_count": 4,
     "metadata": {},
     "output_type": "execute_result"
    },
    {
     "data": {
      "image/png": "[encoded data removed]",
      "text/plain": [
       "<Figure size 432x288 with 1 Axes>"
      ]
     },
     "metadata": {
      "needs_background": "light"
     },
     "output_type": "display_data"
    }
   ],
   "source": [
    "trainFace.shape\n",
    "X_train=np.vstack((trainFace, trainNonFace))\n",
    "y_train=np.hstack((np.array([1 for i in range(trainFace.shape[0])]),np.array([0 for i in range(trainFace.shape[0])])))\n",
    "\n",
    "X_test=np.vstack((testFace, testNonFace))\n",
    "y_test=np.hstack((np.array([1 for i in range(testFace.shape[0])]),np.array([0 for i in range(testFace.shape[0])])))\n",
    "X_test.shape\n",
    "plt.imshow(cv2.cvtColor(X_test[0], cv2.COLOR_BGR2RGB))"
   ]
  },
  {
   "cell_type": "code",
   "execution_count": 5,
   "metadata": {},
   "outputs": [
    {
     "name": "stderr",
     "output_type": "stream",
     "text": [
      "C:\\Users\\sarde\\Anaconda3\\envs\\tensorflow\\lib\\importlib\\_bootstrap.py:219: RuntimeWarning: numpy.ufunc size changed, may indicate binary incompatibility. Expected 192 from C header, got 216 from PyObject\n",
      "  return f(*args, **kwds)\n",
      "C:\\Users\\sarde\\Anaconda3\\envs\\tensorflow\\lib\\importlib\\_bootstrap.py:219: RuntimeWarning: numpy.ufunc size changed, may indicate binary incompatibility. Expected 192 from C header, got 216 from PyObject\n",
      "  return f(*args, **kwds)\n",
      "C:\\Users\\sarde\\Anaconda3\\envs\\tensorflow\\lib\\importlib\\_bootstrap.py:219: RuntimeWarning: numpy.ufunc size changed, may indicate binary incompatibility. Expected 192 from C header, got 216 from PyObject\n",
      "  return f(*args, **kwds)\n",
      "C:\\Users\\sarde\\Anaconda3\\envs\\tensorflow\\lib\\importlib\\_bootstrap.py:219: RuntimeWarning: numpy.ufunc size changed, may indicate binary incompatibility. Expected 192 from C header, got 216 from PyObject\n",
      "  return f(*args, **kwds)\n"
     ]
    },
    {
     "data": {
      "text/plain": [
       "((2000, 60, 60, 3), (2000,), array([0, 1, 0, ..., 1, 0, 0]))"
      ]
     },
     "execution_count": 5,
     "metadata": {},
     "output_type": "execute_result"
    }
   ],
   "source": [
    "from sklearn.utils import shuffle\n",
    "from sklearn.model_selection import train_test_split\n",
    "X_train,y_train=shuffle(X_train, y_train, random_state=42)\n",
    "X_test,y_test=shuffle(X_test, y_test, random_state=42)\n",
    "X_train.shape, y_train.shape, y_train"
   ]
  },
  {
   "cell_type": "code",
   "execution_count": 6,
   "metadata": {},
   "outputs": [],
   "source": [
    "(X_train, y_train), (X_test, y_test)=(X_train.astype('float64'), y_train), (X_test.astype('float64'), y_test)"
   ]
  },
  {
   "cell_type": "code",
   "execution_count": 7,
   "metadata": {
    "colab": {},
    "colab_type": "code",
    "id": "1UzqR4EedaGp"
   },
   "outputs": [],
   "source": [
    "class_name = ['face','nonface']\n",
    "num_classes=len(class_name)"
   ]
  },
  {
   "cell_type": "code",
   "execution_count": 8,
   "metadata": {
    "colab": {},
    "colab_type": "code",
    "id": "YWzLGmnfddGv"
   },
   "outputs": [],
   "source": [
    "def preprocess_data(X_train, X_test):\n",
    "    X_train-=np.mean(X_train,axis=0)\n",
    "    X_test-=np.mean(X_test,axis=0)\n",
    "    X_train/=np.std(X_train,axis=0)\n",
    "    X_test/=np.std(X_test,axis=0)\n",
    "    return X_train, X_test\n",
    "X_train, X_test=preprocess_data(X_train, X_test)"
   ]
  },
  {
   "cell_type": "code",
   "execution_count": 9,
   "metadata": {},
   "outputs": [],
   "source": [
    "X_train, X_val, y_train, y_val = train_test_split(X_train, y_train, test_size=0.2, random_state=42)"
   ]
  },
  {
   "cell_type": "code",
   "execution_count": 10,
   "metadata": {},
   "outputs": [],
   "source": [
    "iRows,iCols=X_train[0].shape[0],X_train[0].shape[1]"
   ]
  },
  {
   "cell_type": "markdown",
   "metadata": {
    "colab_type": "text",
    "id": "W4JqLMAYdkDC"
   },
   "source": [
    "### Build the CNN \n",
    "<p> Here I have chosen a basic CNN with 3 layers. 32, 64, 128 filters in the three layers. All of them being 3x3 filters with a stride of 1. All the convolutional blocks are followed by 2x2 maxpool blocks. In the end the result is flattened and connected to a FCN with one hidden layer with 128 neurons and a softmax layer with 2 units as there are 2 classes in CIFAR. This can also be replaced by an output layer with a single neuron and sigmoid activation. In this case, we will need to use Binary Cross entropy loss. All the layers have 'relu' activations. The model is created using the Sequential API in Keras. Conditions are added to tweak the network if batchnormalization and dropout is desired.</p> "
   ]
  },
  {
   "cell_type": "code",
   "execution_count": 11,
   "metadata": {},
   "outputs": [],
   "source": [
    "#model hyperparam\n",
    "LEARNING_RATE=1e-2\n",
    "EPOCHS=10\n",
    "L2_REG=1e-3\n",
    "BATCH_SIZE=32"
   ]
  },
  {
   "cell_type": "code",
   "execution_count": 14,
   "metadata": {
    "colab": {},
    "colab_type": "code",
    "id": "IFCl2SqudvNa",
    "scrolled": true
   },
   "outputs": [],
   "source": [
    "def create_model(num_clases,L2_REG, drop=False, bnorm=False, init='glorot_uniform'):\n",
    "    model = Sequential()\n",
    "    if init=='he_uniform':\n",
    "        if drop==True and bnorm==False:\n",
    "            model.add(Conv2D(filters=32, kernel_size=(3,3), padding= 'same',kernel_initializer=init, activation='relu',input_shape = (iRows, iCols,3)))\n",
    "            model.add(MaxPool2D(pool_size=(2,2), strides = 2, padding='same'))\n",
    "            model.add(Dropout(DROPOUT))\n",
    "            model.add(Conv2D(filters=64, kernel_size=(3,3), padding= 'same', activation='relu',kernel_initializer=init,kernel_regularizer=regularizers.l2(L2_REG), bias_regularizer=regularizers.l2(L2_REG)))\n",
    "            model.add(MaxPool2D(pool_size=(2,2), strides = 2, padding='same'))\n",
    "\n",
    "            model.add(Conv2D(filters=128, kernel_size=(3,3), padding= 'same', activation='relu', kernel_initializer=init,kernel_regularizer=regularizers.l2(L2_REG), bias_regularizer=regularizers.l2(L2_REG)))\n",
    "            model.add(MaxPool2D(pool_size=(2,2), strides = 2, padding='same'))\n",
    "            model.add(Dropout(DROPOUT))\n",
    "\n",
    "            model.add(Flatten())\n",
    "            model.add(Dense(units = 128, activation='relu', kernel_initializer=init,kernel_regularizer=regularizers.l2(L2_REG), bias_regularizer=regularizers.l2(L2_REG)))\n",
    "            model.add(Dense(units=num_classes,kernel_initializer=init,activation='softmax'))\n",
    "        elif bnorm==True and drop == False:\n",
    "            model.add(Conv2D(filters=32, kernel_size=(3,3),kernel_initializer=init, padding= 'same',input_shape = (iRows, iCols,3)))\n",
    "            model.add(BatchNormalization())\n",
    "            model.add(Activation('relu'))\n",
    "            model.add(MaxPool2D(pool_size=(2,2), strides = 2, padding='same'))\n",
    "\n",
    "            model.add(Conv2D(filters=64, kernel_size=(3,3),kernel_initializer=init, padding= 'same', kernel_regularizer=regularizers.l2(L2_REG), use_bias=False))\n",
    "            model.add(BatchNormalization())\n",
    "            model.add(Activation('relu'))\n",
    "            model.add(MaxPool2D(pool_size=(2,2), strides = 2, padding='same'))\n",
    "\n",
    "            model.add(Conv2D(filters=128, kernel_size=(3,3), padding= 'same',kernel_initializer=init, kernel_regularizer=regularizers.l2(L2_REG), use_bias=False))\n",
    "            model.add(BatchNormalization())\n",
    "            model.add(Activation('relu'))\n",
    "            model.add(MaxPool2D(pool_size=(2,2), strides = 2, kernel_initializer=init,padding='same'))\n",
    "\n",
    "            model.add(Flatten())\n",
    "            model.add(Dense(units = 128,kernel_initializer=init, kernel_regularizer=regularizers.l2(L2_REG), use_bias=False))\n",
    "            model.add(BatchNormalization())\n",
    "            model.add(Activation('relu'))\n",
    "            model.add(Dense(units=num_classes,kernel_initializer=init,activation='softmax'))\n",
    "        else:\n",
    "            model.add(Conv2D(filters=32, kernel_size=(3,3), padding= 'same', kernel_initializer=init,activation='relu',input_shape = (iRows, iCols,3)))\n",
    "            model.add(MaxPool2D(pool_size=(2,2), strides = 2, padding='same'))\n",
    "\n",
    "            model.add(Conv2D(filters=64, kernel_size=(3,3), padding= 'same', activation='relu',kernel_initializer=init,kernel_regularizer=regularizers.l2(L2_REG), bias_regularizer=regularizers.l2(L2_REG)))\n",
    "            model.add(MaxPool2D(pool_size=(2,2), strides = 2, padding='same'))\n",
    "\n",
    "            model.add(Conv2D(filters=128, kernel_size=(3,3), padding= 'same', activation='relu', kernel_initializer=init,kernel_regularizer=regularizers.l2(L2_REG), bias_regularizer=regularizers.l2(L2_REG)))\n",
    "            model.add(MaxPool2D(pool_size=(2,2), strides = 2, padding='same'))\n",
    "\n",
    "            model.add(Flatten())\n",
    "            model.add(Dense(units = 128, activation='relu', kernel_initializer=init,kernel_regularizer=regularizers.l2(L2_REG), bias_regularizer=regularizers.l2(L2_REG)))\n",
    "            model.add(Dense(units=num_classes,kernel_initializer=init,activation='softmax'))\n",
    "    else:\n",
    "        if drop==True and bnorm==False:\n",
    "            model.add(Conv2D(filters=32, kernel_size=(3,3), padding= 'same', activation='relu',input_shape = (iRows, iCols,3)))\n",
    "            model.add(MaxPool2D(pool_size=(2,2), strides = 2, padding='same'))\n",
    "            model.add(Dropout(DROPOUT))\n",
    "            model.add(Conv2D(filters=64, kernel_size=(3,3), padding= 'same', activation='relu',kernel_regularizer=regularizers.l2(L2_REG), bias_regularizer=regularizers.l2(L2_REG)))\n",
    "            model.add(MaxPool2D(pool_size=(2,2), strides = 2, padding='same'))\n",
    "\n",
    "            model.add(Conv2D(filters=128, kernel_size=(3,3), padding= 'same', activation='relu', kernel_regularizer=regularizers.l2(L2_REG), bias_regularizer=regularizers.l2(L2_REG)))\n",
    "            model.add(MaxPool2D(pool_size=(2,2), strides = 2, padding='same'))\n",
    "            model.add(Dropout(DROPOUT))\n",
    "\n",
    "            model.add(Flatten())\n",
    "            model.add(Dense(units = 128, activation='relu', kernel_regularizer=regularizers.l2(L2_REG), bias_regularizer=regularizers.l2(L2_REG)))\n",
    "            model.add(Dense(units=num_classes,activation='softmax'))\n",
    "        elif bnorm==True and drop == False:\n",
    "            model.add(Conv2D(filters=32, kernel_size=(3,3), padding= 'same',input_shape = (iRows, iCols,3)))\n",
    "            model.add(BatchNormalization())\n",
    "            model.add(Activation('relu'))\n",
    "            model.add(MaxPool2D(pool_size=(2,2), strides = 2, padding='same'))\n",
    "\n",
    "            model.add(Conv2D(filters=64, kernel_size=(3,3), padding= 'same', kernel_regularizer=regularizers.l2(L2_REG), use_bias=False))\n",
    "            model.add(BatchNormalization())\n",
    "            model.add(Activation('relu'))\n",
    "            model.add(MaxPool2D(pool_size=(2,2), strides = 2, padding='same'))\n",
    "\n",
    "            model.add(Conv2D(filters=128, kernel_size=(3,3), padding= 'same', kernel_regularizer=regularizers.l2(L2_REG), use_bias=False))\n",
    "            model.add(BatchNormalization())\n",
    "            model.add(Activation('relu'))\n",
    "            model.add(MaxPool2D(pool_size=(2,2), strides = 2, padding='same'))\n",
    "\n",
    "            model.add(Flatten())\n",
    "            model.add(Dense(units = 128, kernel_regularizer=regularizers.l2(L2_REG), use_bias=False))\n",
    "            model.add(BatchNormalization())\n",
    "            model.add(Activation('relu'))\n",
    "            model.add(Dense(units=num_classes,activation='softmax'))\n",
    "        else:\n",
    "            model.add(Conv2D(filters=32, kernel_size=(3,3), padding= 'same', activation='relu',input_shape = (iRows, iCols,3)))\n",
    "            model.add(MaxPool2D(pool_size=(2,2), strides = 2, padding='same'))\n",
    "\n",
    "            model.add(Conv2D(filters=64, kernel_size=(3,3), padding= 'same', activation='relu',kernel_regularizer=regularizers.l2(L2_REG), bias_regularizer=regularizers.l2(L2_REG)))\n",
    "            model.add(MaxPool2D(pool_size=(2,2), strides = 2, padding='same'))\n",
    "\n",
    "            model.add(Conv2D(filters=128, kernel_size=(3,3), padding= 'same', activation='relu', kernel_regularizer=regularizers.l2(L2_REG), bias_regularizer=regularizers.l2(L2_REG)))\n",
    "            model.add(MaxPool2D(pool_size=(2,2), strides = 2, padding='same'))\n",
    "\n",
    "            model.add(Flatten())\n",
    "            model.add(Dense(units = 128, activation='relu', kernel_regularizer=regularizers.l2(L2_REG), bias_regularizer=regularizers.l2(L2_REG)))\n",
    "            model.add(Dense(units=num_classes,activation='softmax'))\n",
    "    return model "
   ]
  },
  {
   "cell_type": "code",
   "execution_count": 33,
   "metadata": {
    "colab": {
     "base_uri": "https://localhost:8080/",
     "height": 588
    },
    "colab_type": "code",
    "id": "hO9C8RVWoHUZ",
    "outputId": "ba5c068b-84a6-4bdc-c26c-f1d708c1ebf9",
    "scrolled": true
   },
   "outputs": [
    {
     "name": "stdout",
     "output_type": "stream",
     "text": [
      "Model: \"sequential_16\"\n",
      "_________________________________________________________________\n",
      "Layer (type)                 Output Shape              Param #   \n",
      "=================================================================\n",
      "conv2d_48 (Conv2D)           (None, 60, 60, 32)        896       \n",
      "_________________________________________________________________\n",
      "max_pooling2d_48 (MaxPooling (None, 30, 30, 32)        0         \n",
      "_________________________________________________________________\n",
      "conv2d_49 (Conv2D)           (None, 30, 30, 64)        18496     \n",
      "_________________________________________________________________\n",
      "max_pooling2d_49 (MaxPooling (None, 15, 15, 64)        0         \n",
      "_________________________________________________________________\n",
      "conv2d_50 (Conv2D)           (None, 15, 15, 128)       73856     \n",
      "_________________________________________________________________\n",
      "max_pooling2d_50 (MaxPooling (None, 8, 8, 128)         0         \n",
      "_________________________________________________________________\n",
      "flatten_16 (Flatten)         (None, 8192)              0         \n",
      "_________________________________________________________________\n",
      "dense_32 (Dense)             (None, 128)               1048704   \n",
      "_________________________________________________________________\n",
      "dense_33 (Dense)             (None, 2)                 258       \n",
      "=================================================================\n",
      "Total params: 1,142,210\n",
      "Trainable params: 1,142,210\n",
      "Non-trainable params: 0\n",
      "_________________________________________________________________\n"
     ]
    }
   ],
   "source": [
    "model=create_model(num_classes,L2_REG)\n",
    "model.summary()"
   ]
  },
  {
   "cell_type": "markdown",
   "metadata": {},
   "source": [
    "#### Compile and evaluate the Initial loss as a sanity check \n",
    "<p> The initial loss should come up to be around 2.3 for 10 classes with no regularization applied. </p>"
   ]
  },
  {
   "cell_type": "code",
   "execution_count": 34,
   "metadata": {
    "colab": {},
    "colab_type": "code",
    "id": "LzVy2YXrobx3",
    "scrolled": true
   },
   "outputs": [],
   "source": [
    "model.compile(optimizer=optimizers.SGD(learning_rate=LEARNING_RATE),loss='sparse_categorical_crossentropy',metrics=['sparse_categorical_accuracy'])"
   ]
  },
  {
   "cell_type": "code",
   "execution_count": 35,
   "metadata": {
    "scrolled": true
   },
   "outputs": [
    {
     "name": "stdout",
     "output_type": "stream",
     "text": [
      "1600/1600 [==============================] - 0s 245us/sample - loss: 0.7073 - sparse_categorical_accuracy: 0.4800\n"
     ]
    },
    {
     "data": {
      "text/plain": [
       "[0.707324982881546, 0.48]"
      ]
     },
     "execution_count": 35,
     "metadata": {},
     "output_type": "execute_result"
    }
   ],
   "source": [
    "model.evaluate(X_train,y_train)"
   ]
  },
  {
   "cell_type": "markdown",
   "metadata": {},
   "source": [
    "#### Crank up regularization \n",
    "Sanity check: If we crank up the regularization we get a higher loss as expected. "
   ]
  },
  {
   "cell_type": "code",
   "execution_count": 36,
   "metadata": {
    "scrolled": true
   },
   "outputs": [
    {
     "name": "stdout",
     "output_type": "stream",
     "text": [
      "1600/1600 [==============================] - 0s 246us/sample - loss: 379751.1644 - sparse_categorical_accuracy: 0.5006\n"
     ]
    },
    {
     "data": {
      "text/plain": [
       "[379751.164375, 0.500625]"
      ]
     },
     "execution_count": 36,
     "metadata": {},
     "output_type": "execute_result"
    }
   ],
   "source": [
    "#model hyperparam\n",
    "LEARNING_RATE=1e-4\n",
    "EPOCHS=10\n",
    "L2_REG=1e3\n",
    "\n",
    "model=create_model(num_classes,L2_REG)\n",
    "model.compile(optimizer=optimizers.SGD(learning_rate=LEARNING_RATE),loss='sparse_categorical_crossentropy',metrics=['sparse_categorical_accuracy'])\n",
    "model.evaluate(X_train, y_train)"
   ]
  },
  {
   "cell_type": "markdown",
   "metadata": {},
   "source": [
    "#### Try to overfit a small portion of data. \n",
    "We try to overfit the small portion of the data as a sanity check with no regularization and vanilla SGD optimizer. This ensures that our model is actually learning and the loss is going down. We verify this using the training accuracy (It should reach 100% theoretically). We can also see that the model reaches a very small loss as we reach the last epoch. That's a good sanity check. "
   ]
  },
  {
   "cell_type": "code",
   "execution_count": 37,
   "metadata": {
    "scrolled": true
   },
   "outputs": [],
   "source": [
    "#model hyperparam\n",
    "LEARNING_RATE=1e-3\n",
    "EPOCHS=100\n",
    "L2_REG=0\n",
    "\n",
    "X_tiny=X_train[:20]\n",
    "y_tiny=y_train[:20]\n"
   ]
  },
  {
   "cell_type": "code",
   "execution_count": 38,
   "metadata": {
    "scrolled": true
   },
   "outputs": [
    {
     "name": "stdout",
     "output_type": "stream",
     "text": [
      "Train on 20 samples\n",
      "Epoch 1/100\n",
      "20/20 [==============================] - 0s 8ms/sample - loss: 0.7230 - sparse_categorical_accuracy: 0.3500\n",
      "Epoch 2/100\n",
      "20/20 [==============================] - 0s 2ms/sample - loss: 0.6634 - sparse_categorical_accuracy: 0.7000\n",
      "Epoch 3/100\n",
      "20/20 [==============================] - 0s 2ms/sample - loss: 0.6321 - sparse_categorical_accuracy: 0.6500\n",
      "Epoch 4/100\n",
      "20/20 [==============================] - 0s 2ms/sample - loss: 0.6080 - sparse_categorical_accuracy: 0.7000\n",
      "Epoch 5/100\n",
      "20/20 [==============================] - 0s 2ms/sample - loss: 0.6062 - sparse_categorical_accuracy: 0.6500\n",
      "Epoch 6/100\n",
      "20/20 [==============================] - 0s 2ms/sample - loss: 0.5807 - sparse_categorical_accuracy: 0.6500\n",
      "Epoch 7/100\n",
      "20/20 [==============================] - 0s 2ms/sample - loss: 0.5679 - sparse_categorical_accuracy: 0.7000\n",
      "Epoch 8/100\n",
      "20/20 [==============================] - 0s 2ms/sample - loss: 0.5482 - sparse_categorical_accuracy: 0.8000\n",
      "Epoch 9/100\n",
      "20/20 [==============================] - 0s 2ms/sample - loss: 0.5525 - sparse_categorical_accuracy: 0.7000\n",
      "Epoch 10/100\n",
      "20/20 [==============================] - 0s 2ms/sample - loss: 0.5294 - sparse_categorical_accuracy: 0.8000\n",
      "Epoch 11/100\n",
      "20/20 [==============================] - 0s 2ms/sample - loss: 0.5250 - sparse_categorical_accuracy: 0.7500\n",
      "Epoch 12/100\n",
      "20/20 [==============================] - 0s 2ms/sample - loss: 0.5009 - sparse_categorical_accuracy: 0.8000\n",
      "Epoch 13/100\n",
      "20/20 [==============================] - 0s 2ms/sample - loss: 0.4875 - sparse_categorical_accuracy: 0.8500\n",
      "Epoch 14/100\n",
      "20/20 [==============================] - 0s 2ms/sample - loss: 0.4778 - sparse_categorical_accuracy: 0.8000\n",
      "Epoch 15/100\n",
      "20/20 [==============================] - 0s 2ms/sample - loss: 0.4747 - sparse_categorical_accuracy: 0.8500\n",
      "Epoch 16/100\n",
      "20/20 [==============================] - 0s 2ms/sample - loss: 0.4573 - sparse_categorical_accuracy: 0.8500\n",
      "Epoch 17/100\n",
      "20/20 [==============================] - 0s 2ms/sample - loss: 0.4478 - sparse_categorical_accuracy: 0.9000\n",
      "Epoch 18/100\n",
      "20/20 [==============================] - 0s 2ms/sample - loss: 0.4271 - sparse_categorical_accuracy: 0.8000\n",
      "Epoch 19/100\n",
      "20/20 [==============================] - 0s 2ms/sample - loss: 0.4235 - sparse_categorical_accuracy: 0.8500\n",
      "Epoch 20/100\n",
      "20/20 [==============================] - 0s 2ms/sample - loss: 0.4140 - sparse_categorical_accuracy: 0.9500\n",
      "Epoch 21/100\n",
      "20/20 [==============================] - 0s 2ms/sample - loss: 0.3981 - sparse_categorical_accuracy: 0.9000\n",
      "Epoch 22/100\n",
      "20/20 [==============================] - 0s 2ms/sample - loss: 0.3922 - sparse_categorical_accuracy: 0.8500\n",
      "Epoch 23/100\n",
      "20/20 [==============================] - 0s 2ms/sample - loss: 0.3761 - sparse_categorical_accuracy: 0.9000\n",
      "Epoch 24/100\n",
      "20/20 [==============================] - 0s 2ms/sample - loss: 0.3706 - sparse_categorical_accuracy: 0.9500\n",
      "Epoch 25/100\n",
      "20/20 [==============================] - 0s 2ms/sample - loss: 0.3588 - sparse_categorical_accuracy: 0.9500\n",
      "Epoch 26/100\n",
      "20/20 [==============================] - 0s 2ms/sample - loss: 0.3629 - sparse_categorical_accuracy: 0.9500\n",
      "Epoch 27/100\n",
      "20/20 [==============================] - 0s 2ms/sample - loss: 0.3453 - sparse_categorical_accuracy: 0.9000\n",
      "Epoch 28/100\n",
      "20/20 [==============================] - 0s 2ms/sample - loss: 0.3493 - sparse_categorical_accuracy: 0.9000\n",
      "Epoch 29/100\n",
      "20/20 [==============================] - 0s 2ms/sample - loss: 0.3235 - sparse_categorical_accuracy: 0.9500\n",
      "Epoch 30/100\n",
      "20/20 [==============================] - 0s 2ms/sample - loss: 0.3225 - sparse_categorical_accuracy: 0.9500\n",
      "Epoch 31/100\n",
      "20/20 [==============================] - 0s 2ms/sample - loss: 0.3040 - sparse_categorical_accuracy: 1.0000\n",
      "Epoch 32/100\n",
      "20/20 [==============================] - ETA: 0s - loss: 0.4293 - sparse_categorical_accuracy: 1.000 - 0s 2ms/sample - loss: 0.2987 - sparse_categorical_accuracy: 0.9000\n",
      "Epoch 33/100\n",
      "20/20 [==============================] - 0s 2ms/sample - loss: 0.2947 - sparse_categorical_accuracy: 0.9500\n",
      "Epoch 34/100\n",
      "20/20 [==============================] - 0s 2ms/sample - loss: 0.3026 - sparse_categorical_accuracy: 0.9500\n",
      "Epoch 35/100\n",
      "20/20 [==============================] - 0s 2ms/sample - loss: 0.2881 - sparse_categorical_accuracy: 0.9500\n",
      "Epoch 36/100\n",
      "20/20 [==============================] - 0s 2ms/sample - loss: 0.2820 - sparse_categorical_accuracy: 0.9500\n",
      "Epoch 37/100\n",
      "20/20 [==============================] - 0s 2ms/sample - loss: 0.2787 - sparse_categorical_accuracy: 0.9000\n",
      "Epoch 38/100\n",
      "20/20 [==============================] - 0s 2ms/sample - loss: 0.2696 - sparse_categorical_accuracy: 0.9500\n",
      "Epoch 39/100\n",
      "20/20 [==============================] - 0s 2ms/sample - loss: 0.2557 - sparse_categorical_accuracy: 0.9500\n",
      "Epoch 40/100\n",
      "20/20 [==============================] - 0s 2ms/sample - loss: 0.2499 - sparse_categorical_accuracy: 0.9000\n",
      "Epoch 41/100\n",
      "20/20 [==============================] - 0s 2ms/sample - loss: 0.2509 - sparse_categorical_accuracy: 0.9000\n",
      "Epoch 42/100\n",
      "20/20 [==============================] - 0s 2ms/sample - loss: 0.2477 - sparse_categorical_accuracy: 0.9500\n",
      "Epoch 43/100\n",
      "20/20 [==============================] - 0s 2ms/sample - loss: 0.2345 - sparse_categorical_accuracy: 1.0000\n",
      "Epoch 44/100\n",
      "20/20 [==============================] - 0s 2ms/sample - loss: 0.2347 - sparse_categorical_accuracy: 0.9500\n",
      "Epoch 45/100\n",
      "20/20 [==============================] - 0s 2ms/sample - loss: 0.2171 - sparse_categorical_accuracy: 0.9500\n",
      "Epoch 46/100\n",
      "20/20 [==============================] - 0s 2ms/sample - loss: 0.2366 - sparse_categorical_accuracy: 0.9000\n",
      "Epoch 47/100\n",
      "20/20 [==============================] - 0s 2ms/sample - loss: 0.2233 - sparse_categorical_accuracy: 0.9500\n",
      "Epoch 48/100\n",
      "20/20 [==============================] - 0s 2ms/sample - loss: 0.2056 - sparse_categorical_accuracy: 0.9000\n",
      "Epoch 49/100\n",
      "20/20 [==============================] - 0s 2ms/sample - loss: 0.2232 - sparse_categorical_accuracy: 0.9500\n",
      "Epoch 50/100\n",
      "20/20 [==============================] - 0s 2ms/sample - loss: 0.2065 - sparse_categorical_accuracy: 0.9500\n",
      "Epoch 51/100\n",
      "20/20 [==============================] - 0s 2ms/sample - loss: 0.2181 - sparse_categorical_accuracy: 1.0000\n",
      "Epoch 52/100\n",
      "20/20 [==============================] - 0s 2ms/sample - loss: 0.2053 - sparse_categorical_accuracy: 0.9500\n",
      "Epoch 53/100\n",
      "20/20 [==============================] - 0s 2ms/sample - loss: 0.2062 - sparse_categorical_accuracy: 1.0000\n",
      "Epoch 54/100\n",
      "20/20 [==============================] - 0s 2ms/sample - loss: 0.1930 - sparse_categorical_accuracy: 1.0000\n",
      "Epoch 55/100\n",
      "20/20 [==============================] - 0s 2ms/sample - loss: 0.1912 - sparse_categorical_accuracy: 0.9000\n",
      "Epoch 56/100\n",
      "20/20 [==============================] - 0s 2ms/sample - loss: 0.1720 - sparse_categorical_accuracy: 0.9500\n",
      "Epoch 57/100\n",
      "20/20 [==============================] - 0s 2ms/sample - loss: 0.1721 - sparse_categorical_accuracy: 1.0000\n",
      "Epoch 58/100\n",
      "20/20 [==============================] - 0s 2ms/sample - loss: 0.1767 - sparse_categorical_accuracy: 0.9000\n",
      "Epoch 59/100\n",
      "20/20 [==============================] - 0s 2ms/sample - loss: 0.1549 - sparse_categorical_accuracy: 0.9500\n",
      "Epoch 60/100\n",
      "20/20 [==============================] - 0s 2ms/sample - loss: 0.1556 - sparse_categorical_accuracy: 0.9500\n",
      "Epoch 61/100\n",
      "20/20 [==============================] - 0s 2ms/sample - loss: 0.1586 - sparse_categorical_accuracy: 1.0000\n",
      "Epoch 62/100\n",
      "20/20 [==============================] - 0s 2ms/sample - loss: 0.1684 - sparse_categorical_accuracy: 1.0000\n",
      "Epoch 63/100\n",
      "20/20 [==============================] - 0s 2ms/sample - loss: 0.1610 - sparse_categorical_accuracy: 1.0000\n",
      "Epoch 64/100\n",
      "20/20 [==============================] - 0s 2ms/sample - loss: 0.1739 - sparse_categorical_accuracy: 0.9500\n",
      "Epoch 65/100\n",
      "20/20 [==============================] - 0s 2ms/sample - loss: 0.1713 - sparse_categorical_accuracy: 1.0000\n",
      "Epoch 66/100\n",
      "20/20 [==============================] - 0s 2ms/sample - loss: 0.1652 - sparse_categorical_accuracy: 1.0000\n",
      "Epoch 67/100\n",
      "20/20 [==============================] - 0s 2ms/sample - loss: 0.1464 - sparse_categorical_accuracy: 0.9500\n",
      "Epoch 68/100\n"
     ]
    },
    {
     "name": "stdout",
     "output_type": "stream",
     "text": [
      "20/20 [==============================] - 0s 2ms/sample - loss: 0.1413 - sparse_categorical_accuracy: 1.0000\n",
      "Epoch 69/100\n",
      "20/20 [==============================] - 0s 2ms/sample - loss: 0.1284 - sparse_categorical_accuracy: 1.0000\n",
      "Epoch 70/100\n",
      "20/20 [==============================] - 0s 2ms/sample - loss: 0.1352 - sparse_categorical_accuracy: 0.9500\n",
      "Epoch 71/100\n",
      "20/20 [==============================] - 0s 2ms/sample - loss: 0.1246 - sparse_categorical_accuracy: 1.0000\n",
      "Epoch 72/100\n",
      "20/20 [==============================] - 0s 2ms/sample - loss: 0.1292 - sparse_categorical_accuracy: 0.9000\n",
      "Epoch 73/100\n",
      "20/20 [==============================] - 0s 2ms/sample - loss: 0.1450 - sparse_categorical_accuracy: 1.0000\n",
      "Epoch 74/100\n",
      "20/20 [==============================] - 0s 2ms/sample - loss: 0.1467 - sparse_categorical_accuracy: 1.0000\n",
      "Epoch 75/100\n",
      "20/20 [==============================] - 0s 2ms/sample - loss: 0.1268 - sparse_categorical_accuracy: 1.0000\n",
      "Epoch 76/100\n",
      "20/20 [==============================] - 0s 2ms/sample - loss: 0.1340 - sparse_categorical_accuracy: 0.9500\n",
      "Epoch 77/100\n",
      "20/20 [==============================] - 0s 2ms/sample - loss: 0.1609 - sparse_categorical_accuracy: 1.0000\n",
      "Epoch 78/100\n",
      "20/20 [==============================] - 0s 2ms/sample - loss: 0.1352 - sparse_categorical_accuracy: 0.9500\n",
      "Epoch 79/100\n",
      "20/20 [==============================] - 0s 2ms/sample - loss: 0.1059 - sparse_categorical_accuracy: 1.0000\n",
      "Epoch 80/100\n",
      "20/20 [==============================] - ETA: 0s - loss: 0.1592 - sparse_categorical_accuracy: 1.000 - 0s 2ms/sample - loss: 0.1396 - sparse_categorical_accuracy: 1.0000\n",
      "Epoch 81/100\n",
      "20/20 [==============================] - 0s 2ms/sample - loss: 0.1152 - sparse_categorical_accuracy: 1.0000\n",
      "Epoch 82/100\n",
      "20/20 [==============================] - ETA: 0s - loss: 0.2289 - sparse_categorical_accuracy: 1.000 - 0s 2ms/sample - loss: 0.1173 - sparse_categorical_accuracy: 1.0000\n",
      "Epoch 83/100\n",
      "20/20 [==============================] - 0s 2ms/sample - loss: 0.1215 - sparse_categorical_accuracy: 1.0000\n",
      "Epoch 84/100\n",
      "20/20 [==============================] - 0s 2ms/sample - loss: 0.1108 - sparse_categorical_accuracy: 1.0000\n",
      "Epoch 85/100\n",
      "20/20 [==============================] - 0s 2ms/sample - loss: 0.1177 - sparse_categorical_accuracy: 1.0000\n",
      "Epoch 86/100\n",
      "20/20 [==============================] - 0s 2ms/sample - loss: 0.1059 - sparse_categorical_accuracy: 0.9500\n",
      "Epoch 87/100\n",
      "20/20 [==============================] - 0s 2ms/sample - loss: 0.1517 - sparse_categorical_accuracy: 1.0000\n",
      "Epoch 88/100\n",
      "20/20 [==============================] - 0s 2ms/sample - loss: 0.1084 - sparse_categorical_accuracy: 1.0000\n",
      "Epoch 89/100\n",
      "20/20 [==============================] - 0s 2ms/sample - loss: 0.0941 - sparse_categorical_accuracy: 1.0000\n",
      "Epoch 90/100\n",
      "20/20 [==============================] - 0s 2ms/sample - loss: 0.0960 - sparse_categorical_accuracy: 1.0000\n",
      "Epoch 91/100\n",
      "20/20 [==============================] - 0s 2ms/sample - loss: 0.0981 - sparse_categorical_accuracy: 1.0000\n",
      "Epoch 92/100\n",
      "20/20 [==============================] - 0s 2ms/sample - loss: 0.0951 - sparse_categorical_accuracy: 1.0000\n",
      "Epoch 93/100\n",
      "20/20 [==============================] - 0s 2ms/sample - loss: 0.1056 - sparse_categorical_accuracy: 1.0000\n",
      "Epoch 94/100\n",
      "20/20 [==============================] - 0s 2ms/sample - loss: 0.1004 - sparse_categorical_accuracy: 1.0000\n",
      "Epoch 95/100\n",
      "20/20 [==============================] - 0s 2ms/sample - loss: 0.1030 - sparse_categorical_accuracy: 1.0000\n",
      "Epoch 96/100\n",
      "20/20 [==============================] - 0s 2ms/sample - loss: 0.0851 - sparse_categorical_accuracy: 1.0000\n",
      "Epoch 97/100\n",
      "20/20 [==============================] - 0s 2ms/sample - loss: 0.0762 - sparse_categorical_accuracy: 1.0000\n",
      "Epoch 98/100\n",
      "20/20 [==============================] - 0s 2ms/sample - loss: 0.0846 - sparse_categorical_accuracy: 1.0000\n",
      "Epoch 99/100\n",
      "20/20 [==============================] - 0s 2ms/sample - loss: 0.0821 - sparse_categorical_accuracy: 1.0000\n",
      "Epoch 100/100\n",
      "20/20 [==============================] - 0s 2ms/sample - loss: 0.0870 - sparse_categorical_accuracy: 1.0000\n"
     ]
    }
   ],
   "source": [
    "model=create_model(num_classes,L2_REG)\n",
    "model.compile(optimizer=optimizers.SGD(learning_rate=LEARNING_RATE),loss='sparse_categorical_crossentropy',metrics=['sparse_categorical_accuracy'])\n",
    "history = model.fit(X_tiny,y_tiny,batch_size=2,epochs=EPOCHS, verbose=1)"
   ]
  },
  {
   "cell_type": "code",
   "execution_count": 39,
   "metadata": {
    "scrolled": true
   },
   "outputs": [],
   "source": [
    "#Function for plotting loss and accuracy curves from the history variable. \n",
    "def plot_curves(history):\n",
    "    plt.plot(history.history['sparse_categorical_accuracy'])\n",
    "    plt.plot(history.history['val_sparse_categorical_accuracy'])\n",
    "    plt.title('Model accuracy')\n",
    "    plt.ylabel('Accuracy')\n",
    "    plt.xlabel('Epoch')\n",
    "    plt.legend(['Train', 'Val'], loc='upper left')\n",
    "    plt.show()\n",
    "\n",
    "    # Plot training & validation loss values\n",
    "    plt.plot(history.history['loss'])\n",
    "    plt.plot(history.history['val_loss'])\n",
    "    plt.title('Model loss')\n",
    "    plt.ylabel('Loss')\n",
    "    plt.xlabel('Epoch')\n",
    "    plt.legend(['Train', 'Val'], loc='upper left')\n",
    "    plt.show()"
   ]
  },
  {
   "cell_type": "markdown",
   "metadata": {},
   "source": [
    "#### Start with small regularization and find a Learning rate that makes the loss go down \n",
    "\n",
    "We start with a small regularization and try to find a learning rate that makes the loss go down. \n",
    "We can observe here that the loss is not going down. As we can see in curves below the learning rate is so small that the model is actually not learning! The validation accuracy is still around 10% owing to the random guess. Remember that the softmax function is used at the end of the network for the actual 'classification' purposes. "
   ]
  },
  {
   "cell_type": "code",
   "execution_count": 110,
   "metadata": {
    "scrolled": true
   },
   "outputs": [
    {
     "name": "stdout",
     "output_type": "stream",
     "text": [
      "Train on 1600 samples, validate on 400 samples\n",
      "Epoch 1/10\n",
      "1600/1600 [==============================] - 11s 7ms/sample - loss: 0.7243 - sparse_categorical_accuracy: 0.4631 - val_loss: 0.7177 - val_sparse_categorical_accuracy: 0.4750\n",
      "Epoch 2/10\n",
      "1600/1600 [==============================] - 1s 560us/sample - loss: 0.7241 - sparse_categorical_accuracy: 0.4631 - val_loss: 0.7175 - val_sparse_categorical_accuracy: 0.4750\n",
      "Epoch 3/10\n",
      "1600/1600 [==============================] - 1s 549us/sample - loss: 0.7239 - sparse_categorical_accuracy: 0.4631 - val_loss: 0.7173 - val_sparse_categorical_accuracy: 0.4750\n",
      "Epoch 4/10\n",
      "1600/1600 [==============================] - 1s 592us/sample - loss: 0.7237 - sparse_categorical_accuracy: 0.4631 - val_loss: 0.7172 - val_sparse_categorical_accuracy: 0.4750\n",
      "Epoch 5/10\n",
      "1600/1600 [==============================] - 1s 572us/sample - loss: 0.7236 - sparse_categorical_accuracy: 0.4631 - val_loss: 0.7170 - val_sparse_categorical_accuracy: 0.4750\n",
      "Epoch 6/10\n",
      "1600/1600 [==============================] - 1s 589us/sample - loss: 0.7234 - sparse_categorical_accuracy: 0.4631 - val_loss: 0.7168 - val_sparse_categorical_accuracy: 0.4750\n",
      "Epoch 7/10\n",
      "1600/1600 [==============================] - 1s 573us/sample - loss: 0.7232 - sparse_categorical_accuracy: 0.4631 - val_loss: 0.7167 - val_sparse_categorical_accuracy: 0.4750\n",
      "Epoch 8/10\n",
      "1600/1600 [==============================] - 1s 574us/sample - loss: 0.7230 - sparse_categorical_accuracy: 0.4625 - val_loss: 0.7165 - val_sparse_categorical_accuracy: 0.4750\n",
      "Epoch 9/10\n",
      "1600/1600 [==============================] - 1s 599us/sample - loss: 0.7228 - sparse_categorical_accuracy: 0.4619 - val_loss: 0.7163 - val_sparse_categorical_accuracy: 0.4775\n",
      "Epoch 10/10\n",
      "1600/1600 [==============================] - 1s 575us/sample - loss: 0.7227 - sparse_categorical_accuracy: 0.4619 - val_loss: 0.7162 - val_sparse_categorical_accuracy: 0.4775\n"
     ]
    },
    {
     "data": {
      "text/plain": [
       "<tensorflow.python.keras.callbacks.History at 0x2b0c9fded30>"
      ]
     },
     "execution_count": 110,
     "metadata": {},
     "output_type": "execute_result"
    }
   ],
   "source": [
    "LEARNING_RATE=1e-6\n",
    "EPOCHS=10\n",
    "L2_REG=1e-6\n",
    "\n",
    "model=create_model(num_classes,L2_REG)\n",
    "model.compile(optimizer=optimizers.SGD(learning_rate=LEARNING_RATE),loss='sparse_categorical_crossentropy',metrics=['sparse_categorical_accuracy'])\n",
    "model.fit(X_train, y_train, batch_size=BATCH_SIZE, epochs=EPOCHS, verbose=1,  validation_data=(X_val,y_val))"
   ]
  },
  {
   "cell_type": "markdown",
   "metadata": {},
   "source": [
    "#### Very high Learning Rate - Loss exploding\n",
    "\n",
    "We can now try a higher learning rate. We set the learning rate to 1e6. As we can see in the curves below the cost is so high that the loss is exploding. It is because the weights are updated by a huge number. Trying to find the optimum learning rate is very important. "
   ]
  },
  {
   "cell_type": "code",
   "execution_count": 41,
   "metadata": {
    "scrolled": true
   },
   "outputs": [
    {
     "name": "stdout",
     "output_type": "stream",
     "text": [
      "Train on 1600 samples, validate on 400 samples\n",
      "Epoch 1/10\n",
      "1600/1600 [==============================] - 1s 604us/sample - loss: nan - sparse_categorical_accuracy: 0.4963 - val_loss: nan - val_sparse_categorical_accuracy: 0.5075\n",
      "Epoch 2/10\n",
      "1600/1600 [==============================] - 0s 307us/sample - loss: nan - sparse_categorical_accuracy: 0.5019 - val_loss: nan - val_sparse_categorical_accuracy: 0.5075\n",
      "Epoch 3/10\n",
      "1600/1600 [==============================] - 0s 310us/sample - loss: nan - sparse_categorical_accuracy: 0.5044 - val_loss: nan - val_sparse_categorical_accuracy: 0.5075\n",
      "Epoch 4/10\n",
      "1600/1600 [==============================] - 0s 306us/sample - loss: nan - sparse_categorical_accuracy: 0.4981 - val_loss: nan - val_sparse_categorical_accuracy: 0.5075\n",
      "Epoch 5/10\n",
      "1600/1600 [==============================] - 1s 317us/sample - loss: nan - sparse_categorical_accuracy: 0.5044 - val_loss: nan - val_sparse_categorical_accuracy: 0.5075\n",
      "Epoch 6/10\n",
      "1600/1600 [==============================] - 0s 302us/sample - loss: nan - sparse_categorical_accuracy: 0.4856 - val_loss: nan - val_sparse_categorical_accuracy: 0.4925\n",
      "Epoch 7/10\n",
      "1600/1600 [==============================] - ETA: 0s - loss: nan - sparse_categorical_accuracy: 0.51 - 0s 305us/sample - loss: nan - sparse_categorical_accuracy: 0.5131 - val_loss: nan - val_sparse_categorical_accuracy: 0.4925\n",
      "Epoch 8/10\n",
      "1600/1600 [==============================] - 1s 319us/sample - loss: nan - sparse_categorical_accuracy: 0.5169 - val_loss: nan - val_sparse_categorical_accuracy: 0.4925\n",
      "Epoch 9/10\n",
      "1600/1600 [==============================] - 1s 316us/sample - loss: nan - sparse_categorical_accuracy: 0.4881 - val_loss: nan - val_sparse_categorical_accuracy: 0.4925\n",
      "Epoch 10/10\n",
      "1600/1600 [==============================] - 0s 302us/sample - loss: nan - sparse_categorical_accuracy: 0.4906 - val_loss: nan - val_sparse_categorical_accuracy: 0.4925\n"
     ]
    },
    {
     "data": {
      "text/plain": [
       "<tensorflow.python.keras.callbacks.History at 0x2b02c9bffd0>"
      ]
     },
     "execution_count": 41,
     "metadata": {},
     "output_type": "execute_result"
    }
   ],
   "source": [
    "LEARNING_RATE=1e5\n",
    "EPOCHS=10\n",
    "L2_REG=1e-6\n",
    "\n",
    "model=create_model(num_classes,L2_REG)\n",
    "model.compile(optimizer=optimizers.SGD(learning_rate=LEARNING_RATE),loss='sparse_categorical_crossentropy',metrics=['sparse_categorical_accuracy'])\n",
    "model.fit(X_train, y_train, batch_size=BATCH_SIZE, epochs=EPOCHS, verbose=1,  validation_data=(X_val,y_val))"
   ]
  },
  {
   "cell_type": "markdown",
   "metadata": {},
   "source": [
    "#### Crank up the Learning rate to check if the loss still explodes. \n",
    "\n",
    "We can keep trying values for which the loss will go down, but that is a trial and error method. We can adopt a cross validation strategy where we try different learning rates and regularizations in a fixed range and choose the combination that gives the best performance on the model. We can see here that the loss is still exploding for an increased LR. \n",
    "The learning rate is generally selected between 1e-3, 1e-4"
   ]
  },
  {
   "cell_type": "code",
   "execution_count": 42,
   "metadata": {
    "scrolled": true
   },
   "outputs": [
    {
     "name": "stdout",
     "output_type": "stream",
     "text": [
      "Train on 1600 samples, validate on 400 samples\n",
      "Epoch 1/10\n",
      "1600/1600 [==============================] - 1s 589us/sample - loss: 1.4783 - sparse_categorical_accuracy: 0.6781 - val_loss: 2.2005 - val_sparse_categorical_accuracy: 0.5325\n",
      "Epoch 2/10\n",
      "1600/1600 [==============================] - 1s 317us/sample - loss: nan - sparse_categorical_accuracy: 0.4925 - val_loss: nan - val_sparse_categorical_accuracy: 0.5075\n",
      "Epoch 3/10\n",
      "1600/1600 [==============================] - 1s 327us/sample - loss: nan - sparse_categorical_accuracy: 0.4981 - val_loss: nan - val_sparse_categorical_accuracy: 0.5075\n",
      "Epoch 4/10\n",
      "1600/1600 [==============================] - 1s 317us/sample - loss: nan - sparse_categorical_accuracy: 0.4981 - val_loss: nan - val_sparse_categorical_accuracy: 0.5075\n",
      "Epoch 5/10\n",
      "1600/1600 [==============================] - 1s 325us/sample - loss: nan - sparse_categorical_accuracy: 0.4981 - val_loss: nan - val_sparse_categorical_accuracy: 0.5075\n",
      "Epoch 6/10\n",
      "1600/1600 [==============================] - 0s 312us/sample - loss: nan - sparse_categorical_accuracy: 0.4981 - val_loss: nan - val_sparse_categorical_accuracy: 0.5075\n",
      "Epoch 7/10\n",
      "1600/1600 [==============================] - 0s 311us/sample - loss: nan - sparse_categorical_accuracy: 0.4981 - val_loss: nan - val_sparse_categorical_accuracy: 0.5075\n",
      "Epoch 8/10\n",
      "1600/1600 [==============================] - 1s 314us/sample - loss: nan - sparse_categorical_accuracy: 0.4981 - val_loss: nan - val_sparse_categorical_accuracy: 0.5075\n",
      "Epoch 9/10\n",
      "1600/1600 [==============================] - 0s 305us/sample - loss: nan - sparse_categorical_accuracy: 0.4981 - val_loss: nan - val_sparse_categorical_accuracy: 0.5075\n",
      "Epoch 10/10\n",
      "1600/1600 [==============================] - 1s 315us/sample - loss: nan - sparse_categorical_accuracy: 0.4981 - val_loss: nan - val_sparse_categorical_accuracy: 0.5075\n"
     ]
    },
    {
     "data": {
      "text/plain": [
       "<tensorflow.python.keras.callbacks.History at 0x2b02cae86d8>"
      ]
     },
     "execution_count": 42,
     "metadata": {},
     "output_type": "execute_result"
    }
   ],
   "source": [
    "LEARNING_RATE=0.2425\n",
    "EPOCHS=10\n",
    "L2_REG=1e-6\n",
    "\n",
    "model=create_model(num_classes,L2_REG)\n",
    "model.compile(optimizer=optimizers.SGD(learning_rate=LEARNING_RATE),loss='sparse_categorical_crossentropy',metrics=['sparse_categorical_accuracy'])\n",
    "model.fit(X_train, y_train, batch_size=BATCH_SIZE, epochs=EPOCHS, verbose=1,  validation_data=(X_val,y_val))"
   ]
  },
  {
   "cell_type": "markdown",
   "metadata": {},
   "source": [
    "### Hyper parameter Tuning\n",
    "To find the optimum learning rate and regularization to apply, we first go through a few epochs to get a rough idea of how the params work and then move on to the second stage, where we have a longer run time and a finer search. \n",
    "\n",
    "#### Coarse Search\n",
    "For coarse search we take a random value of the learning rate between 1e-3 and 1e-6 and a random value for regularization. As seen in we can see the top 10 performers from the coarse search strategy, we  can  see  that  the  learning  ratesare restricted within the range 1e-3 and 1e-4 and the regularization between 1e-5 and 1. Thus, we narrow down the range andperform a finer search for a longer time, i.e. increase the number of epochs"
   ]
  },
  {
   "cell_type": "code",
   "execution_count": 43,
   "metadata": {
    "scrolled": true
   },
   "outputs": [
    {
     "name": "stderr",
     "output_type": "stream",
     "text": [
      "\n",
      "  0%|          | 0/100 [00:00<?, ?it/s]\u001b[A"
     ]
    },
    {
     "name": "stdout",
     "output_type": "stream",
     "text": [
      "Train on 1600 samples, validate on 400 samples\n",
      "Epoch 1/5\n",
      "1600/1600 [==============================] - 1s 648us/sample - loss: 0.8102 - sparse_categorical_accuracy: 0.5325 - val_loss: 0.8138 - val_sparse_categorical_accuracy: 0.5200\n",
      "Epoch 2/5\n",
      "1600/1600 [==============================] - 1s 319us/sample - loss: 0.8098 - sparse_categorical_accuracy: 0.5337 - val_loss: 0.8134 - val_sparse_categorical_accuracy: 0.5275\n",
      "Epoch 3/5\n",
      "1600/1600 [==============================] - 1s 315us/sample - loss: 0.8093 - sparse_categorical_accuracy: 0.5344 - val_loss: 0.8130 - val_sparse_categorical_accuracy: 0.5225\n",
      "Epoch 4/5\n",
      "1600/1600 [==============================] - 1s 313us/sample - loss: 0.8089 - sparse_categorical_accuracy: 0.5381 - val_loss: 0.8126 - val_sparse_categorical_accuracy: 0.5300\n",
      "Epoch 5/5\n",
      "1600/1600 [==============================] - 1s 319us/sample - loss: 0.8085 - sparse_categorical_accuracy: 0.5394 - val_loss: 0.8122 - val_sparse_categorical_accuracy: 0.5325\n"
     ]
    },
    {
     "name": "stderr",
     "output_type": "stream",
     "text": [
      "\n",
      "  1%|          | 1/100 [00:03<06:24,  3.88s/it]\u001b[A"
     ]
    },
    {
     "name": "stdout",
     "output_type": "stream",
     "text": [
      "0.5325 4.481594789220756e-06 0.00029480190743020885\n",
      "Train on 1600 samples, validate on 400 samples\n",
      "Epoch 1/5\n",
      "1600/1600 [==============================] - 1s 656us/sample - loss: 197.2203 - sparse_categorical_accuracy: 0.4837 - val_loss: 197.1875 - val_sparse_categorical_accuracy: 0.4850\n",
      "Epoch 2/5\n",
      "1600/1600 [==============================] - 1s 313us/sample - loss: 197.1540 - sparse_categorical_accuracy: 0.4831 - val_loss: 197.1212 - val_sparse_categorical_accuracy: 0.4850\n",
      "Epoch 3/5\n",
      "1600/1600 [==============================] - 0s 311us/sample - loss: 197.0877 - sparse_categorical_accuracy: 0.4831 - val_loss: 197.0549 - val_sparse_categorical_accuracy: 0.4850\n",
      "Epoch 4/5\n",
      "1600/1600 [==============================] - 1s 321us/sample - loss: 197.0214 - sparse_categorical_accuracy: 0.4831 - val_loss: 196.9886 - val_sparse_categorical_accuracy: 0.4850\n",
      "Epoch 5/5\n",
      "1600/1600 [==============================] - 1s 320us/sample - loss: 196.9551 - sparse_categorical_accuracy: 0.4837 - val_loss: 196.9223 - val_sparse_categorical_accuracy: 0.4850\n"
     ]
    },
    {
     "name": "stderr",
     "output_type": "stream",
     "text": [
      "\n",
      "  2%|▏         | 2/100 [00:07<06:21,  3.89s/it]\u001b[A"
     ]
    },
    {
     "name": "stdout",
     "output_type": "stream",
     "text": [
      "0.485 3.255916101149697e-06 0.5165115732273361\n",
      "Train on 1600 samples, validate on 400 samples\n",
      "Epoch 1/5\n",
      "1600/1600 [==============================] - 1s 692us/sample - loss: 497.8218 - sparse_categorical_accuracy: 0.5575 - val_loss: 492.3497 - val_sparse_categorical_accuracy: 0.5950\n",
      "Epoch 2/5\n",
      "1600/1600 [==============================] - 1s 338us/sample - loss: 487.1756 - sparse_categorical_accuracy: 0.5850 - val_loss: 481.8214 - val_sparse_categorical_accuracy: 0.6025\n",
      "Epoch 3/5\n",
      "1600/1600 [==============================] - 1s 324us/sample - loss: 476.7586 - sparse_categorical_accuracy: 0.5931 - val_loss: 471.5197 - val_sparse_categorical_accuracy: 0.6150\n",
      "Epoch 4/5\n",
      "1600/1600 [==============================] - 0s 308us/sample - loss: 466.5656 - sparse_categorical_accuracy: 0.5975 - val_loss: 461.4391 - val_sparse_categorical_accuracy: 0.6200\n",
      "Epoch 5/5\n",
      "1600/1600 [==============================] - 0s 311us/sample - loss: 456.5914 - sparse_categorical_accuracy: 0.6025 - val_loss: 451.5751 - val_sparse_categorical_accuracy: 0.6250\n"
     ]
    },
    {
     "name": "stderr",
     "output_type": "stream",
     "text": [
      "\n",
      "  3%|▎         | 3/100 [00:11<06:21,  3.94s/it]\u001b[A"
     ]
    },
    {
     "name": "stdout",
     "output_type": "stream",
     "text": [
      "0.625 8.172571063278667e-05 1.3232840230049692\n",
      "Train on 1600 samples, validate on 400 samples\n",
      "Epoch 1/5\n",
      "1600/1600 [==============================] - 1s 669us/sample - loss: 0.7045 - sparse_categorical_accuracy: 0.6350 - val_loss: 0.6809 - val_sparse_categorical_accuracy: 0.6775\n",
      "Epoch 2/5\n",
      "1600/1600 [==============================] - 0s 306us/sample - loss: 0.6630 - sparse_categorical_accuracy: 0.7675 - val_loss: 0.6431 - val_sparse_categorical_accuracy: 0.8000\n",
      "Epoch 3/5\n",
      "1600/1600 [==============================] - 0s 304us/sample - loss: 0.6286 - sparse_categorical_accuracy: 0.8200 - val_loss: 0.6083 - val_sparse_categorical_accuracy: 0.8450\n",
      "Epoch 4/5\n",
      "1600/1600 [==============================] - 0s 305us/sample - loss: 0.5962 - sparse_categorical_accuracy: 0.8413 - val_loss: 0.5747 - val_sparse_categorical_accuracy: 0.8625\n",
      "Epoch 5/5\n",
      "1600/1600 [==============================] - 0s 305us/sample - loss: 0.5649 - sparse_categorical_accuracy: 0.8544 - val_loss: 0.5421 - val_sparse_categorical_accuracy: 0.8725\n"
     ]
    },
    {
     "name": "stderr",
     "output_type": "stream",
     "text": [
      "\n",
      "  4%|▍         | 4/100 [00:15<06:16,  3.92s/it]\u001b[A"
     ]
    },
    {
     "name": "stdout",
     "output_type": "stream",
     "text": [
      "0.8725 0.0007616446555284202 0.00010734120422914724\n",
      "Train on 1600 samples, validate on 400 samples\n",
      "Epoch 1/5\n",
      "1600/1600 [==============================] - 1s 685us/sample - loss: 0.8101 - sparse_categorical_accuracy: 0.5019 - val_loss: 0.7993 - val_sparse_categorical_accuracy: 0.4925\n",
      "Epoch 2/5\n",
      "1600/1600 [==============================] - 0s 308us/sample - loss: 0.7882 - sparse_categorical_accuracy: 0.5013 - val_loss: 0.7806 - val_sparse_categorical_accuracy: 0.4925\n",
      "Epoch 3/5\n",
      "1600/1600 [==============================] - 0s 304us/sample - loss: 0.7737 - sparse_categorical_accuracy: 0.5013 - val_loss: 0.7670 - val_sparse_categorical_accuracy: 0.4925\n",
      "Epoch 4/5\n",
      "1600/1600 [==============================] - 1s 316us/sample - loss: 0.7626 - sparse_categorical_accuracy: 0.5444 - val_loss: 0.7562 - val_sparse_categorical_accuracy: 0.6050\n",
      "Epoch 5/5\n",
      "1600/1600 [==============================] - 0s 306us/sample - loss: 0.7535 - sparse_categorical_accuracy: 0.6394 - val_loss: 0.7471 - val_sparse_categorical_accuracy: 0.6300\n"
     ]
    },
    {
     "name": "stderr",
     "output_type": "stream",
     "text": [
      "\n",
      "  5%|▌         | 5/100 [00:19<06:15,  3.95s/it]\u001b[A"
     ]
    },
    {
     "name": "stdout",
     "output_type": "stream",
     "text": [
      "0.63 0.000127496638196986 0.000258244682229909\n",
      "Train on 1600 samples, validate on 400 samples\n",
      "Epoch 1/5\n",
      "1600/1600 [==============================] - 1s 728us/sample - loss: 0.7107 - sparse_categorical_accuracy: 0.6625 - val_loss: 0.7016 - val_sparse_categorical_accuracy: 0.7775\n",
      "Epoch 2/5\n",
      "1600/1600 [==============================] - 1s 324us/sample - loss: 0.6978 - sparse_categorical_accuracy: 0.7575 - val_loss: 0.6901 - val_sparse_categorical_accuracy: 0.8250\n",
      "Epoch 3/5\n",
      "1600/1600 [==============================] - 1s 335us/sample - loss: 0.6870 - sparse_categorical_accuracy: 0.7819 - val_loss: 0.6802 - val_sparse_categorical_accuracy: 0.8200\n",
      "Epoch 4/5\n",
      "1600/1600 [==============================] - 1s 337us/sample - loss: 0.6773 - sparse_categorical_accuracy: 0.7763 - val_loss: 0.6709 - val_sparse_categorical_accuracy: 0.8250\n",
      "Epoch 5/5\n",
      "1600/1600 [==============================] - 1s 324us/sample - loss: 0.6682 - sparse_categorical_accuracy: 0.7750 - val_loss: 0.6620 - val_sparse_categorical_accuracy: 0.8375\n"
     ]
    },
    {
     "name": "stderr",
     "output_type": "stream",
     "text": [
      "\n",
      "  6%|▌         | 6/100 [00:23<06:19,  4.04s/it]\u001b[A"
     ]
    },
    {
     "name": "stdout",
     "output_type": "stream",
     "text": [
      "0.8375 0.00018898555670556703 0.00011291346006293098\n",
      "Train on 1600 samples, validate on 400 samples\n",
      "Epoch 1/5\n",
      "1600/1600 [==============================] - 1s 718us/sample - loss: 159.5645 - sparse_categorical_accuracy: 0.5169 - val_loss: 159.5327 - val_sparse_categorical_accuracy: 0.5075\n",
      "Epoch 2/5\n",
      "1600/1600 [==============================] - 1s 342us/sample - loss: 159.4950 - sparse_categorical_accuracy: 0.5169 - val_loss: 159.4632 - val_sparse_categorical_accuracy: 0.5100\n",
      "Epoch 3/5\n",
      "1600/1600 [==============================] - 0s 311us/sample - loss: 159.4256 - sparse_categorical_accuracy: 0.5175 - val_loss: 159.3937 - val_sparse_categorical_accuracy: 0.5100\n",
      "Epoch 4/5\n",
      "1600/1600 [==============================] - 1s 326us/sample - loss: 159.3561 - sparse_categorical_accuracy: 0.5175 - val_loss: 159.3243 - val_sparse_categorical_accuracy: 0.5100\n",
      "Epoch 5/5\n",
      "1600/1600 [==============================] - 1s 322us/sample - loss: 159.2867 - sparse_categorical_accuracy: 0.5194 - val_loss: 159.2549 - val_sparse_categorical_accuracy: 0.5100\n"
     ]
    },
    {
     "name": "stderr",
     "output_type": "stream",
     "text": [
      "\n",
      "  7%|▋         | 7/100 [00:28<06:20,  4.09s/it]\u001b[A"
     ]
    },
    {
     "name": "stdout",
     "output_type": "stream",
     "text": [
      "0.51 5.207544990403276e-06 0.4184335782697126\n",
      "Train on 1600 samples, validate on 400 samples\n",
      "Epoch 1/5\n",
      "1600/1600 [==============================] - 1s 738us/sample - loss: 0.7666 - sparse_categorical_accuracy: 0.4938 - val_loss: 0.7699 - val_sparse_categorical_accuracy: 0.4725\n",
      "Epoch 2/5\n",
      "1600/1600 [==============================] - 1s 352us/sample - loss: 0.7596 - sparse_categorical_accuracy: 0.4969 - val_loss: 0.7630 - val_sparse_categorical_accuracy: 0.4800\n",
      "Epoch 3/5\n",
      "1600/1600 [==============================] - 1s 361us/sample - loss: 0.7528 - sparse_categorical_accuracy: 0.5006 - val_loss: 0.7563 - val_sparse_categorical_accuracy: 0.4775\n",
      "Epoch 4/5\n",
      "1600/1600 [==============================] - 1s 362us/sample - loss: 0.7463 - sparse_categorical_accuracy: 0.5056 - val_loss: 0.7499 - val_sparse_categorical_accuracy: 0.4825\n",
      "Epoch 5/5\n",
      "1600/1600 [==============================] - 1s 362us/sample - loss: 0.7401 - sparse_categorical_accuracy: 0.5106 - val_loss: 0.7437 - val_sparse_categorical_accuracy: 0.4925\n"
     ]
    },
    {
     "name": "stderr",
     "output_type": "stream",
     "text": [
      "\n",
      "  8%|▊         | 8/100 [00:32<06:27,  4.22s/it]\u001b[A"
     ]
    },
    {
     "name": "stdout",
     "output_type": "stream",
     "text": [
      "0.4925 7.708134998269405e-05 0.00020734837568696875\n",
      "Train on 1600 samples, validate on 400 samples\n",
      "Epoch 1/5\n",
      "1600/1600 [==============================] - 1s 849us/sample - loss: 3.6039 - sparse_categorical_accuracy: 0.5919 - val_loss: 3.6017 - val_sparse_categorical_accuracy: 0.6050\n",
      "Epoch 2/5\n",
      "1600/1600 [==============================] - 1s 342us/sample - loss: 3.5986 - sparse_categorical_accuracy: 0.6231 - val_loss: 3.5966 - val_sparse_categorical_accuracy: 0.6225\n",
      "Epoch 3/5\n",
      "1600/1600 [==============================] - ETA: 0s - loss: 3.5940 - sparse_categorical_accuracy: 0.646 - 1s 343us/sample - loss: 3.5937 - sparse_categorical_accuracy: 0.6456 - val_loss: 3.5917 - val_sparse_categorical_accuracy: 0.6375\n",
      "Epoch 4/5\n",
      "1600/1600 [==============================] - 1s 354us/sample - loss: 3.5892 - sparse_categorical_accuracy: 0.6575 - val_loss: 3.5871 - val_sparse_categorical_accuracy: 0.6525\n",
      "Epoch 5/5\n",
      "1600/1600 [==============================] - 1s 328us/sample - loss: 3.5849 - sparse_categorical_accuracy: 0.6687 - val_loss: 3.5827 - val_sparse_categorical_accuracy: 0.6625\n"
     ]
    },
    {
     "name": "stderr",
     "output_type": "stream",
     "text": [
      "\n",
      "  9%|▉         | 9/100 [00:37<06:38,  4.38s/it]\u001b[A"
     ]
    },
    {
     "name": "stdout",
     "output_type": "stream",
     "text": [
      "0.6625 4.877712363266992e-05 0.007668414213983183\n",
      "Train on 1600 samples, validate on 400 samples\n",
      "Epoch 1/5\n",
      "1600/1600 [==============================] - 1s 744us/sample - loss: 0.6812 - sparse_categorical_accuracy: 0.5669 - val_loss: 0.6676 - val_sparse_categorical_accuracy: 0.6075\n",
      "Epoch 2/5\n",
      "1600/1600 [==============================] - 1s 363us/sample - loss: 0.6626 - sparse_categorical_accuracy: 0.6100 - val_loss: 0.6515 - val_sparse_categorical_accuracy: 0.6350\n",
      "Epoch 3/5\n",
      "1600/1600 [==============================] - 1s 363us/sample - loss: 0.6475 - sparse_categorical_accuracy: 0.6756 - val_loss: 0.6371 - val_sparse_categorical_accuracy: 0.6600\n",
      "Epoch 4/5\n",
      "1600/1600 [==============================] - 1s 364us/sample - loss: 0.6336 - sparse_categorical_accuracy: 0.7237 - val_loss: 0.6227 - val_sparse_categorical_accuracy: 0.7850\n",
      "Epoch 5/5\n",
      "1600/1600 [==============================] - 1s 359us/sample - loss: 0.6201 - sparse_categorical_accuracy: 0.7912 - val_loss: 0.6095 - val_sparse_categorical_accuracy: 0.8150\n"
     ]
    },
    {
     "name": "stderr",
     "output_type": "stream",
     "text": [
      "\n",
      " 10%|█         | 10/100 [00:42<06:39,  4.44s/it]\u001b[A"
     ]
    },
    {
     "name": "stdout",
     "output_type": "stream",
     "text": [
      "0.815 0.0003476731470241004 1.5476411658588008e-05\n",
      "Train on 1600 samples, validate on 400 samples\n",
      "Epoch 1/5\n",
      "1600/1600 [==============================] - 1s 786us/sample - loss: 3.7965 - sparse_categorical_accuracy: 0.4275 - val_loss: 3.7933 - val_sparse_categorical_accuracy: 0.4300\n",
      "Epoch 2/5\n",
      "1600/1600 [==============================] - 1s 366us/sample - loss: 3.7889 - sparse_categorical_accuracy: 0.4812 - val_loss: 3.7862 - val_sparse_categorical_accuracy: 0.4775\n",
      "Epoch 3/5\n",
      "1600/1600 [==============================] - 1s 340us/sample - loss: 3.7820 - sparse_categorical_accuracy: 0.5356 - val_loss: 3.7798 - val_sparse_categorical_accuracy: 0.5325\n",
      "Epoch 4/5\n",
      "1600/1600 [==============================] - 1s 331us/sample - loss: 3.7756 - sparse_categorical_accuracy: 0.5700 - val_loss: 3.7737 - val_sparse_categorical_accuracy: 0.5525\n",
      "Epoch 5/5\n",
      "1600/1600 [==============================] - 1s 332us/sample - loss: 3.7694 - sparse_categorical_accuracy: 0.5844 - val_loss: 3.7678 - val_sparse_categorical_accuracy: 0.5675\n"
     ]
    },
    {
     "name": "stderr",
     "output_type": "stream",
     "text": [
      "\n",
      " 11%|█         | 11/100 [00:46<06:41,  4.51s/it]\u001b[A"
     ]
    },
    {
     "name": "stdout",
     "output_type": "stream",
     "text": [
      "0.5675 9.984608593692621e-05 0.008128148002445327\n",
      "Train on 1600 samples, validate on 400 samples\n",
      "Epoch 1/5\n",
      "1600/1600 [==============================] - 1s 803us/sample - loss: 0.9540 - sparse_categorical_accuracy: 0.5531 - val_loss: 0.9329 - val_sparse_categorical_accuracy: 0.6400\n",
      "Epoch 2/5\n",
      "1600/1600 [==============================] - 1s 345us/sample - loss: 0.9188 - sparse_categorical_accuracy: 0.6587 - val_loss: 0.9047 - val_sparse_categorical_accuracy: 0.7000\n",
      "Epoch 3/5\n",
      "1600/1600 [==============================] - 1s 341us/sample - loss: 0.8921 - sparse_categorical_accuracy: 0.6869 - val_loss: 0.8778 - val_sparse_categorical_accuracy: 0.7775\n",
      "Epoch 4/5\n",
      "1600/1600 [==============================] - 1s 367us/sample - loss: 0.8671 - sparse_categorical_accuracy: 0.7400 - val_loss: 0.8514 - val_sparse_categorical_accuracy: 0.8075\n",
      "Epoch 5/5\n",
      "1600/1600 [==============================] - 1s 362us/sample - loss: 0.8430 - sparse_categorical_accuracy: 0.7806 - val_loss: 0.8274 - val_sparse_categorical_accuracy: 0.8050\n"
     ]
    },
    {
     "name": "stderr",
     "output_type": "stream",
     "text": [
      "\n",
      " 12%|█▏        | 12/100 [00:51<06:42,  4.58s/it]\u001b[A"
     ]
    },
    {
     "name": "stdout",
     "output_type": "stream",
     "text": [
      "0.805 0.0006128044882498186 0.0007289146317917788\n",
      "Train on 1600 samples, validate on 400 samples\n",
      "Epoch 1/5\n",
      "1600/1600 [==============================] - 1s 837us/sample - loss: 1842.7228 - sparse_categorical_accuracy: 0.4288 - val_loss: 1841.1116 - val_sparse_categorical_accuracy: 0.4150\n",
      "Epoch 2/5\n",
      "1600/1600 [==============================] - 1s 322us/sample - loss: 1839.5654 - sparse_categorical_accuracy: 0.4288 - val_loss: 1837.9570 - val_sparse_categorical_accuracy: 0.4225\n",
      "Epoch 3/5\n",
      "1600/1600 [==============================] - 1s 321us/sample - loss: 1836.4135 - sparse_categorical_accuracy: 0.4306 - val_loss: 1834.8077 - val_sparse_categorical_accuracy: 0.4225\n",
      "Epoch 4/5\n",
      "1600/1600 [==============================] - 1s 336us/sample - loss: 1833.2669 - sparse_categorical_accuracy: 0.4338 - val_loss: 1831.6641 - val_sparse_categorical_accuracy: 0.4225\n",
      "Epoch 5/5\n",
      "1600/1600 [==============================] - 1s 321us/sample - loss: 1830.1257 - sparse_categorical_accuracy: 0.4325 - val_loss: 1828.5258 - val_sparse_categorical_accuracy: 0.4225\n"
     ]
    },
    {
     "name": "stderr",
     "output_type": "stream",
     "text": [
      "\n",
      " 13%|█▎        | 13/100 [00:56<06:41,  4.61s/it]\u001b[A"
     ]
    },
    {
     "name": "stdout",
     "output_type": "stream",
     "text": [
      "0.4225 1.767899146717715e-06 4.851582941717853\n",
      "Train on 1600 samples, validate on 400 samples\n",
      "Epoch 1/5\n",
      "1600/1600 [==============================] - 1s 776us/sample - loss: 0.7371 - sparse_categorical_accuracy: 0.4006 - val_loss: 0.7413 - val_sparse_categorical_accuracy: 0.3750\n",
      "Epoch 2/5\n",
      "1600/1600 [==============================] - 1s 320us/sample - loss: 0.7368 - sparse_categorical_accuracy: 0.4038 - val_loss: 0.7410 - val_sparse_categorical_accuracy: 0.3775\n",
      "Epoch 3/5\n",
      "1600/1600 [==============================] - 1s 322us/sample - loss: 0.7365 - sparse_categorical_accuracy: 0.4106 - val_loss: 0.7407 - val_sparse_categorical_accuracy: 0.3800\n",
      "Epoch 4/5\n",
      "1600/1600 [==============================] - 1s 327us/sample - loss: 0.7363 - sparse_categorical_accuracy: 0.4144 - val_loss: 0.7404 - val_sparse_categorical_accuracy: 0.3850\n",
      "Epoch 5/5\n",
      "1600/1600 [==============================] - 1s 322us/sample - loss: 0.7360 - sparse_categorical_accuracy: 0.4162 - val_loss: 0.7401 - val_sparse_categorical_accuracy: 0.3900\n"
     ]
    },
    {
     "name": "stderr",
     "output_type": "stream",
     "text": [
      "\n",
      " 14%|█▍        | 14/100 [01:00<06:33,  4.58s/it]\u001b[A"
     ]
    },
    {
     "name": "stdout",
     "output_type": "stream",
     "text": [
      "0.39 3.443029003421429e-06 9.082524875696008e-05\n",
      "Train on 1600 samples, validate on 400 samples\n",
      "Epoch 1/5\n",
      "1600/1600 [==============================] - 1s 805us/sample - loss: 353.1152 - sparse_categorical_accuracy: 0.4944 - val_loss: 352.1544 - val_sparse_categorical_accuracy: 0.5200\n",
      "Epoch 2/5\n",
      "1600/1600 [==============================] - 1s 328us/sample - loss: 351.2375 - sparse_categorical_accuracy: 0.5006 - val_loss: 350.2820 - val_sparse_categorical_accuracy: 0.5125\n",
      "Epoch 3/5\n",
      "1600/1600 [==============================] - 1s 323us/sample - loss: 349.3699 - sparse_categorical_accuracy: 0.5038 - val_loss: 348.4196 - val_sparse_categorical_accuracy: 0.5150\n",
      "Epoch 4/5\n",
      "1600/1600 [==============================] - 1s 345us/sample - loss: 347.5124 - sparse_categorical_accuracy: 0.5138 - val_loss: 346.5672 - val_sparse_categorical_accuracy: 0.5225\n",
      "Epoch 5/5\n",
      "1600/1600 [==============================] - 1s 345us/sample - loss: 345.6649 - sparse_categorical_accuracy: 0.5150 - val_loss: 344.7249 - val_sparse_categorical_accuracy: 0.5175\n"
     ]
    },
    {
     "name": "stderr",
     "output_type": "stream",
     "text": [
      "\n",
      " 15%|█▌        | 15/100 [01:05<06:31,  4.60s/it]\u001b[A"
     ]
    },
    {
     "name": "stdout",
     "output_type": "stream",
     "text": [
      "0.5175 2.8697039633590683e-05 0.9292923415873653\n",
      "Train on 1600 samples, validate on 400 samples\n",
      "Epoch 1/5\n",
      "1600/1600 [==============================] - 1s 844us/sample - loss: 0.9476 - sparse_categorical_accuracy: 0.5231 - val_loss: 0.9475 - val_sparse_categorical_accuracy: 0.5200\n",
      "Epoch 2/5\n",
      "1600/1600 [==============================] - 1s 338us/sample - loss: 0.9465 - sparse_categorical_accuracy: 0.5088 - val_loss: 0.9464 - val_sparse_categorical_accuracy: 0.5075\n",
      "Epoch 3/5\n",
      "1600/1600 [==============================] - 1s 328us/sample - loss: 0.9454 - sparse_categorical_accuracy: 0.4963 - val_loss: 0.9454 - val_sparse_categorical_accuracy: 0.5150\n",
      "Epoch 4/5\n",
      "1600/1600 [==============================] - 1s 314us/sample - loss: 0.9443 - sparse_categorical_accuracy: 0.5025 - val_loss: 0.9443 - val_sparse_categorical_accuracy: 0.5150\n",
      "Epoch 5/5\n",
      "1600/1600 [==============================] - 0s 312us/sample - loss: 0.9432 - sparse_categorical_accuracy: 0.5056 - val_loss: 0.9433 - val_sparse_categorical_accuracy: 0.5150\n"
     ]
    },
    {
     "name": "stderr",
     "output_type": "stream",
     "text": [
      "\n",
      " 16%|█▌        | 16/100 [01:10<06:32,  4.67s/it]\u001b[A"
     ]
    },
    {
     "name": "stdout",
     "output_type": "stream",
     "text": [
      "0.515 1.0435325394110005e-05 0.0006530285808724126\n",
      "Train on 1600 samples, validate on 400 samples\n",
      "Epoch 1/5\n",
      "1600/1600 [==============================] - 1s 827us/sample - loss: 0.7232 - sparse_categorical_accuracy: 0.4975 - val_loss: 0.7261 - val_sparse_categorical_accuracy: 0.4850\n",
      "Epoch 2/5\n",
      "1600/1600 [==============================] - 1s 345us/sample - loss: 0.7228 - sparse_categorical_accuracy: 0.4994 - val_loss: 0.7258 - val_sparse_categorical_accuracy: 0.4900\n",
      "Epoch 3/5\n",
      "1600/1600 [==============================] - 1s 332us/sample - loss: 0.7225 - sparse_categorical_accuracy: 0.5019 - val_loss: 0.7255 - val_sparse_categorical_accuracy: 0.5000\n",
      "Epoch 4/5\n",
      "1600/1600 [==============================] - 1s 327us/sample - loss: 0.7222 - sparse_categorical_accuracy: 0.5038 - val_loss: 0.7251 - val_sparse_categorical_accuracy: 0.5025\n",
      "Epoch 5/5\n",
      "1600/1600 [==============================] - 1s 328us/sample - loss: 0.7218 - sparse_categorical_accuracy: 0.5088 - val_loss: 0.7248 - val_sparse_categorical_accuracy: 0.5100\n"
     ]
    },
    {
     "name": "stderr",
     "output_type": "stream",
     "text": [
      "\n",
      " 17%|█▋        | 17/100 [01:14<06:29,  4.69s/it]\u001b[A"
     ]
    },
    {
     "name": "stdout",
     "output_type": "stream",
     "text": [
      "0.51 4.117033610309343e-06 6.520392368295293e-05\n",
      "Train on 1600 samples, validate on 400 samples\n",
      "Epoch 1/5\n",
      "1600/1600 [==============================] - 1s 836us/sample - loss: 4.3296 - sparse_categorical_accuracy: 0.5031 - val_loss: 4.3255 - val_sparse_categorical_accuracy: 0.5150\n",
      "Epoch 2/5\n",
      "1600/1600 [==============================] - 1s 333us/sample - loss: 4.3283 - sparse_categorical_accuracy: 0.5044 - val_loss: 4.3243 - val_sparse_categorical_accuracy: 0.5200\n",
      "Epoch 3/5\n",
      "1600/1600 [==============================] - 1s 330us/sample - loss: 4.3270 - sparse_categorical_accuracy: 0.5056 - val_loss: 4.3231 - val_sparse_categorical_accuracy: 0.5250\n",
      "Epoch 4/5\n",
      "1600/1600 [==============================] - 1s 331us/sample - loss: 4.3257 - sparse_categorical_accuracy: 0.5081 - val_loss: 4.3219 - val_sparse_categorical_accuracy: 0.5250\n",
      "Epoch 5/5\n",
      "1600/1600 [==============================] - 1s 329us/sample - loss: 4.3245 - sparse_categorical_accuracy: 0.5119 - val_loss: 4.3207 - val_sparse_categorical_accuracy: 0.5275\n"
     ]
    },
    {
     "name": "stderr",
     "output_type": "stream",
     "text": [
      "\n",
      " 18%|█▊        | 18/100 [01:19<06:26,  4.71s/it]\u001b[A"
     ]
    },
    {
     "name": "stdout",
     "output_type": "stream",
     "text": [
      "0.5275 1.2654488229341971e-05 0.00953616816001502\n",
      "Train on 1600 samples, validate on 400 samples\n",
      "Epoch 1/5\n",
      "1600/1600 [==============================] - 1s 872us/sample - loss: 0.7198 - sparse_categorical_accuracy: 0.5000 - val_loss: 0.7121 - val_sparse_categorical_accuracy: 0.5275\n",
      "Epoch 2/5\n",
      "1600/1600 [==============================] - 1s 327us/sample - loss: 0.7105 - sparse_categorical_accuracy: 0.5156 - val_loss: 0.7041 - val_sparse_categorical_accuracy: 0.5500\n",
      "Epoch 3/5\n",
      "1600/1600 [==============================] - 1s 342us/sample - loss: 0.7026 - sparse_categorical_accuracy: 0.5350 - val_loss: 0.6972 - val_sparse_categorical_accuracy: 0.6150\n",
      "Epoch 4/5\n",
      "1600/1600 [==============================] - 1s 333us/sample - loss: 0.6955 - sparse_categorical_accuracy: 0.6194 - val_loss: 0.6909 - val_sparse_categorical_accuracy: 0.6625\n",
      "Epoch 5/5\n",
      "1600/1600 [==============================] - 0s 312us/sample - loss: 0.6891 - sparse_categorical_accuracy: 0.6812 - val_loss: 0.6853 - val_sparse_categorical_accuracy: 0.7125\n"
     ]
    },
    {
     "name": "stderr",
     "output_type": "stream",
     "text": [
      "\n"
     ]
    },
    {
     "name": "stdout",
     "output_type": "stream",
     "text": [
      "0.7125 9.265199120200374e-05 2.037886938220924e-05\n"
     ]
    },
    {
     "name": "stderr",
     "output_type": "stream",
     "text": [
      " 19%|█▉        | 19/100 [01:24<06:24,  4.75s/it]\u001b[A"
     ]
    },
    {
     "name": "stdout",
     "output_type": "stream",
     "text": [
      "Train on 1600 samples, validate on 400 samples\n",
      "Epoch 1/5\n",
      "1600/1600 [==============================] - 1s 831us/sample - loss: 11.3551 - sparse_categorical_accuracy: 0.6344 - val_loss: 11.2997 - val_sparse_categorical_accuracy: 0.6900\n",
      "Epoch 2/5\n",
      "1600/1600 [==============================] - 1s 340us/sample - loss: 11.2520 - sparse_categorical_accuracy: 0.6800 - val_loss: 11.2058 - val_sparse_categorical_accuracy: 0.6900\n",
      "Epoch 3/5\n",
      "1600/1600 [==============================] - 1s 323us/sample - loss: 11.1623 - sparse_categorical_accuracy: 0.6969 - val_loss: 11.1165 - val_sparse_categorical_accuracy: 0.7700\n",
      "Epoch 4/5\n",
      "1600/1600 [==============================] - 0s 312us/sample - loss: 11.0758 - sparse_categorical_accuracy: 0.7594 - val_loss: 11.0312 - val_sparse_categorical_accuracy: 0.8225\n",
      "Epoch 5/5\n",
      "1600/1600 [==============================] - 1s 330us/sample - loss: 10.9930 - sparse_categorical_accuracy: 0.8125 - val_loss: 10.9474 - val_sparse_categorical_accuracy: 0.8400\n"
     ]
    },
    {
     "name": "stderr",
     "output_type": "stream",
     "text": [
      "\n",
      " 20%|██        | 20/100 [01:29<06:19,  4.74s/it]\u001b[A"
     ]
    },
    {
     "name": "stdout",
     "output_type": "stream",
     "text": [
      "0.84 0.000907719033866728 0.02819076294441034\n",
      "Train on 1600 samples, validate on 400 samples\n",
      "Epoch 1/5\n",
      "1600/1600 [==============================] - 1s 903us/sample - loss: 2.0095 - sparse_categorical_accuracy: 0.4944 - val_loss: 2.0087 - val_sparse_categorical_accuracy: 0.4775\n",
      "Epoch 2/5\n",
      "1600/1600 [==============================] - 1s 333us/sample - loss: 2.0092 - sparse_categorical_accuracy: 0.4950 - val_loss: 2.0084 - val_sparse_categorical_accuracy: 0.4775\n",
      "Epoch 3/5\n",
      "1600/1600 [==============================] - 1s 330us/sample - loss: 2.0088 - sparse_categorical_accuracy: 0.4950 - val_loss: 2.0081 - val_sparse_categorical_accuracy: 0.4775\n",
      "Epoch 4/5\n",
      "1600/1600 [==============================] - 1s 330us/sample - loss: 2.0085 - sparse_categorical_accuracy: 0.4975 - val_loss: 2.0078 - val_sparse_categorical_accuracy: 0.4775\n",
      "Epoch 5/5\n",
      "1600/1600 [==============================] - 1s 332us/sample - loss: 2.0082 - sparse_categorical_accuracy: 0.4988 - val_loss: 2.0075 - val_sparse_categorical_accuracy: 0.4775\n"
     ]
    },
    {
     "name": "stderr",
     "output_type": "stream",
     "text": [
      "\n",
      " 21%|██        | 21/100 [01:34<06:19,  4.80s/it]\u001b[A"
     ]
    },
    {
     "name": "stdout",
     "output_type": "stream",
     "text": [
      "0.4775 4.23805682361898e-06 0.0034857533890601668\n",
      "Train on 1600 samples, validate on 400 samples\n",
      "Epoch 1/5\n",
      "1600/1600 [==============================] - 1s 904us/sample - loss: 2.0382 - sparse_categorical_accuracy: 0.6531 - val_loss: 2.0395 - val_sparse_categorical_accuracy: 0.6550\n",
      "Epoch 2/5\n",
      "1600/1600 [==============================] - 1s 344us/sample - loss: 2.0296 - sparse_categorical_accuracy: 0.6606 - val_loss: 2.0305 - val_sparse_categorical_accuracy: 0.6650\n",
      "Epoch 3/5\n",
      "1600/1600 [==============================] - 1s 320us/sample - loss: 2.0217 - sparse_categorical_accuracy: 0.6662 - val_loss: 2.0222 - val_sparse_categorical_accuracy: 0.6700\n",
      "Epoch 4/5\n",
      "1600/1600 [==============================] - 1s 317us/sample - loss: 2.0143 - sparse_categorical_accuracy: 0.6725 - val_loss: 2.0144 - val_sparse_categorical_accuracy: 0.6750\n",
      "Epoch 5/5\n",
      "1600/1600 [==============================] - 1s 316us/sample - loss: 2.0072 - sparse_categorical_accuracy: 0.6769 - val_loss: 2.0070 - val_sparse_categorical_accuracy: 0.6825\n"
     ]
    },
    {
     "name": "stderr",
     "output_type": "stream",
     "text": [
      "\n",
      " 22%|██▏       | 22/100 [01:39<06:17,  4.84s/it]\u001b[A"
     ]
    },
    {
     "name": "stdout",
     "output_type": "stream",
     "text": [
      "0.6825 0.0001447647468664353 0.0036236226833361\n",
      "Train on 1600 samples, validate on 400 samples\n",
      "Epoch 1/5\n",
      "1600/1600 [==============================] - 2s 949us/sample - loss: 0.6962 - sparse_categorical_accuracy: 0.4956 - val_loss: 0.7003 - val_sparse_categorical_accuracy: 0.4875\n",
      "Epoch 2/5\n",
      "1600/1600 [==============================] - 1s 321us/sample - loss: 0.6955 - sparse_categorical_accuracy: 0.4956 - val_loss: 0.6997 - val_sparse_categorical_accuracy: 0.4875\n",
      "Epoch 3/5\n",
      "1600/1600 [==============================] - 1s 324us/sample - loss: 0.6949 - sparse_categorical_accuracy: 0.4975 - val_loss: 0.6991 - val_sparse_categorical_accuracy: 0.4900\n",
      "Epoch 4/5\n",
      "1600/1600 [==============================] - 1s 321us/sample - loss: 0.6943 - sparse_categorical_accuracy: 0.4975 - val_loss: 0.6984 - val_sparse_categorical_accuracy: 0.4900\n",
      "Epoch 5/5\n",
      "1600/1600 [==============================] - 1s 340us/sample - loss: 0.6937 - sparse_categorical_accuracy: 0.4988 - val_loss: 0.6978 - val_sparse_categorical_accuracy: 0.4900\n"
     ]
    },
    {
     "name": "stderr",
     "output_type": "stream",
     "text": [
      "\n",
      " 23%|██▎       | 23/100 [01:44<06:18,  4.92s/it]\u001b[A"
     ]
    },
    {
     "name": "stdout",
     "output_type": "stream",
     "text": [
      "0.49 7.690420709806627e-06 4.013417470841404e-05\n",
      "Train on 1600 samples, validate on 400 samples\n",
      "Epoch 1/5\n",
      "1600/1600 [==============================] - 2s 958us/sample - loss: 191.8289 - sparse_categorical_accuracy: 0.5056 - val_loss: 191.7218 - val_sparse_categorical_accuracy: 0.5125\n",
      "Epoch 2/5\n",
      "1600/1600 [==============================] - 1s 330us/sample - loss: 191.6191 - sparse_categorical_accuracy: 0.5075 - val_loss: 191.5122 - val_sparse_categorical_accuracy: 0.5150\n",
      "Epoch 3/5\n",
      "1600/1600 [==============================] - 1s 326us/sample - loss: 191.4095 - sparse_categorical_accuracy: 0.5075 - val_loss: 191.3029 - val_sparse_categorical_accuracy: 0.5150\n",
      "Epoch 4/5\n",
      "1600/1600 [==============================] - 1s 334us/sample - loss: 191.2002 - sparse_categorical_accuracy: 0.5069 - val_loss: 191.0939 - val_sparse_categorical_accuracy: 0.5175\n",
      "Epoch 5/5\n",
      "1600/1600 [==============================] - 1s 323us/sample - loss: 190.9913 - sparse_categorical_accuracy: 0.5094 - val_loss: 190.8852 - val_sparse_categorical_accuracy: 0.5250\n"
     ]
    },
    {
     "name": "stderr",
     "output_type": "stream",
     "text": [
      "\n",
      " 24%|██▍       | 24/100 [01:49<06:21,  5.02s/it]\u001b[A"
     ]
    },
    {
     "name": "stdout",
     "output_type": "stream",
     "text": [
      "0.525 1.0850918642667118e-05 0.5020762897018434\n",
      "Train on 1600 samples, validate on 400 samples\n",
      "Epoch 1/5\n",
      "1600/1600 [==============================] - 2s 971us/sample - loss: 0.8264 - sparse_categorical_accuracy: 0.4056 - val_loss: 0.8199 - val_sparse_categorical_accuracy: 0.4350\n",
      "Epoch 2/5\n",
      "1600/1600 [==============================] - 1s 343us/sample - loss: 0.8114 - sparse_categorical_accuracy: 0.4650 - val_loss: 0.8054 - val_sparse_categorical_accuracy: 0.4800\n",
      "Epoch 3/5\n",
      "1600/1600 [==============================] - 1s 336us/sample - loss: 0.7977 - sparse_categorical_accuracy: 0.5075 - val_loss: 0.7919 - val_sparse_categorical_accuracy: 0.5225\n",
      "Epoch 4/5\n",
      "1600/1600 [==============================] - 1s 331us/sample - loss: 0.7851 - sparse_categorical_accuracy: 0.5581 - val_loss: 0.7793 - val_sparse_categorical_accuracy: 0.6050\n",
      "Epoch 5/5\n",
      "1600/1600 [==============================] - 1s 339us/sample - loss: 0.7736 - sparse_categorical_accuracy: 0.6538 - val_loss: 0.7678 - val_sparse_categorical_accuracy: 0.6475\n"
     ]
    },
    {
     "name": "stderr",
     "output_type": "stream",
     "text": [
      "\n",
      " 25%|██▌       | 25/100 [01:54<06:22,  5.10s/it]\u001b[A"
     ]
    },
    {
     "name": "stdout",
     "output_type": "stream",
     "text": [
      "0.6475 0.00018026823173780294 0.00032072654825978243\n",
      "Train on 1600 samples, validate on 400 samples\n",
      "Epoch 1/5\n",
      "1600/1600 [==============================] - 2s 976us/sample - loss: 0.7389 - sparse_categorical_accuracy: 0.5138 - val_loss: 0.7372 - val_sparse_categorical_accuracy: 0.5075\n",
      "Epoch 2/5\n",
      "1600/1600 [==============================] - 1s 338us/sample - loss: 0.7328 - sparse_categorical_accuracy: 0.5138 - val_loss: 0.7312 - val_sparse_categorical_accuracy: 0.5125\n",
      "Epoch 3/5\n",
      "1600/1600 [==============================] - 1s 334us/sample - loss: 0.7270 - sparse_categorical_accuracy: 0.5175 - val_loss: 0.7254 - val_sparse_categorical_accuracy: 0.5075\n",
      "Epoch 4/5\n",
      "1600/1600 [==============================] - 1s 336us/sample - loss: 0.7212 - sparse_categorical_accuracy: 0.5269 - val_loss: 0.7196 - val_sparse_categorical_accuracy: 0.5350\n",
      "Epoch 5/5\n",
      "1600/1600 [==============================] - 1s 332us/sample - loss: 0.7156 - sparse_categorical_accuracy: 0.5431 - val_loss: 0.7139 - val_sparse_categorical_accuracy: 0.5700\n"
     ]
    },
    {
     "name": "stderr",
     "output_type": "stream",
     "text": [
      "\n",
      " 26%|██▌       | 26/100 [02:00<06:21,  5.15s/it]\u001b[A"
     ]
    },
    {
     "name": "stdout",
     "output_type": "stream",
     "text": [
      "0.57 6.154141363065018e-05 0.00017407547598026723\n",
      "Train on 1600 samples, validate on 400 samples\n",
      "Epoch 1/5\n",
      "1600/1600 [==============================] - 2s 945us/sample - loss: 0.7235 - sparse_categorical_accuracy: 0.4938 - val_loss: 0.7240 - val_sparse_categorical_accuracy: 0.4900\n",
      "Epoch 2/5\n",
      "1600/1600 [==============================] - 1s 326us/sample - loss: 0.7233 - sparse_categorical_accuracy: 0.4938 - val_loss: 0.7238 - val_sparse_categorical_accuracy: 0.4900\n",
      "Epoch 3/5\n",
      "1600/1600 [==============================] - 1s 333us/sample - loss: 0.7231 - sparse_categorical_accuracy: 0.4938 - val_loss: 0.7236 - val_sparse_categorical_accuracy: 0.4900\n",
      "Epoch 4/5\n",
      "1600/1600 [==============================] - 1s 331us/sample - loss: 0.7229 - sparse_categorical_accuracy: 0.4938 - val_loss: 0.7234 - val_sparse_categorical_accuracy: 0.4900\n",
      "Epoch 5/5\n",
      "1600/1600 [==============================] - 1s 315us/sample - loss: 0.7227 - sparse_categorical_accuracy: 0.4944 - val_loss: 0.7232 - val_sparse_categorical_accuracy: 0.4900\n"
     ]
    },
    {
     "name": "stderr",
     "output_type": "stream",
     "text": [
      "\n",
      " 27%|██▋       | 27/100 [02:05<06:16,  5.16s/it]\u001b[A"
     ]
    },
    {
     "name": "stdout",
     "output_type": "stream",
     "text": [
      "0.49 4.387663719454188e-06 9.538315753251952e-05\n",
      "Train on 1600 samples, validate on 400 samples\n",
      "Epoch 1/5\n",
      "1600/1600 [==============================] - 2s 968us/sample - loss: 2388.0425 - sparse_categorical_accuracy: 0.5581 - val_loss: 2134.9293 - val_sparse_categorical_accuracy: 0.5375\n",
      "Epoch 2/5\n",
      "1600/1600 [==============================] - 1s 339us/sample - loss: 1924.3618 - sparse_categorical_accuracy: 0.6050 - val_loss: 1720.4111 - val_sparse_categorical_accuracy: 0.6025\n",
      "Epoch 3/5\n",
      "1600/1600 [==============================] - 1s 343us/sample - loss: 1550.7420 - sparse_categorical_accuracy: 0.6319 - val_loss: 1386.4039 - val_sparse_categorical_accuracy: 0.6125\n",
      "Epoch 4/5\n",
      "1600/1600 [==============================] - 1s 331us/sample - loss: 1249.6890 - sparse_categorical_accuracy: 0.6031 - val_loss: 1117.2692 - val_sparse_categorical_accuracy: 0.6025\n",
      "Epoch 5/5\n",
      "1600/1600 [==============================] - 1s 358us/sample - loss: 1007.1078 - sparse_categorical_accuracy: 0.6475 - val_loss: 900.4069 - val_sparse_categorical_accuracy: 0.5775\n"
     ]
    },
    {
     "name": "stderr",
     "output_type": "stream",
     "text": [
      "\n",
      " 28%|██▊       | 28/100 [02:10<06:13,  5.19s/it]\u001b[A"
     ]
    },
    {
     "name": "stdout",
     "output_type": "stream",
     "text": [
      "0.5775 0.00015456887118549164 6.977927954508677\n",
      "Train on 1600 samples, validate on 400 samples\n",
      "Epoch 1/5\n",
      "1600/1600 [==============================] - 2s 987us/sample - loss: 0.7109 - sparse_categorical_accuracy: 0.4800 - val_loss: 0.7112 - val_sparse_categorical_accuracy: 0.4825\n",
      "Epoch 2/5\n",
      "1600/1600 [==============================] - 1s 348us/sample - loss: 0.7107 - sparse_categorical_accuracy: 0.4800 - val_loss: 0.7110 - val_sparse_categorical_accuracy: 0.4850\n",
      "Epoch 3/5\n",
      "1600/1600 [==============================] - 1s 348us/sample - loss: 0.7106 - sparse_categorical_accuracy: 0.4806 - val_loss: 0.7108 - val_sparse_categorical_accuracy: 0.4875\n",
      "Epoch 4/5\n",
      "1600/1600 [==============================] - 1s 338us/sample - loss: 0.7104 - sparse_categorical_accuracy: 0.4819 - val_loss: 0.7106 - val_sparse_categorical_accuracy: 0.4875\n",
      "Epoch 5/5\n",
      "1600/1600 [==============================] - 1s 338us/sample - loss: 0.7102 - sparse_categorical_accuracy: 0.4825 - val_loss: 0.7105 - val_sparse_categorical_accuracy: 0.4900\n"
     ]
    },
    {
     "name": "stderr",
     "output_type": "stream",
     "text": [
      "\n",
      " 29%|██▉       | 29/100 [02:15<06:14,  5.27s/it]\u001b[A"
     ]
    },
    {
     "name": "stdout",
     "output_type": "stream",
     "text": [
      "0.49 2.646981507788021e-06 1.87219596892905e-05\n",
      "Train on 1600 samples, validate on 400 samples\n",
      "Epoch 1/5\n",
      "1600/1600 [==============================] - 2s 1ms/sample - loss: 301.1257 - sparse_categorical_accuracy: 0.5019 - val_loss: 296.9528 - val_sparse_categorical_accuracy: 0.4975\n",
      "Epoch 2/5\n",
      "1600/1600 [==============================] - 1s 339us/sample - loss: 293.0119 - sparse_categorical_accuracy: 0.5025 - val_loss: 288.9524 - val_sparse_categorical_accuracy: 0.5000\n",
      "Epoch 3/5\n",
      "1600/1600 [==============================] - 1s 324us/sample - loss: 285.1199 - sparse_categorical_accuracy: 0.5487 - val_loss: 281.1704 - val_sparse_categorical_accuracy: 0.6175\n",
      "Epoch 4/5\n",
      "1600/1600 [==============================] - 1s 320us/sample - loss: 277.4428 - sparse_categorical_accuracy: 0.6394 - val_loss: 273.6001 - val_sparse_categorical_accuracy: 0.6525\n",
      "Epoch 5/5\n",
      "1600/1600 [==============================] - 1s 316us/sample - loss: 269.9739 - sparse_categorical_accuracy: 0.6594 - val_loss: 266.2349 - val_sparse_categorical_accuracy: 0.6625\n"
     ]
    },
    {
     "name": "stderr",
     "output_type": "stream",
     "text": [
      "\n",
      " 30%|███       | 30/100 [02:21<06:11,  5.31s/it]\u001b[A"
     ]
    },
    {
     "name": "stdout",
     "output_type": "stream",
     "text": [
      "0.6625 0.00017037108296519987 0.8021460173530259\n",
      "Train on 1600 samples, validate on 400 samples\n",
      "Epoch 1/5\n",
      "1600/1600 [==============================] - 2s 969us/sample - loss: 17.3916 - sparse_categorical_accuracy: 0.5487 - val_loss: 17.3891 - val_sparse_categorical_accuracy: 0.5500\n",
      "Epoch 2/5\n",
      "1600/1600 [==============================] - 1s 340us/sample - loss: 17.3811 - sparse_categorical_accuracy: 0.5831 - val_loss: 17.3787 - val_sparse_categorical_accuracy: 0.5675\n",
      "Epoch 3/5\n",
      "1600/1600 [==============================] - 1s 334us/sample - loss: 17.3707 - sparse_categorical_accuracy: 0.5969 - val_loss: 17.3683 - val_sparse_categorical_accuracy: 0.5725\n",
      "Epoch 4/5\n",
      "1600/1600 [==============================] - 1s 350us/sample - loss: 17.3601 - sparse_categorical_accuracy: 0.6225 - val_loss: 17.3577 - val_sparse_categorical_accuracy: 0.5875\n",
      "Epoch 5/5\n",
      "1600/1600 [==============================] - 1s 339us/sample - loss: 17.3496 - sparse_categorical_accuracy: 0.6331 - val_loss: 17.3471 - val_sparse_categorical_accuracy: 0.5925\n"
     ]
    },
    {
     "name": "stderr",
     "output_type": "stream",
     "text": [
      "\n",
      " 31%|███       | 31/100 [02:26<06:09,  5.36s/it]\u001b[A"
     ]
    },
    {
     "name": "stdout",
     "output_type": "stream",
     "text": [
      "0.5925 5.3386223330853465e-05 0.04396760040640608\n",
      "Train on 1600 samples, validate on 400 samples\n",
      "Epoch 1/5\n",
      "1600/1600 [==============================] - 2s 1ms/sample - loss: 153.5651 - sparse_categorical_accuracy: 0.6381 - val_loss: 151.9372 - val_sparse_categorical_accuracy: 0.7775\n",
      "Epoch 2/5\n",
      "1600/1600 [==============================] - 1s 359us/sample - loss: 150.4053 - sparse_categorical_accuracy: 0.7987 - val_loss: 148.8218 - val_sparse_categorical_accuracy: 0.8025\n",
      "Epoch 3/5\n",
      "1600/1600 [==============================] - 1s 339us/sample - loss: 147.3237 - sparse_categorical_accuracy: 0.7994 - val_loss: 145.7746 - val_sparse_categorical_accuracy: 0.8100\n",
      "Epoch 4/5\n",
      "1600/1600 [==============================] - 1s 341us/sample - loss: 144.3086 - sparse_categorical_accuracy: 0.8169 - val_loss: 142.7921 - val_sparse_categorical_accuracy: 0.8125\n",
      "Epoch 5/5\n",
      "1600/1600 [==============================] - 1s 322us/sample - loss: 141.3571 - sparse_categorical_accuracy: 0.7975 - val_loss: 139.8715 - val_sparse_categorical_accuracy: 0.8325\n"
     ]
    },
    {
     "name": "stderr",
     "output_type": "stream",
     "text": [
      "\n",
      " 32%|███▏      | 32/100 [02:32<06:07,  5.40s/it]\u001b[A"
     ]
    },
    {
     "name": "stdout",
     "output_type": "stream",
     "text": [
      "0.8325 0.00025471075203979877 0.4059713567790422\n",
      "Train on 1600 samples, validate on 400 samples\n",
      "Epoch 1/5\n",
      "1600/1600 [==============================] - 2s 1ms/sample - loss: 239.6438 - sparse_categorical_accuracy: 0.4125 - val_loss: 239.6067 - val_sparse_categorical_accuracy: 0.3900\n",
      "Epoch 2/5\n",
      "1600/1600 [==============================] - 1s 342us/sample - loss: 239.5681 - sparse_categorical_accuracy: 0.4119 - val_loss: 239.5310 - val_sparse_categorical_accuracy: 0.3900\n",
      "Epoch 3/5\n",
      "1600/1600 [==============================] - 1s 337us/sample - loss: 239.4924 - sparse_categorical_accuracy: 0.4150 - val_loss: 239.4553 - val_sparse_categorical_accuracy: 0.3925\n",
      "Epoch 4/5\n",
      "1600/1600 [==============================] - 1s 337us/sample - loss: 239.4168 - sparse_categorical_accuracy: 0.4175 - val_loss: 239.3797 - val_sparse_categorical_accuracy: 0.3925\n",
      "Epoch 5/5\n",
      "1600/1600 [==============================] - 1s 320us/sample - loss: 239.3411 - sparse_categorical_accuracy: 0.4212 - val_loss: 239.3041 - val_sparse_categorical_accuracy: 0.3950\n"
     ]
    },
    {
     "name": "stderr",
     "output_type": "stream",
     "text": [
      "\n",
      " 33%|███▎      | 33/100 [02:37<06:04,  5.44s/it]\u001b[A"
     ]
    },
    {
     "name": "stdout",
     "output_type": "stream",
     "text": [
      "0.395 2.5114178834836524e-06 0.6288631760069927\n",
      "Train on 1600 samples, validate on 400 samples\n",
      "Epoch 1/5\n",
      "1600/1600 [==============================] - 2s 1ms/sample - loss: 356.0994 - sparse_categorical_accuracy: 0.4981 - val_loss: 355.6086 - val_sparse_categorical_accuracy: 0.5075\n",
      "Epoch 2/5\n",
      "1600/1600 [==============================] - 1s 341us/sample - loss: 355.1467 - sparse_categorical_accuracy: 0.4981 - val_loss: 354.6574 - val_sparse_categorical_accuracy: 0.5075\n",
      "Epoch 3/5\n",
      "1600/1600 [==============================] - 1s 329us/sample - loss: 354.1966 - sparse_categorical_accuracy: 0.4981 - val_loss: 353.7089 - val_sparse_categorical_accuracy: 0.5075\n",
      "Epoch 4/5\n",
      "1600/1600 [==============================] - 1s 325us/sample - loss: 353.2493 - sparse_categorical_accuracy: 0.4981 - val_loss: 352.7631 - val_sparse_categorical_accuracy: 0.5075\n",
      "Epoch 5/5\n",
      "1600/1600 [==============================] - 1s 323us/sample - loss: 352.3047 - sparse_categorical_accuracy: 0.4981 - val_loss: 351.8200 - val_sparse_categorical_accuracy: 0.5075\n"
     ]
    },
    {
     "name": "stderr",
     "output_type": "stream",
     "text": [
      "\n",
      " 34%|███▍      | 34/100 [02:43<05:59,  5.45s/it]\u001b[A"
     ]
    },
    {
     "name": "stdout",
     "output_type": "stream",
     "text": [
      "0.5075 1.4278912698584873e-05 0.9360299648866979\n",
      "Train on 1600 samples, validate on 400 samples\n",
      "Epoch 1/5\n",
      "1600/1600 [==============================] - 2s 1ms/sample - loss: 0.7889 - sparse_categorical_accuracy: 0.5163 - val_loss: 0.7862 - val_sparse_categorical_accuracy: 0.5450\n",
      "Epoch 2/5\n",
      "1600/1600 [==============================] - 1s 342us/sample - loss: 0.7886 - sparse_categorical_accuracy: 0.5169 - val_loss: 0.7860 - val_sparse_categorical_accuracy: 0.5475\n",
      "Epoch 3/5\n",
      "1600/1600 [==============================] - 1s 337us/sample - loss: 0.7884 - sparse_categorical_accuracy: 0.5188 - val_loss: 0.7857 - val_sparse_categorical_accuracy: 0.5475\n",
      "Epoch 4/5\n",
      "1600/1600 [==============================] - 1s 333us/sample - loss: 0.7881 - sparse_categorical_accuracy: 0.5194 - val_loss: 0.7855 - val_sparse_categorical_accuracy: 0.5500\n",
      "Epoch 5/5\n",
      "1600/1600 [==============================] - 1s 336us/sample - loss: 0.7878 - sparse_categorical_accuracy: 0.5188 - val_loss: 0.7852 - val_sparse_categorical_accuracy: 0.5525\n"
     ]
    },
    {
     "name": "stderr",
     "output_type": "stream",
     "text": [
      "\n",
      " 35%|███▌      | 35/100 [02:48<05:58,  5.51s/it]\u001b[A"
     ]
    },
    {
     "name": "stdout",
     "output_type": "stream",
     "text": [
      "0.5525 2.7258163174918344e-06 0.00023393554973539238\n",
      "Train on 1600 samples, validate on 400 samples\n",
      "Epoch 1/5\n",
      "1600/1600 [==============================] - 2s 1ms/sample - loss: 0.8817 - sparse_categorical_accuracy: 0.5263 - val_loss: 0.8729 - val_sparse_categorical_accuracy: 0.5850\n",
      "Epoch 2/5\n",
      "1600/1600 [==============================] - 1s 332us/sample - loss: 0.8655 - sparse_categorical_accuracy: 0.6056 - val_loss: 0.8588 - val_sparse_categorical_accuracy: 0.6125\n",
      "Epoch 3/5\n",
      "1600/1600 [==============================] - 1s 330us/sample - loss: 0.8530 - sparse_categorical_accuracy: 0.6194 - val_loss: 0.8468 - val_sparse_categorical_accuracy: 0.6250\n",
      "Epoch 4/5\n",
      "1600/1600 [==============================] - 1s 322us/sample - loss: 0.8421 - sparse_categorical_accuracy: 0.6288 - val_loss: 0.8359 - val_sparse_categorical_accuracy: 0.6375\n",
      "Epoch 5/5\n",
      "1600/1600 [==============================] - 1s 337us/sample - loss: 0.8324 - sparse_categorical_accuracy: 0.6356 - val_loss: 0.8259 - val_sparse_categorical_accuracy: 0.6500\n"
     ]
    },
    {
     "name": "stderr",
     "output_type": "stream",
     "text": [
      "\n",
      " 36%|███▌      | 36/100 [02:54<05:53,  5.53s/it]\u001b[A"
     ]
    },
    {
     "name": "stdout",
     "output_type": "stream",
     "text": [
      "0.65 0.0002075540903800005 0.0005065698232913074\n",
      "Train on 1600 samples, validate on 400 samples\n",
      "Epoch 1/5\n",
      "1600/1600 [==============================] - 2s 1ms/sample - loss: 31.1216 - sparse_categorical_accuracy: 0.4994 - val_loss: 31.1159 - val_sparse_categorical_accuracy: 0.5100\n",
      "Epoch 2/5\n",
      "1600/1600 [==============================] - 1s 335us/sample - loss: 31.1149 - sparse_categorical_accuracy: 0.4988 - val_loss: 31.1093 - val_sparse_categorical_accuracy: 0.5075\n",
      "Epoch 3/5\n",
      "1600/1600 [==============================] - 1s 335us/sample - loss: 31.1082 - sparse_categorical_accuracy: 0.4975 - val_loss: 31.1027 - val_sparse_categorical_accuracy: 0.5075\n",
      "Epoch 4/5\n",
      "1600/1600 [==============================] - 1s 352us/sample - loss: 31.1015 - sparse_categorical_accuracy: 0.4975 - val_loss: 31.0961 - val_sparse_categorical_accuracy: 0.5100\n",
      "Epoch 5/5\n",
      "1600/1600 [==============================] - 1s 343us/sample - loss: 31.0949 - sparse_categorical_accuracy: 0.4969 - val_loss: 31.0896 - val_sparse_categorical_accuracy: 0.5100\n"
     ]
    },
    {
     "name": "stderr",
     "output_type": "stream",
     "text": [
      "\n",
      " 37%|███▋      | 37/100 [03:00<05:55,  5.64s/it]\u001b[A"
     ]
    },
    {
     "name": "stdout",
     "output_type": "stream",
     "text": [
      "0.51 1.0834220652782705e-05 0.07975959365742281\n",
      "Train on 1600 samples, validate on 400 samples\n",
      "Epoch 1/5\n",
      "1600/1600 [==============================] - 2s 1ms/sample - loss: 94.5365 - sparse_categorical_accuracy: 0.6275 - val_loss: 93.9168 - val_sparse_categorical_accuracy: 0.6175\n",
      "Epoch 2/5\n",
      "1600/1600 [==============================] - 1s 333us/sample - loss: 93.3236 - sparse_categorical_accuracy: 0.6506 - val_loss: 92.7126 - val_sparse_categorical_accuracy: 0.6300\n",
      "Epoch 3/5\n",
      "1600/1600 [==============================] - 1s 324us/sample - loss: 92.1288 - sparse_categorical_accuracy: 0.6606 - val_loss: 91.5258 - val_sparse_categorical_accuracy: 0.6300\n",
      "Epoch 4/5\n",
      "1600/1600 [==============================] - 1s 324us/sample - loss: 90.9510 - sparse_categorical_accuracy: 0.6762 - val_loss: 90.3558 - val_sparse_categorical_accuracy: 0.7075\n",
      "Epoch 5/5\n",
      "1600/1600 [==============================] - 1s 324us/sample - loss: 89.7895 - sparse_categorical_accuracy: 0.7475 - val_loss: 89.2015 - val_sparse_categorical_accuracy: 0.7625\n"
     ]
    },
    {
     "name": "stderr",
     "output_type": "stream",
     "text": [
      "\n",
      " 38%|███▊      | 38/100 [03:05<05:48,  5.62s/it]\u001b[A"
     ]
    },
    {
     "name": "stdout",
     "output_type": "stream",
     "text": [
      "0.7625 0.00025884881440132063 0.2482169550852154\n",
      "Train on 1600 samples, validate on 400 samples\n",
      "Epoch 1/5\n",
      "1600/1600 [==============================] - 2s 1ms/sample - loss: 1.1649 - sparse_categorical_accuracy: 0.4200 - val_loss: 1.1655 - val_sparse_categorical_accuracy: 0.4075\n",
      "Epoch 2/5\n",
      "1600/1600 [==============================] - 1s 373us/sample - loss: 1.1640 - sparse_categorical_accuracy: 0.4212 - val_loss: 1.1646 - val_sparse_categorical_accuracy: 0.4125\n",
      "Epoch 3/5\n",
      "1600/1600 [==============================] - 1s 347us/sample - loss: 1.1631 - sparse_categorical_accuracy: 0.4269 - val_loss: 1.1638 - val_sparse_categorical_accuracy: 0.4200\n",
      "Epoch 4/5\n",
      "1600/1600 [==============================] - 1s 348us/sample - loss: 1.1622 - sparse_categorical_accuracy: 0.4313 - val_loss: 1.1629 - val_sparse_categorical_accuracy: 0.4225\n",
      "Epoch 5/5\n",
      "1600/1600 [==============================] - 1s 339us/sample - loss: 1.1613 - sparse_categorical_accuracy: 0.4363 - val_loss: 1.1621 - val_sparse_categorical_accuracy: 0.4300\n"
     ]
    },
    {
     "name": "stderr",
     "output_type": "stream",
     "text": [
      "\n",
      " 39%|███▉      | 39/100 [03:11<05:47,  5.70s/it]\u001b[A"
     ]
    },
    {
     "name": "stdout",
     "output_type": "stream",
     "text": [
      "0.43 8.271536231351764e-06 0.0012232194239774107\n",
      "Train on 1600 samples, validate on 400 samples\n",
      "Epoch 1/5\n",
      "1600/1600 [==============================] - 2s 1ms/sample - loss: 0.7118 - sparse_categorical_accuracy: 0.5763 - val_loss: 0.7086 - val_sparse_categorical_accuracy: 0.6250\n",
      "Epoch 2/5\n",
      "1600/1600 [==============================] - 1s 327us/sample - loss: 0.7116 - sparse_categorical_accuracy: 0.5750 - val_loss: 0.7085 - val_sparse_categorical_accuracy: 0.6250\n",
      "Epoch 3/5\n",
      "1600/1600 [==============================] - 1s 326us/sample - loss: 0.7115 - sparse_categorical_accuracy: 0.5744 - val_loss: 0.7084 - val_sparse_categorical_accuracy: 0.6225\n",
      "Epoch 4/5\n",
      "1600/1600 [==============================] - 1s 323us/sample - loss: 0.7114 - sparse_categorical_accuracy: 0.5769 - val_loss: 0.7083 - val_sparse_categorical_accuracy: 0.6225\n",
      "Epoch 5/5\n",
      "1600/1600 [==============================] - 1s 322us/sample - loss: 0.7113 - sparse_categorical_accuracy: 0.5769 - val_loss: 0.7082 - val_sparse_categorical_accuracy: 0.6250\n"
     ]
    },
    {
     "name": "stderr",
     "output_type": "stream",
     "text": [
      "\n",
      " 40%|████      | 40/100 [03:17<05:43,  5.72s/it]\u001b[A"
     ]
    },
    {
     "name": "stdout",
     "output_type": "stream",
     "text": [
      "0.625 1.8745890989623193e-06 5.359541702599964e-05\n",
      "Train on 1600 samples, validate on 400 samples\n",
      "Epoch 1/5\n",
      "1600/1600 [==============================] - 2s 1ms/sample - loss: 194.2518 - sparse_categorical_accuracy: 0.4825 - val_loss: 193.4592 - val_sparse_categorical_accuracy: 0.4800\n",
      "Epoch 2/5\n",
      "1600/1600 [==============================] - 1s 345us/sample - loss: 192.7009 - sparse_categorical_accuracy: 0.5231 - val_loss: 191.9177 - val_sparse_categorical_accuracy: 0.5575\n",
      "Epoch 3/5\n",
      "1600/1600 [==============================] - 1s 335us/sample - loss: 191.1673 - sparse_categorical_accuracy: 0.6019 - val_loss: 190.3923 - val_sparse_categorical_accuracy: 0.6775\n",
      "Epoch 4/5\n",
      "1600/1600 [==============================] - 1s 330us/sample - loss: 189.6491 - sparse_categorical_accuracy: 0.7019 - val_loss: 188.8815 - val_sparse_categorical_accuracy: 0.7300\n",
      "Epoch 5/5\n",
      "1600/1600 [==============================] - 1s 326us/sample - loss: 188.1447 - sparse_categorical_accuracy: 0.7425 - val_loss: 187.3840 - val_sparse_categorical_accuracy: 0.7600\n"
     ]
    },
    {
     "name": "stderr",
     "output_type": "stream",
     "text": [
      "\n",
      " 41%|████      | 41/100 [03:23<05:38,  5.73s/it]\u001b[A"
     ]
    },
    {
     "name": "stdout",
     "output_type": "stream",
     "text": [
      "0.76 7.777061355144656e-05 0.5115875688334692\n",
      "Train on 1600 samples, validate on 400 samples\n",
      "Epoch 1/5\n",
      "1600/1600 [==============================] - 2s 1ms/sample - loss: 0.7052 - sparse_categorical_accuracy: 0.5063 - val_loss: 0.7036 - val_sparse_categorical_accuracy: 0.5000\n",
      "Epoch 2/5\n",
      "1600/1600 [==============================] - 1s 329us/sample - loss: 0.7051 - sparse_categorical_accuracy: 0.5069 - val_loss: 0.7035 - val_sparse_categorical_accuracy: 0.5000\n",
      "Epoch 3/5\n",
      "1600/1600 [==============================] - 1s 326us/sample - loss: 0.7049 - sparse_categorical_accuracy: 0.5069 - val_loss: 0.7033 - val_sparse_categorical_accuracy: 0.5000\n",
      "Epoch 4/5\n",
      "1600/1600 [==============================] - 1s 333us/sample - loss: 0.7048 - sparse_categorical_accuracy: 0.5069 - val_loss: 0.7032 - val_sparse_categorical_accuracy: 0.5000\n",
      "Epoch 5/5\n",
      "1600/1600 [==============================] - 1s 339us/sample - loss: 0.7046 - sparse_categorical_accuracy: 0.5069 - val_loss: 0.7030 - val_sparse_categorical_accuracy: 0.5000\n"
     ]
    },
    {
     "name": "stderr",
     "output_type": "stream",
     "text": [
      "\n",
      " 42%|████▏     | 42/100 [03:29<05:33,  5.75s/it]\u001b[A"
     ]
    },
    {
     "name": "stdout",
     "output_type": "stream",
     "text": [
      "0.5 1.2614216985729846e-06 6.660030104331341e-05\n",
      "Train on 1600 samples, validate on 400 samples\n",
      "Epoch 1/5\n",
      "1600/1600 [==============================] - 2s 1ms/sample - loss: 2.5058 - sparse_categorical_accuracy: 0.5869 - val_loss: 2.5047 - val_sparse_categorical_accuracy: 0.5800\n",
      "Epoch 2/5\n",
      "1600/1600 [==============================] - 1s 343us/sample - loss: 2.5019 - sparse_categorical_accuracy: 0.5713 - val_loss: 2.5011 - val_sparse_categorical_accuracy: 0.5625\n",
      "Epoch 3/5\n",
      "1600/1600 [==============================] - 1s 332us/sample - loss: 2.4982 - sparse_categorical_accuracy: 0.5738 - val_loss: 2.4977 - val_sparse_categorical_accuracy: 0.5550\n",
      "Epoch 4/5\n",
      "1600/1600 [==============================] - 1s 331us/sample - loss: 2.4948 - sparse_categorical_accuracy: 0.5763 - val_loss: 2.4944 - val_sparse_categorical_accuracy: 0.5750\n",
      "Epoch 5/5\n",
      "1600/1600 [==============================] - 1s 324us/sample - loss: 2.4915 - sparse_categorical_accuracy: 0.5800 - val_loss: 2.4914 - val_sparse_categorical_accuracy: 0.5750\n"
     ]
    },
    {
     "name": "stderr",
     "output_type": "stream",
     "text": [
      "\n",
      " 43%|████▎     | 43/100 [03:35<05:30,  5.80s/it]\u001b[A"
     ]
    },
    {
     "name": "stdout",
     "output_type": "stream",
     "text": [
      "0.575 5.5166745697945856e-05 0.004779290270845103\n",
      "Train on 1600 samples, validate on 400 samples\n",
      "Epoch 1/5\n",
      "1600/1600 [==============================] - 2s 1ms/sample - loss: 0.8040 - sparse_categorical_accuracy: 0.5163 - val_loss: 0.8042 - val_sparse_categorical_accuracy: 0.5625\n",
      "Epoch 2/5\n",
      "1600/1600 [==============================] - 1s 365us/sample - loss: 0.8038 - sparse_categorical_accuracy: 0.5194 - val_loss: 0.8040 - val_sparse_categorical_accuracy: 0.5600\n",
      "Epoch 3/5\n",
      "1600/1600 [==============================] - 1s 342us/sample - loss: 0.8036 - sparse_categorical_accuracy: 0.5213 - val_loss: 0.8038 - val_sparse_categorical_accuracy: 0.5625\n",
      "Epoch 4/5\n",
      "1600/1600 [==============================] - 1s 340us/sample - loss: 0.8035 - sparse_categorical_accuracy: 0.5225 - val_loss: 0.8037 - val_sparse_categorical_accuracy: 0.5625\n",
      "Epoch 5/5\n",
      "1600/1600 [==============================] - 1s 323us/sample - loss: 0.8033 - sparse_categorical_accuracy: 0.5225 - val_loss: 0.8035 - val_sparse_categorical_accuracy: 0.5625\n"
     ]
    },
    {
     "name": "stderr",
     "output_type": "stream",
     "text": [
      "\n",
      " 44%|████▍     | 44/100 [03:41<05:30,  5.90s/it]\u001b[A"
     ]
    },
    {
     "name": "stdout",
     "output_type": "stream",
     "text": [
      "0.5625 2.5392291415778403e-06 0.0002704616518162811\n",
      "Train on 1600 samples, validate on 400 samples\n",
      "Epoch 1/5\n",
      "1600/1600 [==============================] - 2s 1ms/sample - loss: 0.7364 - sparse_categorical_accuracy: 0.5831 - val_loss: 0.7335 - val_sparse_categorical_accuracy: 0.5875\n",
      "Epoch 2/5\n",
      "1600/1600 [==============================] - 1s 365us/sample - loss: 0.7335 - sparse_categorical_accuracy: 0.5956 - val_loss: 0.7308 - val_sparse_categorical_accuracy: 0.6075\n",
      "Epoch 3/5\n",
      "1600/1600 [==============================] - 1s 342us/sample - loss: 0.7307 - sparse_categorical_accuracy: 0.6094 - val_loss: 0.7283 - val_sparse_categorical_accuracy: 0.6250\n",
      "Epoch 4/5\n",
      "1600/1600 [==============================] - 1s 348us/sample - loss: 0.7282 - sparse_categorical_accuracy: 0.6194 - val_loss: 0.7260 - val_sparse_categorical_accuracy: 0.6350\n",
      "Epoch 5/5\n",
      "1600/1600 [==============================] - 1s 351us/sample - loss: 0.7258 - sparse_categorical_accuracy: 0.6250 - val_loss: 0.7238 - val_sparse_categorical_accuracy: 0.6350\n"
     ]
    },
    {
     "name": "stderr",
     "output_type": "stream",
     "text": [
      "\n",
      " 45%|████▌     | 45/100 [03:47<05:30,  6.00s/it]\u001b[A"
     ]
    },
    {
     "name": "stdout",
     "output_type": "stream",
     "text": [
      "0.635 4.84773450547054e-05 0.0001278756007254463\n",
      "Train on 1600 samples, validate on 400 samples\n",
      "Epoch 1/5\n",
      "1600/1600 [==============================] - 2s 1ms/sample - loss: 12.5479 - sparse_categorical_accuracy: 0.4469 - val_loss: 12.5479 - val_sparse_categorical_accuracy: 0.4200\n",
      "Epoch 2/5\n",
      "1600/1600 [==============================] - 1s 341us/sample - loss: 12.5402 - sparse_categorical_accuracy: 0.4669 - val_loss: 12.5406 - val_sparse_categorical_accuracy: 0.4450\n",
      "Epoch 3/5\n",
      "1600/1600 [==============================] - 1s 342us/sample - loss: 12.5330 - sparse_categorical_accuracy: 0.4875 - val_loss: 12.5337 - val_sparse_categorical_accuracy: 0.4625\n",
      "Epoch 4/5\n",
      "1600/1600 [==============================] - 1s 341us/sample - loss: 12.5260 - sparse_categorical_accuracy: 0.5125 - val_loss: 12.5271 - val_sparse_categorical_accuracy: 0.4975\n",
      "Epoch 5/5\n",
      "1600/1600 [==============================] - 1s 336us/sample - loss: 12.5194 - sparse_categorical_accuracy: 0.5344 - val_loss: 12.5207 - val_sparse_categorical_accuracy: 0.5400\n"
     ]
    },
    {
     "name": "stderr",
     "output_type": "stream",
     "text": [
      "\n",
      " 46%|████▌     | 46/100 [03:53<05:27,  6.06s/it]\u001b[A"
     ]
    },
    {
     "name": "stdout",
     "output_type": "stream",
     "text": [
      "0.54 3.593963871256676e-05 0.03120164518378249\n",
      "Train on 1600 samples, validate on 400 samples\n",
      "Epoch 1/5\n",
      "1600/1600 [==============================] - 2s 1ms/sample - loss: 0.7647 - sparse_categorical_accuracy: 0.3462 - val_loss: 0.7657 - val_sparse_categorical_accuracy: 0.3450\n",
      "Epoch 2/5\n",
      "1600/1600 [==============================] - 1s 376us/sample - loss: 0.7642 - sparse_categorical_accuracy: 0.3469 - val_loss: 0.7652 - val_sparse_categorical_accuracy: 0.3500\n",
      "Epoch 3/5\n",
      "1600/1600 [==============================] - 1s 355us/sample - loss: 0.7637 - sparse_categorical_accuracy: 0.3494 - val_loss: 0.7648 - val_sparse_categorical_accuracy: 0.3450\n",
      "Epoch 4/5\n",
      "1600/1600 [==============================] - 1s 339us/sample - loss: 0.7632 - sparse_categorical_accuracy: 0.3512 - val_loss: 0.7643 - val_sparse_categorical_accuracy: 0.3500\n",
      "Epoch 5/5\n",
      "1600/1600 [==============================] - 1s 328us/sample - loss: 0.7627 - sparse_categorical_accuracy: 0.3544 - val_loss: 0.7638 - val_sparse_categorical_accuracy: 0.3475\n"
     ]
    },
    {
     "name": "stderr",
     "output_type": "stream",
     "text": [
      "\n",
      " 47%|████▋     | 47/100 [04:00<05:25,  6.14s/it]\u001b[A"
     ]
    },
    {
     "name": "stdout",
     "output_type": "stream",
     "text": [
      "0.3475 7.385827771239987e-06 0.00012074027223917047\n",
      "Train on 1600 samples, validate on 400 samples\n",
      "Epoch 1/5\n",
      "1600/1600 [==============================] - 2s 1ms/sample - loss: 1.0320 - sparse_categorical_accuracy: 0.4981 - val_loss: 1.0263 - val_sparse_categorical_accuracy: 0.5150\n",
      "Epoch 2/5\n",
      "1600/1600 [==============================] - 1s 343us/sample - loss: 1.0296 - sparse_categorical_accuracy: 0.4994 - val_loss: 1.0241 - val_sparse_categorical_accuracy: 0.5125\n",
      "Epoch 3/5\n",
      "1600/1600 [==============================] - 1s 339us/sample - loss: 1.0272 - sparse_categorical_accuracy: 0.5063 - val_loss: 1.0221 - val_sparse_categorical_accuracy: 0.5200\n",
      "Epoch 4/5\n",
      "1600/1600 [==============================] - 1s 354us/sample - loss: 1.0250 - sparse_categorical_accuracy: 0.5069 - val_loss: 1.0201 - val_sparse_categorical_accuracy: 0.5325\n",
      "Epoch 5/5\n",
      "1600/1600 [==============================] - 1s 340us/sample - loss: 1.0229 - sparse_categorical_accuracy: 0.5106 - val_loss: 1.0183 - val_sparse_categorical_accuracy: 0.5450\n"
     ]
    },
    {
     "name": "stderr",
     "output_type": "stream",
     "text": [
      "\n",
      " 48%|████▊     | 48/100 [04:06<05:21,  6.17s/it]\u001b[A"
     ]
    },
    {
     "name": "stdout",
     "output_type": "stream",
     "text": [
      "0.545 1.8272794822186597e-05 0.0008643673248072978\n",
      "Train on 1600 samples, validate on 400 samples\n",
      "Epoch 1/5\n",
      "1600/1600 [==============================] - 2s 1ms/sample - loss: 0.7169 - sparse_categorical_accuracy: 0.5156 - val_loss: 0.7153 - val_sparse_categorical_accuracy: 0.5150\n",
      "Epoch 2/5\n",
      "1600/1600 [==============================] - 1s 340us/sample - loss: 0.7167 - sparse_categorical_accuracy: 0.5150 - val_loss: 0.7152 - val_sparse_categorical_accuracy: 0.5175\n",
      "Epoch 3/5\n",
      "1600/1600 [==============================] - 1s 334us/sample - loss: 0.7166 - sparse_categorical_accuracy: 0.5156 - val_loss: 0.7150 - val_sparse_categorical_accuracy: 0.5175\n",
      "Epoch 4/5\n",
      "1600/1600 [==============================] - 1s 333us/sample - loss: 0.7164 - sparse_categorical_accuracy: 0.5150 - val_loss: 0.7149 - val_sparse_categorical_accuracy: 0.5175\n",
      "Epoch 5/5\n",
      "1600/1600 [==============================] - 1s 328us/sample - loss: 0.7163 - sparse_categorical_accuracy: 0.5150 - val_loss: 0.7147 - val_sparse_categorical_accuracy: 0.5175\n"
     ]
    },
    {
     "name": "stderr",
     "output_type": "stream",
     "text": [
      "\n",
      " 49%|████▉     | 49/100 [04:12<05:15,  6.18s/it]\u001b[A"
     ]
    },
    {
     "name": "stdout",
     "output_type": "stream",
     "text": [
      "0.5175 1.4217312419339845e-06 1.2403525071259202e-05\n",
      "Train on 1600 samples, validate on 400 samples\n",
      "Epoch 1/5\n",
      "1600/1600 [==============================] - 2s 1ms/sample - loss: 79.3918 - sparse_categorical_accuracy: 0.5119 - val_loss: 79.3824 - val_sparse_categorical_accuracy: 0.5375\n",
      "Epoch 2/5\n",
      "1600/1600 [==============================] - 1s 349us/sample - loss: 79.3755 - sparse_categorical_accuracy: 0.5144 - val_loss: 79.3661 - val_sparse_categorical_accuracy: 0.5425\n",
      "Epoch 3/5\n",
      "1600/1600 [==============================] - 1s 350us/sample - loss: 79.3592 - sparse_categorical_accuracy: 0.5156 - val_loss: 79.3499 - val_sparse_categorical_accuracy: 0.5425\n",
      "Epoch 4/5\n",
      "1600/1600 [==============================] - 1s 365us/sample - loss: 79.3429 - sparse_categorical_accuracy: 0.5194 - val_loss: 79.3336 - val_sparse_categorical_accuracy: 0.5450\n",
      "Epoch 5/5\n",
      "1600/1600 [==============================] - 1s 354us/sample - loss: 79.3266 - sparse_categorical_accuracy: 0.5206 - val_loss: 79.3174 - val_sparse_categorical_accuracy: 0.5425\n"
     ]
    },
    {
     "name": "stderr",
     "output_type": "stream",
     "text": [
      "\n",
      " 50%|█████     | 50/100 [04:18<05:11,  6.23s/it]\u001b[A"
     ]
    },
    {
     "name": "stdout",
     "output_type": "stream",
     "text": [
      "0.5425 4.854381420018708e-06 0.20728598211693075\n",
      "Train on 1600 samples, validate on 400 samples\n",
      "Epoch 1/5\n",
      "1600/1600 [==============================] - 2s 1ms/sample - loss: 2843.9972 - sparse_categorical_accuracy: 0.5006 - val_loss: 2809.0856 - val_sparse_categorical_accuracy: 0.4900\n",
      "Epoch 2/5\n",
      "1600/1600 [==============================] - 1s 352us/sample - loss: 2776.0714 - sparse_categorical_accuracy: 0.5125 - val_loss: 2741.9938 - val_sparse_categorical_accuracy: 0.5050\n",
      "Epoch 3/5\n",
      "1600/1600 [==============================] - 1s 342us/sample - loss: 2709.7683 - sparse_categorical_accuracy: 0.5300 - val_loss: 2676.5050 - val_sparse_categorical_accuracy: 0.5125\n",
      "Epoch 4/5\n",
      "1600/1600 [==============================] - 1s 354us/sample - loss: 2645.0494 - sparse_categorical_accuracy: 0.5406 - val_loss: 2612.5806 - val_sparse_categorical_accuracy: 0.5225\n",
      "Epoch 5/5\n",
      "1600/1600 [==============================] - 1s 347us/sample - loss: 2581.8767 - sparse_categorical_accuracy: 0.5500 - val_loss: 2550.1836 - val_sparse_categorical_accuracy: 0.5325\n"
     ]
    },
    {
     "name": "stderr",
     "output_type": "stream",
     "text": [
      "\n",
      " 51%|█████     | 51/100 [04:25<05:08,  6.30s/it]\u001b[A"
     ]
    },
    {
     "name": "stdout",
     "output_type": "stream",
     "text": [
      "0.5325 1.595571784398713e-05 7.57602787698898\n",
      "Train on 1600 samples, validate on 400 samples\n",
      "Epoch 1/5\n",
      "1600/1600 [==============================] - 2s 1ms/sample - loss: 1392.7639 - sparse_categorical_accuracy: 0.5031 - val_loss: 1391.9715 - val_sparse_categorical_accuracy: 0.5075\n",
      "Epoch 2/5\n",
      "1600/1600 [==============================] - 1s 347us/sample - loss: 1391.2164 - sparse_categorical_accuracy: 0.5038 - val_loss: 1390.4252 - val_sparse_categorical_accuracy: 0.5075\n",
      "Epoch 3/5\n",
      "1600/1600 [==============================] - 1s 338us/sample - loss: 1389.6707 - sparse_categorical_accuracy: 0.5038 - val_loss: 1388.8802 - val_sparse_categorical_accuracy: 0.5075\n",
      "Epoch 4/5\n",
      "1600/1600 [==============================] - 1s 347us/sample - loss: 1388.1267 - sparse_categorical_accuracy: 0.5044 - val_loss: 1387.3370 - val_sparse_categorical_accuracy: 0.5075\n",
      "Epoch 5/5\n",
      "1600/1600 [==============================] - 1s 350us/sample - loss: 1386.5843 - sparse_categorical_accuracy: 0.5056 - val_loss: 1385.7956 - val_sparse_categorical_accuracy: 0.5075\n"
     ]
    },
    {
     "name": "stderr",
     "output_type": "stream",
     "text": [
      "\n",
      " 52%|█████▏    | 52/100 [04:31<05:04,  6.35s/it]\u001b[A"
     ]
    },
    {
     "name": "stdout",
     "output_type": "stream",
     "text": [
      "0.5075 1.5193039758547623e-06 3.6597775414081157\n",
      "Train on 1600 samples, validate on 400 samples\n",
      "Epoch 1/5\n",
      "1600/1600 [==============================] - 2s 1ms/sample - loss: 13.6930 - sparse_categorical_accuracy: 0.5731 - val_loss: 13.6909 - val_sparse_categorical_accuracy: 0.5625\n",
      "Epoch 2/5\n",
      "1600/1600 [==============================] - 1s 351us/sample - loss: 13.6865 - sparse_categorical_accuracy: 0.6037 - val_loss: 13.6845 - val_sparse_categorical_accuracy: 0.5800\n",
      "Epoch 3/5\n",
      "1600/1600 [==============================] - 1s 343us/sample - loss: 13.6800 - sparse_categorical_accuracy: 0.6200 - val_loss: 13.6781 - val_sparse_categorical_accuracy: 0.5950\n",
      "Epoch 4/5\n",
      "1600/1600 [==============================] - 1s 358us/sample - loss: 13.6735 - sparse_categorical_accuracy: 0.6381 - val_loss: 13.6718 - val_sparse_categorical_accuracy: 0.6125\n",
      "Epoch 5/5\n",
      "1600/1600 [==============================] - 1s 342us/sample - loss: 13.6670 - sparse_categorical_accuracy: 0.6519 - val_loss: 13.6655 - val_sparse_categorical_accuracy: 0.6325\n"
     ]
    },
    {
     "name": "stderr",
     "output_type": "stream",
     "text": [
      "\n",
      " 53%|█████▎    | 53/100 [04:38<05:03,  6.45s/it]\u001b[A"
     ]
    },
    {
     "name": "stdout",
     "output_type": "stream",
     "text": [
      "0.6325 4.26065292371583e-05 0.03419197302886645\n",
      "Train on 1600 samples, validate on 400 samples\n",
      "Epoch 1/5\n",
      "1600/1600 [==============================] - 2s 1ms/sample - loss: 1.3999 - sparse_categorical_accuracy: 0.4863 - val_loss: 1.3852 - val_sparse_categorical_accuracy: 0.5050\n",
      "Epoch 2/5\n",
      "1600/1600 [==============================] - 1s 348us/sample - loss: 1.3789 - sparse_categorical_accuracy: 0.5100 - val_loss: 1.3682 - val_sparse_categorical_accuracy: 0.5675\n",
      "Epoch 3/5\n",
      "1600/1600 [==============================] - 1s 339us/sample - loss: 1.3638 - sparse_categorical_accuracy: 0.5731 - val_loss: 1.3553 - val_sparse_categorical_accuracy: 0.6400\n",
      "Epoch 4/5\n",
      "1600/1600 [==============================] - 1s 337us/sample - loss: 1.3521 - sparse_categorical_accuracy: 0.6375 - val_loss: 1.3448 - val_sparse_categorical_accuracy: 0.6500\n",
      "Epoch 5/5\n",
      "1600/1600 [==============================] - 1s 332us/sample - loss: 1.3422 - sparse_categorical_accuracy: 0.6562 - val_loss: 1.3356 - val_sparse_categorical_accuracy: 0.6625\n"
     ]
    },
    {
     "name": "stderr",
     "output_type": "stream",
     "text": [
      "\n",
      " 54%|█████▍    | 54/100 [04:44<04:55,  6.43s/it]\u001b[A"
     ]
    },
    {
     "name": "stdout",
     "output_type": "stream",
     "text": [
      "0.6625 0.00014641826413215408 0.001821129822462392\n",
      "Train on 1600 samples, validate on 400 samples\n",
      "Epoch 1/5\n",
      "1600/1600 [==============================] - 2s 1ms/sample - loss: 2631.3880 - sparse_categorical_accuracy: 0.4981 - val_loss: 2547.9059 - val_sparse_categorical_accuracy: 0.5075\n",
      "Epoch 2/5\n",
      "1600/1600 [==============================] - 1s 370us/sample - loss: 2470.9984 - sparse_categorical_accuracy: 0.4981 - val_loss: 2392.6108 - val_sparse_categorical_accuracy: 0.5075\n",
      "Epoch 3/5\n",
      "1600/1600 [==============================] - 1s 341us/sample - loss: 2320.3944 - sparse_categorical_accuracy: 0.4975 - val_loss: 2246.7886 - val_sparse_categorical_accuracy: 0.5075\n",
      "Epoch 4/5\n",
      "1600/1600 [==============================] - 1s 340us/sample - loss: 2178.9763 - sparse_categorical_accuracy: 0.5000 - val_loss: 2109.8599 - val_sparse_categorical_accuracy: 0.5075\n",
      "Epoch 5/5\n",
      "1600/1600 [==============================] - 1s 337us/sample - loss: 2046.1824 - sparse_categorical_accuracy: 0.5019 - val_loss: 1981.2807 - val_sparse_categorical_accuracy: 0.5275\n"
     ]
    },
    {
     "name": "stderr",
     "output_type": "stream",
     "text": [
      "\n",
      " 55%|█████▌    | 55/100 [04:51<04:50,  6.45s/it]\u001b[A"
     ]
    },
    {
     "name": "stdout",
     "output_type": "stream",
     "text": [
      "0.5275 4.4009680670656014e-05 7.143576108445116\n",
      "Train on 1600 samples, validate on 400 samples\n",
      "Epoch 1/5\n",
      "1600/1600 [==============================] - 2s 1ms/sample - loss: 940.4247 - sparse_categorical_accuracy: 0.4950 - val_loss: 939.9438 - val_sparse_categorical_accuracy: 0.5150\n",
      "Epoch 2/5\n",
      "1600/1600 [==============================] - 1s 370us/sample - loss: 939.4893 - sparse_categorical_accuracy: 0.4938 - val_loss: 939.0089 - val_sparse_categorical_accuracy: 0.5125\n",
      "Epoch 3/5\n",
      "1600/1600 [==============================] - 1s 361us/sample - loss: 938.5548 - sparse_categorical_accuracy: 0.4931 - val_loss: 938.0749 - val_sparse_categorical_accuracy: 0.5125\n",
      "Epoch 4/5\n",
      "1600/1600 [==============================] - 1s 344us/sample - loss: 937.6213 - sparse_categorical_accuracy: 0.4925 - val_loss: 937.1418 - val_sparse_categorical_accuracy: 0.5100\n",
      "Epoch 5/5\n",
      "1600/1600 [==============================] - 1s 363us/sample - loss: 936.6886 - sparse_categorical_accuracy: 0.4925 - val_loss: 936.2097 - val_sparse_categorical_accuracy: 0.5100\n"
     ]
    },
    {
     "name": "stderr",
     "output_type": "stream",
     "text": [
      "\n",
      " 56%|█████▌    | 56/100 [04:57<04:45,  6.49s/it]\u001b[A"
     ]
    },
    {
     "name": "stdout",
     "output_type": "stream",
     "text": [
      "0.51 2.0147294207355223e-06 2.4707697909369655\n",
      "Train on 1600 samples, validate on 400 samples\n",
      "Epoch 1/5\n",
      "1600/1600 [==============================] - 2s 1ms/sample - loss: 0.6436 - sparse_categorical_accuracy: 0.7113 - val_loss: 0.6049 - val_sparse_categorical_accuracy: 0.8025\n",
      "Epoch 2/5\n",
      "1600/1600 [==============================] - 1s 351us/sample - loss: 0.5908 - sparse_categorical_accuracy: 0.7956 - val_loss: 0.5600 - val_sparse_categorical_accuracy: 0.8325\n",
      "Epoch 3/5\n",
      "1600/1600 [==============================] - 1s 343us/sample - loss: 0.5518 - sparse_categorical_accuracy: 0.8138 - val_loss: 0.5245 - val_sparse_categorical_accuracy: 0.8350\n",
      "Epoch 4/5\n",
      "1600/1600 [==============================] - 1s 345us/sample - loss: 0.5176 - sparse_categorical_accuracy: 0.8213 - val_loss: 0.4872 - val_sparse_categorical_accuracy: 0.8425\n",
      "Epoch 5/5\n",
      "1600/1600 [==============================] - 1s 340us/sample - loss: 0.4869 - sparse_categorical_accuracy: 0.8325 - val_loss: 0.4567 - val_sparse_categorical_accuracy: 0.8425\n"
     ]
    },
    {
     "name": "stderr",
     "output_type": "stream",
     "text": [
      "\n",
      " 57%|█████▋    | 57/100 [05:04<04:40,  6.52s/it]\u001b[A"
     ]
    },
    {
     "name": "stdout",
     "output_type": "stream",
     "text": [
      "0.8425 0.0008860056689095033 1.0674596006262428e-05\n",
      "Train on 1600 samples, validate on 400 samples\n",
      "Epoch 1/5\n",
      "1600/1600 [==============================] - 2s 1ms/sample - loss: 0.7071 - sparse_categorical_accuracy: 0.5606 - val_loss: 0.7028 - val_sparse_categorical_accuracy: 0.5925\n",
      "Epoch 2/5\n",
      "1600/1600 [==============================] - 1s 356us/sample - loss: 0.7012 - sparse_categorical_accuracy: 0.5663 - val_loss: 0.6971 - val_sparse_categorical_accuracy: 0.6125\n",
      "Epoch 3/5\n",
      "1600/1600 [==============================] - 1s 341us/sample - loss: 0.6955 - sparse_categorical_accuracy: 0.5756 - val_loss: 0.6916 - val_sparse_categorical_accuracy: 0.6225\n",
      "Epoch 4/5\n",
      "1600/1600 [==============================] - 1s 337us/sample - loss: 0.6900 - sparse_categorical_accuracy: 0.5675 - val_loss: 0.6862 - val_sparse_categorical_accuracy: 0.5975\n",
      "Epoch 5/5\n",
      "1600/1600 [==============================] - 1s 335us/sample - loss: 0.6847 - sparse_categorical_accuracy: 0.5688 - val_loss: 0.6810 - val_sparse_categorical_accuracy: 0.6000\n"
     ]
    },
    {
     "name": "stderr",
     "output_type": "stream",
     "text": [
      "\n",
      " 58%|█████▊    | 58/100 [05:11<04:35,  6.56s/it]\u001b[A"
     ]
    },
    {
     "name": "stdout",
     "output_type": "stream",
     "text": [
      "0.6 6.748127697433325e-05 5.7921594836004546e-05\n",
      "Train on 1600 samples, validate on 400 samples\n",
      "Epoch 1/5\n",
      "1600/1600 [==============================] - 2s 1ms/sample - loss: 1.0496 - sparse_categorical_accuracy: 0.5663 - val_loss: 1.0475 - val_sparse_categorical_accuracy: 0.5775\n",
      "Epoch 2/5\n",
      "1600/1600 [==============================] - 1s 365us/sample - loss: 1.0491 - sparse_categorical_accuracy: 0.5694 - val_loss: 1.0471 - val_sparse_categorical_accuracy: 0.5775\n",
      "Epoch 3/5\n",
      "1600/1600 [==============================] - 1s 333us/sample - loss: 1.0487 - sparse_categorical_accuracy: 0.5719 - val_loss: 1.0466 - val_sparse_categorical_accuracy: 0.5850\n",
      "Epoch 4/5\n",
      "1600/1600 [==============================] - 1s 327us/sample - loss: 1.0482 - sparse_categorical_accuracy: 0.5725 - val_loss: 1.0462 - val_sparse_categorical_accuracy: 0.5900\n",
      "Epoch 5/5\n",
      "1600/1600 [==============================] - 1s 332us/sample - loss: 1.0477 - sparse_categorical_accuracy: 0.5775 - val_loss: 1.0457 - val_sparse_categorical_accuracy: 0.6050\n"
     ]
    },
    {
     "name": "stderr",
     "output_type": "stream",
     "text": [
      "\n",
      " 59%|█████▉    | 59/100 [05:18<04:32,  6.66s/it]\u001b[A"
     ]
    },
    {
     "name": "stdout",
     "output_type": "stream",
     "text": [
      "0.605 5.673009278760653e-06 0.0009561585645023467\n",
      "Train on 1600 samples, validate on 400 samples\n",
      "Epoch 1/5\n",
      "1600/1600 [==============================] - 2s 1ms/sample - loss: 4.1340 - sparse_categorical_accuracy: 0.4275 - val_loss: 4.1314 - val_sparse_categorical_accuracy: 0.4325\n",
      "Epoch 2/5\n",
      "1600/1600 [==============================] - 1s 368us/sample - loss: 4.1338 - sparse_categorical_accuracy: 0.4281 - val_loss: 4.1312 - val_sparse_categorical_accuracy: 0.4350\n",
      "Epoch 3/5\n",
      "1600/1600 [==============================] - 1s 350us/sample - loss: 4.1336 - sparse_categorical_accuracy: 0.4263 - val_loss: 4.1310 - val_sparse_categorical_accuracy: 0.4350\n",
      "Epoch 4/5\n",
      "1600/1600 [==============================] - 1s 359us/sample - loss: 4.1334 - sparse_categorical_accuracy: 0.4250 - val_loss: 4.1308 - val_sparse_categorical_accuracy: 0.4350\n",
      "Epoch 5/5\n",
      "1600/1600 [==============================] - 1s 358us/sample - loss: 4.1332 - sparse_categorical_accuracy: 0.4225 - val_loss: 4.1306 - val_sparse_categorical_accuracy: 0.4325\n"
     ]
    },
    {
     "name": "stderr",
     "output_type": "stream",
     "text": [
      "\n",
      " 60%|██████    | 60/100 [05:24<04:29,  6.74s/it]\u001b[A"
     ]
    },
    {
     "name": "stdout",
     "output_type": "stream",
     "text": [
      "0.4325 1.6909667547736463e-06 0.008980179263615874\n",
      "Train on 1600 samples, validate on 400 samples\n",
      "Epoch 1/5\n",
      "1600/1600 [==============================] - 2s 1ms/sample - loss: 421.5352 - sparse_categorical_accuracy: 0.4837 - val_loss: 407.6762 - val_sparse_categorical_accuracy: 0.5725\n",
      "Epoch 2/5\n",
      "1600/1600 [==============================] - 1s 356us/sample - loss: 394.9329 - sparse_categorical_accuracy: 0.6044 - val_loss: 381.9540 - val_sparse_categorical_accuracy: 0.6625\n",
      "Epoch 3/5\n",
      "1600/1600 [==============================] - 1s 345us/sample - loss: 370.0182 - sparse_categorical_accuracy: 0.6494 - val_loss: 357.8620 - val_sparse_categorical_accuracy: 0.6850\n",
      "Epoch 4/5\n",
      "1600/1600 [==============================] - 1s 344us/sample - loss: 346.6814 - sparse_categorical_accuracy: 0.6762 - val_loss: 335.2947 - val_sparse_categorical_accuracy: 0.6900\n",
      "Epoch 5/5\n",
      "1600/1600 [==============================] - 1s 359us/sample - loss: 324.8209 - sparse_categorical_accuracy: 0.6869 - val_loss: 314.1545 - val_sparse_categorical_accuracy: 0.6925\n"
     ]
    },
    {
     "name": "stderr",
     "output_type": "stream",
     "text": [
      "\n",
      " 61%|██████    | 61/100 [05:31<04:25,  6.82s/it]\u001b[A"
     ]
    },
    {
     "name": "stdout",
     "output_type": "stream",
     "text": [
      "0.6925 0.00028554594585389906 1.1422233452748303\n",
      "Train on 1600 samples, validate on 400 samples\n",
      "Epoch 1/5\n",
      "1600/1600 [==============================] - 2s 1ms/sample - loss: 6.2636 - sparse_categorical_accuracy: 0.5044 - val_loss: 6.2653 - val_sparse_categorical_accuracy: 0.4925\n",
      "Epoch 2/5\n",
      "1600/1600 [==============================] - 1s 363us/sample - loss: 6.2628 - sparse_categorical_accuracy: 0.5044 - val_loss: 6.2645 - val_sparse_categorical_accuracy: 0.4925\n",
      "Epoch 3/5\n",
      "1600/1600 [==============================] - 1s 354us/sample - loss: 6.2620 - sparse_categorical_accuracy: 0.5044 - val_loss: 6.2637 - val_sparse_categorical_accuracy: 0.4925\n",
      "Epoch 4/5\n",
      "1600/1600 [==============================] - 1s 346us/sample - loss: 6.2613 - sparse_categorical_accuracy: 0.5044 - val_loss: 6.2629 - val_sparse_categorical_accuracy: 0.4925\n",
      "Epoch 5/5\n",
      "1600/1600 [==============================] - 1s 341us/sample - loss: 6.2605 - sparse_categorical_accuracy: 0.5038 - val_loss: 6.2621 - val_sparse_categorical_accuracy: 0.4975\n"
     ]
    },
    {
     "name": "stderr",
     "output_type": "stream",
     "text": [
      "\n",
      " 62%|██████▏   | 62/100 [05:38<04:19,  6.84s/it]\u001b[A"
     ]
    },
    {
     "name": "stdout",
     "output_type": "stream",
     "text": [
      "0.4975 5.019417156597219e-06 0.014656454545240696\n",
      "Train on 1600 samples, validate on 400 samples\n",
      "Epoch 1/5\n",
      "1600/1600 [==============================] - 2s 1ms/sample - loss: 5.0474 - sparse_categorical_accuracy: 0.6119 - val_loss: 5.0434 - val_sparse_categorical_accuracy: 0.6025\n",
      "Epoch 2/5\n",
      "1600/1600 [==============================] - 1s 350us/sample - loss: 5.0393 - sparse_categorical_accuracy: 0.6231 - val_loss: 5.0361 - val_sparse_categorical_accuracy: 0.5800\n",
      "Epoch 3/5\n",
      "1600/1600 [==============================] - 1s 343us/sample - loss: 5.0322 - sparse_categorical_accuracy: 0.6275 - val_loss: 5.0295 - val_sparse_categorical_accuracy: 0.5950\n",
      "Epoch 4/5\n",
      "1600/1600 [==============================] - 1s 340us/sample - loss: 5.0257 - sparse_categorical_accuracy: 0.5906 - val_loss: 5.0234 - val_sparse_categorical_accuracy: 0.5700\n",
      "Epoch 5/5\n",
      "1600/1600 [==============================] - 1s 342us/sample - loss: 5.0197 - sparse_categorical_accuracy: 0.5750 - val_loss: 5.0176 - val_sparse_categorical_accuracy: 0.5475\n"
     ]
    },
    {
     "name": "stderr",
     "output_type": "stream",
     "text": [
      "\n",
      " 63%|██████▎   | 63/100 [05:45<04:13,  6.84s/it]\u001b[A"
     ]
    },
    {
     "name": "stdout",
     "output_type": "stream",
     "text": [
      "0.5475 8.554960142951397e-05 0.011464086730181998\n",
      "Train on 1600 samples, validate on 400 samples\n",
      "Epoch 1/5\n",
      "1600/1600 [==============================] - 2s 1ms/sample - loss: 1.5970 - sparse_categorical_accuracy: 0.4294 - val_loss: 1.5965 - val_sparse_categorical_accuracy: 0.4475\n",
      "Epoch 2/5\n",
      "1600/1600 [==============================] - 1s 350us/sample - loss: 1.5966 - sparse_categorical_accuracy: 0.4306 - val_loss: 1.5961 - val_sparse_categorical_accuracy: 0.4525\n",
      "Epoch 3/5\n",
      "1600/1600 [==============================] - 1s 344us/sample - loss: 1.5963 - sparse_categorical_accuracy: 0.4319 - val_loss: 1.5957 - val_sparse_categorical_accuracy: 0.4525\n",
      "Epoch 4/5\n",
      "1600/1600 [==============================] - 1s 341us/sample - loss: 1.5959 - sparse_categorical_accuracy: 0.4356 - val_loss: 1.5953 - val_sparse_categorical_accuracy: 0.4625\n",
      "Epoch 5/5\n",
      "1600/1600 [==============================] - 1s 344us/sample - loss: 1.5955 - sparse_categorical_accuracy: 0.4369 - val_loss: 1.5950 - val_sparse_categorical_accuracy: 0.4625\n"
     ]
    },
    {
     "name": "stderr",
     "output_type": "stream",
     "text": [
      "\n",
      " 64%|██████▍   | 64/100 [05:52<04:08,  6.91s/it]\u001b[A"
     ]
    },
    {
     "name": "stdout",
     "output_type": "stream",
     "text": [
      "0.4625 6.1609315424690725e-06 0.0023723269575492904\n",
      "Train on 1600 samples, validate on 400 samples\n",
      "Epoch 1/5\n",
      "1600/1600 [==============================] - 2s 1ms/sample - loss: 996.2688 - sparse_categorical_accuracy: 0.5019 - val_loss: 953.4814 - val_sparse_categorical_accuracy: 0.4950\n",
      "Epoch 2/5\n",
      "1600/1600 [==============================] - 1s 353us/sample - loss: 914.6510 - sparse_categorical_accuracy: 0.5025 - val_loss: 875.3735 - val_sparse_categorical_accuracy: 0.4950\n",
      "Epoch 3/5\n",
      "1600/1600 [==============================] - 1s 346us/sample - loss: 839.7291 - sparse_categorical_accuracy: 0.5031 - val_loss: 803.6727 - val_sparse_categorical_accuracy: 0.4975\n",
      "Epoch 4/5\n",
      "1600/1600 [==============================] - 1s 345us/sample - loss: 770.9516 - sparse_categorical_accuracy: 0.5050 - val_loss: 737.8514 - val_sparse_categorical_accuracy: 0.5050\n",
      "Epoch 5/5\n",
      "1600/1600 [==============================] - 1s 343us/sample - loss: 707.8136 - sparse_categorical_accuracy: 0.5069 - val_loss: 677.4271 - val_sparse_categorical_accuracy: 0.5100\n"
     ]
    },
    {
     "name": "stderr",
     "output_type": "stream",
     "text": [
      "\n",
      " 65%|██████▌   | 65/100 [05:59<04:02,  6.94s/it]\u001b[A"
     ]
    },
    {
     "name": "stdout",
     "output_type": "stream",
     "text": [
      "0.51 0.00015661693931853324 2.7291288622715184\n",
      "Train on 1600 samples, validate on 400 samples\n",
      "Epoch 1/5\n",
      "1600/1600 [==============================] - 2s 1ms/sample - loss: 1.9533 - sparse_categorical_accuracy: 0.5044 - val_loss: 1.9570 - val_sparse_categorical_accuracy: 0.4900\n",
      "Epoch 2/5\n",
      "1600/1600 [==============================] - 1s 364us/sample - loss: 1.9529 - sparse_categorical_accuracy: 0.5038 - val_loss: 1.9566 - val_sparse_categorical_accuracy: 0.4900\n",
      "Epoch 3/5\n",
      "1600/1600 [==============================] - 1s 390us/sample - loss: 1.9525 - sparse_categorical_accuracy: 0.5038 - val_loss: 1.9562 - val_sparse_categorical_accuracy: 0.4900\n",
      "Epoch 4/5\n",
      "1600/1600 [==============================] - 1s 371us/sample - loss: 1.9522 - sparse_categorical_accuracy: 0.5038 - val_loss: 1.9558 - val_sparse_categorical_accuracy: 0.4900\n",
      "Epoch 5/5\n",
      "1600/1600 [==============================] - 1s 347us/sample - loss: 1.9518 - sparse_categorical_accuracy: 0.5038 - val_loss: 1.9554 - val_sparse_categorical_accuracy: 0.4925\n"
     ]
    },
    {
     "name": "stderr",
     "output_type": "stream",
     "text": [
      "\n",
      " 66%|██████▌   | 66/100 [06:07<03:59,  7.05s/it]\u001b[A"
     ]
    },
    {
     "name": "stdout",
     "output_type": "stream",
     "text": [
      "0.4925 3.2112846527592383e-06 0.0032963709502791096\n",
      "Train on 1600 samples, validate on 400 samples\n",
      "Epoch 1/5\n",
      "1600/1600 [==============================] - 2s 1ms/sample - loss: 28.0349 - sparse_categorical_accuracy: 0.6087 - val_loss: 28.0361 - val_sparse_categorical_accuracy: 0.6025\n",
      "Epoch 2/5\n",
      "1600/1600 [==============================] - 1s 387us/sample - loss: 28.0295 - sparse_categorical_accuracy: 0.6094 - val_loss: 28.0308 - val_sparse_categorical_accuracy: 0.6050\n",
      "Epoch 3/5\n",
      "1600/1600 [==============================] - 1s 367us/sample - loss: 28.0242 - sparse_categorical_accuracy: 0.6094 - val_loss: 28.0255 - val_sparse_categorical_accuracy: 0.6050\n",
      "Epoch 4/5\n",
      "1600/1600 [==============================] - 1s 363us/sample - loss: 28.0189 - sparse_categorical_accuracy: 0.6094 - val_loss: 28.0201 - val_sparse_categorical_accuracy: 0.6075\n",
      "Epoch 5/5\n",
      "1600/1600 [==============================] - 1s 360us/sample - loss: 28.0136 - sparse_categorical_accuracy: 0.6094 - val_loss: 28.0148 - val_sparse_categorical_accuracy: 0.6075\n"
     ]
    },
    {
     "name": "stderr",
     "output_type": "stream",
     "text": [
      "\n",
      " 67%|██████▋   | 67/100 [06:14<03:57,  7.19s/it]\u001b[A"
     ]
    },
    {
     "name": "stdout",
     "output_type": "stream",
     "text": [
      "0.6075 1.2149110130485262e-05 0.07196011277972912\n",
      "Train on 1600 samples, validate on 400 samples\n",
      "Epoch 1/5\n",
      "1600/1600 [==============================] - 2s 1ms/sample - loss: 0.7966 - sparse_categorical_accuracy: 0.4719 - val_loss: 0.7926 - val_sparse_categorical_accuracy: 0.5050\n",
      "Epoch 2/5\n",
      "1600/1600 [==============================] - 1s 349us/sample - loss: 0.7959 - sparse_categorical_accuracy: 0.4769 - val_loss: 0.7919 - val_sparse_categorical_accuracy: 0.5050\n",
      "Epoch 3/5\n",
      "1600/1600 [==============================] - 1s 365us/sample - loss: 0.7951 - sparse_categorical_accuracy: 0.4762 - val_loss: 0.7912 - val_sparse_categorical_accuracy: 0.5000\n",
      "Epoch 4/5\n",
      "1600/1600 [==============================] - 1s 355us/sample - loss: 0.7944 - sparse_categorical_accuracy: 0.4775 - val_loss: 0.7905 - val_sparse_categorical_accuracy: 0.5050\n",
      "Epoch 5/5\n",
      "1600/1600 [==============================] - 1s 375us/sample - loss: 0.7937 - sparse_categorical_accuracy: 0.4769 - val_loss: 0.7898 - val_sparse_categorical_accuracy: 0.5175\n"
     ]
    },
    {
     "name": "stderr",
     "output_type": "stream",
     "text": [
      "\n",
      " 68%|██████▊   | 68/100 [06:22<03:54,  7.31s/it]\u001b[A"
     ]
    },
    {
     "name": "stdout",
     "output_type": "stream",
     "text": [
      "0.5175 6.4026061008801655e-06 0.0002479732064599245\n",
      "Train on 1600 samples, validate on 400 samples\n",
      "Epoch 1/5\n",
      "1600/1600 [==============================] - 2s 2ms/sample - loss: 15.7922 - sparse_categorical_accuracy: 0.4981 - val_loss: 15.7879 - val_sparse_categorical_accuracy: 0.5075\n",
      "Epoch 2/5\n",
      "1600/1600 [==============================] - 1s 362us/sample - loss: 15.7914 - sparse_categorical_accuracy: 0.4981 - val_loss: 15.7871 - val_sparse_categorical_accuracy: 0.5075\n",
      "Epoch 3/5\n",
      "1600/1600 [==============================] - 1s 409us/sample - loss: 15.7906 - sparse_categorical_accuracy: 0.4981 - val_loss: 15.7864 - val_sparse_categorical_accuracy: 0.5075\n",
      "Epoch 4/5\n",
      "1600/1600 [==============================] - 1s 385us/sample - loss: 15.7898 - sparse_categorical_accuracy: 0.4981 - val_loss: 15.7856 - val_sparse_categorical_accuracy: 0.5075\n",
      "Epoch 5/5\n",
      "1600/1600 [==============================] - 1s 384us/sample - loss: 15.7890 - sparse_categorical_accuracy: 0.4981 - val_loss: 15.7848 - val_sparse_categorical_accuracy: 0.5075\n"
     ]
    },
    {
     "name": "stderr",
     "output_type": "stream",
     "text": [
      "\n",
      " 69%|██████▉   | 69/100 [06:30<03:51,  7.47s/it]\u001b[A"
     ]
    },
    {
     "name": "stdout",
     "output_type": "stream",
     "text": [
      "0.5075 2.1177032877239737e-06 0.03971804386118837\n",
      "Train on 1600 samples, validate on 400 samples\n",
      "Epoch 1/5\n",
      "1600/1600 [==============================] - 2s 1ms/sample - loss: 11.9521 - sparse_categorical_accuracy: 0.4800 - val_loss: 11.9497 - val_sparse_categorical_accuracy: 0.4900\n",
      "Epoch 2/5\n",
      "1600/1600 [==============================] - 1s 387us/sample - loss: 11.9450 - sparse_categorical_accuracy: 0.5156 - val_loss: 11.9432 - val_sparse_categorical_accuracy: 0.4975\n",
      "Epoch 3/5\n",
      "1600/1600 [==============================] - 1s 366us/sample - loss: 11.9384 - sparse_categorical_accuracy: 0.5519 - val_loss: 11.9372 - val_sparse_categorical_accuracy: 0.5475\n",
      "Epoch 4/5\n",
      "1600/1600 [==============================] - 1s 356us/sample - loss: 11.9322 - sparse_categorical_accuracy: 0.5881 - val_loss: 11.9315 - val_sparse_categorical_accuracy: 0.5725\n",
      "Epoch 5/5\n",
      "1600/1600 [==============================] - 1s 356us/sample - loss: 11.9264 - sparse_categorical_accuracy: 0.6112 - val_loss: 11.9261 - val_sparse_categorical_accuracy: 0.6000\n"
     ]
    },
    {
     "name": "stderr",
     "output_type": "stream",
     "text": [
      "\n",
      " 70%|███████   | 70/100 [06:37<03:45,  7.51s/it]\u001b[A"
     ]
    },
    {
     "name": "stdout",
     "output_type": "stream",
     "text": [
      "0.6 3.751103518899092e-05 0.02957025340921777\n",
      "Train on 1600 samples, validate on 400 samples\n",
      "Epoch 1/5\n",
      "1600/1600 [==============================] - 3s 2ms/sample - loss: 2834.3442 - sparse_categorical_accuracy: 0.5094 - val_loss: 2825.0913 - val_sparse_categorical_accuracy: 0.5300\n",
      "Epoch 2/5\n",
      "1600/1600 [==============================] - 1s 424us/sample - loss: 2816.2463 - sparse_categorical_accuracy: 0.5100 - val_loss: 2807.0524 - val_sparse_categorical_accuracy: 0.5325\n",
      "Epoch 3/5\n",
      "1600/1600 [==============================] - 1s 375us/sample - loss: 2798.2640 - sparse_categorical_accuracy: 0.5106 - val_loss: 2789.1293 - val_sparse_categorical_accuracy: 0.5325\n",
      "Epoch 4/5\n",
      "1600/1600 [==============================] - 1s 361us/sample - loss: 2780.3966 - sparse_categorical_accuracy: 0.5100 - val_loss: 2771.3201 - val_sparse_categorical_accuracy: 0.5325\n",
      "Epoch 5/5\n",
      "1600/1600 [==============================] - 1s 395us/sample - loss: 2762.6434 - sparse_categorical_accuracy: 0.5113 - val_loss: 2753.6249 - val_sparse_categorical_accuracy: 0.5275\n"
     ]
    },
    {
     "name": "stderr",
     "output_type": "stream",
     "text": [
      "\n",
      " 71%|███████   | 71/100 [06:45<03:43,  7.71s/it]\u001b[A"
     ]
    },
    {
     "name": "stdout",
     "output_type": "stream",
     "text": [
      "0.5275 4.277923766165641e-06 7.488346651254542\n",
      "Train on 1600 samples, validate on 400 samples\n",
      "Epoch 1/5\n",
      "1600/1600 [==============================] - 2s 2ms/sample - loss: 392.4354 - sparse_categorical_accuracy: 0.4794 - val_loss: 384.7162 - val_sparse_categorical_accuracy: 0.4625\n",
      "Epoch 2/5\n",
      "1600/1600 [==============================] - 1s 388us/sample - loss: 377.4945 - sparse_categorical_accuracy: 0.4425 - val_loss: 370.0746 - val_sparse_categorical_accuracy: 0.4775\n",
      "Epoch 3/5\n",
      "1600/1600 [==============================] - 1s 375us/sample - loss: 363.1296 - sparse_categorical_accuracy: 0.5356 - val_loss: 355.9950 - val_sparse_categorical_accuracy: 0.5825\n",
      "Epoch 4/5\n",
      "1600/1600 [==============================] - 1s 391us/sample - loss: 349.3154 - sparse_categorical_accuracy: 0.6175 - val_loss: 342.4545 - val_sparse_categorical_accuracy: 0.6350\n",
      "Epoch 5/5\n",
      "1600/1600 [==============================] - 1s 365us/sample - loss: 336.0302 - sparse_categorical_accuracy: 0.6587 - val_loss: 329.4321 - val_sparse_categorical_accuracy: 0.6700\n"
     ]
    },
    {
     "name": "stderr",
     "output_type": "stream",
     "text": [
      "\n",
      " 72%|███████▏  | 72/100 [06:54<03:40,  7.87s/it]\u001b[A"
     ]
    },
    {
     "name": "stdout",
     "output_type": "stream",
     "text": [
      "0.67 0.00018465776990103766 1.0512737511822636\n",
      "Train on 1600 samples, validate on 400 samples\n",
      "Epoch 1/5\n",
      "1600/1600 [==============================] - 3s 2ms/sample - loss: 295.8027 - sparse_categorical_accuracy: 0.4963 - val_loss: 295.7704 - val_sparse_categorical_accuracy: 0.4900\n",
      "Epoch 2/5\n",
      "1600/1600 [==============================] - 1s 413us/sample - loss: 295.7437 - sparse_categorical_accuracy: 0.4963 - val_loss: 295.7114 - val_sparse_categorical_accuracy: 0.4900\n",
      "Epoch 3/5\n",
      "1600/1600 [==============================] - 1s 382us/sample - loss: 295.6847 - sparse_categorical_accuracy: 0.4963 - val_loss: 295.6524 - val_sparse_categorical_accuracy: 0.4925\n",
      "Epoch 4/5\n",
      "1600/1600 [==============================] - 1s 387us/sample - loss: 295.6258 - sparse_categorical_accuracy: 0.4956 - val_loss: 295.5935 - val_sparse_categorical_accuracy: 0.4900\n",
      "Epoch 5/5\n",
      "1600/1600 [==============================] - 1s 366us/sample - loss: 295.5668 - sparse_categorical_accuracy: 0.4956 - val_loss: 295.5345 - val_sparse_categorical_accuracy: 0.4900\n"
     ]
    },
    {
     "name": "stderr",
     "output_type": "stream",
     "text": [
      "\n",
      " 73%|███████▎  | 73/100 [07:02<03:36,  8.02s/it]\u001b[A"
     ]
    },
    {
     "name": "stdout",
     "output_type": "stream",
     "text": [
      "0.49 1.2824857075127829e-06 0.7770618132722125\n",
      "Train on 1600 samples, validate on 400 samples\n",
      "Epoch 1/5\n",
      "1600/1600 [==============================] - 3s 2ms/sample - loss: 2.5472 - sparse_categorical_accuracy: 0.4994 - val_loss: 2.5421 - val_sparse_categorical_accuracy: 0.5075\n",
      "Epoch 2/5\n",
      "1600/1600 [==============================] - 1s 393us/sample - loss: 2.5464 - sparse_categorical_accuracy: 0.4994 - val_loss: 2.5413 - val_sparse_categorical_accuracy: 0.5075\n",
      "Epoch 3/5\n",
      "1600/1600 [==============================] - 1s 369us/sample - loss: 2.5456 - sparse_categorical_accuracy: 0.4994 - val_loss: 2.5406 - val_sparse_categorical_accuracy: 0.5075\n",
      "Epoch 4/5\n",
      "1600/1600 [==============================] - 1s 383us/sample - loss: 2.5448 - sparse_categorical_accuracy: 0.4994 - val_loss: 2.5398 - val_sparse_categorical_accuracy: 0.5075\n",
      "Epoch 5/5\n",
      "1600/1600 [==============================] - 1s 374us/sample - loss: 2.5440 - sparse_categorical_accuracy: 0.4994 - val_loss: 2.5391 - val_sparse_categorical_accuracy: 0.5075\n"
     ]
    },
    {
     "name": "stderr",
     "output_type": "stream",
     "text": [
      "\n",
      " 74%|███████▍  | 74/100 [07:10<03:29,  8.04s/it]\u001b[A"
     ]
    },
    {
     "name": "stdout",
     "output_type": "stream",
     "text": [
      "0.5075 4.759703053605136e-06 0.004799444080000698\n",
      "Train on 1600 samples, validate on 400 samples\n",
      "Epoch 1/5\n",
      "1600/1600 [==============================] - 3s 2ms/sample - loss: 120.7958 - sparse_categorical_accuracy: 0.4825 - val_loss: 120.7839 - val_sparse_categorical_accuracy: 0.4900\n",
      "Epoch 2/5\n",
      "1600/1600 [==============================] - 1s 383us/sample - loss: 120.7714 - sparse_categorical_accuracy: 0.4831 - val_loss: 120.7595 - val_sparse_categorical_accuracy: 0.4900\n",
      "Epoch 3/5\n",
      "1600/1600 [==============================] - 1s 365us/sample - loss: 120.7470 - sparse_categorical_accuracy: 0.4831 - val_loss: 120.7351 - val_sparse_categorical_accuracy: 0.4925\n",
      "Epoch 4/5\n",
      "1600/1600 [==============================] - 1s 379us/sample - loss: 120.7226 - sparse_categorical_accuracy: 0.4825 - val_loss: 120.7108 - val_sparse_categorical_accuracy: 0.4925\n",
      "Epoch 5/5\n",
      "1600/1600 [==============================] - 1s 380us/sample - loss: 120.6983 - sparse_categorical_accuracy: 0.4825 - val_loss: 120.6864 - val_sparse_categorical_accuracy: 0.4925\n"
     ]
    },
    {
     "name": "stderr",
     "output_type": "stream",
     "text": [
      "\n",
      " 75%|███████▌  | 75/100 [07:18<03:23,  8.15s/it]\u001b[A"
     ]
    },
    {
     "name": "stdout",
     "output_type": "stream",
     "text": [
      "0.4925 3.186390894832981e-06 0.31594850516232603\n",
      "Train on 1600 samples, validate on 400 samples\n",
      "Epoch 1/5\n",
      "1600/1600 [==============================] - 2s 2ms/sample - loss: 251.2736 - sparse_categorical_accuracy: 0.5412 - val_loss: 235.1586 - val_sparse_categorical_accuracy: 0.5225\n",
      "Epoch 2/5\n",
      "1600/1600 [==============================] - 1s 386us/sample - loss: 220.9527 - sparse_categorical_accuracy: 0.6100 - val_loss: 206.7927 - val_sparse_categorical_accuracy: 0.6400\n",
      "Epoch 3/5\n",
      "1600/1600 [==============================] - 1s 421us/sample - loss: 194.3110 - sparse_categorical_accuracy: 0.7194 - val_loss: 181.8653 - val_sparse_categorical_accuracy: 0.7650\n",
      "Epoch 4/5\n",
      "1600/1600 [==============================] - 1s 359us/sample - loss: 170.8959 - sparse_categorical_accuracy: 0.7694 - val_loss: 159.9557 - val_sparse_categorical_accuracy: 0.7925\n",
      "Epoch 5/5\n",
      "1600/1600 [==============================] - 1s 355us/sample - loss: 150.3151 - sparse_categorical_accuracy: 0.8062 - val_loss: 140.6981 - val_sparse_categorical_accuracy: 0.8175\n"
     ]
    },
    {
     "name": "stderr",
     "output_type": "stream",
     "text": [
      "\n",
      " 76%|███████▌  | 76/100 [07:26<03:14,  8.12s/it]\u001b[A"
     ]
    },
    {
     "name": "stdout",
     "output_type": "stream",
     "text": [
      "0.8175 0.0009164554510306121 0.7026115521940856\n",
      "Train on 1600 samples, validate on 400 samples\n",
      "Epoch 1/5\n",
      "1600/1600 [==============================] - 3s 2ms/sample - loss: 0.7287 - sparse_categorical_accuracy: 0.4481 - val_loss: 0.7221 - val_sparse_categorical_accuracy: 0.4700\n",
      "Epoch 2/5\n",
      "1600/1600 [==============================] - 1s 421us/sample - loss: 0.7140 - sparse_categorical_accuracy: 0.5250 - val_loss: 0.7089 - val_sparse_categorical_accuracy: 0.5475\n",
      "Epoch 3/5\n",
      "1600/1600 [==============================] - 1s 401us/sample - loss: 0.7018 - sparse_categorical_accuracy: 0.5888 - val_loss: 0.6977 - val_sparse_categorical_accuracy: 0.6000\n",
      "Epoch 4/5\n",
      "1600/1600 [==============================] - 1s 355us/sample - loss: 0.6913 - sparse_categorical_accuracy: 0.6681 - val_loss: 0.6879 - val_sparse_categorical_accuracy: 0.7075\n",
      "Epoch 5/5\n",
      "1600/1600 [==============================] - 1s 356us/sample - loss: 0.6819 - sparse_categorical_accuracy: 0.7294 - val_loss: 0.6789 - val_sparse_categorical_accuracy: 0.7375\n"
     ]
    },
    {
     "name": "stderr",
     "output_type": "stream",
     "text": [
      "\n",
      " 77%|███████▋  | 77/100 [07:35<03:08,  8.19s/it]\u001b[A"
     ]
    },
    {
     "name": "stdout",
     "output_type": "stream",
     "text": [
      "0.7375 0.00021276927799651719 7.309035551292164e-05\n",
      "Train on 1600 samples, validate on 400 samples\n",
      "Epoch 1/5\n",
      "1600/1600 [==============================] - 2s 2ms/sample - loss: 0.6984 - sparse_categorical_accuracy: 0.4806 - val_loss: 0.6988 - val_sparse_categorical_accuracy: 0.4675\n",
      "Epoch 2/5\n",
      "1600/1600 [==============================] - 1s 377us/sample - loss: 0.6983 - sparse_categorical_accuracy: 0.4831 - val_loss: 0.6987 - val_sparse_categorical_accuracy: 0.4700\n",
      "Epoch 3/5\n",
      "1600/1600 [==============================] - 1s 374us/sample - loss: 0.6982 - sparse_categorical_accuracy: 0.4825 - val_loss: 0.6986 - val_sparse_categorical_accuracy: 0.4700\n",
      "Epoch 4/5\n",
      "1600/1600 [==============================] - 1s 373us/sample - loss: 0.6981 - sparse_categorical_accuracy: 0.4812 - val_loss: 0.6984 - val_sparse_categorical_accuracy: 0.4675\n",
      "Epoch 5/5\n",
      "1600/1600 [==============================] - 1s 360us/sample - loss: 0.6980 - sparse_categorical_accuracy: 0.4812 - val_loss: 0.6983 - val_sparse_categorical_accuracy: 0.4700\n"
     ]
    },
    {
     "name": "stderr",
     "output_type": "stream",
     "text": [
      "\n",
      " 78%|███████▊  | 78/100 [07:43<02:58,  8.12s/it]\u001b[A"
     ]
    },
    {
     "name": "stdout",
     "output_type": "stream",
     "text": [
      "0.47 1.0461337909892114e-06 2.0074378933385817e-05\n",
      "Train on 1600 samples, validate on 400 samples\n",
      "Epoch 1/5\n",
      "1600/1600 [==============================] - 2s 2ms/sample - loss: 0.7001 - sparse_categorical_accuracy: 0.4812 - val_loss: 0.6995 - val_sparse_categorical_accuracy: 0.4800\n",
      "Epoch 2/5\n",
      "1600/1600 [==============================] - 1s 374us/sample - loss: 0.6959 - sparse_categorical_accuracy: 0.5163 - val_loss: 0.6957 - val_sparse_categorical_accuracy: 0.5075\n",
      "Epoch 3/5\n",
      "1600/1600 [==============================] - 1s 363us/sample - loss: 0.6919 - sparse_categorical_accuracy: 0.5356 - val_loss: 0.6920 - val_sparse_categorical_accuracy: 0.5475\n",
      "Epoch 4/5\n",
      "1600/1600 [==============================] - 1s 358us/sample - loss: 0.6881 - sparse_categorical_accuracy: 0.5650 - val_loss: 0.6885 - val_sparse_categorical_accuracy: 0.5650\n",
      "Epoch 5/5\n",
      "1600/1600 [==============================] - 1s 355us/sample - loss: 0.6844 - sparse_categorical_accuracy: 0.5906 - val_loss: 0.6851 - val_sparse_categorical_accuracy: 0.5975\n"
     ]
    },
    {
     "name": "stderr",
     "output_type": "stream",
     "text": [
      "\n",
      " 79%|███████▉  | 79/100 [07:51<02:48,  8.04s/it]\u001b[A"
     ]
    },
    {
     "name": "stdout",
     "output_type": "stream",
     "text": [
      "0.5975 4.001775911793568e-05 2.9399035235914176e-05\n",
      "Train on 1600 samples, validate on 400 samples\n",
      "Epoch 1/5\n",
      "1600/1600 [==============================] - 3s 2ms/sample - loss: 29.9118 - sparse_categorical_accuracy: 0.5000 - val_loss: 29.9249 - val_sparse_categorical_accuracy: 0.4850\n",
      "Epoch 2/5\n",
      "1600/1600 [==============================] - 1s 375us/sample - loss: 29.9087 - sparse_categorical_accuracy: 0.4994 - val_loss: 29.9218 - val_sparse_categorical_accuracy: 0.4850\n",
      "Epoch 3/5\n",
      "1600/1600 [==============================] - 1s 368us/sample - loss: 29.9056 - sparse_categorical_accuracy: 0.4994 - val_loss: 29.9186 - val_sparse_categorical_accuracy: 0.4850\n",
      "Epoch 4/5\n",
      "1600/1600 [==============================] - 1s 364us/sample - loss: 29.9025 - sparse_categorical_accuracy: 0.4988 - val_loss: 29.9154 - val_sparse_categorical_accuracy: 0.4850\n",
      "Epoch 5/5\n",
      "1600/1600 [==============================] - 1s 359us/sample - loss: 29.8994 - sparse_categorical_accuracy: 0.4988 - val_loss: 29.9122 - val_sparse_categorical_accuracy: 0.4850\n"
     ]
    },
    {
     "name": "stderr",
     "output_type": "stream",
     "text": [
      "\n",
      " 80%|████████  | 80/100 [07:59<02:40,  8.02s/it]\u001b[A"
     ]
    },
    {
     "name": "stdout",
     "output_type": "stream",
     "text": [
      "0.485 5.872916512903702e-06 0.07697200479840963\n",
      "Train on 1600 samples, validate on 400 samples\n",
      "Epoch 1/5\n",
      "1600/1600 [==============================] - 3s 2ms/sample - loss: 720.6543 - sparse_categorical_accuracy: 0.3844 - val_loss: 719.6597 - val_sparse_categorical_accuracy: 0.3950\n",
      "Epoch 2/5\n",
      "1600/1600 [==============================] - 1s 402us/sample - loss: 718.7053 - sparse_categorical_accuracy: 0.3913 - val_loss: 717.7134 - val_sparse_categorical_accuracy: 0.3975\n",
      "Epoch 3/5\n",
      "1600/1600 [==============================] - 1s 375us/sample - loss: 716.7617 - sparse_categorical_accuracy: 0.3950 - val_loss: 715.7725 - val_sparse_categorical_accuracy: 0.4025\n",
      "Epoch 4/5\n",
      "1600/1600 [==============================] - 1s 368us/sample - loss: 714.8233 - sparse_categorical_accuracy: 0.3981 - val_loss: 713.8367 - val_sparse_categorical_accuracy: 0.4075\n",
      "Epoch 5/5\n",
      "1600/1600 [==============================] - 1s 364us/sample - loss: 712.8902 - sparse_categorical_accuracy: 0.4019 - val_loss: 711.9062 - val_sparse_categorical_accuracy: 0.4125\n"
     ]
    },
    {
     "name": "stderr",
     "output_type": "stream",
     "text": [
      "\n",
      " 81%|████████  | 81/100 [08:07<02:33,  8.06s/it]\u001b[A"
     ]
    },
    {
     "name": "stdout",
     "output_type": "stream",
     "text": [
      "0.4125 7.1535791406600146e-06 1.8941119374188988\n",
      "Train on 1600 samples, validate on 400 samples\n",
      "Epoch 1/5\n",
      "1600/1600 [==============================] - 3s 2ms/sample - loss: 1.2467 - sparse_categorical_accuracy: 0.5556 - val_loss: 1.2379 - val_sparse_categorical_accuracy: 0.6075\n",
      "Epoch 2/5\n",
      "1600/1600 [==============================] - 1s 378us/sample - loss: 1.2354 - sparse_categorical_accuracy: 0.6137 - val_loss: 1.2275 - val_sparse_categorical_accuracy: 0.6475\n",
      "Epoch 3/5\n",
      "1600/1600 [==============================] - 1s 372us/sample - loss: 1.2249 - sparse_categorical_accuracy: 0.6438 - val_loss: 1.2177 - val_sparse_categorical_accuracy: 0.6775\n",
      "Epoch 4/5\n",
      "1600/1600 [==============================] - 1s 378us/sample - loss: 1.2150 - sparse_categorical_accuracy: 0.6825 - val_loss: 1.2083 - val_sparse_categorical_accuracy: 0.7400\n",
      "Epoch 5/5\n",
      "1600/1600 [==============================] - 1s 369us/sample - loss: 1.2058 - sparse_categorical_accuracy: 0.7150 - val_loss: 1.1994 - val_sparse_categorical_accuracy: 0.7975\n"
     ]
    },
    {
     "name": "stderr",
     "output_type": "stream",
     "text": [
      "\n",
      " 82%|████████▏ | 82/100 [08:15<02:26,  8.12s/it]\u001b[A"
     ]
    },
    {
     "name": "stdout",
     "output_type": "stream",
     "text": [
      "0.7975 0.00012792270846492658 0.0014893396135335442\n",
      "Train on 1600 samples, validate on 400 samples\n",
      "Epoch 1/5\n",
      "1600/1600 [==============================] - 3s 2ms/sample - loss: 2.1196 - sparse_categorical_accuracy: 0.4856 - val_loss: 2.1178 - val_sparse_categorical_accuracy: 0.4900\n",
      "Epoch 2/5\n",
      "1600/1600 [==============================] - 1s 385us/sample - loss: 2.1174 - sparse_categorical_accuracy: 0.4850 - val_loss: 2.1155 - val_sparse_categorical_accuracy: 0.4925\n",
      "Epoch 3/5\n",
      "1600/1600 [==============================] - 1s 374us/sample - loss: 2.1151 - sparse_categorical_accuracy: 0.4850 - val_loss: 2.1133 - val_sparse_categorical_accuracy: 0.4975\n",
      "Epoch 4/5\n",
      "1600/1600 [==============================] - 1s 365us/sample - loss: 2.1129 - sparse_categorical_accuracy: 0.4856 - val_loss: 2.1111 - val_sparse_categorical_accuracy: 0.5000\n",
      "Epoch 5/5\n",
      "1600/1600 [==============================] - 1s 367us/sample - loss: 2.1108 - sparse_categorical_accuracy: 0.4888 - val_loss: 2.1090 - val_sparse_categorical_accuracy: 0.5050\n"
     ]
    },
    {
     "name": "stderr",
     "output_type": "stream",
     "text": [
      "\n",
      " 83%|████████▎ | 83/100 [08:23<02:18,  8.14s/it]\u001b[A"
     ]
    },
    {
     "name": "stdout",
     "output_type": "stream",
     "text": [
      "0.505 3.088756711490371e-05 0.0037524246205628514\n",
      "Train on 1600 samples, validate on 400 samples\n",
      "Epoch 1/5\n",
      "1600/1600 [==============================] - 3s 2ms/sample - loss: 226.3087 - sparse_categorical_accuracy: 0.5025 - val_loss: 226.2792 - val_sparse_categorical_accuracy: 0.5025\n",
      "Epoch 2/5\n",
      "1600/1600 [==============================] - 1s 380us/sample - loss: 226.2575 - sparse_categorical_accuracy: 0.5031 - val_loss: 226.2280 - val_sparse_categorical_accuracy: 0.5025\n",
      "Epoch 3/5\n",
      "1600/1600 [==============================] - 1s 375us/sample - loss: 226.2063 - sparse_categorical_accuracy: 0.5038 - val_loss: 226.1769 - val_sparse_categorical_accuracy: 0.5025\n",
      "Epoch 4/5\n",
      "1600/1600 [==============================] - 1s 372us/sample - loss: 226.1552 - sparse_categorical_accuracy: 0.5038 - val_loss: 226.1257 - val_sparse_categorical_accuracy: 0.5050\n",
      "Epoch 5/5\n",
      "1600/1600 [==============================] - 1s 363us/sample - loss: 226.1040 - sparse_categorical_accuracy: 0.5044 - val_loss: 226.0746 - val_sparse_categorical_accuracy: 0.5050\n"
     ]
    },
    {
     "name": "stderr",
     "output_type": "stream",
     "text": [
      "\n",
      " 84%|████████▍ | 84/100 [08:31<02:10,  8.16s/it]\u001b[A"
     ]
    },
    {
     "name": "stdout",
     "output_type": "stream",
     "text": [
      "0.505 1.8945728995155992e-06 0.5947912489850717\n",
      "Train on 1600 samples, validate on 400 samples\n",
      "Epoch 1/5\n",
      "1600/1600 [==============================] - 3s 2ms/sample - loss: 2859.2381 - sparse_categorical_accuracy: 0.5206 - val_loss: 2739.6305 - val_sparse_categorical_accuracy: 0.5250\n",
      "Epoch 2/5\n",
      "1600/1600 [==============================] - 1s 377us/sample - loss: 2630.9219 - sparse_categorical_accuracy: 0.5100 - val_loss: 2520.8695 - val_sparse_categorical_accuracy: 0.5075\n",
      "Epoch 3/5\n",
      "1600/1600 [==============================] - 1s 368us/sample - loss: 2420.8440 - sparse_categorical_accuracy: 0.4950 - val_loss: 2319.5827 - val_sparse_categorical_accuracy: 0.5325\n",
      "Epoch 4/5\n",
      "1600/1600 [==============================] - 1s 365us/sample - loss: 2227.5469 - sparse_categorical_accuracy: 0.5225 - val_loss: 2134.3744 - val_sparse_categorical_accuracy: 0.5525\n",
      "Epoch 5/5\n",
      "1600/1600 [==============================] - 1s 364us/sample - loss: 2049.6892 - sparse_categorical_accuracy: 0.5506 - val_loss: 1963.9590 - val_sparse_categorical_accuracy: 0.5925\n"
     ]
    },
    {
     "name": "stderr",
     "output_type": "stream",
     "text": [
      "\n",
      " 85%|████████▌ | 85/100 [08:40<02:02,  8.18s/it]\u001b[A"
     ]
    },
    {
     "name": "stdout",
     "output_type": "stream",
     "text": [
      "0.5925 5.299992648497853e-05 7.8494894523443985\n",
      "Train on 1600 samples, validate on 400 samples\n",
      "Epoch 1/5\n",
      "1600/1600 [==============================] - 3s 2ms/sample - loss: 0.9969 - sparse_categorical_accuracy: 0.4469 - val_loss: 0.9946 - val_sparse_categorical_accuracy: 0.4525\n",
      "Epoch 2/5\n",
      "1600/1600 [==============================] - 1s 388us/sample - loss: 0.9963 - sparse_categorical_accuracy: 0.4425 - val_loss: 0.9940 - val_sparse_categorical_accuracy: 0.4525\n",
      "Epoch 3/5\n",
      "1600/1600 [==============================] - 1s 370us/sample - loss: 0.9956 - sparse_categorical_accuracy: 0.4425 - val_loss: 0.9934 - val_sparse_categorical_accuracy: 0.4525\n",
      "Epoch 4/5\n",
      "1600/1600 [==============================] - 1s 368us/sample - loss: 0.9950 - sparse_categorical_accuracy: 0.4412 - val_loss: 0.9928 - val_sparse_categorical_accuracy: 0.4550\n",
      "Epoch 5/5\n",
      "1600/1600 [==============================] - 1s 365us/sample - loss: 0.9944 - sparse_categorical_accuracy: 0.4394 - val_loss: 0.9922 - val_sparse_categorical_accuracy: 0.4500\n"
     ]
    },
    {
     "name": "stderr",
     "output_type": "stream",
     "text": [
      "\n",
      " 86%|████████▌ | 86/100 [08:48<01:54,  8.20s/it]\u001b[A"
     ]
    },
    {
     "name": "stdout",
     "output_type": "stream",
     "text": [
      "0.45 4.5521160722630764e-06 0.0006965486735271567\n",
      "Train on 1600 samples, validate on 400 samples\n",
      "Epoch 1/5\n",
      "1600/1600 [==============================] - 3s 2ms/sample - loss: 935.5072 - sparse_categorical_accuracy: 0.5206 - val_loss: 925.1911 - val_sparse_categorical_accuracy: 0.5500\n",
      "Epoch 2/5\n",
      "1600/1600 [==============================] - 1s 384us/sample - loss: 915.4293 - sparse_categorical_accuracy: 0.5537 - val_loss: 905.3362 - val_sparse_categorical_accuracy: 0.5725\n",
      "Epoch 3/5\n",
      "1600/1600 [==============================] - 1s 380us/sample - loss: 895.7845 - sparse_categorical_accuracy: 0.5987 - val_loss: 885.9093 - val_sparse_categorical_accuracy: 0.6250\n",
      "Epoch 4/5\n",
      "1600/1600 [==============================] - 1s 373us/sample - loss: 876.5630 - sparse_categorical_accuracy: 0.6381 - val_loss: 866.9005 - val_sparse_categorical_accuracy: 0.6825\n",
      "Epoch 5/5\n",
      "1600/1600 [==============================] - 1s 371us/sample - loss: 857.7551 - sparse_categorical_accuracy: 0.6775 - val_loss: 848.3007 - val_sparse_categorical_accuracy: 0.7400\n"
     ]
    },
    {
     "name": "stderr",
     "output_type": "stream",
     "text": [
      "\n",
      " 87%|████████▋ | 87/100 [08:56<01:47,  8.26s/it]\u001b[A"
     ]
    },
    {
     "name": "stdout",
     "output_type": "stream",
     "text": [
      "0.74 4.366783708356975e-05 2.484649557121516\n",
      "Train on 1600 samples, validate on 400 samples\n",
      "Epoch 1/5\n",
      "1600/1600 [==============================] - 3s 2ms/sample - loss: 40.6468 - sparse_categorical_accuracy: 0.5569 - val_loss: 40.2627 - val_sparse_categorical_accuracy: 0.6750\n",
      "Epoch 2/5\n",
      "1600/1600 [==============================] - 1s 383us/sample - loss: 39.8991 - sparse_categorical_accuracy: 0.7331 - val_loss: 39.5309 - val_sparse_categorical_accuracy: 0.7850\n",
      "Epoch 3/5\n",
      "1600/1600 [==============================] - 1s 381us/sample - loss: 39.1784 - sparse_categorical_accuracy: 0.8025 - val_loss: 38.8200 - val_sparse_categorical_accuracy: 0.8325\n",
      "Epoch 4/5\n",
      "1600/1600 [==============================] - 1s 374us/sample - loss: 38.4764 - sparse_categorical_accuracy: 0.8263 - val_loss: 38.1254 - val_sparse_categorical_accuracy: 0.8500\n",
      "Epoch 5/5\n",
      "1600/1600 [==============================] - 1s 384us/sample - loss: 37.7900 - sparse_categorical_accuracy: 0.8606 - val_loss: 37.4461 - val_sparse_categorical_accuracy: 0.8525\n"
     ]
    },
    {
     "name": "stderr",
     "output_type": "stream",
     "text": [
      "\n",
      " 88%|████████▊ | 88/100 [09:05<01:39,  8.30s/it]\u001b[A"
     ]
    },
    {
     "name": "stdout",
     "output_type": "stream",
     "text": [
      "0.8525 0.0008267420142316444 0.10615447684623033\n",
      "Train on 1600 samples, validate on 400 samples\n",
      "Epoch 1/5\n",
      "1600/1600 [==============================] - 3s 2ms/sample - loss: 1.0186 - sparse_categorical_accuracy: 0.4956 - val_loss: 1.0184 - val_sparse_categorical_accuracy: 0.5125\n",
      "Epoch 2/5\n",
      "1600/1600 [==============================] - 1s 388us/sample - loss: 1.0168 - sparse_categorical_accuracy: 0.4963 - val_loss: 1.0166 - val_sparse_categorical_accuracy: 0.5150\n",
      "Epoch 3/5\n",
      "1600/1600 [==============================] - 1s 379us/sample - loss: 1.0151 - sparse_categorical_accuracy: 0.4956 - val_loss: 1.0149 - val_sparse_categorical_accuracy: 0.5175\n",
      "Epoch 4/5\n",
      "1600/1600 [==============================] - 1s 371us/sample - loss: 1.0134 - sparse_categorical_accuracy: 0.4956 - val_loss: 1.0133 - val_sparse_categorical_accuracy: 0.5150\n",
      "Epoch 5/5\n",
      "1600/1600 [==============================] - 1s 371us/sample - loss: 1.0118 - sparse_categorical_accuracy: 0.4975 - val_loss: 1.0117 - val_sparse_categorical_accuracy: 0.5200\n"
     ]
    },
    {
     "name": "stderr",
     "output_type": "stream",
     "text": [
      "\n",
      " 89%|████████▉ | 89/100 [09:13<01:31,  8.33s/it]\u001b[A"
     ]
    },
    {
     "name": "stdout",
     "output_type": "stream",
     "text": [
      "0.52 9.396196505492335e-06 0.0008123333422577894\n",
      "Train on 1600 samples, validate on 400 samples\n",
      "Epoch 1/5\n",
      "1600/1600 [==============================] - 3s 2ms/sample - loss: 774.1501 - sparse_categorical_accuracy: 0.3894 - val_loss: 771.2353 - val_sparse_categorical_accuracy: 0.3625\n",
      "Epoch 2/5\n",
      "1600/1600 [==============================] - 1s 385us/sample - loss: 768.4447 - sparse_categorical_accuracy: 0.3944 - val_loss: 765.5514 - val_sparse_categorical_accuracy: 0.3550\n",
      "Epoch 3/5\n",
      "1600/1600 [==============================] - 1s 381us/sample - loss: 762.7814 - sparse_categorical_accuracy: 0.3931 - val_loss: 759.9095 - val_sparse_categorical_accuracy: 0.3500\n",
      "Epoch 4/5\n",
      "1600/1600 [==============================] - 1s 385us/sample - loss: 757.1600 - sparse_categorical_accuracy: 0.3875 - val_loss: 754.3093 - val_sparse_categorical_accuracy: 0.3425\n",
      "Epoch 5/5\n",
      "1600/1600 [==============================] - 1s 374us/sample - loss: 751.5801 - sparse_categorical_accuracy: 0.3762 - val_loss: 748.7504 - val_sparse_categorical_accuracy: 0.3450\n"
     ]
    },
    {
     "name": "stderr",
     "output_type": "stream",
     "text": [
      "\n",
      " 90%|█████████ | 90/100 [09:22<01:24,  8.41s/it]\u001b[A"
     ]
    },
    {
     "name": "stdout",
     "output_type": "stream",
     "text": [
      "0.345 1.8106885600075846e-05 2.0437382315846158\n",
      "Train on 1600 samples, validate on 400 samples\n",
      "Epoch 1/5\n",
      "1600/1600 [==============================] - 3s 2ms/sample - loss: 0.9273 - sparse_categorical_accuracy: 0.3756 - val_loss: 0.9056 - val_sparse_categorical_accuracy: 0.4650\n",
      "Epoch 2/5\n",
      "1600/1600 [==============================] - 1s 388us/sample - loss: 0.8921 - sparse_categorical_accuracy: 0.5875 - val_loss: 0.8784 - val_sparse_categorical_accuracy: 0.6750\n",
      "Epoch 3/5\n",
      "1600/1600 [==============================] - 1s 378us/sample - loss: 0.8673 - sparse_categorical_accuracy: 0.7437 - val_loss: 0.8560 - val_sparse_categorical_accuracy: 0.7875\n",
      "Epoch 4/5\n",
      "1600/1600 [==============================] - 1s 372us/sample - loss: 0.8463 - sparse_categorical_accuracy: 0.8012 - val_loss: 0.8358 - val_sparse_categorical_accuracy: 0.8425\n",
      "Epoch 5/5\n",
      "1600/1600 [==============================] - 1s 372us/sample - loss: 0.8272 - sparse_categorical_accuracy: 0.8363 - val_loss: 0.8171 - val_sparse_categorical_accuracy: 0.8450\n"
     ]
    },
    {
     "name": "stderr",
     "output_type": "stream",
     "text": [
      "\n",
      " 91%|█████████ | 91/100 [09:30<01:15,  8.43s/it]\u001b[A"
     ]
    },
    {
     "name": "stdout",
     "output_type": "stream",
     "text": [
      "0.845 0.00035438284310212114 0.0005607554864327173\n",
      "Train on 1600 samples, validate on 400 samples\n",
      "Epoch 1/5\n",
      "1600/1600 [==============================] - 3s 2ms/sample - loss: 278.9014 - sparse_categorical_accuracy: 0.5444 - val_loss: 268.7673 - val_sparse_categorical_accuracy: 0.7425\n",
      "Epoch 2/5\n",
      "1600/1600 [==============================] - 1s 396us/sample - loss: 259.4939 - sparse_categorical_accuracy: 0.7613 - val_loss: 250.0727 - val_sparse_categorical_accuracy: 0.8075\n",
      "Epoch 3/5\n",
      "1600/1600 [==============================] - 1s 387us/sample - loss: 241.4508 - sparse_categorical_accuracy: 0.8019 - val_loss: 232.6890 - val_sparse_categorical_accuracy: 0.8350\n",
      "Epoch 4/5\n",
      "1600/1600 [==============================] - 1s 390us/sample - loss: 224.6708 - sparse_categorical_accuracy: 0.8125 - val_loss: 216.5210 - val_sparse_categorical_accuracy: 0.8525\n",
      "Epoch 5/5\n",
      "1600/1600 [==============================] - 1s 380us/sample - loss: 209.0638 - sparse_categorical_accuracy: 0.8275 - val_loss: 201.4827 - val_sparse_categorical_accuracy: 0.8525\n"
     ]
    },
    {
     "name": "stderr",
     "output_type": "stream",
     "text": [
      "\n",
      " 92%|█████████▏| 92/100 [09:39<01:08,  8.54s/it]\u001b[A"
     ]
    },
    {
     "name": "stdout",
     "output_type": "stream",
     "text": [
      "0.8525 0.0004751004383015738 0.7595170823955048\n",
      "Train on 1600 samples, validate on 400 samples\n",
      "Epoch 1/5\n",
      "1600/1600 [==============================] - 3s 2ms/sample - loss: 1.1645 - sparse_categorical_accuracy: 0.4700 - val_loss: 1.1554 - val_sparse_categorical_accuracy: 0.4775\n",
      "Epoch 2/5\n",
      "1600/1600 [==============================] - 1s 401us/sample - loss: 1.1638 - sparse_categorical_accuracy: 0.4681 - val_loss: 1.1547 - val_sparse_categorical_accuracy: 0.4775\n",
      "Epoch 3/5\n",
      "1600/1600 [==============================] - 1s 382us/sample - loss: 1.1631 - sparse_categorical_accuracy: 0.4669 - val_loss: 1.1540 - val_sparse_categorical_accuracy: 0.4750\n",
      "Epoch 4/5\n",
      "1600/1600 [==============================] - 1s 381us/sample - loss: 1.1624 - sparse_categorical_accuracy: 0.4644 - val_loss: 1.1534 - val_sparse_categorical_accuracy: 0.4750\n",
      "Epoch 5/5\n",
      "1600/1600 [==============================] - 1s 394us/sample - loss: 1.1617 - sparse_categorical_accuracy: 0.4650 - val_loss: 1.1527 - val_sparse_categorical_accuracy: 0.4725\n"
     ]
    },
    {
     "name": "stderr",
     "output_type": "stream",
     "text": [
      "\n",
      " 93%|█████████▎| 93/100 [09:48<01:00,  8.66s/it]\u001b[A"
     ]
    },
    {
     "name": "stdout",
     "output_type": "stream",
     "text": [
      "0.4725 3.2648251374247943e-06 0.0011565317384691419\n",
      "Train on 1600 samples, validate on 400 samples\n",
      "Epoch 1/5\n",
      "1600/1600 [==============================] - 3s 2ms/sample - loss: 102.8317 - sparse_categorical_accuracy: 0.5031 - val_loss: 102.7730 - val_sparse_categorical_accuracy: 0.4950\n",
      "Epoch 2/5\n",
      "1600/1600 [==============================] - 1s 398us/sample - loss: 102.7088 - sparse_categorical_accuracy: 0.5038 - val_loss: 102.6499 - val_sparse_categorical_accuracy: 0.4950\n",
      "Epoch 3/5\n",
      "1600/1600 [==============================] - 1s 421us/sample - loss: 102.5860 - sparse_categorical_accuracy: 0.5038 - val_loss: 102.5269 - val_sparse_categorical_accuracy: 0.4950\n",
      "Epoch 4/5\n",
      "1600/1600 [==============================] - 1s 383us/sample - loss: 102.4635 - sparse_categorical_accuracy: 0.5038 - val_loss: 102.4042 - val_sparse_categorical_accuracy: 0.4950\n",
      "Epoch 5/5\n",
      "1600/1600 [==============================] - 1s 405us/sample - loss: 102.3411 - sparse_categorical_accuracy: 0.5038 - val_loss: 102.2817 - val_sparse_categorical_accuracy: 0.4950\n"
     ]
    },
    {
     "name": "stderr",
     "output_type": "stream",
     "text": [
      "\n",
      " 94%|█████████▍| 94/100 [09:57<00:53,  8.84s/it]\u001b[A"
     ]
    },
    {
     "name": "stdout",
     "output_type": "stream",
     "text": [
      "0.495 2.2053690391158485e-05 0.26919931434378014\n",
      "Train on 1600 samples, validate on 400 samples\n",
      "Epoch 1/5\n",
      "1600/1600 [==============================] - 3s 2ms/sample - loss: 1545.9404 - sparse_categorical_accuracy: 0.5031 - val_loss: 1543.0856 - val_sparse_categorical_accuracy: 0.4950\n",
      "Epoch 2/5\n",
      "1600/1600 [==============================] - 1s 382us/sample - loss: 1540.3314 - sparse_categorical_accuracy: 0.5031 - val_loss: 1537.4869 - val_sparse_categorical_accuracy: 0.4950\n",
      "Epoch 3/5\n",
      "1600/1600 [==============================] - 1s 395us/sample - loss: 1534.7428 - sparse_categorical_accuracy: 0.5031 - val_loss: 1531.9086 - val_sparse_categorical_accuracy: 0.4950\n",
      "Epoch 4/5\n",
      "1600/1600 [==============================] - 1s 409us/sample - loss: 1529.1745 - sparse_categorical_accuracy: 0.5031 - val_loss: 1526.3504 - val_sparse_categorical_accuracy: 0.4950\n",
      "Epoch 5/5\n",
      "1600/1600 [==============================] - 1s 387us/sample - loss: 1523.6264 - sparse_categorical_accuracy: 0.5031 - val_loss: 1520.8124 - val_sparse_categorical_accuracy: 0.4950\n"
     ]
    },
    {
     "name": "stderr",
     "output_type": "stream",
     "text": [
      "\n",
      " 95%|█████████▌| 95/100 [10:06<00:44,  8.93s/it]\u001b[A"
     ]
    },
    {
     "name": "stdout",
     "output_type": "stream",
     "text": [
      "0.495 4.464717534640388e-06 4.07180514251977\n",
      "Train on 1600 samples, validate on 400 samples\n",
      "Epoch 1/5\n",
      "1600/1600 [==============================] - 3s 2ms/sample - loss: 0.7348 - sparse_categorical_accuracy: 0.5019 - val_loss: 0.7364 - val_sparse_categorical_accuracy: 0.4925\n",
      "Epoch 2/5\n",
      "1600/1600 [==============================] - 1s 464us/sample - loss: 0.7333 - sparse_categorical_accuracy: 0.5019 - val_loss: 0.7349 - val_sparse_categorical_accuracy: 0.4925\n",
      "Epoch 3/5\n",
      "1600/1600 [==============================] - 1s 407us/sample - loss: 0.7319 - sparse_categorical_accuracy: 0.5019 - val_loss: 0.7335 - val_sparse_categorical_accuracy: 0.4925\n",
      "Epoch 4/5\n",
      "1600/1600 [==============================] - 1s 392us/sample - loss: 0.7304 - sparse_categorical_accuracy: 0.5019 - val_loss: 0.7320 - val_sparse_categorical_accuracy: 0.4925\n",
      "Epoch 5/5\n",
      "1600/1600 [==============================] - 1s 399us/sample - loss: 0.7291 - sparse_categorical_accuracy: 0.5019 - val_loss: 0.7306 - val_sparse_categorical_accuracy: 0.4925\n"
     ]
    },
    {
     "name": "stderr",
     "output_type": "stream",
     "text": [
      "\n",
      " 96%|█████████▌| 96/100 [10:16<00:36,  9.10s/it]\u001b[A"
     ]
    },
    {
     "name": "stdout",
     "output_type": "stream",
     "text": [
      "0.4925 7.97216138725285e-06 5.404198444138619e-05\n",
      "Train on 1600 samples, validate on 400 samples\n",
      "Epoch 1/5\n",
      "1600/1600 [==============================] - 3s 2ms/sample - loss: 226.3695 - sparse_categorical_accuracy: 0.6837 - val_loss: 224.6041 - val_sparse_categorical_accuracy: 0.6700\n",
      "Epoch 2/5\n",
      "1600/1600 [==============================] - 1s 394us/sample - loss: 222.9195 - sparse_categorical_accuracy: 0.7044 - val_loss: 221.1824 - val_sparse_categorical_accuracy: 0.6900\n",
      "Epoch 3/5\n",
      "1600/1600 [==============================] - 1s 394us/sample - loss: 219.5240 - sparse_categorical_accuracy: 0.7181 - val_loss: 217.8141 - val_sparse_categorical_accuracy: 0.6950\n",
      "Epoch 4/5\n",
      "1600/1600 [==============================] - 1s 401us/sample - loss: 216.1815 - sparse_categorical_accuracy: 0.7200 - val_loss: 214.4983 - val_sparse_categorical_accuracy: 0.7025\n",
      "Epoch 5/5\n",
      "1600/1600 [==============================] - 1s 415us/sample - loss: 212.8910 - sparse_categorical_accuracy: 0.7244 - val_loss: 211.2339 - val_sparse_categorical_accuracy: 0.7075\n"
     ]
    },
    {
     "name": "stderr",
     "output_type": "stream",
     "text": [
      "\n",
      " 97%|█████████▋| 97/100 [10:25<00:27,  9.26s/it]\u001b[A"
     ]
    },
    {
     "name": "stdout",
     "output_type": "stream",
     "text": [
      "0.7075 0.00012851256262523636 0.5975575367779025\n",
      "Train on 1600 samples, validate on 400 samples\n",
      "Epoch 1/5\n",
      "1600/1600 [==============================] - 3s 2ms/sample - loss: 1.1220 - sparse_categorical_accuracy: 0.5056 - val_loss: 1.1249 - val_sparse_categorical_accuracy: 0.4950\n",
      "Epoch 2/5\n",
      "1600/1600 [==============================] - 1s 402us/sample - loss: 1.1217 - sparse_categorical_accuracy: 0.5056 - val_loss: 1.1246 - val_sparse_categorical_accuracy: 0.4950\n",
      "Epoch 3/5\n",
      "1600/1600 [==============================] - 1s 403us/sample - loss: 1.1214 - sparse_categorical_accuracy: 0.5056 - val_loss: 1.1243 - val_sparse_categorical_accuracy: 0.4950\n",
      "Epoch 4/5\n",
      "1600/1600 [==============================] - 1s 379us/sample - loss: 1.1211 - sparse_categorical_accuracy: 0.5056 - val_loss: 1.1240 - val_sparse_categorical_accuracy: 0.4950\n",
      "Epoch 5/5\n",
      "1600/1600 [==============================] - 1s 391us/sample - loss: 1.1208 - sparse_categorical_accuracy: 0.5056 - val_loss: 1.1236 - val_sparse_categorical_accuracy: 0.4950\n"
     ]
    },
    {
     "name": "stderr",
     "output_type": "stream",
     "text": [
      "\n",
      " 98%|█████████▊| 98/100 [10:35<00:18,  9.26s/it]\u001b[A"
     ]
    },
    {
     "name": "stdout",
     "output_type": "stream",
     "text": [
      "0.495 3.2111043838186205e-06 0.0010911097141839405\n",
      "Train on 1600 samples, validate on 400 samples\n",
      "Epoch 1/5\n",
      "1600/1600 [==============================] - 3s 2ms/sample - loss: 28.5148 - sparse_categorical_accuracy: 0.4431 - val_loss: 28.5145 - val_sparse_categorical_accuracy: 0.4375\n",
      "Epoch 2/5\n",
      "1600/1600 [==============================] - 1s 417us/sample - loss: 28.5111 - sparse_categorical_accuracy: 0.4431 - val_loss: 28.5108 - val_sparse_categorical_accuracy: 0.4400\n",
      "Epoch 3/5\n",
      "1600/1600 [==============================] - 1s 401us/sample - loss: 28.5075 - sparse_categorical_accuracy: 0.4425 - val_loss: 28.5072 - val_sparse_categorical_accuracy: 0.4425\n",
      "Epoch 4/5\n",
      "1600/1600 [==============================] - 1s 401us/sample - loss: 28.5038 - sparse_categorical_accuracy: 0.4425 - val_loss: 28.5035 - val_sparse_categorical_accuracy: 0.4425\n",
      "Epoch 5/5\n",
      "1600/1600 [==============================] - 1s 374us/sample - loss: 28.5002 - sparse_categorical_accuracy: 0.4419 - val_loss: 28.4999 - val_sparse_categorical_accuracy: 0.4425\n"
     ]
    },
    {
     "name": "stderr",
     "output_type": "stream",
     "text": [
      "\n",
      " 99%|█████████▉| 99/100 [10:44<00:09,  9.33s/it]\u001b[A"
     ]
    },
    {
     "name": "stdout",
     "output_type": "stream",
     "text": [
      "0.4425 7.338631247988726e-06 0.07322471366018168\n",
      "Train on 1600 samples, validate on 400 samples\n",
      "Epoch 1/5\n",
      "1600/1600 [==============================] - 3s 2ms/sample - loss: 2.0149 - sparse_categorical_accuracy: 0.5981 - val_loss: 2.0174 - val_sparse_categorical_accuracy: 0.5875\n",
      "Epoch 2/5\n",
      "1600/1600 [==============================] - 1s 394us/sample - loss: 2.0142 - sparse_categorical_accuracy: 0.6000 - val_loss: 2.0168 - val_sparse_categorical_accuracy: 0.5900\n",
      "Epoch 3/5\n",
      "1600/1600 [==============================] - 1s 384us/sample - loss: 2.0136 - sparse_categorical_accuracy: 0.6000 - val_loss: 2.0162 - val_sparse_categorical_accuracy: 0.5925\n",
      "Epoch 4/5\n",
      "1600/1600 [==============================] - 1s 392us/sample - loss: 2.0130 - sparse_categorical_accuracy: 0.6019 - val_loss: 2.0156 - val_sparse_categorical_accuracy: 0.5950\n",
      "Epoch 5/5\n",
      "1600/1600 [==============================] - 1s 397us/sample - loss: 2.0124 - sparse_categorical_accuracy: 0.6025 - val_loss: 2.0149 - val_sparse_categorical_accuracy: 0.6000\n"
     ]
    },
    {
     "name": "stderr",
     "output_type": "stream",
     "text": [
      "\n",
      "100%|██████████| 100/100 [10:53<00:00,  6.54s/it]\u001b[A"
     ]
    },
    {
     "name": "stdout",
     "output_type": "stream",
     "text": [
      "0.6 8.382739662675617e-06 0.003501435928545504\n"
     ]
    },
    {
     "name": "stderr",
     "output_type": "stream",
     "text": [
      "\n"
     ]
    }
   ],
   "source": [
    "val_acc=[]\n",
    "lrs=[]\n",
    "l2_regs=[]\n",
    "for i in tqdm(range(100)):\n",
    "    lr = 10**np.random.uniform(-3,-6)\n",
    "    l2_reg = 10**np.random.uniform(-5, 1)\n",
    "    model = create_model(num_classes,l2_reg)\n",
    "    model.compile(optimizer=optimizers.SGD(learning_rate=lr),loss='sparse_categorical_crossentropy',metrics=['sparse_categorical_accuracy'])\n",
    "    history = model.fit(X_train,y_train,batch_size=BATCH_SIZE,epochs=5, verbose=1,validation_data=(X_val,y_val))\n",
    "    val_acc.append(history.history['val_sparse_categorical_accuracy'][-1])\n",
    "    lrs.append(lr)\n",
    "    l2_regs.append(l2_reg)\n",
    "    print(history.history['val_sparse_categorical_accuracy'][-1], lr, l2_reg)"
   ]
  },
  {
   "cell_type": "code",
   "execution_count": 44,
   "metadata": {
    "scrolled": true
   },
   "outputs": [],
   "source": [
    "logs=[val_acc,lrs, l2_regs]\n",
    "logs=np.array(logs)\n",
    "# logs=np.sort(logs,axis=0)"
   ]
  },
  {
   "cell_type": "code",
   "execution_count": 45,
   "metadata": {
    "scrolled": true
   },
   "outputs": [
    {
     "data": {
      "text/plain": [
       "array([ 3, 91, 87, 90, 56, 19,  5, 31, 75,  9], dtype=int64)"
      ]
     },
     "execution_count": 45,
     "metadata": {},
     "output_type": "execute_result"
    }
   ],
   "source": [
    "top10=np.argsort(logs[0,:])[::-1][:10]\n",
    "top10"
   ]
  },
  {
   "cell_type": "code",
   "execution_count": 46,
   "metadata": {
    "scrolled": false
   },
   "outputs": [
    {
     "data": {
      "text/plain": [
       "array([[8.72500002e-01, 8.52500021e-01, 8.52500021e-01, 8.45000029e-01,\n",
       "        8.42499971e-01, 8.39999974e-01, 8.37499976e-01, 8.32499981e-01,\n",
       "        8.17499995e-01, 8.14999998e-01],\n",
       "       [7.61644656e-04, 4.75100438e-04, 8.26742014e-04, 3.54382843e-04,\n",
       "        8.86005669e-04, 9.07719034e-04, 1.88985557e-04, 2.54710752e-04,\n",
       "        9.16455451e-04, 3.47673147e-04],\n",
       "       [1.07341204e-04, 7.59517082e-01, 1.06154477e-01, 5.60755486e-04,\n",
       "        1.06745960e-05, 2.81907629e-02, 1.12913460e-04, 4.05971357e-01,\n",
       "        7.02611552e-01, 1.54764117e-05]])"
      ]
     },
     "execution_count": 46,
     "metadata": {},
     "output_type": "execute_result"
    }
   ],
   "source": [
    "logs[:,top10]"
   ]
  },
  {
   "cell_type": "markdown",
   "metadata": {},
   "source": [
    "#### Fine Search \n",
    "\n",
    "We restrict the fine search to the smaller range and train for 15 epochs."
   ]
  },
  {
   "cell_type": "code",
   "execution_count": 48,
   "metadata": {
    "scrolled": true
   },
   "outputs": [
    {
     "name": "stderr",
     "output_type": "stream",
     "text": [
      "\n",
      "\n",
      "  0%|          | 0/30 [00:00<?, ?it/s]\u001b[A\u001b[A"
     ]
    },
    {
     "name": "stdout",
     "output_type": "stream",
     "text": [
      "Train on 1600 samples, validate on 400 samples\n",
      "Epoch 1/15\n",
      "1600/1600 [==============================] - 3s 2ms/sample - loss: 1.3469 - sparse_categorical_accuracy: 0.6119 - val_loss: 1.3106 - val_sparse_categorical_accuracy: 0.8025\n",
      "Epoch 2/15\n",
      "1600/1600 [==============================] - 1s 442us/sample - loss: 1.2830 - sparse_categorical_accuracy: 0.8025 - val_loss: 1.2577 - val_sparse_categorical_accuracy: 0.8250\n",
      "Epoch 3/15\n",
      "1600/1600 [==============================] - 1s 410us/sample - loss: 1.2361 - sparse_categorical_accuracy: 0.8256 - val_loss: 1.2114 - val_sparse_categorical_accuracy: 0.8450\n",
      "Epoch 4/15\n",
      "1600/1600 [==============================] - 1s 399us/sample - loss: 1.1942 - sparse_categorical_accuracy: 0.8381 - val_loss: 1.1707 - val_sparse_categorical_accuracy: 0.8825\n",
      "Epoch 5/15\n",
      "1600/1600 [==============================] - 1s 406us/sample - loss: 1.1567 - sparse_categorical_accuracy: 0.8637 - val_loss: 1.1319 - val_sparse_categorical_accuracy: 0.8775\n",
      "Epoch 6/15\n",
      "1600/1600 [==============================] - 1s 407us/sample - loss: 1.1229 - sparse_categorical_accuracy: 0.8594 - val_loss: 1.0978 - val_sparse_categorical_accuracy: 0.8850\n",
      "Epoch 7/15\n",
      "1600/1600 [==============================] - 1s 399us/sample - loss: 1.0919 - sparse_categorical_accuracy: 0.8725 - val_loss: 1.0700 - val_sparse_categorical_accuracy: 0.8950\n",
      "Epoch 8/15\n",
      "1600/1600 [==============================] - 1s 401us/sample - loss: 1.0651 - sparse_categorical_accuracy: 0.8794 - val_loss: 1.0440 - val_sparse_categorical_accuracy: 0.8850\n",
      "Epoch 9/15\n",
      "1600/1600 [==============================] - 1s 415us/sample - loss: 1.0423 - sparse_categorical_accuracy: 0.8788 - val_loss: 1.0219 - val_sparse_categorical_accuracy: 0.8925\n",
      "Epoch 10/15\n",
      "1600/1600 [==============================] - 1s 407us/sample - loss: 1.0222 - sparse_categorical_accuracy: 0.8869 - val_loss: 1.0027 - val_sparse_categorical_accuracy: 0.8950\n",
      "Epoch 11/15\n",
      "1600/1600 [==============================] - 1s 405us/sample - loss: 1.0044 - sparse_categorical_accuracy: 0.8919 - val_loss: 0.9885 - val_sparse_categorical_accuracy: 0.9125\n",
      "Epoch 12/15\n",
      "1600/1600 [==============================] - 1s 403us/sample - loss: 0.9903 - sparse_categorical_accuracy: 0.8994 - val_loss: 0.9735 - val_sparse_categorical_accuracy: 0.9175\n",
      "Epoch 13/15\n",
      "1600/1600 [==============================] - 1s 391us/sample - loss: 0.9762 - sparse_categorical_accuracy: 0.9031 - val_loss: 0.9618 - val_sparse_categorical_accuracy: 0.9200\n",
      "Epoch 14/15\n",
      "1600/1600 [==============================] - 1s 407us/sample - loss: 0.9636 - sparse_categorical_accuracy: 0.9056 - val_loss: 0.9527 - val_sparse_categorical_accuracy: 0.9175\n",
      "Epoch 15/15\n",
      "1600/1600 [==============================] - 1s 403us/sample - loss: 0.9531 - sparse_categorical_accuracy: 0.9100 - val_loss: 0.9410 - val_sparse_categorical_accuracy: 0.9250\n"
     ]
    },
    {
     "name": "stderr",
     "output_type": "stream",
     "text": [
      "\n",
      "\n",
      "  3%|▎         | 1/30 [00:16<07:56, 16.42s/it]\u001b[A\u001b[A"
     ]
    },
    {
     "name": "stdout",
     "output_type": "stream",
     "text": [
      "0.925 0.0009051746982902491 0.0018110572290662226\n",
      "Train on 1600 samples, validate on 400 samples\n",
      "Epoch 1/15\n",
      "1600/1600 [==============================] - 3s 2ms/sample - loss: 16.1711 - sparse_categorical_accuracy: 0.5675 - val_loss: 16.1101 - val_sparse_categorical_accuracy: 0.7950\n",
      "Epoch 2/15\n",
      "1600/1600 [==============================] - 1s 449us/sample - loss: 16.0663 - sparse_categorical_accuracy: 0.7325 - val_loss: 16.0167 - val_sparse_categorical_accuracy: 0.7025\n",
      "Epoch 3/15\n",
      "1600/1600 [==============================] - 1s 405us/sample - loss: 15.9749 - sparse_categorical_accuracy: 0.7188 - val_loss: 15.9268 - val_sparse_categorical_accuracy: 0.7150\n",
      "Epoch 4/15\n",
      "1600/1600 [==============================] - 1s 405us/sample - loss: 15.8852 - sparse_categorical_accuracy: 0.7663 - val_loss: 15.8368 - val_sparse_categorical_accuracy: 0.8025\n",
      "Epoch 5/15\n",
      "1600/1600 [==============================] - 1s 397us/sample - loss: 15.7959 - sparse_categorical_accuracy: 0.7887 - val_loss: 15.7475 - val_sparse_categorical_accuracy: 0.8550\n",
      "Epoch 6/15\n",
      "1600/1600 [==============================] - 1s 405us/sample - loss: 15.7073 - sparse_categorical_accuracy: 0.8369 - val_loss: 15.6589 - val_sparse_categorical_accuracy: 0.8550\n",
      "Epoch 7/15\n",
      "1600/1600 [==============================] - 1s 405us/sample - loss: 15.6189 - sparse_categorical_accuracy: 0.8469 - val_loss: 15.5704 - val_sparse_categorical_accuracy: 0.8700\n",
      "Epoch 8/15\n",
      "1600/1600 [==============================] - 1s 422us/sample - loss: 15.5316 - sparse_categorical_accuracy: 0.8481 - val_loss: 15.4832 - val_sparse_categorical_accuracy: 0.8825\n",
      "Epoch 9/15\n",
      "1600/1600 [==============================] - 1s 417us/sample - loss: 15.4457 - sparse_categorical_accuracy: 0.8569 - val_loss: 15.3973 - val_sparse_categorical_accuracy: 0.8825\n",
      "Epoch 10/15\n",
      "1600/1600 [==============================] - 1s 413us/sample - loss: 15.3608 - sparse_categorical_accuracy: 0.8606 - val_loss: 15.3124 - val_sparse_categorical_accuracy: 0.8850\n",
      "Epoch 11/15\n",
      "1600/1600 [==============================] - 1s 407us/sample - loss: 15.2772 - sparse_categorical_accuracy: 0.8637 - val_loss: 15.2290 - val_sparse_categorical_accuracy: 0.8850\n",
      "Epoch 12/15\n",
      "1600/1600 [==============================] - 1s 404us/sample - loss: 15.1949 - sparse_categorical_accuracy: 0.8669 - val_loss: 15.1469 - val_sparse_categorical_accuracy: 0.8850\n",
      "Epoch 13/15\n",
      "1600/1600 [==============================] - 1s 403us/sample - loss: 15.1137 - sparse_categorical_accuracy: 0.8712 - val_loss: 15.0662 - val_sparse_categorical_accuracy: 0.8850\n",
      "Epoch 14/15\n",
      "1600/1600 [==============================] - 1s 404us/sample - loss: 15.0340 - sparse_categorical_accuracy: 0.8719 - val_loss: 14.9869 - val_sparse_categorical_accuracy: 0.8900\n",
      "Epoch 15/15\n",
      "1600/1600 [==============================] - 1s 401us/sample - loss: 14.9555 - sparse_categorical_accuracy: 0.8744 - val_loss: 14.9092 - val_sparse_categorical_accuracy: 0.8875\n"
     ]
    },
    {
     "name": "stderr",
     "output_type": "stream",
     "text": [
      "\n",
      "\n",
      "  7%|▋         | 2/30 [00:32<07:38, 16.39s/it]\u001b[A\u001b[A"
     ]
    },
    {
     "name": "stdout",
     "output_type": "stream",
     "text": [
      "0.8875 0.0005422863566482813 0.04084475603452944\n",
      "Train on 1600 samples, validate on 400 samples\n",
      "Epoch 1/15\n",
      "1600/1600 [==============================] - 3s 2ms/sample - loss: 0.6986 - sparse_categorical_accuracy: 0.4969 - val_loss: 0.6850 - val_sparse_categorical_accuracy: 0.5525\n",
      "Epoch 2/15\n",
      "1600/1600 [==============================] - 1s 456us/sample - loss: 0.6756 - sparse_categorical_accuracy: 0.6181 - val_loss: 0.6675 - val_sparse_categorical_accuracy: 0.6475\n",
      "Epoch 3/15\n",
      "1600/1600 [==============================] - 1s 414us/sample - loss: 0.6586 - sparse_categorical_accuracy: 0.6731 - val_loss: 0.6516 - val_sparse_categorical_accuracy: 0.6725\n",
      "Epoch 4/15\n",
      "1600/1600 [==============================] - 1s 420us/sample - loss: 0.6438 - sparse_categorical_accuracy: 0.6756 - val_loss: 0.6381 - val_sparse_categorical_accuracy: 0.6800\n",
      "Epoch 5/15\n",
      "1600/1600 [==============================] - 1s 417us/sample - loss: 0.6307 - sparse_categorical_accuracy: 0.6819 - val_loss: 0.6250 - val_sparse_categorical_accuracy: 0.6850\n",
      "Epoch 6/15\n",
      "1600/1600 [==============================] - 1s 398us/sample - loss: 0.6186 - sparse_categorical_accuracy: 0.6844 - val_loss: 0.6132 - val_sparse_categorical_accuracy: 0.6925\n",
      "Epoch 7/15\n",
      "1600/1600 [==============================] - 1s 364us/sample - loss: 0.6074 - sparse_categorical_accuracy: 0.7063 - val_loss: 0.6018 - val_sparse_categorical_accuracy: 0.7450\n",
      "Epoch 8/15\n",
      "1600/1600 [==============================] - 1s 393us/sample - loss: 0.5966 - sparse_categorical_accuracy: 0.7475 - val_loss: 0.5907 - val_sparse_categorical_accuracy: 0.8025\n",
      "Epoch 9/15\n",
      "1600/1600 [==============================] - 1s 417us/sample - loss: 0.5860 - sparse_categorical_accuracy: 0.7656 - val_loss: 0.5801 - val_sparse_categorical_accuracy: 0.8175\n",
      "Epoch 10/15\n",
      "1600/1600 [==============================] - 1s 381us/sample - loss: 0.5758 - sparse_categorical_accuracy: 0.7744 - val_loss: 0.5693 - val_sparse_categorical_accuracy: 0.8375\n",
      "Epoch 11/15\n",
      "1600/1600 [==============================] - 1s 393us/sample - loss: 0.5655 - sparse_categorical_accuracy: 0.7969 - val_loss: 0.5588 - val_sparse_categorical_accuracy: 0.8450\n",
      "Epoch 12/15\n",
      "1600/1600 [==============================] - 1s 388us/sample - loss: 0.5555 - sparse_categorical_accuracy: 0.8000 - val_loss: 0.5480 - val_sparse_categorical_accuracy: 0.8475\n",
      "Epoch 13/15\n",
      "1600/1600 [==============================] - 1s 374us/sample - loss: 0.5452 - sparse_categorical_accuracy: 0.8169 - val_loss: 0.5375 - val_sparse_categorical_accuracy: 0.8500\n",
      "Epoch 14/15\n",
      "1600/1600 [==============================] - 1s 361us/sample - loss: 0.5350 - sparse_categorical_accuracy: 0.8294 - val_loss: 0.5270 - val_sparse_categorical_accuracy: 0.8500\n",
      "Epoch 15/15\n",
      "1600/1600 [==============================] - 1s 358us/sample - loss: 0.5247 - sparse_categorical_accuracy: 0.8331 - val_loss: 0.5163 - val_sparse_categorical_accuracy: 0.8575\n"
     ]
    },
    {
     "name": "stderr",
     "output_type": "stream",
     "text": [
      "\n",
      "\n",
      " 10%|█         | 3/30 [00:48<07:20, 16.32s/it]\u001b[A\u001b[A"
     ]
    },
    {
     "name": "stdout",
     "output_type": "stream",
     "text": [
      "0.8575 0.0002679447203427245 1.053513773681141e-05\n",
      "Train on 1600 samples, validate on 400 samples\n",
      "Epoch 1/15\n",
      "1600/1600 [==============================] - 3s 2ms/sample - loss: 0.6828 - sparse_categorical_accuracy: 0.6737 - val_loss: 0.6616 - val_sparse_categorical_accuracy: 0.7100\n",
      "Epoch 2/15\n",
      "1600/1600 [==============================] - 1s 383us/sample - loss: 0.6473 - sparse_categorical_accuracy: 0.7400 - val_loss: 0.6305 - val_sparse_categorical_accuracy: 0.7900\n",
      "Epoch 3/15\n",
      "1600/1600 [==============================] - 1s 377us/sample - loss: 0.6191 - sparse_categorical_accuracy: 0.7819 - val_loss: 0.6024 - val_sparse_categorical_accuracy: 0.8250\n",
      "Epoch 4/15\n",
      "1600/1600 [==============================] - 1s 372us/sample - loss: 0.5934 - sparse_categorical_accuracy: 0.8000 - val_loss: 0.5763 - val_sparse_categorical_accuracy: 0.8475\n",
      "Epoch 5/15\n",
      "1600/1600 [==============================] - 1s 377us/sample - loss: 0.5691 - sparse_categorical_accuracy: 0.8219 - val_loss: 0.5513 - val_sparse_categorical_accuracy: 0.8525\n",
      "Epoch 6/15\n",
      "1600/1600 [==============================] - 1s 375us/sample - loss: 0.5460 - sparse_categorical_accuracy: 0.8331 - val_loss: 0.5288 - val_sparse_categorical_accuracy: 0.8575\n",
      "Epoch 7/15\n",
      "1600/1600 [==============================] - 1s 374us/sample - loss: 0.5250 - sparse_categorical_accuracy: 0.8356 - val_loss: 0.5081 - val_sparse_categorical_accuracy: 0.8550\n",
      "Epoch 8/15\n",
      "1600/1600 [==============================] - 1s 364us/sample - loss: 0.5053 - sparse_categorical_accuracy: 0.8413 - val_loss: 0.4883 - val_sparse_categorical_accuracy: 0.8625\n",
      "Epoch 9/15\n",
      "1600/1600 [==============================] - 1s 386us/sample - loss: 0.4866 - sparse_categorical_accuracy: 0.8450 - val_loss: 0.4696 - val_sparse_categorical_accuracy: 0.8625\n",
      "Epoch 10/15\n",
      "1600/1600 [==============================] - 1s 377us/sample - loss: 0.4697 - sparse_categorical_accuracy: 0.8487 - val_loss: 0.4531 - val_sparse_categorical_accuracy: 0.8600\n",
      "Epoch 11/15\n",
      "1600/1600 [==============================] - 1s 365us/sample - loss: 0.4539 - sparse_categorical_accuracy: 0.8519 - val_loss: 0.4378 - val_sparse_categorical_accuracy: 0.8700\n",
      "Epoch 12/15\n",
      "1600/1600 [==============================] - 1s 384us/sample - loss: 0.4391 - sparse_categorical_accuracy: 0.8569 - val_loss: 0.4237 - val_sparse_categorical_accuracy: 0.8750\n",
      "Epoch 13/15\n",
      "1600/1600 [==============================] - 1s 396us/sample - loss: 0.4253 - sparse_categorical_accuracy: 0.8594 - val_loss: 0.4105 - val_sparse_categorical_accuracy: 0.8750\n",
      "Epoch 14/15\n",
      "1600/1600 [==============================] - 1s 437us/sample - loss: 0.4125 - sparse_categorical_accuracy: 0.8631 - val_loss: 0.3983 - val_sparse_categorical_accuracy: 0.8750\n",
      "Epoch 15/15\n",
      "1600/1600 [==============================] - 1s 410us/sample - loss: 0.4004 - sparse_categorical_accuracy: 0.8644 - val_loss: 0.3877 - val_sparse_categorical_accuracy: 0.8800\n"
     ]
    },
    {
     "name": "stderr",
     "output_type": "stream",
     "text": [
      "\n",
      "\n",
      " 13%|█▎        | 4/30 [01:04<06:57, 16.05s/it]\u001b[A\u001b[A"
     ]
    },
    {
     "name": "stdout",
     "output_type": "stream",
     "text": [
      "0.88 0.000537877753529577 5.034666557319827e-05\n",
      "Train on 1600 samples, validate on 400 samples\n",
      "Epoch 1/15\n",
      "1600/1600 [==============================] - 3s 2ms/sample - loss: 0.6937 - sparse_categorical_accuracy: 0.5325 - val_loss: 0.6872 - val_sparse_categorical_accuracy: 0.5375\n",
      "Epoch 2/15\n",
      "1600/1600 [==============================] - 1s 444us/sample - loss: 0.6805 - sparse_categorical_accuracy: 0.5537 - val_loss: 0.6733 - val_sparse_categorical_accuracy: 0.5850\n",
      "Epoch 3/15\n",
      "1600/1600 [==============================] - 1s 416us/sample - loss: 0.6679 - sparse_categorical_accuracy: 0.6325 - val_loss: 0.6605 - val_sparse_categorical_accuracy: 0.6575\n",
      "Epoch 4/15\n",
      "1600/1600 [==============================] - 1s 362us/sample - loss: 0.6564 - sparse_categorical_accuracy: 0.6706 - val_loss: 0.6484 - val_sparse_categorical_accuracy: 0.7175\n",
      "Epoch 5/15\n",
      "1600/1600 [==============================] - 1s 370us/sample - loss: 0.6456 - sparse_categorical_accuracy: 0.7181 - val_loss: 0.6373 - val_sparse_categorical_accuracy: 0.7525\n",
      "Epoch 6/15\n",
      "1600/1600 [==============================] - 1s 371us/sample - loss: 0.6355 - sparse_categorical_accuracy: 0.7725 - val_loss: 0.6269 - val_sparse_categorical_accuracy: 0.7825\n",
      "Epoch 7/15\n",
      "1600/1600 [==============================] - 1s 351us/sample - loss: 0.6259 - sparse_categorical_accuracy: 0.7900 - val_loss: 0.6169 - val_sparse_categorical_accuracy: 0.8075\n",
      "Epoch 8/15\n",
      "1600/1600 [==============================] - 1s 361us/sample - loss: 0.6165 - sparse_categorical_accuracy: 0.8025 - val_loss: 0.6069 - val_sparse_categorical_accuracy: 0.8125\n",
      "Epoch 9/15\n",
      "1600/1600 [==============================] - 1s 379us/sample - loss: 0.6072 - sparse_categorical_accuracy: 0.8269 - val_loss: 0.5972 - val_sparse_categorical_accuracy: 0.8125\n",
      "Epoch 10/15\n",
      "1600/1600 [==============================] - 1s 392us/sample - loss: 0.5981 - sparse_categorical_accuracy: 0.8275 - val_loss: 0.5876 - val_sparse_categorical_accuracy: 0.8225\n",
      "Epoch 11/15\n",
      "1600/1600 [==============================] - 1s 384us/sample - loss: 0.5891 - sparse_categorical_accuracy: 0.8319 - val_loss: 0.5783 - val_sparse_categorical_accuracy: 0.8275\n",
      "Epoch 12/15\n",
      "1600/1600 [==============================] - 1s 379us/sample - loss: 0.5804 - sparse_categorical_accuracy: 0.8381 - val_loss: 0.5692 - val_sparse_categorical_accuracy: 0.8475\n",
      "Epoch 13/15\n",
      "1600/1600 [==============================] - 1s 393us/sample - loss: 0.5719 - sparse_categorical_accuracy: 0.8388 - val_loss: 0.5602 - val_sparse_categorical_accuracy: 0.8500\n",
      "Epoch 14/15\n",
      "1600/1600 [==============================] - 1s 381us/sample - loss: 0.5635 - sparse_categorical_accuracy: 0.8450 - val_loss: 0.5515 - val_sparse_categorical_accuracy: 0.8500\n",
      "Epoch 15/15\n",
      "1600/1600 [==============================] - 1s 384us/sample - loss: 0.5553 - sparse_categorical_accuracy: 0.8444 - val_loss: 0.5429 - val_sparse_categorical_accuracy: 0.8500\n"
     ]
    },
    {
     "name": "stderr",
     "output_type": "stream",
     "text": [
      "\n",
      "\n",
      " 17%|█▋        | 5/30 [01:20<06:38, 15.96s/it]\u001b[A\u001b[A"
     ]
    },
    {
     "name": "stdout",
     "output_type": "stream",
     "text": [
      "0.85 0.00019166082040987303 5.718530463190213e-05\n",
      "Train on 1600 samples, validate on 400 samples\n",
      "Epoch 1/15\n",
      "1600/1600 [==============================] - 3s 2ms/sample - loss: 0.6938 - sparse_categorical_accuracy: 0.6037 - val_loss: 0.6874 - val_sparse_categorical_accuracy: 0.6125\n",
      "Epoch 2/15\n",
      "1600/1600 [==============================] - 1s 386us/sample - loss: 0.6712 - sparse_categorical_accuracy: 0.6456 - val_loss: 0.6654 - val_sparse_categorical_accuracy: 0.6475\n",
      "Epoch 3/15\n",
      "1600/1600 [==============================] - 1s 376us/sample - loss: 0.6515 - sparse_categorical_accuracy: 0.6744 - val_loss: 0.6457 - val_sparse_categorical_accuracy: 0.6625\n",
      "Epoch 4/15\n",
      "1600/1600 [==============================] - 1s 367us/sample - loss: 0.6343 - sparse_categorical_accuracy: 0.6812 - val_loss: 0.6281 - val_sparse_categorical_accuracy: 0.6700\n",
      "Epoch 5/15\n",
      "1600/1600 [==============================] - 1s 366us/sample - loss: 0.6187 - sparse_categorical_accuracy: 0.6931 - val_loss: 0.6119 - val_sparse_categorical_accuracy: 0.6850\n",
      "Epoch 6/15\n",
      "1600/1600 [==============================] - 1s 362us/sample - loss: 0.6043 - sparse_categorical_accuracy: 0.7031 - val_loss: 0.5974 - val_sparse_categorical_accuracy: 0.6975\n",
      "Epoch 7/15\n",
      "1600/1600 [==============================] - 1s 358us/sample - loss: 0.5908 - sparse_categorical_accuracy: 0.7306 - val_loss: 0.5836 - val_sparse_categorical_accuracy: 0.7400\n",
      "Epoch 8/15\n",
      "1600/1600 [==============================] - 1s 359us/sample - loss: 0.5777 - sparse_categorical_accuracy: 0.7800 - val_loss: 0.5702 - val_sparse_categorical_accuracy: 0.8025\n",
      "Epoch 9/15\n",
      "1600/1600 [==============================] - 1s 360us/sample - loss: 0.5649 - sparse_categorical_accuracy: 0.7962 - val_loss: 0.5567 - val_sparse_categorical_accuracy: 0.8275\n",
      "Epoch 10/15\n",
      "1600/1600 [==============================] - 1s 381us/sample - loss: 0.5524 - sparse_categorical_accuracy: 0.8181 - val_loss: 0.5440 - val_sparse_categorical_accuracy: 0.8300\n",
      "Epoch 11/15\n",
      "1600/1600 [==============================] - 1s 369us/sample - loss: 0.5402 - sparse_categorical_accuracy: 0.8231 - val_loss: 0.5311 - val_sparse_categorical_accuracy: 0.8425\n",
      "Epoch 12/15\n",
      "1600/1600 [==============================] - 1s 366us/sample - loss: 0.5278 - sparse_categorical_accuracy: 0.8319 - val_loss: 0.5185 - val_sparse_categorical_accuracy: 0.8500\n",
      "Epoch 13/15\n",
      "1600/1600 [==============================] - 1s 363us/sample - loss: 0.5158 - sparse_categorical_accuracy: 0.8331 - val_loss: 0.5061 - val_sparse_categorical_accuracy: 0.8500\n",
      "Epoch 14/15\n",
      "1600/1600 [==============================] - 1s 361us/sample - loss: 0.5040 - sparse_categorical_accuracy: 0.8363 - val_loss: 0.4935 - val_sparse_categorical_accuracy: 0.8500\n",
      "Epoch 15/15\n",
      "1600/1600 [==============================] - 1s 360us/sample - loss: 0.4921 - sparse_categorical_accuracy: 0.8394 - val_loss: 0.4812 - val_sparse_categorical_accuracy: 0.8500\n"
     ]
    },
    {
     "name": "stderr",
     "output_type": "stream",
     "text": [
      "\n",
      "\n",
      " 20%|██        | 6/30 [01:35<06:18, 15.79s/it]\u001b[A\u001b[A"
     ]
    },
    {
     "name": "stdout",
     "output_type": "stream",
     "text": [
      "0.85 0.0002990887060218812 1.2483090563875038e-06\n",
      "Train on 1600 samples, validate on 400 samples\n",
      "Epoch 1/15\n",
      "1600/1600 [==============================] - 3s 2ms/sample - loss: 1.2928 - sparse_categorical_accuracy: 0.4919 - val_loss: 1.2756 - val_sparse_categorical_accuracy: 0.5100\n",
      "Epoch 2/15\n",
      "1600/1600 [==============================] - 1s 401us/sample - loss: 1.2697 - sparse_categorical_accuracy: 0.5300 - val_loss: 1.2570 - val_sparse_categorical_accuracy: 0.6150\n",
      "Epoch 3/15\n",
      "1600/1600 [==============================] - 1s 364us/sample - loss: 1.2526 - sparse_categorical_accuracy: 0.6506 - val_loss: 1.2406 - val_sparse_categorical_accuracy: 0.6775\n",
      "Epoch 4/15\n",
      "1600/1600 [==============================] - 1s 374us/sample - loss: 1.2372 - sparse_categorical_accuracy: 0.7013 - val_loss: 1.2251 - val_sparse_categorical_accuracy: 0.7150\n",
      "Epoch 5/15\n",
      "1600/1600 [==============================] - 1s 349us/sample - loss: 1.2226 - sparse_categorical_accuracy: 0.7294 - val_loss: 1.2099 - val_sparse_categorical_accuracy: 0.8000\n",
      "Epoch 6/15\n",
      "1600/1600 [==============================] - 1s 372us/sample - loss: 1.2084 - sparse_categorical_accuracy: 0.7763 - val_loss: 1.1951 - val_sparse_categorical_accuracy: 0.8125\n",
      "Epoch 7/15\n",
      "1600/1600 [==============================] - 1s 371us/sample - loss: 1.1946 - sparse_categorical_accuracy: 0.7962 - val_loss: 1.1802 - val_sparse_categorical_accuracy: 0.8250\n",
      "Epoch 8/15\n",
      "1600/1600 [==============================] - 1s 373us/sample - loss: 1.1798 - sparse_categorical_accuracy: 0.8081 - val_loss: 1.1645 - val_sparse_categorical_accuracy: 0.8325\n",
      "Epoch 9/15\n",
      "1600/1600 [==============================] - 1s 357us/sample - loss: 1.1646 - sparse_categorical_accuracy: 0.8169 - val_loss: 1.1486 - val_sparse_categorical_accuracy: 0.8425\n",
      "Epoch 10/15\n",
      "1600/1600 [==============================] - 1s 371us/sample - loss: 1.1494 - sparse_categorical_accuracy: 0.8225 - val_loss: 1.1320 - val_sparse_categorical_accuracy: 0.8550\n",
      "Epoch 11/15\n",
      "1600/1600 [==============================] - 1s 364us/sample - loss: 1.1339 - sparse_categorical_accuracy: 0.8325 - val_loss: 1.1155 - val_sparse_categorical_accuracy: 0.8600\n",
      "Epoch 12/15\n",
      "1600/1600 [==============================] - 1s 367us/sample - loss: 1.1182 - sparse_categorical_accuracy: 0.8381 - val_loss: 1.0989 - val_sparse_categorical_accuracy: 0.8625\n",
      "Epoch 13/15\n",
      "1600/1600 [==============================] - 1s 356us/sample - loss: 1.1027 - sparse_categorical_accuracy: 0.8431 - val_loss: 1.0828 - val_sparse_categorical_accuracy: 0.8600\n",
      "Epoch 14/15\n",
      "1600/1600 [==============================] - 1s 350us/sample - loss: 1.0874 - sparse_categorical_accuracy: 0.8450 - val_loss: 1.0666 - val_sparse_categorical_accuracy: 0.8600\n",
      "Epoch 15/15\n",
      "1600/1600 [==============================] - 1s 353us/sample - loss: 1.0723 - sparse_categorical_accuracy: 0.8500 - val_loss: 1.0512 - val_sparse_categorical_accuracy: 0.8625\n"
     ]
    },
    {
     "name": "stderr",
     "output_type": "stream",
     "text": [
      "\n",
      "\n",
      " 23%|██▎       | 7/30 [01:50<05:59, 15.63s/it]\u001b[A\u001b[A"
     ]
    },
    {
     "name": "stdout",
     "output_type": "stream",
     "text": [
      "0.8625 0.0005184111019161812 0.0015901542923939848\n",
      "Train on 1600 samples, validate on 400 samples\n",
      "Epoch 1/15\n",
      "1600/1600 [==============================] - 3s 2ms/sample - loss: 1.5599 - sparse_categorical_accuracy: 0.5025 - val_loss: 1.5462 - val_sparse_categorical_accuracy: 0.5025\n",
      "Epoch 2/15\n",
      "1600/1600 [==============================] - 1s 416us/sample - loss: 1.5300 - sparse_categorical_accuracy: 0.5819 - val_loss: 1.5180 - val_sparse_categorical_accuracy: 0.6525\n",
      "Epoch 3/15\n",
      "1600/1600 [==============================] - 1s 390us/sample - loss: 1.5047 - sparse_categorical_accuracy: 0.6794 - val_loss: 1.4929 - val_sparse_categorical_accuracy: 0.7075\n",
      "Epoch 4/15\n",
      "1600/1600 [==============================] - 1s 412us/sample - loss: 1.4815 - sparse_categorical_accuracy: 0.7412 - val_loss: 1.4694 - val_sparse_categorical_accuracy: 0.7925\n",
      "Epoch 5/15\n",
      "1600/1600 [==============================] - 1s 430us/sample - loss: 1.4597 - sparse_categorical_accuracy: 0.7887 - val_loss: 1.4472 - val_sparse_categorical_accuracy: 0.8150\n",
      "Epoch 6/15\n",
      "1600/1600 [==============================] - 1s 399us/sample - loss: 1.4386 - sparse_categorical_accuracy: 0.7962 - val_loss: 1.4250 - val_sparse_categorical_accuracy: 0.8325\n",
      "Epoch 7/15\n",
      "1600/1600 [==============================] - 1s 380us/sample - loss: 1.4184 - sparse_categorical_accuracy: 0.8169 - val_loss: 1.4042 - val_sparse_categorical_accuracy: 0.8550\n",
      "Epoch 8/15\n",
      "1600/1600 [==============================] - 1s 404us/sample - loss: 1.3984 - sparse_categorical_accuracy: 0.8313 - val_loss: 1.3838 - val_sparse_categorical_accuracy: 0.8625\n",
      "Epoch 9/15\n",
      "1600/1600 [==============================] - 1s 413us/sample - loss: 1.3789 - sparse_categorical_accuracy: 0.8388 - val_loss: 1.3637 - val_sparse_categorical_accuracy: 0.8600\n",
      "Epoch 10/15\n",
      "1600/1600 [==============================] - 1s 361us/sample - loss: 1.3604 - sparse_categorical_accuracy: 0.8456 - val_loss: 1.3448 - val_sparse_categorical_accuracy: 0.8675\n",
      "Epoch 11/15\n",
      "1600/1600 [==============================] - 1s 360us/sample - loss: 1.3425 - sparse_categorical_accuracy: 0.8581 - val_loss: 1.3263 - val_sparse_categorical_accuracy: 0.8750\n",
      "Epoch 12/15\n",
      "1600/1600 [==============================] - 1s 386us/sample - loss: 1.3253 - sparse_categorical_accuracy: 0.8662 - val_loss: 1.3090 - val_sparse_categorical_accuracy: 0.8775\n",
      "Epoch 13/15\n",
      "1600/1600 [==============================] - 1s 402us/sample - loss: 1.3089 - sparse_categorical_accuracy: 0.8669 - val_loss: 1.2924 - val_sparse_categorical_accuracy: 0.8875\n",
      "Epoch 14/15\n",
      "1600/1600 [==============================] - 1s 374us/sample - loss: 1.2934 - sparse_categorical_accuracy: 0.8750 - val_loss: 1.2774 - val_sparse_categorical_accuracy: 0.8850\n",
      "Epoch 15/15\n",
      "1600/1600 [==============================] - 1s 416us/sample - loss: 1.2790 - sparse_categorical_accuracy: 0.8756 - val_loss: 1.2629 - val_sparse_categorical_accuracy: 0.8925\n"
     ]
    },
    {
     "name": "stderr",
     "output_type": "stream",
     "text": [
      "\n",
      "\n",
      " 27%|██▋       | 8/30 [02:06<05:44, 15.68s/it]\u001b[A\u001b[A"
     ]
    },
    {
     "name": "stdout",
     "output_type": "stream",
     "text": [
      "0.8925 0.0004839669412801667 0.002372962319316621\n",
      "Train on 1600 samples, validate on 400 samples\n",
      "Epoch 1/15\n",
      "1600/1600 [==============================] - 3s 2ms/sample - loss: 37.0583 - sparse_categorical_accuracy: 0.4812 - val_loss: 36.9265 - val_sparse_categorical_accuracy: 0.5025\n",
      "Epoch 2/15\n",
      "1600/1600 [==============================] - 1s 397us/sample - loss: 36.7995 - sparse_categorical_accuracy: 0.5325 - val_loss: 36.6706 - val_sparse_categorical_accuracy: 0.5625\n",
      "Epoch 3/15\n",
      "1600/1600 [==============================] - 1s 381us/sample - loss: 36.5459 - sparse_categorical_accuracy: 0.5962 - val_loss: 36.4196 - val_sparse_categorical_accuracy: 0.6225\n",
      "Epoch 4/15\n",
      "1600/1600 [==============================] - 1s 393us/sample - loss: 36.2977 - sparse_categorical_accuracy: 0.6725 - val_loss: 36.1729 - val_sparse_categorical_accuracy: 0.6525\n",
      "Epoch 5/15\n",
      "1600/1600 [==============================] - 1s 383us/sample - loss: 36.0533 - sparse_categorical_accuracy: 0.6969 - val_loss: 35.9293 - val_sparse_categorical_accuracy: 0.6875\n",
      "Epoch 6/15\n",
      "1600/1600 [==============================] - 1s 394us/sample - loss: 35.8118 - sparse_categorical_accuracy: 0.7237 - val_loss: 35.6884 - val_sparse_categorical_accuracy: 0.7675\n",
      "Epoch 7/15\n",
      "1600/1600 [==============================] - 1s 347us/sample - loss: 35.5730 - sparse_categorical_accuracy: 0.7638 - val_loss: 35.4499 - val_sparse_categorical_accuracy: 0.7850\n",
      "Epoch 8/15\n",
      "1600/1600 [==============================] - 1s 396us/sample - loss: 35.3362 - sparse_categorical_accuracy: 0.7731 - val_loss: 35.2133 - val_sparse_categorical_accuracy: 0.8125\n",
      "Epoch 9/15\n",
      "1600/1600 [==============================] - 1s 366us/sample - loss: 35.1014 - sparse_categorical_accuracy: 0.7975 - val_loss: 34.9787 - val_sparse_categorical_accuracy: 0.8200\n",
      "Epoch 10/15\n",
      "1600/1600 [==============================] - 1s 371us/sample - loss: 34.8684 - sparse_categorical_accuracy: 0.8094 - val_loss: 34.7461 - val_sparse_categorical_accuracy: 0.8225\n",
      "Epoch 11/15\n",
      "1600/1600 [==============================] - 1s 365us/sample - loss: 34.6372 - sparse_categorical_accuracy: 0.8081 - val_loss: 34.5150 - val_sparse_categorical_accuracy: 0.8350\n",
      "Epoch 12/15\n",
      "1600/1600 [==============================] - 1s 370us/sample - loss: 34.4077 - sparse_categorical_accuracy: 0.8206 - val_loss: 34.2858 - val_sparse_categorical_accuracy: 0.8400\n",
      "Epoch 13/15\n",
      "1600/1600 [==============================] - 1s 384us/sample - loss: 34.1801 - sparse_categorical_accuracy: 0.8256 - val_loss: 34.0583 - val_sparse_categorical_accuracy: 0.8450\n",
      "Epoch 14/15\n",
      "1600/1600 [==============================] - 1s 343us/sample - loss: 33.9539 - sparse_categorical_accuracy: 0.8306 - val_loss: 33.8326 - val_sparse_categorical_accuracy: 0.8500\n",
      "Epoch 15/15\n",
      "1600/1600 [==============================] - 1s 362us/sample - loss: 33.7296 - sparse_categorical_accuracy: 0.8344 - val_loss: 33.6083 - val_sparse_categorical_accuracy: 0.8550\n"
     ]
    },
    {
     "name": "stderr",
     "output_type": "stream",
     "text": [
      "\n",
      "\n",
      " 30%|███       | 9/30 [02:22<05:30, 15.75s/it]\u001b[A\u001b[A"
     ]
    },
    {
     "name": "stdout",
     "output_type": "stream",
     "text": [
      "0.855 0.0003377513790472011 0.09624234275266208\n",
      "Train on 1600 samples, validate on 400 samples\n",
      "Epoch 1/15\n",
      "1600/1600 [==============================] - 3s 2ms/sample - loss: 12.6220 - sparse_categorical_accuracy: 0.5144 - val_loss: 12.6015 - val_sparse_categorical_accuracy: 0.6025\n",
      "Epoch 2/15\n",
      "1600/1600 [==============================] - 1s 362us/sample - loss: 12.5795 - sparse_categorical_accuracy: 0.5913 - val_loss: 12.5615 - val_sparse_categorical_accuracy: 0.6225\n",
      "Epoch 3/15\n",
      "1600/1600 [==============================] - 1s 382us/sample - loss: 12.5402 - sparse_categorical_accuracy: 0.6162 - val_loss: 12.5232 - val_sparse_categorical_accuracy: 0.6775\n",
      "Epoch 4/15\n",
      "1600/1600 [==============================] - 1s 359us/sample - loss: 12.5026 - sparse_categorical_accuracy: 0.7056 - val_loss: 12.4856 - val_sparse_categorical_accuracy: 0.7700\n",
      "Epoch 5/15\n",
      "1600/1600 [==============================] - 1s 354us/sample - loss: 12.4660 - sparse_categorical_accuracy: 0.7981 - val_loss: 12.4494 - val_sparse_categorical_accuracy: 0.8125\n",
      "Epoch 6/15\n",
      "1600/1600 [==============================] - 1s 353us/sample - loss: 12.4304 - sparse_categorical_accuracy: 0.8031 - val_loss: 12.4136 - val_sparse_categorical_accuracy: 0.8300\n",
      "Epoch 7/15\n",
      "1600/1600 [==============================] - 1s 400us/sample - loss: 12.3953 - sparse_categorical_accuracy: 0.8331 - val_loss: 12.3779 - val_sparse_categorical_accuracy: 0.8450\n",
      "Epoch 8/15\n",
      "1600/1600 [==============================] - 1s 402us/sample - loss: 12.3594 - sparse_categorical_accuracy: 0.8431 - val_loss: 12.3415 - val_sparse_categorical_accuracy: 0.8550\n",
      "Epoch 9/15\n",
      "1600/1600 [==============================] - 1s 375us/sample - loss: 12.3232 - sparse_categorical_accuracy: 0.8544 - val_loss: 12.3051 - val_sparse_categorical_accuracy: 0.8625\n",
      "Epoch 10/15\n",
      "1600/1600 [==============================] - 1s 342us/sample - loss: 12.2877 - sparse_categorical_accuracy: 0.8619 - val_loss: 12.2697 - val_sparse_categorical_accuracy: 0.8725\n",
      "Epoch 11/15\n",
      "1600/1600 [==============================] - 1s 362us/sample - loss: 12.2528 - sparse_categorical_accuracy: 0.8569 - val_loss: 12.2346 - val_sparse_categorical_accuracy: 0.8675\n",
      "Epoch 12/15\n",
      "1600/1600 [==============================] - 1s 351us/sample - loss: 12.2187 - sparse_categorical_accuracy: 0.8644 - val_loss: 12.2003 - val_sparse_categorical_accuracy: 0.8700\n",
      "Epoch 13/15\n",
      "1600/1600 [==============================] - 1s 369us/sample - loss: 12.1850 - sparse_categorical_accuracy: 0.8644 - val_loss: 12.1662 - val_sparse_categorical_accuracy: 0.8775\n",
      "Epoch 14/15\n",
      "1600/1600 [==============================] - 1s 340us/sample - loss: 12.1515 - sparse_categorical_accuracy: 0.8644 - val_loss: 12.1325 - val_sparse_categorical_accuracy: 0.8775\n",
      "Epoch 15/15\n",
      "1600/1600 [==============================] - 1s 376us/sample - loss: 12.1183 - sparse_categorical_accuracy: 0.8650 - val_loss: 12.0989 - val_sparse_categorical_accuracy: 0.8850\n"
     ]
    },
    {
     "name": "stderr",
     "output_type": "stream",
     "text": [
      "\n",
      "\n",
      " 33%|███▎      | 10/30 [02:37<05:12, 15.64s/it]\u001b[A\u001b[A"
     ]
    },
    {
     "name": "stdout",
     "output_type": "stream",
     "text": [
      "0.885 0.00029421584737049264 0.031438113329948926\n",
      "Train on 1600 samples, validate on 400 samples\n",
      "Epoch 1/15\n",
      "1600/1600 [==============================] - 3s 2ms/sample - loss: 7.0201 - sparse_categorical_accuracy: 0.5375 - val_loss: 7.0019 - val_sparse_categorical_accuracy: 0.5100\n",
      "Epoch 2/15\n",
      "1600/1600 [==============================] - 1s 396us/sample - loss: 6.9890 - sparse_categorical_accuracy: 0.5031 - val_loss: 6.9740 - val_sparse_categorical_accuracy: 0.5075\n",
      "Epoch 3/15\n",
      "1600/1600 [==============================] - 1s 352us/sample - loss: 6.9640 - sparse_categorical_accuracy: 0.5094 - val_loss: 6.9511 - val_sparse_categorical_accuracy: 0.5575\n",
      "Epoch 4/15\n",
      "1600/1600 [==============================] - 1s 353us/sample - loss: 6.9428 - sparse_categorical_accuracy: 0.6244 - val_loss: 6.9307 - val_sparse_categorical_accuracy: 0.6125\n",
      "Epoch 5/15\n",
      "1600/1600 [==============================] - 1s 351us/sample - loss: 6.9232 - sparse_categorical_accuracy: 0.6531 - val_loss: 6.9112 - val_sparse_categorical_accuracy: 0.6450\n",
      "Epoch 6/15\n",
      "1600/1600 [==============================] - 1s 354us/sample - loss: 6.9044 - sparse_categorical_accuracy: 0.7006 - val_loss: 6.8921 - val_sparse_categorical_accuracy: 0.6900\n",
      "Epoch 7/15\n",
      "1600/1600 [==============================] - 1s 352us/sample - loss: 6.8861 - sparse_categorical_accuracy: 0.7425 - val_loss: 6.8734 - val_sparse_categorical_accuracy: 0.7750\n",
      "Epoch 8/15\n",
      "1600/1600 [==============================] - 1s 351us/sample - loss: 6.8681 - sparse_categorical_accuracy: 0.7625 - val_loss: 6.8551 - val_sparse_categorical_accuracy: 0.8225\n",
      "Epoch 9/15\n",
      "1600/1600 [==============================] - 1s 351us/sample - loss: 6.8506 - sparse_categorical_accuracy: 0.8050 - val_loss: 6.8371 - val_sparse_categorical_accuracy: 0.8325\n",
      "Epoch 10/15\n",
      "1600/1600 [==============================] - 1s 352us/sample - loss: 6.8331 - sparse_categorical_accuracy: 0.8106 - val_loss: 6.8188 - val_sparse_categorical_accuracy: 0.8375\n",
      "Epoch 11/15\n",
      "1600/1600 [==============================] - 1s 353us/sample - loss: 6.8152 - sparse_categorical_accuracy: 0.8256 - val_loss: 6.8001 - val_sparse_categorical_accuracy: 0.8475\n",
      "Epoch 12/15\n",
      "1600/1600 [==============================] - 1s 371us/sample - loss: 6.7974 - sparse_categorical_accuracy: 0.8313 - val_loss: 6.7818 - val_sparse_categorical_accuracy: 0.8575\n",
      "Epoch 13/15\n",
      "1600/1600 [==============================] - 1s 370us/sample - loss: 6.7798 - sparse_categorical_accuracy: 0.8400 - val_loss: 6.7641 - val_sparse_categorical_accuracy: 0.8650\n",
      "Epoch 14/15\n",
      "1600/1600 [==============================] - 1s 390us/sample - loss: 6.7627 - sparse_categorical_accuracy: 0.8506 - val_loss: 6.7468 - val_sparse_categorical_accuracy: 0.8650\n",
      "Epoch 15/15\n",
      "1600/1600 [==============================] - 1s 351us/sample - loss: 6.7461 - sparse_categorical_accuracy: 0.8506 - val_loss: 6.7299 - val_sparse_categorical_accuracy: 0.8675\n"
     ]
    },
    {
     "name": "stderr",
     "output_type": "stream",
     "text": [
      "\n",
      "\n",
      " 37%|███▋      | 11/30 [02:53<04:55, 15.54s/it]\u001b[A\u001b[A"
     ]
    },
    {
     "name": "stdout",
     "output_type": "stream",
     "text": [
      "0.8675 0.0002921675456114734 0.016687106161466125\n",
      "Train on 1600 samples, validate on 400 samples\n",
      "Epoch 1/15\n",
      "1600/1600 [==============================] - 3s 2ms/sample - loss: 1.0283 - sparse_categorical_accuracy: 0.4512 - val_loss: 1.0225 - val_sparse_categorical_accuracy: 0.5275\n",
      "Epoch 2/15\n",
      "1600/1600 [==============================] - 1s 406us/sample - loss: 1.0169 - sparse_categorical_accuracy: 0.5425 - val_loss: 1.0123 - val_sparse_categorical_accuracy: 0.6275\n",
      "Epoch 3/15\n",
      "1600/1600 [==============================] - 1s 404us/sample - loss: 1.0071 - sparse_categorical_accuracy: 0.6762 - val_loss: 1.0032 - val_sparse_categorical_accuracy: 0.7200\n",
      "Epoch 4/15\n",
      "1600/1600 [==============================] - 1s 386us/sample - loss: 0.9981 - sparse_categorical_accuracy: 0.7431 - val_loss: 0.9948 - val_sparse_categorical_accuracy: 0.7525\n",
      "Epoch 5/15\n",
      "1600/1600 [==============================] - 1s 394us/sample - loss: 0.9896 - sparse_categorical_accuracy: 0.7700 - val_loss: 0.9866 - val_sparse_categorical_accuracy: 0.7875\n",
      "Epoch 6/15\n",
      "1600/1600 [==============================] - 1s 368us/sample - loss: 0.9813 - sparse_categorical_accuracy: 0.7969 - val_loss: 0.9786 - val_sparse_categorical_accuracy: 0.8000\n",
      "Epoch 7/15\n",
      "1600/1600 [==============================] - 1s 348us/sample - loss: 0.9731 - sparse_categorical_accuracy: 0.8019 - val_loss: 0.9705 - val_sparse_categorical_accuracy: 0.8100\n",
      "Epoch 8/15\n",
      "1600/1600 [==============================] - 1s 346us/sample - loss: 0.9649 - sparse_categorical_accuracy: 0.8075 - val_loss: 0.9624 - val_sparse_categorical_accuracy: 0.8225\n",
      "Epoch 9/15\n",
      "1600/1600 [==============================] - 1s 374us/sample - loss: 0.9568 - sparse_categorical_accuracy: 0.8188 - val_loss: 0.9542 - val_sparse_categorical_accuracy: 0.8325\n",
      "Epoch 10/15\n",
      "1600/1600 [==============================] - 1s 358us/sample - loss: 0.9486 - sparse_categorical_accuracy: 0.8144 - val_loss: 0.9460 - val_sparse_categorical_accuracy: 0.8400\n",
      "Epoch 11/15\n",
      "1600/1600 [==============================] - 1s 359us/sample - loss: 0.9406 - sparse_categorical_accuracy: 0.8169 - val_loss: 0.9382 - val_sparse_categorical_accuracy: 0.8450\n",
      "Epoch 12/15\n",
      "1600/1600 [==============================] - 1s 360us/sample - loss: 0.9328 - sparse_categorical_accuracy: 0.8319 - val_loss: 0.9305 - val_sparse_categorical_accuracy: 0.8450\n",
      "Epoch 13/15\n",
      "1600/1600 [==============================] - 1s 355us/sample - loss: 0.9251 - sparse_categorical_accuracy: 0.8231 - val_loss: 0.9226 - val_sparse_categorical_accuracy: 0.8475\n",
      "Epoch 14/15\n",
      "1600/1600 [==============================] - 1s 348us/sample - loss: 0.9175 - sparse_categorical_accuracy: 0.8369 - val_loss: 0.9147 - val_sparse_categorical_accuracy: 0.8500\n",
      "Epoch 15/15\n",
      "1600/1600 [==============================] - 1s 372us/sample - loss: 0.9098 - sparse_categorical_accuracy: 0.8394 - val_loss: 0.9067 - val_sparse_categorical_accuracy: 0.8475\n"
     ]
    },
    {
     "name": "stderr",
     "output_type": "stream",
     "text": [
      "\n",
      "\n",
      " 40%|████      | 12/30 [03:08<04:38, 15.49s/it]\u001b[A\u001b[A"
     ]
    },
    {
     "name": "stdout",
     "output_type": "stream",
     "text": [
      "0.8475 0.00023858727751755983 0.0008714443248831385\n",
      "Train on 1600 samples, validate on 400 samples\n",
      "Epoch 1/15\n",
      "1600/1600 [==============================] - 3s 2ms/sample - loss: 4.6136 - sparse_categorical_accuracy: 0.5700 - val_loss: 4.5897 - val_sparse_categorical_accuracy: 0.6275\n",
      "Epoch 2/15\n",
      "1600/1600 [==============================] - 1s 415us/sample - loss: 4.5742 - sparse_categorical_accuracy: 0.6850 - val_loss: 4.5634 - val_sparse_categorical_accuracy: 0.7150\n",
      "Epoch 3/15\n",
      "1600/1600 [==============================] - 1s 402us/sample - loss: 4.5507 - sparse_categorical_accuracy: 0.7119 - val_loss: 4.5429 - val_sparse_categorical_accuracy: 0.7100\n",
      "Epoch 4/15\n",
      "1600/1600 [==============================] - 1s 402us/sample - loss: 4.5313 - sparse_categorical_accuracy: 0.7212 - val_loss: 4.5241 - val_sparse_categorical_accuracy: 0.7175\n",
      "Epoch 5/15\n",
      "1600/1600 [==============================] - 1s 397us/sample - loss: 4.5135 - sparse_categorical_accuracy: 0.7269 - val_loss: 4.5073 - val_sparse_categorical_accuracy: 0.7250\n",
      "Epoch 6/15\n",
      "1600/1600 [==============================] - 1s 396us/sample - loss: 4.4979 - sparse_categorical_accuracy: 0.7531 - val_loss: 4.4920 - val_sparse_categorical_accuracy: 0.7750\n",
      "Epoch 7/15\n",
      "1600/1600 [==============================] - 1s 376us/sample - loss: 4.4835 - sparse_categorical_accuracy: 0.7856 - val_loss: 4.4775 - val_sparse_categorical_accuracy: 0.8000\n",
      "Epoch 8/15\n",
      "1600/1600 [==============================] - 1s 365us/sample - loss: 4.4695 - sparse_categorical_accuracy: 0.8069 - val_loss: 4.4632 - val_sparse_categorical_accuracy: 0.8300\n",
      "Epoch 9/15\n",
      "1600/1600 [==============================] - 1s 356us/sample - loss: 4.4561 - sparse_categorical_accuracy: 0.8119 - val_loss: 4.4491 - val_sparse_categorical_accuracy: 0.8450\n",
      "Epoch 10/15\n",
      "1600/1600 [==============================] - 1s 353us/sample - loss: 4.4426 - sparse_categorical_accuracy: 0.8294 - val_loss: 4.4351 - val_sparse_categorical_accuracy: 0.8500\n",
      "Epoch 11/15\n",
      "1600/1600 [==============================] - 1s 367us/sample - loss: 4.4294 - sparse_categorical_accuracy: 0.8388 - val_loss: 4.4217 - val_sparse_categorical_accuracy: 0.8525\n",
      "Epoch 12/15\n",
      "1600/1600 [==============================] - 1s 376us/sample - loss: 4.4163 - sparse_categorical_accuracy: 0.8469 - val_loss: 4.4083 - val_sparse_categorical_accuracy: 0.8575\n",
      "Epoch 13/15\n",
      "1600/1600 [==============================] - 1s 371us/sample - loss: 4.4034 - sparse_categorical_accuracy: 0.8500 - val_loss: 4.3951 - val_sparse_categorical_accuracy: 0.8625\n",
      "Epoch 14/15\n",
      "1600/1600 [==============================] - 1s 356us/sample - loss: 4.3907 - sparse_categorical_accuracy: 0.8569 - val_loss: 4.3816 - val_sparse_categorical_accuracy: 0.8625\n",
      "Epoch 15/15\n",
      "1600/1600 [==============================] - 1s 371us/sample - loss: 4.3781 - sparse_categorical_accuracy: 0.8644 - val_loss: 4.3687 - val_sparse_categorical_accuracy: 0.8675\n"
     ]
    },
    {
     "name": "stderr",
     "output_type": "stream",
     "text": [
      "\n",
      "\n",
      " 43%|████▎     | 13/30 [03:24<04:24, 15.58s/it]\u001b[A\u001b[A"
     ]
    },
    {
     "name": "stdout",
     "output_type": "stream",
     "text": [
      "0.8675 0.000257631340666264 0.01038034660584883\n",
      "Train on 1600 samples, validate on 400 samples\n",
      "Epoch 1/15\n",
      "1600/1600 [==============================] - 3s 2ms/sample - loss: 0.7422 - sparse_categorical_accuracy: 0.4981 - val_loss: 0.7284 - val_sparse_categorical_accuracy: 0.5075\n",
      "Epoch 2/15\n",
      "1600/1600 [==============================] - 1s 380us/sample - loss: 0.7211 - sparse_categorical_accuracy: 0.4994 - val_loss: 0.7109 - val_sparse_categorical_accuracy: 0.5100\n",
      "Epoch 3/15\n",
      "1600/1600 [==============================] - 1s 366us/sample - loss: 0.7049 - sparse_categorical_accuracy: 0.5050 - val_loss: 0.6971 - val_sparse_categorical_accuracy: 0.5100\n",
      "Epoch 4/15\n",
      "1600/1600 [==============================] - 1s 388us/sample - loss: 0.6918 - sparse_categorical_accuracy: 0.5337 - val_loss: 0.6858 - val_sparse_categorical_accuracy: 0.5450\n",
      "Epoch 5/15\n",
      "1600/1600 [==============================] - 1s 362us/sample - loss: 0.6811 - sparse_categorical_accuracy: 0.6219 - val_loss: 0.6761 - val_sparse_categorical_accuracy: 0.6475\n",
      "Epoch 6/15\n",
      "1600/1600 [==============================] - 1s 377us/sample - loss: 0.6719 - sparse_categorical_accuracy: 0.6837 - val_loss: 0.6676 - val_sparse_categorical_accuracy: 0.7175\n",
      "Epoch 7/15\n",
      "1600/1600 [==============================] - 1s 354us/sample - loss: 0.6637 - sparse_categorical_accuracy: 0.7356 - val_loss: 0.6597 - val_sparse_categorical_accuracy: 0.7500\n",
      "Epoch 8/15\n",
      "1600/1600 [==============================] - 1s 355us/sample - loss: 0.6563 - sparse_categorical_accuracy: 0.7544 - val_loss: 0.6525 - val_sparse_categorical_accuracy: 0.7775\n",
      "Epoch 9/15\n",
      "1600/1600 [==============================] - 1s 366us/sample - loss: 0.6494 - sparse_categorical_accuracy: 0.7644 - val_loss: 0.6456 - val_sparse_categorical_accuracy: 0.7750\n",
      "Epoch 10/15\n",
      "1600/1600 [==============================] - 1s 372us/sample - loss: 0.6429 - sparse_categorical_accuracy: 0.7675 - val_loss: 0.6390 - val_sparse_categorical_accuracy: 0.7750\n",
      "Epoch 11/15\n",
      "1600/1600 [==============================] - 1s 365us/sample - loss: 0.6368 - sparse_categorical_accuracy: 0.7725 - val_loss: 0.6327 - val_sparse_categorical_accuracy: 0.7800\n",
      "Epoch 12/15\n",
      "1600/1600 [==============================] - 1s 354us/sample - loss: 0.6308 - sparse_categorical_accuracy: 0.7713 - val_loss: 0.6266 - val_sparse_categorical_accuracy: 0.7825\n",
      "Epoch 13/15\n",
      "1600/1600 [==============================] - 1s 385us/sample - loss: 0.6250 - sparse_categorical_accuracy: 0.7706 - val_loss: 0.6206 - val_sparse_categorical_accuracy: 0.7825\n",
      "Epoch 14/15\n",
      "1600/1600 [==============================] - 1s 407us/sample - loss: 0.6193 - sparse_categorical_accuracy: 0.7744 - val_loss: 0.6147 - val_sparse_categorical_accuracy: 0.7975\n",
      "Epoch 15/15\n",
      "1600/1600 [==============================] - 1s 370us/sample - loss: 0.6139 - sparse_categorical_accuracy: 0.7763 - val_loss: 0.6091 - val_sparse_categorical_accuracy: 0.8075\n"
     ]
    },
    {
     "name": "stderr",
     "output_type": "stream",
     "text": [
      "\n",
      "\n",
      " 47%|████▋     | 14/30 [03:40<04:11, 15.69s/it]\u001b[A\u001b[A"
     ]
    },
    {
     "name": "stdout",
     "output_type": "stream",
     "text": [
      "0.8075 0.00012127346651430608 1.7442687788908625e-06\n",
      "Train on 1600 samples, validate on 400 samples\n",
      "Epoch 1/15\n",
      "1600/1600 [==============================] - 5s 3ms/sample - loss: 5.4211 - sparse_categorical_accuracy: 0.6006 - val_loss: 5.4170 - val_sparse_categorical_accuracy: 0.6500\n",
      "Epoch 2/15\n",
      "1600/1600 [==============================] - 2s 1ms/sample - loss: 5.4057 - sparse_categorical_accuracy: 0.6587 - val_loss: 5.4022 - val_sparse_categorical_accuracy: 0.6575\n",
      "Epoch 3/15\n",
      "1600/1600 [==============================] - 2s 1ms/sample - loss: 5.3930 - sparse_categorical_accuracy: 0.6719 - val_loss: 5.3896 - val_sparse_categorical_accuracy: 0.6825\n",
      "Epoch 4/15\n",
      "1600/1600 [==============================] - 2s 1ms/sample - loss: 5.3816 - sparse_categorical_accuracy: 0.6794 - val_loss: 5.3779 - val_sparse_categorical_accuracy: 0.6875\n",
      "Epoch 5/15\n",
      "1600/1600 [==============================] - 2s 1ms/sample - loss: 5.3706 - sparse_categorical_accuracy: 0.6950 - val_loss: 5.3663 - val_sparse_categorical_accuracy: 0.7075\n",
      "Epoch 6/15\n",
      "1600/1600 [==============================] - 2s 1ms/sample - loss: 5.3599 - sparse_categorical_accuracy: 0.7219 - val_loss: 5.3551 - val_sparse_categorical_accuracy: 0.7375\n",
      "Epoch 7/15\n",
      "1600/1600 [==============================] - 2s 1ms/sample - loss: 5.3496 - sparse_categorical_accuracy: 0.7588 - val_loss: 5.3444 - val_sparse_categorical_accuracy: 0.8000\n",
      "Epoch 8/15\n",
      "1600/1600 [==============================] - 2s 1ms/sample - loss: 5.3395 - sparse_categorical_accuracy: 0.7719 - val_loss: 5.3337 - val_sparse_categorical_accuracy: 0.8200\n",
      "Epoch 9/15\n",
      "1600/1600 [==============================] - 2s 1ms/sample - loss: 5.3296 - sparse_categorical_accuracy: 0.7887 - val_loss: 5.3231 - val_sparse_categorical_accuracy: 0.8275\n",
      "Epoch 10/15\n",
      "1600/1600 [==============================] - 2s 1ms/sample - loss: 5.3197 - sparse_categorical_accuracy: 0.7975 - val_loss: 5.3127 - val_sparse_categorical_accuracy: 0.8325\n",
      "Epoch 11/15\n",
      "1600/1600 [==============================] - 2s 1ms/sample - loss: 5.3097 - sparse_categorical_accuracy: 0.8069 - val_loss: 5.3023 - val_sparse_categorical_accuracy: 0.8400\n",
      "Epoch 12/15\n",
      "1600/1600 [==============================] - 2s 1ms/sample - loss: 5.2997 - sparse_categorical_accuracy: 0.8112 - val_loss: 5.2918 - val_sparse_categorical_accuracy: 0.8350\n",
      "Epoch 13/15\n",
      "1600/1600 [==============================] - 2s 1ms/sample - loss: 5.2898 - sparse_categorical_accuracy: 0.8219 - val_loss: 5.2817 - val_sparse_categorical_accuracy: 0.8500\n",
      "Epoch 14/15\n",
      "1600/1600 [==============================] - 2s 1ms/sample - loss: 5.2801 - sparse_categorical_accuracy: 0.8219 - val_loss: 5.2714 - val_sparse_categorical_accuracy: 0.8475\n",
      "Epoch 15/15\n",
      "1600/1600 [==============================] - 2s 1ms/sample - loss: 5.2703 - sparse_categorical_accuracy: 0.8263 - val_loss: 5.2613 - val_sparse_categorical_accuracy: 0.8475\n"
     ]
    },
    {
     "name": "stderr",
     "output_type": "stream",
     "text": [
      "\n",
      "\n",
      " 50%|█████     | 15/30 [04:15<05:21, 21.45s/it]\u001b[A\u001b[A"
     ]
    },
    {
     "name": "stdout",
     "output_type": "stream",
     "text": [
      "0.8475 0.00019872135245365584 0.012528812716717746\n",
      "Train on 1600 samples, validate on 400 samples\n",
      "Epoch 1/15\n",
      "1600/1600 [==============================] - 4s 3ms/sample - loss: 1.0849 - sparse_categorical_accuracy: 0.5512 - val_loss: 1.0541 - val_sparse_categorical_accuracy: 0.6925\n",
      "Epoch 2/15\n",
      "1600/1600 [==============================] - 1s 696us/sample - loss: 1.0402 - sparse_categorical_accuracy: 0.7619 - val_loss: 1.0135 - val_sparse_categorical_accuracy: 0.8300\n",
      "Epoch 3/15\n",
      "1600/1600 [==============================] - 1s 448us/sample - loss: 1.0037 - sparse_categorical_accuracy: 0.8163 - val_loss: 0.9764 - val_sparse_categorical_accuracy: 0.8600\n",
      "Epoch 4/15\n",
      "1600/1600 [==============================] - 1s 449us/sample - loss: 0.9696 - sparse_categorical_accuracy: 0.8400 - val_loss: 0.9421 - val_sparse_categorical_accuracy: 0.8500\n",
      "Epoch 5/15\n",
      "1600/1600 [==============================] - 1s 375us/sample - loss: 0.9379 - sparse_categorical_accuracy: 0.8494 - val_loss: 0.9097 - val_sparse_categorical_accuracy: 0.8750\n",
      "Epoch 6/15\n",
      "1600/1600 [==============================] - 1s 381us/sample - loss: 0.9084 - sparse_categorical_accuracy: 0.8537 - val_loss: 0.8796 - val_sparse_categorical_accuracy: 0.8825\n",
      "Epoch 7/15\n",
      "1600/1600 [==============================] - 1s 387us/sample - loss: 0.8809 - sparse_categorical_accuracy: 0.8575 - val_loss: 0.8525 - val_sparse_categorical_accuracy: 0.8850\n",
      "Epoch 8/15\n",
      "1600/1600 [==============================] - 1s 405us/sample - loss: 0.8565 - sparse_categorical_accuracy: 0.8612 - val_loss: 0.8283 - val_sparse_categorical_accuracy: 0.8950\n",
      "Epoch 9/15\n",
      "1600/1600 [==============================] - 1s 391us/sample - loss: 0.8346 - sparse_categorical_accuracy: 0.8650 - val_loss: 0.8074 - val_sparse_categorical_accuracy: 0.8975\n",
      "Epoch 10/15\n",
      "1600/1600 [==============================] - 1s 374us/sample - loss: 0.8153 - sparse_categorical_accuracy: 0.8675 - val_loss: 0.7896 - val_sparse_categorical_accuracy: 0.9000\n",
      "Epoch 11/15\n",
      "1600/1600 [==============================] - 1s 372us/sample - loss: 0.7988 - sparse_categorical_accuracy: 0.8675 - val_loss: 0.7734 - val_sparse_categorical_accuracy: 0.8975\n",
      "Epoch 12/15\n",
      "1600/1600 [==============================] - 1s 375us/sample - loss: 0.7838 - sparse_categorical_accuracy: 0.8756 - val_loss: 0.7589 - val_sparse_categorical_accuracy: 0.9025\n",
      "Epoch 13/15\n",
      "1600/1600 [==============================] - 1s 386us/sample - loss: 0.7700 - sparse_categorical_accuracy: 0.8756 - val_loss: 0.7469 - val_sparse_categorical_accuracy: 0.9000\n",
      "Epoch 14/15\n",
      "1600/1600 [==============================] - 1s 395us/sample - loss: 0.7578 - sparse_categorical_accuracy: 0.8769 - val_loss: 0.7348 - val_sparse_categorical_accuracy: 0.9050\n",
      "Epoch 15/15\n",
      "1600/1600 [==============================] - 1s 445us/sample - loss: 0.7464 - sparse_categorical_accuracy: 0.8800 - val_loss: 0.7244 - val_sparse_categorical_accuracy: 0.9050\n"
     ]
    },
    {
     "name": "stderr",
     "output_type": "stream",
     "text": [
      "\n",
      "\n",
      " 53%|█████▎    | 16/30 [04:32<04:45, 20.36s/it]\u001b[A\u001b[A"
     ]
    },
    {
     "name": "stdout",
     "output_type": "stream",
     "text": [
      "0.905 0.0007247629366095932 0.001138269375652721\n",
      "Train on 1600 samples, validate on 400 samples\n",
      "Epoch 1/15\n",
      "1600/1600 [==============================] - 3s 2ms/sample - loss: 0.7035 - sparse_categorical_accuracy: 0.5013 - val_loss: 0.6926 - val_sparse_categorical_accuracy: 0.4900\n",
      "Epoch 2/15\n",
      "1600/1600 [==============================] - 1s 408us/sample - loss: 0.6847 - sparse_categorical_accuracy: 0.5019 - val_loss: 0.6762 - val_sparse_categorical_accuracy: 0.4900\n",
      "Epoch 3/15\n",
      "1600/1600 [==============================] - 1s 388us/sample - loss: 0.6696 - sparse_categorical_accuracy: 0.5025 - val_loss: 0.6618 - val_sparse_categorical_accuracy: 0.5000\n",
      "Epoch 4/15\n",
      "1600/1600 [==============================] - 1s 401us/sample - loss: 0.6560 - sparse_categorical_accuracy: 0.5244 - val_loss: 0.6485 - val_sparse_categorical_accuracy: 0.5875\n",
      "Epoch 5/15\n",
      "1600/1600 [==============================] - 1s 421us/sample - loss: 0.6430 - sparse_categorical_accuracy: 0.6450 - val_loss: 0.6354 - val_sparse_categorical_accuracy: 0.7150\n",
      "Epoch 6/15\n",
      "1600/1600 [==============================] - 1s 387us/sample - loss: 0.6302 - sparse_categorical_accuracy: 0.7225 - val_loss: 0.6228 - val_sparse_categorical_accuracy: 0.7700\n",
      "Epoch 7/15\n",
      "1600/1600 [==============================] - 1s 368us/sample - loss: 0.6182 - sparse_categorical_accuracy: 0.7669 - val_loss: 0.6108 - val_sparse_categorical_accuracy: 0.7825\n",
      "Epoch 8/15\n",
      "1600/1600 [==============================] - 1s 386us/sample - loss: 0.6067 - sparse_categorical_accuracy: 0.7731 - val_loss: 0.5992 - val_sparse_categorical_accuracy: 0.8100\n",
      "Epoch 9/15\n",
      "1600/1600 [==============================] - 1s 367us/sample - loss: 0.5961 - sparse_categorical_accuracy: 0.8044 - val_loss: 0.5884 - val_sparse_categorical_accuracy: 0.8100\n",
      "Epoch 10/15\n",
      "1600/1600 [==============================] - 1s 393us/sample - loss: 0.5858 - sparse_categorical_accuracy: 0.8131 - val_loss: 0.5776 - val_sparse_categorical_accuracy: 0.8200\n",
      "Epoch 11/15\n",
      "1600/1600 [==============================] - 1s 396us/sample - loss: 0.5756 - sparse_categorical_accuracy: 0.8200 - val_loss: 0.5670 - val_sparse_categorical_accuracy: 0.8250\n",
      "Epoch 12/15\n",
      "1600/1600 [==============================] - 1s 433us/sample - loss: 0.5656 - sparse_categorical_accuracy: 0.8206 - val_loss: 0.5567 - val_sparse_categorical_accuracy: 0.8400\n",
      "Epoch 13/15\n",
      "1600/1600 [==============================] - 1s 434us/sample - loss: 0.5559 - sparse_categorical_accuracy: 0.8281 - val_loss: 0.5467 - val_sparse_categorical_accuracy: 0.8425\n",
      "Epoch 14/15\n",
      "1600/1600 [==============================] - 1s 421us/sample - loss: 0.5464 - sparse_categorical_accuracy: 0.8313 - val_loss: 0.5370 - val_sparse_categorical_accuracy: 0.8425\n",
      "Epoch 15/15\n",
      "1600/1600 [==============================] - 1s 427us/sample - loss: 0.5372 - sparse_categorical_accuracy: 0.8319 - val_loss: 0.5276 - val_sparse_categorical_accuracy: 0.8475\n"
     ]
    },
    {
     "name": "stderr",
     "output_type": "stream",
     "text": [
      "\n",
      "\n",
      " 57%|█████▋    | 17/30 [04:49<04:10, 19.25s/it]\u001b[A\u001b[A"
     ]
    },
    {
     "name": "stdout",
     "output_type": "stream",
     "text": [
      "0.8475 0.0002650713972795273 4.835305937439204e-05\n",
      "Train on 1600 samples, validate on 400 samples\n",
      "Epoch 1/15\n",
      "1600/1600 [==============================] - 3s 2ms/sample - loss: 2.3078 - sparse_categorical_accuracy: 0.5156 - val_loss: 2.2976 - val_sparse_categorical_accuracy: 0.5150\n",
      "Epoch 2/15\n",
      "1600/1600 [==============================] - 1s 437us/sample - loss: 2.2913 - sparse_categorical_accuracy: 0.5119 - val_loss: 2.2822 - val_sparse_categorical_accuracy: 0.5075\n",
      "Epoch 3/15\n",
      "1600/1600 [==============================] - 1s 375us/sample - loss: 2.2763 - sparse_categorical_accuracy: 0.5200 - val_loss: 2.2674 - val_sparse_categorical_accuracy: 0.5650\n",
      "Epoch 4/15\n",
      "1600/1600 [==============================] - 1s 416us/sample - loss: 2.2619 - sparse_categorical_accuracy: 0.6012 - val_loss: 2.2528 - val_sparse_categorical_accuracy: 0.7300\n",
      "Epoch 5/15\n",
      "1600/1600 [==============================] - 1s 401us/sample - loss: 2.2480 - sparse_categorical_accuracy: 0.7206 - val_loss: 2.2384 - val_sparse_categorical_accuracy: 0.7700\n",
      "Epoch 6/15\n",
      "1600/1600 [==============================] - 1s 440us/sample - loss: 2.2348 - sparse_categorical_accuracy: 0.7738 - val_loss: 2.2251 - val_sparse_categorical_accuracy: 0.8050\n",
      "Epoch 7/15\n",
      "1600/1600 [==============================] - 1s 402us/sample - loss: 2.2224 - sparse_categorical_accuracy: 0.7969 - val_loss: 2.2126 - val_sparse_categorical_accuracy: 0.8275\n",
      "Epoch 8/15\n",
      "1600/1600 [==============================] - 1s 401us/sample - loss: 2.2103 - sparse_categorical_accuracy: 0.8194 - val_loss: 2.2003 - val_sparse_categorical_accuracy: 0.8325\n",
      "Epoch 9/15\n",
      "1600/1600 [==============================] - 1s 386us/sample - loss: 2.1984 - sparse_categorical_accuracy: 0.8231 - val_loss: 2.1880 - val_sparse_categorical_accuracy: 0.8375\n",
      "Epoch 10/15\n",
      "1600/1600 [==============================] - 1s 401us/sample - loss: 2.1866 - sparse_categorical_accuracy: 0.8419 - val_loss: 2.1760 - val_sparse_categorical_accuracy: 0.8475\n",
      "Epoch 11/15\n",
      "1600/1600 [==============================] - 1s 395us/sample - loss: 2.1749 - sparse_categorical_accuracy: 0.8456 - val_loss: 2.1637 - val_sparse_categorical_accuracy: 0.8500\n",
      "Epoch 12/15\n",
      "1600/1600 [==============================] - 1s 383us/sample - loss: 2.1633 - sparse_categorical_accuracy: 0.8487 - val_loss: 2.1515 - val_sparse_categorical_accuracy: 0.8525\n",
      "Epoch 13/15\n",
      "1600/1600 [==============================] - 1s 389us/sample - loss: 2.1518 - sparse_categorical_accuracy: 0.8487 - val_loss: 2.1394 - val_sparse_categorical_accuracy: 0.8600\n",
      "Epoch 14/15\n",
      "1600/1600 [==============================] - 1s 390us/sample - loss: 2.1404 - sparse_categorical_accuracy: 0.8550 - val_loss: 2.1277 - val_sparse_categorical_accuracy: 0.8625\n",
      "Epoch 15/15\n",
      "1600/1600 [==============================] - 1s 387us/sample - loss: 2.1294 - sparse_categorical_accuracy: 0.8550 - val_loss: 2.1163 - val_sparse_categorical_accuracy: 0.8650\n"
     ]
    },
    {
     "name": "stderr",
     "output_type": "stream",
     "text": [
      "\n",
      "\n",
      " 60%|██████    | 18/30 [05:06<03:42, 18.58s/it]\u001b[A\u001b[A"
     ]
    },
    {
     "name": "stdout",
     "output_type": "stream",
     "text": [
      "0.865 0.0002644146941297873 0.004302147969373842\n",
      "Train on 1600 samples, validate on 400 samples\n",
      "Epoch 1/15\n",
      "1600/1600 [==============================] - 3s 2ms/sample - loss: 0.6945 - sparse_categorical_accuracy: 0.5063 - val_loss: 0.6855 - val_sparse_categorical_accuracy: 0.5725\n",
      "Epoch 2/15\n",
      "1600/1600 [==============================] - 1s 395us/sample - loss: 0.6858 - sparse_categorical_accuracy: 0.5838 - val_loss: 0.6774 - val_sparse_categorical_accuracy: 0.6275\n",
      "Epoch 3/15\n",
      "1600/1600 [==============================] - 1s 370us/sample - loss: 0.6775 - sparse_categorical_accuracy: 0.6219 - val_loss: 0.6697 - val_sparse_categorical_accuracy: 0.6600\n",
      "Epoch 4/15\n",
      "1600/1600 [==============================] - 1s 408us/sample - loss: 0.6699 - sparse_categorical_accuracy: 0.6569 - val_loss: 0.6625 - val_sparse_categorical_accuracy: 0.6750\n",
      "Epoch 5/15\n",
      "1600/1600 [==============================] - 1s 424us/sample - loss: 0.6628 - sparse_categorical_accuracy: 0.6712 - val_loss: 0.6561 - val_sparse_categorical_accuracy: 0.6900\n",
      "Epoch 6/15\n",
      "1600/1600 [==============================] - 1s 423us/sample - loss: 0.6566 - sparse_categorical_accuracy: 0.6806 - val_loss: 0.6502 - val_sparse_categorical_accuracy: 0.6975\n",
      "Epoch 7/15\n",
      "1600/1600 [==============================] - 1s 406us/sample - loss: 0.6508 - sparse_categorical_accuracy: 0.6900 - val_loss: 0.6447 - val_sparse_categorical_accuracy: 0.7025\n",
      "Epoch 8/15\n",
      "1600/1600 [==============================] - 1s 407us/sample - loss: 0.6454 - sparse_categorical_accuracy: 0.6938 - val_loss: 0.6394 - val_sparse_categorical_accuracy: 0.7000\n",
      "Epoch 9/15\n",
      "1600/1600 [==============================] - 1s 406us/sample - loss: 0.6404 - sparse_categorical_accuracy: 0.7000 - val_loss: 0.6346 - val_sparse_categorical_accuracy: 0.7000\n",
      "Epoch 10/15\n",
      "1600/1600 [==============================] - 1s 420us/sample - loss: 0.6356 - sparse_categorical_accuracy: 0.7025 - val_loss: 0.6300 - val_sparse_categorical_accuracy: 0.7025\n",
      "Epoch 11/15\n",
      "1600/1600 [==============================] - 1s 383us/sample - loss: 0.6311 - sparse_categorical_accuracy: 0.7025 - val_loss: 0.6255 - val_sparse_categorical_accuracy: 0.7050\n",
      "Epoch 12/15\n",
      "1600/1600 [==============================] - 1s 380us/sample - loss: 0.6267 - sparse_categorical_accuracy: 0.7056 - val_loss: 0.6212 - val_sparse_categorical_accuracy: 0.7050\n",
      "Epoch 13/15\n",
      "1600/1600 [==============================] - 1s 372us/sample - loss: 0.6224 - sparse_categorical_accuracy: 0.7069 - val_loss: 0.6169 - val_sparse_categorical_accuracy: 0.7100\n",
      "Epoch 14/15\n",
      "1600/1600 [==============================] - 1s 405us/sample - loss: 0.6182 - sparse_categorical_accuracy: 0.7063 - val_loss: 0.6128 - val_sparse_categorical_accuracy: 0.7100\n",
      "Epoch 15/15\n",
      "1600/1600 [==============================] - 1s 392us/sample - loss: 0.6141 - sparse_categorical_accuracy: 0.7106 - val_loss: 0.6087 - val_sparse_categorical_accuracy: 0.7125\n"
     ]
    },
    {
     "name": "stderr",
     "output_type": "stream",
     "text": [
      "\n",
      "\n",
      " 63%|██████▎   | 19/30 [05:23<03:18, 18.05s/it]\u001b[A\u001b[A"
     ]
    },
    {
     "name": "stdout",
     "output_type": "stream",
     "text": [
      "0.7125 0.00012163010753319514 1.908828780013639e-06\n",
      "Train on 1600 samples, validate on 400 samples\n",
      "Epoch 1/15\n",
      "1600/1600 [==============================] - 3s 2ms/sample - loss: 3.9869 - sparse_categorical_accuracy: 0.4900 - val_loss: 3.9776 - val_sparse_categorical_accuracy: 0.4850\n",
      "Epoch 2/15\n",
      "1600/1600 [==============================] - 1s 449us/sample - loss: 3.9608 - sparse_categorical_accuracy: 0.5775 - val_loss: 3.9564 - val_sparse_categorical_accuracy: 0.5775\n",
      "Epoch 3/15\n",
      "1600/1600 [==============================] - 1s 430us/sample - loss: 3.9407 - sparse_categorical_accuracy: 0.6425 - val_loss: 3.9379 - val_sparse_categorical_accuracy: 0.6375\n",
      "Epoch 4/15\n",
      "1600/1600 [==============================] - 1s 402us/sample - loss: 3.9227 - sparse_categorical_accuracy: 0.6819 - val_loss: 3.9209 - val_sparse_categorical_accuracy: 0.6575\n",
      "Epoch 5/15\n",
      "1600/1600 [==============================] - 1s 391us/sample - loss: 3.9059 - sparse_categorical_accuracy: 0.6913 - val_loss: 3.9049 - val_sparse_categorical_accuracy: 0.6750\n",
      "Epoch 6/15\n",
      "1600/1600 [==============================] - 1s 400us/sample - loss: 3.8905 - sparse_categorical_accuracy: 0.6981 - val_loss: 3.8903 - val_sparse_categorical_accuracy: 0.6850\n",
      "Epoch 7/15\n",
      "1600/1600 [==============================] - 1s 388us/sample - loss: 3.8760 - sparse_categorical_accuracy: 0.7025 - val_loss: 3.8765 - val_sparse_categorical_accuracy: 0.6875\n",
      "Epoch 8/15\n",
      "1600/1600 [==============================] - 1s 403us/sample - loss: 3.8624 - sparse_categorical_accuracy: 0.7063 - val_loss: 3.8635 - val_sparse_categorical_accuracy: 0.6900\n",
      "Epoch 9/15\n",
      "1600/1600 [==============================] - 1s 396us/sample - loss: 3.8496 - sparse_categorical_accuracy: 0.7100 - val_loss: 3.8510 - val_sparse_categorical_accuracy: 0.6925\n",
      "Epoch 10/15\n",
      "1600/1600 [==============================] - 1s 388us/sample - loss: 3.8373 - sparse_categorical_accuracy: 0.7125 - val_loss: 3.8391 - val_sparse_categorical_accuracy: 0.6950\n",
      "Epoch 11/15\n",
      "1600/1600 [==============================] - 1s 401us/sample - loss: 3.8255 - sparse_categorical_accuracy: 0.7144 - val_loss: 3.8276 - val_sparse_categorical_accuracy: 0.6925\n",
      "Epoch 12/15\n",
      "1600/1600 [==============================] - 1s 394us/sample - loss: 3.8142 - sparse_categorical_accuracy: 0.7144 - val_loss: 3.8165 - val_sparse_categorical_accuracy: 0.6925\n",
      "Epoch 13/15\n",
      "1600/1600 [==============================] - 1s 395us/sample - loss: 3.8031 - sparse_categorical_accuracy: 0.7131 - val_loss: 3.8056 - val_sparse_categorical_accuracy: 0.6925\n",
      "Epoch 14/15\n",
      "1600/1600 [==============================] - 1s 392us/sample - loss: 3.7925 - sparse_categorical_accuracy: 0.7163 - val_loss: 3.7952 - val_sparse_categorical_accuracy: 0.6975\n",
      "Epoch 15/15\n",
      "1600/1600 [==============================] - 1s 390us/sample - loss: 3.7822 - sparse_categorical_accuracy: 0.7163 - val_loss: 3.7850 - val_sparse_categorical_accuracy: 0.6975\n"
     ]
    },
    {
     "name": "stderr",
     "output_type": "stream",
     "text": [
      "\n",
      "\n",
      " 67%|██████▋   | 20/30 [05:40<02:57, 17.79s/it]\u001b[A\u001b[A"
     ]
    },
    {
     "name": "stdout",
     "output_type": "stream",
     "text": [
      "0.6975 0.00023981865933275917 0.008619433381473331\n",
      "Train on 1600 samples, validate on 400 samples\n",
      "Epoch 1/15\n",
      "1600/1600 [==============================] - 3s 2ms/sample - loss: 0.6837 - sparse_categorical_accuracy: 0.5013 - val_loss: 0.6649 - val_sparse_categorical_accuracy: 0.4925\n",
      "Epoch 2/15\n",
      "1600/1600 [==============================] - 1s 427us/sample - loss: 0.6557 - sparse_categorical_accuracy: 0.5200 - val_loss: 0.6408 - val_sparse_categorical_accuracy: 0.5575\n",
      "Epoch 3/15\n",
      "1600/1600 [==============================] - 1s 399us/sample - loss: 0.6342 - sparse_categorical_accuracy: 0.6494 - val_loss: 0.6193 - val_sparse_categorical_accuracy: 0.6850\n",
      "Epoch 4/15\n",
      "1600/1600 [==============================] - 1s 393us/sample - loss: 0.6139 - sparse_categorical_accuracy: 0.7462 - val_loss: 0.5984 - val_sparse_categorical_accuracy: 0.7850\n",
      "Epoch 5/15\n",
      "1600/1600 [==============================] - 1s 390us/sample - loss: 0.5950 - sparse_categorical_accuracy: 0.7894 - val_loss: 0.5795 - val_sparse_categorical_accuracy: 0.8275\n",
      "Epoch 6/15\n",
      "1600/1600 [==============================] - 1s 389us/sample - loss: 0.5774 - sparse_categorical_accuracy: 0.8044 - val_loss: 0.5618 - val_sparse_categorical_accuracy: 0.8275\n",
      "Epoch 7/15\n",
      "1600/1600 [==============================] - 1s 386us/sample - loss: 0.5607 - sparse_categorical_accuracy: 0.8144 - val_loss: 0.5444 - val_sparse_categorical_accuracy: 0.8450\n",
      "Epoch 8/15\n",
      "1600/1600 [==============================] - 1s 388us/sample - loss: 0.5445 - sparse_categorical_accuracy: 0.8256 - val_loss: 0.5274 - val_sparse_categorical_accuracy: 0.8500\n",
      "Epoch 9/15\n",
      "1600/1600 [==============================] - 1s 386us/sample - loss: 0.5282 - sparse_categorical_accuracy: 0.8338 - val_loss: 0.5110 - val_sparse_categorical_accuracy: 0.8550\n",
      "Epoch 10/15\n",
      "1600/1600 [==============================] - 1s 385us/sample - loss: 0.5123 - sparse_categorical_accuracy: 0.8406 - val_loss: 0.4944 - val_sparse_categorical_accuracy: 0.8575\n",
      "Epoch 11/15\n",
      "1600/1600 [==============================] - 1s 386us/sample - loss: 0.4965 - sparse_categorical_accuracy: 0.8456 - val_loss: 0.4784 - val_sparse_categorical_accuracy: 0.8550\n",
      "Epoch 12/15\n",
      "1600/1600 [==============================] - 1s 387us/sample - loss: 0.4812 - sparse_categorical_accuracy: 0.8544 - val_loss: 0.4630 - val_sparse_categorical_accuracy: 0.8625\n",
      "Epoch 13/15\n",
      "1600/1600 [==============================] - 1s 386us/sample - loss: 0.4667 - sparse_categorical_accuracy: 0.8619 - val_loss: 0.4482 - val_sparse_categorical_accuracy: 0.8650\n",
      "Epoch 14/15\n",
      "1600/1600 [==============================] - 1s 383us/sample - loss: 0.4525 - sparse_categorical_accuracy: 0.8656 - val_loss: 0.4337 - val_sparse_categorical_accuracy: 0.8650\n",
      "Epoch 15/15\n",
      "1600/1600 [==============================] - 1s 387us/sample - loss: 0.4387 - sparse_categorical_accuracy: 0.8675 - val_loss: 0.4201 - val_sparse_categorical_accuracy: 0.8675\n"
     ]
    },
    {
     "name": "stderr",
     "output_type": "stream",
     "text": [
      "\n",
      "\n"
     ]
    },
    {
     "name": "stdout",
     "output_type": "stream",
     "text": [
      "0.8675 0.0003541478873365783 1.2558969471611855e-06\n"
     ]
    },
    {
     "name": "stderr",
     "output_type": "stream",
     "text": [
      " 70%|███████   | 21/30 [05:56<02:36, 17.37s/it]\u001b[A\u001b[A"
     ]
    },
    {
     "name": "stdout",
     "output_type": "stream",
     "text": [
      "Train on 1600 samples, validate on 400 samples\n",
      "Epoch 1/15\n",
      "1600/1600 [==============================] - 3s 2ms/sample - loss: 17.5089 - sparse_categorical_accuracy: 0.6162 - val_loss: 17.4539 - val_sparse_categorical_accuracy: 0.5400\n",
      "Epoch 2/15\n",
      "1600/1600 [==============================] - 1s 410us/sample - loss: 17.4041 - sparse_categorical_accuracy: 0.5612 - val_loss: 17.3565 - val_sparse_categorical_accuracy: 0.6175\n",
      "Epoch 3/15\n",
      "1600/1600 [==============================] - 1s 405us/sample - loss: 17.3092 - sparse_categorical_accuracy: 0.6381 - val_loss: 17.2622 - val_sparse_categorical_accuracy: 0.6550\n",
      "Epoch 4/15\n",
      "1600/1600 [==============================] - 1s 395us/sample - loss: 17.2161 - sparse_categorical_accuracy: 0.6762 - val_loss: 17.1694 - val_sparse_categorical_accuracy: 0.6700\n",
      "Epoch 5/15\n",
      "1600/1600 [==============================] - 1s 420us/sample - loss: 17.1243 - sparse_categorical_accuracy: 0.7056 - val_loss: 17.0771 - val_sparse_categorical_accuracy: 0.6975\n",
      "Epoch 6/15\n",
      "1600/1600 [==============================] - 1s 386us/sample - loss: 17.0331 - sparse_categorical_accuracy: 0.7531 - val_loss: 16.9850 - val_sparse_categorical_accuracy: 0.8100\n",
      "Epoch 7/15\n",
      "1600/1600 [==============================] - 1s 389us/sample - loss: 16.9423 - sparse_categorical_accuracy: 0.7925 - val_loss: 16.8938 - val_sparse_categorical_accuracy: 0.8400\n",
      "Epoch 8/15\n",
      "1600/1600 [==============================] - 1s 401us/sample - loss: 16.8523 - sparse_categorical_accuracy: 0.8250 - val_loss: 16.8031 - val_sparse_categorical_accuracy: 0.8575\n",
      "Epoch 9/15\n",
      "1600/1600 [==============================] - 1s 411us/sample - loss: 16.7630 - sparse_categorical_accuracy: 0.8406 - val_loss: 16.7129 - val_sparse_categorical_accuracy: 0.8600\n",
      "Epoch 10/15\n",
      "1600/1600 [==============================] - 1s 399us/sample - loss: 16.6742 - sparse_categorical_accuracy: 0.8550 - val_loss: 16.6237 - val_sparse_categorical_accuracy: 0.8650\n",
      "Epoch 11/15\n",
      "1600/1600 [==============================] - 1s 394us/sample - loss: 16.5861 - sparse_categorical_accuracy: 0.8606 - val_loss: 16.5351 - val_sparse_categorical_accuracy: 0.8700\n",
      "Epoch 12/15\n",
      "1600/1600 [==============================] - 1s 374us/sample - loss: 16.4989 - sparse_categorical_accuracy: 0.8706 - val_loss: 16.4474 - val_sparse_categorical_accuracy: 0.8725\n",
      "Epoch 13/15\n",
      "1600/1600 [==============================] - 1s 388us/sample - loss: 16.4125 - sparse_categorical_accuracy: 0.8750 - val_loss: 16.3607 - val_sparse_categorical_accuracy: 0.8875\n",
      "Epoch 14/15\n",
      "1600/1600 [==============================] - 1s 403us/sample - loss: 16.3270 - sparse_categorical_accuracy: 0.8794 - val_loss: 16.2753 - val_sparse_categorical_accuracy: 0.8975\n",
      "Epoch 15/15\n",
      "1600/1600 [==============================] - 1s 383us/sample - loss: 16.2425 - sparse_categorical_accuracy: 0.8794 - val_loss: 16.1907 - val_sparse_categorical_accuracy: 0.9000\n"
     ]
    },
    {
     "name": "stderr",
     "output_type": "stream",
     "text": [
      "\n",
      "\n",
      " 73%|███████▎  | 22/30 [06:13<02:17, 17.18s/it]\u001b[A\u001b[A"
     ]
    },
    {
     "name": "stdout",
     "output_type": "stream",
     "text": [
      "0.9 0.0005044113690463017 0.044358824873704114\n",
      "Train on 1600 samples, validate on 400 samples\n",
      "Epoch 1/15\n",
      "1600/1600 [==============================] - 4s 2ms/sample - loss: 10.3831 - sparse_categorical_accuracy: 0.5044 - val_loss: 10.3746 - val_sparse_categorical_accuracy: 0.4900\n",
      "Epoch 2/15\n",
      "1600/1600 [==============================] - 1s 416us/sample - loss: 10.3604 - sparse_categorical_accuracy: 0.5375 - val_loss: 10.3519 - val_sparse_categorical_accuracy: 0.5575\n",
      "Epoch 3/15\n",
      "1600/1600 [==============================] - 1s 414us/sample - loss: 10.3386 - sparse_categorical_accuracy: 0.6162 - val_loss: 10.3301 - val_sparse_categorical_accuracy: 0.5975\n",
      "Epoch 4/15\n",
      "1600/1600 [==============================] - 1s 404us/sample - loss: 10.3177 - sparse_categorical_accuracy: 0.6413 - val_loss: 10.3088 - val_sparse_categorical_accuracy: 0.6325\n",
      "Epoch 5/15\n",
      "1600/1600 [==============================] - 1s 409us/sample - loss: 10.2971 - sparse_categorical_accuracy: 0.6625 - val_loss: 10.2879 - val_sparse_categorical_accuracy: 0.6625\n",
      "Epoch 6/15\n",
      "1600/1600 [==============================] - 1s 381us/sample - loss: 10.2769 - sparse_categorical_accuracy: 0.7219 - val_loss: 10.2674 - val_sparse_categorical_accuracy: 0.7075\n",
      "Epoch 7/15\n",
      "1600/1600 [==============================] - 1s 397us/sample - loss: 10.2571 - sparse_categorical_accuracy: 0.7500 - val_loss: 10.2473 - val_sparse_categorical_accuracy: 0.7400\n",
      "Epoch 8/15\n",
      "1600/1600 [==============================] - 1s 378us/sample - loss: 10.2376 - sparse_categorical_accuracy: 0.7606 - val_loss: 10.2273 - val_sparse_categorical_accuracy: 0.7650\n",
      "Epoch 9/15\n",
      "1600/1600 [==============================] - 1s 389us/sample - loss: 10.2181 - sparse_categorical_accuracy: 0.7812 - val_loss: 10.2074 - val_sparse_categorical_accuracy: 0.7850\n",
      "Epoch 10/15\n",
      "1600/1600 [==============================] - 1s 387us/sample - loss: 10.1987 - sparse_categorical_accuracy: 0.7962 - val_loss: 10.1877 - val_sparse_categorical_accuracy: 0.7925\n",
      "Epoch 11/15\n",
      "1600/1600 [==============================] - 1s 384us/sample - loss: 10.1797 - sparse_categorical_accuracy: 0.8037 - val_loss: 10.1683 - val_sparse_categorical_accuracy: 0.8050\n",
      "Epoch 12/15\n",
      "1600/1600 [==============================] - 1s 385us/sample - loss: 10.1607 - sparse_categorical_accuracy: 0.8125 - val_loss: 10.1491 - val_sparse_categorical_accuracy: 0.8125\n",
      "Epoch 13/15\n",
      "1600/1600 [==============================] - 1s 386us/sample - loss: 10.1420 - sparse_categorical_accuracy: 0.8163 - val_loss: 10.1300 - val_sparse_categorical_accuracy: 0.8200\n",
      "Epoch 14/15\n",
      "1600/1600 [==============================] - 1s 386us/sample - loss: 10.1234 - sparse_categorical_accuracy: 0.8244 - val_loss: 10.1109 - val_sparse_categorical_accuracy: 0.8250\n",
      "Epoch 15/15\n",
      "1600/1600 [==============================] - 1s 387us/sample - loss: 10.1048 - sparse_categorical_accuracy: 0.8275 - val_loss: 10.0919 - val_sparse_categorical_accuracy: 0.8350\n"
     ]
    },
    {
     "name": "stderr",
     "output_type": "stream",
     "text": [
      "\n",
      "\n",
      " 77%|███████▋  | 23/30 [06:31<02:00, 17.24s/it]\u001b[A\u001b[A"
     ]
    },
    {
     "name": "stdout",
     "output_type": "stream",
     "text": [
      "0.835 0.00022077434690205577 0.025539500047572834\n",
      "Train on 1600 samples, validate on 400 samples\n",
      "Epoch 1/15\n",
      "1600/1600 [==============================] - 3s 2ms/sample - loss: 1.7511 - sparse_categorical_accuracy: 0.4756 - val_loss: 1.7365 - val_sparse_categorical_accuracy: 0.6100\n",
      "Epoch 2/15\n",
      "1600/1600 [==============================] - 1s 419us/sample - loss: 1.7293 - sparse_categorical_accuracy: 0.5775 - val_loss: 1.7181 - val_sparse_categorical_accuracy: 0.6275\n",
      "Epoch 3/15\n",
      "1600/1600 [==============================] - 1s 395us/sample - loss: 1.7108 - sparse_categorical_accuracy: 0.6538 - val_loss: 1.7010 - val_sparse_categorical_accuracy: 0.6650\n",
      "Epoch 4/15\n",
      "1600/1600 [==============================] - 1s 397us/sample - loss: 1.6929 - sparse_categorical_accuracy: 0.6737 - val_loss: 1.6845 - val_sparse_categorical_accuracy: 0.6750\n",
      "Epoch 5/15\n",
      "1600/1600 [==============================] - 1s 394us/sample - loss: 1.6765 - sparse_categorical_accuracy: 0.6819 - val_loss: 1.6702 - val_sparse_categorical_accuracy: 0.6850\n",
      "Epoch 6/15\n",
      "1600/1600 [==============================] - 1s 397us/sample - loss: 1.6627 - sparse_categorical_accuracy: 0.6844 - val_loss: 1.6567 - val_sparse_categorical_accuracy: 0.7050\n",
      "Epoch 7/15\n",
      "1600/1600 [==============================] - 1s 418us/sample - loss: 1.6495 - sparse_categorical_accuracy: 0.7244 - val_loss: 1.6435 - val_sparse_categorical_accuracy: 0.7900\n",
      "Epoch 8/15\n",
      "1600/1600 [==============================] - 1s 397us/sample - loss: 1.6364 - sparse_categorical_accuracy: 0.7719 - val_loss: 1.6304 - val_sparse_categorical_accuracy: 0.8000\n",
      "Epoch 9/15\n",
      "1600/1600 [==============================] - 1s 409us/sample - loss: 1.6232 - sparse_categorical_accuracy: 0.7844 - val_loss: 1.6173 - val_sparse_categorical_accuracy: 0.8325\n",
      "Epoch 10/15\n",
      "1600/1600 [==============================] - 1s 393us/sample - loss: 1.6103 - sparse_categorical_accuracy: 0.8056 - val_loss: 1.6045 - val_sparse_categorical_accuracy: 0.8450\n",
      "Epoch 11/15\n",
      "1600/1600 [==============================] - 1s 373us/sample - loss: 1.5975 - sparse_categorical_accuracy: 0.8200 - val_loss: 1.5914 - val_sparse_categorical_accuracy: 0.8450\n",
      "Epoch 12/15\n",
      "1600/1600 [==============================] - 1s 395us/sample - loss: 1.5844 - sparse_categorical_accuracy: 0.8306 - val_loss: 1.5780 - val_sparse_categorical_accuracy: 0.8575\n",
      "Epoch 13/15\n",
      "1600/1600 [==============================] - 1s 397us/sample - loss: 1.5713 - sparse_categorical_accuracy: 0.8400 - val_loss: 1.5647 - val_sparse_categorical_accuracy: 0.8700\n",
      "Epoch 14/15\n",
      "1600/1600 [==============================] - 1s 373us/sample - loss: 1.5585 - sparse_categorical_accuracy: 0.8462 - val_loss: 1.5520 - val_sparse_categorical_accuracy: 0.8675\n",
      "Epoch 15/15\n",
      "1600/1600 [==============================] - 1s 379us/sample - loss: 1.5461 - sparse_categorical_accuracy: 0.8519 - val_loss: 1.5394 - val_sparse_categorical_accuracy: 0.8750\n"
     ]
    },
    {
     "name": "stderr",
     "output_type": "stream",
     "text": [
      "\n",
      "\n",
      " 80%|████████  | 24/30 [06:47<01:42, 17.10s/it]\u001b[A\u001b[A"
     ]
    },
    {
     "name": "stdout",
     "output_type": "stream",
     "text": [
      "0.875 0.0002758902211434493 0.002783410852749016\n",
      "Train on 1600 samples, validate on 400 samples\n",
      "Epoch 1/15\n",
      "1600/1600 [==============================] - 3s 2ms/sample - loss: 4.8763 - sparse_categorical_accuracy: 0.5019 - val_loss: 4.8603 - val_sparse_categorical_accuracy: 0.5000\n",
      "Epoch 2/15\n",
      "1600/1600 [==============================] - 1s 414us/sample - loss: 4.8468 - sparse_categorical_accuracy: 0.5300 - val_loss: 4.8328 - val_sparse_categorical_accuracy: 0.6200\n",
      "Epoch 3/15\n",
      "1600/1600 [==============================] - 1s 418us/sample - loss: 4.8225 - sparse_categorical_accuracy: 0.6344 - val_loss: 4.8094 - val_sparse_categorical_accuracy: 0.6725\n",
      "Epoch 4/15\n",
      "1600/1600 [==============================] - 1s 382us/sample - loss: 4.8010 - sparse_categorical_accuracy: 0.7350 - val_loss: 4.7889 - val_sparse_categorical_accuracy: 0.7650\n",
      "Epoch 5/15\n",
      "1600/1600 [==============================] - 1s 398us/sample - loss: 4.7804 - sparse_categorical_accuracy: 0.7937 - val_loss: 4.7689 - val_sparse_categorical_accuracy: 0.7925\n",
      "Epoch 6/15\n",
      "1600/1600 [==============================] - 1s 404us/sample - loss: 4.7602 - sparse_categorical_accuracy: 0.8094 - val_loss: 4.7496 - val_sparse_categorical_accuracy: 0.8025\n",
      "Epoch 7/15\n",
      "1600/1600 [==============================] - 1s 382us/sample - loss: 4.7417 - sparse_categorical_accuracy: 0.8294 - val_loss: 4.7316 - val_sparse_categorical_accuracy: 0.8250\n",
      "Epoch 8/15\n",
      "1600/1600 [==============================] - 1s 377us/sample - loss: 4.7242 - sparse_categorical_accuracy: 0.8350 - val_loss: 4.7143 - val_sparse_categorical_accuracy: 0.8350\n",
      "Epoch 9/15\n",
      "1600/1600 [==============================] - 1s 393us/sample - loss: 4.7073 - sparse_categorical_accuracy: 0.8450 - val_loss: 4.6971 - val_sparse_categorical_accuracy: 0.8600\n",
      "Epoch 10/15\n",
      "1600/1600 [==============================] - 1s 372us/sample - loss: 4.6906 - sparse_categorical_accuracy: 0.8500 - val_loss: 4.6801 - val_sparse_categorical_accuracy: 0.8650\n",
      "Epoch 11/15\n",
      "1600/1600 [==============================] - 1s 372us/sample - loss: 4.6741 - sparse_categorical_accuracy: 0.8562 - val_loss: 4.6634 - val_sparse_categorical_accuracy: 0.8675\n",
      "Epoch 12/15\n",
      "1600/1600 [==============================] - 1s 398us/sample - loss: 4.6579 - sparse_categorical_accuracy: 0.8556 - val_loss: 4.6471 - val_sparse_categorical_accuracy: 0.8625\n",
      "Epoch 13/15\n",
      "1600/1600 [==============================] - 1s 394us/sample - loss: 4.6419 - sparse_categorical_accuracy: 0.8631 - val_loss: 4.6311 - val_sparse_categorical_accuracy: 0.8650\n",
      "Epoch 14/15\n",
      "1600/1600 [==============================] - 1s 384us/sample - loss: 4.6263 - sparse_categorical_accuracy: 0.8594 - val_loss: 4.6149 - val_sparse_categorical_accuracy: 0.8800\n",
      "Epoch 15/15\n",
      "1600/1600 [==============================] - 1s 392us/sample - loss: 4.6108 - sparse_categorical_accuracy: 0.8706 - val_loss: 4.5990 - val_sparse_categorical_accuracy: 0.8800\n"
     ]
    },
    {
     "name": "stderr",
     "output_type": "stream",
     "text": [
      "\n",
      "\n",
      " 83%|████████▎ | 25/30 [07:04<01:25, 17.02s/it]\u001b[A\u001b[A"
     ]
    },
    {
     "name": "stdout",
     "output_type": "stream",
     "text": [
      "0.88 0.00031242408283524924 0.011009350313831611\n",
      "Train on 1600 samples, validate on 400 samples\n",
      "Epoch 1/15\n",
      "1600/1600 [==============================] - 3s 2ms/sample - loss: 30.6258 - sparse_categorical_accuracy: 0.5238 - val_loss: 30.5607 - val_sparse_categorical_accuracy: 0.6175\n",
      "Epoch 2/15\n",
      "1600/1600 [==============================] - 1s 415us/sample - loss: 30.5041 - sparse_categorical_accuracy: 0.6338 - val_loss: 30.4440 - val_sparse_categorical_accuracy: 0.6550\n",
      "Epoch 3/15\n",
      "1600/1600 [==============================] - 1s 424us/sample - loss: 30.3881 - sparse_categorical_accuracy: 0.6994 - val_loss: 30.3303 - val_sparse_categorical_accuracy: 0.6825\n",
      "Epoch 4/15\n",
      "1600/1600 [==============================] - 1s 412us/sample - loss: 30.2744 - sparse_categorical_accuracy: 0.7113 - val_loss: 30.2177 - val_sparse_categorical_accuracy: 0.6825\n",
      "Epoch 5/15\n",
      "1600/1600 [==============================] - 1s 399us/sample - loss: 30.1622 - sparse_categorical_accuracy: 0.7144 - val_loss: 30.1063 - val_sparse_categorical_accuracy: 0.6900\n",
      "Epoch 6/15\n",
      "1600/1600 [==============================] - 1s 404us/sample - loss: 30.0514 - sparse_categorical_accuracy: 0.7125 - val_loss: 29.9959 - val_sparse_categorical_accuracy: 0.7050\n",
      "Epoch 7/15\n",
      "1600/1600 [==============================] - 1s 375us/sample - loss: 29.9418 - sparse_categorical_accuracy: 0.7262 - val_loss: 29.8869 - val_sparse_categorical_accuracy: 0.7075\n",
      "Epoch 8/15\n",
      "1600/1600 [==============================] - 1s 375us/sample - loss: 29.8332 - sparse_categorical_accuracy: 0.7337 - val_loss: 29.7783 - val_sparse_categorical_accuracy: 0.7225\n",
      "Epoch 9/15\n",
      "1600/1600 [==============================] - 1s 382us/sample - loss: 29.7251 - sparse_categorical_accuracy: 0.7394 - val_loss: 29.6703 - val_sparse_categorical_accuracy: 0.7275\n",
      "Epoch 10/15\n",
      "1600/1600 [==============================] - 1s 409us/sample - loss: 29.6176 - sparse_categorical_accuracy: 0.7550 - val_loss: 29.5629 - val_sparse_categorical_accuracy: 0.7450\n",
      "Epoch 11/15\n",
      "1600/1600 [==============================] - 1s 413us/sample - loss: 29.5107 - sparse_categorical_accuracy: 0.7619 - val_loss: 29.4558 - val_sparse_categorical_accuracy: 0.7550\n",
      "Epoch 12/15\n",
      "1600/1600 [==============================] - 1s 411us/sample - loss: 29.4042 - sparse_categorical_accuracy: 0.7800 - val_loss: 29.3493 - val_sparse_categorical_accuracy: 0.7875\n",
      "Epoch 13/15\n",
      "1600/1600 [==============================] - 1s 387us/sample - loss: 29.2982 - sparse_categorical_accuracy: 0.7944 - val_loss: 29.2430 - val_sparse_categorical_accuracy: 0.8150\n",
      "Epoch 14/15\n",
      "1600/1600 [==============================] - 1s 427us/sample - loss: 29.1926 - sparse_categorical_accuracy: 0.8050 - val_loss: 29.1372 - val_sparse_categorical_accuracy: 0.8225\n",
      "Epoch 15/15\n",
      "1600/1600 [==============================] - 1s 403us/sample - loss: 29.0873 - sparse_categorical_accuracy: 0.8106 - val_loss: 29.0317 - val_sparse_categorical_accuracy: 0.8325\n"
     ]
    },
    {
     "name": "stderr",
     "output_type": "stream",
     "text": [
      "\n",
      "\n",
      " 87%|████████▋ | 26/30 [07:21<01:08, 17.10s/it]\u001b[A\u001b[A"
     ]
    },
    {
     "name": "stdout",
     "output_type": "stream",
     "text": [
      "0.8325 0.000218432892589265 0.07892100086986119\n",
      "Train on 1600 samples, validate on 400 samples\n",
      "Epoch 1/15\n",
      "1600/1600 [==============================] - 4s 2ms/sample - loss: 6.4697 - sparse_categorical_accuracy: 0.6594 - val_loss: 6.4498 - val_sparse_categorical_accuracy: 0.6775\n",
      "Epoch 2/15\n",
      "1600/1600 [==============================] - 1s 417us/sample - loss: 6.4321 - sparse_categorical_accuracy: 0.6963 - val_loss: 6.4125 - val_sparse_categorical_accuracy: 0.6850\n",
      "Epoch 3/15\n",
      "1600/1600 [==============================] - 1s 400us/sample - loss: 6.3963 - sparse_categorical_accuracy: 0.7475 - val_loss: 6.3775 - val_sparse_categorical_accuracy: 0.6975\n",
      "Epoch 4/15\n",
      "1600/1600 [==============================] - 1s 394us/sample - loss: 6.3637 - sparse_categorical_accuracy: 0.7669 - val_loss: 6.3451 - val_sparse_categorical_accuracy: 0.8200\n",
      "Epoch 5/15\n",
      "1600/1600 [==============================] - 1s 390us/sample - loss: 6.3332 - sparse_categorical_accuracy: 0.8175 - val_loss: 6.3143 - val_sparse_categorical_accuracy: 0.8325\n",
      "Epoch 6/15\n",
      "1600/1600 [==============================] - 1s 391us/sample - loss: 6.3035 - sparse_categorical_accuracy: 0.8350 - val_loss: 6.2841 - val_sparse_categorical_accuracy: 0.8450\n",
      "Epoch 7/15\n",
      "1600/1600 [==============================] - 1s 387us/sample - loss: 6.2745 - sparse_categorical_accuracy: 0.8450 - val_loss: 6.2546 - val_sparse_categorical_accuracy: 0.8500\n",
      "Epoch 8/15\n",
      "1600/1600 [==============================] - 1s 389us/sample - loss: 6.2460 - sparse_categorical_accuracy: 0.8444 - val_loss: 6.2253 - val_sparse_categorical_accuracy: 0.8600\n",
      "Epoch 9/15\n",
      "1600/1600 [==============================] - 1s 388us/sample - loss: 6.2184 - sparse_categorical_accuracy: 0.8531 - val_loss: 6.1972 - val_sparse_categorical_accuracy: 0.8600\n",
      "Epoch 10/15\n",
      "1600/1600 [==============================] - 1s 385us/sample - loss: 6.1915 - sparse_categorical_accuracy: 0.8512 - val_loss: 6.1700 - val_sparse_categorical_accuracy: 0.8600\n",
      "Epoch 11/15\n",
      "1600/1600 [==============================] - 1s 389us/sample - loss: 6.1653 - sparse_categorical_accuracy: 0.8556 - val_loss: 6.1436 - val_sparse_categorical_accuracy: 0.8675\n",
      "Epoch 12/15\n",
      "1600/1600 [==============================] - 1s 390us/sample - loss: 6.1391 - sparse_categorical_accuracy: 0.8587 - val_loss: 6.1176 - val_sparse_categorical_accuracy: 0.8650\n",
      "Epoch 13/15\n",
      "1600/1600 [==============================] - 1s 394us/sample - loss: 6.1140 - sparse_categorical_accuracy: 0.8612 - val_loss: 6.0929 - val_sparse_categorical_accuracy: 0.8850\n",
      "Epoch 14/15\n",
      "1600/1600 [==============================] - 1s 388us/sample - loss: 6.0906 - sparse_categorical_accuracy: 0.8625 - val_loss: 6.0698 - val_sparse_categorical_accuracy: 0.8825\n",
      "Epoch 15/15\n",
      "1600/1600 [==============================] - 1s 388us/sample - loss: 6.0681 - sparse_categorical_accuracy: 0.8669 - val_loss: 6.0476 - val_sparse_categorical_accuracy: 0.8875\n"
     ]
    },
    {
     "name": "stderr",
     "output_type": "stream",
     "text": [
      "\n",
      "\n",
      " 90%|█████████ | 27/30 [07:39<00:51, 17.09s/it]\u001b[A\u001b[A"
     ]
    },
    {
     "name": "stdout",
     "output_type": "stream",
     "text": [
      "0.8875 0.0005199886409206386 0.01526582315729077\n",
      "Train on 1600 samples, validate on 400 samples\n",
      "Epoch 1/15\n",
      "1600/1600 [==============================] - 3s 2ms/sample - loss: 3.2778 - sparse_categorical_accuracy: 0.4525 - val_loss: 3.2732 - val_sparse_categorical_accuracy: 0.4500\n",
      "Epoch 2/15\n",
      "1600/1600 [==============================] - 1s 417us/sample - loss: 3.2660 - sparse_categorical_accuracy: 0.4706 - val_loss: 3.2614 - val_sparse_categorical_accuracy: 0.4700\n",
      "Epoch 3/15\n",
      "1600/1600 [==============================] - 1s 396us/sample - loss: 3.2552 - sparse_categorical_accuracy: 0.4869 - val_loss: 3.2509 - val_sparse_categorical_accuracy: 0.4825\n",
      "Epoch 4/15\n",
      "1600/1600 [==============================] - 1s 387us/sample - loss: 3.2453 - sparse_categorical_accuracy: 0.5025 - val_loss: 3.2411 - val_sparse_categorical_accuracy: 0.5000\n",
      "Epoch 5/15\n",
      "1600/1600 [==============================] - 1s 387us/sample - loss: 3.2360 - sparse_categorical_accuracy: 0.5281 - val_loss: 3.2315 - val_sparse_categorical_accuracy: 0.5400\n",
      "Epoch 6/15\n",
      "1600/1600 [==============================] - 1s 388us/sample - loss: 3.2269 - sparse_categorical_accuracy: 0.6119 - val_loss: 3.2219 - val_sparse_categorical_accuracy: 0.6725\n",
      "Epoch 7/15\n",
      "1600/1600 [==============================] - 1s 388us/sample - loss: 3.2180 - sparse_categorical_accuracy: 0.7013 - val_loss: 3.2125 - val_sparse_categorical_accuracy: 0.7225\n",
      "Epoch 8/15\n",
      "1600/1600 [==============================] - 1s 389us/sample - loss: 3.2094 - sparse_categorical_accuracy: 0.7406 - val_loss: 3.2038 - val_sparse_categorical_accuracy: 0.7350\n",
      "Epoch 9/15\n",
      "1600/1600 [==============================] - 1s 391us/sample - loss: 3.2011 - sparse_categorical_accuracy: 0.7556 - val_loss: 3.1952 - val_sparse_categorical_accuracy: 0.7675\n",
      "Epoch 10/15\n",
      "1600/1600 [==============================] - 1s 389us/sample - loss: 3.1931 - sparse_categorical_accuracy: 0.7744 - val_loss: 3.1870 - val_sparse_categorical_accuracy: 0.7825\n",
      "Epoch 11/15\n",
      "1600/1600 [==============================] - 1s 387us/sample - loss: 3.1852 - sparse_categorical_accuracy: 0.7769 - val_loss: 3.1789 - val_sparse_categorical_accuracy: 0.8050\n",
      "Epoch 12/15\n",
      "1600/1600 [==============================] - 1s 386us/sample - loss: 3.1777 - sparse_categorical_accuracy: 0.7900 - val_loss: 3.1711 - val_sparse_categorical_accuracy: 0.8125\n",
      "Epoch 13/15\n",
      "1600/1600 [==============================] - 1s 386us/sample - loss: 3.1703 - sparse_categorical_accuracy: 0.7975 - val_loss: 3.1636 - val_sparse_categorical_accuracy: 0.8250\n",
      "Epoch 14/15\n",
      "1600/1600 [==============================] - 1s 389us/sample - loss: 3.1634 - sparse_categorical_accuracy: 0.8025 - val_loss: 3.1565 - val_sparse_categorical_accuracy: 0.8325\n",
      "Epoch 15/15\n",
      "1600/1600 [==============================] - 1s 384us/sample - loss: 3.1565 - sparse_categorical_accuracy: 0.8056 - val_loss: 3.1496 - val_sparse_categorical_accuracy: 0.8425\n"
     ]
    },
    {
     "name": "stderr",
     "output_type": "stream",
     "text": [
      "\n",
      "\n",
      " 93%|█████████▎| 28/30 [07:55<00:33, 16.99s/it]\u001b[A\u001b[A"
     ]
    },
    {
     "name": "stdout",
     "output_type": "stream",
     "text": [
      "0.8425 0.00018160218570331625 0.006779648303618219\n",
      "Train on 1600 samples, validate on 400 samples\n",
      "Epoch 1/15\n",
      "1600/1600 [==============================] - 4s 2ms/sample - loss: 0.6888 - sparse_categorical_accuracy: 0.5369 - val_loss: 0.6780 - val_sparse_categorical_accuracy: 0.5600\n",
      "Epoch 2/15\n",
      "1600/1600 [==============================] - 1s 423us/sample - loss: 0.6667 - sparse_categorical_accuracy: 0.5888 - val_loss: 0.6565 - val_sparse_categorical_accuracy: 0.6400\n",
      "Epoch 3/15\n",
      "1600/1600 [==============================] - 1s 427us/sample - loss: 0.6474 - sparse_categorical_accuracy: 0.6494 - val_loss: 0.6379 - val_sparse_categorical_accuracy: 0.7275\n",
      "Epoch 4/15\n",
      "1600/1600 [==============================] - 1s 385us/sample - loss: 0.6304 - sparse_categorical_accuracy: 0.7431 - val_loss: 0.6214 - val_sparse_categorical_accuracy: 0.7825\n",
      "Epoch 5/15\n",
      "1600/1600 [==============================] - 1s 386us/sample - loss: 0.6151 - sparse_categorical_accuracy: 0.7825 - val_loss: 0.6062 - val_sparse_categorical_accuracy: 0.8025\n",
      "Epoch 6/15\n",
      "1600/1600 [==============================] - 1s 386us/sample - loss: 0.6009 - sparse_categorical_accuracy: 0.8031 - val_loss: 0.5921 - val_sparse_categorical_accuracy: 0.8175\n",
      "Epoch 7/15\n",
      "1600/1600 [==============================] - 1s 392us/sample - loss: 0.5876 - sparse_categorical_accuracy: 0.8112 - val_loss: 0.5788 - val_sparse_categorical_accuracy: 0.8225\n",
      "Epoch 8/15\n",
      "1600/1600 [==============================] - 1s 388us/sample - loss: 0.5752 - sparse_categorical_accuracy: 0.8069 - val_loss: 0.5656 - val_sparse_categorical_accuracy: 0.8450\n",
      "Epoch 9/15\n",
      "1600/1600 [==============================] - 1s 392us/sample - loss: 0.5631 - sparse_categorical_accuracy: 0.8269 - val_loss: 0.5532 - val_sparse_categorical_accuracy: 0.8525\n",
      "Epoch 10/15\n",
      "1600/1600 [==============================] - 1s 393us/sample - loss: 0.5516 - sparse_categorical_accuracy: 0.8275 - val_loss: 0.5409 - val_sparse_categorical_accuracy: 0.8500\n",
      "Epoch 11/15\n",
      "1600/1600 [==============================] - 1s 390us/sample - loss: 0.5402 - sparse_categorical_accuracy: 0.8300 - val_loss: 0.5287 - val_sparse_categorical_accuracy: 0.8575\n",
      "Epoch 12/15\n",
      "1600/1600 [==============================] - 1s 392us/sample - loss: 0.5291 - sparse_categorical_accuracy: 0.8381 - val_loss: 0.5168 - val_sparse_categorical_accuracy: 0.8525\n",
      "Epoch 13/15\n",
      "1600/1600 [==============================] - 1s 394us/sample - loss: 0.5181 - sparse_categorical_accuracy: 0.8413 - val_loss: 0.5052 - val_sparse_categorical_accuracy: 0.8550\n",
      "Epoch 14/15\n",
      "1600/1600 [==============================] - 1s 409us/sample - loss: 0.5075 - sparse_categorical_accuracy: 0.8456 - val_loss: 0.4941 - val_sparse_categorical_accuracy: 0.8575\n",
      "Epoch 15/15\n",
      "1600/1600 [==============================] - 1s 415us/sample - loss: 0.4972 - sparse_categorical_accuracy: 0.8450 - val_loss: 0.4835 - val_sparse_categorical_accuracy: 0.8600\n"
     ]
    },
    {
     "name": "stderr",
     "output_type": "stream",
     "text": [
      "\n",
      "\n",
      " 97%|█████████▋| 29/30 [08:12<00:17, 17.03s/it]\u001b[A\u001b[A"
     ]
    },
    {
     "name": "stdout",
     "output_type": "stream",
     "text": [
      "0.86 0.00024272224699360174 1.958762553288548e-05\n",
      "Train on 1600 samples, validate on 400 samples\n",
      "Epoch 1/15\n",
      "1600/1600 [==============================] - 4s 2ms/sample - loss: 0.7172 - sparse_categorical_accuracy: 0.3156 - val_loss: 0.7144 - val_sparse_categorical_accuracy: 0.3175\n",
      "Epoch 2/15\n",
      "1600/1600 [==============================] - 1s 441us/sample - loss: 0.7030 - sparse_categorical_accuracy: 0.4031 - val_loss: 0.7014 - val_sparse_categorical_accuracy: 0.4150\n",
      "Epoch 3/15\n",
      "1600/1600 [==============================] - 1s 430us/sample - loss: 0.6910 - sparse_categorical_accuracy: 0.4719 - val_loss: 0.6902 - val_sparse_categorical_accuracy: 0.4775\n",
      "Epoch 4/15\n",
      "1600/1600 [==============================] - 1s 403us/sample - loss: 0.6807 - sparse_categorical_accuracy: 0.5081 - val_loss: 0.6808 - val_sparse_categorical_accuracy: 0.5025\n",
      "Epoch 5/15\n",
      "1600/1600 [==============================] - 1s 402us/sample - loss: 0.6720 - sparse_categorical_accuracy: 0.5175 - val_loss: 0.6723 - val_sparse_categorical_accuracy: 0.5050\n",
      "Epoch 6/15\n",
      "1600/1600 [==============================] - 1s 406us/sample - loss: 0.6638 - sparse_categorical_accuracy: 0.5219 - val_loss: 0.6643 - val_sparse_categorical_accuracy: 0.5125\n",
      "Epoch 7/15\n",
      "1600/1600 [==============================] - 1s 392us/sample - loss: 0.6561 - sparse_categorical_accuracy: 0.5312 - val_loss: 0.6567 - val_sparse_categorical_accuracy: 0.5550\n",
      "Epoch 8/15\n",
      "1600/1600 [==============================] - 1s 391us/sample - loss: 0.6487 - sparse_categorical_accuracy: 0.6463 - val_loss: 0.6494 - val_sparse_categorical_accuracy: 0.6425\n",
      "Epoch 9/15\n",
      "1600/1600 [==============================] - 1s 403us/sample - loss: 0.6417 - sparse_categorical_accuracy: 0.6612 - val_loss: 0.6423 - val_sparse_categorical_accuracy: 0.6750\n",
      "Epoch 10/15\n",
      "1600/1600 [==============================] - 1s 396us/sample - loss: 0.6349 - sparse_categorical_accuracy: 0.6831 - val_loss: 0.6356 - val_sparse_categorical_accuracy: 0.6850\n",
      "Epoch 11/15\n",
      "1600/1600 [==============================] - 1s 411us/sample - loss: 0.6284 - sparse_categorical_accuracy: 0.6950 - val_loss: 0.6292 - val_sparse_categorical_accuracy: 0.6875\n",
      "Epoch 12/15\n",
      "1600/1600 [==============================] - 1s 405us/sample - loss: 0.6222 - sparse_categorical_accuracy: 0.6931 - val_loss: 0.6230 - val_sparse_categorical_accuracy: 0.6900\n",
      "Epoch 13/15\n",
      "1600/1600 [==============================] - 1s 417us/sample - loss: 0.6163 - sparse_categorical_accuracy: 0.6994 - val_loss: 0.6170 - val_sparse_categorical_accuracy: 0.6900\n",
      "Epoch 14/15\n",
      "1600/1600 [==============================] - 1s 387us/sample - loss: 0.6105 - sparse_categorical_accuracy: 0.6994 - val_loss: 0.6111 - val_sparse_categorical_accuracy: 0.6925\n",
      "Epoch 15/15\n",
      "1600/1600 [==============================] - 1s 392us/sample - loss: 0.6049 - sparse_categorical_accuracy: 0.7038 - val_loss: 0.6054 - val_sparse_categorical_accuracy: 0.6925\n"
     ]
    },
    {
     "name": "stderr",
     "output_type": "stream",
     "text": [
      "\n",
      "\n",
      "100%|██████████| 30/30 [08:30<00:00, 17.01s/it]\u001b[A\u001b[A"
     ]
    },
    {
     "name": "stdout",
     "output_type": "stream",
     "text": [
      "0.6925 0.00012737979509557212 7.0557996058575e-06\n"
     ]
    },
    {
     "name": "stderr",
     "output_type": "stream",
     "text": [
      "\n"
     ]
    }
   ],
   "source": [
    "val_acc=[]\n",
    "lrs=[]\n",
    "l2_regs=[]\n",
    "for i in tqdm(range(30)):\n",
    "    lr = 10**np.random.uniform(-3,-4)\n",
    "    l2_reg = 10**np.random.uniform(-6, -1)\n",
    "    model = create_model(num_classes,l2_reg)\n",
    "    model.compile(optimizer=optimizers.SGD(learning_rate=lr),loss='sparse_categorical_crossentropy',metrics=['sparse_categorical_accuracy'])\n",
    "    history = model.fit(X_train,y_train,batch_size=BATCH_SIZE,epochs=15, verbose=1,validation_data=(X_val,y_val))\n",
    "    val_acc.append(history.history['val_sparse_categorical_accuracy'][-1])\n",
    "    lrs.append(lr)\n",
    "    l2_regs.append(l2_reg)\n",
    "    print(history.history['val_sparse_categorical_accuracy'][-1], lr, l2_reg)"
   ]
  },
  {
   "cell_type": "code",
   "execution_count": 49,
   "metadata": {
    "scrolled": true
   },
   "outputs": [],
   "source": [
    "logs=[val_acc,lrs, l2_regs]\n",
    "logs=np.array(logs)\n",
    "# logs=np.sort(logs,axis=0)"
   ]
  },
  {
   "cell_type": "code",
   "execution_count": 50,
   "metadata": {
    "scrolled": true
   },
   "outputs": [
    {
     "data": {
      "text/plain": [
       "array([ 0, 15, 21,  7], dtype=int64)"
      ]
     },
     "execution_count": 50,
     "metadata": {},
     "output_type": "execute_result"
    }
   ],
   "source": [
    "top4=np.argsort(logs[0,:])[::-1][:4]\n",
    "top4"
   ]
  },
  {
   "cell_type": "code",
   "execution_count": 51,
   "metadata": {
    "scrolled": true
   },
   "outputs": [
    {
     "data": {
      "text/plain": [
       "array([[9.25000012e-01, 9.04999971e-01, 8.99999976e-01, 8.92499983e-01],\n",
       "       [9.05174698e-04, 7.24762937e-04, 5.04411369e-04, 4.83966941e-04],\n",
       "       [1.81105723e-03, 1.13826938e-03, 4.43588249e-02, 2.37296232e-03]])"
      ]
     },
     "execution_count": 51,
     "metadata": {},
     "output_type": "execute_result"
    }
   ],
   "source": [
    "logs[:,top4]"
   ]
  },
  {
   "cell_type": "code",
   "execution_count": 52,
   "metadata": {
    "scrolled": true
   },
   "outputs": [],
   "source": [
    "lr, l2_reg = logs[1,top4[0]],logs[2,top4[0]]"
   ]
  },
  {
   "cell_type": "markdown",
   "metadata": {},
   "source": [
    "#### Final Training \n",
    "\n",
    "Now we will train the model using the top performer found using the top performer from the fine search. \n"
   ]
  },
  {
   "cell_type": "code",
   "execution_count": 53,
   "metadata": {
    "scrolled": true
   },
   "outputs": [
    {
     "name": "stdout",
     "output_type": "stream",
     "text": [
      "Train on 1600 samples, validate on 400 samples\n",
      "Epoch 1/50\n",
      "1600/1600 [==============================] - 4s 2ms/sample - loss: 1.3672 - sparse_categorical_accuracy: 0.5656 - val_loss: 1.3406 - val_sparse_categorical_accuracy: 0.5725\n",
      "Epoch 2/50\n",
      "1600/1600 [==============================] - 1s 423us/sample - loss: 1.3220 - sparse_categorical_accuracy: 0.6750 - val_loss: 1.3017 - val_sparse_categorical_accuracy: 0.6875\n",
      "Epoch 3/50\n",
      "1600/1600 [==============================] - 1s 407us/sample - loss: 1.2849 - sparse_categorical_accuracy: 0.6963 - val_loss: 1.2662 - val_sparse_categorical_accuracy: 0.6850\n",
      "Epoch 4/50\n",
      "1600/1600 [==============================] - 1s 405us/sample - loss: 1.2513 - sparse_categorical_accuracy: 0.7044 - val_loss: 1.2337 - val_sparse_categorical_accuracy: 0.7575\n",
      "Epoch 5/50\n",
      "1600/1600 [==============================] - 1s 402us/sample - loss: 1.2206 - sparse_categorical_accuracy: 0.7631 - val_loss: 1.2014 - val_sparse_categorical_accuracy: 0.8025\n",
      "Epoch 6/50\n",
      "1600/1600 [==============================] - 1s 395us/sample - loss: 1.1908 - sparse_categorical_accuracy: 0.7900 - val_loss: 1.1709 - val_sparse_categorical_accuracy: 0.8250\n",
      "Epoch 7/50\n",
      "1600/1600 [==============================] - 1s 413us/sample - loss: 1.1630 - sparse_categorical_accuracy: 0.8181 - val_loss: 1.1417 - val_sparse_categorical_accuracy: 0.8475\n",
      "Epoch 8/50\n",
      "1600/1600 [==============================] - 1s 426us/sample - loss: 1.1353 - sparse_categorical_accuracy: 0.8338 - val_loss: 1.1155 - val_sparse_categorical_accuracy: 0.8600\n",
      "Epoch 9/50\n",
      "1600/1600 [==============================] - 1s 414us/sample - loss: 1.1113 - sparse_categorical_accuracy: 0.8519 - val_loss: 1.0913 - val_sparse_categorical_accuracy: 0.8725\n",
      "Epoch 10/50\n",
      "1600/1600 [==============================] - 1s 412us/sample - loss: 1.0885 - sparse_categorical_accuracy: 0.8675 - val_loss: 1.0679 - val_sparse_categorical_accuracy: 0.8750\n",
      "Epoch 11/50\n",
      "1600/1600 [==============================] - 1s 399us/sample - loss: 1.0666 - sparse_categorical_accuracy: 0.8694 - val_loss: 1.0467 - val_sparse_categorical_accuracy: 0.8850\n",
      "Epoch 12/50\n",
      "1600/1600 [==============================] - 1s 406us/sample - loss: 1.0471 - sparse_categorical_accuracy: 0.8788 - val_loss: 1.0269 - val_sparse_categorical_accuracy: 0.8925\n",
      "Epoch 13/50\n",
      "1600/1600 [==============================] - 1s 389us/sample - loss: 1.0272 - sparse_categorical_accuracy: 0.8863 - val_loss: 1.0080 - val_sparse_categorical_accuracy: 0.9050\n",
      "Epoch 14/50\n",
      "1600/1600 [==============================] - 1s 390us/sample - loss: 1.0097 - sparse_categorical_accuracy: 0.8925 - val_loss: 0.9903 - val_sparse_categorical_accuracy: 0.9150\n",
      "Epoch 15/50\n",
      "1600/1600 [==============================] - 1s 409us/sample - loss: 0.9918 - sparse_categorical_accuracy: 0.8988 - val_loss: 0.9747 - val_sparse_categorical_accuracy: 0.9200\n",
      "Epoch 16/50\n",
      "1600/1600 [==============================] - 1s 401us/sample - loss: 0.9764 - sparse_categorical_accuracy: 0.9044 - val_loss: 0.9603 - val_sparse_categorical_accuracy: 0.9300\n",
      "Epoch 17/50\n",
      "1600/1600 [==============================] - 1s 384us/sample - loss: 0.9627 - sparse_categorical_accuracy: 0.9087 - val_loss: 0.9466 - val_sparse_categorical_accuracy: 0.9375\n",
      "Epoch 18/50\n",
      "1600/1600 [==============================] - 1s 400us/sample - loss: 0.9484 - sparse_categorical_accuracy: 0.9137 - val_loss: 0.9337 - val_sparse_categorical_accuracy: 0.9375\n",
      "Epoch 19/50\n",
      "1600/1600 [==============================] - 1s 401us/sample - loss: 0.9355 - sparse_categorical_accuracy: 0.9169 - val_loss: 0.9258 - val_sparse_categorical_accuracy: 0.9300\n",
      "Epoch 20/50\n",
      "1600/1600 [==============================] - 1s 389us/sample - loss: 0.9245 - sparse_categorical_accuracy: 0.9225 - val_loss: 0.9114 - val_sparse_categorical_accuracy: 0.9475\n",
      "Epoch 21/50\n",
      "1600/1600 [==============================] - 1s 409us/sample - loss: 0.9129 - sparse_categorical_accuracy: 0.9262 - val_loss: 0.9038 - val_sparse_categorical_accuracy: 0.9425\n",
      "Epoch 22/50\n",
      "1600/1600 [==============================] - 1s 405us/sample - loss: 0.9039 - sparse_categorical_accuracy: 0.9319 - val_loss: 0.8925 - val_sparse_categorical_accuracy: 0.9550\n",
      "Epoch 23/50\n",
      "1600/1600 [==============================] - 1s 396us/sample - loss: 0.8942 - sparse_categorical_accuracy: 0.9394 - val_loss: 0.8957 - val_sparse_categorical_accuracy: 0.9500\n",
      "Epoch 24/50\n",
      "1600/1600 [==============================] - 1s 401us/sample - loss: 0.8884 - sparse_categorical_accuracy: 0.9400 - val_loss: 0.8763 - val_sparse_categorical_accuracy: 0.9575\n",
      "Epoch 25/50\n",
      "1600/1600 [==============================] - 1s 381us/sample - loss: 0.8791 - sparse_categorical_accuracy: 0.9431 - val_loss: 0.8702 - val_sparse_categorical_accuracy: 0.9500\n",
      "Epoch 26/50\n",
      "1600/1600 [==============================] - 1s 407us/sample - loss: 0.8725 - sparse_categorical_accuracy: 0.9444 - val_loss: 0.8626 - val_sparse_categorical_accuracy: 0.9600\n",
      "Epoch 27/50\n",
      "1600/1600 [==============================] - 1s 406us/sample - loss: 0.8642 - sparse_categorical_accuracy: 0.9475 - val_loss: 0.8566 - val_sparse_categorical_accuracy: 0.9625\n",
      "Epoch 28/50\n",
      "1600/1600 [==============================] - 1s 399us/sample - loss: 0.8621 - sparse_categorical_accuracy: 0.9469 - val_loss: 0.8525 - val_sparse_categorical_accuracy: 0.9575\n",
      "Epoch 29/50\n",
      "1600/1600 [==============================] - 1s 380us/sample - loss: 0.8542 - sparse_categorical_accuracy: 0.9500 - val_loss: 0.8522 - val_sparse_categorical_accuracy: 0.9550\n",
      "Epoch 30/50\n",
      "1600/1600 [==============================] - 1s 392us/sample - loss: 0.8490 - sparse_categorical_accuracy: 0.9481 - val_loss: 0.8417 - val_sparse_categorical_accuracy: 0.9600\n",
      "Epoch 31/50\n",
      "1600/1600 [==============================] - 1s 410us/sample - loss: 0.8457 - sparse_categorical_accuracy: 0.9500 - val_loss: 0.8359 - val_sparse_categorical_accuracy: 0.9625\n",
      "Epoch 32/50\n",
      "1600/1600 [==============================] - 1s 411us/sample - loss: 0.8395 - sparse_categorical_accuracy: 0.9538 - val_loss: 0.8323 - val_sparse_categorical_accuracy: 0.9575\n",
      "Epoch 33/50\n",
      "1600/1600 [==============================] - 1s 426us/sample - loss: 0.8369 - sparse_categorical_accuracy: 0.9469 - val_loss: 0.8332 - val_sparse_categorical_accuracy: 0.9600\n",
      "Epoch 34/50\n",
      "1600/1600 [==============================] - 1s 423us/sample - loss: 0.8329 - sparse_categorical_accuracy: 0.9506 - val_loss: 0.8245 - val_sparse_categorical_accuracy: 0.9625\n",
      "Epoch 35/50\n",
      "1600/1600 [==============================] - 1s 415us/sample - loss: 0.8317 - sparse_categorical_accuracy: 0.9513 - val_loss: 0.8236 - val_sparse_categorical_accuracy: 0.9625\n",
      "Epoch 36/50\n",
      "1600/1600 [==============================] - 1s 389us/sample - loss: 0.8264 - sparse_categorical_accuracy: 0.9525 - val_loss: 0.8188 - val_sparse_categorical_accuracy: 0.9575\n",
      "Epoch 37/50\n",
      "1600/1600 [==============================] - 1s 404us/sample - loss: 0.8216 - sparse_categorical_accuracy: 0.9513 - val_loss: 0.8161 - val_sparse_categorical_accuracy: 0.9650\n",
      "Epoch 38/50\n",
      "1600/1600 [==============================] - 1s 393us/sample - loss: 0.8222 - sparse_categorical_accuracy: 0.9531 - val_loss: 0.8184 - val_sparse_categorical_accuracy: 0.9600\n",
      "Epoch 39/50\n",
      "1600/1600 [==============================] - 1s 395us/sample - loss: 0.8159 - sparse_categorical_accuracy: 0.9550 - val_loss: 0.8119 - val_sparse_categorical_accuracy: 0.9625\n",
      "Epoch 40/50\n",
      "1600/1600 [==============================] - 1s 399us/sample - loss: 0.8158 - sparse_categorical_accuracy: 0.9550 - val_loss: 0.8087 - val_sparse_categorical_accuracy: 0.9675\n",
      "Epoch 41/50\n",
      "1600/1600 [==============================] - 1s 402us/sample - loss: 0.8115 - sparse_categorical_accuracy: 0.9513 - val_loss: 0.8070 - val_sparse_categorical_accuracy: 0.9675\n",
      "Epoch 42/50\n",
      "1600/1600 [==============================] - 1s 402us/sample - loss: 0.8090 - sparse_categorical_accuracy: 0.9569 - val_loss: 0.8114 - val_sparse_categorical_accuracy: 0.9625\n",
      "Epoch 43/50\n",
      "1600/1600 [==============================] - 1s 404us/sample - loss: 0.8058 - sparse_categorical_accuracy: 0.9594 - val_loss: 0.8022 - val_sparse_categorical_accuracy: 0.9600\n",
      "Epoch 44/50\n"
     ]
    },
    {
     "name": "stdout",
     "output_type": "stream",
     "text": [
      "1600/1600 [==============================] - 1s 410us/sample - loss: 0.8064 - sparse_categorical_accuracy: 0.9588 - val_loss: 0.8002 - val_sparse_categorical_accuracy: 0.9675\n",
      "Epoch 45/50\n",
      "1600/1600 [==============================] - 1s 399us/sample - loss: 0.8042 - sparse_categorical_accuracy: 0.9594 - val_loss: 0.7991 - val_sparse_categorical_accuracy: 0.9600\n",
      "Epoch 46/50\n",
      "1600/1600 [==============================] - 1s 393us/sample - loss: 0.8006 - sparse_categorical_accuracy: 0.9600 - val_loss: 0.7973 - val_sparse_categorical_accuracy: 0.9600\n",
      "Epoch 47/50\n",
      "1600/1600 [==============================] - 1s 380us/sample - loss: 0.8003 - sparse_categorical_accuracy: 0.9581 - val_loss: 0.7961 - val_sparse_categorical_accuracy: 0.9675\n",
      "Epoch 48/50\n",
      "1600/1600 [==============================] - 1s 386us/sample - loss: 0.7989 - sparse_categorical_accuracy: 0.9575 - val_loss: 0.7996 - val_sparse_categorical_accuracy: 0.9600\n",
      "Epoch 49/50\n",
      "1600/1600 [==============================] - 1s 406us/sample - loss: 0.7955 - sparse_categorical_accuracy: 0.9575 - val_loss: 0.7965 - val_sparse_categorical_accuracy: 0.9625\n",
      "Epoch 50/50\n",
      "1600/1600 [==============================] - 1s 406us/sample - loss: 0.7955 - sparse_categorical_accuracy: 0.9613 - val_loss: 0.7919 - val_sparse_categorical_accuracy: 0.9675\n"
     ]
    }
   ],
   "source": [
    "from tensorflow.keras.callbacks import EarlyStopping\n",
    "es = EarlyStopping(monitor='val_loss', mode='min', verbose=1, patience=10)\n",
    "model = create_model(num_classes,l2_reg)\n",
    "model.compile(optimizer=optimizers.SGD(learning_rate=lr),loss='sparse_categorical_crossentropy',metrics=['sparse_categorical_accuracy'])\n",
    "history = model.fit(X_train,y_train,batch_size=BATCH_SIZE,epochs=50, verbose=1,validation_data=(X_val,y_val), callbacks=[es])"
   ]
  },
  {
   "cell_type": "code",
   "execution_count": 54,
   "metadata": {
    "scrolled": true
   },
   "outputs": [
    {
     "data": {
      "image/png": "[encoded data removed]",
      "text/plain": [
       "<Figure size 432x288 with 1 Axes>"
      ]
     },
     "metadata": {
      "needs_background": "light"
     },
     "output_type": "display_data"
    },
    {
     "data": {
      "image/png": "[encoded data removed]",
      "text/plain": [
       "<Figure size 432x288 with 1 Axes>"
      ]
     },
     "metadata": {
      "needs_background": "light"
     },
     "output_type": "display_data"
    }
   ],
   "source": [
    "plot_curves(history)"
   ]
  },
  {
   "cell_type": "markdown",
   "metadata": {},
   "source": [
    "#### Get predictions and find confusion matrix to get the metrics.  "
   ]
  },
  {
   "cell_type": "code",
   "execution_count": 55,
   "metadata": {
    "scrolled": true
   },
   "outputs": [
    {
     "name": "stderr",
     "output_type": "stream",
     "text": [
      "C:\\Users\\sarde\\Anaconda3\\envs\\tensorflow\\lib\\importlib\\_bootstrap.py:219: RuntimeWarning: numpy.ufunc size changed, may indicate binary incompatibility. Expected 192 from C header, got 216 from PyObject\n",
      "  return f(*args, **kwds)\n"
     ]
    },
    {
     "data": {
      "text/plain": [
       "(<Figure size 648x648 with 1 Axes>,\n",
       " <matplotlib.axes._subplots.AxesSubplot at 0x2b08d57aac8>)"
      ]
     },
     "execution_count": 55,
     "metadata": {},
     "output_type": "execute_result"
    },
    {
     "data": {
      "image/png": "[encoded data removed]",
      "text/plain": [
       "<Figure size 648x648 with 1 Axes>"
      ]
     },
     "metadata": {
      "needs_background": "light"
     },
     "output_type": "display_data"
    }
   ],
   "source": [
    "from mlxtend.plotting import plot_confusion_matrix\n",
    "from sklearn.metrics import confusion_matrix\n",
    "y_pred = model.predict_classes(X_test)\n",
    "mat = confusion_matrix(y_test,y_pred)\n",
    "plot_confusion_matrix(mat,figsize=(9,9), show_normed=True)"
   ]
  },
  {
   "cell_type": "code",
   "execution_count": 64,
   "metadata": {},
   "outputs": [
    {
     "name": "stdout",
     "output_type": "stream",
     "text": [
      "              precision    recall  f1-score   support\n",
      "\n",
      "           0       0.94      0.89      0.91       106\n",
      "           1       0.88      0.94      0.91        94\n",
      "\n",
      "    accuracy                           0.91       200\n",
      "   macro avg       0.91      0.91      0.91       200\n",
      "weighted avg       0.91      0.91      0.91       200\n",
      "\n",
      "0.91\n"
     ]
    }
   ],
   "source": [
    "from sklearn.metrics import accuracy_score, confusion_matrix, classification_report\n",
    "\n",
    "print(classification_report(y_pred, y_test))\n",
    "print(accuracy_score(y_pred, y_test))"
   ]
  },
  {
   "cell_type": "markdown",
   "metadata": {},
   "source": [
    "#### Try Fine Search with Batch Norm\n",
    "\n",
    "Adding batch norm allows to accelerate training and reduce overfitting. We try a fine search using batch norm to check if we can improve performance. \n",
    "\n"
   ]
  },
  {
   "cell_type": "code",
   "execution_count": 91,
   "metadata": {
    "scrolled": true
   },
   "outputs": [
    {
     "name": "stderr",
     "output_type": "stream",
     "text": [
      "\n",
      "\n",
      "  0%|          | 0/30 [00:00<?, ?it/s]\u001b[A\u001b[A"
     ]
    },
    {
     "name": "stdout",
     "output_type": "stream",
     "text": [
      "Train on 1600 samples, validate on 400 samples\n",
      "Epoch 1/15\n",
      "1600/1600 [==============================] - 7s 4ms/sample - loss: 0.4043 - sparse_categorical_accuracy: 0.8313 - val_loss: 0.6489 - val_sparse_categorical_accuracy: 0.5500\n",
      "Epoch 2/15\n",
      "1600/1600 [==============================] - 1s 610us/sample - loss: 0.2337 - sparse_categorical_accuracy: 0.9237 - val_loss: 0.7403 - val_sparse_categorical_accuracy: 0.5175\n",
      "Epoch 3/15\n",
      "1600/1600 [==============================] - 1s 559us/sample - loss: 0.1931 - sparse_categorical_accuracy: 0.9350 - val_loss: 0.7858 - val_sparse_categorical_accuracy: 0.5250\n",
      "Epoch 4/15\n",
      "1600/1600 [==============================] - 1s 580us/sample - loss: 0.1720 - sparse_categorical_accuracy: 0.9400 - val_loss: 0.7104 - val_sparse_categorical_accuracy: 0.5650\n",
      "Epoch 5/15\n",
      "1600/1600 [==============================] - 1s 516us/sample - loss: 0.1643 - sparse_categorical_accuracy: 0.9431 - val_loss: 0.5548 - val_sparse_categorical_accuracy: 0.6925\n",
      "Epoch 6/15\n",
      "1600/1600 [==============================] - 1s 532us/sample - loss: 0.1541 - sparse_categorical_accuracy: 0.9488 - val_loss: 0.4095 - val_sparse_categorical_accuracy: 0.7925\n",
      "Epoch 7/15\n",
      "1600/1600 [==============================] - 1s 527us/sample - loss: 0.1484 - sparse_categorical_accuracy: 0.9513 - val_loss: 0.2984 - val_sparse_categorical_accuracy: 0.8525\n",
      "Epoch 8/15\n",
      "1600/1600 [==============================] - 1s 523us/sample - loss: 0.1359 - sparse_categorical_accuracy: 0.9500 - val_loss: 0.2301 - val_sparse_categorical_accuracy: 0.9000\n",
      "Epoch 9/15\n",
      "1600/1600 [==============================] - 1s 544us/sample - loss: 0.1375 - sparse_categorical_accuracy: 0.9544 - val_loss: 0.1834 - val_sparse_categorical_accuracy: 0.9325\n",
      "Epoch 10/15\n",
      "1600/1600 [==============================] - 1s 534us/sample - loss: 0.1331 - sparse_categorical_accuracy: 0.9575 - val_loss: 0.1590 - val_sparse_categorical_accuracy: 0.9450\n",
      "Epoch 11/15\n",
      "1600/1600 [==============================] - 1s 534us/sample - loss: 0.1241 - sparse_categorical_accuracy: 0.9619 - val_loss: 0.1457 - val_sparse_categorical_accuracy: 0.9550\n",
      "Epoch 12/15\n",
      "1600/1600 [==============================] - 1s 520us/sample - loss: 0.1177 - sparse_categorical_accuracy: 0.9619 - val_loss: 0.1361 - val_sparse_categorical_accuracy: 0.9575\n",
      "Epoch 13/15\n",
      "1600/1600 [==============================] - 1s 528us/sample - loss: 0.1131 - sparse_categorical_accuracy: 0.9619 - val_loss: 0.1291 - val_sparse_categorical_accuracy: 0.9575\n",
      "Epoch 14/15\n",
      "1600/1600 [==============================] - 1s 528us/sample - loss: 0.1114 - sparse_categorical_accuracy: 0.9669 - val_loss: 0.1258 - val_sparse_categorical_accuracy: 0.9650\n",
      "Epoch 15/15\n",
      "1600/1600 [==============================] - 1s 525us/sample - loss: 0.1130 - sparse_categorical_accuracy: 0.9600 - val_loss: 0.1224 - val_sparse_categorical_accuracy: 0.9650\n"
     ]
    },
    {
     "name": "stderr",
     "output_type": "stream",
     "text": [
      "\n",
      "\n",
      "  3%|▎         | 1/30 [00:29<14:01, 29.00s/it]\u001b[A\u001b[A"
     ]
    },
    {
     "name": "stdout",
     "output_type": "stream",
     "text": [
      "0.965 0.00033873550952943557 4.777451697904967e-06\n",
      "Train on 1600 samples, validate on 400 samples\n",
      "Epoch 1/15\n",
      "1600/1600 [==============================] - 7s 4ms/sample - loss: 0.2096 - sparse_categorical_accuracy: 0.9119 - val_loss: 1.0966 - val_sparse_categorical_accuracy: 0.5075\n",
      "Epoch 2/15\n",
      "1600/1600 [==============================] - 1s 559us/sample - loss: 0.1117 - sparse_categorical_accuracy: 0.9625 - val_loss: 1.6182 - val_sparse_categorical_accuracy: 0.5075\n",
      "Epoch 3/15\n",
      "1600/1600 [==============================] - 1s 529us/sample - loss: 0.0799 - sparse_categorical_accuracy: 0.9775 - val_loss: 1.6353 - val_sparse_categorical_accuracy: 0.5075\n",
      "Epoch 4/15\n",
      "1600/1600 [==============================] - 1s 528us/sample - loss: 0.0780 - sparse_categorical_accuracy: 0.9794 - val_loss: 1.1588 - val_sparse_categorical_accuracy: 0.5175\n",
      "Epoch 5/15\n",
      "1600/1600 [==============================] - 1s 525us/sample - loss: 0.0705 - sparse_categorical_accuracy: 0.9762 - val_loss: 0.6157 - val_sparse_categorical_accuracy: 0.7025\n",
      "Epoch 6/15\n",
      "1600/1600 [==============================] - 1s 529us/sample - loss: 0.0535 - sparse_categorical_accuracy: 0.9881 - val_loss: 0.3289 - val_sparse_categorical_accuracy: 0.8475\n",
      "Epoch 7/15\n",
      "1600/1600 [==============================] - 1s 520us/sample - loss: 0.0471 - sparse_categorical_accuracy: 0.9887 - val_loss: 0.2101 - val_sparse_categorical_accuracy: 0.8925\n",
      "Epoch 8/15\n",
      "1600/1600 [==============================] - 1s 513us/sample - loss: 0.0476 - sparse_categorical_accuracy: 0.9900 - val_loss: 0.1341 - val_sparse_categorical_accuracy: 0.9525\n",
      "Epoch 9/15\n",
      "1600/1600 [==============================] - 1s 528us/sample - loss: 0.0340 - sparse_categorical_accuracy: 0.9937 - val_loss: 0.1113 - val_sparse_categorical_accuracy: 0.9625\n",
      "Epoch 10/15\n",
      "1600/1600 [==============================] - 1s 519us/sample - loss: 0.0419 - sparse_categorical_accuracy: 0.9919 - val_loss: 0.0932 - val_sparse_categorical_accuracy: 0.9650\n",
      "Epoch 11/15\n",
      "1600/1600 [==============================] - 1s 511us/sample - loss: 0.0361 - sparse_categorical_accuracy: 0.9950 - val_loss: 0.0807 - val_sparse_categorical_accuracy: 0.9700\n",
      "Epoch 12/15\n",
      "1600/1600 [==============================] - 1s 528us/sample - loss: 0.0372 - sparse_categorical_accuracy: 0.9925 - val_loss: 0.0782 - val_sparse_categorical_accuracy: 0.9725\n",
      "Epoch 13/15\n",
      "1600/1600 [==============================] - 1s 513us/sample - loss: 0.0354 - sparse_categorical_accuracy: 0.9919 - val_loss: 0.0763 - val_sparse_categorical_accuracy: 0.9700\n",
      "Epoch 14/15\n",
      "1600/1600 [==============================] - 1s 512us/sample - loss: 0.0278 - sparse_categorical_accuracy: 0.9944 - val_loss: 0.0791 - val_sparse_categorical_accuracy: 0.9700\n",
      "Epoch 15/15\n",
      "1600/1600 [==============================] - 1s 512us/sample - loss: 0.0265 - sparse_categorical_accuracy: 0.9937 - val_loss: 0.0841 - val_sparse_categorical_accuracy: 0.9750\n"
     ]
    },
    {
     "name": "stderr",
     "output_type": "stream",
     "text": [
      "\n",
      "\n",
      "  7%|▋         | 2/30 [00:57<13:31, 28.99s/it]\u001b[A\u001b[A"
     ]
    },
    {
     "name": "stdout",
     "output_type": "stream",
     "text": [
      "0.975 0.00744720243416951 3.818592530780928e-06\n",
      "Train on 1600 samples, validate on 400 samples\n",
      "Epoch 1/15\n",
      "1600/1600 [==============================] - 7s 5ms/sample - loss: 8.6336 - sparse_categorical_accuracy: 0.9087 - val_loss: 9.1418 - val_sparse_categorical_accuracy: 0.5075\n",
      "Epoch 2/15\n",
      "1600/1600 [==============================] - 1s 554us/sample - loss: 8.4738 - sparse_categorical_accuracy: 0.9506 - val_loss: 9.4218 - val_sparse_categorical_accuracy: 0.5075\n",
      "Epoch 3/15\n",
      "1600/1600 [==============================] - 1s 546us/sample - loss: 8.3765 - sparse_categorical_accuracy: 0.9631 - val_loss: 9.3439 - val_sparse_categorical_accuracy: 0.5125\n",
      "Epoch 4/15\n",
      "1600/1600 [==============================] - 1s 532us/sample - loss: 8.2981 - sparse_categorical_accuracy: 0.9675 - val_loss: 9.0597 - val_sparse_categorical_accuracy: 0.5500\n",
      "Epoch 5/15\n",
      "1600/1600 [==============================] - 1s 528us/sample - loss: 8.2170 - sparse_categorical_accuracy: 0.9744 - val_loss: 8.6394 - val_sparse_categorical_accuracy: 0.7275\n",
      "Epoch 6/15\n",
      "1600/1600 [==============================] - 1s 514us/sample - loss: 8.1500 - sparse_categorical_accuracy: 0.9725 - val_loss: 8.3446 - val_sparse_categorical_accuracy: 0.8575\n",
      "Epoch 7/15\n",
      "1600/1600 [==============================] - 1s 529us/sample - loss: 8.0811 - sparse_categorical_accuracy: 0.9787 - val_loss: 8.1733 - val_sparse_categorical_accuracy: 0.9125\n",
      "Epoch 8/15\n",
      "1600/1600 [==============================] - 1s 512us/sample - loss: 8.0140 - sparse_categorical_accuracy: 0.9806 - val_loss: 8.0676 - val_sparse_categorical_accuracy: 0.9350\n",
      "Epoch 9/15\n",
      "1600/1600 [==============================] - 1s 507us/sample - loss: 7.9462 - sparse_categorical_accuracy: 0.9787 - val_loss: 7.9683 - val_sparse_categorical_accuracy: 0.9575\n",
      "Epoch 10/15\n",
      "1600/1600 [==============================] - 1s 505us/sample - loss: 7.8818 - sparse_categorical_accuracy: 0.9800 - val_loss: 7.8962 - val_sparse_categorical_accuracy: 0.9575\n",
      "Epoch 11/15\n",
      "1600/1600 [==============================] - 1s 511us/sample - loss: 7.8193 - sparse_categorical_accuracy: 0.9831 - val_loss: 7.8298 - val_sparse_categorical_accuracy: 0.9625\n",
      "Epoch 12/15\n",
      "1600/1600 [==============================] - 1s 509us/sample - loss: 7.7575 - sparse_categorical_accuracy: 0.9844 - val_loss: 7.7720 - val_sparse_categorical_accuracy: 0.9600\n",
      "Epoch 13/15\n",
      "1600/1600 [==============================] - 1s 506us/sample - loss: 7.6967 - sparse_categorical_accuracy: 0.9825 - val_loss: 7.7111 - val_sparse_categorical_accuracy: 0.9600\n",
      "Epoch 14/15\n",
      "1600/1600 [==============================] - 1s 506us/sample - loss: 7.6307 - sparse_categorical_accuracy: 0.9856 - val_loss: 7.6502 - val_sparse_categorical_accuracy: 0.9600\n",
      "Epoch 15/15\n",
      "1600/1600 [==============================] - 1s 525us/sample - loss: 7.5719 - sparse_categorical_accuracy: 0.9831 - val_loss: 7.5873 - val_sparse_categorical_accuracy: 0.9625\n"
     ]
    },
    {
     "name": "stderr",
     "output_type": "stream",
     "text": [
      "\n",
      "\n",
      " 10%|█         | 3/30 [01:27<13:03, 29.03s/it]\u001b[A\u001b[A"
     ]
    },
    {
     "name": "stdout",
     "output_type": "stream",
     "text": [
      "0.9625 0.001762093344904466 0.02222380595410831\n",
      "Train on 1600 samples, validate on 400 samples\n",
      "Epoch 1/15\n",
      "1600/1600 [==============================] - 7s 4ms/sample - loss: 0.3986 - sparse_categorical_accuracy: 0.8625 - val_loss: 0.7296 - val_sparse_categorical_accuracy: 0.5200\n",
      "Epoch 2/15\n",
      "1600/1600 [==============================] - 1s 545us/sample - loss: 0.2439 - sparse_categorical_accuracy: 0.9431 - val_loss: 0.8311 - val_sparse_categorical_accuracy: 0.5100\n",
      "Epoch 3/15\n",
      "1600/1600 [==============================] - 1s 527us/sample - loss: 0.2197 - sparse_categorical_accuracy: 0.9494 - val_loss: 0.9102 - val_sparse_categorical_accuracy: 0.5125\n",
      "Epoch 4/15\n",
      "1600/1600 [==============================] - 1s 517us/sample - loss: 0.2020 - sparse_categorical_accuracy: 0.9513 - val_loss: 0.8556 - val_sparse_categorical_accuracy: 0.5225\n",
      "Epoch 5/15\n",
      "1600/1600 [==============================] - 1s 519us/sample - loss: 0.1799 - sparse_categorical_accuracy: 0.9594 - val_loss: 0.7042 - val_sparse_categorical_accuracy: 0.6225\n",
      "Epoch 6/15\n",
      "1600/1600 [==============================] - 1s 508us/sample - loss: 0.1796 - sparse_categorical_accuracy: 0.9606 - val_loss: 0.5337 - val_sparse_categorical_accuracy: 0.7550\n",
      "Epoch 7/15\n",
      "1600/1600 [==============================] - 1s 511us/sample - loss: 0.1739 - sparse_categorical_accuracy: 0.9644 - val_loss: 0.3886 - val_sparse_categorical_accuracy: 0.8375\n",
      "Epoch 8/15\n",
      "1600/1600 [==============================] - 1s 510us/sample - loss: 0.1687 - sparse_categorical_accuracy: 0.9625 - val_loss: 0.2857 - val_sparse_categorical_accuracy: 0.8950\n",
      "Epoch 9/15\n",
      "1600/1600 [==============================] - 1s 514us/sample - loss: 0.1640 - sparse_categorical_accuracy: 0.9644 - val_loss: 0.2319 - val_sparse_categorical_accuracy: 0.9200\n",
      "Epoch 10/15\n",
      "1600/1600 [==============================] - 1s 513us/sample - loss: 0.1573 - sparse_categorical_accuracy: 0.9706 - val_loss: 0.2047 - val_sparse_categorical_accuracy: 0.9475\n",
      "Epoch 11/15\n",
      "1600/1600 [==============================] - 1s 517us/sample - loss: 0.1659 - sparse_categorical_accuracy: 0.9669 - val_loss: 0.1879 - val_sparse_categorical_accuracy: 0.9475\n",
      "Epoch 12/15\n",
      "1600/1600 [==============================] - 1s 516us/sample - loss: 0.1566 - sparse_categorical_accuracy: 0.9675 - val_loss: 0.1790 - val_sparse_categorical_accuracy: 0.9500\n",
      "Epoch 13/15\n",
      "1600/1600 [==============================] - 1s 513us/sample - loss: 0.1434 - sparse_categorical_accuracy: 0.9731 - val_loss: 0.1742 - val_sparse_categorical_accuracy: 0.9500\n",
      "Epoch 14/15\n",
      "1600/1600 [==============================] - 1s 514us/sample - loss: 0.1551 - sparse_categorical_accuracy: 0.9694 - val_loss: 0.1708 - val_sparse_categorical_accuracy: 0.9550\n",
      "Epoch 15/15\n",
      "1600/1600 [==============================] - 1s 515us/sample - loss: 0.1456 - sparse_categorical_accuracy: 0.9756 - val_loss: 0.1676 - val_sparse_categorical_accuracy: 0.9550\n"
     ]
    },
    {
     "name": "stderr",
     "output_type": "stream",
     "text": [
      "\n",
      "\n",
      " 13%|█▎        | 4/30 [01:55<12:32, 28.92s/it]\u001b[A\u001b[A"
     ]
    },
    {
     "name": "stdout",
     "output_type": "stream",
     "text": [
      "0.955 0.0006720527096075657 0.00015451694984585924\n",
      "Train on 1600 samples, validate on 400 samples\n",
      "Epoch 1/15\n",
      "1600/1600 [==============================] - 7s 5ms/sample - loss: 0.2201 - sparse_categorical_accuracy: 0.9119 - val_loss: 0.7552 - val_sparse_categorical_accuracy: 0.5075\n",
      "Epoch 2/15\n",
      "1600/1600 [==============================] - 1s 545us/sample - loss: 0.1127 - sparse_categorical_accuracy: 0.9625 - val_loss: 1.1349 - val_sparse_categorical_accuracy: 0.5075\n",
      "Epoch 3/15\n",
      "1600/1600 [==============================] - 1s 539us/sample - loss: 0.0815 - sparse_categorical_accuracy: 0.9781 - val_loss: 0.9560 - val_sparse_categorical_accuracy: 0.5350\n",
      "Epoch 4/15\n",
      "1600/1600 [==============================] - 1s 532us/sample - loss: 0.0804 - sparse_categorical_accuracy: 0.9719 - val_loss: 0.6405 - val_sparse_categorical_accuracy: 0.6800\n",
      "Epoch 5/15\n",
      "1600/1600 [==============================] - 1s 586us/sample - loss: 0.0622 - sparse_categorical_accuracy: 0.9862 - val_loss: 0.4255 - val_sparse_categorical_accuracy: 0.8100\n",
      "Epoch 6/15\n",
      "1600/1600 [==============================] - 1s 555us/sample - loss: 0.0541 - sparse_categorical_accuracy: 0.9831 - val_loss: 0.2372 - val_sparse_categorical_accuracy: 0.8975\n",
      "Epoch 7/15\n",
      "1600/1600 [==============================] - 1s 529us/sample - loss: 0.0425 - sparse_categorical_accuracy: 0.9912 - val_loss: 0.1452 - val_sparse_categorical_accuracy: 0.9500\n",
      "Epoch 8/15\n",
      "1600/1600 [==============================] - 1s 542us/sample - loss: 0.0355 - sparse_categorical_accuracy: 0.9925 - val_loss: 0.1093 - val_sparse_categorical_accuracy: 0.9600\n",
      "Epoch 9/15\n",
      "1600/1600 [==============================] - 1s 549us/sample - loss: 0.0415 - sparse_categorical_accuracy: 0.9931 - val_loss: 0.0858 - val_sparse_categorical_accuracy: 0.9625\n",
      "Epoch 10/15\n",
      "1600/1600 [==============================] - 1s 514us/sample - loss: 0.0324 - sparse_categorical_accuracy: 0.9950 - val_loss: 0.0898 - val_sparse_categorical_accuracy: 0.9700\n",
      "Epoch 11/15\n",
      "1600/1600 [==============================] - 1s 531us/sample - loss: 0.0313 - sparse_categorical_accuracy: 0.9944 - val_loss: 0.0819 - val_sparse_categorical_accuracy: 0.9700\n",
      "Epoch 12/15\n",
      "1600/1600 [==============================] - 1s 514us/sample - loss: 0.0280 - sparse_categorical_accuracy: 0.9950 - val_loss: 0.0877 - val_sparse_categorical_accuracy: 0.9700\n",
      "Epoch 13/15\n",
      "1600/1600 [==============================] - ETA: 0s - loss: 0.0277 - sparse_categorical_accuracy: 0.995 - 1s 518us/sample - loss: 0.0276 - sparse_categorical_accuracy: 0.9956 - val_loss: 0.0758 - val_sparse_categorical_accuracy: 0.9725\n",
      "Epoch 14/15\n",
      "1600/1600 [==============================] - 1s 525us/sample - loss: 0.0261 - sparse_categorical_accuracy: 0.9950 - val_loss: 0.0780 - val_sparse_categorical_accuracy: 0.9675\n",
      "Epoch 15/15\n",
      "1600/1600 [==============================] - 1s 519us/sample - loss: 0.0305 - sparse_categorical_accuracy: 0.9937 - val_loss: 0.0806 - val_sparse_categorical_accuracy: 0.9700\n"
     ]
    },
    {
     "name": "stderr",
     "output_type": "stream",
     "text": [
      "\n",
      "\n",
      " 17%|█▋        | 5/30 [02:25<12:09, 29.20s/it]\u001b[A\u001b[A"
     ]
    },
    {
     "name": "stdout",
     "output_type": "stream",
     "text": [
      "0.97 0.007386198291184139 4.503886557875093e-06\n",
      "Train on 1600 samples, validate on 400 samples\n",
      "Epoch 1/15\n",
      "1600/1600 [==============================] - 7s 5ms/sample - loss: 0.3566 - sparse_categorical_accuracy: 0.8838 - val_loss: 0.7294 - val_sparse_categorical_accuracy: 0.5350\n",
      "Epoch 2/15\n",
      "1600/1600 [==============================] - 1s 553us/sample - loss: 0.2434 - sparse_categorical_accuracy: 0.9475 - val_loss: 0.9718 - val_sparse_categorical_accuracy: 0.5125\n",
      "Epoch 3/15\n",
      "1600/1600 [==============================] - 1s 530us/sample - loss: 0.2252 - sparse_categorical_accuracy: 0.9550 - val_loss: 0.9221 - val_sparse_categorical_accuracy: 0.5350\n",
      "Epoch 4/15\n",
      "1600/1600 [==============================] - 1s 533us/sample - loss: 0.2025 - sparse_categorical_accuracy: 0.9625 - val_loss: 0.7771 - val_sparse_categorical_accuracy: 0.6350\n",
      "Epoch 5/15\n",
      "1600/1600 [==============================] - 1s 537us/sample - loss: 0.1919 - sparse_categorical_accuracy: 0.9656 - val_loss: 0.5667 - val_sparse_categorical_accuracy: 0.7575\n",
      "Epoch 6/15\n",
      "1600/1600 [==============================] - 1s 551us/sample - loss: 0.1880 - sparse_categorical_accuracy: 0.9650 - val_loss: 0.3952 - val_sparse_categorical_accuracy: 0.8650\n",
      "Epoch 7/15\n",
      "1600/1600 [==============================] - 1s 532us/sample - loss: 0.1776 - sparse_categorical_accuracy: 0.9737 - val_loss: 0.2881 - val_sparse_categorical_accuracy: 0.9050\n",
      "Epoch 8/15\n",
      "1600/1600 [==============================] - 1s 526us/sample - loss: 0.1694 - sparse_categorical_accuracy: 0.9731 - val_loss: 0.2462 - val_sparse_categorical_accuracy: 0.9275\n",
      "Epoch 9/15\n",
      "1600/1600 [==============================] - 1s 534us/sample - loss: 0.1640 - sparse_categorical_accuracy: 0.9756 - val_loss: 0.2223 - val_sparse_categorical_accuracy: 0.9475\n",
      "Epoch 10/15\n",
      "1600/1600 [==============================] - 1s 532us/sample - loss: 0.1673 - sparse_categorical_accuracy: 0.9769 - val_loss: 0.2031 - val_sparse_categorical_accuracy: 0.9600\n",
      "Epoch 11/15\n",
      "1600/1600 [==============================] - 1s 533us/sample - loss: 0.1674 - sparse_categorical_accuracy: 0.9744 - val_loss: 0.1900 - val_sparse_categorical_accuracy: 0.9650\n",
      "Epoch 12/15\n",
      "1600/1600 [==============================] - 1s 540us/sample - loss: 0.1638 - sparse_categorical_accuracy: 0.9775 - val_loss: 0.1831 - val_sparse_categorical_accuracy: 0.9725\n",
      "Epoch 13/15\n",
      "1600/1600 [==============================] - 1s 534us/sample - loss: 0.1549 - sparse_categorical_accuracy: 0.9825 - val_loss: 0.1819 - val_sparse_categorical_accuracy: 0.9700\n",
      "Epoch 14/15\n",
      "1600/1600 [==============================] - 1s 520us/sample - loss: 0.1507 - sparse_categorical_accuracy: 0.9825 - val_loss: 0.1785 - val_sparse_categorical_accuracy: 0.9725\n",
      "Epoch 15/15\n",
      "1600/1600 [==============================] - 1s 515us/sample - loss: 0.1507 - sparse_categorical_accuracy: 0.9825 - val_loss: 0.1780 - val_sparse_categorical_accuracy: 0.9700\n"
     ]
    },
    {
     "name": "stderr",
     "output_type": "stream",
     "text": [
      "\n",
      "\n",
      " 20%|██        | 6/30 [02:55<11:44, 29.33s/it]\u001b[A\u001b[A"
     ]
    },
    {
     "name": "stdout",
     "output_type": "stream",
     "text": [
      "0.97 0.0016011322382188382 0.00023284888247193707\n",
      "Train on 1600 samples, validate on 400 samples\n",
      "Epoch 1/15\n",
      "1600/1600 [==============================] - 8s 5ms/sample - loss: 0.7654 - sparse_categorical_accuracy: 0.9231 - val_loss: 1.2399 - val_sparse_categorical_accuracy: 0.5250\n",
      "Epoch 2/15\n",
      "1600/1600 [==============================] - 1s 582us/sample - loss: 0.6862 - sparse_categorical_accuracy: 0.9544 - val_loss: 1.5127 - val_sparse_categorical_accuracy: 0.5075\n",
      "Epoch 3/15\n",
      "1600/1600 [==============================] - 1s 544us/sample - loss: 0.6623 - sparse_categorical_accuracy: 0.9638 - val_loss: 1.6019 - val_sparse_categorical_accuracy: 0.5100\n",
      "Epoch 4/15\n",
      "1600/1600 [==============================] - 1s 539us/sample - loss: 0.6473 - sparse_categorical_accuracy: 0.9744 - val_loss: 1.3570 - val_sparse_categorical_accuracy: 0.5825\n",
      "Epoch 5/15\n",
      "1600/1600 [==============================] - 1s 553us/sample - loss: 0.6375 - sparse_categorical_accuracy: 0.9750 - val_loss: 1.0963 - val_sparse_categorical_accuracy: 0.7350\n",
      "Epoch 6/15\n",
      "1600/1600 [==============================] - 1s 573us/sample - loss: 0.6295 - sparse_categorical_accuracy: 0.9825 - val_loss: 0.9136 - val_sparse_categorical_accuracy: 0.8375\n",
      "Epoch 7/15\n",
      "1600/1600 [==============================] - 1s 551us/sample - loss: 0.6228 - sparse_categorical_accuracy: 0.9800 - val_loss: 0.7688 - val_sparse_categorical_accuracy: 0.9025\n",
      "Epoch 8/15\n",
      "1600/1600 [==============================] - 1s 516us/sample - loss: 0.6187 - sparse_categorical_accuracy: 0.9819 - val_loss: 0.7070 - val_sparse_categorical_accuracy: 0.9400\n",
      "Epoch 9/15\n",
      "1600/1600 [==============================] - 1s 523us/sample - loss: 0.6228 - sparse_categorical_accuracy: 0.9800 - val_loss: 0.6922 - val_sparse_categorical_accuracy: 0.9550\n",
      "Epoch 10/15\n",
      "1600/1600 [==============================] - 1s 540us/sample - loss: 0.6193 - sparse_categorical_accuracy: 0.9850 - val_loss: 0.6656 - val_sparse_categorical_accuracy: 0.9600\n",
      "Epoch 11/15\n",
      "1600/1600 [==============================] - 1s 525us/sample - loss: 0.6130 - sparse_categorical_accuracy: 0.9844 - val_loss: 0.6557 - val_sparse_categorical_accuracy: 0.9625\n",
      "Epoch 12/15\n",
      "1600/1600 [==============================] - 1s 530us/sample - loss: 0.6033 - sparse_categorical_accuracy: 0.9862 - val_loss: 0.6528 - val_sparse_categorical_accuracy: 0.9675\n",
      "Epoch 13/15\n",
      "1600/1600 [==============================] - 1s 523us/sample - loss: 0.6002 - sparse_categorical_accuracy: 0.9912 - val_loss: 0.6526 - val_sparse_categorical_accuracy: 0.9675\n",
      "Epoch 14/15\n",
      "1600/1600 [==============================] - 1s 522us/sample - loss: 0.5933 - sparse_categorical_accuracy: 0.9881 - val_loss: 0.6478 - val_sparse_categorical_accuracy: 0.9650\n",
      "Epoch 15/15\n",
      "1600/1600 [==============================] - 1s 525us/sample - loss: 0.5946 - sparse_categorical_accuracy: 0.9900 - val_loss: 0.6433 - val_sparse_categorical_accuracy: 0.9700\n"
     ]
    },
    {
     "name": "stderr",
     "output_type": "stream",
     "text": [
      "\n",
      "\n",
      " 23%|██▎       | 7/30 [03:26<11:28, 29.95s/it]\u001b[A\u001b[A"
     ]
    },
    {
     "name": "stdout",
     "output_type": "stream",
     "text": [
      "0.97 0.0032792150635137063 0.0014741842697323327\n",
      "Train on 1600 samples, validate on 400 samples\n",
      "Epoch 1/15\n",
      "1600/1600 [==============================] - 8s 5ms/sample - loss: 0.2213 - sparse_categorical_accuracy: 0.9212 - val_loss: 0.8445 - val_sparse_categorical_accuracy: 0.5075\n",
      "Epoch 2/15\n",
      "1600/1600 [==============================] - 1s 573us/sample - loss: 0.1363 - sparse_categorical_accuracy: 0.9631 - val_loss: 1.1666 - val_sparse_categorical_accuracy: 0.5100\n",
      "Epoch 3/15\n",
      "1600/1600 [==============================] - 1s 556us/sample - loss: 0.1191 - sparse_categorical_accuracy: 0.9706 - val_loss: 1.1917 - val_sparse_categorical_accuracy: 0.5125\n",
      "Epoch 4/15\n",
      "1600/1600 [==============================] - 1s 553us/sample - loss: 0.1053 - sparse_categorical_accuracy: 0.9756 - val_loss: 0.9020 - val_sparse_categorical_accuracy: 0.5600\n",
      "Epoch 5/15\n",
      "1600/1600 [==============================] - 1s 540us/sample - loss: 0.1003 - sparse_categorical_accuracy: 0.9812 - val_loss: 0.4733 - val_sparse_categorical_accuracy: 0.7775\n",
      "Epoch 6/15\n",
      "1600/1600 [==============================] - 1s 534us/sample - loss: 0.0834 - sparse_categorical_accuracy: 0.9844 - val_loss: 0.2741 - val_sparse_categorical_accuracy: 0.8875\n",
      "Epoch 7/15\n",
      "1600/1600 [==============================] - 1s 559us/sample - loss: 0.0840 - sparse_categorical_accuracy: 0.9844 - val_loss: 0.1932 - val_sparse_categorical_accuracy: 0.9275\n",
      "Epoch 8/15\n",
      "1600/1600 [==============================] - 1s 545us/sample - loss: 0.0794 - sparse_categorical_accuracy: 0.9862 - val_loss: 0.1536 - val_sparse_categorical_accuracy: 0.9450\n",
      "Epoch 9/15\n",
      "1600/1600 [==============================] - 1s 537us/sample - loss: 0.0676 - sparse_categorical_accuracy: 0.9937 - val_loss: 0.1281 - val_sparse_categorical_accuracy: 0.9675\n",
      "Epoch 10/15\n",
      "1600/1600 [==============================] - 1s 544us/sample - loss: 0.0656 - sparse_categorical_accuracy: 0.9925 - val_loss: 0.1248 - val_sparse_categorical_accuracy: 0.9700\n",
      "Epoch 11/15\n",
      "1600/1600 [==============================] - 1s 542us/sample - loss: 0.0739 - sparse_categorical_accuracy: 0.9862 - val_loss: 0.1390 - val_sparse_categorical_accuracy: 0.9550\n",
      "Epoch 12/15\n",
      "1600/1600 [==============================] - 1s 541us/sample - loss: 0.0666 - sparse_categorical_accuracy: 0.9912 - val_loss: 0.1108 - val_sparse_categorical_accuracy: 0.9700\n",
      "Epoch 13/15\n",
      "1600/1600 [==============================] - 1s 535us/sample - loss: 0.0587 - sparse_categorical_accuracy: 0.9944 - val_loss: 0.1116 - val_sparse_categorical_accuracy: 0.9700\n",
      "Epoch 14/15\n",
      "1600/1600 [==============================] - 1s 540us/sample - loss: 0.0586 - sparse_categorical_accuracy: 0.9937 - val_loss: 0.1121 - val_sparse_categorical_accuracy: 0.9675\n",
      "Epoch 15/15\n",
      "1600/1600 [==============================] - 1s 547us/sample - loss: 0.0633 - sparse_categorical_accuracy: 0.9912 - val_loss: 0.1157 - val_sparse_categorical_accuracy: 0.9650\n"
     ]
    },
    {
     "name": "stderr",
     "output_type": "stream",
     "text": [
      "\n",
      "\n",
      " 27%|██▋       | 8/30 [03:58<11:10, 30.47s/it]\u001b[A\u001b[A"
     ]
    },
    {
     "name": "stdout",
     "output_type": "stream",
     "text": [
      "0.965 0.0059306840984324006 7.06452730982574e-05\n",
      "Train on 1600 samples, validate on 400 samples\n",
      "Epoch 1/15\n",
      "1600/1600 [==============================] - 8s 5ms/sample - loss: 0.3743 - sparse_categorical_accuracy: 0.9181 - val_loss: 1.0104 - val_sparse_categorical_accuracy: 0.5075\n",
      "Epoch 2/15\n",
      "1600/1600 [==============================] - 1s 572us/sample - loss: 0.2808 - sparse_categorical_accuracy: 0.9631 - val_loss: 1.4131 - val_sparse_categorical_accuracy: 0.5075\n",
      "Epoch 3/15\n",
      "1600/1600 [==============================] - 1s 542us/sample - loss: 0.2507 - sparse_categorical_accuracy: 0.9800 - val_loss: 1.2576 - val_sparse_categorical_accuracy: 0.5250\n",
      "Epoch 4/15\n",
      "1600/1600 [==============================] - 1s 539us/sample - loss: 0.2459 - sparse_categorical_accuracy: 0.9819 - val_loss: 0.9211 - val_sparse_categorical_accuracy: 0.6550\n",
      "Epoch 5/15\n",
      "1600/1600 [==============================] - 1s 542us/sample - loss: 0.2249 - sparse_categorical_accuracy: 0.9900 - val_loss: 0.6060 - val_sparse_categorical_accuracy: 0.8225\n",
      "Epoch 6/15\n",
      "1600/1600 [==============================] - 1s 535us/sample - loss: 0.2244 - sparse_categorical_accuracy: 0.9887 - val_loss: 0.3926 - val_sparse_categorical_accuracy: 0.8975\n",
      "Epoch 7/15\n",
      "1600/1600 [==============================] - 1s 538us/sample - loss: 0.2275 - sparse_categorical_accuracy: 0.9881 - val_loss: 0.3499 - val_sparse_categorical_accuracy: 0.9150\n",
      "Epoch 8/15\n",
      "1600/1600 [==============================] - 1s 564us/sample - loss: 0.2203 - sparse_categorical_accuracy: 0.9881 - val_loss: 0.2938 - val_sparse_categorical_accuracy: 0.9475\n",
      "Epoch 9/15\n",
      "1600/1600 [==============================] - 1s 552us/sample - loss: 0.2093 - sparse_categorical_accuracy: 0.9944 - val_loss: 0.2816 - val_sparse_categorical_accuracy: 0.9575\n",
      "Epoch 10/15\n",
      "1600/1600 [==============================] - 1s 546us/sample - loss: 0.2084 - sparse_categorical_accuracy: 0.9925 - val_loss: 0.2870 - val_sparse_categorical_accuracy: 0.9575\n",
      "Epoch 11/15\n",
      "1600/1600 [==============================] - 1s 565us/sample - loss: 0.2087 - sparse_categorical_accuracy: 0.9925 - val_loss: 0.2837 - val_sparse_categorical_accuracy: 0.9650\n",
      "Epoch 12/15\n",
      "1600/1600 [==============================] - 1s 522us/sample - loss: 0.2001 - sparse_categorical_accuracy: 0.9969 - val_loss: 0.2711 - val_sparse_categorical_accuracy: 0.9700\n",
      "Epoch 13/15\n",
      "1600/1600 [==============================] - 1s 525us/sample - loss: 0.1986 - sparse_categorical_accuracy: 0.9981 - val_loss: 0.2670 - val_sparse_categorical_accuracy: 0.9750\n",
      "Epoch 14/15\n",
      "1600/1600 [==============================] - 1s 530us/sample - loss: 0.1966 - sparse_categorical_accuracy: 0.9975 - val_loss: 0.2679 - val_sparse_categorical_accuracy: 0.9675\n",
      "Epoch 15/15\n",
      "1600/1600 [==============================] - 1s 533us/sample - loss: 0.1966 - sparse_categorical_accuracy: 0.9975 - val_loss: 0.2673 - val_sparse_categorical_accuracy: 0.9700\n"
     ]
    },
    {
     "name": "stderr",
     "output_type": "stream",
     "text": [
      "\n",
      "\n",
      " 30%|███       | 9/30 [04:29<10:43, 30.65s/it]\u001b[A\u001b[A"
     ]
    },
    {
     "name": "stdout",
     "output_type": "stream",
     "text": [
      "0.97 0.00801402248060675 0.00047308275038140344\n",
      "Train on 1600 samples, validate on 400 samples\n",
      "Epoch 1/15\n",
      "1600/1600 [==============================] - 8s 5ms/sample - loss: 1.1188 - sparse_categorical_accuracy: 0.6075 - val_loss: 1.0699 - val_sparse_categorical_accuracy: 0.5350\n",
      "Epoch 2/15\n",
      "1600/1600 [==============================] - 1s 576us/sample - loss: 0.8290 - sparse_categorical_accuracy: 0.8006 - val_loss: 1.1626 - val_sparse_categorical_accuracy: 0.5150\n",
      "Epoch 3/15\n",
      "1600/1600 [==============================] - 1s 574us/sample - loss: 0.7447 - sparse_categorical_accuracy: 0.8569 - val_loss: 1.2183 - val_sparse_categorical_accuracy: 0.5175\n",
      "Epoch 4/15\n",
      "1600/1600 [==============================] - 1s 569us/sample - loss: 0.7097 - sparse_categorical_accuracy: 0.8725 - val_loss: 1.1673 - val_sparse_categorical_accuracy: 0.5475\n",
      "Epoch 5/15\n",
      "1600/1600 [==============================] - 1s 559us/sample - loss: 0.6776 - sparse_categorical_accuracy: 0.8894 - val_loss: 1.0527 - val_sparse_categorical_accuracy: 0.6400\n",
      "Epoch 6/15\n",
      "1600/1600 [==============================] - 1s 567us/sample - loss: 0.6593 - sparse_categorical_accuracy: 0.9000 - val_loss: 0.9288 - val_sparse_categorical_accuracy: 0.7425\n",
      "Epoch 7/15\n",
      "1600/1600 [==============================] - 1s 586us/sample - loss: 0.6457 - sparse_categorical_accuracy: 0.9087 - val_loss: 0.8249 - val_sparse_categorical_accuracy: 0.8000\n",
      "Epoch 8/15\n",
      "1600/1600 [==============================] - 1s 591us/sample - loss: 0.6350 - sparse_categorical_accuracy: 0.9094 - val_loss: 0.7556 - val_sparse_categorical_accuracy: 0.8425\n",
      "Epoch 9/15\n",
      "1600/1600 [==============================] - 1s 570us/sample - loss: 0.6255 - sparse_categorical_accuracy: 0.9156 - val_loss: 0.7027 - val_sparse_categorical_accuracy: 0.8725\n",
      "Epoch 10/15\n",
      "1600/1600 [==============================] - 1s 530us/sample - loss: 0.6146 - sparse_categorical_accuracy: 0.9219 - val_loss: 0.6674 - val_sparse_categorical_accuracy: 0.8850\n",
      "Epoch 11/15\n",
      "1600/1600 [==============================] - 1s 525us/sample - loss: 0.6064 - sparse_categorical_accuracy: 0.9237 - val_loss: 0.6429 - val_sparse_categorical_accuracy: 0.8925\n",
      "Epoch 12/15\n",
      "1600/1600 [==============================] - 1s 537us/sample - loss: 0.5977 - sparse_categorical_accuracy: 0.9275 - val_loss: 0.6254 - val_sparse_categorical_accuracy: 0.9025\n",
      "Epoch 13/15\n",
      "1600/1600 [==============================] - 1s 543us/sample - loss: 0.5954 - sparse_categorical_accuracy: 0.9300 - val_loss: 0.6128 - val_sparse_categorical_accuracy: 0.9050\n",
      "Epoch 14/15\n",
      "1600/1600 [==============================] - 1s 547us/sample - loss: 0.5923 - sparse_categorical_accuracy: 0.9269 - val_loss: 0.6040 - val_sparse_categorical_accuracy: 0.9075\n",
      "Epoch 15/15\n",
      "1600/1600 [==============================] - 1s 544us/sample - loss: 0.5763 - sparse_categorical_accuracy: 0.9438 - val_loss: 0.5977 - val_sparse_categorical_accuracy: 0.9125\n"
     ]
    },
    {
     "name": "stderr",
     "output_type": "stream",
     "text": [
      "\n",
      "\n",
      " 33%|███▎      | 10/30 [05:01<10:23, 31.17s/it]\u001b[A\u001b[A"
     ]
    },
    {
     "name": "stdout",
     "output_type": "stream",
     "text": [
      "0.9125 0.00012329168227791348 0.0010588151636835668\n",
      "Train on 1600 samples, validate on 400 samples\n",
      "Epoch 1/15\n",
      "1600/1600 [==============================] - 8s 5ms/sample - loss: 23.0011 - sparse_categorical_accuracy: 0.8888 - val_loss: 23.1468 - val_sparse_categorical_accuracy: 0.5075\n",
      "Epoch 2/15\n",
      "1600/1600 [==============================] - 1s 565us/sample - loss: 22.1755 - sparse_categorical_accuracy: 0.9563 - val_loss: 22.7819 - val_sparse_categorical_accuracy: 0.5075\n",
      "Epoch 3/15\n",
      "1600/1600 [==============================] - 1s 556us/sample - loss: 21.4670 - sparse_categorical_accuracy: 0.9594 - val_loss: 22.1749 - val_sparse_categorical_accuracy: 0.5100\n",
      "Epoch 4/15\n",
      "1600/1600 [==============================] - 1s 569us/sample - loss: 20.8003 - sparse_categorical_accuracy: 0.9650 - val_loss: 21.2763 - val_sparse_categorical_accuracy: 0.5475\n",
      "Epoch 5/15\n",
      "1600/1600 [==============================] - 1s 571us/sample - loss: 20.1432 - sparse_categorical_accuracy: 0.9725 - val_loss: 20.3009 - val_sparse_categorical_accuracy: 0.7200\n",
      "Epoch 6/15\n",
      "1600/1600 [==============================] - 1s 570us/sample - loss: 19.5131 - sparse_categorical_accuracy: 0.9737 - val_loss: 19.5646 - val_sparse_categorical_accuracy: 0.7975\n",
      "Epoch 7/15\n",
      "1600/1600 [==============================] - 1s 531us/sample - loss: 18.8987 - sparse_categorical_accuracy: 0.9812 - val_loss: 18.8151 - val_sparse_categorical_accuracy: 0.8775\n",
      "Epoch 8/15\n",
      "1600/1600 [==============================] - 1s 550us/sample - loss: 18.3115 - sparse_categorical_accuracy: 0.9837 - val_loss: 18.1200 - val_sparse_categorical_accuracy: 0.9275\n",
      "Epoch 9/15\n",
      "1600/1600 [==============================] - 1s 543us/sample - loss: 17.7441 - sparse_categorical_accuracy: 0.9844 - val_loss: 17.5331 - val_sparse_categorical_accuracy: 0.9475\n",
      "Epoch 10/15\n",
      "1600/1600 [==============================] - 1s 543us/sample - loss: 17.1905 - sparse_categorical_accuracy: 0.9875 - val_loss: 16.9894 - val_sparse_categorical_accuracy: 0.9450\n",
      "Epoch 11/15\n",
      "1600/1600 [==============================] - 1s 558us/sample - loss: 16.6570 - sparse_categorical_accuracy: 0.9850 - val_loss: 16.4650 - val_sparse_categorical_accuracy: 0.9475\n",
      "Epoch 12/15\n",
      "1600/1600 [==============================] - 1s 549us/sample - loss: 16.1477 - sparse_categorical_accuracy: 0.9837 - val_loss: 15.9350 - val_sparse_categorical_accuracy: 0.9600\n",
      "Epoch 13/15\n",
      "1600/1600 [==============================] - 1s 567us/sample - loss: 15.6370 - sparse_categorical_accuracy: 0.9887 - val_loss: 15.4451 - val_sparse_categorical_accuracy: 0.9650\n",
      "Epoch 14/15\n",
      "1600/1600 [==============================] - 1s 553us/sample - loss: 15.1537 - sparse_categorical_accuracy: 0.9869 - val_loss: 14.9727 - val_sparse_categorical_accuracy: 0.9575\n",
      "Epoch 15/15\n",
      "1600/1600 [==============================] - 1s 548us/sample - loss: 14.6844 - sparse_categorical_accuracy: 0.9912 - val_loss: 14.4934 - val_sparse_categorical_accuracy: 0.9725\n"
     ]
    },
    {
     "name": "stderr",
     "output_type": "stream",
     "text": [
      "\n",
      "\n",
      " 37%|███▋      | 11/30 [05:33<09:54, 31.30s/it]\u001b[A\u001b[A"
     ]
    },
    {
     "name": "stdout",
     "output_type": "stream",
     "text": [
      "0.9725 0.002595425536095227 0.06063302870501905\n",
      "Train on 1600 samples, validate on 400 samples\n",
      "Epoch 1/15\n",
      "1600/1600 [==============================] - 8s 5ms/sample - loss: 1.2896 - sparse_categorical_accuracy: 0.6681 - val_loss: 1.2963 - val_sparse_categorical_accuracy: 0.6375\n",
      "Epoch 2/15\n",
      "1600/1600 [==============================] - 1s 578us/sample - loss: 0.9501 - sparse_categorical_accuracy: 0.8969 - val_loss: 1.2739 - val_sparse_categorical_accuracy: 0.6125\n",
      "Epoch 3/15\n",
      "1600/1600 [==============================] - 1s 557us/sample - loss: 0.8754 - sparse_categorical_accuracy: 0.9250 - val_loss: 1.2619 - val_sparse_categorical_accuracy: 0.5875\n",
      "Epoch 4/15\n",
      "1600/1600 [==============================] - 1s 558us/sample - loss: 0.8611 - sparse_categorical_accuracy: 0.9319 - val_loss: 1.1948 - val_sparse_categorical_accuracy: 0.6475\n",
      "Epoch 5/15\n",
      "1600/1600 [==============================] - 1s 555us/sample - loss: 0.8401 - sparse_categorical_accuracy: 0.9350 - val_loss: 1.0829 - val_sparse_categorical_accuracy: 0.7875\n",
      "Epoch 6/15\n",
      "1600/1600 [==============================] - 1s 569us/sample - loss: 0.8354 - sparse_categorical_accuracy: 0.9394 - val_loss: 0.9757 - val_sparse_categorical_accuracy: 0.8650\n",
      "Epoch 7/15\n",
      "1600/1600 [==============================] - 1s 553us/sample - loss: 0.8084 - sparse_categorical_accuracy: 0.9506 - val_loss: 0.8970 - val_sparse_categorical_accuracy: 0.8950\n",
      "Epoch 8/15\n",
      "1600/1600 [==============================] - 1s 563us/sample - loss: 0.8160 - sparse_categorical_accuracy: 0.9450 - val_loss: 0.8469 - val_sparse_categorical_accuracy: 0.9250\n",
      "Epoch 9/15\n",
      "1600/1600 [==============================] - 1s 560us/sample - loss: 0.7966 - sparse_categorical_accuracy: 0.9525 - val_loss: 0.8193 - val_sparse_categorical_accuracy: 0.9375\n",
      "Epoch 10/15\n",
      "1600/1600 [==============================] - 1s 566us/sample - loss: 0.7884 - sparse_categorical_accuracy: 0.9581 - val_loss: 0.8045 - val_sparse_categorical_accuracy: 0.9425\n",
      "Epoch 11/15\n",
      "1600/1600 [==============================] - 1s 560us/sample - loss: 0.7965 - sparse_categorical_accuracy: 0.9550 - val_loss: 0.7952 - val_sparse_categorical_accuracy: 0.9475\n",
      "Epoch 12/15\n",
      "1600/1600 [==============================] - 1s 558us/sample - loss: 0.7870 - sparse_categorical_accuracy: 0.9631 - val_loss: 0.7894 - val_sparse_categorical_accuracy: 0.9525\n",
      "Epoch 13/15\n",
      "1600/1600 [==============================] - 1s 560us/sample - loss: 0.7810 - sparse_categorical_accuracy: 0.9594 - val_loss: 0.7855 - val_sparse_categorical_accuracy: 0.9550\n",
      "Epoch 14/15\n",
      "1600/1600 [==============================] - 1s 544us/sample - loss: 0.7829 - sparse_categorical_accuracy: 0.9569 - val_loss: 0.7823 - val_sparse_categorical_accuracy: 0.9575\n",
      "Epoch 15/15\n",
      "1600/1600 [==============================] - 1s 555us/sample - loss: 0.7834 - sparse_categorical_accuracy: 0.9575 - val_loss: 0.7804 - val_sparse_categorical_accuracy: 0.9575\n"
     ]
    },
    {
     "name": "stderr",
     "output_type": "stream",
     "text": [
      "\n",
      "\n",
      " 40%|████      | 12/30 [06:05<09:27, 31.52s/it]\u001b[A\u001b[A"
     ]
    },
    {
     "name": "stdout",
     "output_type": "stream",
     "text": [
      "0.9575 0.00023089552740953115 0.0017200637935700705\n",
      "Train on 1600 samples, validate on 400 samples\n",
      "Epoch 1/15\n",
      "1600/1600 [==============================] - 8s 5ms/sample - loss: 8.6918 - sparse_categorical_accuracy: 0.8313 - val_loss: 8.9643 - val_sparse_categorical_accuracy: 0.5400\n",
      "Epoch 2/15\n",
      "1600/1600 [==============================] - 1s 582us/sample - loss: 8.5183 - sparse_categorical_accuracy: 0.9137 - val_loss: 9.0796 - val_sparse_categorical_accuracy: 0.5150\n",
      "Epoch 3/15\n",
      "1600/1600 [==============================] - 1s 563us/sample - loss: 8.4717 - sparse_categorical_accuracy: 0.9344 - val_loss: 9.1335 - val_sparse_categorical_accuracy: 0.5150\n",
      "Epoch 4/15\n",
      "1600/1600 [==============================] - 1s 557us/sample - loss: 8.4361 - sparse_categorical_accuracy: 0.9350 - val_loss: 9.0367 - val_sparse_categorical_accuracy: 0.5575\n",
      "Epoch 5/15\n",
      "1600/1600 [==============================] - 1s 561us/sample - loss: 8.4082 - sparse_categorical_accuracy: 0.9388 - val_loss: 8.8630 - val_sparse_categorical_accuracy: 0.6475\n",
      "Epoch 6/15\n",
      "1600/1600 [==============================] - 1s 554us/sample - loss: 8.3721 - sparse_categorical_accuracy: 0.9475 - val_loss: 8.6903 - val_sparse_categorical_accuracy: 0.7425\n",
      "Epoch 7/15\n",
      "1600/1600 [==============================] - 1s 550us/sample - loss: 8.3526 - sparse_categorical_accuracy: 0.9469 - val_loss: 8.5476 - val_sparse_categorical_accuracy: 0.8150\n",
      "Epoch 8/15\n",
      "1600/1600 [==============================] - 1s 576us/sample - loss: 8.3359 - sparse_categorical_accuracy: 0.9488 - val_loss: 8.4455 - val_sparse_categorical_accuracy: 0.8800\n",
      "Epoch 9/15\n",
      "1600/1600 [==============================] - 1s 559us/sample - loss: 8.3117 - sparse_categorical_accuracy: 0.9563 - val_loss: 8.3705 - val_sparse_categorical_accuracy: 0.9125\n",
      "Epoch 10/15\n",
      "1600/1600 [==============================] - 1s 540us/sample - loss: 8.2941 - sparse_categorical_accuracy: 0.9563 - val_loss: 8.3275 - val_sparse_categorical_accuracy: 0.9275\n",
      "Epoch 11/15\n",
      "1600/1600 [==============================] - 1s 555us/sample - loss: 8.2772 - sparse_categorical_accuracy: 0.9581 - val_loss: 8.2929 - val_sparse_categorical_accuracy: 0.9425\n",
      "Epoch 12/15\n",
      "1600/1600 [==============================] - 1s 562us/sample - loss: 8.2601 - sparse_categorical_accuracy: 0.9600 - val_loss: 8.2655 - val_sparse_categorical_accuracy: 0.9475\n",
      "Epoch 13/15\n",
      "1600/1600 [==============================] - 1s 559us/sample - loss: 8.2463 - sparse_categorical_accuracy: 0.9650 - val_loss: 8.2400 - val_sparse_categorical_accuracy: 0.9575\n",
      "Epoch 14/15\n",
      "1600/1600 [==============================] - 1s 551us/sample - loss: 8.2136 - sparse_categorical_accuracy: 0.9663 - val_loss: 8.2199 - val_sparse_categorical_accuracy: 0.9600\n",
      "Epoch 15/15\n",
      "1600/1600 [==============================] - 1s 547us/sample - loss: 8.1985 - sparse_categorical_accuracy: 0.9681 - val_loss: 8.2050 - val_sparse_categorical_accuracy: 0.9625\n"
     ]
    },
    {
     "name": "stderr",
     "output_type": "stream",
     "text": [
      "\n",
      "\n",
      " 43%|████▎     | 13/30 [06:37<08:59, 31.73s/it]\u001b[A\u001b[A"
     ]
    },
    {
     "name": "stdout",
     "output_type": "stream",
     "text": [
      "0.9625 0.0003985610132428364 0.02182495687064198\n",
      "Train on 1600 samples, validate on 400 samples\n",
      "Epoch 1/15\n",
      "1600/1600 [==============================] - 8s 5ms/sample - loss: 0.2704 - sparse_categorical_accuracy: 0.9006 - val_loss: 0.7369 - val_sparse_categorical_accuracy: 0.5075\n",
      "Epoch 2/15\n",
      "1600/1600 [==============================] - 1s 577us/sample - loss: 0.1570 - sparse_categorical_accuracy: 0.9444 - val_loss: 0.9833 - val_sparse_categorical_accuracy: 0.5075\n",
      "Epoch 3/15\n",
      "1600/1600 [==============================] - 1s 563us/sample - loss: 0.1395 - sparse_categorical_accuracy: 0.9519 - val_loss: 1.0316 - val_sparse_categorical_accuracy: 0.5075\n",
      "Epoch 4/15\n",
      "1600/1600 [==============================] - 1s 551us/sample - loss: 0.1135 - sparse_categorical_accuracy: 0.9613 - val_loss: 0.8243 - val_sparse_categorical_accuracy: 0.5350\n",
      "Epoch 5/15\n",
      "1600/1600 [==============================] - 1s 550us/sample - loss: 0.1230 - sparse_categorical_accuracy: 0.9563 - val_loss: 0.5986 - val_sparse_categorical_accuracy: 0.6475\n",
      "Epoch 6/15\n",
      "1600/1600 [==============================] - 1s 553us/sample - loss: 0.1081 - sparse_categorical_accuracy: 0.9631 - val_loss: 0.4050 - val_sparse_categorical_accuracy: 0.7900\n",
      "Epoch 7/15\n",
      "1600/1600 [==============================] - 1s 550us/sample - loss: 0.0867 - sparse_categorical_accuracy: 0.9762 - val_loss: 0.2345 - val_sparse_categorical_accuracy: 0.8900\n",
      "Epoch 8/15\n",
      "1600/1600 [==============================] - 1s 567us/sample - loss: 0.0931 - sparse_categorical_accuracy: 0.9712 - val_loss: 0.1708 - val_sparse_categorical_accuracy: 0.9350\n",
      "Epoch 9/15\n",
      "1600/1600 [==============================] - 1s 555us/sample - loss: 0.0895 - sparse_categorical_accuracy: 0.9712 - val_loss: 0.1309 - val_sparse_categorical_accuracy: 0.9475\n",
      "Epoch 10/15\n",
      "1600/1600 [==============================] - 1s 553us/sample - loss: 0.0805 - sparse_categorical_accuracy: 0.9744 - val_loss: 0.1222 - val_sparse_categorical_accuracy: 0.9575\n",
      "Epoch 11/15\n",
      "1600/1600 [==============================] - 1s 550us/sample - loss: 0.0795 - sparse_categorical_accuracy: 0.9787 - val_loss: 0.1067 - val_sparse_categorical_accuracy: 0.9600\n",
      "Epoch 12/15\n",
      "1600/1600 [==============================] - 1s 550us/sample - loss: 0.0749 - sparse_categorical_accuracy: 0.9800 - val_loss: 0.1025 - val_sparse_categorical_accuracy: 0.9675\n",
      "Epoch 13/15\n",
      "1600/1600 [==============================] - 1s 553us/sample - loss: 0.0716 - sparse_categorical_accuracy: 0.9825 - val_loss: 0.0960 - val_sparse_categorical_accuracy: 0.9700\n",
      "Epoch 14/15\n",
      "1600/1600 [==============================] - 1s 556us/sample - loss: 0.0747 - sparse_categorical_accuracy: 0.9762 - val_loss: 0.0943 - val_sparse_categorical_accuracy: 0.9725\n",
      "Epoch 15/15\n",
      "1600/1600 [==============================] - 1s 553us/sample - loss: 0.0628 - sparse_categorical_accuracy: 0.9837 - val_loss: 0.0927 - val_sparse_categorical_accuracy: 0.9725\n"
     ]
    },
    {
     "name": "stderr",
     "output_type": "stream",
     "text": [
      "\n",
      "\n",
      " 47%|████▋     | 14/30 [07:09<08:30, 31.89s/it]\u001b[A\u001b[A"
     ]
    },
    {
     "name": "stdout",
     "output_type": "stream",
     "text": [
      "0.9725 0.0015277223474092555 1.9198659825491413e-06\n",
      "Train on 1600 samples, validate on 400 samples\n",
      "Epoch 1/15\n",
      "1600/1600 [==============================] - 8s 5ms/sample - loss: 0.3453 - sparse_categorical_accuracy: 0.8662 - val_loss: 0.7575 - val_sparse_categorical_accuracy: 0.5125\n",
      "Epoch 2/15\n",
      "1600/1600 [==============================] - 1s 602us/sample - loss: 0.2152 - sparse_categorical_accuracy: 0.9413 - val_loss: 1.0242 - val_sparse_categorical_accuracy: 0.5075\n",
      "Epoch 3/15\n",
      "1600/1600 [==============================] - 1s 577us/sample - loss: 0.1907 - sparse_categorical_accuracy: 0.9519 - val_loss: 0.9882 - val_sparse_categorical_accuracy: 0.5200\n",
      "Epoch 4/15\n",
      "1600/1600 [==============================] - 1s 561us/sample - loss: 0.1605 - sparse_categorical_accuracy: 0.9663 - val_loss: 0.7384 - val_sparse_categorical_accuracy: 0.6325\n",
      "Epoch 5/15\n",
      "1600/1600 [==============================] - 1s 572us/sample - loss: 0.1525 - sparse_categorical_accuracy: 0.9663 - val_loss: 0.4729 - val_sparse_categorical_accuracy: 0.7750\n",
      "Epoch 6/15\n",
      "1600/1600 [==============================] - 1s 564us/sample - loss: 0.1462 - sparse_categorical_accuracy: 0.9675 - val_loss: 0.2876 - val_sparse_categorical_accuracy: 0.8850\n",
      "Epoch 7/15\n",
      "1600/1600 [==============================] - 1s 593us/sample - loss: 0.1387 - sparse_categorical_accuracy: 0.9750 - val_loss: 0.2118 - val_sparse_categorical_accuracy: 0.9350\n",
      "Epoch 8/15\n",
      "1600/1600 [==============================] - 1s 572us/sample - loss: 0.1364 - sparse_categorical_accuracy: 0.9756 - val_loss: 0.1759 - val_sparse_categorical_accuracy: 0.9475\n",
      "Epoch 9/15\n",
      "1600/1600 [==============================] - 1s 606us/sample - loss: 0.1262 - sparse_categorical_accuracy: 0.9756 - val_loss: 0.1538 - val_sparse_categorical_accuracy: 0.9650\n",
      "Epoch 10/15\n",
      "1600/1600 [==============================] - 1s 554us/sample - loss: 0.1236 - sparse_categorical_accuracy: 0.9794 - val_loss: 0.1468 - val_sparse_categorical_accuracy: 0.9700\n",
      "Epoch 11/15\n",
      "1600/1600 [==============================] - 1s 550us/sample - loss: 0.1119 - sparse_categorical_accuracy: 0.9856 - val_loss: 0.1391 - val_sparse_categorical_accuracy: 0.9700\n",
      "Epoch 12/15\n",
      "1600/1600 [==============================] - 1s 564us/sample - loss: 0.1192 - sparse_categorical_accuracy: 0.9806 - val_loss: 0.1340 - val_sparse_categorical_accuracy: 0.9725\n",
      "Epoch 13/15\n",
      "1600/1600 [==============================] - 1s 570us/sample - loss: 0.1151 - sparse_categorical_accuracy: 0.9794 - val_loss: 0.1335 - val_sparse_categorical_accuracy: 0.9675\n",
      "Epoch 14/15\n",
      "1600/1600 [==============================] - 1s 561us/sample - loss: 0.1101 - sparse_categorical_accuracy: 0.9844 - val_loss: 0.1312 - val_sparse_categorical_accuracy: 0.9700\n",
      "Epoch 15/15\n",
      "1600/1600 [==============================] - 1s 568us/sample - loss: 0.1041 - sparse_categorical_accuracy: 0.9875 - val_loss: 0.1303 - val_sparse_categorical_accuracy: 0.9725\n"
     ]
    },
    {
     "name": "stderr",
     "output_type": "stream",
     "text": [
      "\n",
      "\n",
      " 50%|█████     | 15/30 [07:42<08:01, 32.13s/it]\u001b[A\u001b[A"
     ]
    },
    {
     "name": "stdout",
     "output_type": "stream",
     "text": [
      "0.9725 0.001759366905922034 0.00012824415731024368\n",
      "Train on 1600 samples, validate on 400 samples\n",
      "Epoch 1/15\n",
      "1600/1600 [==============================] - 8s 5ms/sample - loss: 22.6916 - sparse_categorical_accuracy: 0.8031 - val_loss: 22.9238 - val_sparse_categorical_accuracy: 0.5100\n",
      "Epoch 2/15\n",
      "1600/1600 [==============================] - 1s 592us/sample - loss: 22.3570 - sparse_categorical_accuracy: 0.8950 - val_loss: 22.9869 - val_sparse_categorical_accuracy: 0.5075\n",
      "Epoch 3/15\n",
      "1600/1600 [==============================] - 1s 572us/sample - loss: 22.1419 - sparse_categorical_accuracy: 0.9294 - val_loss: 22.9134 - val_sparse_categorical_accuracy: 0.5100\n",
      "Epoch 4/15\n",
      "1600/1600 [==============================] - 1s 562us/sample - loss: 21.9372 - sparse_categorical_accuracy: 0.9362 - val_loss: 22.6164 - val_sparse_categorical_accuracy: 0.5225\n",
      "Epoch 5/15\n",
      "1600/1600 [==============================] - 1s 558us/sample - loss: 21.7585 - sparse_categorical_accuracy: 0.9425 - val_loss: 22.1890 - val_sparse_categorical_accuracy: 0.6200\n",
      "Epoch 6/15\n",
      "1600/1600 [==============================] - 1s 580us/sample - loss: 21.5742 - sparse_categorical_accuracy: 0.9488 - val_loss: 21.7986 - val_sparse_categorical_accuracy: 0.7675\n",
      "Epoch 7/15\n",
      "1600/1600 [==============================] - 1s 566us/sample - loss: 21.3903 - sparse_categorical_accuracy: 0.9544 - val_loss: 21.4745 - val_sparse_categorical_accuracy: 0.8725\n",
      "Epoch 8/15\n",
      "1600/1600 [==============================] - 1s 559us/sample - loss: 21.2131 - sparse_categorical_accuracy: 0.9638 - val_loss: 21.2414 - val_sparse_categorical_accuracy: 0.8950\n",
      "Epoch 9/15\n",
      "1600/1600 [==============================] - 1s 566us/sample - loss: 21.0545 - sparse_categorical_accuracy: 0.9556 - val_loss: 21.0267 - val_sparse_categorical_accuracy: 0.9200\n",
      "Epoch 10/15\n",
      "1600/1600 [==============================] - 1s 561us/sample - loss: 20.8757 - sparse_categorical_accuracy: 0.9625 - val_loss: 20.8343 - val_sparse_categorical_accuracy: 0.9450\n",
      "Epoch 11/15\n",
      "1600/1600 [==============================] - 1s 559us/sample - loss: 20.7061 - sparse_categorical_accuracy: 0.9644 - val_loss: 20.6644 - val_sparse_categorical_accuracy: 0.9525\n",
      "Epoch 12/15\n",
      "1600/1600 [==============================] - 1s 558us/sample - loss: 20.5448 - sparse_categorical_accuracy: 0.9700 - val_loss: 20.4846 - val_sparse_categorical_accuracy: 0.9625\n",
      "Epoch 13/15\n",
      "1600/1600 [==============================] - 1s 562us/sample - loss: 20.3736 - sparse_categorical_accuracy: 0.9737 - val_loss: 20.3249 - val_sparse_categorical_accuracy: 0.9575\n",
      "Epoch 14/15\n",
      "1600/1600 [==============================] - 1s 560us/sample - loss: 20.2092 - sparse_categorical_accuracy: 0.9712 - val_loss: 20.1605 - val_sparse_categorical_accuracy: 0.9650\n",
      "Epoch 15/15\n",
      "1600/1600 [==============================] - 1s 563us/sample - loss: 20.0530 - sparse_categorical_accuracy: 0.9725 - val_loss: 20.0011 - val_sparse_categorical_accuracy: 0.9650\n"
     ]
    },
    {
     "name": "stderr",
     "output_type": "stream",
     "text": [
      "\n",
      "\n",
      " 53%|█████▎    | 16/30 [08:15<07:32, 32.34s/it]\u001b[A\u001b[A"
     ]
    },
    {
     "name": "stdout",
     "output_type": "stream",
     "text": [
      "0.965 0.0006665290763922695 0.05890593655403384\n",
      "Train on 1600 samples, validate on 400 samples\n",
      "Epoch 1/15\n",
      "1600/1600 [==============================] - 8s 5ms/sample - loss: 0.2904 - sparse_categorical_accuracy: 0.9144 - val_loss: 0.9189 - val_sparse_categorical_accuracy: 0.5075\n",
      "Epoch 2/15\n",
      "1600/1600 [==============================] - 1s 591us/sample - loss: 0.2005 - sparse_categorical_accuracy: 0.9531 - val_loss: 1.1543 - val_sparse_categorical_accuracy: 0.5075\n",
      "Epoch 3/15\n",
      "1600/1600 [==============================] - 1s 566us/sample - loss: 0.1673 - sparse_categorical_accuracy: 0.9688 - val_loss: 1.0886 - val_sparse_categorical_accuracy: 0.5125\n",
      "Epoch 4/15\n",
      "1600/1600 [==============================] - 1s 556us/sample - loss: 0.1609 - sparse_categorical_accuracy: 0.9700 - val_loss: 0.8648 - val_sparse_categorical_accuracy: 0.5750\n",
      "Epoch 5/15\n",
      "1600/1600 [==============================] - 1s 566us/sample - loss: 0.1490 - sparse_categorical_accuracy: 0.9787 - val_loss: 0.6239 - val_sparse_categorical_accuracy: 0.7000\n",
      "Epoch 6/15\n",
      "1600/1600 [==============================] - 1s 574us/sample - loss: 0.1413 - sparse_categorical_accuracy: 0.9825 - val_loss: 0.4405 - val_sparse_categorical_accuracy: 0.8125\n",
      "Epoch 7/15\n",
      "1600/1600 [==============================] - 1s 559us/sample - loss: 0.1371 - sparse_categorical_accuracy: 0.9819 - val_loss: 0.2910 - val_sparse_categorical_accuracy: 0.8950\n",
      "Epoch 8/15\n",
      "1600/1600 [==============================] - 1s 560us/sample - loss: 0.1306 - sparse_categorical_accuracy: 0.9837 - val_loss: 0.2136 - val_sparse_categorical_accuracy: 0.9375\n",
      "Epoch 9/15\n",
      "1600/1600 [==============================] - 1s 557us/sample - loss: 0.1285 - sparse_categorical_accuracy: 0.9856 - val_loss: 0.1811 - val_sparse_categorical_accuracy: 0.9550\n",
      "Epoch 10/15\n",
      "1600/1600 [==============================] - 1s 574us/sample - loss: 0.1219 - sparse_categorical_accuracy: 0.9887 - val_loss: 0.1585 - val_sparse_categorical_accuracy: 0.9675\n",
      "Epoch 11/15\n",
      "1600/1600 [==============================] - 1s 573us/sample - loss: 0.1200 - sparse_categorical_accuracy: 0.9919 - val_loss: 0.1489 - val_sparse_categorical_accuracy: 0.9725\n",
      "Epoch 12/15\n",
      "1600/1600 [==============================] - 1s 561us/sample - loss: 0.1260 - sparse_categorical_accuracy: 0.9825 - val_loss: 0.1556 - val_sparse_categorical_accuracy: 0.9700\n",
      "Epoch 13/15\n",
      "1600/1600 [==============================] - 1s 559us/sample - loss: 0.1135 - sparse_categorical_accuracy: 0.9906 - val_loss: 0.1476 - val_sparse_categorical_accuracy: 0.9775\n",
      "Epoch 14/15\n",
      "1600/1600 [==============================] - 1s 556us/sample - loss: 0.1180 - sparse_categorical_accuracy: 0.9900 - val_loss: 0.1503 - val_sparse_categorical_accuracy: 0.9750\n",
      "Epoch 15/15\n",
      "1600/1600 [==============================] - 1s 565us/sample - loss: 0.1115 - sparse_categorical_accuracy: 0.9925 - val_loss: 0.1489 - val_sparse_categorical_accuracy: 0.9750\n"
     ]
    },
    {
     "name": "stderr",
     "output_type": "stream",
     "text": [
      "\n",
      "\n",
      " 57%|█████▋    | 17/30 [08:47<07:01, 32.40s/it]\u001b[A\u001b[A"
     ]
    },
    {
     "name": "stdout",
     "output_type": "stream",
     "text": [
      "0.975 0.0038804625439820897 0.0001857896763070955\n",
      "Train on 1600 samples, validate on 400 samples\n",
      "Epoch 1/15\n",
      "1600/1600 [==============================] - 8s 5ms/sample - loss: 1.3437 - sparse_categorical_accuracy: 0.8650 - val_loss: 1.8416 - val_sparse_categorical_accuracy: 0.5075\n",
      "Epoch 2/15\n",
      "1600/1600 [==============================] - 1s 600us/sample - loss: 1.2003 - sparse_categorical_accuracy: 0.9331 - val_loss: 2.1815 - val_sparse_categorical_accuracy: 0.5075\n",
      "Epoch 3/15\n",
      "1600/1600 [==============================] - 1s 570us/sample - loss: 1.1621 - sparse_categorical_accuracy: 0.9525 - val_loss: 2.1692 - val_sparse_categorical_accuracy: 0.5100\n",
      "Epoch 4/15\n",
      "1600/1600 [==============================] - 1s 588us/sample - loss: 1.1380 - sparse_categorical_accuracy: 0.9594 - val_loss: 1.9625 - val_sparse_categorical_accuracy: 0.5325\n",
      "Epoch 5/15\n",
      "1600/1600 [==============================] - 1s 571us/sample - loss: 1.1262 - sparse_categorical_accuracy: 0.9600 - val_loss: 1.6358 - val_sparse_categorical_accuracy: 0.6600\n",
      "Epoch 6/15\n",
      "1600/1600 [==============================] - 1s 572us/sample - loss: 1.1191 - sparse_categorical_accuracy: 0.9638 - val_loss: 1.3438 - val_sparse_categorical_accuracy: 0.8350\n",
      "Epoch 7/15\n",
      "1600/1600 [==============================] - 1s 576us/sample - loss: 1.1122 - sparse_categorical_accuracy: 0.9663 - val_loss: 1.2240 - val_sparse_categorical_accuracy: 0.9000\n",
      "Epoch 8/15\n",
      "1600/1600 [==============================] - 1s 556us/sample - loss: 1.1182 - sparse_categorical_accuracy: 0.9663 - val_loss: 1.1660 - val_sparse_categorical_accuracy: 0.9475\n",
      "Epoch 9/15\n",
      "1600/1600 [==============================] - 1s 563us/sample - loss: 1.0908 - sparse_categorical_accuracy: 0.9781 - val_loss: 1.1325 - val_sparse_categorical_accuracy: 0.9625\n",
      "Epoch 10/15\n",
      "1600/1600 [==============================] - 1s 570us/sample - loss: 1.0836 - sparse_categorical_accuracy: 0.9794 - val_loss: 1.1200 - val_sparse_categorical_accuracy: 0.9650\n",
      "Epoch 11/15\n",
      "1600/1600 [==============================] - 1s 574us/sample - loss: 1.0899 - sparse_categorical_accuracy: 0.9744 - val_loss: 1.1001 - val_sparse_categorical_accuracy: 0.9725\n",
      "Epoch 12/15\n",
      "1600/1600 [==============================] - 1s 573us/sample - loss: 1.0758 - sparse_categorical_accuracy: 0.9812 - val_loss: 1.0971 - val_sparse_categorical_accuracy: 0.9700\n",
      "Epoch 13/15\n",
      "1600/1600 [==============================] - 1s 563us/sample - loss: 1.0782 - sparse_categorical_accuracy: 0.9762 - val_loss: 1.0895 - val_sparse_categorical_accuracy: 0.9725\n",
      "Epoch 14/15\n",
      "1600/1600 [==============================] - 1s 570us/sample - loss: 1.0725 - sparse_categorical_accuracy: 0.9837 - val_loss: 1.0897 - val_sparse_categorical_accuracy: 0.9700\n",
      "Epoch 15/15\n",
      "1600/1600 [==============================] - 1s 560us/sample - loss: 1.0617 - sparse_categorical_accuracy: 0.9881 - val_loss: 1.0872 - val_sparse_categorical_accuracy: 0.9725\n"
     ]
    },
    {
     "name": "stderr",
     "output_type": "stream",
     "text": [
      "\n",
      "\n",
      " 60%|██████    | 18/30 [09:21<06:31, 32.64s/it]\u001b[A\u001b[A"
     ]
    },
    {
     "name": "stdout",
     "output_type": "stream",
     "text": [
      "0.9725 0.0017329606492475034 0.002687330398870056\n",
      "Train on 1600 samples, validate on 400 samples\n",
      "Epoch 1/15\n",
      "1600/1600 [==============================] - 9s 5ms/sample - loss: 0.1794 - sparse_categorical_accuracy: 0.9331 - val_loss: 0.8788 - val_sparse_categorical_accuracy: 0.5075\n",
      "Epoch 2/15\n",
      "1600/1600 [==============================] - 1s 618us/sample - loss: 0.1026 - sparse_categorical_accuracy: 0.9663 - val_loss: 1.2177 - val_sparse_categorical_accuracy: 0.5075\n",
      "Epoch 3/15\n",
      "1600/1600 [==============================] - 1s 585us/sample - loss: 0.0752 - sparse_categorical_accuracy: 0.9800 - val_loss: 1.3060 - val_sparse_categorical_accuracy: 0.5075\n",
      "Epoch 4/15\n",
      "1600/1600 [==============================] - 1s 591us/sample - loss: 0.0758 - sparse_categorical_accuracy: 0.9775 - val_loss: 0.9901 - val_sparse_categorical_accuracy: 0.5450\n",
      "Epoch 5/15\n",
      "1600/1600 [==============================] - 1s 602us/sample - loss: 0.0563 - sparse_categorical_accuracy: 0.9875 - val_loss: 0.6073 - val_sparse_categorical_accuracy: 0.7000\n",
      "Epoch 6/15\n",
      "1600/1600 [==============================] - 1s 590us/sample - loss: 0.0538 - sparse_categorical_accuracy: 0.9850 - val_loss: 0.3665 - val_sparse_categorical_accuracy: 0.8450\n",
      "Epoch 7/15\n",
      "1600/1600 [==============================] - 1s 615us/sample - loss: 0.0464 - sparse_categorical_accuracy: 0.9894 - val_loss: 0.2164 - val_sparse_categorical_accuracy: 0.8975\n",
      "Epoch 8/15\n",
      "1600/1600 [==============================] - 1s 552us/sample - loss: 0.0468 - sparse_categorical_accuracy: 0.9881 - val_loss: 0.1502 - val_sparse_categorical_accuracy: 0.9300\n",
      "Epoch 9/15\n",
      "1600/1600 [==============================] - 1s 560us/sample - loss: 0.0402 - sparse_categorical_accuracy: 0.9937 - val_loss: 0.0917 - val_sparse_categorical_accuracy: 0.9625\n",
      "Epoch 10/15\n",
      "1600/1600 [==============================] - 1s 566us/sample - loss: 0.0355 - sparse_categorical_accuracy: 0.9944 - val_loss: 0.0842 - val_sparse_categorical_accuracy: 0.9625\n",
      "Epoch 11/15\n",
      "1600/1600 [==============================] - 1s 593us/sample - loss: 0.0326 - sparse_categorical_accuracy: 0.9937 - val_loss: 0.0885 - val_sparse_categorical_accuracy: 0.9675\n",
      "Epoch 12/15\n",
      "1600/1600 [==============================] - 1s 589us/sample - loss: 0.0290 - sparse_categorical_accuracy: 0.9956 - val_loss: 0.0734 - val_sparse_categorical_accuracy: 0.9725\n",
      "Epoch 13/15\n",
      "1600/1600 [==============================] - 1s 572us/sample - loss: 0.0318 - sparse_categorical_accuracy: 0.9937 - val_loss: 0.0701 - val_sparse_categorical_accuracy: 0.9750\n",
      "Epoch 14/15\n",
      "1600/1600 [==============================] - 1s 567us/sample - loss: 0.0248 - sparse_categorical_accuracy: 0.9962 - val_loss: 0.0733 - val_sparse_categorical_accuracy: 0.9725\n",
      "Epoch 15/15\n",
      "1600/1600 [==============================] - 1s 573us/sample - loss: 0.0342 - sparse_categorical_accuracy: 0.9881 - val_loss: 0.0728 - val_sparse_categorical_accuracy: 0.9775\n"
     ]
    },
    {
     "name": "stderr",
     "output_type": "stream",
     "text": [
      "\n",
      "\n",
      " 63%|██████▎   | 19/30 [09:55<06:04, 33.12s/it]\u001b[A\u001b[A"
     ]
    },
    {
     "name": "stdout",
     "output_type": "stream",
     "text": [
      "0.9775 0.005728520739073729 4.160207718379816e-06\n",
      "Train on 1600 samples, validate on 400 samples\n",
      "Epoch 1/15\n",
      "1600/1600 [==============================] - 9s 6ms/sample - loss: 0.7601 - sparse_categorical_accuracy: 0.6119 - val_loss: 0.8173 - val_sparse_categorical_accuracy: 0.6775\n",
      "Epoch 2/15\n",
      "1600/1600 [==============================] - 1s 607us/sample - loss: 0.5832 - sparse_categorical_accuracy: 0.8150 - val_loss: 0.7795 - val_sparse_categorical_accuracy: 0.7325\n",
      "Epoch 3/15\n",
      "1600/1600 [==============================] - 1s 586us/sample - loss: 0.4840 - sparse_categorical_accuracy: 0.8975 - val_loss: 0.7255 - val_sparse_categorical_accuracy: 0.7375\n",
      "Epoch 4/15\n",
      "1600/1600 [==============================] - 1s 581us/sample - loss: 0.4453 - sparse_categorical_accuracy: 0.9119 - val_loss: 0.6504 - val_sparse_categorical_accuracy: 0.7900\n",
      "Epoch 5/15\n",
      "1600/1600 [==============================] - 1s 585us/sample - loss: 0.4157 - sparse_categorical_accuracy: 0.9206 - val_loss: 0.5627 - val_sparse_categorical_accuracy: 0.8750\n",
      "Epoch 6/15\n",
      "1600/1600 [==============================] - 1s 571us/sample - loss: 0.3966 - sparse_categorical_accuracy: 0.9256 - val_loss: 0.4830 - val_sparse_categorical_accuracy: 0.9050\n",
      "Epoch 7/15\n",
      "1600/1600 [==============================] - 1s 600us/sample - loss: 0.3772 - sparse_categorical_accuracy: 0.9375 - val_loss: 0.4238 - val_sparse_categorical_accuracy: 0.9150\n",
      "Epoch 8/15\n",
      "1600/1600 [==============================] - 1s 589us/sample - loss: 0.3682 - sparse_categorical_accuracy: 0.9337 - val_loss: 0.3865 - val_sparse_categorical_accuracy: 0.9300\n",
      "Epoch 9/15\n",
      "1600/1600 [==============================] - 1s 611us/sample - loss: 0.3600 - sparse_categorical_accuracy: 0.9394 - val_loss: 0.3629 - val_sparse_categorical_accuracy: 0.9400\n",
      "Epoch 10/15\n",
      "1600/1600 [==============================] - 1s 567us/sample - loss: 0.3479 - sparse_categorical_accuracy: 0.9419 - val_loss: 0.3478 - val_sparse_categorical_accuracy: 0.9475\n",
      "Epoch 11/15\n",
      "1600/1600 [==============================] - 1s 570us/sample - loss: 0.3373 - sparse_categorical_accuracy: 0.9481 - val_loss: 0.3377 - val_sparse_categorical_accuracy: 0.9475\n",
      "Epoch 12/15\n",
      "1600/1600 [==============================] - 1s 580us/sample - loss: 0.3303 - sparse_categorical_accuracy: 0.9556 - val_loss: 0.3304 - val_sparse_categorical_accuracy: 0.9525\n",
      "Epoch 13/15\n",
      "1600/1600 [==============================] - 1s 564us/sample - loss: 0.3323 - sparse_categorical_accuracy: 0.9525 - val_loss: 0.3251 - val_sparse_categorical_accuracy: 0.9550\n",
      "Epoch 14/15\n",
      "1600/1600 [==============================] - 1s 572us/sample - loss: 0.3170 - sparse_categorical_accuracy: 0.9563 - val_loss: 0.3209 - val_sparse_categorical_accuracy: 0.9550\n",
      "Epoch 15/15\n",
      "1600/1600 [==============================] - 1s 577us/sample - loss: 0.3167 - sparse_categorical_accuracy: 0.9531 - val_loss: 0.3173 - val_sparse_categorical_accuracy: 0.9550\n"
     ]
    },
    {
     "name": "stderr",
     "output_type": "stream",
     "text": [
      "\n",
      "\n",
      " 67%|██████▋   | 20/30 [10:29<05:35, 33.55s/it]\u001b[A\u001b[A"
     ]
    },
    {
     "name": "stdout",
     "output_type": "stream",
     "text": [
      "0.955 0.000115094412059652 0.0004180516599188814\n",
      "Train on 1600 samples, validate on 400 samples\n",
      "Epoch 1/15\n",
      "1600/1600 [==============================] - 9s 5ms/sample - loss: 0.2037 - sparse_categorical_accuracy: 0.9125 - val_loss: 0.8692 - val_sparse_categorical_accuracy: 0.5075\n",
      "Epoch 2/15\n",
      "1600/1600 [==============================] - 1s 608us/sample - loss: 0.1127 - sparse_categorical_accuracy: 0.9625 - val_loss: 1.2050 - val_sparse_categorical_accuracy: 0.5075\n",
      "Epoch 3/15\n",
      "1600/1600 [==============================] - 1s 598us/sample - loss: 0.0897 - sparse_categorical_accuracy: 0.9756 - val_loss: 1.1402 - val_sparse_categorical_accuracy: 0.5100\n",
      "Epoch 4/15\n",
      "1600/1600 [==============================] - 1s 574us/sample - loss: 0.0834 - sparse_categorical_accuracy: 0.9769 - val_loss: 0.8520 - val_sparse_categorical_accuracy: 0.5600\n",
      "Epoch 5/15\n",
      "1600/1600 [==============================] - 1s 568us/sample - loss: 0.0723 - sparse_categorical_accuracy: 0.9781 - val_loss: 0.4132 - val_sparse_categorical_accuracy: 0.7950\n",
      "Epoch 6/15\n",
      "1600/1600 [==============================] - 1s 588us/sample - loss: 0.0667 - sparse_categorical_accuracy: 0.9825 - val_loss: 0.2470 - val_sparse_categorical_accuracy: 0.8875\n",
      "Epoch 7/15\n",
      "1600/1600 [==============================] - 1s 603us/sample - loss: 0.0558 - sparse_categorical_accuracy: 0.9887 - val_loss: 0.1821 - val_sparse_categorical_accuracy: 0.9250\n",
      "Epoch 8/15\n",
      "1600/1600 [==============================] - 1s 591us/sample - loss: 0.0520 - sparse_categorical_accuracy: 0.9881 - val_loss: 0.1243 - val_sparse_categorical_accuracy: 0.9500\n",
      "Epoch 9/15\n",
      "1600/1600 [==============================] - 1s 584us/sample - loss: 0.0587 - sparse_categorical_accuracy: 0.9825 - val_loss: 0.1236 - val_sparse_categorical_accuracy: 0.9500\n",
      "Epoch 10/15\n",
      "1600/1600 [==============================] - 1s 634us/sample - loss: 0.0490 - sparse_categorical_accuracy: 0.9875 - val_loss: 0.0978 - val_sparse_categorical_accuracy: 0.9675\n",
      "Epoch 11/15\n",
      "1600/1600 [==============================] - 1s 562us/sample - loss: 0.0540 - sparse_categorical_accuracy: 0.9887 - val_loss: 0.0839 - val_sparse_categorical_accuracy: 0.9775\n",
      "Epoch 12/15\n",
      "1600/1600 [==============================] - 1s 572us/sample - loss: 0.0433 - sparse_categorical_accuracy: 0.9894 - val_loss: 0.0814 - val_sparse_categorical_accuracy: 0.9775\n",
      "Epoch 13/15\n",
      "1600/1600 [==============================] - 1s 558us/sample - loss: 0.0387 - sparse_categorical_accuracy: 0.9925 - val_loss: 0.0901 - val_sparse_categorical_accuracy: 0.9700\n",
      "Epoch 14/15\n",
      "1600/1600 [==============================] - 1s 584us/sample - loss: 0.0343 - sparse_categorical_accuracy: 0.9950 - val_loss: 0.0841 - val_sparse_categorical_accuracy: 0.9700\n",
      "Epoch 15/15\n",
      "1600/1600 [==============================] - 1s 575us/sample - loss: 0.0368 - sparse_categorical_accuracy: 0.9925 - val_loss: 0.0795 - val_sparse_categorical_accuracy: 0.9750\n"
     ]
    },
    {
     "name": "stderr",
     "output_type": "stream",
     "text": [
      "\n",
      "\n",
      " 70%|███████   | 21/30 [11:04<05:04, 33.85s/it]\u001b[A\u001b[A"
     ]
    },
    {
     "name": "stdout",
     "output_type": "stream",
     "text": [
      "0.975 0.004475876078768491 1.2786062627915434e-06\n",
      "Train on 1600 samples, validate on 400 samples\n",
      "Epoch 1/15\n",
      "1600/1600 [==============================] - 9s 6ms/sample - loss: 1.0247 - sparse_categorical_accuracy: 0.9112 - val_loss: 1.4747 - val_sparse_categorical_accuracy: 0.5150\n",
      "Epoch 2/15\n",
      "1600/1600 [==============================] - 1s 593us/sample - loss: 0.9146 - sparse_categorical_accuracy: 0.9644 - val_loss: 1.7050 - val_sparse_categorical_accuracy: 0.5100\n",
      "Epoch 3/15\n",
      "1600/1600 [==============================] - 1s 634us/sample - loss: 0.8993 - sparse_categorical_accuracy: 0.9675 - val_loss: 1.6686 - val_sparse_categorical_accuracy: 0.5375\n",
      "Epoch 4/15\n",
      "1600/1600 [==============================] - 1s 646us/sample - loss: 0.8706 - sparse_categorical_accuracy: 0.9769 - val_loss: 1.4717 - val_sparse_categorical_accuracy: 0.6425\n",
      "Epoch 5/15\n",
      "1600/1600 [==============================] - 1s 598us/sample - loss: 0.8621 - sparse_categorical_accuracy: 0.9831 - val_loss: 1.2242 - val_sparse_categorical_accuracy: 0.7800\n",
      "Epoch 6/15\n",
      "1600/1600 [==============================] - 1s 577us/sample - loss: 0.8569 - sparse_categorical_accuracy: 0.9800 - val_loss: 1.0339 - val_sparse_categorical_accuracy: 0.8850\n",
      "Epoch 7/15\n",
      "1600/1600 [==============================] - 1s 604us/sample - loss: 0.8574 - sparse_categorical_accuracy: 0.9806 - val_loss: 0.9711 - val_sparse_categorical_accuracy: 0.9150\n",
      "Epoch 8/15\n",
      "1600/1600 [==============================] - 1s 626us/sample - loss: 0.8483 - sparse_categorical_accuracy: 0.9831 - val_loss: 0.9195 - val_sparse_categorical_accuracy: 0.9425\n",
      "Epoch 9/15\n",
      "1600/1600 [==============================] - 1s 612us/sample - loss: 0.8417 - sparse_categorical_accuracy: 0.9819 - val_loss: 0.9012 - val_sparse_categorical_accuracy: 0.9500\n",
      "Epoch 10/15\n",
      "1600/1600 [==============================] - 1s 581us/sample - loss: 0.8455 - sparse_categorical_accuracy: 0.9825 - val_loss: 0.8897 - val_sparse_categorical_accuracy: 0.9575\n",
      "Epoch 11/15\n",
      "1600/1600 [==============================] - 1s 584us/sample - loss: 0.8363 - sparse_categorical_accuracy: 0.9881 - val_loss: 0.8809 - val_sparse_categorical_accuracy: 0.9650\n",
      "Epoch 12/15\n",
      "1600/1600 [==============================] - 1s 570us/sample - loss: 0.8411 - sparse_categorical_accuracy: 0.9837 - val_loss: 0.8656 - val_sparse_categorical_accuracy: 0.9675\n",
      "Epoch 13/15\n",
      "1600/1600 [==============================] - 1s 575us/sample - loss: 0.8271 - sparse_categorical_accuracy: 0.9887 - val_loss: 0.8650 - val_sparse_categorical_accuracy: 0.9625\n",
      "Epoch 14/15\n",
      "1600/1600 [==============================] - 1s 576us/sample - loss: 0.8200 - sparse_categorical_accuracy: 0.9900 - val_loss: 0.8611 - val_sparse_categorical_accuracy: 0.9700\n",
      "Epoch 15/15\n",
      "1600/1600 [==============================] - 1s 601us/sample - loss: 0.8204 - sparse_categorical_accuracy: 0.9906 - val_loss: 0.8583 - val_sparse_categorical_accuracy: 0.9725\n"
     ]
    },
    {
     "name": "stderr",
     "output_type": "stream",
     "text": [
      "\n",
      "\n",
      " 73%|███████▎  | 22/30 [11:39<04:33, 34.24s/it]\u001b[A\u001b[A"
     ]
    },
    {
     "name": "stdout",
     "output_type": "stream",
     "text": [
      "0.9725 0.002836272275088877 0.002092903659529543\n",
      "Train on 1600 samples, validate on 400 samples\n",
      "Epoch 1/15\n",
      "1600/1600 [==============================] - 9s 6ms/sample - loss: 0.2922 - sparse_categorical_accuracy: 0.8900 - val_loss: 0.7214 - val_sparse_categorical_accuracy: 0.5125\n",
      "Epoch 2/15\n",
      "1600/1600 [==============================] - 1s 637us/sample - loss: 0.1650 - sparse_categorical_accuracy: 0.9519 - val_loss: 0.9286 - val_sparse_categorical_accuracy: 0.5075\n",
      "Epoch 3/15\n",
      "1600/1600 [==============================] - 1s 574us/sample - loss: 0.1384 - sparse_categorical_accuracy: 0.9588 - val_loss: 0.9590 - val_sparse_categorical_accuracy: 0.5125\n",
      "Epoch 4/15\n",
      "1600/1600 [==============================] - 1s 565us/sample - loss: 0.1240 - sparse_categorical_accuracy: 0.9650 - val_loss: 0.7878 - val_sparse_categorical_accuracy: 0.5525\n",
      "Epoch 5/15\n",
      "1600/1600 [==============================] - 1s 571us/sample - loss: 0.1127 - sparse_categorical_accuracy: 0.9669 - val_loss: 0.5740 - val_sparse_categorical_accuracy: 0.6900\n",
      "Epoch 6/15\n",
      "1600/1600 [==============================] - 1s 580us/sample - loss: 0.1075 - sparse_categorical_accuracy: 0.9744 - val_loss: 0.3677 - val_sparse_categorical_accuracy: 0.8400\n",
      "Epoch 7/15\n",
      "1600/1600 [==============================] - 1s 581us/sample - loss: 0.1091 - sparse_categorical_accuracy: 0.9719 - val_loss: 0.2694 - val_sparse_categorical_accuracy: 0.8900\n",
      "Epoch 8/15\n",
      "1600/1600 [==============================] - 1s 582us/sample - loss: 0.1026 - sparse_categorical_accuracy: 0.9725 - val_loss: 0.1939 - val_sparse_categorical_accuracy: 0.9300\n",
      "Epoch 9/15\n",
      "1600/1600 [==============================] - 1s 568us/sample - loss: 0.0872 - sparse_categorical_accuracy: 0.9787 - val_loss: 0.1415 - val_sparse_categorical_accuracy: 0.9525\n",
      "Epoch 10/15\n",
      "1600/1600 [==============================] - 1s 575us/sample - loss: 0.0868 - sparse_categorical_accuracy: 0.9825 - val_loss: 0.1246 - val_sparse_categorical_accuracy: 0.9600\n",
      "Epoch 11/15\n",
      "1600/1600 [==============================] - 1s 578us/sample - loss: 0.0878 - sparse_categorical_accuracy: 0.9787 - val_loss: 0.1074 - val_sparse_categorical_accuracy: 0.9650\n",
      "Epoch 12/15\n",
      "1600/1600 [==============================] - 1s 576us/sample - loss: 0.0763 - sparse_categorical_accuracy: 0.9856 - val_loss: 0.1044 - val_sparse_categorical_accuracy: 0.9700\n",
      "Epoch 13/15\n",
      "1600/1600 [==============================] - 1s 575us/sample - loss: 0.0775 - sparse_categorical_accuracy: 0.9812 - val_loss: 0.0998 - val_sparse_categorical_accuracy: 0.9725\n",
      "Epoch 14/15\n",
      "1600/1600 [==============================] - 1s 582us/sample - loss: 0.0738 - sparse_categorical_accuracy: 0.9856 - val_loss: 0.0974 - val_sparse_categorical_accuracy: 0.9700\n",
      "Epoch 15/15\n",
      "1600/1600 [==============================] - 1s 596us/sample - loss: 0.0734 - sparse_categorical_accuracy: 0.9856 - val_loss: 0.0974 - val_sparse_categorical_accuracy: 0.9700\n"
     ]
    },
    {
     "name": "stderr",
     "output_type": "stream",
     "text": [
      "\n",
      "\n",
      " 77%|███████▋  | 23/30 [12:14<04:00, 34.40s/it]\u001b[A\u001b[A"
     ]
    },
    {
     "name": "stdout",
     "output_type": "stream",
     "text": [
      "0.97 0.0016363739854297645 3.235991295189342e-05\n",
      "Train on 1600 samples, validate on 400 samples\n",
      "Epoch 1/15\n",
      "1600/1600 [==============================] - 9s 6ms/sample - loss: 18.1326 - sparse_categorical_accuracy: 0.8056 - val_loss: 18.3555 - val_sparse_categorical_accuracy: 0.5075\n",
      "Epoch 2/15\n",
      "1600/1600 [==============================] - 1s 597us/sample - loss: 17.8287 - sparse_categorical_accuracy: 0.9156 - val_loss: 18.4321 - val_sparse_categorical_accuracy: 0.5075\n",
      "Epoch 3/15\n",
      "1600/1600 [==============================] - 1s 589us/sample - loss: 17.6562 - sparse_categorical_accuracy: 0.9413 - val_loss: 18.3630 - val_sparse_categorical_accuracy: 0.5075\n",
      "Epoch 4/15\n",
      "1600/1600 [==============================] - 1s 583us/sample - loss: 17.5259 - sparse_categorical_accuracy: 0.9406 - val_loss: 18.1153 - val_sparse_categorical_accuracy: 0.5350\n",
      "Epoch 5/15\n",
      "1600/1600 [==============================] - 1s 599us/sample - loss: 17.3957 - sparse_categorical_accuracy: 0.9469 - val_loss: 17.7737 - val_sparse_categorical_accuracy: 0.6750\n",
      "Epoch 6/15\n",
      "1600/1600 [==============================] - 1s 634us/sample - loss: 17.2700 - sparse_categorical_accuracy: 0.9544 - val_loss: 17.4779 - val_sparse_categorical_accuracy: 0.8025\n",
      "Epoch 7/15\n",
      "1600/1600 [==============================] - 1s 589us/sample - loss: 17.1532 - sparse_categorical_accuracy: 0.9563 - val_loss: 17.2571 - val_sparse_categorical_accuracy: 0.8650\n",
      "Epoch 8/15\n",
      "1600/1600 [==============================] - 1s 595us/sample - loss: 17.0257 - sparse_categorical_accuracy: 0.9625 - val_loss: 17.0665 - val_sparse_categorical_accuracy: 0.9150\n",
      "Epoch 9/15\n",
      "1600/1600 [==============================] - 1s 625us/sample - loss: 16.8961 - sparse_categorical_accuracy: 0.9706 - val_loss: 16.9127 - val_sparse_categorical_accuracy: 0.9325\n",
      "Epoch 10/15\n",
      "1600/1600 [==============================] - 1s 559us/sample - loss: 16.7966 - sparse_categorical_accuracy: 0.9669 - val_loss: 16.7767 - val_sparse_categorical_accuracy: 0.9550\n",
      "Epoch 11/15\n",
      "1600/1600 [==============================] - 1s 579us/sample - loss: 16.6733 - sparse_categorical_accuracy: 0.9688 - val_loss: 16.6554 - val_sparse_categorical_accuracy: 0.9600\n",
      "Epoch 12/15\n",
      "1600/1600 [==============================] - 1s 545us/sample - loss: 16.5600 - sparse_categorical_accuracy: 0.9706 - val_loss: 16.5357 - val_sparse_categorical_accuracy: 0.9675\n",
      "Epoch 13/15\n",
      "1600/1600 [==============================] - 1s 549us/sample - loss: 16.4509 - sparse_categorical_accuracy: 0.9706 - val_loss: 16.4219 - val_sparse_categorical_accuracy: 0.9675\n",
      "Epoch 14/15\n",
      "1600/1600 [==============================] - 1s 589us/sample - loss: 16.3451 - sparse_categorical_accuracy: 0.9694 - val_loss: 16.3080 - val_sparse_categorical_accuracy: 0.9750\n",
      "Epoch 15/15\n",
      "1600/1600 [==============================] - 1s 565us/sample - loss: 16.2268 - sparse_categorical_accuracy: 0.9744 - val_loss: 16.1983 - val_sparse_categorical_accuracy: 0.9750\n"
     ]
    },
    {
     "name": "stderr",
     "output_type": "stream",
     "text": [
      "\n",
      "\n",
      " 80%|████████  | 24/30 [12:50<03:29, 34.88s/it]\u001b[A\u001b[A"
     ]
    },
    {
     "name": "stdout",
     "output_type": "stream",
     "text": [
      "0.975 0.0007107950831921206 0.04681228396670937\n",
      "Train on 1600 samples, validate on 400 samples\n",
      "Epoch 1/15\n",
      "1600/1600 [==============================] - 9s 6ms/sample - loss: 0.7149 - sparse_categorical_accuracy: 0.9144 - val_loss: 1.1847 - val_sparse_categorical_accuracy: 0.5075\n",
      "Epoch 2/15\n",
      "1600/1600 [==============================] - 1s 643us/sample - loss: 0.6175 - sparse_categorical_accuracy: 0.9494 - val_loss: 1.4324 - val_sparse_categorical_accuracy: 0.5075\n",
      "Epoch 3/15\n",
      "1600/1600 [==============================] - 1s 569us/sample - loss: 0.5970 - sparse_categorical_accuracy: 0.9600 - val_loss: 1.5092 - val_sparse_categorical_accuracy: 0.5075\n",
      "Epoch 4/15\n",
      "1600/1600 [==============================] - 1s 568us/sample - loss: 0.5802 - sparse_categorical_accuracy: 0.9625 - val_loss: 1.3160 - val_sparse_categorical_accuracy: 0.5250\n",
      "Epoch 5/15\n",
      "1600/1600 [==============================] - 1s 572us/sample - loss: 0.5763 - sparse_categorical_accuracy: 0.9681 - val_loss: 1.0816 - val_sparse_categorical_accuracy: 0.6525\n",
      "Epoch 6/15\n",
      "1600/1600 [==============================] - 1s 572us/sample - loss: 0.5688 - sparse_categorical_accuracy: 0.9700 - val_loss: 0.8610 - val_sparse_categorical_accuracy: 0.8050\n",
      "Epoch 7/15\n",
      "1600/1600 [==============================] - 1s 575us/sample - loss: 0.5618 - sparse_categorical_accuracy: 0.9775 - val_loss: 0.7547 - val_sparse_categorical_accuracy: 0.8625\n",
      "Epoch 8/15\n",
      "1600/1600 [==============================] - 1s 568us/sample - loss: 0.5517 - sparse_categorical_accuracy: 0.9744 - val_loss: 0.6516 - val_sparse_categorical_accuracy: 0.9175\n",
      "Epoch 9/15\n",
      "1600/1600 [==============================] - 1s 567us/sample - loss: 0.5380 - sparse_categorical_accuracy: 0.9837 - val_loss: 0.6165 - val_sparse_categorical_accuracy: 0.9400\n",
      "Epoch 10/15\n",
      "1600/1600 [==============================] - 1s 573us/sample - loss: 0.5402 - sparse_categorical_accuracy: 0.9819 - val_loss: 0.5837 - val_sparse_categorical_accuracy: 0.9600\n",
      "Epoch 11/15\n",
      "1600/1600 [==============================] - 1s 571us/sample - loss: 0.5438 - sparse_categorical_accuracy: 0.9781 - val_loss: 0.5729 - val_sparse_categorical_accuracy: 0.9650\n",
      "Epoch 12/15\n",
      "1600/1600 [==============================] - 1s 570us/sample - loss: 0.5298 - sparse_categorical_accuracy: 0.9837 - val_loss: 0.5658 - val_sparse_categorical_accuracy: 0.9700\n",
      "Epoch 13/15\n",
      "1600/1600 [==============================] - 1s 567us/sample - loss: 0.5321 - sparse_categorical_accuracy: 0.9875 - val_loss: 0.5661 - val_sparse_categorical_accuracy: 0.9700\n",
      "Epoch 14/15\n",
      "1600/1600 [==============================] - 1s 570us/sample - loss: 0.5317 - sparse_categorical_accuracy: 0.9837 - val_loss: 0.5631 - val_sparse_categorical_accuracy: 0.9725\n",
      "Epoch 15/15\n",
      "1600/1600 [==============================] - 1s 568us/sample - loss: 0.5306 - sparse_categorical_accuracy: 0.9825 - val_loss: 0.5621 - val_sparse_categorical_accuracy: 0.9700\n"
     ]
    },
    {
     "name": "stderr",
     "output_type": "stream",
     "text": [
      "\n",
      "\n",
      " 83%|████████▎ | 25/30 [13:25<02:55, 35.04s/it]\u001b[A\u001b[A"
     ]
    },
    {
     "name": "stdout",
     "output_type": "stream",
     "text": [
      "0.97 0.0019913853764241016 0.0012542552381959566\n",
      "Train on 1600 samples, validate on 400 samples\n",
      "Epoch 1/15\n",
      "1600/1600 [==============================] - 9s 5ms/sample - loss: 1.1661 - sparse_categorical_accuracy: 0.6162 - val_loss: 1.1385 - val_sparse_categorical_accuracy: 0.5375\n",
      "Epoch 2/15\n",
      "1600/1600 [==============================] - 1s 598us/sample - loss: 0.9037 - sparse_categorical_accuracy: 0.7981 - val_loss: 1.1772 - val_sparse_categorical_accuracy: 0.5100\n",
      "Epoch 3/15\n",
      "1600/1600 [==============================] - 1s 574us/sample - loss: 0.8087 - sparse_categorical_accuracy: 0.8462 - val_loss: 1.2184 - val_sparse_categorical_accuracy: 0.5200\n",
      "Epoch 4/15\n",
      "1600/1600 [==============================] - 1s 569us/sample - loss: 0.7651 - sparse_categorical_accuracy: 0.8725 - val_loss: 1.1907 - val_sparse_categorical_accuracy: 0.5475\n",
      "Epoch 5/15\n",
      "1600/1600 [==============================] - 1s 565us/sample - loss: 0.7311 - sparse_categorical_accuracy: 0.8906 - val_loss: 1.1032 - val_sparse_categorical_accuracy: 0.5975\n",
      "Epoch 6/15\n",
      "1600/1600 [==============================] - 1s 565us/sample - loss: 0.7151 - sparse_categorical_accuracy: 0.8913 - val_loss: 0.9912 - val_sparse_categorical_accuracy: 0.6875\n",
      "Epoch 7/15\n",
      "1600/1600 [==============================] - 1s 573us/sample - loss: 0.7019 - sparse_categorical_accuracy: 0.9019 - val_loss: 0.8771 - val_sparse_categorical_accuracy: 0.7675\n",
      "Epoch 8/15\n",
      "1600/1600 [==============================] - 1s 566us/sample - loss: 0.6785 - sparse_categorical_accuracy: 0.9100 - val_loss: 0.7939 - val_sparse_categorical_accuracy: 0.8325\n",
      "Epoch 9/15\n",
      "1600/1600 [==============================] - 1s 570us/sample - loss: 0.6703 - sparse_categorical_accuracy: 0.9150 - val_loss: 0.7349 - val_sparse_categorical_accuracy: 0.8750\n",
      "Epoch 10/15\n",
      "1600/1600 [==============================] - 1s 578us/sample - loss: 0.6768 - sparse_categorical_accuracy: 0.9156 - val_loss: 0.6958 - val_sparse_categorical_accuracy: 0.8950\n",
      "Epoch 11/15\n",
      "1600/1600 [==============================] - 1s 572us/sample - loss: 0.6616 - sparse_categorical_accuracy: 0.9219 - val_loss: 0.6676 - val_sparse_categorical_accuracy: 0.9150\n",
      "Epoch 12/15\n",
      "1600/1600 [==============================] - 1s 572us/sample - loss: 0.6511 - sparse_categorical_accuracy: 0.9262 - val_loss: 0.6523 - val_sparse_categorical_accuracy: 0.9175\n",
      "Epoch 13/15\n",
      "1600/1600 [==============================] - 1s 574us/sample - loss: 0.6473 - sparse_categorical_accuracy: 0.9294 - val_loss: 0.6423 - val_sparse_categorical_accuracy: 0.9175\n",
      "Epoch 14/15\n",
      "1600/1600 [==============================] - 1s 590us/sample - loss: 0.6404 - sparse_categorical_accuracy: 0.9281 - val_loss: 0.6341 - val_sparse_categorical_accuracy: 0.9225\n",
      "Epoch 15/15\n",
      "1600/1600 [==============================] - 1s 568us/sample - loss: 0.6402 - sparse_categorical_accuracy: 0.9356 - val_loss: 0.6288 - val_sparse_categorical_accuracy: 0.9250\n"
     ]
    },
    {
     "name": "stderr",
     "output_type": "stream",
     "text": [
      "\n",
      "\n",
      " 87%|████████▋ | 26/30 [14:00<02:19, 34.81s/it]\u001b[A\u001b[A"
     ]
    },
    {
     "name": "stdout",
     "output_type": "stream",
     "text": [
      "0.925 0.00010485255568562435 0.0011901262132900281\n",
      "Train on 1600 samples, validate on 400 samples\n",
      "Epoch 1/15\n",
      "1600/1600 [==============================] - 9s 6ms/sample - loss: 0.6239 - sparse_categorical_accuracy: 0.9169 - val_loss: 1.1524 - val_sparse_categorical_accuracy: 0.5075\n",
      "Epoch 2/15\n",
      "1600/1600 [==============================] - 1s 608us/sample - loss: 0.5183 - sparse_categorical_accuracy: 0.9619 - val_loss: 1.3519 - val_sparse_categorical_accuracy: 0.5075\n",
      "Epoch 3/15\n",
      "1600/1600 [==============================] - 1s 597us/sample - loss: 0.4979 - sparse_categorical_accuracy: 0.9688 - val_loss: 1.4038 - val_sparse_categorical_accuracy: 0.5075\n",
      "Epoch 4/15\n",
      "1600/1600 [==============================] - 1s 584us/sample - loss: 0.4846 - sparse_categorical_accuracy: 0.9725 - val_loss: 1.2479 - val_sparse_categorical_accuracy: 0.5425\n",
      "Epoch 5/15\n",
      "1600/1600 [==============================] - 1s 607us/sample - loss: 0.4845 - sparse_categorical_accuracy: 0.9744 - val_loss: 0.9232 - val_sparse_categorical_accuracy: 0.7450\n",
      "Epoch 6/15\n",
      "1600/1600 [==============================] - 1s 573us/sample - loss: 0.4657 - sparse_categorical_accuracy: 0.9787 - val_loss: 0.7878 - val_sparse_categorical_accuracy: 0.8275\n",
      "Epoch 7/15\n",
      "1600/1600 [==============================] - 1s 575us/sample - loss: 0.4722 - sparse_categorical_accuracy: 0.9750 - val_loss: 0.6161 - val_sparse_categorical_accuracy: 0.9025\n",
      "Epoch 8/15\n",
      "1600/1600 [==============================] - 1s 576us/sample - loss: 0.4605 - sparse_categorical_accuracy: 0.9819 - val_loss: 0.5492 - val_sparse_categorical_accuracy: 0.9375\n",
      "Epoch 9/15\n",
      "1600/1600 [==============================] - 1s 575us/sample - loss: 0.4528 - sparse_categorical_accuracy: 0.9850 - val_loss: 0.5199 - val_sparse_categorical_accuracy: 0.9550\n",
      "Epoch 10/15\n",
      "1600/1600 [==============================] - 1s 581us/sample - loss: 0.4564 - sparse_categorical_accuracy: 0.9831 - val_loss: 0.5150 - val_sparse_categorical_accuracy: 0.9600\n",
      "Epoch 11/15\n",
      "1600/1600 [==============================] - 1s 590us/sample - loss: 0.4506 - sparse_categorical_accuracy: 0.9825 - val_loss: 0.4974 - val_sparse_categorical_accuracy: 0.9575\n",
      "Epoch 12/15\n",
      "1600/1600 [==============================] - 1s 589us/sample - loss: 0.4456 - sparse_categorical_accuracy: 0.9887 - val_loss: 0.4907 - val_sparse_categorical_accuracy: 0.9600\n",
      "Epoch 13/15\n",
      "1600/1600 [==============================] - 1s 583us/sample - loss: 0.4470 - sparse_categorical_accuracy: 0.9869 - val_loss: 0.4908 - val_sparse_categorical_accuracy: 0.9600\n",
      "Epoch 14/15\n",
      "1600/1600 [==============================] - 1s 580us/sample - loss: 0.4386 - sparse_categorical_accuracy: 0.9919 - val_loss: 0.4853 - val_sparse_categorical_accuracy: 0.9650\n",
      "Epoch 15/15\n",
      "1600/1600 [==============================] - 1s 575us/sample - loss: 0.4373 - sparse_categorical_accuracy: 0.9881 - val_loss: 0.4891 - val_sparse_categorical_accuracy: 0.9675\n"
     ]
    },
    {
     "name": "stderr",
     "output_type": "stream",
     "text": [
      "\n",
      "\n",
      " 90%|█████████ | 27/30 [14:35<01:45, 35.03s/it]\u001b[A\u001b[A"
     ]
    },
    {
     "name": "stdout",
     "output_type": "stream",
     "text": [
      "0.9675 0.0029781679994282115 0.0010522906024874525\n",
      "Train on 1600 samples, validate on 400 samples\n",
      "Epoch 1/15\n",
      "1600/1600 [==============================] - 9s 6ms/sample - loss: 0.1862 - sparse_categorical_accuracy: 0.9294 - val_loss: 0.7734 - val_sparse_categorical_accuracy: 0.5150\n",
      "Epoch 2/15\n",
      "1600/1600 [==============================] - 1s 604us/sample - loss: 0.1085 - sparse_categorical_accuracy: 0.9656 - val_loss: 1.1066 - val_sparse_categorical_accuracy: 0.5075\n",
      "Epoch 3/15\n",
      "1600/1600 [==============================] - 1s 614us/sample - loss: 0.0815 - sparse_categorical_accuracy: 0.9775 - val_loss: 1.0645 - val_sparse_categorical_accuracy: 0.5100\n",
      "Epoch 4/15\n",
      "1600/1600 [==============================] - 1s 598us/sample - loss: 0.0774 - sparse_categorical_accuracy: 0.9762 - val_loss: 0.7285 - val_sparse_categorical_accuracy: 0.6075\n",
      "Epoch 5/15\n",
      "1600/1600 [==============================] - 1s 579us/sample - loss: 0.0604 - sparse_categorical_accuracy: 0.9831 - val_loss: 0.4636 - val_sparse_categorical_accuracy: 0.7725\n",
      "Epoch 6/15\n",
      "1600/1600 [==============================] - 1s 587us/sample - loss: 0.0480 - sparse_categorical_accuracy: 0.9894 - val_loss: 0.2448 - val_sparse_categorical_accuracy: 0.8875\n",
      "Epoch 7/15\n",
      "1600/1600 [==============================] - 1s 568us/sample - loss: 0.0472 - sparse_categorical_accuracy: 0.9869 - val_loss: 0.1602 - val_sparse_categorical_accuracy: 0.9400\n",
      "Epoch 8/15\n",
      "1600/1600 [==============================] - 1s 582us/sample - loss: 0.0473 - sparse_categorical_accuracy: 0.9875 - val_loss: 0.1226 - val_sparse_categorical_accuracy: 0.9500\n",
      "Epoch 9/15\n",
      "1600/1600 [==============================] - 1s 595us/sample - loss: 0.0421 - sparse_categorical_accuracy: 0.9925 - val_loss: 0.1004 - val_sparse_categorical_accuracy: 0.9675\n",
      "Epoch 10/15\n",
      "1600/1600 [==============================] - 1s 569us/sample - loss: 0.0373 - sparse_categorical_accuracy: 0.9931 - val_loss: 0.0902 - val_sparse_categorical_accuracy: 0.9675\n",
      "Epoch 11/15\n",
      "1600/1600 [==============================] - 1s 621us/sample - loss: 0.0288 - sparse_categorical_accuracy: 0.9950 - val_loss: 0.0936 - val_sparse_categorical_accuracy: 0.9700\n",
      "Epoch 12/15\n",
      "1600/1600 [==============================] - 1s 567us/sample - loss: 0.0258 - sparse_categorical_accuracy: 0.9944 - val_loss: 0.0923 - val_sparse_categorical_accuracy: 0.9700\n",
      "Epoch 13/15\n",
      "1600/1600 [==============================] - 1s 608us/sample - loss: 0.0353 - sparse_categorical_accuracy: 0.9906 - val_loss: 0.0976 - val_sparse_categorical_accuracy: 0.9700\n",
      "Epoch 14/15\n",
      "1600/1600 [==============================] - 1s 591us/sample - loss: 0.0282 - sparse_categorical_accuracy: 0.9937 - val_loss: 0.0896 - val_sparse_categorical_accuracy: 0.9750\n",
      "Epoch 15/15\n",
      "1600/1600 [==============================] - 1s 550us/sample - loss: 0.0287 - sparse_categorical_accuracy: 0.9937 - val_loss: 0.0848 - val_sparse_categorical_accuracy: 0.9750\n"
     ]
    },
    {
     "name": "stderr",
     "output_type": "stream",
     "text": [
      "\n",
      "\n",
      " 93%|█████████▎| 28/30 [15:11<01:10, 35.35s/it]\u001b[A\u001b[A"
     ]
    },
    {
     "name": "stdout",
     "output_type": "stream",
     "text": [
      "0.975 0.007915179569609089 3.964991577687053e-06\n",
      "Train on 1600 samples, validate on 400 samples\n",
      "Epoch 1/15\n",
      "1600/1600 [==============================] - 9s 6ms/sample - loss: 0.3152 - sparse_categorical_accuracy: 0.8769 - val_loss: 0.6919 - val_sparse_categorical_accuracy: 0.5125\n",
      "Epoch 2/15\n",
      "1600/1600 [==============================] - 1s 631us/sample - loss: 0.1899 - sparse_categorical_accuracy: 0.9337 - val_loss: 0.8840 - val_sparse_categorical_accuracy: 0.5075\n",
      "Epoch 3/15\n",
      "1600/1600 [==============================] - 1s 596us/sample - loss: 0.1689 - sparse_categorical_accuracy: 0.9425 - val_loss: 0.9409 - val_sparse_categorical_accuracy: 0.5125\n",
      "Epoch 4/15\n",
      "1600/1600 [==============================] - 1s 582us/sample - loss: 0.1470 - sparse_categorical_accuracy: 0.9475 - val_loss: 0.8420 - val_sparse_categorical_accuracy: 0.5275\n",
      "Epoch 5/15\n",
      "1600/1600 [==============================] - 1s 580us/sample - loss: 0.1406 - sparse_categorical_accuracy: 0.9563 - val_loss: 0.6724 - val_sparse_categorical_accuracy: 0.6300\n",
      "Epoch 6/15\n",
      "1600/1600 [==============================] - 1s 576us/sample - loss: 0.1306 - sparse_categorical_accuracy: 0.9588 - val_loss: 0.4760 - val_sparse_categorical_accuracy: 0.7550\n",
      "Epoch 7/15\n",
      "1600/1600 [==============================] - 1s 581us/sample - loss: 0.1244 - sparse_categorical_accuracy: 0.9569 - val_loss: 0.3438 - val_sparse_categorical_accuracy: 0.8450\n",
      "Epoch 8/15\n",
      "1600/1600 [==============================] - 1s 572us/sample - loss: 0.1109 - sparse_categorical_accuracy: 0.9631 - val_loss: 0.2490 - val_sparse_categorical_accuracy: 0.8825\n",
      "Epoch 9/15\n",
      "1600/1600 [==============================] - 1s 576us/sample - loss: 0.1136 - sparse_categorical_accuracy: 0.9650 - val_loss: 0.1884 - val_sparse_categorical_accuracy: 0.9225\n",
      "Epoch 10/15\n",
      "1600/1600 [==============================] - 1s 577us/sample - loss: 0.1044 - sparse_categorical_accuracy: 0.9669 - val_loss: 0.1483 - val_sparse_categorical_accuracy: 0.9450\n",
      "Epoch 11/15\n",
      "1600/1600 [==============================] - 1s 580us/sample - loss: 0.1070 - sparse_categorical_accuracy: 0.9644 - val_loss: 0.1320 - val_sparse_categorical_accuracy: 0.9600\n",
      "Epoch 12/15\n",
      "1600/1600 [==============================] - 1s 575us/sample - loss: 0.1006 - sparse_categorical_accuracy: 0.9656 - val_loss: 0.1186 - val_sparse_categorical_accuracy: 0.9675\n",
      "Epoch 13/15\n",
      "1600/1600 [==============================] - 1s 576us/sample - loss: 0.1012 - sparse_categorical_accuracy: 0.9700 - val_loss: 0.1114 - val_sparse_categorical_accuracy: 0.9675\n",
      "Epoch 14/15\n",
      "1600/1600 [==============================] - 1s 573us/sample - loss: 0.0859 - sparse_categorical_accuracy: 0.9750 - val_loss: 0.1083 - val_sparse_categorical_accuracy: 0.9675\n",
      "Epoch 15/15\n",
      "1600/1600 [==============================] - 1s 581us/sample - loss: 0.0956 - sparse_categorical_accuracy: 0.9725 - val_loss: 0.1074 - val_sparse_categorical_accuracy: 0.9675\n"
     ]
    },
    {
     "name": "stderr",
     "output_type": "stream",
     "text": [
      "\n",
      "\n",
      " 97%|█████████▋| 29/30 [15:47<00:35, 35.58s/it]\u001b[A\u001b[A"
     ]
    },
    {
     "name": "stdout",
     "output_type": "stream",
     "text": [
      "0.9675 0.0007134273462730262 5.763317555447575e-06\n",
      "Train on 1600 samples, validate on 400 samples\n",
      "Epoch 1/15\n",
      "1600/1600 [==============================] - 9s 6ms/sample - loss: 22.5642 - sparse_categorical_accuracy: 0.9350 - val_loss: 21.9249 - val_sparse_categorical_accuracy: 0.5075\n",
      "Epoch 2/15\n",
      "1600/1600 [==============================] - 1s 597us/sample - loss: 19.9131 - sparse_categorical_accuracy: 0.9631 - val_loss: 20.1008 - val_sparse_categorical_accuracy: 0.5075\n",
      "Epoch 3/15\n",
      "1600/1600 [==============================] - 1s 580us/sample - loss: 17.6041 - sparse_categorical_accuracy: 0.9744 - val_loss: 18.2086 - val_sparse_categorical_accuracy: 0.5075\n",
      "Epoch 4/15\n",
      "1600/1600 [==============================] - 1s 575us/sample - loss: 15.5702 - sparse_categorical_accuracy: 0.9819 - val_loss: 16.1960 - val_sparse_categorical_accuracy: 0.5075\n",
      "Epoch 5/15\n",
      "1600/1600 [==============================] - 1s 571us/sample - loss: 13.7744 - sparse_categorical_accuracy: 0.9869 - val_loss: 14.4549 - val_sparse_categorical_accuracy: 0.5100\n",
      "Epoch 6/15\n",
      "1600/1600 [==============================] - 1s 574us/sample - loss: 12.1915 - sparse_categorical_accuracy: 0.9869 - val_loss: 12.8045 - val_sparse_categorical_accuracy: 0.5225\n",
      "Epoch 7/15\n",
      "1600/1600 [==============================] - 1s 575us/sample - loss: 10.7963 - sparse_categorical_accuracy: 0.9812 - val_loss: 11.0232 - val_sparse_categorical_accuracy: 0.6375\n",
      "Epoch 8/15\n",
      "1600/1600 [==============================] - 1s 581us/sample - loss: 9.5431 - sparse_categorical_accuracy: 0.9900 - val_loss: 9.5999 - val_sparse_categorical_accuracy: 0.7275\n",
      "Epoch 9/15\n",
      "1600/1600 [==============================] - 1s 578us/sample - loss: 8.4469 - sparse_categorical_accuracy: 0.9894 - val_loss: 8.6252 - val_sparse_categorical_accuracy: 0.7025\n",
      "Epoch 10/15\n",
      "1600/1600 [==============================] - 1s 572us/sample - loss: 7.4709 - sparse_categorical_accuracy: 0.9931 - val_loss: 7.3269 - val_sparse_categorical_accuracy: 0.8725\n",
      "Epoch 11/15\n",
      "1600/1600 [==============================] - 1s 570us/sample - loss: 6.6054 - sparse_categorical_accuracy: 0.9956 - val_loss: 6.6751 - val_sparse_categorical_accuracy: 0.8125\n",
      "Epoch 12/15\n",
      "1600/1600 [==============================] - 1s 574us/sample - loss: 5.8667 - sparse_categorical_accuracy: 0.9906 - val_loss: 5.7834 - val_sparse_categorical_accuracy: 0.8875\n",
      "Epoch 13/15\n",
      "1600/1600 [==============================] - 1s 568us/sample - loss: 5.1823 - sparse_categorical_accuracy: 0.9944 - val_loss: 5.1150 - val_sparse_categorical_accuracy: 0.9050\n",
      "Epoch 14/15\n",
      "1600/1600 [==============================] - 1s 575us/sample - loss: 4.6008 - sparse_categorical_accuracy: 0.9906 - val_loss: 4.4606 - val_sparse_categorical_accuracy: 0.9400\n",
      "Epoch 15/15\n",
      "1600/1600 [==============================] - 1s 589us/sample - loss: 4.1113 - sparse_categorical_accuracy: 0.9862 - val_loss: 4.0041 - val_sparse_categorical_accuracy: 0.9350\n"
     ]
    },
    {
     "name": "stderr",
     "output_type": "stream",
     "text": [
      "\n",
      "\n",
      "100%|██████████| 30/30 [16:23<00:00, 32.79s/it]\u001b[A\u001b[A"
     ]
    },
    {
     "name": "stdout",
     "output_type": "stream",
     "text": [
      "0.935 0.009820189037584557 0.06236639635205201\n"
     ]
    },
    {
     "name": "stderr",
     "output_type": "stream",
     "text": [
      "\n"
     ]
    }
   ],
   "source": [
    "val_acc=[]\n",
    "lrs=[]\n",
    "l2_regs=[]\n",
    "for i in tqdm(range(30)):\n",
    "    lr = 10**np.random.uniform(-2,-4)\n",
    "    l2_reg = 10**np.random.uniform(-6, -1)\n",
    "    model = create_model(num_classes,l2_reg, False, True)\n",
    "    model.compile(optimizer=optimizers.SGD(learning_rate=lr),loss='sparse_categorical_crossentropy',metrics=['sparse_categorical_accuracy'])\n",
    "    history = model.fit(X_train,y_train,batch_size=BATCH_SIZE,epochs=15, verbose=1,validation_data=(X_val,y_val))\n",
    "    val_acc.append(history.history['val_sparse_categorical_accuracy'][-1])\n",
    "    lrs.append(lr)\n",
    "    l2_regs.append(l2_reg)\n",
    "    print(history.history['val_sparse_categorical_accuracy'][-1], lr, l2_reg)"
   ]
  },
  {
   "cell_type": "code",
   "execution_count": 92,
   "metadata": {
    "scrolled": true
   },
   "outputs": [],
   "source": [
    "logs=[val_acc,lrs, l2_regs]\n",
    "logs=np.array(logs)\n",
    "# logs=np.sort(logs,axis=0)"
   ]
  },
  {
   "cell_type": "code",
   "execution_count": 93,
   "metadata": {
    "scrolled": true
   },
   "outputs": [
    {
     "data": {
      "text/plain": [
       "array([18, 20, 27,  1], dtype=int64)"
      ]
     },
     "execution_count": 93,
     "metadata": {},
     "output_type": "execute_result"
    }
   ],
   "source": [
    "top4=np.argsort(logs[0,:])[::-1][:4]\n",
    "top4"
   ]
  },
  {
   "cell_type": "code",
   "execution_count": 94,
   "metadata": {
    "scrolled": true
   },
   "outputs": [
    {
     "data": {
      "text/plain": [
       "array([[9.77500021e-01, 9.75000024e-01, 9.75000024e-01, 9.75000024e-01],\n",
       "       [5.72852074e-03, 4.47587608e-03, 7.91517957e-03, 7.44720243e-03],\n",
       "       [4.16020772e-06, 1.27860626e-06, 3.96499158e-06, 3.81859253e-06]])"
      ]
     },
     "execution_count": 94,
     "metadata": {},
     "output_type": "execute_result"
    }
   ],
   "source": [
    "logs[:,top4]"
   ]
  },
  {
   "cell_type": "code",
   "execution_count": 95,
   "metadata": {
    "scrolled": true
   },
   "outputs": [],
   "source": [
    "lr, l2_reg = logs[1,top4[0]],logs[2,top4[0]]"
   ]
  },
  {
   "cell_type": "markdown",
   "metadata": {},
   "source": [
    "#### Final Training \n",
    "\n",
    "Now we will train the model using the top performer found using the top performer from the fine search. \n"
   ]
  },
  {
   "cell_type": "code",
   "execution_count": 96,
   "metadata": {
    "scrolled": true
   },
   "outputs": [
    {
     "name": "stdout",
     "output_type": "stream",
     "text": [
      "Train on 1600 samples, validate on 400 samples\n",
      "Epoch 1/50\n",
      "1600/1600 [==============================] - 9s 6ms/sample - loss: 0.1939 - sparse_categorical_accuracy: 0.9237 - val_loss: 0.8588 - val_sparse_categorical_accuracy: 0.5075\n",
      "Epoch 2/50\n",
      "1600/1600 [==============================] - 1s 610us/sample - loss: 0.1138 - sparse_categorical_accuracy: 0.9625 - val_loss: 1.2543 - val_sparse_categorical_accuracy: 0.5075\n",
      "Epoch 3/50\n",
      "1600/1600 [==============================] - 1s 587us/sample - loss: 0.0938 - sparse_categorical_accuracy: 0.9712 - val_loss: 1.2294 - val_sparse_categorical_accuracy: 0.5075\n",
      "Epoch 4/50\n",
      "1600/1600 [==============================] - 1s 581us/sample - loss: 0.0810 - sparse_categorical_accuracy: 0.9750 - val_loss: 0.8739 - val_sparse_categorical_accuracy: 0.5800\n",
      "Epoch 5/50\n",
      "1600/1600 [==============================] - 1s 576us/sample - loss: 0.0755 - sparse_categorical_accuracy: 0.9775 - val_loss: 0.6012 - val_sparse_categorical_accuracy: 0.6975\n",
      "Epoch 6/50\n",
      "1600/1600 [==============================] - 1s 573us/sample - loss: 0.0708 - sparse_categorical_accuracy: 0.9825 - val_loss: 0.3581 - val_sparse_categorical_accuracy: 0.8300\n",
      "Epoch 7/50\n",
      "1600/1600 [==============================] - 1s 575us/sample - loss: 0.0559 - sparse_categorical_accuracy: 0.9850 - val_loss: 0.2310 - val_sparse_categorical_accuracy: 0.8950\n",
      "Epoch 8/50\n",
      "1600/1600 [==============================] - 1s 575us/sample - loss: 0.0517 - sparse_categorical_accuracy: 0.9862 - val_loss: 0.1537 - val_sparse_categorical_accuracy: 0.9300\n",
      "Epoch 9/50\n",
      "1600/1600 [==============================] - 1s 573us/sample - loss: 0.0532 - sparse_categorical_accuracy: 0.9900 - val_loss: 0.1466 - val_sparse_categorical_accuracy: 0.9375\n",
      "Epoch 10/50\n",
      "1600/1600 [==============================] - 1s 578us/sample - loss: 0.0470 - sparse_categorical_accuracy: 0.9875 - val_loss: 0.0981 - val_sparse_categorical_accuracy: 0.9650\n",
      "Epoch 11/50\n",
      "1600/1600 [==============================] - 1s 599us/sample - loss: 0.0377 - sparse_categorical_accuracy: 0.9950 - val_loss: 0.0946 - val_sparse_categorical_accuracy: 0.9675\n",
      "Epoch 12/50\n",
      "1600/1600 [==============================] - 1s 574us/sample - loss: 0.0410 - sparse_categorical_accuracy: 0.9906 - val_loss: 0.0970 - val_sparse_categorical_accuracy: 0.9700\n",
      "Epoch 13/50\n",
      "1600/1600 [==============================] - 1s 584us/sample - loss: 0.0369 - sparse_categorical_accuracy: 0.9944 - val_loss: 0.0912 - val_sparse_categorical_accuracy: 0.9725\n",
      "Epoch 14/50\n",
      "1600/1600 [==============================] - 1s 579us/sample - loss: 0.0287 - sparse_categorical_accuracy: 0.9962 - val_loss: 0.0923 - val_sparse_categorical_accuracy: 0.9750\n",
      "Epoch 15/50\n",
      "1600/1600 [==============================] - 1s 572us/sample - loss: 0.0296 - sparse_categorical_accuracy: 0.9962 - val_loss: 0.0901 - val_sparse_categorical_accuracy: 0.9725\n",
      "Epoch 16/50\n",
      "1600/1600 [==============================] - 1s 574us/sample - loss: 0.0331 - sparse_categorical_accuracy: 0.9944 - val_loss: 0.0918 - val_sparse_categorical_accuracy: 0.9750\n",
      "Epoch 17/50\n",
      "1600/1600 [==============================] - 1s 577us/sample - loss: 0.0290 - sparse_categorical_accuracy: 0.9944 - val_loss: 0.0912 - val_sparse_categorical_accuracy: 0.9700\n",
      "Epoch 18/50\n",
      "1600/1600 [==============================] - 1s 578us/sample - loss: 0.0270 - sparse_categorical_accuracy: 0.9944 - val_loss: 0.0949 - val_sparse_categorical_accuracy: 0.9675\n",
      "Epoch 19/50\n",
      "1600/1600 [==============================] - 1s 582us/sample - loss: 0.0237 - sparse_categorical_accuracy: 0.9962 - val_loss: 0.0921 - val_sparse_categorical_accuracy: 0.9775\n",
      "Epoch 20/50\n",
      "1600/1600 [==============================] - 1s 577us/sample - loss: 0.0265 - sparse_categorical_accuracy: 0.9956 - val_loss: 0.0905 - val_sparse_categorical_accuracy: 0.9700\n",
      "Epoch 21/50\n",
      "1600/1600 [==============================] - 1s 577us/sample - loss: 0.0201 - sparse_categorical_accuracy: 0.9975 - val_loss: 0.0907 - val_sparse_categorical_accuracy: 0.9750\n",
      "Epoch 22/50\n",
      "1600/1600 [==============================] - 1s 576us/sample - loss: 0.0210 - sparse_categorical_accuracy: 0.9969 - val_loss: 0.0891 - val_sparse_categorical_accuracy: 0.9750\n",
      "Epoch 23/50\n",
      "1600/1600 [==============================] - 1s 578us/sample - loss: 0.0205 - sparse_categorical_accuracy: 0.9950 - val_loss: 0.0940 - val_sparse_categorical_accuracy: 0.9775\n",
      "Epoch 24/50\n",
      "1600/1600 [==============================] - 1s 579us/sample - loss: 0.0199 - sparse_categorical_accuracy: 0.9981 - val_loss: 0.0960 - val_sparse_categorical_accuracy: 0.9650\n",
      "Epoch 25/50\n",
      "1600/1600 [==============================] - 1s 578us/sample - loss: 0.0213 - sparse_categorical_accuracy: 0.9975 - val_loss: 0.0928 - val_sparse_categorical_accuracy: 0.9725\n",
      "Epoch 26/50\n",
      "1600/1600 [==============================] - 1s 579us/sample - loss: 0.0198 - sparse_categorical_accuracy: 0.9975 - val_loss: 0.0922 - val_sparse_categorical_accuracy: 0.9700\n",
      "Epoch 27/50\n",
      "1600/1600 [==============================] - 1s 576us/sample - loss: 0.0156 - sparse_categorical_accuracy: 0.9987 - val_loss: 0.0940 - val_sparse_categorical_accuracy: 0.9725\n",
      "Epoch 28/50\n",
      "1600/1600 [==============================] - 1s 599us/sample - loss: 0.0172 - sparse_categorical_accuracy: 0.9994 - val_loss: 0.0915 - val_sparse_categorical_accuracy: 0.9775\n",
      "Epoch 29/50\n",
      "1600/1600 [==============================] - 1s 574us/sample - loss: 0.0161 - sparse_categorical_accuracy: 0.9956 - val_loss: 0.0919 - val_sparse_categorical_accuracy: 0.9625\n",
      "Epoch 30/50\n",
      "1600/1600 [==============================] - 1s 574us/sample - loss: 0.0142 - sparse_categorical_accuracy: 0.9994 - val_loss: 0.0910 - val_sparse_categorical_accuracy: 0.9750\n",
      "Epoch 31/50\n",
      "1600/1600 [==============================] - 1s 587us/sample - loss: 0.0157 - sparse_categorical_accuracy: 0.9981 - val_loss: 0.0893 - val_sparse_categorical_accuracy: 0.9725\n",
      "Epoch 32/50\n",
      "1600/1600 [==============================] - 1s 585us/sample - loss: 0.0169 - sparse_categorical_accuracy: 0.9969 - val_loss: 0.0948 - val_sparse_categorical_accuracy: 0.9675\n",
      "Epoch 00032: early stopping\n"
     ]
    }
   ],
   "source": [
    "from tensorflow.keras.callbacks import EarlyStopping\n",
    "es = EarlyStopping(monitor='val_loss', mode='min', verbose=1, patience=10)\n",
    "model = create_model(num_classes,l2_reg, False, True)\n",
    "model.compile(optimizer=optimizers.SGD(learning_rate=lr),loss='sparse_categorical_crossentropy',metrics=['sparse_categorical_accuracy'])\n",
    "history = model.fit(X_train,y_train,batch_size=BATCH_SIZE,epochs=50, verbose=1,validation_data=(X_val,y_val), callbacks=[es])"
   ]
  },
  {
   "cell_type": "code",
   "execution_count": 97,
   "metadata": {
    "scrolled": true
   },
   "outputs": [
    {
     "data": {
      "image/png": "[encoded data removed]",
      "text/plain": [
       "<Figure size 432x288 with 1 Axes>"
      ]
     },
     "metadata": {
      "needs_background": "light"
     },
     "output_type": "display_data"
    },
    {
     "data": {
      "image/png": "[encoded data removed]",
      "text/plain": [
       "<Figure size 432x288 with 1 Axes>"
      ]
     },
     "metadata": {
      "needs_background": "light"
     },
     "output_type": "display_data"
    }
   ],
   "source": [
    "plot_curves(history)"
   ]
  },
  {
   "cell_type": "markdown",
   "metadata": {},
   "source": [
    "#### Get predictions and find confusion matrix to get the metrics.  "
   ]
  },
  {
   "cell_type": "code",
   "execution_count": 98,
   "metadata": {
    "scrolled": true
   },
   "outputs": [
    {
     "data": {
      "text/plain": [
       "(<Figure size 648x648 with 1 Axes>,\n",
       " <matplotlib.axes._subplots.AxesSubplot at 0x2b0b16e39b0>)"
      ]
     },
     "execution_count": 98,
     "metadata": {},
     "output_type": "execute_result"
    },
    {
     "data": {
      "image/png": "[encoded data removed]",
      "text/plain": [
       "<Figure size 648x648 with 1 Axes>"
      ]
     },
     "metadata": {
      "needs_background": "light"
     },
     "output_type": "display_data"
    }
   ],
   "source": [
    "from mlxtend.plotting import plot_confusion_matrix\n",
    "from sklearn.metrics import confusion_matrix\n",
    "y_pred = model.predict_classes(X_test)\n",
    "mat = confusion_matrix(y_test,y_pred)\n",
    "plot_confusion_matrix(mat,figsize=(9,9), show_normed=True)"
   ]
  },
  {
   "cell_type": "code",
   "execution_count": 99,
   "metadata": {
    "scrolled": true
   },
   "outputs": [
    {
     "name": "stdout",
     "output_type": "stream",
     "text": [
      "              precision    recall  f1-score   support\n",
      "\n",
      "           0       0.95      0.91      0.93       104\n",
      "           1       0.91      0.95      0.93        96\n",
      "\n",
      "    accuracy                           0.93       200\n",
      "   macro avg       0.93      0.93      0.93       200\n",
      "weighted avg       0.93      0.93      0.93       200\n",
      "\n",
      "0.93\n"
     ]
    }
   ],
   "source": [
    "from sklearn.metrics import accuracy_score, confusion_matrix, classification_report\n",
    "\n",
    "print(classification_report(y_pred, y_test))\n",
    "print(accuracy_score(y_pred, y_test))"
   ]
  },
  {
   "cell_type": "markdown",
   "metadata": {},
   "source": [
    "#### Try He Initialization \n",
    "\n",
    "Try using He Initialization. Fine search and the steps after that are carried out to check if we get different optimum paramters. Note that Batch norm is not used here. "
   ]
  },
  {
   "cell_type": "code",
   "execution_count": 100,
   "metadata": {
    "scrolled": true
   },
   "outputs": [
    {
     "name": "stderr",
     "output_type": "stream",
     "text": [
      "\n",
      "\n",
      "  0%|          | 0/30 [00:00<?, ?it/s]\u001b[A\u001b[A"
     ]
    },
    {
     "name": "stdout",
     "output_type": "stream",
     "text": [
      "Train on 1600 samples, validate on 400 samples\n",
      "Epoch 1/15\n",
      "1600/1600 [==============================] - 9s 6ms/sample - loss: 0.7367 - sparse_categorical_accuracy: 0.8188 - val_loss: 0.3330 - val_sparse_categorical_accuracy: 0.9050\n",
      "Epoch 2/15\n",
      "1600/1600 [==============================] - 1s 527us/sample - loss: 0.2988 - sparse_categorical_accuracy: 0.9275 - val_loss: 0.2647 - val_sparse_categorical_accuracy: 0.9500\n",
      "Epoch 3/15\n",
      "1600/1600 [==============================] - 1s 524us/sample - loss: 0.2516 - sparse_categorical_accuracy: 0.9513 - val_loss: 0.2374 - val_sparse_categorical_accuracy: 0.9575\n",
      "Epoch 4/15\n",
      "1600/1600 [==============================] - 1s 530us/sample - loss: 0.2319 - sparse_categorical_accuracy: 0.9538 - val_loss: 0.2283 - val_sparse_categorical_accuracy: 0.9600\n",
      "Epoch 5/15\n",
      "1600/1600 [==============================] - 1s 539us/sample - loss: 0.2146 - sparse_categorical_accuracy: 0.9594 - val_loss: 0.2307 - val_sparse_categorical_accuracy: 0.9525\n",
      "Epoch 6/15\n",
      "1600/1600 [==============================] - 1s 528us/sample - loss: 0.2089 - sparse_categorical_accuracy: 0.9550 - val_loss: 0.3560 - val_sparse_categorical_accuracy: 0.9075\n",
      "Epoch 7/15\n",
      "1600/1600 [==============================] - 1s 525us/sample - loss: 0.1960 - sparse_categorical_accuracy: 0.9625 - val_loss: 0.2197 - val_sparse_categorical_accuracy: 0.9500\n",
      "Epoch 8/15\n",
      "1600/1600 [==============================] - 1s 525us/sample - loss: 0.1827 - sparse_categorical_accuracy: 0.9663 - val_loss: 0.2304 - val_sparse_categorical_accuracy: 0.9550\n",
      "Epoch 9/15\n",
      "1600/1600 [==============================] - 1s 528us/sample - loss: 0.1723 - sparse_categorical_accuracy: 0.9731 - val_loss: 0.2017 - val_sparse_categorical_accuracy: 0.9575\n",
      "Epoch 10/15\n",
      "1600/1600 [==============================] - 1s 530us/sample - loss: 0.1703 - sparse_categorical_accuracy: 0.9731 - val_loss: 0.1953 - val_sparse_categorical_accuracy: 0.9650\n",
      "Epoch 11/15\n",
      "1600/1600 [==============================] - 1s 525us/sample - loss: 0.1543 - sparse_categorical_accuracy: 0.9806 - val_loss: 0.1946 - val_sparse_categorical_accuracy: 0.9600\n",
      "Epoch 12/15\n",
      "1600/1600 [==============================] - 1s 527us/sample - loss: 0.1505 - sparse_categorical_accuracy: 0.9825 - val_loss: 0.1872 - val_sparse_categorical_accuracy: 0.9625\n",
      "Epoch 13/15\n",
      "1600/1600 [==============================] - 1s 525us/sample - loss: 0.1472 - sparse_categorical_accuracy: 0.9812 - val_loss: 0.1982 - val_sparse_categorical_accuracy: 0.9600\n",
      "Epoch 14/15\n",
      "1600/1600 [==============================] - 1s 525us/sample - loss: 0.1428 - sparse_categorical_accuracy: 0.9856 - val_loss: 0.1999 - val_sparse_categorical_accuracy: 0.9600\n",
      "Epoch 15/15\n",
      "1600/1600 [==============================] - 1s 529us/sample - loss: 0.1380 - sparse_categorical_accuracy: 0.9875 - val_loss: 0.1755 - val_sparse_categorical_accuracy: 0.9700\n"
     ]
    },
    {
     "name": "stderr",
     "output_type": "stream",
     "text": [
      "\n",
      "\n",
      "  3%|▎         | 1/30 [00:34<16:39, 34.46s/it]\u001b[A\u001b[A"
     ]
    },
    {
     "name": "stdout",
     "output_type": "stream",
     "text": [
      "0.97 0.00577802981720117 0.0001386776045819732\n",
      "Train on 1600 samples, validate on 400 samples\n",
      "Epoch 1/15\n",
      "1600/1600 [==============================] - 9s 6ms/sample - loss: 0.4308 - sparse_categorical_accuracy: 0.8250 - val_loss: 0.2893 - val_sparse_categorical_accuracy: 0.8975\n",
      "Epoch 2/15\n",
      "1600/1600 [==============================] - 1s 530us/sample - loss: 0.2653 - sparse_categorical_accuracy: 0.9187 - val_loss: 0.2657 - val_sparse_categorical_accuracy: 0.9300\n",
      "Epoch 3/15\n",
      "1600/1600 [==============================] - 1s 526us/sample - loss: 0.2289 - sparse_categorical_accuracy: 0.9287 - val_loss: 0.2175 - val_sparse_categorical_accuracy: 0.9425\n",
      "Epoch 4/15\n",
      "1600/1600 [==============================] - 1s 528us/sample - loss: 0.2031 - sparse_categorical_accuracy: 0.9344 - val_loss: 0.2042 - val_sparse_categorical_accuracy: 0.9425\n",
      "Epoch 5/15\n",
      "1600/1600 [==============================] - 1s 527us/sample - loss: 0.1936 - sparse_categorical_accuracy: 0.9400 - val_loss: 0.2060 - val_sparse_categorical_accuracy: 0.9325\n",
      "Epoch 6/15\n",
      "1600/1600 [==============================] - 1s 528us/sample - loss: 0.1788 - sparse_categorical_accuracy: 0.9431 - val_loss: 0.1860 - val_sparse_categorical_accuracy: 0.9450\n",
      "Epoch 7/15\n",
      "1600/1600 [==============================] - 1s 531us/sample - loss: 0.1707 - sparse_categorical_accuracy: 0.9450 - val_loss: 0.1829 - val_sparse_categorical_accuracy: 0.9400\n",
      "Epoch 8/15\n",
      "1600/1600 [==============================] - 1s 529us/sample - loss: 0.1583 - sparse_categorical_accuracy: 0.9544 - val_loss: 0.1879 - val_sparse_categorical_accuracy: 0.9450\n",
      "Epoch 9/15\n",
      "1600/1600 [==============================] - 1s 525us/sample - loss: 0.1529 - sparse_categorical_accuracy: 0.9513 - val_loss: 0.1724 - val_sparse_categorical_accuracy: 0.9375\n",
      "Epoch 10/15\n",
      "1600/1600 [==============================] - 1s 527us/sample - loss: 0.1445 - sparse_categorical_accuracy: 0.9625 - val_loss: 0.1713 - val_sparse_categorical_accuracy: 0.9425\n",
      "Epoch 11/15\n",
      "1600/1600 [==============================] - 1s 528us/sample - loss: 0.1367 - sparse_categorical_accuracy: 0.9638 - val_loss: 0.1772 - val_sparse_categorical_accuracy: 0.9475\n",
      "Epoch 12/15\n",
      "1600/1600 [==============================] - 1s 533us/sample - loss: 0.1352 - sparse_categorical_accuracy: 0.9619 - val_loss: 0.1673 - val_sparse_categorical_accuracy: 0.9425\n",
      "Epoch 13/15\n",
      "1600/1600 [==============================] - 1s 529us/sample - loss: 0.1296 - sparse_categorical_accuracy: 0.9650 - val_loss: 0.1581 - val_sparse_categorical_accuracy: 0.9450\n",
      "Epoch 14/15\n",
      "1600/1600 [==============================] - 1s 528us/sample - loss: 0.1237 - sparse_categorical_accuracy: 0.9638 - val_loss: 0.1580 - val_sparse_categorical_accuracy: 0.9550\n",
      "Epoch 15/15\n",
      "1600/1600 [==============================] - 1s 526us/sample - loss: 0.1193 - sparse_categorical_accuracy: 0.9681 - val_loss: 0.1578 - val_sparse_categorical_accuracy: 0.9425\n"
     ]
    },
    {
     "name": "stderr",
     "output_type": "stream",
     "text": [
      "\n",
      "\n",
      "  7%|▋         | 2/30 [01:09<16:06, 34.53s/it]\u001b[A\u001b[A"
     ]
    },
    {
     "name": "stdout",
     "output_type": "stream",
     "text": [
      "0.9425 0.0008827404287979808 1.970700251464561e-05\n",
      "Train on 1600 samples, validate on 400 samples\n",
      "Epoch 1/15\n",
      "1600/1600 [==============================] - 9s 6ms/sample - loss: 0.4358 - sparse_categorical_accuracy: 0.8231 - val_loss: 0.3472 - val_sparse_categorical_accuracy: 0.8700\n",
      "Epoch 2/15\n",
      "1600/1600 [==============================] - 1s 530us/sample - loss: 0.3133 - sparse_categorical_accuracy: 0.8869 - val_loss: 0.2931 - val_sparse_categorical_accuracy: 0.8825\n",
      "Epoch 3/15\n",
      "1600/1600 [==============================] - 1s 532us/sample - loss: 0.2748 - sparse_categorical_accuracy: 0.9069 - val_loss: 0.2781 - val_sparse_categorical_accuracy: 0.9125\n",
      "Epoch 4/15\n",
      "1600/1600 [==============================] - 1s 528us/sample - loss: 0.2530 - sparse_categorical_accuracy: 0.9162 - val_loss: 0.2413 - val_sparse_categorical_accuracy: 0.9225\n",
      "Epoch 5/15\n",
      "1600/1600 [==============================] - 1s 523us/sample - loss: 0.2331 - sparse_categorical_accuracy: 0.9187 - val_loss: 0.2323 - val_sparse_categorical_accuracy: 0.9300\n",
      "Epoch 6/15\n",
      "1600/1600 [==============================] - 1s 526us/sample - loss: 0.2198 - sparse_categorical_accuracy: 0.9275 - val_loss: 0.2155 - val_sparse_categorical_accuracy: 0.9350\n",
      "Epoch 7/15\n",
      "1600/1600 [==============================] - 1s 532us/sample - loss: 0.2066 - sparse_categorical_accuracy: 0.9344 - val_loss: 0.2157 - val_sparse_categorical_accuracy: 0.9300\n",
      "Epoch 8/15\n",
      "1600/1600 [==============================] - 1s 533us/sample - loss: 0.1987 - sparse_categorical_accuracy: 0.9413 - val_loss: 0.2010 - val_sparse_categorical_accuracy: 0.9400\n",
      "Epoch 9/15\n",
      "1600/1600 [==============================] - 1s 529us/sample - loss: 0.1887 - sparse_categorical_accuracy: 0.9413 - val_loss: 0.1931 - val_sparse_categorical_accuracy: 0.9500\n",
      "Epoch 10/15\n",
      "1600/1600 [==============================] - 1s 532us/sample - loss: 0.1791 - sparse_categorical_accuracy: 0.9444 - val_loss: 0.1852 - val_sparse_categorical_accuracy: 0.9500\n",
      "Epoch 11/15\n",
      "1600/1600 [==============================] - 1s 526us/sample - loss: 0.1752 - sparse_categorical_accuracy: 0.9469 - val_loss: 0.1804 - val_sparse_categorical_accuracy: 0.9425\n",
      "Epoch 12/15\n",
      "1600/1600 [==============================] - 1s 528us/sample - loss: 0.1692 - sparse_categorical_accuracy: 0.9519 - val_loss: 0.1827 - val_sparse_categorical_accuracy: 0.9525\n",
      "Epoch 13/15\n",
      "1600/1600 [==============================] - 1s 537us/sample - loss: 0.1649 - sparse_categorical_accuracy: 0.9456 - val_loss: 0.1706 - val_sparse_categorical_accuracy: 0.9500\n",
      "Epoch 14/15\n",
      "1600/1600 [==============================] - 1s 540us/sample - loss: 0.1591 - sparse_categorical_accuracy: 0.9519 - val_loss: 0.1651 - val_sparse_categorical_accuracy: 0.9500\n",
      "Epoch 15/15\n",
      "1600/1600 [==============================] - 1s 528us/sample - loss: 0.1535 - sparse_categorical_accuracy: 0.9556 - val_loss: 0.1625 - val_sparse_categorical_accuracy: 0.9475\n"
     ]
    },
    {
     "name": "stderr",
     "output_type": "stream",
     "text": [
      "\n",
      "\n",
      " 10%|█         | 3/30 [01:43<15:33, 34.58s/it]\u001b[A\u001b[A"
     ]
    },
    {
     "name": "stdout",
     "output_type": "stream",
     "text": [
      "0.9475 0.00036330171743589147 3.26059460775761e-06\n",
      "Train on 1600 samples, validate on 400 samples\n",
      "Epoch 1/15\n",
      "1600/1600 [==============================] - 10s 6ms/sample - loss: 0.4959 - sparse_categorical_accuracy: 0.8006 - val_loss: 0.2500 - val_sparse_categorical_accuracy: 0.9125\n",
      "Epoch 2/15\n",
      "1600/1600 [==============================] - 1s 534us/sample - loss: 0.2331 - sparse_categorical_accuracy: 0.9119 - val_loss: 0.2080 - val_sparse_categorical_accuracy: 0.9400\n",
      "Epoch 3/15\n",
      "1600/1600 [==============================] - 1s 554us/sample - loss: 0.1974 - sparse_categorical_accuracy: 0.9312 - val_loss: 0.1908 - val_sparse_categorical_accuracy: 0.9400\n",
      "Epoch 4/15\n",
      "1600/1600 [==============================] - 1s 538us/sample - loss: 0.1796 - sparse_categorical_accuracy: 0.9456 - val_loss: 0.1715 - val_sparse_categorical_accuracy: 0.9400\n",
      "Epoch 5/15\n",
      "1600/1600 [==============================] - 1s 549us/sample - loss: 0.1749 - sparse_categorical_accuracy: 0.9444 - val_loss: 0.1641 - val_sparse_categorical_accuracy: 0.9475\n",
      "Epoch 6/15\n",
      "1600/1600 [==============================] - 1s 588us/sample - loss: 0.1545 - sparse_categorical_accuracy: 0.9525 - val_loss: 0.1596 - val_sparse_categorical_accuracy: 0.9475\n",
      "Epoch 7/15\n",
      "1600/1600 [==============================] - 1s 528us/sample - loss: 0.1374 - sparse_categorical_accuracy: 0.9600 - val_loss: 0.1535 - val_sparse_categorical_accuracy: 0.9475\n",
      "Epoch 8/15\n",
      "1600/1600 [==============================] - 1s 590us/sample - loss: 0.1364 - sparse_categorical_accuracy: 0.9575 - val_loss: 0.1500 - val_sparse_categorical_accuracy: 0.9500\n",
      "Epoch 9/15\n",
      "1600/1600 [==============================] - 1s 532us/sample - loss: 0.1306 - sparse_categorical_accuracy: 0.9600 - val_loss: 0.1486 - val_sparse_categorical_accuracy: 0.9500\n",
      "Epoch 10/15\n",
      "1600/1600 [==============================] - 1s 527us/sample - loss: 0.1225 - sparse_categorical_accuracy: 0.9613 - val_loss: 0.1426 - val_sparse_categorical_accuracy: 0.9500\n",
      "Epoch 11/15\n",
      "1600/1600 [==============================] - 1s 533us/sample - loss: 0.1190 - sparse_categorical_accuracy: 0.9625 - val_loss: 0.2498 - val_sparse_categorical_accuracy: 0.9225\n",
      "Epoch 12/15\n",
      "1600/1600 [==============================] - 1s 528us/sample - loss: 0.1155 - sparse_categorical_accuracy: 0.9638 - val_loss: 0.1651 - val_sparse_categorical_accuracy: 0.9400\n",
      "Epoch 13/15\n",
      "1600/1600 [==============================] - 1s 573us/sample - loss: 0.1037 - sparse_categorical_accuracy: 0.9712 - val_loss: 0.1341 - val_sparse_categorical_accuracy: 0.9500\n",
      "Epoch 14/15\n",
      "1600/1600 [==============================] - 1s 516us/sample - loss: 0.0999 - sparse_categorical_accuracy: 0.9712 - val_loss: 0.1405 - val_sparse_categorical_accuracy: 0.9500\n",
      "Epoch 15/15\n",
      "1600/1600 [==============================] - 1s 550us/sample - loss: 0.0963 - sparse_categorical_accuracy: 0.9731 - val_loss: 0.1379 - val_sparse_categorical_accuracy: 0.9475\n"
     ]
    },
    {
     "name": "stderr",
     "output_type": "stream",
     "text": [
      "\n",
      "\n",
      " 13%|█▎        | 4/30 [02:20<15:14, 35.16s/it]\u001b[A\u001b[A"
     ]
    },
    {
     "name": "stdout",
     "output_type": "stream",
     "text": [
      "0.9475 0.0009136175688359365 6.0677677581912675e-06\n",
      "Train on 1600 samples, validate on 400 samples\n",
      "Epoch 1/15\n",
      "1600/1600 [==============================] - 9s 6ms/sample - loss: 0.8068 - sparse_categorical_accuracy: 0.7625 - val_loss: 0.4698 - val_sparse_categorical_accuracy: 0.8925\n",
      "Epoch 2/15\n",
      "1600/1600 [==============================] - 1s 575us/sample - loss: 0.4521 - sparse_categorical_accuracy: 0.9069 - val_loss: 0.4177 - val_sparse_categorical_accuracy: 0.9300\n",
      "Epoch 3/15\n",
      "1600/1600 [==============================] - 1s 579us/sample - loss: 0.4057 - sparse_categorical_accuracy: 0.9369 - val_loss: 0.4420 - val_sparse_categorical_accuracy: 0.9200\n",
      "Epoch 4/15\n",
      "1600/1600 [==============================] - 1s 574us/sample - loss: 0.3817 - sparse_categorical_accuracy: 0.9425 - val_loss: 0.3774 - val_sparse_categorical_accuracy: 0.9400\n",
      "Epoch 5/15\n",
      "1600/1600 [==============================] - 1s 660us/sample - loss: 0.3627 - sparse_categorical_accuracy: 0.9506 - val_loss: 0.3677 - val_sparse_categorical_accuracy: 0.9475\n",
      "Epoch 6/15\n",
      "1600/1600 [==============================] - 1s 545us/sample - loss: 0.3569 - sparse_categorical_accuracy: 0.9500 - val_loss: 0.3594 - val_sparse_categorical_accuracy: 0.9550\n",
      "Epoch 7/15\n",
      "1600/1600 [==============================] - 1s 582us/sample - loss: 0.3376 - sparse_categorical_accuracy: 0.9556 - val_loss: 0.3391 - val_sparse_categorical_accuracy: 0.9600\n",
      "Epoch 8/15\n",
      "1600/1600 [==============================] - 1s 553us/sample - loss: 0.3299 - sparse_categorical_accuracy: 0.9669 - val_loss: 0.3392 - val_sparse_categorical_accuracy: 0.9475\n",
      "Epoch 9/15\n",
      "1600/1600 [==============================] - 1s 586us/sample - loss: 0.3254 - sparse_categorical_accuracy: 0.9619 - val_loss: 0.4175 - val_sparse_categorical_accuracy: 0.9250\n",
      "Epoch 10/15\n",
      "1600/1600 [==============================] - 1s 571us/sample - loss: 0.3162 - sparse_categorical_accuracy: 0.9675 - val_loss: 0.3269 - val_sparse_categorical_accuracy: 0.9650\n",
      "Epoch 11/15\n",
      "1600/1600 [==============================] - 1s 562us/sample - loss: 0.3076 - sparse_categorical_accuracy: 0.9669 - val_loss: 0.3255 - val_sparse_categorical_accuracy: 0.9625\n",
      "Epoch 12/15\n",
      "1600/1600 [==============================] - 1s 546us/sample - loss: 0.3102 - sparse_categorical_accuracy: 0.9663 - val_loss: 0.3475 - val_sparse_categorical_accuracy: 0.9525\n",
      "Epoch 13/15\n",
      "1600/1600 [==============================] - 1s 562us/sample - loss: 0.2976 - sparse_categorical_accuracy: 0.9694 - val_loss: 0.3234 - val_sparse_categorical_accuracy: 0.9600\n",
      "Epoch 14/15\n",
      "1600/1600 [==============================] - 1s 622us/sample - loss: 0.2980 - sparse_categorical_accuracy: 0.9744 - val_loss: 0.3238 - val_sparse_categorical_accuracy: 0.9575\n",
      "Epoch 15/15\n",
      "1600/1600 [==============================] - 1s 604us/sample - loss: 0.2880 - sparse_categorical_accuracy: 0.9750 - val_loss: 0.3191 - val_sparse_categorical_accuracy: 0.9575\n"
     ]
    },
    {
     "name": "stderr",
     "output_type": "stream",
     "text": [
      "\n",
      "\n",
      " 17%|█▋        | 5/30 [02:57<14:53, 35.73s/it]\u001b[A\u001b[A"
     ]
    },
    {
     "name": "stdout",
     "output_type": "stream",
     "text": [
      "0.9575 0.0021373217587287467 0.000330252434655382\n",
      "Train on 1600 samples, validate on 400 samples\n",
      "Epoch 1/15\n",
      "1600/1600 [==============================] - 10s 6ms/sample - loss: 0.6888 - sparse_categorical_accuracy: 0.6081 - val_loss: 0.4497 - val_sparse_categorical_accuracy: 0.8075\n",
      "Epoch 2/15\n",
      "1600/1600 [==============================] - 1s 555us/sample - loss: 0.4215 - sparse_categorical_accuracy: 0.8194 - val_loss: 0.3510 - val_sparse_categorical_accuracy: 0.8650\n",
      "Epoch 3/15\n",
      "1600/1600 [==============================] - 1s 552us/sample - loss: 0.3534 - sparse_categorical_accuracy: 0.8644 - val_loss: 0.3057 - val_sparse_categorical_accuracy: 0.8950\n",
      "Epoch 4/15\n",
      "1600/1600 [==============================] - 1s 541us/sample - loss: 0.3139 - sparse_categorical_accuracy: 0.8856 - val_loss: 0.2786 - val_sparse_categorical_accuracy: 0.9100\n",
      "Epoch 5/15\n",
      "1600/1600 [==============================] - 1s 579us/sample - loss: 0.2871 - sparse_categorical_accuracy: 0.9062 - val_loss: 0.2582 - val_sparse_categorical_accuracy: 0.9200\n",
      "Epoch 6/15\n",
      "1600/1600 [==============================] - 1s 608us/sample - loss: 0.2701 - sparse_categorical_accuracy: 0.9075 - val_loss: 0.2438 - val_sparse_categorical_accuracy: 0.9300\n",
      "Epoch 7/15\n",
      "1600/1600 [==============================] - 1s 548us/sample - loss: 0.2540 - sparse_categorical_accuracy: 0.9137 - val_loss: 0.2315 - val_sparse_categorical_accuracy: 0.9425\n",
      "Epoch 8/15\n",
      "1600/1600 [==============================] - 1s 539us/sample - loss: 0.2407 - sparse_categorical_accuracy: 0.9206 - val_loss: 0.2262 - val_sparse_categorical_accuracy: 0.9325\n",
      "Epoch 9/15\n",
      "1600/1600 [==============================] - 1s 537us/sample - loss: 0.2318 - sparse_categorical_accuracy: 0.9269 - val_loss: 0.2131 - val_sparse_categorical_accuracy: 0.9375\n",
      "Epoch 10/15\n",
      "1600/1600 [==============================] - 1s 538us/sample - loss: 0.2230 - sparse_categorical_accuracy: 0.9287 - val_loss: 0.2065 - val_sparse_categorical_accuracy: 0.9375\n",
      "Epoch 11/15\n",
      "1600/1600 [==============================] - 1s 546us/sample - loss: 0.2158 - sparse_categorical_accuracy: 0.9337 - val_loss: 0.2001 - val_sparse_categorical_accuracy: 0.9400\n",
      "Epoch 12/15\n",
      "1600/1600 [==============================] - 1s 540us/sample - loss: 0.2086 - sparse_categorical_accuracy: 0.9344 - val_loss: 0.1946 - val_sparse_categorical_accuracy: 0.9400\n",
      "Epoch 13/15\n",
      "1600/1600 [==============================] - 1s 537us/sample - loss: 0.2020 - sparse_categorical_accuracy: 0.9400 - val_loss: 0.1894 - val_sparse_categorical_accuracy: 0.9450\n",
      "Epoch 14/15\n",
      "1600/1600 [==============================] - 1s 536us/sample - loss: 0.1959 - sparse_categorical_accuracy: 0.9350 - val_loss: 0.1888 - val_sparse_categorical_accuracy: 0.9425\n",
      "Epoch 15/15\n",
      "1600/1600 [==============================] - 1s 559us/sample - loss: 0.1920 - sparse_categorical_accuracy: 0.9400 - val_loss: 0.1822 - val_sparse_categorical_accuracy: 0.9475\n"
     ]
    },
    {
     "name": "stderr",
     "output_type": "stream",
     "text": [
      "\n",
      "\n",
      " 20%|██        | 6/30 [03:34<14:28, 36.21s/it]\u001b[A\u001b[A"
     ]
    },
    {
     "name": "stdout",
     "output_type": "stream",
     "text": [
      "0.9475 0.00011546787989074746 9.685270857456587e-06\n",
      "Train on 1600 samples, validate on 400 samples\n",
      "Epoch 1/15\n",
      "1600/1600 [==============================] - 10s 6ms/sample - loss: 0.5412 - sparse_categorical_accuracy: 0.8581 - val_loss: 0.3447 - val_sparse_categorical_accuracy: 0.9225\n",
      "Epoch 2/15\n",
      "1600/1600 [==============================] - 1s 538us/sample - loss: 0.2899 - sparse_categorical_accuracy: 0.9388 - val_loss: 0.2670 - val_sparse_categorical_accuracy: 0.9375\n",
      "Epoch 3/15\n",
      "1600/1600 [==============================] - 1s 535us/sample - loss: 0.2983 - sparse_categorical_accuracy: 0.9350 - val_loss: 0.2582 - val_sparse_categorical_accuracy: 0.9400\n",
      "Epoch 4/15\n",
      "1600/1600 [==============================] - 1s 534us/sample - loss: 0.2284 - sparse_categorical_accuracy: 0.9638 - val_loss: 0.2325 - val_sparse_categorical_accuracy: 0.9575\n",
      "Epoch 5/15\n",
      "1600/1600 [==============================] - 1s 539us/sample - loss: 0.2156 - sparse_categorical_accuracy: 0.9625 - val_loss: 0.2170 - val_sparse_categorical_accuracy: 0.9575\n",
      "Epoch 6/15\n",
      "1600/1600 [==============================] - 1s 535us/sample - loss: 0.2081 - sparse_categorical_accuracy: 0.9638 - val_loss: 0.2158 - val_sparse_categorical_accuracy: 0.9525\n",
      "Epoch 7/15\n",
      "1600/1600 [==============================] - 1s 536us/sample - loss: 0.1963 - sparse_categorical_accuracy: 0.9650 - val_loss: 0.2474 - val_sparse_categorical_accuracy: 0.9425\n",
      "Epoch 8/15\n",
      "1600/1600 [==============================] - 1s 538us/sample - loss: 0.2000 - sparse_categorical_accuracy: 0.9712 - val_loss: 0.2288 - val_sparse_categorical_accuracy: 0.9475\n",
      "Epoch 9/15\n",
      "1600/1600 [==============================] - 1s 533us/sample - loss: 0.1781 - sparse_categorical_accuracy: 0.9737 - val_loss: 0.2118 - val_sparse_categorical_accuracy: 0.9650\n",
      "Epoch 10/15\n",
      "1600/1600 [==============================] - 1s 544us/sample - loss: 0.1680 - sparse_categorical_accuracy: 0.9775 - val_loss: 0.2050 - val_sparse_categorical_accuracy: 0.9575\n",
      "Epoch 11/15\n",
      "1600/1600 [==============================] - 1s 551us/sample - loss: 0.1604 - sparse_categorical_accuracy: 0.9837 - val_loss: 0.1996 - val_sparse_categorical_accuracy: 0.9650\n",
      "Epoch 12/15\n",
      "1600/1600 [==============================] - 1s 559us/sample - loss: 0.1595 - sparse_categorical_accuracy: 0.9812 - val_loss: 0.1891 - val_sparse_categorical_accuracy: 0.9675\n",
      "Epoch 13/15\n",
      "1600/1600 [==============================] - 1s 538us/sample - loss: 0.1769 - sparse_categorical_accuracy: 0.9737 - val_loss: 0.1948 - val_sparse_categorical_accuracy: 0.9725\n",
      "Epoch 14/15\n",
      "1600/1600 [==============================] - 1s 538us/sample - loss: 0.1559 - sparse_categorical_accuracy: 0.9850 - val_loss: 0.1906 - val_sparse_categorical_accuracy: 0.9750\n",
      "Epoch 15/15\n",
      "1600/1600 [==============================] - 1s 544us/sample - loss: 0.1591 - sparse_categorical_accuracy: 0.9812 - val_loss: 0.1995 - val_sparse_categorical_accuracy: 0.9725\n"
     ]
    },
    {
     "name": "stderr",
     "output_type": "stream",
     "text": [
      "\n",
      "\n",
      " 23%|██▎       | 7/30 [04:10<13:49, 36.07s/it]\u001b[A\u001b[A"
     ]
    },
    {
     "name": "stdout",
     "output_type": "stream",
     "text": [
      "0.9725 0.005664947236940586 0.0001597542839151364\n",
      "Train on 1600 samples, validate on 400 samples\n",
      "Epoch 1/15\n",
      "1600/1600 [==============================] - 9s 6ms/sample - loss: 5.4962 - sparse_categorical_accuracy: 0.8081 - val_loss: 5.3222 - val_sparse_categorical_accuracy: 0.8825\n",
      "Epoch 2/15\n",
      "1600/1600 [==============================] - 1s 541us/sample - loss: 5.2546 - sparse_categorical_accuracy: 0.9038 - val_loss: 5.2499 - val_sparse_categorical_accuracy: 0.9050\n",
      "Epoch 3/15\n",
      "1600/1600 [==============================] - 1s 535us/sample - loss: 5.1977 - sparse_categorical_accuracy: 0.9312 - val_loss: 5.1717 - val_sparse_categorical_accuracy: 0.9350\n",
      "Epoch 4/15\n",
      "1600/1600 [==============================] - 1s 535us/sample - loss: 5.1531 - sparse_categorical_accuracy: 0.9394 - val_loss: 5.1564 - val_sparse_categorical_accuracy: 0.9350\n",
      "Epoch 5/15\n",
      "1600/1600 [==============================] - 1s 537us/sample - loss: 5.1369 - sparse_categorical_accuracy: 0.9413 - val_loss: 5.1204 - val_sparse_categorical_accuracy: 0.9400\n",
      "Epoch 6/15\n",
      "1600/1600 [==============================] - 1s 551us/sample - loss: 5.1005 - sparse_categorical_accuracy: 0.9538 - val_loss: 5.1104 - val_sparse_categorical_accuracy: 0.9375\n",
      "Epoch 7/15\n",
      "1600/1600 [==============================] - 1s 548us/sample - loss: 5.0703 - sparse_categorical_accuracy: 0.9569 - val_loss: 5.0769 - val_sparse_categorical_accuracy: 0.9550\n",
      "Epoch 8/15\n",
      "1600/1600 [==============================] - 1s 538us/sample - loss: 5.0553 - sparse_categorical_accuracy: 0.9638 - val_loss: 5.0568 - val_sparse_categorical_accuracy: 0.9575\n",
      "Epoch 9/15\n",
      "1600/1600 [==============================] - 1s 544us/sample - loss: 5.0314 - sparse_categorical_accuracy: 0.9656 - val_loss: 5.0568 - val_sparse_categorical_accuracy: 0.9475\n",
      "Epoch 10/15\n",
      "1600/1600 [==============================] - 1s 540us/sample - loss: 5.0129 - sparse_categorical_accuracy: 0.9681 - val_loss: 5.0385 - val_sparse_categorical_accuracy: 0.9425\n",
      "Epoch 11/15\n",
      "1600/1600 [==============================] - 1s 536us/sample - loss: 4.9942 - sparse_categorical_accuracy: 0.9663 - val_loss: 5.0183 - val_sparse_categorical_accuracy: 0.9500\n",
      "Epoch 12/15\n",
      "1600/1600 [==============================] - 1s 541us/sample - loss: 4.9752 - sparse_categorical_accuracy: 0.9694 - val_loss: 4.9990 - val_sparse_categorical_accuracy: 0.9550\n",
      "Epoch 13/15\n",
      "1600/1600 [==============================] - 1s 535us/sample - loss: 4.9586 - sparse_categorical_accuracy: 0.9694 - val_loss: 4.9764 - val_sparse_categorical_accuracy: 0.9600\n",
      "Epoch 14/15\n",
      "1600/1600 [==============================] - 1s 535us/sample - loss: 4.9392 - sparse_categorical_accuracy: 0.9719 - val_loss: 4.9630 - val_sparse_categorical_accuracy: 0.9650\n",
      "Epoch 15/15\n",
      "1600/1600 [==============================] - 1s 537us/sample - loss: 4.9223 - sparse_categorical_accuracy: 0.9744 - val_loss: 4.9881 - val_sparse_categorical_accuracy: 0.9375\n"
     ]
    },
    {
     "name": "stderr",
     "output_type": "stream",
     "text": [
      "\n",
      "\n",
      " 27%|██▋       | 8/30 [04:46<13:10, 35.92s/it]\u001b[A\u001b[A"
     ]
    },
    {
     "name": "stdout",
     "output_type": "stream",
     "text": [
      "0.9375 0.0016756472751727508 0.007853317076531282\n",
      "Train on 1600 samples, validate on 400 samples\n",
      "Epoch 1/15\n",
      "1600/1600 [==============================] - 10s 6ms/sample - loss: 1.8408 - sparse_categorical_accuracy: 0.7725 - val_loss: 1.6709 - val_sparse_categorical_accuracy: 0.8650\n",
      "Epoch 2/15\n",
      "1600/1600 [==============================] - 1s 564us/sample - loss: 1.6632 - sparse_categorical_accuracy: 0.8656 - val_loss: 1.6448 - val_sparse_categorical_accuracy: 0.8700\n",
      "Epoch 3/15\n",
      "1600/1600 [==============================] - 1s 605us/sample - loss: 1.6091 - sparse_categorical_accuracy: 0.9013 - val_loss: 1.5752 - val_sparse_categorical_accuracy: 0.9200\n",
      "Epoch 4/15\n",
      "1600/1600 [==============================] - 1s 549us/sample - loss: 1.5777 - sparse_categorical_accuracy: 0.9169 - val_loss: 1.5622 - val_sparse_categorical_accuracy: 0.9375\n",
      "Epoch 5/15\n",
      "1600/1600 [==============================] - 1s 538us/sample - loss: 1.5544 - sparse_categorical_accuracy: 0.9231 - val_loss: 1.5607 - val_sparse_categorical_accuracy: 0.9325\n",
      "Epoch 6/15\n",
      "1600/1600 [==============================] - 1s 542us/sample - loss: 1.5385 - sparse_categorical_accuracy: 0.9312 - val_loss: 1.5418 - val_sparse_categorical_accuracy: 0.9475\n",
      "Epoch 7/15\n",
      "1600/1600 [==============================] - 1s 539us/sample - loss: 1.5244 - sparse_categorical_accuracy: 0.9375 - val_loss: 1.5233 - val_sparse_categorical_accuracy: 0.9450\n",
      "Epoch 8/15\n",
      "1600/1600 [==============================] - 1s 540us/sample - loss: 1.5118 - sparse_categorical_accuracy: 0.9456 - val_loss: 1.5167 - val_sparse_categorical_accuracy: 0.9525\n",
      "Epoch 9/15\n",
      "1600/1600 [==============================] - 1s 541us/sample - loss: 1.5028 - sparse_categorical_accuracy: 0.9500 - val_loss: 1.5132 - val_sparse_categorical_accuracy: 0.9475\n",
      "Epoch 10/15\n",
      "1600/1600 [==============================] - 1s 538us/sample - loss: 1.4953 - sparse_categorical_accuracy: 0.9494 - val_loss: 1.5037 - val_sparse_categorical_accuracy: 0.9525\n",
      "Epoch 11/15\n",
      "1600/1600 [==============================] - 1s 537us/sample - loss: 1.4895 - sparse_categorical_accuracy: 0.9519 - val_loss: 1.4998 - val_sparse_categorical_accuracy: 0.9500\n",
      "Epoch 12/15\n",
      "1600/1600 [==============================] - 1s 540us/sample - loss: 1.4823 - sparse_categorical_accuracy: 0.9569 - val_loss: 1.4996 - val_sparse_categorical_accuracy: 0.9500\n",
      "Epoch 13/15\n",
      "1600/1600 [==============================] - 1s 543us/sample - loss: 1.4763 - sparse_categorical_accuracy: 0.9581 - val_loss: 1.4924 - val_sparse_categorical_accuracy: 0.9550\n",
      "Epoch 14/15\n",
      "1600/1600 [==============================] - 1s 538us/sample - loss: 1.4689 - sparse_categorical_accuracy: 0.9575 - val_loss: 1.5195 - val_sparse_categorical_accuracy: 0.9375\n",
      "Epoch 15/15\n",
      "1600/1600 [==============================] - 1s 540us/sample - loss: 1.4628 - sparse_categorical_accuracy: 0.9619 - val_loss: 1.5200 - val_sparse_categorical_accuracy: 0.9375\n"
     ]
    },
    {
     "name": "stderr",
     "output_type": "stream",
     "text": [
      "\n",
      "\n",
      " 30%|███       | 9/30 [05:22<12:35, 35.98s/it]\u001b[A\u001b[A"
     ]
    },
    {
     "name": "stdout",
     "output_type": "stream",
     "text": [
      "0.9375 0.0005292370540430307 0.002102038627566575\n",
      "Train on 1600 samples, validate on 400 samples\n",
      "Epoch 1/15\n",
      "1600/1600 [==============================] - 10s 6ms/sample - loss: 1.4548 - sparse_categorical_accuracy: 0.8250 - val_loss: 1.3356 - val_sparse_categorical_accuracy: 0.9025\n",
      "Epoch 2/15\n",
      "1600/1600 [==============================] - 1s 535us/sample - loss: 1.3157 - sparse_categorical_accuracy: 0.8950 - val_loss: 1.2823 - val_sparse_categorical_accuracy: 0.9200\n",
      "Epoch 3/15\n",
      "1600/1600 [==============================] - 1s 537us/sample - loss: 1.2701 - sparse_categorical_accuracy: 0.9212 - val_loss: 1.2566 - val_sparse_categorical_accuracy: 0.9400\n",
      "Epoch 4/15\n",
      "1600/1600 [==============================] - 1s 539us/sample - loss: 1.2425 - sparse_categorical_accuracy: 0.9325 - val_loss: 1.2377 - val_sparse_categorical_accuracy: 0.9500\n",
      "Epoch 5/15\n",
      "1600/1600 [==============================] - 1s 536us/sample - loss: 1.2242 - sparse_categorical_accuracy: 0.9413 - val_loss: 1.2172 - val_sparse_categorical_accuracy: 0.9375\n",
      "Epoch 6/15\n",
      "1600/1600 [==============================] - 1s 537us/sample - loss: 1.2095 - sparse_categorical_accuracy: 0.9475 - val_loss: 1.2338 - val_sparse_categorical_accuracy: 0.9375\n",
      "Epoch 7/15\n",
      "1600/1600 [==============================] - 1s 534us/sample - loss: 1.1996 - sparse_categorical_accuracy: 0.9475 - val_loss: 1.2256 - val_sparse_categorical_accuracy: 0.9425\n",
      "Epoch 8/15\n",
      "1600/1600 [==============================] - 1s 536us/sample - loss: 1.1909 - sparse_categorical_accuracy: 0.9531 - val_loss: 1.2024 - val_sparse_categorical_accuracy: 0.9500\n",
      "Epoch 9/15\n",
      "1600/1600 [==============================] - 1s 538us/sample - loss: 1.1801 - sparse_categorical_accuracy: 0.9519 - val_loss: 1.1868 - val_sparse_categorical_accuracy: 0.9550\n",
      "Epoch 10/15\n",
      "1600/1600 [==============================] - 1s 538us/sample - loss: 1.1740 - sparse_categorical_accuracy: 0.9550 - val_loss: 1.1791 - val_sparse_categorical_accuracy: 0.9550\n",
      "Epoch 11/15\n",
      "1600/1600 [==============================] - 1s 535us/sample - loss: 1.1664 - sparse_categorical_accuracy: 0.9625 - val_loss: 1.1750 - val_sparse_categorical_accuracy: 0.9575\n",
      "Epoch 12/15\n",
      "1600/1600 [==============================] - 1s 542us/sample - loss: 1.1669 - sparse_categorical_accuracy: 0.9556 - val_loss: 1.1714 - val_sparse_categorical_accuracy: 0.9575\n",
      "Epoch 13/15\n",
      "1600/1600 [==============================] - 1s 539us/sample - loss: 1.1596 - sparse_categorical_accuracy: 0.9606 - val_loss: 1.1698 - val_sparse_categorical_accuracy: 0.9600\n",
      "Epoch 14/15\n",
      "1600/1600 [==============================] - 1s 539us/sample - loss: 1.1522 - sparse_categorical_accuracy: 0.9644 - val_loss: 1.1636 - val_sparse_categorical_accuracy: 0.9575\n",
      "Epoch 15/15\n",
      "1600/1600 [==============================] - 1s 554us/sample - loss: 1.1550 - sparse_categorical_accuracy: 0.9594 - val_loss: 1.1634 - val_sparse_categorical_accuracy: 0.9600\n"
     ]
    },
    {
     "name": "stderr",
     "output_type": "stream",
     "text": [
      "\n",
      "\n",
      " 33%|███▎      | 10/30 [05:58<11:59, 35.99s/it]\u001b[A\u001b[A"
     ]
    },
    {
     "name": "stdout",
     "output_type": "stream",
     "text": [
      "0.96 0.0007706275590196288 0.0016132068522539756\n",
      "Train on 1600 samples, validate on 400 samples\n",
      "Epoch 1/15\n",
      "1600/1600 [==============================] - 10s 6ms/sample - loss: 0.4578 - sparse_categorical_accuracy: 0.8288 - val_loss: 0.3282 - val_sparse_categorical_accuracy: 0.9125\n",
      "Epoch 2/15\n",
      "1600/1600 [==============================] - 1s 564us/sample - loss: 0.3242 - sparse_categorical_accuracy: 0.8956 - val_loss: 0.2851 - val_sparse_categorical_accuracy: 0.9250\n",
      "Epoch 3/15\n",
      "1600/1600 [==============================] - 1s 546us/sample - loss: 0.2831 - sparse_categorical_accuracy: 0.9175 - val_loss: 0.2577 - val_sparse_categorical_accuracy: 0.9375\n",
      "Epoch 4/15\n",
      "1600/1600 [==============================] - 1s 539us/sample - loss: 0.2587 - sparse_categorical_accuracy: 0.9312 - val_loss: 0.2416 - val_sparse_categorical_accuracy: 0.9425\n",
      "Epoch 5/15\n",
      "1600/1600 [==============================] - 1s 538us/sample - loss: 0.2410 - sparse_categorical_accuracy: 0.9388 - val_loss: 0.2276 - val_sparse_categorical_accuracy: 0.9500\n",
      "Epoch 6/15\n",
      "1600/1600 [==============================] - 1s 536us/sample - loss: 0.2297 - sparse_categorical_accuracy: 0.9438 - val_loss: 0.2203 - val_sparse_categorical_accuracy: 0.9475\n",
      "Epoch 7/15\n",
      "1600/1600 [==============================] - 1s 539us/sample - loss: 0.2182 - sparse_categorical_accuracy: 0.9488 - val_loss: 0.2159 - val_sparse_categorical_accuracy: 0.9525\n",
      "Epoch 8/15\n",
      "1600/1600 [==============================] - 1s 537us/sample - loss: 0.2082 - sparse_categorical_accuracy: 0.9475 - val_loss: 0.2110 - val_sparse_categorical_accuracy: 0.9450\n",
      "Epoch 9/15\n",
      "1600/1600 [==============================] - 1s 537us/sample - loss: 0.2047 - sparse_categorical_accuracy: 0.9456 - val_loss: 0.2118 - val_sparse_categorical_accuracy: 0.9450\n",
      "Epoch 10/15\n",
      "1600/1600 [==============================] - 1s 541us/sample - loss: 0.1928 - sparse_categorical_accuracy: 0.9525 - val_loss: 0.1974 - val_sparse_categorical_accuracy: 0.9575\n",
      "Epoch 11/15\n",
      "1600/1600 [==============================] - 1s 560us/sample - loss: 0.1860 - sparse_categorical_accuracy: 0.9544 - val_loss: 0.1959 - val_sparse_categorical_accuracy: 0.9550\n",
      "Epoch 12/15\n",
      "1600/1600 [==============================] - 1s 538us/sample - loss: 0.1827 - sparse_categorical_accuracy: 0.9575 - val_loss: 0.1937 - val_sparse_categorical_accuracy: 0.9575\n",
      "Epoch 13/15\n",
      "1600/1600 [==============================] - 1s 539us/sample - loss: 0.1791 - sparse_categorical_accuracy: 0.9563 - val_loss: 0.1889 - val_sparse_categorical_accuracy: 0.9525\n",
      "Epoch 14/15\n",
      "1600/1600 [==============================] - 1s 537us/sample - loss: 0.1713 - sparse_categorical_accuracy: 0.9600 - val_loss: 0.1831 - val_sparse_categorical_accuracy: 0.9625\n",
      "Epoch 15/15\n",
      "1600/1600 [==============================] - 1s 540us/sample - loss: 0.1687 - sparse_categorical_accuracy: 0.9600 - val_loss: 0.1816 - val_sparse_categorical_accuracy: 0.9625\n"
     ]
    },
    {
     "name": "stderr",
     "output_type": "stream",
     "text": [
      "\n",
      "\n",
      " 37%|███▋      | 11/30 [06:34<11:24, 36.03s/it]\u001b[A\u001b[A"
     ]
    },
    {
     "name": "stdout",
     "output_type": "stream",
     "text": [
      "0.9625 0.0005162810738005957 5.632861724272285e-05\n",
      "Train on 1600 samples, validate on 400 samples\n",
      "Epoch 1/15\n",
      "1600/1600 [==============================] - 10s 6ms/sample - loss: 29.6797 - sparse_categorical_accuracy: 0.8281 - val_loss: 28.2330 - val_sparse_categorical_accuracy: 0.9125\n",
      "Epoch 2/15\n",
      "1600/1600 [==============================] - 1s 542us/sample - loss: 27.2555 - sparse_categorical_accuracy: 0.9156 - val_loss: 26.2462 - val_sparse_categorical_accuracy: 0.9225\n",
      "Epoch 3/15\n",
      "1600/1600 [==============================] - 1s 536us/sample - loss: 25.3615 - sparse_categorical_accuracy: 0.9337 - val_loss: 24.4315 - val_sparse_categorical_accuracy: 0.9400\n",
      "Epoch 4/15\n",
      "1600/1600 [==============================] - 1s 539us/sample - loss: 23.6147 - sparse_categorical_accuracy: 0.9425 - val_loss: 22.7506 - val_sparse_categorical_accuracy: 0.9500\n",
      "Epoch 5/15\n",
      "1600/1600 [==============================] - 1s 556us/sample - loss: 21.9789 - sparse_categorical_accuracy: 0.9550 - val_loss: 21.2546 - val_sparse_categorical_accuracy: 0.9275\n",
      "Epoch 6/15\n",
      "1600/1600 [==============================] - 1s 565us/sample - loss: 20.4731 - sparse_categorical_accuracy: 0.9556 - val_loss: 19.7489 - val_sparse_categorical_accuracy: 0.9500\n",
      "Epoch 7/15\n",
      "1600/1600 [==============================] - 1s 577us/sample - loss: 19.0577 - sparse_categorical_accuracy: 0.9681 - val_loss: 18.5069 - val_sparse_categorical_accuracy: 0.9000\n",
      "Epoch 8/15\n",
      "1600/1600 [==============================] - 1s 572us/sample - loss: 17.7686 - sparse_categorical_accuracy: 0.9569 - val_loss: 17.1283 - val_sparse_categorical_accuracy: 0.9575\n",
      "Epoch 9/15\n",
      "1600/1600 [==============================] - 1s 557us/sample - loss: 16.5531 - sparse_categorical_accuracy: 0.9631 - val_loss: 15.9619 - val_sparse_categorical_accuracy: 0.9575\n",
      "Epoch 10/15\n",
      "1600/1600 [==============================] - 1s 573us/sample - loss: 15.4105 - sparse_categorical_accuracy: 0.9688 - val_loss: 14.8810 - val_sparse_categorical_accuracy: 0.9650\n",
      "Epoch 11/15\n",
      "1600/1600 [==============================] - 1s 550us/sample - loss: 14.3595 - sparse_categorical_accuracy: 0.9681 - val_loss: 13.8679 - val_sparse_categorical_accuracy: 0.9600\n",
      "Epoch 12/15\n",
      "1600/1600 [==============================] - 1s 545us/sample - loss: 13.3833 - sparse_categorical_accuracy: 0.9688 - val_loss: 12.9206 - val_sparse_categorical_accuracy: 0.9600\n",
      "Epoch 13/15\n",
      "1600/1600 [==============================] - 1s 545us/sample - loss: 12.4730 - sparse_categorical_accuracy: 0.9712 - val_loss: 12.0436 - val_sparse_categorical_accuracy: 0.9700\n",
      "Epoch 14/15\n",
      "1600/1600 [==============================] - 1s 548us/sample - loss: 11.6395 - sparse_categorical_accuracy: 0.9644 - val_loss: 11.2285 - val_sparse_categorical_accuracy: 0.9625\n",
      "Epoch 15/15\n",
      "1600/1600 [==============================] - 1s 566us/sample - loss: 10.8356 - sparse_categorical_accuracy: 0.9694 - val_loss: 10.4925 - val_sparse_categorical_accuracy: 0.9550\n"
     ]
    },
    {
     "name": "stderr",
     "output_type": "stream",
     "text": [
      "\n",
      "\n",
      " 40%|████      | 12/30 [07:11<10:53, 36.31s/it]\u001b[A\u001b[A"
     ]
    },
    {
     "name": "stdout",
     "output_type": "stream",
     "text": [
      "0.955 0.007603334906345555 0.046968430432505925\n",
      "Train on 1600 samples, validate on 400 samples\n",
      "Epoch 1/15\n",
      "1600/1600 [==============================] - 11s 7ms/sample - loss: 7.0125 - sparse_categorical_accuracy: 0.8056 - val_loss: 6.7934 - val_sparse_categorical_accuracy: 0.8625\n",
      "Epoch 2/15\n",
      "1600/1600 [==============================] - 1s 667us/sample - loss: 6.7101 - sparse_categorical_accuracy: 0.9019 - val_loss: 6.6376 - val_sparse_categorical_accuracy: 0.9225\n",
      "Epoch 3/15\n",
      "1600/1600 [==============================] - 1s 550us/sample - loss: 6.6029 - sparse_categorical_accuracy: 0.9337 - val_loss: 6.6024 - val_sparse_categorical_accuracy: 0.9200\n",
      "Epoch 4/15\n",
      "1600/1600 [==============================] - 1s 539us/sample - loss: 6.5385 - sparse_categorical_accuracy: 0.9438 - val_loss: 6.5189 - val_sparse_categorical_accuracy: 0.9475\n",
      "Epoch 5/15\n",
      "1600/1600 [==============================] - 1s 538us/sample - loss: 6.4923 - sparse_categorical_accuracy: 0.9400 - val_loss: 6.4597 - val_sparse_categorical_accuracy: 0.9500\n",
      "Epoch 6/15\n",
      "1600/1600 [==============================] - 1s 543us/sample - loss: 6.4325 - sparse_categorical_accuracy: 0.9544 - val_loss: 6.4155 - val_sparse_categorical_accuracy: 0.9450\n",
      "Epoch 7/15\n",
      "1600/1600 [==============================] - 1s 551us/sample - loss: 6.3756 - sparse_categorical_accuracy: 0.9606 - val_loss: 6.3818 - val_sparse_categorical_accuracy: 0.9500\n",
      "Epoch 8/15\n",
      "1600/1600 [==============================] - 1s 558us/sample - loss: 6.3301 - sparse_categorical_accuracy: 0.9581 - val_loss: 6.3211 - val_sparse_categorical_accuracy: 0.9500\n",
      "Epoch 9/15\n",
      "1600/1600 [==============================] - 1s 581us/sample - loss: 6.2793 - sparse_categorical_accuracy: 0.9638 - val_loss: 6.3203 - val_sparse_categorical_accuracy: 0.9425\n",
      "Epoch 10/15\n",
      "1600/1600 [==============================] - 1s 559us/sample - loss: 6.2394 - sparse_categorical_accuracy: 0.9638 - val_loss: 6.2370 - val_sparse_categorical_accuracy: 0.9550\n",
      "Epoch 11/15\n",
      "1600/1600 [==============================] - 1s 537us/sample - loss: 6.1971 - sparse_categorical_accuracy: 0.9638 - val_loss: 6.2435 - val_sparse_categorical_accuracy: 0.9400\n",
      "Epoch 12/15\n",
      "1600/1600 [==============================] - 1s 567us/sample - loss: 6.1457 - sparse_categorical_accuracy: 0.9719 - val_loss: 6.1498 - val_sparse_categorical_accuracy: 0.9525\n",
      "Epoch 13/15\n",
      "1600/1600 [==============================] - 1s 561us/sample - loss: 6.1045 - sparse_categorical_accuracy: 0.9725 - val_loss: 6.1147 - val_sparse_categorical_accuracy: 0.9600\n",
      "Epoch 14/15\n",
      "1600/1600 [==============================] - 1s 548us/sample - loss: 6.0629 - sparse_categorical_accuracy: 0.9744 - val_loss: 6.0702 - val_sparse_categorical_accuracy: 0.9600\n",
      "Epoch 15/15\n",
      "1600/1600 [==============================] - 1s 578us/sample - loss: 6.0225 - sparse_categorical_accuracy: 0.9712 - val_loss: 6.0303 - val_sparse_categorical_accuracy: 0.9550\n"
     ]
    },
    {
     "name": "stderr",
     "output_type": "stream",
     "text": [
      "\n",
      "\n",
      " 43%|████▎     | 13/30 [07:49<10:28, 36.95s/it]\u001b[A\u001b[A"
     ]
    },
    {
     "name": "stdout",
     "output_type": "stream",
     "text": [
      "0.955 0.0031642418277492757 0.010185165887279735\n",
      "Train on 1600 samples, validate on 400 samples\n",
      "Epoch 1/15\n",
      "1600/1600 [==============================] - 11s 7ms/sample - loss: 0.7264 - sparse_categorical_accuracy: 0.8338 - val_loss: 0.4051 - val_sparse_categorical_accuracy: 0.9100\n",
      "Epoch 2/15\n",
      "1600/1600 [==============================] - 1s 546us/sample - loss: 0.3994 - sparse_categorical_accuracy: 0.9206 - val_loss: 0.3588 - val_sparse_categorical_accuracy: 0.9525\n",
      "Epoch 3/15\n",
      "1600/1600 [==============================] - 1s 546us/sample - loss: 0.3651 - sparse_categorical_accuracy: 0.9388 - val_loss: 0.3354 - val_sparse_categorical_accuracy: 0.9575\n",
      "Epoch 4/15\n",
      "1600/1600 [==============================] - 1s 559us/sample - loss: 0.3528 - sparse_categorical_accuracy: 0.9425 - val_loss: 0.3276 - val_sparse_categorical_accuracy: 0.9525\n",
      "Epoch 5/15\n",
      "1600/1600 [==============================] - 1s 544us/sample - loss: 0.3076 - sparse_categorical_accuracy: 0.9594 - val_loss: 0.3080 - val_sparse_categorical_accuracy: 0.9650\n",
      "Epoch 6/15\n",
      "1600/1600 [==============================] - 1s 551us/sample - loss: 0.2999 - sparse_categorical_accuracy: 0.9619 - val_loss: 0.3264 - val_sparse_categorical_accuracy: 0.9475\n",
      "Epoch 7/15\n",
      "1600/1600 [==============================] - 1s 547us/sample - loss: 0.2910 - sparse_categorical_accuracy: 0.9600 - val_loss: 0.2996 - val_sparse_categorical_accuracy: 0.9700\n",
      "Epoch 8/15\n",
      "1600/1600 [==============================] - 1s 577us/sample - loss: 0.2745 - sparse_categorical_accuracy: 0.9681 - val_loss: 0.2871 - val_sparse_categorical_accuracy: 0.9650\n",
      "Epoch 9/15\n",
      "1600/1600 [==============================] - 1s 562us/sample - loss: 0.2634 - sparse_categorical_accuracy: 0.9731 - val_loss: 0.3217 - val_sparse_categorical_accuracy: 0.9550\n",
      "Epoch 10/15\n",
      "1600/1600 [==============================] - 1s 572us/sample - loss: 0.2665 - sparse_categorical_accuracy: 0.9725 - val_loss: 0.2847 - val_sparse_categorical_accuracy: 0.9625\n",
      "Epoch 11/15\n",
      "1600/1600 [==============================] - 1s 571us/sample - loss: 0.2620 - sparse_categorical_accuracy: 0.9731 - val_loss: 0.2880 - val_sparse_categorical_accuracy: 0.9700\n",
      "Epoch 12/15\n",
      "1600/1600 [==============================] - 1s 624us/sample - loss: 0.2522 - sparse_categorical_accuracy: 0.9731 - val_loss: 0.2928 - val_sparse_categorical_accuracy: 0.9575\n",
      "Epoch 13/15\n",
      "1600/1600 [==============================] - 1s 572us/sample - loss: 0.2475 - sparse_categorical_accuracy: 0.9762 - val_loss: 0.2797 - val_sparse_categorical_accuracy: 0.9625\n",
      "Epoch 14/15\n",
      "1600/1600 [==============================] - 1s 572us/sample - loss: 0.2848 - sparse_categorical_accuracy: 0.9669 - val_loss: 0.3011 - val_sparse_categorical_accuracy: 0.9575\n",
      "Epoch 15/15\n",
      "1600/1600 [==============================] - 1s 557us/sample - loss: 0.2390 - sparse_categorical_accuracy: 0.9819 - val_loss: 0.2833 - val_sparse_categorical_accuracy: 0.9675\n"
     ]
    },
    {
     "name": "stderr",
     "output_type": "stream",
     "text": [
      "\n",
      "\n",
      " 47%|████▋     | 14/30 [08:28<10:02, 37.63s/it]\u001b[A\u001b[A"
     ]
    },
    {
     "name": "stdout",
     "output_type": "stream",
     "text": [
      "0.9675 0.0030070841171079958 0.0002743041941158186\n",
      "Train on 1600 samples, validate on 400 samples\n",
      "Epoch 1/15\n",
      "1600/1600 [==============================] - 11s 7ms/sample - loss: 18.6683 - sparse_categorical_accuracy: 0.8006 - val_loss: 18.2635 - val_sparse_categorical_accuracy: 0.9125\n",
      "Epoch 2/15\n",
      "1600/1600 [==============================] - 1s 544us/sample - loss: 18.1878 - sparse_categorical_accuracy: 0.9013 - val_loss: 18.0252 - val_sparse_categorical_accuracy: 0.9350\n",
      "Epoch 3/15\n",
      "1600/1600 [==============================] - 1s 545us/sample - loss: 17.9469 - sparse_categorical_accuracy: 0.9250 - val_loss: 17.8234 - val_sparse_categorical_accuracy: 0.9475\n",
      "Epoch 4/15\n",
      "1600/1600 [==============================] - 1s 572us/sample - loss: 17.7488 - sparse_categorical_accuracy: 0.9294 - val_loss: 17.6341 - val_sparse_categorical_accuracy: 0.9450\n",
      "Epoch 5/15\n",
      "1600/1600 [==============================] - 1s 553us/sample - loss: 17.5361 - sparse_categorical_accuracy: 0.9475 - val_loss: 17.4369 - val_sparse_categorical_accuracy: 0.9525\n",
      "Epoch 6/15\n",
      "1600/1600 [==============================] - 1s 618us/sample - loss: 17.3446 - sparse_categorical_accuracy: 0.9481 - val_loss: 17.2585 - val_sparse_categorical_accuracy: 0.9575\n",
      "Epoch 7/15\n",
      "1600/1600 [==============================] - 1s 576us/sample - loss: 17.1850 - sparse_categorical_accuracy: 0.9431 - val_loss: 17.0890 - val_sparse_categorical_accuracy: 0.9525\n",
      "Epoch 8/15\n",
      "1600/1600 [==============================] - 1s 575us/sample - loss: 16.9815 - sparse_categorical_accuracy: 0.9588 - val_loss: 16.8954 - val_sparse_categorical_accuracy: 0.9575\n",
      "Epoch 9/15\n",
      "1600/1600 [==============================] - 1s 579us/sample - loss: 16.8000 - sparse_categorical_accuracy: 0.9606 - val_loss: 16.7213 - val_sparse_categorical_accuracy: 0.9500\n",
      "Epoch 10/15\n",
      "1600/1600 [==============================] - 1s 568us/sample - loss: 16.6157 - sparse_categorical_accuracy: 0.9638 - val_loss: 16.5596 - val_sparse_categorical_accuracy: 0.9600\n",
      "Epoch 11/15\n",
      "1600/1600 [==============================] - 1s 556us/sample - loss: 16.4389 - sparse_categorical_accuracy: 0.9631 - val_loss: 16.3698 - val_sparse_categorical_accuracy: 0.9550\n",
      "Epoch 12/15\n",
      "1600/1600 [==============================] - 1s 621us/sample - loss: 16.2740 - sparse_categorical_accuracy: 0.9669 - val_loss: 16.2092 - val_sparse_categorical_accuracy: 0.9600\n",
      "Epoch 13/15\n",
      "1600/1600 [==============================] - 1s 585us/sample - loss: 16.0975 - sparse_categorical_accuracy: 0.9694 - val_loss: 16.0379 - val_sparse_categorical_accuracy: 0.9600\n",
      "Epoch 14/15\n",
      "1600/1600 [==============================] - 1s 585us/sample - loss: 15.9288 - sparse_categorical_accuracy: 0.9719 - val_loss: 15.8678 - val_sparse_categorical_accuracy: 0.9550\n",
      "Epoch 15/15\n",
      "1600/1600 [==============================] - 1s 576us/sample - loss: 15.7651 - sparse_categorical_accuracy: 0.9712 - val_loss: 15.7581 - val_sparse_categorical_accuracy: 0.9450\n"
     ]
    },
    {
     "name": "stderr",
     "output_type": "stream",
     "text": [
      "\n",
      "\n",
      " 50%|█████     | 15/30 [09:08<09:31, 38.08s/it]\u001b[A\u001b[A"
     ]
    },
    {
     "name": "stdout",
     "output_type": "stream",
     "text": [
      "0.945 0.001834562737569804 0.028432779722585344\n",
      "Train on 1600 samples, validate on 400 samples\n",
      "Epoch 1/15\n",
      "1600/1600 [==============================] - 10s 6ms/sample - loss: 0.8541 - sparse_categorical_accuracy: 0.8406 - val_loss: 0.5188 - val_sparse_categorical_accuracy: 0.9325\n",
      "Epoch 2/15\n",
      "1600/1600 [==============================] - 1s 546us/sample - loss: 0.5195 - sparse_categorical_accuracy: 0.9281 - val_loss: 0.4797 - val_sparse_categorical_accuracy: 0.9550\n",
      "Epoch 3/15\n",
      "1600/1600 [==============================] - 1s 559us/sample - loss: 0.4816 - sparse_categorical_accuracy: 0.9456 - val_loss: 0.8055 - val_sparse_categorical_accuracy: 0.7500\n",
      "Epoch 4/15\n",
      "1600/1600 [==============================] - 1s 570us/sample - loss: 0.4741 - sparse_categorical_accuracy: 0.9469 - val_loss: 0.4523 - val_sparse_categorical_accuracy: 0.9600\n",
      "Epoch 5/15\n",
      "1600/1600 [==============================] - 1s 563us/sample - loss: 0.4370 - sparse_categorical_accuracy: 0.9669 - val_loss: 0.4573 - val_sparse_categorical_accuracy: 0.9500\n",
      "Epoch 6/15\n",
      "1600/1600 [==============================] - 1s 572us/sample - loss: 0.4345 - sparse_categorical_accuracy: 0.9644 - val_loss: 0.4736 - val_sparse_categorical_accuracy: 0.9625\n",
      "Epoch 7/15\n",
      "1600/1600 [==============================] - 1s 564us/sample - loss: 0.3996 - sparse_categorical_accuracy: 0.9725 - val_loss: 0.4320 - val_sparse_categorical_accuracy: 0.9550\n",
      "Epoch 8/15\n",
      "1600/1600 [==============================] - 1s 561us/sample - loss: 0.3927 - sparse_categorical_accuracy: 0.9806 - val_loss: 0.4612 - val_sparse_categorical_accuracy: 0.9550\n",
      "Epoch 9/15\n",
      "1600/1600 [==============================] - 1s 573us/sample - loss: 0.3919 - sparse_categorical_accuracy: 0.9737 - val_loss: 0.4238 - val_sparse_categorical_accuracy: 0.9550\n",
      "Epoch 10/15\n",
      "1600/1600 [==============================] - 1s 568us/sample - loss: 0.3790 - sparse_categorical_accuracy: 0.9856 - val_loss: 0.4378 - val_sparse_categorical_accuracy: 0.9550\n",
      "Epoch 11/15\n",
      "1600/1600 [==============================] - 1s 590us/sample - loss: 0.3731 - sparse_categorical_accuracy: 0.9825 - val_loss: 0.4494 - val_sparse_categorical_accuracy: 0.9675\n",
      "Epoch 12/15\n",
      "1600/1600 [==============================] - 1s 599us/sample - loss: 0.3662 - sparse_categorical_accuracy: 0.9869 - val_loss: 0.4249 - val_sparse_categorical_accuracy: 0.9550\n",
      "Epoch 13/15\n",
      "1600/1600 [==============================] - 1s 577us/sample - loss: 0.3648 - sparse_categorical_accuracy: 0.9869 - val_loss: 0.4286 - val_sparse_categorical_accuracy: 0.9550\n",
      "Epoch 14/15\n",
      "1600/1600 [==============================] - 1s 560us/sample - loss: 0.3569 - sparse_categorical_accuracy: 0.9906 - val_loss: 0.4392 - val_sparse_categorical_accuracy: 0.9675\n",
      "Epoch 15/15\n",
      "1600/1600 [==============================] - 1s 582us/sample - loss: 0.3589 - sparse_categorical_accuracy: 0.9869 - val_loss: 0.4221 - val_sparse_categorical_accuracy: 0.9650\n"
     ]
    },
    {
     "name": "stderr",
     "output_type": "stream",
     "text": [
      "\n",
      "\n",
      " 53%|█████▎    | 16/30 [09:46<08:54, 38.19s/it]\u001b[A\u001b[A"
     ]
    },
    {
     "name": "stdout",
     "output_type": "stream",
     "text": [
      "0.965 0.008366689123479676 0.0005008409721048519\n",
      "Train on 1600 samples, validate on 400 samples\n",
      "Epoch 1/15\n",
      "1600/1600 [==============================] - 10s 6ms/sample - loss: 1.0462 - sparse_categorical_accuracy: 0.8250 - val_loss: 0.5182 - val_sparse_categorical_accuracy: 0.9275\n",
      "Epoch 2/15\n",
      "1600/1600 [==============================] - 1s 583us/sample - loss: 0.5074 - sparse_categorical_accuracy: 0.9237 - val_loss: 0.4616 - val_sparse_categorical_accuracy: 0.9500\n",
      "Epoch 3/15\n",
      "1600/1600 [==============================] - 1s 559us/sample - loss: 0.4505 - sparse_categorical_accuracy: 0.9506 - val_loss: 0.4409 - val_sparse_categorical_accuracy: 0.9500\n",
      "Epoch 4/15\n",
      "1600/1600 [==============================] - 1s 565us/sample - loss: 0.4194 - sparse_categorical_accuracy: 0.9581 - val_loss: 0.4403 - val_sparse_categorical_accuracy: 0.9450\n",
      "Epoch 5/15\n",
      "1600/1600 [==============================] - 1s 598us/sample - loss: 0.4199 - sparse_categorical_accuracy: 0.9525 - val_loss: 0.4185 - val_sparse_categorical_accuracy: 0.9650\n",
      "Epoch 6/15\n",
      "1600/1600 [==============================] - 1s 578us/sample - loss: 0.4150 - sparse_categorical_accuracy: 0.9550 - val_loss: 0.3936 - val_sparse_categorical_accuracy: 0.9700\n",
      "Epoch 7/15\n",
      "1600/1600 [==============================] - 1s 563us/sample - loss: 0.3856 - sparse_categorical_accuracy: 0.9706 - val_loss: 0.3873 - val_sparse_categorical_accuracy: 0.9725\n",
      "Epoch 8/15\n",
      "1600/1600 [==============================] - 1s 517us/sample - loss: 0.3755 - sparse_categorical_accuracy: 0.9700 - val_loss: 0.4075 - val_sparse_categorical_accuracy: 0.9475\n",
      "Epoch 9/15\n",
      "1600/1600 [==============================] - 1s 596us/sample - loss: 0.3638 - sparse_categorical_accuracy: 0.9762 - val_loss: 0.3844 - val_sparse_categorical_accuracy: 0.9750\n",
      "Epoch 10/15\n",
      "1600/1600 [==============================] - 1s 564us/sample - loss: 0.3618 - sparse_categorical_accuracy: 0.9775 - val_loss: 0.3926 - val_sparse_categorical_accuracy: 0.9750\n",
      "Epoch 11/15\n",
      "1600/1600 [==============================] - 1s 554us/sample - loss: 0.3509 - sparse_categorical_accuracy: 0.9819 - val_loss: 0.4014 - val_sparse_categorical_accuracy: 0.9625\n",
      "Epoch 12/15\n",
      "1600/1600 [==============================] - 1s 559us/sample - loss: 0.3528 - sparse_categorical_accuracy: 0.9787 - val_loss: 0.3785 - val_sparse_categorical_accuracy: 0.9675\n",
      "Epoch 13/15\n",
      "1600/1600 [==============================] - 1s 619us/sample - loss: 0.3465 - sparse_categorical_accuracy: 0.9825 - val_loss: 0.3848 - val_sparse_categorical_accuracy: 0.9675\n",
      "Epoch 14/15\n",
      "1600/1600 [==============================] - 1s 579us/sample - loss: 0.3399 - sparse_categorical_accuracy: 0.9844 - val_loss: 0.3927 - val_sparse_categorical_accuracy: 0.9650\n",
      "Epoch 15/15\n",
      "1600/1600 [==============================] - 1s 555us/sample - loss: 0.3462 - sparse_categorical_accuracy: 0.9825 - val_loss: 0.4004 - val_sparse_categorical_accuracy: 0.9600\n"
     ]
    },
    {
     "name": "stderr",
     "output_type": "stream",
     "text": [
      "\n",
      "\n",
      " 57%|█████▋    | 17/30 [10:25<08:18, 38.32s/it]\u001b[A\u001b[A"
     ]
    },
    {
     "name": "stdout",
     "output_type": "stream",
     "text": [
      "0.96 0.008687153577158838 0.0004572934100099932\n",
      "Train on 1600 samples, validate on 400 samples\n",
      "Epoch 1/15\n",
      "1600/1600 [==============================] - 10s 7ms/sample - loss: 1.9921 - sparse_categorical_accuracy: 0.7337 - val_loss: 1.7960 - val_sparse_categorical_accuracy: 0.8800\n",
      "Epoch 2/15\n",
      "1600/1600 [==============================] - 1s 553us/sample - loss: 1.7870 - sparse_categorical_accuracy: 0.8562 - val_loss: 1.7255 - val_sparse_categorical_accuracy: 0.8900\n",
      "Epoch 3/15\n",
      "1600/1600 [==============================] - 1s 558us/sample - loss: 1.7293 - sparse_categorical_accuracy: 0.8819 - val_loss: 1.6955 - val_sparse_categorical_accuracy: 0.8900\n",
      "Epoch 4/15\n",
      "1600/1600 [==============================] - 1s 558us/sample - loss: 1.7003 - sparse_categorical_accuracy: 0.8931 - val_loss: 1.6665 - val_sparse_categorical_accuracy: 0.9050\n",
      "Epoch 5/15\n",
      "1600/1600 [==============================] - 1s 579us/sample - loss: 1.6772 - sparse_categorical_accuracy: 0.8981 - val_loss: 1.6514 - val_sparse_categorical_accuracy: 0.9050\n",
      "Epoch 6/15\n",
      "1600/1600 [==============================] - 1s 554us/sample - loss: 1.6615 - sparse_categorical_accuracy: 0.9081 - val_loss: 1.6388 - val_sparse_categorical_accuracy: 0.9075\n",
      "Epoch 7/15\n",
      "1600/1600 [==============================] - 1s 547us/sample - loss: 1.6477 - sparse_categorical_accuracy: 0.9150 - val_loss: 1.6283 - val_sparse_categorical_accuracy: 0.9125\n",
      "Epoch 8/15\n",
      "1600/1600 [==============================] - 1s 549us/sample - loss: 1.6365 - sparse_categorical_accuracy: 0.9169 - val_loss: 1.6203 - val_sparse_categorical_accuracy: 0.9200\n",
      "Epoch 9/15\n",
      "1600/1600 [==============================] - 1s 566us/sample - loss: 1.6276 - sparse_categorical_accuracy: 0.9181 - val_loss: 1.6127 - val_sparse_categorical_accuracy: 0.9250\n",
      "Epoch 10/15\n",
      "1600/1600 [==============================] - 1s 566us/sample - loss: 1.6177 - sparse_categorical_accuracy: 0.9250 - val_loss: 1.6094 - val_sparse_categorical_accuracy: 0.9250\n",
      "Epoch 11/15\n",
      "1600/1600 [==============================] - 1s 546us/sample - loss: 1.6106 - sparse_categorical_accuracy: 0.9300 - val_loss: 1.5999 - val_sparse_categorical_accuracy: 0.9325\n",
      "Epoch 12/15\n",
      "1600/1600 [==============================] - 1s 570us/sample - loss: 1.6048 - sparse_categorical_accuracy: 0.9319 - val_loss: 1.5956 - val_sparse_categorical_accuracy: 0.9350\n",
      "Epoch 13/15\n",
      "1600/1600 [==============================] - 1s 567us/sample - loss: 1.5987 - sparse_categorical_accuracy: 0.9337 - val_loss: 1.5900 - val_sparse_categorical_accuracy: 0.9350\n",
      "Epoch 14/15\n",
      "1600/1600 [==============================] - 1s 580us/sample - loss: 1.5940 - sparse_categorical_accuracy: 0.9319 - val_loss: 1.5856 - val_sparse_categorical_accuracy: 0.9375\n",
      "Epoch 15/15\n",
      "1600/1600 [==============================] - 1s 565us/sample - loss: 1.5884 - sparse_categorical_accuracy: 0.9356 - val_loss: 1.5821 - val_sparse_categorical_accuracy: 0.9325\n"
     ]
    },
    {
     "name": "stderr",
     "output_type": "stream",
     "text": [
      "\n",
      "\n",
      " 60%|██████    | 18/30 [11:03<07:41, 38.43s/it]\u001b[A\u001b[A"
     ]
    },
    {
     "name": "stdout",
     "output_type": "stream",
     "text": [
      "0.9325 0.00014727909660568834 0.0021719892696524406\n",
      "Train on 1600 samples, validate on 400 samples\n",
      "Epoch 1/15\n",
      "1600/1600 [==============================] - 10s 7ms/sample - loss: 0.4103 - sparse_categorical_accuracy: 0.8313 - val_loss: 0.2515 - val_sparse_categorical_accuracy: 0.9150\n",
      "Epoch 2/15\n",
      "1600/1600 [==============================] - 1s 545us/sample - loss: 0.2440 - sparse_categorical_accuracy: 0.9131 - val_loss: 0.2106 - val_sparse_categorical_accuracy: 0.9300\n",
      "Epoch 3/15\n",
      "1600/1600 [==============================] - 1s 573us/sample - loss: 0.2034 - sparse_categorical_accuracy: 0.9262 - val_loss: 0.1851 - val_sparse_categorical_accuracy: 0.9350\n",
      "Epoch 4/15\n",
      "1600/1600 [==============================] - 1s 562us/sample - loss: 0.1766 - sparse_categorical_accuracy: 0.9406 - val_loss: 0.2171 - val_sparse_categorical_accuracy: 0.9225\n",
      "Epoch 5/15\n",
      "1600/1600 [==============================] - 1s 556us/sample - loss: 0.1623 - sparse_categorical_accuracy: 0.9475 - val_loss: 0.1575 - val_sparse_categorical_accuracy: 0.9525\n",
      "Epoch 6/15\n",
      "1600/1600 [==============================] - 1s 576us/sample - loss: 0.1421 - sparse_categorical_accuracy: 0.9544 - val_loss: 0.1496 - val_sparse_categorical_accuracy: 0.9500\n",
      "Epoch 7/15\n",
      "1600/1600 [==============================] - 1s 577us/sample - loss: 0.1360 - sparse_categorical_accuracy: 0.9588 - val_loss: 0.1490 - val_sparse_categorical_accuracy: 0.9525\n",
      "Epoch 8/15\n",
      "1600/1600 [==============================] - 1s 550us/sample - loss: 0.1222 - sparse_categorical_accuracy: 0.9656 - val_loss: 0.1684 - val_sparse_categorical_accuracy: 0.9400\n",
      "Epoch 9/15\n",
      "1600/1600 [==============================] - 1s 562us/sample - loss: 0.1203 - sparse_categorical_accuracy: 0.9619 - val_loss: 0.1378 - val_sparse_categorical_accuracy: 0.9575\n",
      "Epoch 10/15\n",
      "1600/1600 [==============================] - 1s 559us/sample - loss: 0.1148 - sparse_categorical_accuracy: 0.9619 - val_loss: 0.1329 - val_sparse_categorical_accuracy: 0.9575\n",
      "Epoch 11/15\n",
      "1600/1600 [==============================] - 1s 566us/sample - loss: 0.1089 - sparse_categorical_accuracy: 0.9681 - val_loss: 0.1362 - val_sparse_categorical_accuracy: 0.9450\n",
      "Epoch 12/15\n",
      "1600/1600 [==============================] - 1s 561us/sample - loss: 0.1062 - sparse_categorical_accuracy: 0.9706 - val_loss: 0.1235 - val_sparse_categorical_accuracy: 0.9625\n",
      "Epoch 13/15\n",
      "1600/1600 [==============================] - 1s 573us/sample - loss: 0.0968 - sparse_categorical_accuracy: 0.9725 - val_loss: 0.1200 - val_sparse_categorical_accuracy: 0.9625\n",
      "Epoch 14/15\n",
      "1600/1600 [==============================] - 1s 551us/sample - loss: 0.0936 - sparse_categorical_accuracy: 0.9725 - val_loss: 0.1174 - val_sparse_categorical_accuracy: 0.9650\n",
      "Epoch 15/15\n",
      "1600/1600 [==============================] - 1s 555us/sample - loss: 0.0907 - sparse_categorical_accuracy: 0.9744 - val_loss: 0.1208 - val_sparse_categorical_accuracy: 0.9650\n"
     ]
    },
    {
     "name": "stderr",
     "output_type": "stream",
     "text": [
      "\n",
      "\n",
      " 63%|██████▎   | 19/30 [11:42<07:02, 38.39s/it]\u001b[A\u001b[A"
     ]
    },
    {
     "name": "stdout",
     "output_type": "stream",
     "text": [
      "0.965 0.000930982600371908 2.9151132055724327e-06\n",
      "Train on 1600 samples, validate on 400 samples\n",
      "Epoch 1/15\n",
      "1600/1600 [==============================] - 10s 7ms/sample - loss: 0.5195 - sparse_categorical_accuracy: 0.7994 - val_loss: 0.4135 - val_sparse_categorical_accuracy: 0.8500\n",
      "Epoch 2/15\n",
      "1600/1600 [==============================] - 1s 568us/sample - loss: 0.3956 - sparse_categorical_accuracy: 0.8756 - val_loss: 0.3568 - val_sparse_categorical_accuracy: 0.8800\n",
      "Epoch 3/15\n",
      "1600/1600 [==============================] - 1s 581us/sample - loss: 0.3456 - sparse_categorical_accuracy: 0.8900 - val_loss: 0.3287 - val_sparse_categorical_accuracy: 0.9075\n",
      "Epoch 4/15\n",
      "1600/1600 [==============================] - 1s 568us/sample - loss: 0.3204 - sparse_categorical_accuracy: 0.9062 - val_loss: 0.3080 - val_sparse_categorical_accuracy: 0.9125\n",
      "Epoch 5/15\n",
      "1600/1600 [==============================] - 1s 571us/sample - loss: 0.3004 - sparse_categorical_accuracy: 0.9175 - val_loss: 0.2930 - val_sparse_categorical_accuracy: 0.9225\n",
      "Epoch 6/15\n",
      "1600/1600 [==============================] - 1s 563us/sample - loss: 0.2860 - sparse_categorical_accuracy: 0.9262 - val_loss: 0.2826 - val_sparse_categorical_accuracy: 0.9300\n",
      "Epoch 7/15\n",
      "1600/1600 [==============================] - 1s 556us/sample - loss: 0.2710 - sparse_categorical_accuracy: 0.9294 - val_loss: 0.2710 - val_sparse_categorical_accuracy: 0.9400\n",
      "Epoch 8/15\n",
      "1600/1600 [==============================] - 1s 571us/sample - loss: 0.2597 - sparse_categorical_accuracy: 0.9394 - val_loss: 0.2616 - val_sparse_categorical_accuracy: 0.9400\n",
      "Epoch 9/15\n",
      "1600/1600 [==============================] - 1s 552us/sample - loss: 0.2487 - sparse_categorical_accuracy: 0.9456 - val_loss: 0.2553 - val_sparse_categorical_accuracy: 0.9500\n",
      "Epoch 10/15\n",
      "1600/1600 [==============================] - 1s 566us/sample - loss: 0.2460 - sparse_categorical_accuracy: 0.9406 - val_loss: 0.2546 - val_sparse_categorical_accuracy: 0.9425\n",
      "Epoch 11/15\n",
      "1600/1600 [==============================] - 1s 570us/sample - loss: 0.2378 - sparse_categorical_accuracy: 0.9456 - val_loss: 0.2479 - val_sparse_categorical_accuracy: 0.9425\n",
      "Epoch 12/15\n",
      "1600/1600 [==============================] - 1s 557us/sample - loss: 0.2319 - sparse_categorical_accuracy: 0.9525 - val_loss: 0.2441 - val_sparse_categorical_accuracy: 0.9450\n",
      "Epoch 13/15\n",
      "1600/1600 [==============================] - 1s 568us/sample - loss: 0.2275 - sparse_categorical_accuracy: 0.9544 - val_loss: 0.2330 - val_sparse_categorical_accuracy: 0.9525\n",
      "Epoch 14/15\n",
      "1600/1600 [==============================] - 1s 579us/sample - loss: 0.2212 - sparse_categorical_accuracy: 0.9544 - val_loss: 0.2328 - val_sparse_categorical_accuracy: 0.9500\n",
      "Epoch 15/15\n",
      "1600/1600 [==============================] - 1s 576us/sample - loss: 0.2174 - sparse_categorical_accuracy: 0.9575 - val_loss: 0.2296 - val_sparse_categorical_accuracy: 0.9600\n"
     ]
    },
    {
     "name": "stderr",
     "output_type": "stream",
     "text": [
      "\n",
      "\n",
      " 67%|██████▋   | 20/30 [12:20<06:25, 38.52s/it]\u001b[A\u001b[A"
     ]
    },
    {
     "name": "stdout",
     "output_type": "stream",
     "text": [
      "0.96 0.0003138469368518641 9.251033540233525e-05\n",
      "Train on 1600 samples, validate on 400 samples\n",
      "Epoch 1/15\n",
      "1600/1600 [==============================] - 11s 7ms/sample - loss: 0.7423 - sparse_categorical_accuracy: 0.8025 - val_loss: 0.3172 - val_sparse_categorical_accuracy: 0.9000\n",
      "Epoch 2/15\n",
      "1600/1600 [==============================] - 1s 625us/sample - loss: 0.3172 - sparse_categorical_accuracy: 0.8925 - val_loss: 0.2622 - val_sparse_categorical_accuracy: 0.9250\n",
      "Epoch 3/15\n",
      "1600/1600 [==============================] - 1s 574us/sample - loss: 0.2657 - sparse_categorical_accuracy: 0.9269 - val_loss: 0.2308 - val_sparse_categorical_accuracy: 0.9450\n",
      "Epoch 4/15\n",
      "1600/1600 [==============================] - 1s 564us/sample - loss: 0.2301 - sparse_categorical_accuracy: 0.9413 - val_loss: 0.2169 - val_sparse_categorical_accuracy: 0.9550\n",
      "Epoch 5/15\n",
      "1600/1600 [==============================] - 1s 572us/sample - loss: 0.2217 - sparse_categorical_accuracy: 0.9425 - val_loss: 0.2138 - val_sparse_categorical_accuracy: 0.9525\n",
      "Epoch 6/15\n",
      "1600/1600 [==============================] - 1s 574us/sample - loss: 0.1990 - sparse_categorical_accuracy: 0.9513 - val_loss: 0.1980 - val_sparse_categorical_accuracy: 0.9550\n",
      "Epoch 7/15\n",
      "1600/1600 [==============================] - 1s 557us/sample - loss: 0.1857 - sparse_categorical_accuracy: 0.9581 - val_loss: 0.4748 - val_sparse_categorical_accuracy: 0.8400\n",
      "Epoch 8/15\n",
      "1600/1600 [==============================] - 1s 561us/sample - loss: 0.1922 - sparse_categorical_accuracy: 0.9556 - val_loss: 0.2096 - val_sparse_categorical_accuracy: 0.9475\n",
      "Epoch 9/15\n",
      "1600/1600 [==============================] - 1s 600us/sample - loss: 0.1618 - sparse_categorical_accuracy: 0.9650 - val_loss: 0.2093 - val_sparse_categorical_accuracy: 0.9500\n",
      "Epoch 10/15\n",
      "1600/1600 [==============================] - 1s 574us/sample - loss: 0.1563 - sparse_categorical_accuracy: 0.9638 - val_loss: 0.1651 - val_sparse_categorical_accuracy: 0.9625\n",
      "Epoch 11/15\n",
      "1600/1600 [==============================] - 1s 571us/sample - loss: 0.1573 - sparse_categorical_accuracy: 0.9625 - val_loss: 0.1838 - val_sparse_categorical_accuracy: 0.9600\n",
      "Epoch 12/15\n",
      "1600/1600 [==============================] - 1s 584us/sample - loss: 0.1620 - sparse_categorical_accuracy: 0.9619 - val_loss: 0.1790 - val_sparse_categorical_accuracy: 0.9675\n",
      "Epoch 13/15\n",
      "1600/1600 [==============================] - 1s 579us/sample - loss: 0.1459 - sparse_categorical_accuracy: 0.9725 - val_loss: 0.1651 - val_sparse_categorical_accuracy: 0.9725\n",
      "Epoch 14/15\n",
      "1600/1600 [==============================] - 1s 575us/sample - loss: 0.1396 - sparse_categorical_accuracy: 0.9781 - val_loss: 0.1702 - val_sparse_categorical_accuracy: 0.9600\n",
      "Epoch 15/15\n",
      "1600/1600 [==============================] - 1s 569us/sample - loss: 0.1352 - sparse_categorical_accuracy: 0.9737 - val_loss: 0.1551 - val_sparse_categorical_accuracy: 0.9650\n"
     ]
    },
    {
     "name": "stderr",
     "output_type": "stream",
     "text": [
      "\n",
      "\n"
     ]
    },
    {
     "name": "stdout",
     "output_type": "stream",
     "text": [
      "0.965 0.0018407467308465967 8.265370206297737e-05\n"
     ]
    },
    {
     "name": "stderr",
     "output_type": "stream",
     "text": [
      " 70%|███████   | 21/30 [13:00<05:48, 38.70s/it]\u001b[A\u001b[A"
     ]
    },
    {
     "name": "stdout",
     "output_type": "stream",
     "text": [
      "Train on 1600 samples, validate on 400 samples\n",
      "Epoch 1/15\n",
      "1600/1600 [==============================] - 10s 7ms/sample - loss: 0.5995 - sparse_categorical_accuracy: 0.7663 - val_loss: 0.4467 - val_sparse_categorical_accuracy: 0.8375\n",
      "Epoch 2/15\n",
      "1600/1600 [==============================] - 1s 584us/sample - loss: 0.4351 - sparse_categorical_accuracy: 0.8569 - val_loss: 0.3921 - val_sparse_categorical_accuracy: 0.8650\n",
      "Epoch 3/15\n",
      "1600/1600 [==============================] - 1s 637us/sample - loss: 0.3872 - sparse_categorical_accuracy: 0.8875 - val_loss: 0.3647 - val_sparse_categorical_accuracy: 0.9125\n",
      "Epoch 4/15\n",
      "1600/1600 [==============================] - 1s 565us/sample - loss: 0.3575 - sparse_categorical_accuracy: 0.9075 - val_loss: 0.3398 - val_sparse_categorical_accuracy: 0.9200\n",
      "Epoch 5/15\n",
      "1600/1600 [==============================] - 1s 585us/sample - loss: 0.3374 - sparse_categorical_accuracy: 0.9194 - val_loss: 0.3258 - val_sparse_categorical_accuracy: 0.9200\n",
      "Epoch 6/15\n",
      "1600/1600 [==============================] - 1s 572us/sample - loss: 0.3206 - sparse_categorical_accuracy: 0.9331 - val_loss: 0.3126 - val_sparse_categorical_accuracy: 0.9275\n",
      "Epoch 7/15\n",
      "1600/1600 [==============================] - 1s 623us/sample - loss: 0.3061 - sparse_categorical_accuracy: 0.9381 - val_loss: 0.3022 - val_sparse_categorical_accuracy: 0.9325\n",
      "Epoch 8/15\n",
      "1600/1600 [==============================] - 1s 561us/sample - loss: 0.2962 - sparse_categorical_accuracy: 0.9413 - val_loss: 0.2977 - val_sparse_categorical_accuracy: 0.9375\n",
      "Epoch 9/15\n",
      "1600/1600 [==============================] - 1s 624us/sample - loss: 0.2878 - sparse_categorical_accuracy: 0.9450 - val_loss: 0.2901 - val_sparse_categorical_accuracy: 0.9350\n",
      "Epoch 10/15\n",
      "1600/1600 [==============================] - 1s 540us/sample - loss: 0.2811 - sparse_categorical_accuracy: 0.9450 - val_loss: 0.2802 - val_sparse_categorical_accuracy: 0.9425\n",
      "Epoch 11/15\n",
      "1600/1600 [==============================] - 1s 603us/sample - loss: 0.2726 - sparse_categorical_accuracy: 0.9488 - val_loss: 0.2761 - val_sparse_categorical_accuracy: 0.9425\n",
      "Epoch 12/15\n",
      "1600/1600 [==============================] - 1s 624us/sample - loss: 0.2677 - sparse_categorical_accuracy: 0.9494 - val_loss: 0.2712 - val_sparse_categorical_accuracy: 0.9475\n",
      "Epoch 13/15\n",
      "1600/1600 [==============================] - 1s 635us/sample - loss: 0.2608 - sparse_categorical_accuracy: 0.9550 - val_loss: 0.2653 - val_sparse_categorical_accuracy: 0.9425\n",
      "Epoch 14/15\n",
      "1600/1600 [==============================] - 1s 668us/sample - loss: 0.2567 - sparse_categorical_accuracy: 0.9569 - val_loss: 0.2652 - val_sparse_categorical_accuracy: 0.9400\n",
      "Epoch 15/15\n",
      "1600/1600 [==============================] - 1s 556us/sample - loss: 0.2519 - sparse_categorical_accuracy: 0.9594 - val_loss: 0.2608 - val_sparse_categorical_accuracy: 0.9400\n"
     ]
    },
    {
     "name": "stderr",
     "output_type": "stream",
     "text": [
      "\n",
      "\n",
      " 73%|███████▎  | 22/30 [13:39<05:12, 39.00s/it]\u001b[A\u001b[A"
     ]
    },
    {
     "name": "stdout",
     "output_type": "stream",
     "text": [
      "0.94 0.0003683625420711011 0.00015535705473831014\n",
      "Train on 1600 samples, validate on 400 samples\n",
      "Epoch 1/15\n",
      "1600/1600 [==============================] - 11s 7ms/sample - loss: 0.6027 - sparse_categorical_accuracy: 0.7812 - val_loss: 0.4546 - val_sparse_categorical_accuracy: 0.8900\n",
      "Epoch 2/15\n",
      "1600/1600 [==============================] - 1s 577us/sample - loss: 0.4184 - sparse_categorical_accuracy: 0.8950 - val_loss: 0.3937 - val_sparse_categorical_accuracy: 0.9100\n",
      "Epoch 3/15\n",
      "1600/1600 [==============================] - 1s 569us/sample - loss: 0.3717 - sparse_categorical_accuracy: 0.9219 - val_loss: 0.3473 - val_sparse_categorical_accuracy: 0.9400\n",
      "Epoch 4/15\n",
      "1600/1600 [==============================] - 1s 575us/sample - loss: 0.3427 - sparse_categorical_accuracy: 0.9312 - val_loss: 0.3277 - val_sparse_categorical_accuracy: 0.9475\n",
      "Epoch 5/15\n",
      "1600/1600 [==============================] - 1s 591us/sample - loss: 0.3263 - sparse_categorical_accuracy: 0.9319 - val_loss: 0.3135 - val_sparse_categorical_accuracy: 0.9450\n",
      "Epoch 6/15\n",
      "1600/1600 [==============================] - 1s 572us/sample - loss: 0.3132 - sparse_categorical_accuracy: 0.9381 - val_loss: 0.3060 - val_sparse_categorical_accuracy: 0.9525\n",
      "Epoch 7/15\n",
      "1600/1600 [==============================] - 1s 561us/sample - loss: 0.2997 - sparse_categorical_accuracy: 0.9481 - val_loss: 0.2965 - val_sparse_categorical_accuracy: 0.9575\n",
      "Epoch 8/15\n",
      "1600/1600 [==============================] - 1s 575us/sample - loss: 0.2928 - sparse_categorical_accuracy: 0.9456 - val_loss: 0.2877 - val_sparse_categorical_accuracy: 0.9475\n",
      "Epoch 9/15\n",
      "1600/1600 [==============================] - 1s 586us/sample - loss: 0.2836 - sparse_categorical_accuracy: 0.9538 - val_loss: 0.2944 - val_sparse_categorical_accuracy: 0.9575\n",
      "Epoch 10/15\n",
      "1600/1600 [==============================] - 1s 587us/sample - loss: 0.2805 - sparse_categorical_accuracy: 0.9513 - val_loss: 0.2770 - val_sparse_categorical_accuracy: 0.9475\n",
      "Epoch 11/15\n",
      "1600/1600 [==============================] - 1s 604us/sample - loss: 0.2737 - sparse_categorical_accuracy: 0.9500 - val_loss: 0.2706 - val_sparse_categorical_accuracy: 0.9575\n",
      "Epoch 12/15\n",
      "1600/1600 [==============================] - 1s 572us/sample - loss: 0.2675 - sparse_categorical_accuracy: 0.9588 - val_loss: 0.2685 - val_sparse_categorical_accuracy: 0.9575\n",
      "Epoch 13/15\n",
      "1600/1600 [==============================] - 1s 567us/sample - loss: 0.2628 - sparse_categorical_accuracy: 0.9563 - val_loss: 0.2651 - val_sparse_categorical_accuracy: 0.9550\n",
      "Epoch 14/15\n",
      "1600/1600 [==============================] - 1s 553us/sample - loss: 0.2590 - sparse_categorical_accuracy: 0.9600 - val_loss: 0.2642 - val_sparse_categorical_accuracy: 0.9650\n",
      "Epoch 15/15\n",
      "1600/1600 [==============================] - 1s 556us/sample - loss: 0.2530 - sparse_categorical_accuracy: 0.9644 - val_loss: 0.2582 - val_sparse_categorical_accuracy: 0.9575\n"
     ]
    },
    {
     "name": "stderr",
     "output_type": "stream",
     "text": [
      "\n",
      "\n",
      " 77%|███████▋  | 23/30 [14:18<04:32, 38.98s/it]\u001b[A\u001b[A"
     ]
    },
    {
     "name": "stdout",
     "output_type": "stream",
     "text": [
      "0.9575 0.0005303144059849948 0.0002013468159719442\n",
      "Train on 1600 samples, validate on 400 samples\n",
      "Epoch 1/15\n",
      "1600/1600 [==============================] - 11s 7ms/sample - loss: 0.5673 - sparse_categorical_accuracy: 0.7731 - val_loss: 0.2577 - val_sparse_categorical_accuracy: 0.9100\n",
      "Epoch 2/15\n",
      "1600/1600 [==============================] - 1s 637us/sample - loss: 0.2618 - sparse_categorical_accuracy: 0.9025 - val_loss: 0.2705 - val_sparse_categorical_accuracy: 0.9100\n",
      "Epoch 3/15\n",
      "1600/1600 [==============================] - 1s 577us/sample - loss: 0.2305 - sparse_categorical_accuracy: 0.9175 - val_loss: 0.2044 - val_sparse_categorical_accuracy: 0.9350\n",
      "Epoch 4/15\n",
      "1600/1600 [==============================] - 1s 600us/sample - loss: 0.2000 - sparse_categorical_accuracy: 0.9375 - val_loss: 0.2015 - val_sparse_categorical_accuracy: 0.9450\n",
      "Epoch 5/15\n",
      "1600/1600 [==============================] - 1s 592us/sample - loss: 0.1812 - sparse_categorical_accuracy: 0.9388 - val_loss: 0.1799 - val_sparse_categorical_accuracy: 0.9400\n",
      "Epoch 6/15\n",
      "1600/1600 [==============================] - 1s 599us/sample - loss: 0.1798 - sparse_categorical_accuracy: 0.9394 - val_loss: 0.1575 - val_sparse_categorical_accuracy: 0.9600\n",
      "Epoch 7/15\n",
      "1600/1600 [==============================] - 1s 582us/sample - loss: 0.1588 - sparse_categorical_accuracy: 0.9469 - val_loss: 0.1512 - val_sparse_categorical_accuracy: 0.9525\n",
      "Epoch 8/15\n",
      "1600/1600 [==============================] - 1s 614us/sample - loss: 0.1532 - sparse_categorical_accuracy: 0.9531 - val_loss: 0.1797 - val_sparse_categorical_accuracy: 0.9500\n",
      "Epoch 9/15\n",
      "1600/1600 [==============================] - 1s 617us/sample - loss: 0.1488 - sparse_categorical_accuracy: 0.9531 - val_loss: 0.1427 - val_sparse_categorical_accuracy: 0.9525\n",
      "Epoch 10/15\n",
      "1600/1600 [==============================] - 1s 577us/sample - loss: 0.1406 - sparse_categorical_accuracy: 0.9588 - val_loss: 0.1449 - val_sparse_categorical_accuracy: 0.9525\n",
      "Epoch 11/15\n",
      "1600/1600 [==============================] - 1s 566us/sample - loss: 0.1320 - sparse_categorical_accuracy: 0.9563 - val_loss: 0.1335 - val_sparse_categorical_accuracy: 0.9575\n",
      "Epoch 12/15\n",
      "1600/1600 [==============================] - 1s 560us/sample - loss: 0.1287 - sparse_categorical_accuracy: 0.9606 - val_loss: 0.1294 - val_sparse_categorical_accuracy: 0.9575\n",
      "Epoch 13/15\n",
      "1600/1600 [==============================] - 1s 563us/sample - loss: 0.1233 - sparse_categorical_accuracy: 0.9613 - val_loss: 0.1687 - val_sparse_categorical_accuracy: 0.9525\n",
      "Epoch 14/15\n",
      "1600/1600 [==============================] - 1s 566us/sample - loss: 0.1174 - sparse_categorical_accuracy: 0.9656 - val_loss: 0.1231 - val_sparse_categorical_accuracy: 0.9625\n",
      "Epoch 15/15\n",
      "1600/1600 [==============================] - 1s 557us/sample - loss: 0.1076 - sparse_categorical_accuracy: 0.9681 - val_loss: 0.1245 - val_sparse_categorical_accuracy: 0.9600\n"
     ]
    },
    {
     "name": "stderr",
     "output_type": "stream",
     "text": [
      "\n",
      "\n",
      " 80%|████████  | 24/30 [14:59<03:57, 39.52s/it]\u001b[A\u001b[A"
     ]
    },
    {
     "name": "stdout",
     "output_type": "stream",
     "text": [
      "0.96 0.0009223451932521895 3.0111415005661137e-06\n",
      "Train on 1600 samples, validate on 400 samples\n",
      "Epoch 1/15\n",
      "1600/1600 [==============================] - 10s 7ms/sample - loss: 0.5503 - sparse_categorical_accuracy: 0.7219 - val_loss: 0.3712 - val_sparse_categorical_accuracy: 0.8425\n",
      "Epoch 2/15\n",
      "1600/1600 [==============================] - 1s 635us/sample - loss: 0.3442 - sparse_categorical_accuracy: 0.8619 - val_loss: 0.2981 - val_sparse_categorical_accuracy: 0.8950\n",
      "Epoch 3/15\n",
      "1600/1600 [==============================] - 1s 627us/sample - loss: 0.2877 - sparse_categorical_accuracy: 0.8956 - val_loss: 0.2708 - val_sparse_categorical_accuracy: 0.9125\n",
      "Epoch 4/15\n",
      "1600/1600 [==============================] - 1s 668us/sample - loss: 0.2526 - sparse_categorical_accuracy: 0.9106 - val_loss: 0.2441 - val_sparse_categorical_accuracy: 0.9200\n",
      "Epoch 5/15\n",
      "1600/1600 [==============================] - 1s 579us/sample - loss: 0.2320 - sparse_categorical_accuracy: 0.9200 - val_loss: 0.2245 - val_sparse_categorical_accuracy: 0.9225\n",
      "Epoch 6/15\n",
      "1600/1600 [==============================] - 1s 585us/sample - loss: 0.2164 - sparse_categorical_accuracy: 0.9312 - val_loss: 0.2122 - val_sparse_categorical_accuracy: 0.9275\n",
      "Epoch 7/15\n",
      "1600/1600 [==============================] - 1s 650us/sample - loss: 0.2025 - sparse_categorical_accuracy: 0.9356 - val_loss: 0.2071 - val_sparse_categorical_accuracy: 0.9350\n",
      "Epoch 8/15\n",
      "1600/1600 [==============================] - 1s 716us/sample - loss: 0.1898 - sparse_categorical_accuracy: 0.9413 - val_loss: 0.1972 - val_sparse_categorical_accuracy: 0.9350\n",
      "Epoch 9/15\n",
      "1600/1600 [==============================] - 1s 720us/sample - loss: 0.1829 - sparse_categorical_accuracy: 0.9419 - val_loss: 0.1888 - val_sparse_categorical_accuracy: 0.9350\n",
      "Epoch 10/15\n",
      "1600/1600 [==============================] - 1s 647us/sample - loss: 0.1752 - sparse_categorical_accuracy: 0.9469 - val_loss: 0.1824 - val_sparse_categorical_accuracy: 0.9375\n",
      "Epoch 11/15\n",
      "1600/1600 [==============================] - 1s 625us/sample - loss: 0.1678 - sparse_categorical_accuracy: 0.9481 - val_loss: 0.1785 - val_sparse_categorical_accuracy: 0.9325\n",
      "Epoch 12/15\n",
      "1600/1600 [==============================] - 1s 656us/sample - loss: 0.1616 - sparse_categorical_accuracy: 0.9525 - val_loss: 0.1748 - val_sparse_categorical_accuracy: 0.9475\n",
      "Epoch 13/15\n",
      "1600/1600 [==============================] - 1s 551us/sample - loss: 0.1558 - sparse_categorical_accuracy: 0.9513 - val_loss: 0.1684 - val_sparse_categorical_accuracy: 0.9450\n",
      "Epoch 14/15\n",
      "1600/1600 [==============================] - 1s 642us/sample - loss: 0.1523 - sparse_categorical_accuracy: 0.9550 - val_loss: 0.1702 - val_sparse_categorical_accuracy: 0.9525\n",
      "Epoch 15/15\n",
      "1600/1600 [==============================] - 1s 624us/sample - loss: 0.1453 - sparse_categorical_accuracy: 0.9588 - val_loss: 0.1654 - val_sparse_categorical_accuracy: 0.9425\n"
     ]
    },
    {
     "name": "stderr",
     "output_type": "stream",
     "text": [
      "\n",
      "\n",
      " 83%|████████▎ | 25/30 [15:40<03:20, 40.12s/it]\u001b[A\u001b[A"
     ]
    },
    {
     "name": "stdout",
     "output_type": "stream",
     "text": [
      "0.9425 0.0003796503985833124 1.1087832676170107e-05\n",
      "Train on 1600 samples, validate on 400 samples\n",
      "Epoch 1/15\n",
      "1600/1600 [==============================] - 11s 7ms/sample - loss: 2.2684 - sparse_categorical_accuracy: 0.7487 - val_loss: 2.1475 - val_sparse_categorical_accuracy: 0.8325\n",
      "Epoch 2/15\n",
      "1600/1600 [==============================] - 1s 553us/sample - loss: 2.1164 - sparse_categorical_accuracy: 0.8438 - val_loss: 2.0884 - val_sparse_categorical_accuracy: 0.8500\n",
      "Epoch 3/15\n",
      "1600/1600 [==============================] - 1s 552us/sample - loss: 2.0717 - sparse_categorical_accuracy: 0.8694 - val_loss: 2.0601 - val_sparse_categorical_accuracy: 0.8650\n",
      "Epoch 4/15\n",
      "1600/1600 [==============================] - 1s 560us/sample - loss: 2.0445 - sparse_categorical_accuracy: 0.8825 - val_loss: 2.0402 - val_sparse_categorical_accuracy: 0.8725\n",
      "Epoch 5/15\n",
      "1600/1600 [==============================] - 1s 549us/sample - loss: 2.0221 - sparse_categorical_accuracy: 0.8900 - val_loss: 2.0250 - val_sparse_categorical_accuracy: 0.8825\n",
      "Epoch 6/15\n",
      "1600/1600 [==============================] - 1s 555us/sample - loss: 2.0060 - sparse_categorical_accuracy: 0.9006 - val_loss: 2.0121 - val_sparse_categorical_accuracy: 0.8825\n",
      "Epoch 7/15\n",
      "1600/1600 [==============================] - 1s 549us/sample - loss: 1.9916 - sparse_categorical_accuracy: 0.9038 - val_loss: 2.0053 - val_sparse_categorical_accuracy: 0.8975\n",
      "Epoch 8/15\n",
      "1600/1600 [==============================] - 1s 557us/sample - loss: 1.9821 - sparse_categorical_accuracy: 0.9087 - val_loss: 1.9940 - val_sparse_categorical_accuracy: 0.9050\n",
      "Epoch 9/15\n",
      "1600/1600 [==============================] - 1s 571us/sample - loss: 1.9696 - sparse_categorical_accuracy: 0.9175 - val_loss: 1.9830 - val_sparse_categorical_accuracy: 0.9100\n",
      "Epoch 10/15\n",
      "1600/1600 [==============================] - 1s 639us/sample - loss: 1.9615 - sparse_categorical_accuracy: 0.9250 - val_loss: 1.9750 - val_sparse_categorical_accuracy: 0.9100\n",
      "Epoch 11/15\n",
      "1600/1600 [==============================] - 1s 531us/sample - loss: 1.9525 - sparse_categorical_accuracy: 0.9294 - val_loss: 1.9714 - val_sparse_categorical_accuracy: 0.9125\n",
      "Epoch 12/15\n",
      "1600/1600 [==============================] - 1s 569us/sample - loss: 1.9456 - sparse_categorical_accuracy: 0.9256 - val_loss: 1.9624 - val_sparse_categorical_accuracy: 0.9125\n",
      "Epoch 13/15\n",
      "1600/1600 [==============================] - 1s 560us/sample - loss: 1.9393 - sparse_categorical_accuracy: 0.9312 - val_loss: 1.9568 - val_sparse_categorical_accuracy: 0.9150\n",
      "Epoch 14/15\n",
      "1600/1600 [==============================] - 1s 614us/sample - loss: 1.9331 - sparse_categorical_accuracy: 0.9312 - val_loss: 1.9523 - val_sparse_categorical_accuracy: 0.9125\n",
      "Epoch 15/15\n",
      "1600/1600 [==============================] - 1s 580us/sample - loss: 1.9262 - sparse_categorical_accuracy: 0.9375 - val_loss: 1.9476 - val_sparse_categorical_accuracy: 0.9150\n"
     ]
    },
    {
     "name": "stderr",
     "output_type": "stream",
     "text": [
      "\n",
      "\n",
      " 87%|████████▋ | 26/30 [16:21<02:41, 40.38s/it]\u001b[A\u001b[A"
     ]
    },
    {
     "name": "stdout",
     "output_type": "stream",
     "text": [
      "0.915 0.00010531080419573483 0.002698522479327534\n",
      "Train on 1600 samples, validate on 400 samples\n",
      "Epoch 1/15\n",
      "1600/1600 [==============================] - 11s 7ms/sample - loss: 4.2216 - sparse_categorical_accuracy: 0.8194 - val_loss: 4.1022 - val_sparse_categorical_accuracy: 0.8225\n",
      "Epoch 2/15\n",
      "1600/1600 [==============================] - 1s 597us/sample - loss: 3.9775 - sparse_categorical_accuracy: 0.9137 - val_loss: 3.9302 - val_sparse_categorical_accuracy: 0.9250\n",
      "Epoch 3/15\n",
      "1600/1600 [==============================] - 1s 580us/sample - loss: 3.9171 - sparse_categorical_accuracy: 0.9356 - val_loss: 3.9464 - val_sparse_categorical_accuracy: 0.9175\n",
      "Epoch 4/15\n",
      "1600/1600 [==============================] - 1s 565us/sample - loss: 3.8875 - sparse_categorical_accuracy: 0.9381 - val_loss: 3.8785 - val_sparse_categorical_accuracy: 0.9450\n",
      "Epoch 5/15\n",
      "1600/1600 [==============================] - 1s 553us/sample - loss: 3.8492 - sparse_categorical_accuracy: 0.9513 - val_loss: 3.8457 - val_sparse_categorical_accuracy: 0.9475\n",
      "Epoch 6/15\n",
      "1600/1600 [==============================] - 1s 565us/sample - loss: 3.8181 - sparse_categorical_accuracy: 0.9613 - val_loss: 3.8252 - val_sparse_categorical_accuracy: 0.9600\n",
      "Epoch 7/15\n",
      "1600/1600 [==============================] - 1s 569us/sample - loss: 3.7986 - sparse_categorical_accuracy: 0.9619 - val_loss: 3.8110 - val_sparse_categorical_accuracy: 0.9550\n",
      "Epoch 8/15\n",
      "1600/1600 [==============================] - 1s 530us/sample - loss: 3.7779 - sparse_categorical_accuracy: 0.9663 - val_loss: 3.7954 - val_sparse_categorical_accuracy: 0.9500\n",
      "Epoch 9/15\n",
      "1600/1600 [==============================] - 1s 555us/sample - loss: 3.7695 - sparse_categorical_accuracy: 0.9631 - val_loss: 3.7758 - val_sparse_categorical_accuracy: 0.9525\n",
      "Epoch 10/15\n",
      "1600/1600 [==============================] - 1s 567us/sample - loss: 3.7444 - sparse_categorical_accuracy: 0.9656 - val_loss: 3.7613 - val_sparse_categorical_accuracy: 0.9550\n",
      "Epoch 11/15\n",
      "1600/1600 [==============================] - 1s 556us/sample - loss: 3.7191 - sparse_categorical_accuracy: 0.9750 - val_loss: 3.7497 - val_sparse_categorical_accuracy: 0.9550\n",
      "Epoch 12/15\n",
      "1600/1600 [==============================] - 1s 544us/sample - loss: 3.7217 - sparse_categorical_accuracy: 0.9669 - val_loss: 3.7368 - val_sparse_categorical_accuracy: 0.9525\n",
      "Epoch 13/15\n",
      "1600/1600 [==============================] - 1s 546us/sample - loss: 3.6880 - sparse_categorical_accuracy: 0.9775 - val_loss: 3.7263 - val_sparse_categorical_accuracy: 0.9525\n",
      "Epoch 14/15\n",
      "1600/1600 [==============================] - 1s 548us/sample - loss: 3.6737 - sparse_categorical_accuracy: 0.9787 - val_loss: 3.7043 - val_sparse_categorical_accuracy: 0.9575\n",
      "Epoch 15/15\n",
      "1600/1600 [==============================] - 1s 559us/sample - loss: 3.6659 - sparse_categorical_accuracy: 0.9737 - val_loss: 3.7050 - val_sparse_categorical_accuracy: 0.9600\n"
     ]
    },
    {
     "name": "stderr",
     "output_type": "stream",
     "text": [
      "\n",
      "\n",
      " 90%|█████████ | 27/30 [17:02<02:00, 40.32s/it]\u001b[A\u001b[A"
     ]
    },
    {
     "name": "stdout",
     "output_type": "stream",
     "text": [
      "0.96 0.002693144484606442 0.0058495663103849144\n",
      "Train on 1600 samples, validate on 400 samples\n",
      "Epoch 1/15\n",
      "1600/1600 [==============================] - 11s 7ms/sample - loss: 19.9356 - sparse_categorical_accuracy: 0.8400 - val_loss: 19.7691 - val_sparse_categorical_accuracy: 0.9125\n",
      "Epoch 2/15\n",
      "1600/1600 [==============================] - 1s 557us/sample - loss: 19.7183 - sparse_categorical_accuracy: 0.9087 - val_loss: 19.6376 - val_sparse_categorical_accuracy: 0.9250\n",
      "Epoch 3/15\n",
      "1600/1600 [==============================] - 1s 553us/sample - loss: 19.5813 - sparse_categorical_accuracy: 0.9325 - val_loss: 19.5232 - val_sparse_categorical_accuracy: 0.9350\n",
      "Epoch 4/15\n",
      "1600/1600 [==============================] - 1s 555us/sample - loss: 19.4692 - sparse_categorical_accuracy: 0.9356 - val_loss: 19.4186 - val_sparse_categorical_accuracy: 0.9450\n",
      "Epoch 5/15\n",
      "1600/1600 [==============================] - 1s 553us/sample - loss: 19.3615 - sparse_categorical_accuracy: 0.9481 - val_loss: 19.3110 - val_sparse_categorical_accuracy: 0.9525\n",
      "Epoch 6/15\n",
      "1600/1600 [==============================] - 1s 557us/sample - loss: 19.2547 - sparse_categorical_accuracy: 0.9500 - val_loss: 19.2150 - val_sparse_categorical_accuracy: 0.9525\n",
      "Epoch 7/15\n",
      "1600/1600 [==============================] - 1s 559us/sample - loss: 19.1502 - sparse_categorical_accuracy: 0.9631 - val_loss: 19.1300 - val_sparse_categorical_accuracy: 0.9575\n",
      "Epoch 8/15\n",
      "1600/1600 [==============================] - 1s 569us/sample - loss: 19.0507 - sparse_categorical_accuracy: 0.9619 - val_loss: 19.0650 - val_sparse_categorical_accuracy: 0.9250\n",
      "Epoch 9/15\n",
      "1600/1600 [==============================] - 1s 576us/sample - loss: 18.9575 - sparse_categorical_accuracy: 0.9613 - val_loss: 18.9265 - val_sparse_categorical_accuracy: 0.9550\n",
      "Epoch 10/15\n",
      "1600/1600 [==============================] - 1s 568us/sample - loss: 18.8564 - sparse_categorical_accuracy: 0.9650 - val_loss: 18.8336 - val_sparse_categorical_accuracy: 0.9575\n",
      "Epoch 11/15\n",
      "1600/1600 [==============================] - 1s 572us/sample - loss: 18.7648 - sparse_categorical_accuracy: 0.9638 - val_loss: 18.7404 - val_sparse_categorical_accuracy: 0.9550\n",
      "Epoch 12/15\n",
      "1600/1600 [==============================] - 1s 574us/sample - loss: 18.6691 - sparse_categorical_accuracy: 0.9706 - val_loss: 18.6530 - val_sparse_categorical_accuracy: 0.9600\n",
      "Epoch 13/15\n",
      "1600/1600 [==============================] - 1s 555us/sample - loss: 18.5749 - sparse_categorical_accuracy: 0.9669 - val_loss: 18.5650 - val_sparse_categorical_accuracy: 0.9650\n",
      "Epoch 14/15\n",
      "1600/1600 [==============================] - 1s 568us/sample - loss: 18.4827 - sparse_categorical_accuracy: 0.9719 - val_loss: 18.4949 - val_sparse_categorical_accuracy: 0.9525\n",
      "Epoch 15/15\n",
      "1600/1600 [==============================] - 1s 581us/sample - loss: 18.3939 - sparse_categorical_accuracy: 0.9712 - val_loss: 18.3886 - val_sparse_categorical_accuracy: 0.9575\n"
     ]
    },
    {
     "name": "stderr",
     "output_type": "stream",
     "text": [
      "\n",
      "\n",
      " 93%|█████████▎| 28/30 [17:42<01:20, 40.19s/it]\u001b[A\u001b[A"
     ]
    },
    {
     "name": "stdout",
     "output_type": "stream",
     "text": [
      "0.9575 0.0007849439163576307 0.030694158488986222\n",
      "Train on 1600 samples, validate on 400 samples\n",
      "Epoch 1/15\n",
      "1600/1600 [==============================] - 11s 7ms/sample - loss: 0.8990 - sparse_categorical_accuracy: 0.7763 - val_loss: 0.6448 - val_sparse_categorical_accuracy: 0.8825\n",
      "Epoch 2/15\n",
      "1600/1600 [==============================] - 1s 590us/sample - loss: 0.6090 - sparse_categorical_accuracy: 0.8919 - val_loss: 0.5987 - val_sparse_categorical_accuracy: 0.9125\n",
      "Epoch 3/15\n",
      "1600/1600 [==============================] - 1s 583us/sample - loss: 0.5692 - sparse_categorical_accuracy: 0.9106 - val_loss: 0.5576 - val_sparse_categorical_accuracy: 0.9350\n",
      "Epoch 4/15\n",
      "1600/1600 [==============================] - 1s 574us/sample - loss: 0.5460 - sparse_categorical_accuracy: 0.9281 - val_loss: 0.5502 - val_sparse_categorical_accuracy: 0.9400\n",
      "Epoch 5/15\n",
      "1600/1600 [==============================] - 1s 542us/sample - loss: 0.5196 - sparse_categorical_accuracy: 0.9425 - val_loss: 0.5239 - val_sparse_categorical_accuracy: 0.9475\n",
      "Epoch 6/15\n",
      "1600/1600 [==============================] - 1s 572us/sample - loss: 0.5132 - sparse_categorical_accuracy: 0.9381 - val_loss: 0.5180 - val_sparse_categorical_accuracy: 0.9575\n",
      "Epoch 7/15\n",
      "1600/1600 [==============================] - 1s 550us/sample - loss: 0.5008 - sparse_categorical_accuracy: 0.9513 - val_loss: 0.5159 - val_sparse_categorical_accuracy: 0.9475\n",
      "Epoch 8/15\n",
      "1600/1600 [==============================] - 1s 547us/sample - loss: 0.4876 - sparse_categorical_accuracy: 0.9575 - val_loss: 0.4959 - val_sparse_categorical_accuracy: 0.9550\n",
      "Epoch 9/15\n",
      "1600/1600 [==============================] - 1s 553us/sample - loss: 0.4829 - sparse_categorical_accuracy: 0.9588 - val_loss: 0.4966 - val_sparse_categorical_accuracy: 0.9525\n",
      "Epoch 10/15\n",
      "1600/1600 [==============================] - 1s 551us/sample - loss: 0.4723 - sparse_categorical_accuracy: 0.9600 - val_loss: 0.4928 - val_sparse_categorical_accuracy: 0.9550\n",
      "Epoch 11/15\n",
      "1600/1600 [==============================] - 1s 553us/sample - loss: 0.4634 - sparse_categorical_accuracy: 0.9663 - val_loss: 0.4979 - val_sparse_categorical_accuracy: 0.9500\n",
      "Epoch 12/15\n",
      "1600/1600 [==============================] - 1s 549us/sample - loss: 0.4609 - sparse_categorical_accuracy: 0.9606 - val_loss: 0.4852 - val_sparse_categorical_accuracy: 0.9525\n",
      "Epoch 13/15\n",
      "1600/1600 [==============================] - 1s 554us/sample - loss: 0.4566 - sparse_categorical_accuracy: 0.9644 - val_loss: 0.4867 - val_sparse_categorical_accuracy: 0.9525\n",
      "Epoch 14/15\n",
      "1600/1600 [==============================] - 1s 548us/sample - loss: 0.4493 - sparse_categorical_accuracy: 0.9706 - val_loss: 0.4780 - val_sparse_categorical_accuracy: 0.9575\n",
      "Epoch 15/15\n",
      "1600/1600 [==============================] - 1s 548us/sample - loss: 0.4512 - sparse_categorical_accuracy: 0.9688 - val_loss: 0.4746 - val_sparse_categorical_accuracy: 0.9575\n"
     ]
    },
    {
     "name": "stderr",
     "output_type": "stream",
     "text": [
      "\n",
      "\n",
      " 97%|█████████▋| 29/30 [18:22<00:40, 40.27s/it]\u001b[A\u001b[A"
     ]
    },
    {
     "name": "stdout",
     "output_type": "stream",
     "text": [
      "0.9575 0.000717646963667178 0.0005340962959732322\n",
      "Train on 1600 samples, validate on 400 samples\n",
      "Epoch 1/15\n",
      "1600/1600 [==============================] - 10s 6ms/sample - loss: 0.6731 - sparse_categorical_accuracy: 0.8525 - val_loss: 0.2039 - val_sparse_categorical_accuracy: 0.9250\n",
      "Epoch 2/15\n",
      "1600/1600 [==============================] - 1s 551us/sample - loss: 0.2293 - sparse_categorical_accuracy: 0.9194 - val_loss: 0.1666 - val_sparse_categorical_accuracy: 0.9600\n",
      "Epoch 3/15\n",
      "1600/1600 [==============================] - 1s 553us/sample - loss: 0.1504 - sparse_categorical_accuracy: 0.9500 - val_loss: 0.1207 - val_sparse_categorical_accuracy: 0.9625\n",
      "Epoch 4/15\n",
      "1600/1600 [==============================] - 1s 549us/sample - loss: 0.1443 - sparse_categorical_accuracy: 0.9563 - val_loss: 0.1371 - val_sparse_categorical_accuracy: 0.9525\n",
      "Epoch 5/15\n",
      "1600/1600 [==============================] - 1s 551us/sample - loss: 0.1175 - sparse_categorical_accuracy: 0.9638 - val_loss: 0.1211 - val_sparse_categorical_accuracy: 0.9625\n",
      "Epoch 6/15\n",
      "1600/1600 [==============================] - 1s 549us/sample - loss: 0.1028 - sparse_categorical_accuracy: 0.9669 - val_loss: 0.1043 - val_sparse_categorical_accuracy: 0.9650\n",
      "Epoch 7/15\n",
      "1600/1600 [==============================] - 1s 551us/sample - loss: 0.0826 - sparse_categorical_accuracy: 0.9725 - val_loss: 0.1039 - val_sparse_categorical_accuracy: 0.9725\n",
      "Epoch 8/15\n",
      "1600/1600 [==============================] - 1s 548us/sample - loss: 0.0832 - sparse_categorical_accuracy: 0.9681 - val_loss: 0.1046 - val_sparse_categorical_accuracy: 0.9600\n",
      "Epoch 9/15\n",
      "1600/1600 [==============================] - 1s 546us/sample - loss: 0.0775 - sparse_categorical_accuracy: 0.9719 - val_loss: 0.0954 - val_sparse_categorical_accuracy: 0.9725\n",
      "Epoch 10/15\n",
      "1600/1600 [==============================] - 1s 555us/sample - loss: 0.0605 - sparse_categorical_accuracy: 0.9850 - val_loss: 0.1021 - val_sparse_categorical_accuracy: 0.9625\n",
      "Epoch 11/15\n",
      "1600/1600 [==============================] - 1s 566us/sample - loss: 0.0518 - sparse_categorical_accuracy: 0.9856 - val_loss: 0.1219 - val_sparse_categorical_accuracy: 0.9500\n",
      "Epoch 12/15\n",
      "1600/1600 [==============================] - 1s 605us/sample - loss: 0.0552 - sparse_categorical_accuracy: 0.9825 - val_loss: 0.1001 - val_sparse_categorical_accuracy: 0.9675\n",
      "Epoch 13/15\n",
      "1600/1600 [==============================] - 1s 580us/sample - loss: 0.0531 - sparse_categorical_accuracy: 0.9831 - val_loss: 0.0917 - val_sparse_categorical_accuracy: 0.9700\n",
      "Epoch 14/15\n",
      "1600/1600 [==============================] - 1s 603us/sample - loss: 0.0405 - sparse_categorical_accuracy: 0.9900 - val_loss: 0.0989 - val_sparse_categorical_accuracy: 0.9600\n",
      "Epoch 15/15\n",
      "1600/1600 [==============================] - 1s 546us/sample - loss: 0.0371 - sparse_categorical_accuracy: 0.9919 - val_loss: 0.1004 - val_sparse_categorical_accuracy: 0.9625\n"
     ]
    },
    {
     "name": "stderr",
     "output_type": "stream",
     "text": [
      "\n",
      "\n",
      "100%|██████████| 30/30 [19:01<00:00, 38.04s/it]\u001b[A\u001b[A"
     ]
    },
    {
     "name": "stdout",
     "output_type": "stream",
     "text": [
      "0.9625 0.009169899130199007 5.555899178672394e-06\n"
     ]
    },
    {
     "name": "stderr",
     "output_type": "stream",
     "text": [
      "\n"
     ]
    }
   ],
   "source": [
    "val_acc=[]\n",
    "lrs=[]\n",
    "l2_regs=[]\n",
    "for i in tqdm(range(30)):\n",
    "    lr = 10**np.random.uniform(-2,-4)\n",
    "    l2_reg = 10**np.random.uniform(-6, -1)\n",
    "    model = create_model(num_classes,l2_reg, False, False, 'he_uniform')\n",
    "    model.compile(optimizer=optimizers.SGD(learning_rate=lr),loss='sparse_categorical_crossentropy',metrics=['sparse_categorical_accuracy'])\n",
    "    history = model.fit(X_train,y_train,batch_size=BATCH_SIZE,epochs=15, verbose=1,validation_data=(X_val,y_val))\n",
    "    val_acc.append(history.history['val_sparse_categorical_accuracy'][-1])\n",
    "    lrs.append(lr)\n",
    "    l2_regs.append(l2_reg)\n",
    "    print(history.history['val_sparse_categorical_accuracy'][-1], lr, l2_reg)"
   ]
  },
  {
   "cell_type": "code",
   "execution_count": 101,
   "metadata": {
    "scrolled": true
   },
   "outputs": [],
   "source": [
    "logs=[val_acc,lrs, l2_regs]\n",
    "logs=np.array(logs)\n",
    "# logs=np.sort(logs,axis=0)"
   ]
  },
  {
   "cell_type": "code",
   "execution_count": 102,
   "metadata": {
    "scrolled": true
   },
   "outputs": [
    {
     "data": {
      "text/plain": [
       "array([ 6,  0, 13, 20], dtype=int64)"
      ]
     },
     "execution_count": 102,
     "metadata": {},
     "output_type": "execute_result"
    }
   ],
   "source": [
    "top4=np.argsort(logs[0,:])[::-1][:4]\n",
    "top4"
   ]
  },
  {
   "cell_type": "code",
   "execution_count": 103,
   "metadata": {
    "scrolled": true
   },
   "outputs": [
    {
     "data": {
      "text/plain": [
       "array([[9.72500026e-01, 9.70000029e-01, 9.67499971e-01, 9.64999974e-01],\n",
       "       [5.66494724e-03, 5.77802982e-03, 3.00708412e-03, 1.84074673e-03],\n",
       "       [1.59754284e-04, 1.38677605e-04, 2.74304194e-04, 8.26537021e-05]])"
      ]
     },
     "execution_count": 103,
     "metadata": {},
     "output_type": "execute_result"
    }
   ],
   "source": [
    "logs[:,top4]"
   ]
  },
  {
   "cell_type": "code",
   "execution_count": 104,
   "metadata": {
    "scrolled": true
   },
   "outputs": [],
   "source": [
    "lr, l2_reg = logs[1,top4[0]],logs[2,top4[0]]"
   ]
  },
  {
   "cell_type": "markdown",
   "metadata": {},
   "source": [
    "#### Final Training \n",
    "\n",
    "Now we will train the model using the top performer found using the top performer from the fine search. \n"
   ]
  },
  {
   "cell_type": "code",
   "execution_count": 105,
   "metadata": {
    "scrolled": true
   },
   "outputs": [
    {
     "name": "stdout",
     "output_type": "stream",
     "text": [
      "Train on 1600 samples, validate on 400 samples\n",
      "Epoch 1/50\n",
      "1600/1600 [==============================] - 12s 7ms/sample - loss: 0.6546 - sparse_categorical_accuracy: 0.8594 - val_loss: 0.3865 - val_sparse_categorical_accuracy: 0.8975\n",
      "Epoch 2/50\n",
      "1600/1600 [==============================] - 1s 555us/sample - loss: 0.2827 - sparse_categorical_accuracy: 0.9406 - val_loss: 0.2484 - val_sparse_categorical_accuracy: 0.9575\n",
      "Epoch 3/50\n",
      "1600/1600 [==============================] - 1s 587us/sample - loss: 0.2627 - sparse_categorical_accuracy: 0.9469 - val_loss: 0.2322 - val_sparse_categorical_accuracy: 0.9600\n",
      "Epoch 4/50\n",
      "1600/1600 [==============================] - 1s 541us/sample - loss: 0.2297 - sparse_categorical_accuracy: 0.9600 - val_loss: 0.2210 - val_sparse_categorical_accuracy: 0.9625\n",
      "Epoch 5/50\n",
      "1600/1600 [==============================] - 1s 548us/sample - loss: 0.2146 - sparse_categorical_accuracy: 0.9613 - val_loss: 0.2158 - val_sparse_categorical_accuracy: 0.9600\n",
      "Epoch 6/50\n",
      "1600/1600 [==============================] - 1s 555us/sample - loss: 0.2006 - sparse_categorical_accuracy: 0.9669 - val_loss: 0.2134 - val_sparse_categorical_accuracy: 0.9550\n",
      "Epoch 7/50\n",
      "1600/1600 [==============================] - 1s 580us/sample - loss: 0.1957 - sparse_categorical_accuracy: 0.9712 - val_loss: 0.2280 - val_sparse_categorical_accuracy: 0.9525\n",
      "Epoch 8/50\n",
      "1600/1600 [==============================] - 1s 699us/sample - loss: 0.1812 - sparse_categorical_accuracy: 0.9762 - val_loss: 0.2142 - val_sparse_categorical_accuracy: 0.9600\n",
      "Epoch 9/50\n",
      "1600/1600 [==============================] - 1s 575us/sample - loss: 0.1761 - sparse_categorical_accuracy: 0.9775 - val_loss: 0.2101 - val_sparse_categorical_accuracy: 0.9600\n",
      "Epoch 10/50\n",
      "1600/1600 [==============================] - 1s 537us/sample - loss: 0.1755 - sparse_categorical_accuracy: 0.9762 - val_loss: 0.2186 - val_sparse_categorical_accuracy: 0.9600\n",
      "Epoch 11/50\n",
      "1600/1600 [==============================] - 1s 542us/sample - loss: 0.1633 - sparse_categorical_accuracy: 0.9837 - val_loss: 0.1984 - val_sparse_categorical_accuracy: 0.9625\n",
      "Epoch 12/50\n",
      "1600/1600 [==============================] - 1s 536us/sample - loss: 0.1551 - sparse_categorical_accuracy: 0.9850 - val_loss: 0.2059 - val_sparse_categorical_accuracy: 0.9625\n",
      "Epoch 13/50\n",
      "1600/1600 [==============================] - 1s 641us/sample - loss: 0.1538 - sparse_categorical_accuracy: 0.9837 - val_loss: 0.1995 - val_sparse_categorical_accuracy: 0.9700\n",
      "Epoch 14/50\n",
      "1600/1600 [==============================] - 1s 675us/sample - loss: 0.1454 - sparse_categorical_accuracy: 0.9894 - val_loss: 0.1938 - val_sparse_categorical_accuracy: 0.9625\n",
      "Epoch 15/50\n",
      "1600/1600 [==============================] - 1s 548us/sample - loss: 0.1468 - sparse_categorical_accuracy: 0.9875 - val_loss: 0.1952 - val_sparse_categorical_accuracy: 0.9625\n",
      "Epoch 16/50\n",
      "1600/1600 [==============================] - 1s 548us/sample - loss: 0.1377 - sparse_categorical_accuracy: 0.9937 - val_loss: 0.1996 - val_sparse_categorical_accuracy: 0.9625\n",
      "Epoch 17/50\n",
      "1600/1600 [==============================] - 1s 607us/sample - loss: 0.1389 - sparse_categorical_accuracy: 0.9906 - val_loss: 0.1956 - val_sparse_categorical_accuracy: 0.9650\n",
      "Epoch 18/50\n",
      "1600/1600 [==============================] - 1s 668us/sample - loss: 0.1421 - sparse_categorical_accuracy: 0.9862 - val_loss: 0.1973 - val_sparse_categorical_accuracy: 0.9675\n",
      "Epoch 19/50\n",
      "1600/1600 [==============================] - 1s 582us/sample - loss: 0.1339 - sparse_categorical_accuracy: 0.9937 - val_loss: 0.1940 - val_sparse_categorical_accuracy: 0.9700\n",
      "Epoch 20/50\n",
      "1600/1600 [==============================] - 1s 560us/sample - loss: 0.1356 - sparse_categorical_accuracy: 0.9919 - val_loss: 0.2034 - val_sparse_categorical_accuracy: 0.9600\n",
      "Epoch 21/50\n",
      "1600/1600 [==============================] - 1s 527us/sample - loss: 0.1279 - sparse_categorical_accuracy: 0.9969 - val_loss: 0.2005 - val_sparse_categorical_accuracy: 0.9625\n",
      "Epoch 22/50\n",
      "1600/1600 [==============================] - 1s 567us/sample - loss: 0.1330 - sparse_categorical_accuracy: 0.9919 - val_loss: 0.1968 - val_sparse_categorical_accuracy: 0.9675\n",
      "Epoch 23/50\n",
      "1600/1600 [==============================] - 1s 526us/sample - loss: 0.1251 - sparse_categorical_accuracy: 0.9975 - val_loss: 0.2008 - val_sparse_categorical_accuracy: 0.9600\n",
      "Epoch 24/50\n",
      "1600/1600 [==============================] - 1s 549us/sample - loss: 0.1241 - sparse_categorical_accuracy: 0.9969 - val_loss: 0.2075 - val_sparse_categorical_accuracy: 0.9625\n",
      "Epoch 00024: early stopping\n"
     ]
    }
   ],
   "source": [
    "from tensorflow.keras.callbacks import EarlyStopping\n",
    "es = EarlyStopping(monitor='val_loss', mode='min', verbose=1, patience=10)\n",
    "model = create_model(num_classes,l2_reg, False, False, 'he_uniform')\n",
    "model.compile(optimizer=optimizers.SGD(learning_rate=lr),loss='sparse_categorical_crossentropy',metrics=['sparse_categorical_accuracy'])\n",
    "history = model.fit(X_train,y_train,batch_size=BATCH_SIZE,epochs=50, verbose=1,validation_data=(X_val,y_val), callbacks=[es])"
   ]
  },
  {
   "cell_type": "code",
   "execution_count": 106,
   "metadata": {
    "scrolled": true
   },
   "outputs": [
    {
     "data": {
      "image/png": "[encoded data removed]",
      "text/plain": [
       "<Figure size 432x288 with 1 Axes>"
      ]
     },
     "metadata": {
      "needs_background": "light"
     },
     "output_type": "display_data"
    },
    {
     "data": {
      "image/png": "[encoded data removed]",
      "text/plain": [
       "<Figure size 432x288 with 1 Axes>"
      ]
     },
     "metadata": {
      "needs_background": "light"
     },
     "output_type": "display_data"
    }
   ],
   "source": [
    "plot_curves(history)"
   ]
  },
  {
   "cell_type": "markdown",
   "metadata": {},
   "source": [
    "#### Get predictions and find confusion matrix to get the metrics.  "
   ]
  },
  {
   "cell_type": "code",
   "execution_count": 107,
   "metadata": {
    "scrolled": true
   },
   "outputs": [
    {
     "data": {
      "text/plain": [
       "(<Figure size 648x648 with 1 Axes>,\n",
       " <matplotlib.axes._subplots.AxesSubplot at 0x2b0c6bda908>)"
      ]
     },
     "execution_count": 107,
     "metadata": {},
     "output_type": "execute_result"
    },
    {
     "data": {
      "image/png": "[encoded data removed]",
      "text/plain": [
       "<Figure size 648x648 with 1 Axes>"
      ]
     },
     "metadata": {
      "needs_background": "light"
     },
     "output_type": "display_data"
    }
   ],
   "source": [
    "from mlxtend.plotting import plot_confusion_matrix\n",
    "from sklearn.metrics import confusion_matrix\n",
    "y_pred = model.predict_classes(X_test)\n",
    "mat = confusion_matrix(y_test,y_pred)\n",
    "plot_confusion_matrix(mat,figsize=(9,9), show_normed=True)"
   ]
  },
  {
   "cell_type": "code",
   "execution_count": 108,
   "metadata": {
    "scrolled": true
   },
   "outputs": [
    {
     "name": "stdout",
     "output_type": "stream",
     "text": [
      "              precision    recall  f1-score   support\n",
      "\n",
      "           0       0.90      0.95      0.92        95\n",
      "           1       0.95      0.90      0.93       105\n",
      "\n",
      "    accuracy                           0.93       200\n",
      "   macro avg       0.93      0.93      0.92       200\n",
      "weighted avg       0.93      0.93      0.93       200\n",
      "\n",
      "0.925\n"
     ]
    }
   ],
   "source": [
    "from sklearn.metrics import accuracy_score, confusion_matrix, classification_report\n",
    "\n",
    "print(classification_report(y_pred, y_test))\n",
    "print(accuracy_score(y_pred, y_test))"
   ]
  },
  {
   "cell_type": "code",
   "execution_count": 113,
   "metadata": {},
   "outputs": [],
   "source": [
    "from tensorflow.keras.preprocessing.image import ImageDataGenerator\n",
    "tr_gen = ImageDataGenerator(rotation_range=10, width_shift_range=0.1,\\\n",
    " \theight_shift_range=0.1, shear_range=0.1, zoom_range=0.1,\\\n",
    " \thorizontal_flip=True, fill_mode=\"reflect\")\n",
    "val_gen = ImageDataGenerator()\n",
    "\n",
    "train_datagen = tr_gen.flow(X_train,y_train, batch_size=BATCH_SIZE, shuffle=True)\n",
    "valid_datagen = val_gen.flow(X_val,y_val,batch_size=BATCH_SIZE, shuffle=True)\n",
    "tsdata = ImageDataGenerator()\n",
    "test_datagen = tsdata.flow(X_test,batch_size=BATCH_SIZE, shuffle=False)"
   ]
  },
  {
   "cell_type": "code",
   "execution_count": 115,
   "metadata": {},
   "outputs": [],
   "source": [
    "LR = 5.72852074e-03\n",
    "L2_REG = 4.16020772e-06\n",
    "model = create_model(num_classes,l2_reg, False, True)\n",
    "model.compile(optimizer=optimizers.SGD(learning_rate=lr),loss='sparse_categorical_crossentropy',metrics=['sparse_categorical_accuracy'])"
   ]
  },
  {
   "cell_type": "code",
   "execution_count": 119,
   "metadata": {},
   "outputs": [
    {
     "name": "stdout",
     "output_type": "stream",
     "text": [
      "Epoch 1/50\n",
      "49/50 [============================>.] - ETA: 0s - loss: 0.1392 - sparse_categorical_accuracy: 0.9764Epoch 1/50\n",
      "50/50 [==============================] - 2s 44ms/step - loss: 0.1403 - sparse_categorical_accuracy: 0.9756 - val_loss: 0.1958 - val_sparse_categorical_accuracy: 0.9583\n",
      "Epoch 2/50\n",
      "48/50 [===========================>..] - ETA: 0s - loss: 0.1361 - sparse_categorical_accuracy: 0.9740Epoch 1/50\n",
      "50/50 [==============================] - 2s 43ms/step - loss: 0.1351 - sparse_categorical_accuracy: 0.9744 - val_loss: 0.1386 - val_sparse_categorical_accuracy: 0.9792\n",
      "Epoch 3/50\n",
      "48/50 [===========================>..] - ETA: 0s - loss: 0.1382 - sparse_categorical_accuracy: 0.9759Epoch 1/50\n",
      "50/50 [==============================] - 2s 42ms/step - loss: 0.1370 - sparse_categorical_accuracy: 0.9762 - val_loss: 0.1412 - val_sparse_categorical_accuracy: 0.9740\n",
      "Epoch 4/50\n",
      "48/50 [===========================>..] - ETA: 0s - loss: 0.1401 - sparse_categorical_accuracy: 0.9701Epoch 1/50\n",
      "50/50 [==============================] - 2s 41ms/step - loss: 0.1391 - sparse_categorical_accuracy: 0.9706 - val_loss: 0.1343 - val_sparse_categorical_accuracy: 0.9766\n",
      "Epoch 5/50\n",
      "49/50 [============================>.] - ETA: 0s - loss: 0.1416 - sparse_categorical_accuracy: 0.9700Epoch 1/50\n",
      "50/50 [==============================] - 2s 41ms/step - loss: 0.1402 - sparse_categorical_accuracy: 0.9706 - val_loss: 0.1421 - val_sparse_categorical_accuracy: 0.9714\n",
      "Epoch 6/50\n",
      "48/50 [===========================>..] - ETA: 0s - loss: 0.1294 - sparse_categorical_accuracy: 0.9779Epoch 1/50\n",
      "50/50 [==============================] - 2s 43ms/step - loss: 0.1276 - sparse_categorical_accuracy: 0.9787 - val_loss: 0.1310 - val_sparse_categorical_accuracy: 0.9818\n",
      "Epoch 7/50\n",
      "48/50 [===========================>..] - ETA: 0s - loss: 0.1294 - sparse_categorical_accuracy: 0.9753Epoch 1/50\n",
      "50/50 [==============================] - 2s 42ms/step - loss: 0.1306 - sparse_categorical_accuracy: 0.9756 - val_loss: 0.1319 - val_sparse_categorical_accuracy: 0.9792\n",
      "Epoch 8/50\n",
      "48/50 [===========================>..] - ETA: 0s - loss: 0.1323 - sparse_categorical_accuracy: 0.9779Epoch 1/50\n",
      "50/50 [==============================] - 2s 43ms/step - loss: 0.1302 - sparse_categorical_accuracy: 0.9787 - val_loss: 0.1403 - val_sparse_categorical_accuracy: 0.9766\n",
      "Epoch 9/50\n",
      "48/50 [===========================>..] - ETA: 0s - loss: 0.1267 - sparse_categorical_accuracy: 0.9759Epoch 1/50\n",
      "50/50 [==============================] - 2s 42ms/step - loss: 0.1250 - sparse_categorical_accuracy: 0.9769 - val_loss: 0.1411 - val_sparse_categorical_accuracy: 0.9714\n",
      "Epoch 10/50\n",
      "48/50 [===========================>..] - ETA: 0s - loss: 0.1204 - sparse_categorical_accuracy: 0.9818Epoch 1/50\n",
      "50/50 [==============================] - 2s 42ms/step - loss: 0.1188 - sparse_categorical_accuracy: 0.9825 - val_loss: 0.1333 - val_sparse_categorical_accuracy: 0.9766\n",
      "Epoch 11/50\n",
      "48/50 [===========================>..] - ETA: 0s - loss: 0.1153 - sparse_categorical_accuracy: 0.9818Epoch 1/50\n",
      "50/50 [==============================] - 2s 42ms/step - loss: 0.1169 - sparse_categorical_accuracy: 0.9812 - val_loss: 0.1409 - val_sparse_categorical_accuracy: 0.9740\n",
      "Epoch 12/50\n",
      "48/50 [===========================>..] - ETA: 0s - loss: 0.1255 - sparse_categorical_accuracy: 0.9766Epoch 1/50\n",
      "50/50 [==============================] - 2s 40ms/step - loss: 0.1250 - sparse_categorical_accuracy: 0.9775 - val_loss: 0.1557 - val_sparse_categorical_accuracy: 0.9714\n",
      "Epoch 13/50\n",
      "49/50 [============================>.] - ETA: 0s - loss: 0.1228 - sparse_categorical_accuracy: 0.9790Epoch 1/50\n",
      "50/50 [==============================] - 2s 41ms/step - loss: 0.1226 - sparse_categorical_accuracy: 0.9794 - val_loss: 0.1287 - val_sparse_categorical_accuracy: 0.9766\n",
      "Epoch 14/50\n",
      "48/50 [===========================>..] - ETA: 0s - loss: 0.1181 - sparse_categorical_accuracy: 0.9818Epoch 1/50\n",
      "50/50 [==============================] - 2s 40ms/step - loss: 0.1170 - sparse_categorical_accuracy: 0.9825 - val_loss: 0.1298 - val_sparse_categorical_accuracy: 0.9844\n",
      "Epoch 15/50\n",
      "48/50 [===========================>..] - ETA: 0s - loss: 0.1241 - sparse_categorical_accuracy: 0.9779Epoch 1/50\n",
      "50/50 [==============================] - 2s 40ms/step - loss: 0.1235 - sparse_categorical_accuracy: 0.9781 - val_loss: 0.1440 - val_sparse_categorical_accuracy: 0.9714\n",
      "Epoch 16/50\n",
      "48/50 [===========================>..] - ETA: 0s - loss: 0.1161 - sparse_categorical_accuracy: 0.9818Epoch 1/50\n",
      "50/50 [==============================] - 2s 43ms/step - loss: 0.1155 - sparse_categorical_accuracy: 0.9819 - val_loss: 0.1418 - val_sparse_categorical_accuracy: 0.9766\n",
      "Epoch 17/50\n",
      "48/50 [===========================>..] - ETA: 0s - loss: 0.1157 - sparse_categorical_accuracy: 0.9818Epoch 1/50\n",
      "50/50 [==============================] - 2s 43ms/step - loss: 0.1143 - sparse_categorical_accuracy: 0.9825 - val_loss: 0.1308 - val_sparse_categorical_accuracy: 0.9766\n",
      "Epoch 18/50\n",
      "48/50 [===========================>..] - ETA: 0s - loss: 0.1081 - sparse_categorical_accuracy: 0.9863Epoch 1/50\n",
      "50/50 [==============================] - 2s 40ms/step - loss: 0.1081 - sparse_categorical_accuracy: 0.9869 - val_loss: 0.1345 - val_sparse_categorical_accuracy: 0.9740\n",
      "Epoch 19/50\n",
      "48/50 [===========================>..] - ETA: 0s - loss: 0.1167 - sparse_categorical_accuracy: 0.9785Epoch 1/50\n",
      "50/50 [==============================] - 2s 40ms/step - loss: 0.1156 - sparse_categorical_accuracy: 0.9794 - val_loss: 0.1453 - val_sparse_categorical_accuracy: 0.9714\n",
      "Epoch 20/50\n",
      "48/50 [===========================>..] - ETA: 0s - loss: 0.1097 - sparse_categorical_accuracy: 0.9824Epoch 1/50\n",
      "50/50 [==============================] - 2s 43ms/step - loss: 0.1102 - sparse_categorical_accuracy: 0.9819 - val_loss: 0.1316 - val_sparse_categorical_accuracy: 0.9714\n",
      "Epoch 21/50\n",
      "48/50 [===========================>..] - ETA: 0s - loss: 0.1117 - sparse_categorical_accuracy: 0.9837Epoch 1/50\n",
      "50/50 [==============================] - 2s 43ms/step - loss: 0.1106 - sparse_categorical_accuracy: 0.9844 - val_loss: 0.1318 - val_sparse_categorical_accuracy: 0.9740\n",
      "Epoch 22/50\n",
      "48/50 [===========================>..] - ETA: 0s - loss: 0.1237 - sparse_categorical_accuracy: 0.9720Epoch 1/50\n",
      "50/50 [==============================] - 2s 40ms/step - loss: 0.1219 - sparse_categorical_accuracy: 0.9731 - val_loss: 0.1346 - val_sparse_categorical_accuracy: 0.9740\n",
      "Epoch 23/50\n",
      "48/50 [===========================>..] - ETA: 0s - loss: 0.1079 - sparse_categorical_accuracy: 0.9824Epoch 1/50\n",
      "50/50 [==============================] - 2s 41ms/step - loss: 0.1086 - sparse_categorical_accuracy: 0.9825 - val_loss: 0.1381 - val_sparse_categorical_accuracy: 0.9740\n",
      "Epoch 00023: early stopping\n"
     ]
    }
   ],
   "source": [
    "hist = model.fit_generator(train_datagen,steps_per_epoch=train_datagen.n//train_datagen.batch_size,epochs=50,\\\n",
    "                           validation_data=valid_datagen, validation_steps=valid_datagen.n//valid_datagen.batch_size\\\n",
    "                              , callbacks=[es])"
   ]
  },
  {
   "cell_type": "code",
   "execution_count": 120,
   "metadata": {},
   "outputs": [
    {
     "data": {
      "image/png": "[encoded data removed]",
      "text/plain": [
       "<Figure size 432x288 with 1 Axes>"
      ]
     },
     "metadata": {
      "needs_background": "light"
     },
     "output_type": "display_data"
    },
    {
     "data": {
      "image/png": "[encoded data removed]",
      "text/plain": [
       "<Figure size 432x288 with 1 Axes>"
      ]
     },
     "metadata": {
      "needs_background": "light"
     },
     "output_type": "display_data"
    }
   ],
   "source": [
    "plot_curves(history)"
   ]
  },
  {
   "cell_type": "code",
   "execution_count": 121,
   "metadata": {},
   "outputs": [
    {
     "name": "stdout",
     "output_type": "stream",
     "text": [
      "              precision    recall  f1-score   support\n",
      "\n",
      "           0       0.96      0.93      0.95       103\n",
      "           1       0.93      0.96      0.94        97\n",
      "\n",
      "    accuracy                           0.94       200\n",
      "   macro avg       0.95      0.95      0.94       200\n",
      "weighted avg       0.95      0.94      0.95       200\n",
      "\n",
      "0.945\n"
     ]
    },
    {
     "data": {
      "image/png": "[encoded data removed]",
      "text/plain": [
       "<Figure size 648x648 with 1 Axes>"
      ]
     },
     "metadata": {
      "needs_background": "light"
     },
     "output_type": "display_data"
    }
   ],
   "source": [
    "y_pred = model.predict_classes(X_test)\n",
    "mat = confusion_matrix(y_test,y_pred)\n",
    "plot_confusion_matrix(mat,figsize=(9,9), show_normed=True)\n",
    "print(classification_report(y_pred, y_test))\n",
    "print(accuracy_score(y_pred, y_test))"
   ]
  }
 ],
 "metadata": {
  "colab": {
   "collapsed_sections": [],
   "name": "NN_competition.ipynb",
   "provenance": []
  },
  "kernelspec": {
   "display_name": "Python 3",
   "language": "python",
   "name": "python3"
  },
  "language_info": {
   "codemirror_mode": {
    "name": "ipython",
    "version": 3
   },
   "file_extension": ".py",
   "mimetype": "text/x-python",
   "name": "python",
   "nbconvert_exporter": "python",
   "pygments_lexer": "ipython3",
   "version": "3.6.10"
  }
 },
 "nbformat": 4,
 "nbformat_minor": 1
}
